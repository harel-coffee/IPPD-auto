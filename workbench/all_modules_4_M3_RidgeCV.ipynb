{
 "cells": [
  {
   "cell_type": "code",
   "execution_count": 1,
   "metadata": {
    "collapsed": false
   },
   "outputs": [],
   "source": [
    "# Read Back\n",
    "import pickle\n",
    "\n",
    "with open('datasetIPPD.pickle', 'rb') as handle:\n",
    "    data = pickle.load(handle)"
   ]
  },
  {
   "cell_type": "code",
   "execution_count": 2,
   "metadata": {
    "collapsed": false
   },
   "outputs": [
    {
     "data": {
      "text/plain": [
       "dict_keys(['X_train', 'y_train', 'X_test', 'y_test'])"
      ]
     },
     "execution_count": 2,
     "metadata": {},
     "output_type": "execute_result"
    }
   ],
   "source": [
    "data.keys()"
   ]
  },
  {
   "cell_type": "code",
   "execution_count": 3,
   "metadata": {
    "collapsed": false
   },
   "outputs": [
    {
     "data": {
      "text/plain": [
       "(256, 65)"
      ]
     },
     "execution_count": 3,
     "metadata": {},
     "output_type": "execute_result"
    }
   ],
   "source": [
    "X_train = data['X_train']\n",
    "y_train = data['y_train']\n",
    "\n",
    "X_test = data['X_test']\n",
    "y_test = data['y_test']\n",
    "\n",
    "len(y_train), len(y_test)"
   ]
  },
  {
   "cell_type": "markdown",
   "metadata": {
    "collapsed": true
   },
   "source": [
    "<h1> Model 3 : RidgeCV </h1>"
   ]
  },
  {
   "cell_type": "code",
   "execution_count": 41,
   "metadata": {
    "collapsed": false
   },
   "outputs": [
    {
     "name": "stdout",
     "output_type": "stream",
     "text": [
      "Automatically created module for IPython interactive environment\n"
     ]
    }
   ],
   "source": [
    "from __future__ import print_function\n",
    "print(__doc__)\n",
    "\n",
    "import numpy as np\n",
    "from sklearn.linear_model import RidgeCV\n",
    "\n",
    "alphas = np.logspace(-1, 0.7, 100)"
   ]
  },
  {
   "cell_type": "code",
   "execution_count": 42,
   "metadata": {
    "collapsed": false
   },
   "outputs": [
    {
     "data": {
      "text/plain": [
       "array([ 0.1       ,  0.10403314,  0.10822895,  0.11259397,  0.11713505,\n",
       "        0.12185927,  0.12677403,  0.13188701,  0.1372062 ,  0.14273992,\n",
       "        0.14849683,  0.15448591,  0.16071655,  0.16719848,  0.17394183,\n",
       "        0.18095715,  0.18825541,  0.19584802,  0.20374685,  0.21196425,\n",
       "        0.22051307,  0.22940668,  0.23865898,  0.24828444,  0.2582981 ,\n",
       "        0.26871563,  0.27955331,  0.2908281 ,  0.30255761,  0.31476019,\n",
       "        0.32745492,  0.34066164,  0.35440101,  0.36869451,  0.38356448,\n",
       "        0.39903418,  0.4151278 ,  0.4318705 ,  0.44928845,  0.46740889,\n",
       "        0.48626016,  0.50587172,  0.52627425,  0.54749964,  0.56958108,\n",
       "        0.5925531 ,  0.61645161,  0.64131398,  0.66717909,  0.69408737,\n",
       "        0.7220809 ,  0.75120345,  0.78150056,  0.81301959,  0.84580983,\n",
       "        0.87992254,  0.91541107,  0.95233091,  0.99073977,  1.03069771,\n",
       "        1.07226722,  1.11551329,  1.16050353,  1.20730829,  1.25600075,\n",
       "        1.30665705,  1.35935639,  1.41418117,  1.47121711,  1.53055339,\n",
       "        1.59228279,  1.65650183,  1.72331091,  1.79281449,  1.86512125,\n",
       "        1.94034425,  2.0186011 ,  2.10001416,  2.18471072,  2.27282321,\n",
       "        2.36448941,  2.45985264,  2.559062  ,  2.66227262,  2.76964586,\n",
       "        2.88134963,  2.99755856,  3.11845437,  3.24422608,  3.37507034,\n",
       "        3.51119173,  3.6528031 ,  3.80012585,  3.95339034,  4.11283621,\n",
       "        4.27871275,  4.45127933,  4.63080577,  4.81757276,  5.01187234])"
      ]
     },
     "execution_count": 42,
     "metadata": {},
     "output_type": "execute_result"
    }
   ],
   "source": [
    "alphas"
   ]
  },
  {
   "cell_type": "markdown",
   "metadata": {
    "collapsed": true
   },
   "source": [
    "#M1\n",
    "lasso_cv = LassoCV(alphas=alphas, random_state=0, eps=0.001, n_alphas=1000, fit_intercept=True, \n",
    "                   normalize=False, precompute='auto', max_iter=100000000, \n",
    "                   tol=0.0001, copy_X=True, cv=None, verbose=False, n_jobs=-1, \n",
    "                   positive=False, selection='cyclic')"
   ]
  },
  {
   "cell_type": "markdown",
   "metadata": {
    "collapsed": true
   },
   "source": [
    "#M2\n",
    "model = ElasticNetCV(alphas=alphas, random_state=0, l1_ratio=ratio, eps=0.001, n_alphas=100, fit_intercept=True, \n",
    "                     normalize=False, precompute='auto', max_iter=100000000, \n",
    "                     tol=0.0001, cv=None, copy_X=True, verbose=0, n_jobs=-1, \n",
    "                     positive=False, selection='cyclic')"
   ]
  },
  {
   "cell_type": "code",
   "execution_count": 43,
   "metadata": {
    "collapsed": false
   },
   "outputs": [],
   "source": [
    "#M3\n",
    "model = RidgeCV(alphas=alphas, fit_intercept=True, \n",
    "        normalize=False, scoring=None, cv=None, \n",
    "        gcv_mode='auto', store_cv_values=False)"
   ]
  },
  {
   "cell_type": "code",
   "execution_count": 44,
   "metadata": {
    "collapsed": false
   },
   "outputs": [
    {
     "name": "stdout",
     "output_type": "stream",
     "text": [
      "[alpha: 5.01187, score: 0.83592\n"
     ]
    }
   ],
   "source": [
    "model.fit(X_train, y_train)\n",
    "\n",
    "print(\"[alpha: {0:.5f}, score: {1:.5f}\".\n",
    "          format(model.alpha_, model.score(X_test, y_test)))"
   ]
  },
  {
   "cell_type": "code",
   "execution_count": 50,
   "metadata": {
    "collapsed": false
   },
   "outputs": [
    {
     "name": "stdout",
     "output_type": "stream",
     "text": [
      "(used for picking best model) Training Error after CV : 439.442956\n"
     ]
    }
   ],
   "source": [
    "y_predict = model.predict(X_train)\n",
    "rmse_model = np.sqrt(mean_squared_error(y_train, y_predict))\n",
    "print(\"(used for picking best model) Training Error after CV : %f\" % rmse_model)"
   ]
  },
  {
   "cell_type": "code",
   "execution_count": 52,
   "metadata": {
    "collapsed": false
   },
   "outputs": [
    {
     "name": "stdout",
     "output_type": "stream",
     "text": [
      "(for reporting only) Test Error once optimal model is picked by CV : 355.114709\n"
     ]
    }
   ],
   "source": [
    "from sklearn.metrics import mean_squared_error\n",
    "\n",
    "y_predict = model.predict(X_test) #Reduce X to the selected features and then predict using the underlying estimator.\n",
    "rmse_model = np.sqrt(mean_squared_error(y_test, y_predict))\n",
    "print(\"(for reporting only) Test Error once optimal model is picked by CV : %f\" % rmse_model)"
   ]
  },
  {
   "cell_type": "code",
   "execution_count": null,
   "metadata": {
    "collapsed": true
   },
   "outputs": [],
   "source": []
  },
  {
   "cell_type": "code",
   "execution_count": null,
   "metadata": {
    "collapsed": true
   },
   "outputs": [],
   "source": []
  }
 ],
 "metadata": {
  "anaconda-cloud": {},
  "kernelspec": {
   "display_name": "Python 3",
   "language": "python",
   "name": "python3"
  },
  "language_info": {
   "codemirror_mode": {
    "name": "ipython",
    "version": 3
   },
   "file_extension": ".py",
   "mimetype": "text/x-python",
   "name": "python",
   "nbconvert_exporter": "python",
   "pygments_lexer": "ipython3",
   "version": "3.6.0"
  }
 },
 "nbformat": 4,
 "nbformat_minor": 0
}
