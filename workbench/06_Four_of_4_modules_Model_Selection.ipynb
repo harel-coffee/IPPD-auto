{
 "cells": [
  {
   "cell_type": "code",
   "execution_count": 1,
   "metadata": {
    "collapsed": false
   },
   "outputs": [
    {
     "name": "stdout",
     "output_type": "stream",
     "text": [
      "\n"
     ]
    }
   ],
   "source": [
    "# import all the filenames\n",
    "from allfunctions import *"
   ]
  },
  {
   "cell_type": "code",
   "execution_count": 2,
   "metadata": {
    "collapsed": false
   },
   "outputs": [],
   "source": [
    "%load_ext autoreload\n",
    "%autoreload 2"
   ]
  },
  {
   "cell_type": "markdown",
   "metadata": {},
   "source": [
    "1  def LassoCVModel(filename):\n",
    "\n",
    "2  def OMPCVModel(filename):\n",
    "\n",
    "3  def RidgeCVModel(filename):\n",
    "\n",
    "4  def ElasticNetCVModel(filename):\n",
    "\n",
    "5  def GradientBoostingCVModel(filename):\n",
    "\n",
    "6  def RandomForestCVModel(filename):\n",
    "\n",
    "7  def SVRSigmoidCVModel(filename):\n",
    "\n",
    "8 def SVRRbfCVModel(filename):"
   ]
  },
  {
   "cell_type": "code",
   "execution_count": 3,
   "metadata": {
    "collapsed": false
   },
   "outputs": [],
   "source": [
    "def wrapper(functionList = [], filenames = [ 'datasetIPPD.pickle' ]):\n",
    "    if __name__ == '__main__':\n",
    "        global model_selection\n",
    "                \n",
    "        model_selection = {}\n",
    "        \n",
    "        for f in functionList:\n",
    "            print()\n",
    "            for filename in filenames:\n",
    "                out = f(filename)\n",
    "                newScore = out[filename]['train_rmse_cv_picking']\n",
    "\n",
    "                if f in model_selection:\n",
    "                    #compare scores and select more accurate model\n",
    "                    oldScore = model_selection[f]['train_rmse_cv_picking']\n",
    "                    if(newScore < oldScore):\n",
    "                        print(\"【【【】】】switching models for %s...\" % filename)\n",
    "                        print(\"【【【】】】newScore: %f < oldScore: %f\" % (newScore, oldScore))\n",
    "                        print(\"【【【】】】newModel: %s \\n\" % f)\n",
    "                        print(100*'_')\n",
    "                        model_selection[f] = out[filename]\n",
    "                else:\n",
    "                    #no score to compare\n",
    "                    print(\"【【】】adding new model for %s \\n\" % filename)\n",
    "                    print(\"【【【】】】newScore: %f \" % (newScore))\n",
    "                    print(100*'_')\n",
    "                    model_selection[f] = out[filename]\n",
    "    return model_selection"
   ]
  },
  {
   "cell_type": "markdown",
   "metadata": {},
   "source": [
    "<:>:<:>:<:>:<:>:<:>:<:>:<:>:<:>:<:>:<:>:<:>:<:>:<:>:<:>:<:><:>:<:>:<:>:<:>:<:>:<:>:<:>:<:>:<:>:<:>:<:>:<:>:<:>:<:>:<:>\n",
    "<:>:<:>:<:>:<:>:<:>:<:>:<:>:<:>:<:>:<:>:<:>:<:>:<:>:<:>:<:><:>:<:>:<:>:<:>:<:>:<:>:<:>:<:>:<:>:<:>:<:>:<:>:<:>:<:>:<:>\n",
    "<:>:<:>:<:>:<:>:<:>:<:>:<:>:<:>:<:>:<:>:<:>:<:>:<:>:<:>:<:><:>:<:>:<:>:<:>:<:>:<:>:<:>:<:>:<:>:<:>:<:>:<:>:<:>:<:>:<:>\n",
    "<:>:<:>:<:>:<:>:<:>:<:>:<:>:<:>:<:>:<:>:<:>:<:>:<:>:<:>:<:><:>:<:>:<:>:<:>:<:>:<:>:<:>:<:>:<:>:<:>:<:>:<:>:<:>:<:>:<:>\n"
   ]
  },
  {
   "cell_type": "markdown",
   "metadata": {},
   "source": [
    "# 1"
   ]
  },
  {
   "cell_type": "markdown",
   "metadata": {},
   "source": [
    "# LassoCVModel"
   ]
  },
  {
   "cell_type": "code",
   "execution_count": 4,
   "metadata": {
    "collapsed": false,
    "scrolled": true
   },
   "outputs": [],
   "source": [
    "########################### Test Lasso with Scaling ###########################\n",
    "# the L1 and L2 regularizers of linear models) assume that all features are \n",
    "# centered around 0 and have variance in the same order"
   ]
  },
  {
   "cell_type": "code",
   "execution_count": 6,
   "metadata": {
    "collapsed": false
   },
   "outputs": [
    {
     "name": "stdout",
     "output_type": "stream",
     "text": [
      "\n",
      "\n",
      "{{ scale_this: >>>>>>>>>>>>>>>>>>>>>>>>>>>>>>>>>>>>>>>>> Scaling X_train and X_test... }}\n",
      "\n",
      "Dataset size read: train 258 and test 63 \n",
      "\n",
      "# Tuning hyper-parameters \n",
      "\n",
      "Starting grdsurch.fit(X_train, y_train)\n",
      "\n",
      "Best parameters set found on development set:\n",
      "\n",
      "{'alpha': 0.00071968567300115217, 'precompute': True}\n",
      "Lasso(alpha=0.00071968567300115217, copy_X=True, fit_intercept=True,\n",
      "   max_iter=10000000.0, normalize=False, positive=False, precompute=True,\n",
      "   random_state=None, selection='random', tol=1e-06, warm_start=False)\n",
      "\n",
      "Full Test Set: 63\n"
     ]
    },
    {
     "data": {
      "text/plain": [
       "array([   21.8 ,    45.82,   173.64,   166.8 ,    67.96,   120.19,\n",
       "        2210.97,  1732.64,  2201.04,  2184.34,  1721.38,  2024.25,\n",
       "        3153.06,  2752.13,  3167.66,  3040.59,  2461.26,  3444.3 ,\n",
       "        1332.03,  1620.72,  1895.33,  2396.68,  2472.15,  1423.13,\n",
       "        2308.37,  2083.07,   996.42,   298.03,  1688.15,  2674.81,\n",
       "        2270.37,  1688.66,  1870.14,  1868.49,   695.76,  3621.04,\n",
       "        2828.23,   299.12,   693.29,  1358.2 ,  1083.5 ,  2659.86,\n",
       "        1073.56,   697.69,  2239.73,  1333.42,  2241.22,  1141.32,\n",
       "         810.75,  1135.84,   738.16,   216.58,   823.05,  2230.04,\n",
       "        1780.16,   198.71,   801.4 ,  2436.08,  1623.84,   504.45,\n",
       "         503.45,  2470.53,  1462.69])"
      ]
     },
     "metadata": {},
     "output_type": "display_data"
    },
    {
     "data": {
      "text/plain": [
       "array([ -783.90306303,  -502.59523913,   706.59748548,   678.72790239,\n",
       "        -264.69571075,   193.08130427,  2386.28623258,  2413.68155142,\n",
       "        2400.22102412,  2414.15581567,  2399.74675987,  2413.91868354,\n",
       "        2414.83757054,  2400.69528838,  2373.27032803,  2400.90277899,\n",
       "        2400.45815625,  2415.07470267,  2399.50378049,  2399.74675987,\n",
       "        2386.04910045,  2372.58857316,  2414.3929478 ,  2385.56898894,\n",
       "        2400.22102412,  2262.02052915,  1050.38736315,   270.31751492,\n",
       "        1867.43266818,  2612.32068619,  2262.02052915,  1458.91001567,\n",
       "        1839.56308509,  1867.43266818,   675.8048762 ,  3020.84333871,\n",
       "        2992.97375562,   256.38272338,   689.73966775,  1458.91001567,\n",
       "        1050.38736315,  2584.4511031 ,  1036.4525716 ,   661.87008466,\n",
       "        2109.55230381,  1367.14761508,  2095.61751226,  1124.32431602,\n",
       "         923.30539161,  1152.19389912,   895.43580851,   431.96762242,\n",
       "         881.50101697,  2137.4218869 ,  1651.77528878,   390.16324778,\n",
       "         895.43580851,  2137.4218869 ,  1623.90570569,   656.94344982,\n",
       "         629.07386672,  2109.55230381,  1381.08240663])"
      ]
     },
     "metadata": {},
     "output_type": "display_data"
    },
    {
     "name": "stdout",
     "output_type": "stream",
     "text": [
      "A: 6\n",
      "\n",
      "{{ scale_this: >>>>>>>>>>>>>>>>>>>>>>>>>>>>>>>>>>>>>>>>> Scaling X_train and X_test... }}\n",
      "\n"
     ]
    },
    {
     "data": {
      "text/plain": [
       "array([  21.8 ,   45.82,  173.64,  166.8 ,   67.96,  120.19])"
      ]
     },
     "metadata": {},
     "output_type": "display_data"
    },
    {
     "data": {
      "text/plain": [
       "array([-783.90306303, -502.59523913,  706.59748548,  678.72790239,\n",
       "       -264.69571075,  193.08130427])"
      ]
     },
     "metadata": {},
     "output_type": "display_data"
    },
    {
     "name": "stdout",
     "output_type": "stream",
     "text": [
      "B: 19\n",
      "\n",
      "{{ scale_this: >>>>>>>>>>>>>>>>>>>>>>>>>>>>>>>>>>>>>>>>> Scaling X_train and X_test... }}\n",
      "\n"
     ]
    },
    {
     "data": {
      "text/plain": [
       "array([ 2210.97,  1732.64,  2201.04,  2184.34,  1721.38,  2024.25,\n",
       "        3153.06,  2752.13,  3167.66,  3040.59,  2461.26,  3444.3 ,\n",
       "        1332.03,  1620.72,  1895.33,  2396.68,  2472.15,  1423.13,  2308.37])"
      ]
     },
     "metadata": {},
     "output_type": "display_data"
    },
    {
     "data": {
      "text/plain": [
       "array([ 2386.28623258,  2413.68155142,  2400.22102412,  2414.15581567,\n",
       "        2399.74675987,  2413.91868354,  2414.83757054,  2400.69528838,\n",
       "        2373.27032803,  2400.90277899,  2400.45815625,  2415.07470267,\n",
       "        2399.50378049,  2399.74675987,  2386.04910045,  2372.58857316,\n",
       "        2414.3929478 ,  2385.56898894,  2400.22102412])"
      ]
     },
     "metadata": {},
     "output_type": "display_data"
    },
    {
     "name": "stdout",
     "output_type": "stream",
     "text": [
      "C: 19\n",
      "\n",
      "{{ scale_this: >>>>>>>>>>>>>>>>>>>>>>>>>>>>>>>>>>>>>>>>> Scaling X_train and X_test... }}\n",
      "\n"
     ]
    },
    {
     "data": {
      "text/plain": [
       "array([ 2083.07,   996.42,   298.03,  1688.15,  2674.81,  2270.37,\n",
       "        1688.66,  1870.14,  1868.49,   695.76,  3621.04,  2828.23,\n",
       "         299.12,   693.29,  1358.2 ,  1083.5 ,  2659.86,  1073.56,   697.69])"
      ]
     },
     "metadata": {},
     "output_type": "display_data"
    },
    {
     "data": {
      "text/plain": [
       "array([ 2262.02052915,  1050.38736315,   270.31751492,  1867.43266818,\n",
       "        2612.32068619,  2262.02052915,  1458.91001567,  1839.56308509,\n",
       "        1867.43266818,   675.8048762 ,  3020.84333871,  2992.97375562,\n",
       "         256.38272338,   689.73966775,  1458.91001567,  1050.38736315,\n",
       "        2584.4511031 ,  1036.4525716 ,   661.87008466])"
      ]
     },
     "metadata": {},
     "output_type": "display_data"
    },
    {
     "name": "stdout",
     "output_type": "stream",
     "text": [
      "D: 19\n",
      "\n",
      "{{ scale_this: >>>>>>>>>>>>>>>>>>>>>>>>>>>>>>>>>>>>>>>>> Scaling X_train and X_test... }}\n",
      "\n"
     ]
    },
    {
     "data": {
      "text/plain": [
       "array([ 2239.73,  1333.42,  2241.22,  1141.32,   810.75,  1135.84,\n",
       "         738.16,   216.58,   823.05,  2230.04,  1780.16,   198.71,\n",
       "         801.4 ,  2436.08,  1623.84,   504.45,   503.45,  2470.53,  1462.69])"
      ]
     },
     "metadata": {},
     "output_type": "display_data"
    },
    {
     "data": {
      "text/plain": [
       "array([ 2109.55230381,  1367.14761508,  2095.61751226,  1124.32431602,\n",
       "         923.30539161,  1152.19389912,   895.43580851,   431.96762242,\n",
       "         881.50101697,  2137.4218869 ,  1651.77528878,   390.16324778,\n",
       "         895.43580851,  2137.4218869 ,  1623.90570569,   656.94344982,\n",
       "         629.07386672,  2109.55230381,  1381.08240663])"
      ]
     },
     "metadata": {},
     "output_type": "display_data"
    },
    {
     "name": "stdout",
     "output_type": "stream",
     "text": [
      "【【】】adding new model for datasetIPPD.pickle \n",
      "\n",
      "【【【】】】newScore: 1498.805865 \n",
      "____________________________________________________________________________________________________\n"
     ]
    }
   ],
   "source": [
    "t_lasso = wrapper([LassoCVModel])"
   ]
  },
  {
   "cell_type": "code",
   "execution_count": null,
   "metadata": {
    "collapsed": true
   },
   "outputs": [],
   "source": [
    "t_print = t_\n",
    "\n",
    "    for key in t_print.keys():\n",
    "        print(80*'_')\n",
    "        print(key)    \n",
    "\n",
    "        lasso_model = t_print[key]['model']\n",
    "        print('Model: %s' % (str(t_print[key]['model'])[:20]))\n",
    "        print('Train RMSE: %f \\n' % (t_print[key]['train_rmse_cv_picking']))\n",
    "\n",
    "        #print('Test RMSE   : %f' % (t_print[key]['test_rmse_reporting']))\n",
    "        #print('Overall Mean: %f \\n' % (t_print[key]['test_mean_y_comparing']))\n",
    "\n",
    "        if(not t_print[key]['test_rmse_reportingA']==None):\n",
    "            print('A...TestA RMSE   : %f' % float(t_print[key]['test_rmse_reportingA'] or -1))\n",
    "            print('A...<<y_test_A Mean>>: %f \\n' % float(t_print[key]['test_mean_y_comparingA'] or -1))\n",
    "\n",
    "        if(not t_print[key]['test_rmse_reportingB']==None):\n",
    "            print('B...TestB RMSE   : %f' % float(t_print[key]['test_rmse_reportingB'] or -1))\n",
    "            print('B...<<y_test_B Mean>>: %f \\n' % float(t_print[key]['test_mean_y_comparingB'] or -1))\n",
    "\n",
    "        if(not t_print[key]['test_rmse_reportingC']==None):\n",
    "            print('C...TestC RMSE   : %f' % float(t_print[key]['test_rmse_reportingC'] or -1))\n",
    "            print('C...<<y_test_C Mean>>: %f \\n' % float(t_print[key]['test_mean_y_comparingC'] or -1))\n",
    "\n",
    "        if(not t_print[key]['test_rmse_reportingD']==None):\n",
    "            print('D...TestD RMSE   : %f' % float(t_print[key]['test_rmse_reportingD'] or -1))\n",
    "            print('D...<<y_test_D Mean>>: %f' % float(t_print[key]['test_mean_y_comparingD'] or -1))\n",
    "\n",
    "        print(80*'_')"
   ]
  },
  {
   "cell_type": "code",
   "execution_count": 168,
   "metadata": {
    "collapsed": false
   },
   "outputs": [
    {
     "name": "stdout",
     "output_type": "stream",
     "text": [
      "________________________________________________________________________________\n",
      "Model: Lasso(alpha=0.000923\n",
      "Train RMSE: 1411.241278 \n",
      "\n",
      "Test RMSE   : 485.236663\n",
      "Overall Mean: 1630.847937 \n",
      "\n",
      "A...TestA RMSE   : 680.535179\n",
      "A...y_test_A Mean: 168.103333 \n",
      "\n",
      "B...TestB RMSE   : 774.306276\n",
      "B...y_test_B Mean: 2317.217368 \n",
      "\n",
      "C...TestC RMSE   : 82.520383\n",
      "C...y_test_C Mean: 1642.905263 \n",
      "\n",
      "D...TestD RMSE   : 167.651835\n",
      "D...y_test_D Mean: 1394.340526\n",
      "________________________________________________________________________________\n"
     ]
    }
   ],
   "source": [
    "t_print = t_lasso\n",
    "\n",
    "for key in t_print.keys():\n",
    "    print(80*'_')\n",
    "    \n",
    "    lasso_model = t_print[key]['model']\n",
    "    print('Model: %s' % (str(t_print[key]['model'])[:20]))\n",
    "    print('Train RMSE: %f \\n' % (t_print[key]['train_rmse_cv_picking']))\n",
    "    \n",
    "    print('Test RMSE   : %f' % (t_print[key]['test_rmse_reporting']))\n",
    "    print('Overall Mean: %f \\n' % (t_print[key]['test_mean_y_comparing']))\n",
    "    \n",
    "    print('A...TestA RMSE   : %f' % (t_print[key]['test_rmse_reportingA']))\n",
    "    print('A...y_test_A Mean: %f \\n' % (t_print[key]['test_mean_y_comparingA']))\n",
    "    \n",
    "    print('B...TestB RMSE   : %f' % (t_print[key]['test_rmse_reportingB']))\n",
    "    print('B...y_test_B Mean: %f \\n' % (t_print[key]['test_mean_y_comparingB']))\n",
    "    \n",
    "    print('C...TestC RMSE   : %f' % (t_print[key]['test_rmse_reportingC']))\n",
    "    print('C...y_test_C Mean: %f \\n' % (t_print[key]['test_mean_y_comparingC']))\n",
    "    \n",
    "    print('D...TestD RMSE   : %f' % (t_print[key]['test_rmse_reportingD']))\n",
    "    print('D...y_test_D Mean: %f' % (t_print[key]['test_mean_y_comparingD']))\n",
    "    \n",
    "    print(80*'_')"
   ]
  },
  {
   "cell_type": "code",
   "execution_count": 169,
   "metadata": {
    "collapsed": false
   },
   "outputs": [],
   "source": [
    "names = ['ppn', 'sizeGB', 'ft1', 'ft2', 'ft3', 'ft4', 'ft5', 'ft6', 'ft7', 'ft8',\n",
    "        'ft9', 'ft10', 'ft11', 'ft12', 'ft13', 'ft14', 'ft15', 'ft16', 'ft17',\n",
    "        'ft18', 'ft24', 'ft25', 'ft19', 'ft39', 'ft20', 'ft33', 'ft21', 'ft35',\n",
    "        'ft22', 'ft23', 'ft34', 'ft36', 'ft37', 'ft38', 'ft40', 'ft41', 'ft42',\n",
    "        'ft43', 'ft44', 'ft45', 'ft46', 'ft48', 'ft47', 'ft49', 'ft51', 'ft50',\n",
    "        'ft52', 'ft53', 'ft54', 'ft55', 'ft26', 'ft27', 'ft28', 'ft29', 'ft30',\n",
    "        'ft31', 'ft32']"
   ]
  },
  {
   "cell_type": "code",
   "execution_count": 170,
   "metadata": {
    "collapsed": false
   },
   "outputs": [
    {
     "name": "stdout",
     "output_type": "stream",
     "text": [
      "[(1054.8512403351754, 'ft51'), (910.90800011284045, 'sizeGB'), (460.81136203559822, 'ft39'), (412.14256856802297, 'ft4'), (18.06012589857059, 'ppn'), (-0.0, 'ft9'), (-0.0, 'ft8'), (-0.0, 'ft7'), (-0.0, 'ft6'), (-0.0, 'ft55'), (0.0, 'ft54'), (0.0, 'ft53'), (0.0, 'ft52'), (0.0, 'ft50'), (-0.0, 'ft5'), (-0.0, 'ft49'), (-0.0, 'ft48'), (0.0, 'ft47'), (-0.0, 'ft46'), (-0.0, 'ft45'), (-0.0, 'ft44'), (-0.0, 'ft43'), (-0.0, 'ft42'), (0.0, 'ft41'), (0.0, 'ft38'), (0.0, 'ft37'), (0.0, 'ft36'), (0.0, 'ft35'), (0.0, 'ft34'), (-0.0, 'ft33'), (-0.0, 'ft32'), (-0.0, 'ft30'), (-0.0, 'ft3'), (0.0, 'ft29'), (-0.0, 'ft27'), (0.0, 'ft26'), (-0.0, 'ft25'), (0.0, 'ft24'), (0.0, 'ft23'), (0.0, 'ft22'), (-0.0, 'ft21'), (-0.0, 'ft20'), (-0.0, 'ft2'), (-0.0, 'ft19'), (0.0, 'ft18'), (-0.0, 'ft17'), (-0.0, 'ft16'), (0.0, 'ft15'), (0.0, 'ft14'), (-0.0, 'ft13'), (-0.0, 'ft12'), (-0.0, 'ft11'), (-0.0, 'ft10'), (-0.0, 'ft1'), (-42.900335468299275, 'ft28'), (-800.68201462240199, 'ft40'), (-966.752030074103, 'ft31')]\n"
     ]
    }
   ],
   "source": [
    "print(sorted(zip(map(lambda x: x, lasso_model.coef_), \n",
    "                 names), reverse=True))"
   ]
  },
  {
   "cell_type": "markdown",
   "metadata": {
    "collapsed": true
   },
   "source": [
    "#>>>>>>>>>>>\n"
   ]
  },
  {
   "cell_type": "markdown",
   "metadata": {},
   "source": [
    "# Lasso Final\n",
    "\n",
    "Lasso(alpha=20.433597178569439, copy_X=True, fit_intercept=True,\n",
    "   max_iter=10000000.0, normalize=False, positive=False, precompute=True,\n",
    "   random_state=None, selection='random', tol=1e-06, warm_start=False) \n",
    "\n",
    "\n",
    "\n",
    " 1025.08609776 880.826424842 1532.34615385"
   ]
  },
  {
   "cell_type": "code",
   "execution_count": 64,
   "metadata": {
    "collapsed": false
   },
   "outputs": [
    {
     "name": "stdout",
     "output_type": "stream",
     "text": [
      "<function LassoCVModel at 0x7f563e1a1378>\n"
     ]
    }
   ],
   "source": [
    "import pickle \n",
    "\n",
    "# get the model\n",
    "for k in t_lasso.keys():\n",
    "    print(k)\n",
    "    mo = t_lasso[k]['model']\n",
    "\n",
    "# write the model to a file\n",
    "with open('4C4_lasso_tuned.pickle', 'wb') as handle:\n",
    "    pickle.dump(mo, handle, protocol=pickle.HIGHEST_PROTOCOL)"
   ]
  },
  {
   "cell_type": "markdown",
   "metadata": {},
   "source": [
    "<:>:<:>:<:>:<:>:<:>:<:>:<:>:<:>:<:>:<:>:<:>:<:>:<:>:<:>:<:><:>:<:>:<:>:<:>:<:>:<:>:<:>:<:>:<:>:<:>:<:>:<:>:<:>:<:>:<:>\n",
    "<:>:<:>:<:>:<:>:<:>:<:>:<:>:<:>:<:>:<:>:<:>:<:>:<:>:<:>:<:><:>:<:>:<:>:<:>:<:>:<:>:<:>:<:>:<:>:<:>:<:>:<:>:<:>:<:>:<:>\n",
    "<:>:<:>:<:>:<:>:<:>:<:>:<:>:<:>:<:>:<:>:<:>:<:>:<:>:<:>:<:><:>:<:>:<:>:<:>:<:>:<:>:<:>:<:>:<:>:<:>:<:>:<:>:<:>:<:>:<:>\n",
    "<:>:<:>:<:>:<:>:<:>:<:>:<:>:<:>:<:>:<:>:<:>:<:>:<:>:<:>:<:><:>:<:>:<:>:<:>:<:>:<:>:<:>:<:>:<:>:<:>:<:>:<:>:<:>:<:>:<:>\n"
   ]
  },
  {
   "cell_type": "markdown",
   "metadata": {},
   "source": [
    "# 2"
   ]
  },
  {
   "cell_type": "markdown",
   "metadata": {},
   "source": [
    "# OMPCVModel --OK"
   ]
  },
  {
   "cell_type": "code",
   "execution_count": 154,
   "metadata": {
    "collapsed": false
   },
   "outputs": [
    {
     "name": "stdout",
     "output_type": "stream",
     "text": [
      "\n",
      "Dataset size read: train 258 and test 63 \n",
      "\n",
      "# Tuning hyper-parameters \n",
      "\n",
      "Starting grdsurch.fit(X_train, y_train)\n"
     ]
    },
    {
     "name": "stderr",
     "output_type": "stream",
     "text": [
      "/data/home/a1singh/anaconda3/lib/python3.6/site-packages/sklearn/linear_model/omp.py:665: RuntimeWarning:  Orthogonal matching pursuit ended prematurely due to linear\n",
      "dependence in the dictionary. The requested precision might not have been met.\n",
      "\n",
      "  return_n_iter=True)\n",
      "/data/home/a1singh/anaconda3/lib/python3.6/site-packages/sklearn/linear_model/omp.py:665: RuntimeWarning:  Orthogonal matching pursuit ended prematurely due to linear\n",
      "dependence in the dictionary. The requested precision might not have been met.\n",
      "\n",
      "  return_n_iter=True)\n",
      "/data/home/a1singh/anaconda3/lib/python3.6/site-packages/sklearn/linear_model/omp.py:665: RuntimeWarning:  Orthogonal matching pursuit ended prematurely due to linear\n",
      "dependence in the dictionary. The requested precision might not have been met.\n",
      "\n",
      "  return_n_iter=True)\n",
      "/data/home/a1singh/anaconda3/lib/python3.6/site-packages/sklearn/linear_model/omp.py:665: RuntimeWarning:  Orthogonal matching pursuit ended prematurely due to linear\n",
      "dependence in the dictionary. The requested precision might not have been met.\n",
      "\n",
      "  return_n_iter=True)\n",
      "/data/home/a1singh/anaconda3/lib/python3.6/site-packages/sklearn/linear_model/omp.py:665: RuntimeWarning:  Orthogonal matching pursuit ended prematurely due to linear\n",
      "dependence in the dictionary. The requested precision might not have been met.\n",
      "\n",
      "  return_n_iter=True)\n",
      "/data/home/a1singh/anaconda3/lib/python3.6/site-packages/sklearn/linear_model/omp.py:665: RuntimeWarning:  Orthogonal matching pursuit ended prematurely due to linear\n",
      "dependence in the dictionary. The requested precision might not have been met.\n",
      "\n",
      "  return_n_iter=True)\n",
      "/data/home/a1singh/anaconda3/lib/python3.6/site-packages/sklearn/linear_model/omp.py:665: RuntimeWarning:  Orthogonal matching pursuit ended prematurely due to linear\n",
      "dependence in the dictionary. The requested precision might not have been met.\n",
      "\n",
      "  return_n_iter=True)\n",
      "/data/home/a1singh/anaconda3/lib/python3.6/site-packages/sklearn/linear_model/omp.py:665: RuntimeWarning:  Orthogonal matching pursuit ended prematurely due to linear\n",
      "dependence in the dictionary. The requested precision might not have been met.\n",
      "\n",
      "  return_n_iter=True)\n",
      "/data/home/a1singh/anaconda3/lib/python3.6/site-packages/sklearn/linear_model/omp.py:665: RuntimeWarning:  Orthogonal matching pursuit ended prematurely due to linear\n",
      "dependence in the dictionary. The requested precision might not have been met.\n",
      "\n",
      "  return_n_iter=True)\n",
      "/data/home/a1singh/anaconda3/lib/python3.6/site-packages/sklearn/linear_model/omp.py:665: RuntimeWarning:  Orthogonal matching pursuit ended prematurely due to linear\n",
      "dependence in the dictionary. The requested precision might not have been met.\n",
      "\n",
      "  return_n_iter=True)\n",
      "/data/home/a1singh/anaconda3/lib/python3.6/site-packages/sklearn/linear_model/omp.py:665: RuntimeWarning:  Orthogonal matching pursuit ended prematurely due to linear\n",
      "dependence in the dictionary. The requested precision might not have been met.\n",
      "\n",
      "  return_n_iter=True)\n",
      "/data/home/a1singh/anaconda3/lib/python3.6/site-packages/sklearn/linear_model/omp.py:665: RuntimeWarning:  Orthogonal matching pursuit ended prematurely due to linear\n",
      "dependence in the dictionary. The requested precision might not have been met.\n",
      "\n",
      "  return_n_iter=True)\n",
      "/data/home/a1singh/anaconda3/lib/python3.6/site-packages/sklearn/linear_model/omp.py:665: RuntimeWarning:  Orthogonal matching pursuit ended prematurely due to linear\n",
      "dependence in the dictionary. The requested precision might not have been met.\n",
      "\n",
      "  return_n_iter=True)\n",
      "/data/home/a1singh/anaconda3/lib/python3.6/site-packages/sklearn/linear_model/omp.py:665: RuntimeWarning:  Orthogonal matching pursuit ended prematurely due to linear\n",
      "dependence in the dictionary. The requested precision might not have been met.\n",
      "\n",
      "  return_n_iter=True)\n",
      "/data/home/a1singh/anaconda3/lib/python3.6/site-packages/sklearn/linear_model/omp.py:665: RuntimeWarning:  Orthogonal matching pursuit ended prematurely due to linear\n",
      "dependence in the dictionary. The requested precision might not have been met.\n",
      "\n",
      "  return_n_iter=True)\n",
      "/data/home/a1singh/anaconda3/lib/python3.6/site-packages/sklearn/linear_model/omp.py:665: RuntimeWarning:  Orthogonal matching pursuit ended prematurely due to linear\n",
      "dependence in the dictionary. The requested precision might not have been met.\n",
      "\n",
      "  return_n_iter=True)\n",
      "/data/home/a1singh/anaconda3/lib/python3.6/site-packages/sklearn/linear_model/omp.py:665: RuntimeWarning:  Orthogonal matching pursuit ended prematurely due to linear\n",
      "dependence in the dictionary. The requested precision might not have been met.\n",
      "\n",
      "  return_n_iter=True)\n",
      "/data/home/a1singh/anaconda3/lib/python3.6/site-packages/sklearn/linear_model/omp.py:665: RuntimeWarning:  Orthogonal matching pursuit ended prematurely due to linear\n",
      "dependence in the dictionary. The requested precision might not have been met.\n",
      "\n",
      "  return_n_iter=True)\n",
      "/data/home/a1singh/anaconda3/lib/python3.6/site-packages/sklearn/linear_model/omp.py:665: RuntimeWarning:  Orthogonal matching pursuit ended prematurely due to linear\n",
      "dependence in the dictionary. The requested precision might not have been met.\n",
      "\n",
      "  return_n_iter=True)\n",
      "/data/home/a1singh/anaconda3/lib/python3.6/site-packages/sklearn/linear_model/omp.py:665: RuntimeWarning:  Orthogonal matching pursuit ended prematurely due to linear\n",
      "dependence in the dictionary. The requested precision might not have been met.\n",
      "\n",
      "  return_n_iter=True)\n",
      "/data/home/a1singh/anaconda3/lib/python3.6/site-packages/sklearn/linear_model/omp.py:665: RuntimeWarning:  Orthogonal matching pursuit ended prematurely due to linear\n",
      "dependence in the dictionary. The requested precision might not have been met.\n",
      "\n",
      "  return_n_iter=True)\n",
      "/data/home/a1singh/anaconda3/lib/python3.6/site-packages/sklearn/linear_model/omp.py:665: RuntimeWarning:  Orthogonal matching pursuit ended prematurely due to linear\n",
      "dependence in the dictionary. The requested precision might not have been met.\n",
      "\n",
      "  return_n_iter=True)\n",
      "/data/home/a1singh/anaconda3/lib/python3.6/site-packages/sklearn/linear_model/omp.py:665: RuntimeWarning:  Orthogonal matching pursuit ended prematurely due to linear\n",
      "dependence in the dictionary. The requested precision might not have been met.\n",
      "\n",
      "  return_n_iter=True)\n",
      "/data/home/a1singh/anaconda3/lib/python3.6/site-packages/sklearn/linear_model/omp.py:665: RuntimeWarning:  Orthogonal matching pursuit ended prematurely due to linear\n",
      "dependence in the dictionary. The requested precision might not have been met.\n",
      "\n",
      "  return_n_iter=True)\n",
      "/data/home/a1singh/anaconda3/lib/python3.6/site-packages/sklearn/linear_model/omp.py:665: RuntimeWarning:  Orthogonal matching pursuit ended prematurely due to linear\n",
      "dependence in the dictionary. The requested precision might not have been met.\n",
      "\n",
      "  return_n_iter=True)\n",
      "/data/home/a1singh/anaconda3/lib/python3.6/site-packages/sklearn/linear_model/omp.py:665: RuntimeWarning:  Orthogonal matching pursuit ended prematurely due to linear\n",
      "dependence in the dictionary. The requested precision might not have been met.\n",
      "\n",
      "  return_n_iter=True)\n",
      "/data/home/a1singh/anaconda3/lib/python3.6/site-packages/sklearn/linear_model/omp.py:665: RuntimeWarning:  Orthogonal matching pursuit ended prematurely due to linear\n",
      "dependence in the dictionary. The requested precision might not have been met.\n",
      "\n",
      "  return_n_iter=True)\n",
      "/data/home/a1singh/anaconda3/lib/python3.6/site-packages/sklearn/linear_model/omp.py:665: RuntimeWarning:  Orthogonal matching pursuit ended prematurely due to linear\n",
      "dependence in the dictionary. The requested precision might not have been met.\n",
      "\n",
      "  return_n_iter=True)\n",
      "/data/home/a1singh/anaconda3/lib/python3.6/site-packages/sklearn/linear_model/omp.py:665: RuntimeWarning:  Orthogonal matching pursuit ended prematurely due to linear\n",
      "dependence in the dictionary. The requested precision might not have been met.\n",
      "\n",
      "  return_n_iter=True)\n",
      "/data/home/a1singh/anaconda3/lib/python3.6/site-packages/sklearn/linear_model/omp.py:665: RuntimeWarning:  Orthogonal matching pursuit ended prematurely due to linear\n",
      "dependence in the dictionary. The requested precision might not have been met.\n",
      "\n",
      "  return_n_iter=True)\n",
      "/data/home/a1singh/anaconda3/lib/python3.6/site-packages/sklearn/linear_model/omp.py:665: RuntimeWarning:  Orthogonal matching pursuit ended prematurely due to linear\n",
      "dependence in the dictionary. The requested precision might not have been met.\n",
      "\n",
      "  return_n_iter=True)\n",
      "/data/home/a1singh/anaconda3/lib/python3.6/site-packages/sklearn/linear_model/omp.py:665: RuntimeWarning:  Orthogonal matching pursuit ended prematurely due to linear\n",
      "dependence in the dictionary. The requested precision might not have been met.\n",
      "\n",
      "  return_n_iter=True)\n",
      "/data/home/a1singh/anaconda3/lib/python3.6/site-packages/sklearn/linear_model/omp.py:665: RuntimeWarning:  Orthogonal matching pursuit ended prematurely due to linear\n",
      "dependence in the dictionary. The requested precision might not have been met.\n",
      "\n",
      "  return_n_iter=True)\n",
      "/data/home/a1singh/anaconda3/lib/python3.6/site-packages/sklearn/linear_model/omp.py:665: RuntimeWarning:  Orthogonal matching pursuit ended prematurely due to linear\n",
      "dependence in the dictionary. The requested precision might not have been met.\n",
      "\n",
      "  return_n_iter=True)\n",
      "/data/home/a1singh/anaconda3/lib/python3.6/site-packages/sklearn/linear_model/omp.py:665: RuntimeWarning:  Orthogonal matching pursuit ended prematurely due to linear\n",
      "dependence in the dictionary. The requested precision might not have been met.\n",
      "\n",
      "  return_n_iter=True)\n",
      "/data/home/a1singh/anaconda3/lib/python3.6/site-packages/sklearn/linear_model/omp.py:665: RuntimeWarning:  Orthogonal matching pursuit ended prematurely due to linear\n",
      "dependence in the dictionary. The requested precision might not have been met.\n",
      "\n",
      "  return_n_iter=True)\n"
     ]
    },
    {
     "name": "stdout",
     "output_type": "stream",
     "text": [
      "\n",
      "Best parameters set found on development set:\n",
      "\n",
      "{'n_nonzero_coefs': 3, 'tol': 1e-20}\n",
      "OrthogonalMatchingPursuit(fit_intercept=True, n_nonzero_coefs=3,\n",
      "             normalize=True, precompute='auto', tol=1e-20)\n",
      "\n",
      "Full Test Set: 63\n"
     ]
    },
    {
     "name": "stderr",
     "output_type": "stream",
     "text": [
      "/data/home/a1singh/anaconda3/lib/python3.6/site-packages/sklearn/linear_model/omp.py:665: RuntimeWarning:  Orthogonal matching pursuit ended prematurely due to linear\n",
      "dependence in the dictionary. The requested precision might not have been met.\n",
      "\n",
      "  return_n_iter=True)\n"
     ]
    },
    {
     "data": {
      "text/plain": [
       "array([  173.64,   203.98,   142.31,   164.02,   121.17,   203.5 ,\n",
       "        1740.7 ,  4234.26,  3077.01,  2376.19,  1393.36,  1919.57,\n",
       "        1616.34,  1593.28,  1174.9 ,  2587.3 ,  2896.27,  1723.63,\n",
       "        1932.2 ,  2769.22,  2210.97,  3353.35,  1895.33,  3348.91,\n",
       "        2184.34,  2659.86,   299.12,   300.32,  2771.25,  2294.56,\n",
       "        3143.72,  1868.49,   321.59,  1087.87,   695.76,  1082.16,\n",
       "        1365.13,  1357.24,  1870.14,   322.13,  2270.37,  3200.82,\n",
       "        2833.87,  1470.8 ,  2262.51,  1806.17,   462.77,   197.88,\n",
       "        1780.16,   738.16,  2142.12,  1333.76,  1862.39,  1808.07,\n",
       "        1637.05,  2258.66,  2119.13,   460.34,   504.45,   504.92,\n",
       "        1018.55,  2123.49,  1471.89])"
      ]
     },
     "metadata": {},
     "output_type": "display_data"
    },
    {
     "data": {
      "text/plain": [
       "array([  850.57754835,  1095.53811028,   605.61698641,   866.58391355,\n",
       "         344.65005927,  1079.53174507,  2408.56752985,  2392.80038394,\n",
       "        2377.72099351,  2361.26609212,  2360.30331621,  2360.78765352,\n",
       "        2376.55479943,  2360.54843422,  2393.96657802,  2409.28518774,\n",
       "        2377.51167663,  2408.56752985,  2376.79401873,  2393.51804183,\n",
       "        2377.03323803,  2377.51167663,  2376.79401873,  2393.96657802,\n",
       "        2409.04596844,  2590.02830554,   241.46891799,   241.46891799,\n",
       "        2638.04740116,  2254.60019305,  3020.10194909,  1872.54564511,\n",
       "         257.47528319,  1076.42381882,   668.48055452,  1060.41745362,\n",
       "        1474.48473197,  1442.47200155,  1840.5329147 ,   289.48801361,\n",
       "        2270.60655825,  3020.10194909,  2988.08921868,  1474.48473197,\n",
       "        2094.80899378,  1620.89423511,   647.36997098,   374.34379706,\n",
       "        1652.90696553,   886.01254931,  1865.85479705,  1359.92730797,\n",
       "        1849.84843184,  1636.90060032,  1636.90060032,  2094.80899378,\n",
       "        1881.86116226,   631.36360578,   647.36997098,   663.37633619,\n",
       "        1146.97947645,  1849.84843184,  1359.92730797])"
      ]
     },
     "metadata": {},
     "output_type": "display_data"
    },
    {
     "name": "stdout",
     "output_type": "stream",
     "text": [
      "A: 6\n"
     ]
    },
    {
     "data": {
      "text/plain": [
       "array([ 173.64,  203.98,  142.31,  164.02,  121.17,  203.5 ])"
      ]
     },
     "metadata": {},
     "output_type": "display_data"
    },
    {
     "data": {
      "text/plain": [
       "array([  850.57754835,  1095.53811028,   605.61698641,   866.58391355,\n",
       "         344.65005927,  1079.53174507])"
      ]
     },
     "metadata": {},
     "output_type": "display_data"
    },
    {
     "name": "stdout",
     "output_type": "stream",
     "text": [
      "B: 19\n"
     ]
    },
    {
     "data": {
      "text/plain": [
       "array([ 1740.7 ,  4234.26,  3077.01,  2376.19,  1393.36,  1919.57,\n",
       "        1616.34,  1593.28,  1174.9 ,  2587.3 ,  2896.27,  1723.63,\n",
       "        1932.2 ,  2769.22,  2210.97,  3353.35,  1895.33,  3348.91,  2184.34])"
      ]
     },
     "metadata": {},
     "output_type": "display_data"
    },
    {
     "data": {
      "text/plain": [
       "array([ 2408.56752985,  2392.80038394,  2377.72099351,  2361.26609212,\n",
       "        2360.30331621,  2360.78765352,  2376.55479943,  2360.54843422,\n",
       "        2393.96657802,  2409.28518774,  2377.51167663,  2408.56752985,\n",
       "        2376.79401873,  2393.51804183,  2377.03323803,  2377.51167663,\n",
       "        2376.79401873,  2393.96657802,  2409.04596844])"
      ]
     },
     "metadata": {},
     "output_type": "display_data"
    },
    {
     "name": "stdout",
     "output_type": "stream",
     "text": [
      "C: 19\n"
     ]
    },
    {
     "data": {
      "text/plain": [
       "array([ 2659.86,   299.12,   300.32,  2771.25,  2294.56,  3143.72,\n",
       "        1868.49,   321.59,  1087.87,   695.76,  1082.16,  1365.13,\n",
       "        1357.24,  1870.14,   322.13,  2270.37,  3200.82,  2833.87,  1470.8 ])"
      ]
     },
     "metadata": {},
     "output_type": "display_data"
    },
    {
     "data": {
      "text/plain": [
       "array([ 2590.02830554,   241.46891799,   241.46891799,  2638.04740116,\n",
       "        2254.60019305,  3020.10194909,  1872.54564511,   257.47528319,\n",
       "        1076.42381882,   668.48055452,  1060.41745362,  1474.48473197,\n",
       "        1442.47200155,  1840.5329147 ,   289.48801361,  2270.60655825,\n",
       "        3020.10194909,  2988.08921868,  1474.48473197])"
      ]
     },
     "metadata": {},
     "output_type": "display_data"
    },
    {
     "name": "stdout",
     "output_type": "stream",
     "text": [
      "D: 19\n"
     ]
    },
    {
     "data": {
      "text/plain": [
       "array([ 2262.51,  1806.17,   462.77,   197.88,  1780.16,   738.16,\n",
       "        2142.12,  1333.76,  1862.39,  1808.07,  1637.05,  2258.66,\n",
       "        2119.13,   460.34,   504.45,   504.92,  1018.55,  2123.49,  1471.89])"
      ]
     },
     "metadata": {},
     "output_type": "display_data"
    },
    {
     "data": {
      "text/plain": [
       "array([ 2094.80899378,  1620.89423511,   647.36997098,   374.34379706,\n",
       "        1652.90696553,   886.01254931,  1865.85479705,  1359.92730797,\n",
       "        1849.84843184,  1636.90060032,  1636.90060032,  2094.80899378,\n",
       "        1881.86116226,   631.36360578,   647.36997098,   663.37633619,\n",
       "        1146.97947645,  1849.84843184,  1359.92730797])"
      ]
     },
     "metadata": {},
     "output_type": "display_data"
    },
    {
     "name": "stdout",
     "output_type": "stream",
     "text": [
      "【【】】adding new model for datasetIPPD.pickle \n",
      "\n",
      "【【【】】】newScore: 1426.531092 \n",
      "____________________________________________________________________________________________________\n"
     ]
    }
   ],
   "source": [
    "t_OMPC = wrapper([OMPCVModel])"
   ]
  },
  {
   "cell_type": "code",
   "execution_count": 155,
   "metadata": {
    "collapsed": false
   },
   "outputs": [
    {
     "name": "stdout",
     "output_type": "stream",
     "text": [
      "________________________________________________________________________________\n",
      "Model: OrthogonalMatchingPu\n",
      "Train RMSE: 1426.531092 \n",
      "\n",
      "Test RMSE   : 485.236122\n",
      "Overall Mean: 1630.847937 \n",
      "\n",
      "A...TestA RMSE   : 680.532228\n",
      "A...y_test_A Mean: 168.103333 \n",
      "\n",
      "B...TestB RMSE   : 774.306513\n",
      "B...y_test_B Mean: 2317.217368 \n",
      "\n",
      "C...TestC RMSE   : 82.519859\n",
      "C...y_test_C Mean: 1642.905263 \n",
      "\n",
      "D...TestD RMSE   : 167.649584\n",
      "D...y_test_D Mean: 1394.340526\n",
      "________________________________________________________________________________\n"
     ]
    }
   ],
   "source": [
    "t_print = t_OMPC\n",
    "\n",
    "for key in t_print.keys():\n",
    "    print(80*'_')\n",
    "    \n",
    "    print('Model: %s' % (str(t_print[key]['model'])[:20]))\n",
    "    print('Train RMSE: %f \\n' % (t_print[key]['train_rmse_cv_picking']))\n",
    "    \n",
    "    print('Test RMSE   : %f' % (t_print[key]['test_rmse_reporting']))\n",
    "    print('Overall Mean: %f \\n' % (t_print[key]['test_mean_y_comparing']))\n",
    "    \n",
    "    print('A...TestA RMSE   : %f' % (t_print[key]['test_rmse_reportingA']))\n",
    "    print('A...y_test_A Mean: %f \\n' % (t_print[key]['test_mean_y_comparingA']))\n",
    "    \n",
    "    print('B...TestB RMSE   : %f' % (t_print[key]['test_rmse_reportingB']))\n",
    "    print('B...y_test_B Mean: %f \\n' % (t_print[key]['test_mean_y_comparingB']))\n",
    "    \n",
    "    print('C...TestC RMSE   : %f' % (t_print[key]['test_rmse_reportingC']))\n",
    "    print('C...y_test_C Mean: %f \\n' % (t_print[key]['test_mean_y_comparingC']))\n",
    "    \n",
    "    print('D...TestD RMSE   : %f' % (t_print[key]['test_rmse_reportingD']))\n",
    "    print('D...y_test_D Mean: %f' % (t_print[key]['test_mean_y_comparingD']))\n",
    "    \n",
    "    print(80*'_')"
   ]
  },
  {
   "cell_type": "code",
   "execution_count": 65,
   "metadata": {
    "collapsed": false
   },
   "outputs": [
    {
     "name": "stdout",
     "output_type": "stream",
     "text": [
      "<function OMPCVModel at 0x7f563e1a1400>\n"
     ]
    }
   ],
   "source": [
    "# get the model\n",
    "for k in t_OMPC.keys():\n",
    "    print(k)\n",
    "    mo = t_OMPC[k]['model']\n",
    "\n",
    "# write the model to a file\n",
    "with open('4C4_OMPC_tuned.pickle', 'wb') as handle:\n",
    "    pickle.dump(mo, handle, protocol=pickle.HIGHEST_PROTOCOL)"
   ]
  },
  {
   "cell_type": "markdown",
   "metadata": {
    "collapsed": true
   },
   "source": [
    "#>>>>>>>>>>>\n"
   ]
  },
  {
   "cell_type": "markdown",
   "metadata": {},
   "source": [
    "# OMP Final\n",
    "\n",
    "OrthogonalMatchingPursuit(fit_intercept=True, n_nonzero_coefs=3,\n",
    "             normalize=True, precompute='auto', tol=1e-20) \n",
    "\n",
    "\n",
    " 445.063183594 354.963614472 1532.34615385"
   ]
  },
  {
   "cell_type": "code",
   "execution_count": 21,
   "metadata": {
    "collapsed": false
   },
   "outputs": [
    {
     "name": "stdout",
     "output_type": "stream",
     "text": [
      "3\n",
      "\n",
      "[(302.3673068598909, 'sizeGB'), (98.0619727553009, 'ft39'), (3.3961833980045406, 'ppn'), (0.49317894769754, 'ft51'), (0.0, 'ft9'), (0.0, 'ft8'), (0.0, 'ft7'), (0.0, 'ft6'), (0.0, 'ft55'), (0.0, 'ft54'), (0.0, 'ft53'), (0.0, 'ft52'), (0.0, 'ft50'), (0.0, 'ft5'), (0.0, 'ft49'), (0.0, 'ft48'), (0.0, 'ft47'), (0.0, 'ft46'), (0.0, 'ft45'), (0.0, 'ft44'), (0.0, 'ft43'), (0.0, 'ft42'), (0.0, 'ft41'), (0.0, 'ft4'), (0.0, 'ft38'), (0.0, 'ft37'), (0.0, 'ft36'), (0.0, 'ft35'), (0.0, 'ft34'), (0.0, 'ft33'), (0.0, 'ft32'), (0.0, 'ft31'), (0.0, 'ft30'), (0.0, 'ft3'), (0.0, 'ft29'), (0.0, 'ft28'), (0.0, 'ft27'), (0.0, 'ft26'), (0.0, 'ft25'), (0.0, 'ft24'), (0.0, 'ft23'), (0.0, 'ft22'), (0.0, 'ft21'), (0.0, 'ft20'), (0.0, 'ft2'), (0.0, 'ft19'), (0.0, 'ft18'), (0.0, 'ft17'), (0.0, 'ft16'), (0.0, 'ft15'), (0.0, 'ft14'), (0.0, 'ft13'), (0.0, 'ft12'), (0.0, 'ft11'), (0.0, 'ft10'), (0.0, 'ft1'), (-4.4203725761317223, 'ft40')]\n"
     ]
    }
   ],
   "source": [
    "print(omp_mo.n_nonzero_coefs_)\n",
    "print()\n",
    "print(sorted(zip(map(lambda x: x, omp_mo.coef_), \n",
    "                 names), reverse=True))"
   ]
  },
  {
   "cell_type": "markdown",
   "metadata": {
    "collapsed": true
   },
   "source": [
    "#>>>>>>>>>>>\n"
   ]
  },
  {
   "cell_type": "markdown",
   "metadata": {},
   "source": [
    "# Final Model : OMPC\n",
    "\n",
    "function OMPCVModel at 0x7f4f23fe96a8>\n",
    "OrthogonalMatchingPursuit(fit_intercept=True, n_nonzero_coefs=3,\n",
    "             normalize=True, precompute='auto', tol=1e-20) \n",
    "\n",
    "\n",
    " 445.063183594 354.963614472 1532.34615385"
   ]
  },
  {
   "cell_type": "markdown",
   "metadata": {},
   "source": [
    "# 3"
   ]
  },
  {
   "cell_type": "markdown",
   "metadata": {},
   "source": [
    "# GradientBoostingCVModel"
   ]
  },
  {
   "cell_type": "code",
   "execution_count": 156,
   "metadata": {
    "collapsed": false,
    "scrolled": false
   },
   "outputs": [
    {
     "name": "stdout",
     "output_type": "stream",
     "text": [
      "\n",
      "Dataset size read: train 258 and test 63 \n",
      "\n",
      "# Tuning hyper-parameters \n",
      "\n",
      "Starting grdsurch.fit(X_train, y_train)\n",
      "\n",
      "Best parameters set found on development set:\n",
      "\n",
      "{'learning_rate': 0.01, 'loss': 'ls', 'n_estimators': 6000}\n",
      "GradientBoostingRegressor(alpha=0.9, criterion='friedman_mse', init=None,\n",
      "             learning_rate=0.01, loss='ls', max_depth=None,\n",
      "             max_features=None, max_leaf_nodes=None,\n",
      "             min_impurity_split=1e-07, min_samples_leaf=1,\n",
      "             min_samples_split=2, min_weight_fraction_leaf=0.0,\n",
      "             n_estimators=6000, presort='auto', random_state=None,\n",
      "             subsample=1.0, verbose=0, warm_start=False)\n",
      "\n",
      "Full Test Set: 63\n"
     ]
    },
    {
     "data": {
      "text/plain": [
       "array([  173.64,   203.98,   142.31,   164.02,   121.17,   203.5 ,\n",
       "        1740.7 ,  4234.26,  3077.01,  2376.19,  1393.36,  1919.57,\n",
       "        1616.34,  1593.28,  1174.9 ,  2587.3 ,  2896.27,  1723.63,\n",
       "        1932.2 ,  2769.22,  2210.97,  3353.35,  1895.33,  3348.91,\n",
       "        2184.34,  2659.86,   299.12,   300.32,  2771.25,  2294.56,\n",
       "        3143.72,  1868.49,   321.59,  1087.87,   695.76,  1082.16,\n",
       "        1365.13,  1357.24,  1870.14,   322.13,  2270.37,  3200.82,\n",
       "        2833.87,  1470.8 ,  2262.51,  1806.17,   462.77,   197.88,\n",
       "        1780.16,   738.16,  2142.12,  1333.76,  1862.39,  1808.07,\n",
       "        1637.05,  2258.66,  2119.13,   460.34,   504.45,   504.92,\n",
       "        1018.55,  2123.49,  1471.89])"
      ]
     },
     "metadata": {},
     "output_type": "display_data"
    },
    {
     "data": {
      "text/plain": [
       "array([  164.88004944,   204.7992288 ,   141.54016923,   164.88069787,\n",
       "         120.19048068,   204.43980357,  1732.64      ,  2004.19      ,\n",
       "        3121.145     ,  2397.295     ,  1322.        ,  1854.285     ,\n",
       "        1627.715     ,  1580.745     ,  3450.94      ,  2479.14      ,\n",
       "        2896.76      ,  1732.64      ,  2000.17      ,  2757.55      ,\n",
       "        2246.875     ,  2896.76      ,  2000.17      ,  3450.94      ,\n",
       "        2237.53      ,  2614.585     ,   320.75      ,   320.75      ,\n",
       "        2567.375     ,  2092.99      ,  3326.93      ,  1705.26      ,\n",
       "         310.675     ,   999.445     ,   668.125     ,  1039.415     ,\n",
       "        1366.43      ,  1473.64      ,  1880.84      ,   310.925     ,\n",
       "        2178.965     ,  3326.93      ,  2832.795     ,  1366.43      ,\n",
       "        2241.22      ,  1708.23      ,   505.67      ,   207.13      ,\n",
       "        1714.76      ,   761.05      ,  2028.46      ,  1333.42      ,\n",
       "        2125.54      ,  1628.58      ,  1628.58      ,  2241.22      ,\n",
       "        2032.825     ,   507.59      ,   505.67      ,   483.87      ,\n",
       "        1086.815     ,  2125.54      ,  1333.42      ])"
      ]
     },
     "metadata": {},
     "output_type": "display_data"
    },
    {
     "name": "stdout",
     "output_type": "stream",
     "text": [
      "A: 6\n"
     ]
    },
    {
     "data": {
      "text/plain": [
       "array([ 173.64,  203.98,  142.31,  164.02,  121.17,  203.5 ])"
      ]
     },
     "metadata": {},
     "output_type": "display_data"
    },
    {
     "data": {
      "text/plain": [
       "array([ 164.88004944,  204.7992288 ,  141.54016923,  164.88069787,\n",
       "        120.19048068,  204.43980357])"
      ]
     },
     "metadata": {},
     "output_type": "display_data"
    },
    {
     "name": "stdout",
     "output_type": "stream",
     "text": [
      "B: 19\n"
     ]
    },
    {
     "data": {
      "text/plain": [
       "array([ 1740.7 ,  4234.26,  3077.01,  2376.19,  1393.36,  1919.57,\n",
       "        1616.34,  1593.28,  1174.9 ,  2587.3 ,  2896.27,  1723.63,\n",
       "        1932.2 ,  2769.22,  2210.97,  3353.35,  1895.33,  3348.91,  2184.34])"
      ]
     },
     "metadata": {},
     "output_type": "display_data"
    },
    {
     "data": {
      "text/plain": [
       "array([ 1732.64 ,  2004.19 ,  3121.145,  2397.295,  1322.   ,  1854.285,\n",
       "        1627.715,  1580.745,  3450.94 ,  2479.14 ,  2896.76 ,  1732.64 ,\n",
       "        2000.17 ,  2757.55 ,  2246.875,  2896.76 ,  2000.17 ,  3450.94 ,\n",
       "        2237.53 ])"
      ]
     },
     "metadata": {},
     "output_type": "display_data"
    },
    {
     "name": "stdout",
     "output_type": "stream",
     "text": [
      "C: 19\n"
     ]
    },
    {
     "data": {
      "text/plain": [
       "array([ 2659.86,   299.12,   300.32,  2771.25,  2294.56,  3143.72,\n",
       "        1868.49,   321.59,  1087.87,   695.76,  1082.16,  1365.13,\n",
       "        1357.24,  1870.14,   322.13,  2270.37,  3200.82,  2833.87,  1470.8 ])"
      ]
     },
     "metadata": {},
     "output_type": "display_data"
    },
    {
     "data": {
      "text/plain": [
       "array([ 2614.585,   320.75 ,   320.75 ,  2567.375,  2092.99 ,  3326.93 ,\n",
       "        1705.26 ,   310.675,   999.445,   668.125,  1039.415,  1366.43 ,\n",
       "        1473.64 ,  1880.84 ,   310.925,  2178.965,  3326.93 ,  2832.795,\n",
       "        1366.43 ])"
      ]
     },
     "metadata": {},
     "output_type": "display_data"
    },
    {
     "name": "stdout",
     "output_type": "stream",
     "text": [
      "D: 19\n"
     ]
    },
    {
     "data": {
      "text/plain": [
       "array([ 2262.51,  1806.17,   462.77,   197.88,  1780.16,   738.16,\n",
       "        2142.12,  1333.76,  1862.39,  1808.07,  1637.05,  2258.66,\n",
       "        2119.13,   460.34,   504.45,   504.92,  1018.55,  2123.49,  1471.89])"
      ]
     },
     "metadata": {},
     "output_type": "display_data"
    },
    {
     "data": {
      "text/plain": [
       "array([ 2241.22 ,  1708.23 ,   505.67 ,   207.13 ,  1714.76 ,   761.05 ,\n",
       "        2028.46 ,  1333.42 ,  2125.54 ,  1628.58 ,  1628.58 ,  2241.22 ,\n",
       "        2032.825,   507.59 ,   505.67 ,   483.87 ,  1086.815,  2125.54 ,\n",
       "        1333.42 ])"
      ]
     },
     "metadata": {},
     "output_type": "display_data"
    },
    {
     "name": "stdout",
     "output_type": "stream",
     "text": [
      "【【】】adding new model for datasetIPPD.pickle \n",
      "\n",
      "【【【】】】newScore: 772.675236 \n",
      "____________________________________________________________________________________________________\n"
     ]
    }
   ],
   "source": [
    "t_boosting = wrapper([GradientBoostingCVModel])"
   ]
  },
  {
   "cell_type": "code",
   "execution_count": 160,
   "metadata": {
    "collapsed": false
   },
   "outputs": [
    {
     "name": "stdout",
     "output_type": "stream",
     "text": [
      "________________________________________________________________________________\n",
      "Model: GradientBoostingRegr\n",
      "Train RMSE: 772.675236 \n",
      "\n",
      "Test RMSE   : 413.782191\n",
      "Overall Mean: 1630.847937 \n",
      "\n",
      "A...TestA RMSE   : 3.664787\n",
      "A...y_test_A Mean: 168.103333 \n",
      "\n",
      "B...TestB RMSE   : 740.419508\n",
      "B...y_test_B Mean: 2317.217368 \n",
      "\n",
      "C...TestC RMSE   : 103.825000\n",
      "C...y_test_C Mean: 1642.905263 \n",
      "\n",
      "D...TestD RMSE   : 93.328999\n",
      "D...y_test_D Mean: 1394.340526\n",
      "________________________________________________________________________________\n"
     ]
    }
   ],
   "source": [
    "t_print = t_boosting\n",
    "\n",
    "for key in t_print.keys():\n",
    "    print(80*'_')\n",
    "    \n",
    "    print('Model: %s' % (str(t_print[key]['model'])[:20]))\n",
    "    print('Train RMSE: %f \\n' % (t_print[key]['train_rmse_cv_picking']))\n",
    "    \n",
    "    print('Test RMSE   : %f' % (t_print[key]['test_rmse_reporting']))\n",
    "    print('Overall Mean: %f \\n' % (t_print[key]['test_mean_y_comparing']))\n",
    "    \n",
    "    print('A...TestA RMSE   : %f' % (t_print[key]['test_rmse_reportingA']))\n",
    "    print('A...y_test_A Mean: %f \\n' % (t_print[key]['test_mean_y_comparingA']))\n",
    "    \n",
    "    print('B...TestB RMSE   : %f' % (t_print[key]['test_rmse_reportingB']))\n",
    "    print('B...y_test_B Mean: %f \\n' % (t_print[key]['test_mean_y_comparingB']))\n",
    "    \n",
    "    print('C...TestC RMSE   : %f' % (t_print[key]['test_rmse_reportingC']))\n",
    "    print('C...y_test_C Mean: %f \\n' % (t_print[key]['test_mean_y_comparingC']))\n",
    "    \n",
    "    print('D...TestD RMSE   : %f' % (t_print[key]['test_rmse_reportingD']))\n",
    "    print('D...y_test_D Mean: %f' % (t_print[key]['test_mean_y_comparingD']))\n",
    "    \n",
    "    print(80*'_')"
   ]
  },
  {
   "cell_type": "code",
   "execution_count": 73,
   "metadata": {
    "collapsed": false
   },
   "outputs": [
    {
     "name": "stdout",
     "output_type": "stream",
     "text": [
      "<function GradientBoostingCVModel at 0x7f563e1a1488>\n"
     ]
    }
   ],
   "source": [
    "# get the model\n",
    "for k in t_boosting.keys():\n",
    "    print(k)\n",
    "    mo = t_boosting[k]['model']\n",
    "\n",
    "# write the model to a file\n",
    "with open('4C4_boosting_tuned.pickle', 'wb') as handle:\n",
    "    pickle.dump(mo, handle)"
   ]
  },
  {
   "cell_type": "markdown",
   "metadata": {
    "collapsed": true
   },
   "source": [
    "#>>>>>>>>>>>\n"
   ]
  },
  {
   "cell_type": "markdown",
   "metadata": {},
   "source": [
    "# Final Model : Boosting\n",
    "\n",
    "\n",
    "<function GradientBoostingCVModel at 0x7f4f23fe9730>\n",
    "GradientBoostingRegressor(alpha=0.9, criterion='friedman_mse', init=None,\n",
    "             learning_rate=0.005, loss='ls', max_depth=None,\n",
    "             max_features=None, max_leaf_nodes=None,\n",
    "             min_impurity_split=1e-07, min_samples_leaf=1,\n",
    "             min_samples_split=2, min_weight_fraction_leaf=0.0,\n",
    "             n_estimators=6000, presort='auto', random_state=None,\n",
    "             subsample=1.0, verbose=0, warm_start=False) \n",
    "\n",
    "\n",
    " 421.20889837 342.771761754 1532.34615385"
   ]
  },
  {
   "cell_type": "markdown",
   "metadata": {},
   "source": [
    "<:>:<:>:<:>:<:>:<:>:<:>:<:>:<:>:<:>:<:>:<:>:<:>:<:>:<:>:<:><:>:<:>:<:>:<:>:<:>:<:>:<:>:<:>:<:>:<:>:<:>:<:>:<:>:<:>:<:>\n",
    "<:>:<:>:<:>:<:>:<:>:<:>:<:>:<:>:<:>:<:>:<:>:<:>:<:>:<:>:<:><:>:<:>:<:>:<:>:<:>:<:>:<:>:<:>:<:>:<:>:<:>:<:>:<:>:<:>:<:>\n",
    "<:>:<:>:<:>:<:>:<:>:<:>:<:>:<:>:<:>:<:>:<:>:<:>:<:>:<:>:<:><:>:<:>:<:>:<:>:<:>:<:>:<:>:<:>:<:>:<:>:<:>:<:>:<:>:<:>:<:>\n",
    "<:>:<:>:<:>:<:>:<:>:<:>:<:>:<:>:<:>:<:>:<:>:<:>:<:>:<:>:<:><:>:<:>:<:>:<:>:<:>:<:>:<:>:<:>:<:>:<:>:<:>:<:>:<:>:<:>:<:>\n"
   ]
  },
  {
   "cell_type": "markdown",
   "metadata": {},
   "source": [
    "# 4"
   ]
  },
  {
   "cell_type": "markdown",
   "metadata": {},
   "source": [
    "# Random Forest"
   ]
  },
  {
   "cell_type": "code",
   "execution_count": 158,
   "metadata": {
    "collapsed": false,
    "scrolled": false
   },
   "outputs": [
    {
     "name": "stdout",
     "output_type": "stream",
     "text": [
      "\n",
      "Dataset size read: train 258 and test 63 \n",
      "\n",
      "# Tuning hyper-parameters \n",
      "\n",
      "Starting grdsurch.fit(X_train, y_train)\n",
      "\n",
      "Best parameters set found on development set:\n",
      "\n",
      "{'n_estimators': 6000}\n",
      "RandomForestRegressor(bootstrap=True, criterion='mse', max_depth=None,\n",
      "           max_features='auto', max_leaf_nodes=None,\n",
      "           min_impurity_split=1e-07, min_samples_leaf=1,\n",
      "           min_samples_split=2, min_weight_fraction_leaf=0.0,\n",
      "           n_estimators=6000, n_jobs=-1, oob_score=True, random_state=None,\n",
      "           verbose=0, warm_start=False)\n",
      "\n",
      "Full Test Set: 63\n"
     ]
    },
    {
     "data": {
      "text/plain": [
       "array([  173.64,   203.98,   142.31,   164.02,   121.17,   203.5 ,\n",
       "        1740.7 ,  4234.26,  3077.01,  2376.19,  1393.36,  1919.57,\n",
       "        1616.34,  1593.28,  1174.9 ,  2587.3 ,  2896.27,  1723.63,\n",
       "        1932.2 ,  2769.22,  2210.97,  3353.35,  1895.33,  3348.91,\n",
       "        2184.34,  2659.86,   299.12,   300.32,  2771.25,  2294.56,\n",
       "        3143.72,  1868.49,   321.59,  1087.87,   695.76,  1082.16,\n",
       "        1365.13,  1357.24,  1870.14,   322.13,  2270.37,  3200.82,\n",
       "        2833.87,  1470.8 ,  2262.51,  1806.17,   462.77,   197.88,\n",
       "        1780.16,   738.16,  2142.12,  1333.76,  1862.39,  1808.07,\n",
       "        1637.05,  2258.66,  2119.13,   460.34,   504.45,   504.92,\n",
       "        1018.55,  2123.49,  1471.89])"
      ]
     },
     "metadata": {},
     "output_type": "display_data"
    },
    {
     "data": {
      "text/plain": [
       "array([  189.39534014,   312.20921941,   142.66169833,   190.90974925,\n",
       "         121.29463333,   308.05616387,  1702.36944094,  2001.91316673,\n",
       "        3106.93072303,  2420.16349092,  1330.69136276,  1873.83800733,\n",
       "        1623.25069077,  1587.88548732,  3417.99376441,  2482.08477311,\n",
       "        2822.29341316,  1702.36944094,  1955.2807348 ,  2771.91599686,\n",
       "        2232.88423151,  2822.29341316,  1955.2807348 ,  3417.99376441,\n",
       "        2240.46741508,  2609.00518215,   316.80936011,   316.80936011,\n",
       "        2576.25909124,  2126.45903105,  3199.96384452,  1721.0536016 ,\n",
       "         311.22212863,  1004.31980308,   669.71157327,  1036.70548616,\n",
       "        1402.68431322,  1467.74502927,  1867.15218242,   310.31385356,\n",
       "        2172.71285797,  3199.96384452,  2855.07132143,  1402.68431322,\n",
       "        2291.8097896 ,  1713.93046251,   505.06075757,   207.50813623,\n",
       "        1702.32006288,   765.60513658,  2038.93578582,  1385.31194499,\n",
       "        2090.31767282,  1657.44056907,  1657.44056907,  2291.8097896 ,\n",
       "        2032.0688699 ,   503.3849982 ,   505.06075757,   486.46725249,\n",
       "        1088.89344248,  2090.31767282,  1385.31194499])"
      ]
     },
     "metadata": {},
     "output_type": "display_data"
    },
    {
     "name": "stdout",
     "output_type": "stream",
     "text": [
      "A: 6\n"
     ]
    },
    {
     "data": {
      "text/plain": [
       "array([ 173.64,  203.98,  142.31,  164.02,  121.17,  203.5 ])"
      ]
     },
     "metadata": {},
     "output_type": "display_data"
    },
    {
     "data": {
      "text/plain": [
       "array([ 189.39534014,  312.20921941,  142.66169833,  190.90974925,\n",
       "        121.29463333,  308.05616387])"
      ]
     },
     "metadata": {},
     "output_type": "display_data"
    },
    {
     "name": "stdout",
     "output_type": "stream",
     "text": [
      "B: 19\n"
     ]
    },
    {
     "data": {
      "text/plain": [
       "array([ 1740.7 ,  4234.26,  3077.01,  2376.19,  1393.36,  1919.57,\n",
       "        1616.34,  1593.28,  1174.9 ,  2587.3 ,  2896.27,  1723.63,\n",
       "        1932.2 ,  2769.22,  2210.97,  3353.35,  1895.33,  3348.91,  2184.34])"
      ]
     },
     "metadata": {},
     "output_type": "display_data"
    },
    {
     "data": {
      "text/plain": [
       "array([ 1702.36944094,  2001.91316673,  3106.93072303,  2420.16349092,\n",
       "        1330.69136276,  1873.83800733,  1623.25069077,  1587.88548732,\n",
       "        3417.99376441,  2482.08477311,  2822.29341316,  1702.36944094,\n",
       "        1955.2807348 ,  2771.91599686,  2232.88423151,  2822.29341316,\n",
       "        1955.2807348 ,  3417.99376441,  2240.46741508])"
      ]
     },
     "metadata": {},
     "output_type": "display_data"
    },
    {
     "name": "stdout",
     "output_type": "stream",
     "text": [
      "C: 19\n"
     ]
    },
    {
     "data": {
      "text/plain": [
       "array([ 2659.86,   299.12,   300.32,  2771.25,  2294.56,  3143.72,\n",
       "        1868.49,   321.59,  1087.87,   695.76,  1082.16,  1365.13,\n",
       "        1357.24,  1870.14,   322.13,  2270.37,  3200.82,  2833.87,  1470.8 ])"
      ]
     },
     "metadata": {},
     "output_type": "display_data"
    },
    {
     "data": {
      "text/plain": [
       "array([ 2609.00518215,   316.80936011,   316.80936011,  2576.25909124,\n",
       "        2126.45903105,  3199.96384452,  1721.0536016 ,   311.22212863,\n",
       "        1004.31980308,   669.71157327,  1036.70548616,  1402.68431322,\n",
       "        1467.74502927,  1867.15218242,   310.31385356,  2172.71285797,\n",
       "        3199.96384452,  2855.07132143,  1402.68431322])"
      ]
     },
     "metadata": {},
     "output_type": "display_data"
    },
    {
     "name": "stdout",
     "output_type": "stream",
     "text": [
      "D: 19\n"
     ]
    },
    {
     "data": {
      "text/plain": [
       "array([ 2262.51,  1806.17,   462.77,   197.88,  1780.16,   738.16,\n",
       "        2142.12,  1333.76,  1862.39,  1808.07,  1637.05,  2258.66,\n",
       "        2119.13,   460.34,   504.45,   504.92,  1018.55,  2123.49,  1471.89])"
      ]
     },
     "metadata": {},
     "output_type": "display_data"
    },
    {
     "data": {
      "text/plain": [
       "array([ 2291.8097896 ,  1713.93046251,   505.06075757,   207.50813623,\n",
       "        1702.32006288,   765.60513658,  2038.93578582,  1385.31194499,\n",
       "        2090.31767282,  1657.44056907,  1657.44056907,  2291.8097896 ,\n",
       "        2032.0688699 ,   503.3849982 ,   505.06075757,   486.46725249,\n",
       "        1088.89344248,  2090.31767282,  1385.31194499])"
      ]
     },
     "metadata": {},
     "output_type": "display_data"
    },
    {
     "name": "stdout",
     "output_type": "stream",
     "text": [
      "【【】】adding new model for datasetIPPD.pickle \n",
      "\n",
      "【【【】】】newScore: 423.887481 \n",
      "____________________________________________________________________________________________________\n"
     ]
    }
   ],
   "source": [
    "t_rforest = wrapper([RandomForestCVModel])"
   ]
  },
  {
   "cell_type": "code",
   "execution_count": 159,
   "metadata": {
    "collapsed": false
   },
   "outputs": [
    {
     "name": "stdout",
     "output_type": "stream",
     "text": [
      "________________________________________________________________________________\n",
      "Model: RandomForestRegresso\n",
      "Train RMSE: 423.887481 \n",
      "\n",
      "Test RMSE   : 410.648430\n",
      "Overall Mean: 1630.847937 \n",
      "\n",
      "A...TestA RMSE   : 62.738855\n",
      "A...y_test_A Mean: 168.103333 \n",
      "\n",
      "B...TestB RMSE   : 737.591702\n",
      "B...y_test_B Mean: 2317.217368 \n",
      "\n",
      "C...TestC RMSE   : 83.534162\n",
      "C...y_test_C Mean: 1642.905263 \n",
      "\n",
      "D...TestD RMSE   : 82.982998\n",
      "D...y_test_D Mean: 1394.340526\n",
      "________________________________________________________________________________\n"
     ]
    }
   ],
   "source": [
    "t_print = t_rforest\n",
    "\n",
    "for key in t_print.keys():\n",
    "    print(80*'_')\n",
    "    \n",
    "    print('Model: %s' % (str(t_print[key]['model'])[:20]))\n",
    "    print('Train RMSE: %f \\n' % (t_print[key]['train_rmse_cv_picking']))\n",
    "    \n",
    "    print('Test RMSE   : %f' % (t_print[key]['test_rmse_reporting']))\n",
    "    print('Overall Mean: %f \\n' % (t_print[key]['test_mean_y_comparing']))\n",
    "    \n",
    "    print('A...TestA RMSE   : %f' % (t_print[key]['test_rmse_reportingA']))\n",
    "    print('A...y_test_A Mean: %f \\n' % (t_print[key]['test_mean_y_comparingA']))\n",
    "    \n",
    "    print('B...TestB RMSE   : %f' % (t_print[key]['test_rmse_reportingB']))\n",
    "    print('B...y_test_B Mean: %f \\n' % (t_print[key]['test_mean_y_comparingB']))\n",
    "    \n",
    "    print('C...TestC RMSE   : %f' % (t_print[key]['test_rmse_reportingC']))\n",
    "    print('C...y_test_C Mean: %f \\n' % (t_print[key]['test_mean_y_comparingC']))\n",
    "    \n",
    "    print('D...TestD RMSE   : %f' % (t_print[key]['test_rmse_reportingD']))\n",
    "    print('D...y_test_D Mean: %f' % (t_print[key]['test_mean_y_comparingD']))\n",
    "    \n",
    "    print(80*'_')"
   ]
  },
  {
   "cell_type": "code",
   "execution_count": 67,
   "metadata": {
    "collapsed": false
   },
   "outputs": [
    {
     "name": "stdout",
     "output_type": "stream",
     "text": [
      "<function RandomForestCVModel at 0x7f566422c598>\n"
     ]
    }
   ],
   "source": [
    "# get the model\n",
    "for k in t_rforest.keys():\n",
    "    print(k)\n",
    "    mo = t_rforest[k]['model']\n",
    "\n",
    "# write the model to a file\n",
    "with open('4C4_rforest_tuned.pickle', 'wb') as handle:\n",
    "    pickle.dump(mo, handle, protocol=pickle.HIGHEST_PROTOCOL)"
   ]
  },
  {
   "cell_type": "markdown",
   "metadata": {
    "collapsed": true
   },
   "source": [
    "#>>>>>>>>>>>\n"
   ]
  },
  {
   "cell_type": "markdown",
   "metadata": {},
   "source": [
    "# Final Model: Random Forest\n",
    "\n",
    "RandomForestRegressor(bootstrap=True, criterion='mse', max_depth=None,\n",
    "           max_features='auto', max_leaf_nodes=None,\n",
    "           min_impurity_split=1e-07, min_samples_leaf=1,\n",
    "           min_samples_split=2, min_weight_fraction_leaf=0.0,\n",
    "           n_estimators=4000, n_jobs=-1, oob_score=True, random_state=None,\n",
    "           verbose=0, warm_start=False) \n",
    "\n",
    "\n",
    " 413.344478118 339.417223286 1532.34615385"
   ]
  },
  {
   "cell_type": "markdown",
   "metadata": {},
   "source": [
    "<:>:<:>:<:>:<:>:<:>:<:>:<:>:<:>:<:>:<:>:<:>:<:>:<:>:<:>:<:><:>:<:>:<:>:<:>:<:>:<:>:<:>:<:>:<:>:<:>:<:>:<:>:<:>:<:>:<:>\n",
    "<:>:<:>:<:>:<:>:<:>:<:>:<:>:<:>:<:>:<:>:<:>:<:>:<:>:<:>:<:><:>:<:>:<:>:<:>:<:>:<:>:<:>:<:>:<:>:<:>:<:>:<:>:<:>:<:>:<:>\n",
    "<:>:<:>:<:>:<:>:<:>:<:>:<:>:<:>:<:>:<:>:<:>:<:>:<:>:<:>:<:><:>:<:>:<:>:<:>:<:>:<:>:<:>:<:>:<:>:<:>:<:>:<:>:<:>:<:>:<:>\n",
    "<:>:<:>:<:>:<:>:<:>:<:>:<:>:<:>:<:>:<:>:<:>:<:>:<:>:<:>:<:><:>:<:>:<:>:<:>:<:>:<:>:<:>:<:>:<:>:<:>:<:>:<:>:<:>:<:>:<:>\n"
   ]
  },
  {
   "cell_type": "markdown",
   "metadata": {},
   "source": [
    "RidgeCVModel, ElasticNetCVModel, \n",
    "                 SVRPolyCVModel, SVRSigmoidCVModel, SVRLinearCVModel, \n",
    "                 SVRRbfCVModel ] #OMPCVModel"
   ]
  },
  {
   "cell_type": "markdown",
   "metadata": {},
   "source": [
    "# 5 "
   ]
  },
  {
   "cell_type": "markdown",
   "metadata": {},
   "source": [
    "# RidgeModel"
   ]
  },
  {
   "cell_type": "code",
   "execution_count": 28,
   "metadata": {
    "collapsed": true
   },
   "outputs": [],
   "source": [
    "########################### Test Ridge with Scaling ###########################\n",
    "# the L1 and L2 regularizers of linear models) assume that all features are \n",
    "# centered around 0 and have variance in the same order"
   ]
  },
  {
   "cell_type": "code",
   "execution_count": 29,
   "metadata": {
    "collapsed": true
   },
   "outputs": [],
   "source": [
    "# Note: Scaling improves Ridge"
   ]
  },
  {
   "cell_type": "code",
   "execution_count": 161,
   "metadata": {
    "collapsed": false,
    "scrolled": true
   },
   "outputs": [
    {
     "name": "stdout",
     "output_type": "stream",
     "text": [
      "\n",
      "Dataset size read: train 258 and test 63 \n",
      "\n",
      "# Tuning hyper-parameters \n",
      "\n",
      "Starting grdsurch.fit(X_train, y_train)\n",
      "\n",
      "Best parameters set found on development set:\n",
      "\n",
      "{'alpha': 1.0000000000000001e-15}\n",
      "Ridge(alpha=1.0000000000000001e-15, copy_X=True, fit_intercept=True,\n",
      "   max_iter=None, normalize=False, random_state=None, solver='auto',\n",
      "   tol=1e-20)\n",
      "\n",
      "Full Test Set: 63\n"
     ]
    },
    {
     "data": {
      "text/plain": [
       "array([  173.64,   203.98,   142.31,   164.02,   121.17,   203.5 ,\n",
       "        1740.7 ,  4234.26,  3077.01,  2376.19,  1393.36,  1919.57,\n",
       "        1616.34,  1593.28,  1174.9 ,  2587.3 ,  2896.27,  1723.63,\n",
       "        1932.2 ,  2769.22,  2210.97,  3353.35,  1895.33,  3348.91,\n",
       "        2184.34,  2659.86,   299.12,   300.32,  2771.25,  2294.56,\n",
       "        3143.72,  1868.49,   321.59,  1087.87,   695.76,  1082.16,\n",
       "        1365.13,  1357.24,  1870.14,   322.13,  2270.37,  3200.82,\n",
       "        2833.87,  1470.8 ,  2262.51,  1806.17,   462.77,   197.88,\n",
       "        1780.16,   738.16,  2142.12,  1333.76,  1862.39,  1808.07,\n",
       "        1637.05,  2258.66,  2119.13,   460.34,   504.45,   504.92,\n",
       "        1018.55,  2123.49,  1471.89])"
      ]
     },
     "metadata": {},
     "output_type": "display_data"
    },
    {
     "data": {
      "text/plain": [
       "array([  850.57754835,  1095.53811028,   605.61698641,   866.58391355,\n",
       "         344.65005927,  1079.53174507,  2408.56752985,  2392.80038394,\n",
       "        2377.72099351,  2361.26609212,  2360.30331621,  2360.78765352,\n",
       "        2376.55479943,  2360.54843422,  2393.96657802,  2409.28518774,\n",
       "        2377.51167663,  2408.56752985,  2376.79401873,  2393.51804183,\n",
       "        2377.03323803,  2377.51167663,  2376.79401873,  2393.96657802,\n",
       "        2409.04596844,  2590.02830554,   241.46891799,   241.46891799,\n",
       "        2638.04740116,  2254.60019305,  3020.10194909,  1872.54564511,\n",
       "         257.47528319,  1076.42381882,   668.48055452,  1060.41745362,\n",
       "        1474.48473197,  1442.47200155,  1840.5329147 ,   289.48801361,\n",
       "        2270.60655825,  3020.10194909,  2988.08921868,  1474.48473197,\n",
       "        2094.80899378,  1620.89423511,   647.36997098,   374.34379706,\n",
       "        1652.90696553,   886.01254931,  1865.85479705,  1359.92730797,\n",
       "        1849.84843184,  1636.90060032,  1636.90060032,  2094.80899378,\n",
       "        1881.86116226,   631.36360578,   647.36997098,   663.37633619,\n",
       "        1146.97947645,  1849.84843184,  1359.92730797])"
      ]
     },
     "metadata": {},
     "output_type": "display_data"
    },
    {
     "name": "stdout",
     "output_type": "stream",
     "text": [
      "A: 6\n"
     ]
    },
    {
     "data": {
      "text/plain": [
       "array([ 173.64,  203.98,  142.31,  164.02,  121.17,  203.5 ])"
      ]
     },
     "metadata": {},
     "output_type": "display_data"
    },
    {
     "data": {
      "text/plain": [
       "array([  850.57754835,  1095.53811028,   605.61698641,   866.58391355,\n",
       "         344.65005927,  1079.53174507])"
      ]
     },
     "metadata": {},
     "output_type": "display_data"
    },
    {
     "name": "stdout",
     "output_type": "stream",
     "text": [
      "B: 19\n"
     ]
    },
    {
     "data": {
      "text/plain": [
       "array([ 1740.7 ,  4234.26,  3077.01,  2376.19,  1393.36,  1919.57,\n",
       "        1616.34,  1593.28,  1174.9 ,  2587.3 ,  2896.27,  1723.63,\n",
       "        1932.2 ,  2769.22,  2210.97,  3353.35,  1895.33,  3348.91,  2184.34])"
      ]
     },
     "metadata": {},
     "output_type": "display_data"
    },
    {
     "data": {
      "text/plain": [
       "array([ 2408.56752985,  2392.80038394,  2377.72099351,  2361.26609212,\n",
       "        2360.30331621,  2360.78765352,  2376.55479943,  2360.54843422,\n",
       "        2393.96657802,  2409.28518774,  2377.51167663,  2408.56752985,\n",
       "        2376.79401873,  2393.51804183,  2377.03323803,  2377.51167663,\n",
       "        2376.79401873,  2393.96657802,  2409.04596844])"
      ]
     },
     "metadata": {},
     "output_type": "display_data"
    },
    {
     "name": "stdout",
     "output_type": "stream",
     "text": [
      "C: 19\n"
     ]
    },
    {
     "data": {
      "text/plain": [
       "array([ 2659.86,   299.12,   300.32,  2771.25,  2294.56,  3143.72,\n",
       "        1868.49,   321.59,  1087.87,   695.76,  1082.16,  1365.13,\n",
       "        1357.24,  1870.14,   322.13,  2270.37,  3200.82,  2833.87,  1470.8 ])"
      ]
     },
     "metadata": {},
     "output_type": "display_data"
    },
    {
     "data": {
      "text/plain": [
       "array([ 2590.02830554,   241.46891799,   241.46891799,  2638.04740116,\n",
       "        2254.60019305,  3020.10194909,  1872.54564511,   257.47528319,\n",
       "        1076.42381882,   668.48055452,  1060.41745362,  1474.48473197,\n",
       "        1442.47200155,  1840.5329147 ,   289.48801361,  2270.60655825,\n",
       "        3020.10194909,  2988.08921868,  1474.48473197])"
      ]
     },
     "metadata": {},
     "output_type": "display_data"
    },
    {
     "name": "stdout",
     "output_type": "stream",
     "text": [
      "D: 19\n"
     ]
    },
    {
     "data": {
      "text/plain": [
       "array([ 2262.51,  1806.17,   462.77,   197.88,  1780.16,   738.16,\n",
       "        2142.12,  1333.76,  1862.39,  1808.07,  1637.05,  2258.66,\n",
       "        2119.13,   460.34,   504.45,   504.92,  1018.55,  2123.49,  1471.89])"
      ]
     },
     "metadata": {},
     "output_type": "display_data"
    },
    {
     "data": {
      "text/plain": [
       "array([ 2094.80899378,  1620.89423511,   647.36997098,   374.34379706,\n",
       "        1652.90696553,   886.01254931,  1865.85479705,  1359.92730797,\n",
       "        1849.84843184,  1636.90060032,  1636.90060032,  2094.80899378,\n",
       "        1881.86116226,   631.36360578,   647.36997098,   663.37633619,\n",
       "        1146.97947645,  1849.84843184,  1359.92730797])"
      ]
     },
     "metadata": {},
     "output_type": "display_data"
    },
    {
     "name": "stdout",
     "output_type": "stream",
     "text": [
      "【【】】adding new model for datasetIPPD.pickle \n",
      "\n",
      "【【【】】】newScore: 10670.010355 \n",
      "____________________________________________________________________________________________________\n"
     ]
    }
   ],
   "source": [
    "t_ridge = wrapper([RidgeCVModel])"
   ]
  },
  {
   "cell_type": "code",
   "execution_count": 162,
   "metadata": {
    "collapsed": false
   },
   "outputs": [
    {
     "name": "stdout",
     "output_type": "stream",
     "text": [
      "________________________________________________________________________________\n",
      "Model: Ridge(alpha=1.000000\n",
      "Train RMSE: 10670.010355 \n",
      "\n",
      "Test RMSE   : 485.236122\n",
      "Overall Mean: 1630.847937 \n",
      "\n",
      "A...TestA RMSE   : 680.532228\n",
      "A...y_test_A Mean: 168.103333 \n",
      "\n",
      "B...TestB RMSE   : 774.306513\n",
      "B...y_test_B Mean: 2317.217368 \n",
      "\n",
      "C...TestC RMSE   : 82.519859\n",
      "C...y_test_C Mean: 1642.905263 \n",
      "\n",
      "D...TestD RMSE   : 167.649584\n",
      "D...y_test_D Mean: 1394.340526\n",
      "________________________________________________________________________________\n"
     ]
    }
   ],
   "source": [
    "t_print = t_ridge\n",
    "\n",
    "for key in t_print.keys():\n",
    "    print(80*'_')\n",
    "    \n",
    "    print('Model: %s' % (str(t_print[key]['model'])[:20]))\n",
    "    print('Train RMSE: %f \\n' % (t_print[key]['train_rmse_cv_picking']))\n",
    "    \n",
    "    print('Test RMSE   : %f' % (t_print[key]['test_rmse_reporting']))\n",
    "    print('Overall Mean: %f \\n' % (t_print[key]['test_mean_y_comparing']))\n",
    "    \n",
    "    print('A...TestA RMSE   : %f' % (t_print[key]['test_rmse_reportingA']))\n",
    "    print('A...y_test_A Mean: %f \\n' % (t_print[key]['test_mean_y_comparingA']))\n",
    "    \n",
    "    print('B...TestB RMSE   : %f' % (t_print[key]['test_rmse_reportingB']))\n",
    "    print('B...y_test_B Mean: %f \\n' % (t_print[key]['test_mean_y_comparingB']))\n",
    "    \n",
    "    print('C...TestC RMSE   : %f' % (t_print[key]['test_rmse_reportingC']))\n",
    "    print('C...y_test_C Mean: %f \\n' % (t_print[key]['test_mean_y_comparingC']))\n",
    "    \n",
    "    print('D...TestD RMSE   : %f' % (t_print[key]['test_rmse_reportingD']))\n",
    "    print('D...y_test_D Mean: %f' % (t_print[key]['test_mean_y_comparingD']))\n",
    "    \n",
    "    print(80*'_')"
   ]
  },
  {
   "cell_type": "markdown",
   "metadata": {
    "collapsed": true
   },
   "source": [
    "#>>>>>>>>>>>\n"
   ]
  },
  {
   "cell_type": "markdown",
   "metadata": {},
   "source": [
    "# Ridge - Final Model\n",
    "\n",
    "Ridge(alpha=1e-10, copy_X=True, fit_intercept=True, max_iter=None,\n",
    "   normalize=False, random_state=None, solver='auto', tol=1e-20) \n",
    "\n",
    "\n",
    " 570.369986755 478.511724276 1532.34615385"
   ]
  },
  {
   "cell_type": "code",
   "execution_count": 68,
   "metadata": {
    "collapsed": false
   },
   "outputs": [
    {
     "name": "stdout",
     "output_type": "stream",
     "text": [
      "<function RidgeCVModel at 0x7f563e1a1048>\n"
     ]
    }
   ],
   "source": [
    "# get the model\n",
    "for k in t_ridge.keys():\n",
    "    print(k)\n",
    "    mo = t_ridge[k]['model']\n",
    "\n",
    "# write the model to a file\n",
    "with open('4C4_ridge_tuned.pickle', 'wb') as handle:\n",
    "    pickle.dump(mo, handle, protocol=pickle.HIGHEST_PROTOCOL)"
   ]
  },
  {
   "cell_type": "markdown",
   "metadata": {},
   "source": [
    "<:>:<:>:<:>:<:>:<:>:<:>:<:>:<:>:<:>:<:>:<:>:<:>:<:>:<:>:<:><:>:<:>:<:>:<:>:<:>:<:>:<:>:<:>:<:>:<:>:<:>:<:>:<:>:<:>:<:>\n",
    "<:>:<:>:<:>:<:>:<:>:<:>:<:>:<:>:<:>:<:>:<:>:<:>:<:>:<:>:<:><:>:<:>:<:>:<:>:<:>:<:>:<:>:<:>:<:>:<:>:<:>:<:>:<:>:<:>:<:>\n",
    "<:>:<:>:<:>:<:>:<:>:<:>:<:>:<:>:<:>:<:>:<:>:<:>:<:>:<:>:<:><:>:<:>:<:>:<:>:<:>:<:>:<:>:<:>:<:>:<:>:<:>:<:>:<:>:<:>:<:>\n",
    "<:>:<:>:<:>:<:>:<:>:<:>:<:>:<:>:<:>:<:>:<:>:<:>:<:>:<:>:<:><:>:<:>:<:>:<:>:<:>:<:>:<:>:<:>:<:>:<:>:<:>:<:>:<:>:<:>:<:>\n"
   ]
  },
  {
   "cell_type": "markdown",
   "metadata": {},
   "source": [
    "# 6"
   ]
  },
  {
   "cell_type": "markdown",
   "metadata": {},
   "source": [
    "# Elastic Net"
   ]
  },
  {
   "cell_type": "code",
   "execution_count": 37,
   "metadata": {
    "collapsed": true
   },
   "outputs": [],
   "source": [
    "########################### Test ElasticNet with Scaling ###########################\n",
    "#\n",
    "# the L1 and L2 regularizers of linear models) assume that all features are \n",
    "# centered around 0 and have variance in the same order"
   ]
  },
  {
   "cell_type": "code",
   "execution_count": 163,
   "metadata": {
    "collapsed": false,
    "scrolled": true
   },
   "outputs": [
    {
     "name": "stdout",
     "output_type": "stream",
     "text": [
      "\n",
      "Dataset size read: train 258 and test 63 \n",
      "\n",
      "# Tuning hyper-parameters \n",
      "\n",
      "Starting grdsurch.fit(X_train, y_train)\n"
     ]
    },
    {
     "name": "stderr",
     "output_type": "stream",
     "text": [
      "/data/home/a1singh/anaconda3/lib/python3.6/site-packages/sklearn/linear_model/coordinate_descent.py:484: ConvergenceWarning: Objective did not converge. You might want to increase the number of iterations. Fitting data with very small alpha may cause precision problems.\n",
      "  ConvergenceWarning)\n",
      "/data/home/a1singh/anaconda3/lib/python3.6/site-packages/sklearn/linear_model/coordinate_descent.py:484: ConvergenceWarning: Objective did not converge. You might want to increase the number of iterations. Fitting data with very small alpha may cause precision problems.\n",
      "  ConvergenceWarning)\n",
      "/data/home/a1singh/anaconda3/lib/python3.6/site-packages/sklearn/linear_model/coordinate_descent.py:484: ConvergenceWarning: Objective did not converge. You might want to increase the number of iterations. Fitting data with very small alpha may cause precision problems.\n",
      "  ConvergenceWarning)\n",
      "/data/home/a1singh/anaconda3/lib/python3.6/site-packages/sklearn/linear_model/coordinate_descent.py:484: ConvergenceWarning: Objective did not converge. You might want to increase the number of iterations. Fitting data with very small alpha may cause precision problems.\n",
      "  ConvergenceWarning)\n",
      "/data/home/a1singh/anaconda3/lib/python3.6/site-packages/sklearn/linear_model/coordinate_descent.py:484: ConvergenceWarning: Objective did not converge. You might want to increase the number of iterations. Fitting data with very small alpha may cause precision problems.\n",
      "  ConvergenceWarning)\n",
      "/data/home/a1singh/anaconda3/lib/python3.6/site-packages/sklearn/linear_model/coordinate_descent.py:484: ConvergenceWarning: Objective did not converge. You might want to increase the number of iterations. Fitting data with very small alpha may cause precision problems.\n",
      "  ConvergenceWarning)\n",
      "/data/home/a1singh/anaconda3/lib/python3.6/site-packages/sklearn/linear_model/coordinate_descent.py:484: ConvergenceWarning: Objective did not converge. You might want to increase the number of iterations. Fitting data with very small alpha may cause precision problems.\n",
      "  ConvergenceWarning)\n",
      "/data/home/a1singh/anaconda3/lib/python3.6/site-packages/sklearn/linear_model/coordinate_descent.py:484: ConvergenceWarning: Objective did not converge. You might want to increase the number of iterations. Fitting data with very small alpha may cause precision problems.\n",
      "  ConvergenceWarning)\n",
      "/data/home/a1singh/anaconda3/lib/python3.6/site-packages/sklearn/linear_model/coordinate_descent.py:484: ConvergenceWarning: Objective did not converge. You might want to increase the number of iterations. Fitting data with very small alpha may cause precision problems.\n",
      "  ConvergenceWarning)\n"
     ]
    },
    {
     "name": "stdout",
     "output_type": "stream",
     "text": [
      "\n",
      "Best parameters set found on development set:\n",
      "\n",
      "{'l1_ratio': 0.001}\n",
      "ElasticNet(alpha=3.7926901907322537e-14, copy_X=True, fit_intercept=True,\n",
      "      l1_ratio=0.001, max_iter=10000000.0, normalize=False, positive=False,\n",
      "      precompute=False, random_state=None, selection='cyclic', tol=1e-20,\n",
      "      warm_start=False)\n",
      "\n",
      "Full Test Set: 63\n"
     ]
    },
    {
     "name": "stderr",
     "output_type": "stream",
     "text": [
      "/data/home/a1singh/anaconda3/lib/python3.6/site-packages/sklearn/linear_model/coordinate_descent.py:484: ConvergenceWarning: Objective did not converge. You might want to increase the number of iterations. Fitting data with very small alpha may cause precision problems.\n",
      "  ConvergenceWarning)\n"
     ]
    },
    {
     "data": {
      "text/plain": [
       "array([  173.64,   203.98,   142.31,   164.02,   121.17,   203.5 ,\n",
       "        1740.7 ,  4234.26,  3077.01,  2376.19,  1393.36,  1919.57,\n",
       "        1616.34,  1593.28,  1174.9 ,  2587.3 ,  2896.27,  1723.63,\n",
       "        1932.2 ,  2769.22,  2210.97,  3353.35,  1895.33,  3348.91,\n",
       "        2184.34,  2659.86,   299.12,   300.32,  2771.25,  2294.56,\n",
       "        3143.72,  1868.49,   321.59,  1087.87,   695.76,  1082.16,\n",
       "        1365.13,  1357.24,  1870.14,   322.13,  2270.37,  3200.82,\n",
       "        2833.87,  1470.8 ,  2262.51,  1806.17,   462.77,   197.88,\n",
       "        1780.16,   738.16,  2142.12,  1333.76,  1862.39,  1808.07,\n",
       "        1637.05,  2258.66,  2119.13,   460.34,   504.45,   504.92,\n",
       "        1018.55,  2123.49,  1471.89])"
      ]
     },
     "metadata": {},
     "output_type": "display_data"
    },
    {
     "data": {
      "text/plain": [
       "array([  850.57754833,  1095.53811027,   605.61698639,   866.58391355,\n",
       "         344.65005924,  1079.53174505,  2408.56752982,  2392.8003839 ,\n",
       "        2377.72099346,  2361.26609206,  2360.30331615,  2360.78765346,\n",
       "        2376.55479938,  2360.54843417,  2393.96657798,  2409.28518771,\n",
       "        2377.51167658,  2408.56752982,  2376.79401868,  2393.51804179,\n",
       "        2377.03323798,  2377.51167658,  2376.79401868,  2393.96657798,\n",
       "        2409.04596841,  2590.02830557,   241.46891799,   241.46891799,\n",
       "        2638.04740122,  2254.6001931 ,  3020.10194916,  1872.54564517,\n",
       "         257.47528321,  1076.42381887,   668.48055455,  1060.41745365,\n",
       "        1474.48473202,  1442.47200158,  1840.53291473,   289.48801364,\n",
       "        2270.60655832,  3020.10194916,  2988.08921872,  1474.48473202,\n",
       "        2094.80899379,  1620.89423513,   647.369971  ,   374.34379705,\n",
       "        1652.90696556,   886.01254932,  1865.85479707,  1359.92730798,\n",
       "        1849.84843185,  1636.90060035,  1636.90060035,  2094.80899379,\n",
       "        1881.86116229,   631.36360578,   647.369971  ,   663.37633621,\n",
       "        1146.97947647,  1849.84843185,  1359.92730798])"
      ]
     },
     "metadata": {},
     "output_type": "display_data"
    },
    {
     "name": "stdout",
     "output_type": "stream",
     "text": [
      "A: 6\n"
     ]
    },
    {
     "data": {
      "text/plain": [
       "array([ 173.64,  203.98,  142.31,  164.02,  121.17,  203.5 ])"
      ]
     },
     "metadata": {},
     "output_type": "display_data"
    },
    {
     "data": {
      "text/plain": [
       "array([  850.57754833,  1095.53811027,   605.61698639,   866.58391355,\n",
       "         344.65005924,  1079.53174505])"
      ]
     },
     "metadata": {},
     "output_type": "display_data"
    },
    {
     "name": "stdout",
     "output_type": "stream",
     "text": [
      "B: 19\n"
     ]
    },
    {
     "data": {
      "text/plain": [
       "array([ 1740.7 ,  4234.26,  3077.01,  2376.19,  1393.36,  1919.57,\n",
       "        1616.34,  1593.28,  1174.9 ,  2587.3 ,  2896.27,  1723.63,\n",
       "        1932.2 ,  2769.22,  2210.97,  3353.35,  1895.33,  3348.91,  2184.34])"
      ]
     },
     "metadata": {},
     "output_type": "display_data"
    },
    {
     "data": {
      "text/plain": [
       "array([ 2408.56752982,  2392.8003839 ,  2377.72099346,  2361.26609206,\n",
       "        2360.30331615,  2360.78765346,  2376.55479938,  2360.54843417,\n",
       "        2393.96657798,  2409.28518771,  2377.51167658,  2408.56752982,\n",
       "        2376.79401868,  2393.51804179,  2377.03323798,  2377.51167658,\n",
       "        2376.79401868,  2393.96657798,  2409.04596841])"
      ]
     },
     "metadata": {},
     "output_type": "display_data"
    },
    {
     "name": "stdout",
     "output_type": "stream",
     "text": [
      "C: 19\n"
     ]
    },
    {
     "data": {
      "text/plain": [
       "array([ 2659.86,   299.12,   300.32,  2771.25,  2294.56,  3143.72,\n",
       "        1868.49,   321.59,  1087.87,   695.76,  1082.16,  1365.13,\n",
       "        1357.24,  1870.14,   322.13,  2270.37,  3200.82,  2833.87,  1470.8 ])"
      ]
     },
     "metadata": {},
     "output_type": "display_data"
    },
    {
     "data": {
      "text/plain": [
       "array([ 2590.02830557,   241.46891799,   241.46891799,  2638.04740122,\n",
       "        2254.6001931 ,  3020.10194916,  1872.54564517,   257.47528321,\n",
       "        1076.42381887,   668.48055455,  1060.41745365,  1474.48473202,\n",
       "        1442.47200158,  1840.53291473,   289.48801364,  2270.60655832,\n",
       "        3020.10194916,  2988.08921872,  1474.48473202])"
      ]
     },
     "metadata": {},
     "output_type": "display_data"
    },
    {
     "name": "stdout",
     "output_type": "stream",
     "text": [
      "D: 19\n"
     ]
    },
    {
     "data": {
      "text/plain": [
       "array([ 2262.51,  1806.17,   462.77,   197.88,  1780.16,   738.16,\n",
       "        2142.12,  1333.76,  1862.39,  1808.07,  1637.05,  2258.66,\n",
       "        2119.13,   460.34,   504.45,   504.92,  1018.55,  2123.49,  1471.89])"
      ]
     },
     "metadata": {},
     "output_type": "display_data"
    },
    {
     "data": {
      "text/plain": [
       "array([ 2094.80899379,  1620.89423513,   647.369971  ,   374.34379705,\n",
       "        1652.90696556,   886.01254932,  1865.85479707,  1359.92730798,\n",
       "        1849.84843185,  1636.90060035,  1636.90060035,  2094.80899379,\n",
       "        1881.86116229,   631.36360578,   647.369971  ,   663.37633621,\n",
       "        1146.97947647,  1849.84843185,  1359.92730798])"
      ]
     },
     "metadata": {},
     "output_type": "display_data"
    },
    {
     "name": "stdout",
     "output_type": "stream",
     "text": [
      "【【】】adding new model for datasetIPPD.pickle \n",
      "\n",
      "【【【】】】newScore: 1136.465963 \n",
      "____________________________________________________________________________________________________\n"
     ]
    }
   ],
   "source": [
    "t_elasticNet = wrapper([ElasticNetCVModel])"
   ]
  },
  {
   "cell_type": "code",
   "execution_count": 165,
   "metadata": {
    "collapsed": false
   },
   "outputs": [
    {
     "name": "stdout",
     "output_type": "stream",
     "text": [
      "________________________________________________________________________________\n",
      "Model: ElasticNet(alpha=3.7\n",
      "Train RMSE: 1136.465963 \n",
      "\n",
      "Test RMSE   : 485.236122\n",
      "Overall Mean: 1630.847937 \n",
      "\n",
      "A...TestA RMSE   : 680.532228\n",
      "A...y_test_A Mean: 168.103333 \n",
      "\n",
      "B...TestB RMSE   : 774.306513\n",
      "B...y_test_B Mean: 2317.217368 \n",
      "\n",
      "C...TestC RMSE   : 82.519859\n",
      "C...y_test_C Mean: 1642.905263 \n",
      "\n",
      "D...TestD RMSE   : 167.649584\n",
      "D...y_test_D Mean: 1394.340526\n",
      "________________________________________________________________________________\n"
     ]
    }
   ],
   "source": [
    "t_print = t_elasticNet\n",
    "\n",
    "for key in t_print.keys():\n",
    "    print(80*'_')\n",
    "    \n",
    "    print('Model: %s' % (str(t_print[key]['model'])[:20]))\n",
    "    print('Train RMSE: %f \\n' % (t_print[key]['train_rmse_cv_picking']))\n",
    "    \n",
    "    print('Test RMSE   : %f' % (t_print[key]['test_rmse_reporting']))\n",
    "    print('Overall Mean: %f \\n' % (t_print[key]['test_mean_y_comparing']))\n",
    "    \n",
    "    print('A...TestA RMSE   : %f' % (t_print[key]['test_rmse_reportingA']))\n",
    "    print('A...y_test_A Mean: %f \\n' % (t_print[key]['test_mean_y_comparingA']))\n",
    "    \n",
    "    print('B...TestB RMSE   : %f' % (t_print[key]['test_rmse_reportingB']))\n",
    "    print('B...y_test_B Mean: %f \\n' % (t_print[key]['test_mean_y_comparingB']))\n",
    "    \n",
    "    print('C...TestC RMSE   : %f' % (t_print[key]['test_rmse_reportingC']))\n",
    "    print('C...y_test_C Mean: %f \\n' % (t_print[key]['test_mean_y_comparingC']))\n",
    "    \n",
    "    print('D...TestD RMSE   : %f' % (t_print[key]['test_rmse_reportingD']))\n",
    "    print('D...y_test_D Mean: %f' % (t_print[key]['test_mean_y_comparingD']))\n",
    "    \n",
    "    print(80*'_')"
   ]
  },
  {
   "cell_type": "code",
   "execution_count": 69,
   "metadata": {
    "collapsed": false
   },
   "outputs": [
    {
     "name": "stdout",
     "output_type": "stream",
     "text": [
      "<function ElasticNetCVModel at 0x7f563e1a10d0>\n"
     ]
    }
   ],
   "source": [
    "# get the model\n",
    "for k in t_elasticNet.keys():\n",
    "    print(k)\n",
    "    mo = t_elasticNet[k]['model']\n",
    "\n",
    "# write the model to a file\n",
    "with open('4C4_elasticNet_tuned.pickle', 'wb') as handle:\n",
    "    pickle.dump(mo, handle, protocol=pickle.HIGHEST_PROTOCOL)"
   ]
  },
  {
   "cell_type": "markdown",
   "metadata": {},
   "source": [
    "<:>:<:>:<:>:<:>:<:>:<:>:<:>:<:>:<:>:<:>:<:>:<:>:<:>:<:>:<:><:>:<:>:<:>:<:>:<:>:<:>:<:>:<:>:<:>:<:>:<:>:<:>:<:>:<:>:<:>\n",
    "<:>:<:>:<:>:<:>:<:>:<:>:<:>:<:>:<:>:<:>:<:>:<:>:<:>:<:>:<:><:>:<:>:<:>:<:>:<:>:<:>:<:>:<:>:<:>:<:>:<:>:<:>:<:>:<:>:<:>\n",
    "<:>:<:>:<:>:<:>:<:>:<:>:<:>:<:>:<:>:<:>:<:>:<:>:<:>:<:>:<:><:>:<:>:<:>:<:>:<:>:<:>:<:>:<:>:<:>:<:>:<:>:<:>:<:>:<:>:<:>\n",
    "<:>:<:>:<:>:<:>:<:>:<:>:<:>:<:>:<:>:<:>:<:>:<:>:<:>:<:>:<:><:>:<:>:<:>:<:>:<:>:<:>:<:>:<:>:<:>:<:>:<:>:<:>:<:>:<:>:<:>\n"
   ]
  },
  {
   "cell_type": "markdown",
   "metadata": {
    "collapsed": true
   },
   "source": [
    "# 7"
   ]
  },
  {
   "cell_type": "markdown",
   "metadata": {},
   "source": [
    "# SVR - d - rbf Kernel"
   ]
  },
  {
   "cell_type": "code",
   "execution_count": null,
   "metadata": {
    "collapsed": false
   },
   "outputs": [
    {
     "name": "stdout",
     "output_type": "stream",
     "text": [
      "\n",
      "Dataset size read: train 258 and test 63 \n",
      "\n",
      "# Tuning hyper-parameters \n",
      "\n",
      "Starting grdsurch.fit(X_train, y_train)\n"
     ]
    }
   ],
   "source": [
    "t_SVRRbfCVModel = wrapper([SVRRbfCVModel])"
   ]
  },
  {
   "cell_type": "code",
   "execution_count": null,
   "metadata": {
    "collapsed": false
   },
   "outputs": [],
   "source": [
    "t_print = t_SVRRbfCVModel\n",
    "\n",
    "for key in t_print.keys():\n",
    "    print(80*'_')\n",
    "    \n",
    "    print('Model: %s' % (str(t_print[key]['model'])[:20]))\n",
    "    print('Train RMSE: %f \\n' % (t_print[key]['train_rmse_cv_picking']))\n",
    "    \n",
    "    print('Test RMSE   : %f' % (t_print[key]['test_rmse_reporting']))\n",
    "    print('Overall Mean: %f \\n' % (t_print[key]['test_mean_y_comparing']))\n",
    "    \n",
    "    print('A...TestA RMSE   : %f' % (t_print[key]['test_rmse_reportingA']))\n",
    "    print('A...y_test_A Mean: %f \\n' % (t_print[key]['test_mean_y_comparingA']))\n",
    "    \n",
    "    print('B...TestB RMSE   : %f' % (t_print[key]['test_rmse_reportingB']))\n",
    "    print('B...y_test_B Mean: %f \\n' % (t_print[key]['test_mean_y_comparingB']))\n",
    "    \n",
    "    print('C...TestC RMSE   : %f' % (t_print[key]['test_rmse_reportingC']))\n",
    "    print('C...y_test_C Mean: %f \\n' % (t_print[key]['test_mean_y_comparingC']))\n",
    "    \n",
    "    print('D...TestD RMSE   : %f' % (t_print[key]['test_rmse_reportingD']))\n",
    "    print('D...y_test_D Mean: %f' % (t_print[key]['test_mean_y_comparingD']))\n",
    "    \n",
    "    print(80*'_')"
   ]
  },
  {
   "cell_type": "markdown",
   "metadata": {},
   "source": [
    "# SVR - rbf Kernel - Final Model"
   ]
  },
  {
   "cell_type": "markdown",
   "metadata": {
    "collapsed": true
   },
   "source": [
    "#>>>>>>>>>>>\n"
   ]
  },
  {
   "cell_type": "markdown",
   "metadata": {
    "collapsed": true
   },
   "source": [
    "# 8 "
   ]
  },
  {
   "cell_type": "markdown",
   "metadata": {},
   "source": [
    "# SVR - b - Sigmoid Kernel"
   ]
  },
  {
   "cell_type": "code",
   "execution_count": 44,
   "metadata": {
    "collapsed": false
   },
   "outputs": [
    {
     "name": "stdout",
     "output_type": "stream",
     "text": [
      "\n",
      "Dataset size read: train 256 and test 65 \n",
      "\n",
      "# Tuning hyper-parameters \n",
      "\n",
      "Starting grdsurch.fit(X_train, y_train)\n",
      "\n",
      "Best parameters set found on development set:\n",
      "\n",
      "{'C': 1.0000000000000001e-05, 'gamma': 1.0000000000000001e-15}\n",
      "SVR(C=1.0000000000000001e-05, cache_size=20480, coef0=0.0, degree=3,\n",
      "  epsilon=0.1, gamma=1.0000000000000001e-15, kernel='sigmoid', max_iter=-1,\n",
      "  shrinking=False, tol=1e-07, verbose=False)\n",
      "\n",
      "【【】】adding new model for datasetIPPD.pickle \n",
      "\n",
      "【【【】】】newScore: 1032.957231 \n",
      "____________________________________________________________________________________________________\n"
     ]
    }
   ],
   "source": [
    "t_SVRSigmoidCVModel = wrapper([SVRSigmoidCVModel])"
   ]
  },
  {
   "cell_type": "code",
   "execution_count": 61,
   "metadata": {
    "collapsed": false
   },
   "outputs": [
    {
     "name": "stdout",
     "output_type": "stream",
     "text": [
      "\n"
     ]
    }
   ],
   "source": [
    "print()"
   ]
  },
  {
   "cell_type": "code",
   "execution_count": 62,
   "metadata": {
    "collapsed": false
   },
   "outputs": [
    {
     "name": "stdout",
     "output_type": "stream",
     "text": [
      "<function SVRSigmoidCVModel at 0x7f563e1a11e0>\n",
      "SVR(C=1.0000000000000001e-05, cache_size=20480, coef0=0.0, degree=3,\n",
      "  epsilon=0.1, gamma=1.0000000000000001e-15, kernel='sigmoid', max_iter=-1,\n",
      "  shrinking=False, tol=1e-07, verbose=False) \n",
      "\n",
      "\n",
      " 1032.95723148 882.068031346 1532.34615385\n",
      "____________________________________________________________________________________________________\n"
     ]
    }
   ],
   "source": [
    "t = t_SVRSigmoidCVModel\n",
    "\n",
    "for key in t.keys():\n",
    "    print(key)\n",
    "    t_mo= t[key]['model']\n",
    "    print(\n",
    "          t[key]['model'],'\\n\\n\\n',\n",
    "          t[key]['train_rmse_cv_picking'],\n",
    "          t[key]['test_rmse_reporting'],\n",
    "          t[key]['test_mean_y_comparing']\n",
    "         )\n",
    "    print(100*'_')"
   ]
  },
  {
   "cell_type": "markdown",
   "metadata": {},
   "source": [
    "# SVR - Sigmoid Kernel - Final Model"
   ]
  },
  {
   "cell_type": "markdown",
   "metadata": {
    "collapsed": true
   },
   "source": [
    "#>>>>>>>>>>>\n"
   ]
  },
  {
   "cell_type": "markdown",
   "metadata": {},
   "source": [
    "# Which features were given most weights by each model ?"
   ]
  },
  {
   "cell_type": "code",
   "execution_count": null,
   "metadata": {
    "collapsed": true
   },
   "outputs": [],
   "source": []
  }
 ],
 "metadata": {
  "kernelspec": {
   "display_name": "Python 3",
   "language": "python",
   "name": "python3"
  },
  "language_info": {
   "codemirror_mode": {
    "name": "ipython",
    "version": 3
   },
   "file_extension": ".py",
   "mimetype": "text/x-python",
   "name": "python",
   "nbconvert_exporter": "python",
   "pygments_lexer": "ipython3",
   "version": "3.6.0"
  }
 },
 "nbformat": 4,
 "nbformat_minor": 2
}
