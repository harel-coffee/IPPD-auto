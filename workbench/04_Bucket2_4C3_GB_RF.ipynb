{
 "cells": [
  {
   "cell_type": "code",
   "execution_count": 1,
   "metadata": {
    "collapsed": false
   },
   "outputs": [
    {
     "name": "stdout",
     "output_type": "stream",
     "text": [
      "\n"
     ]
    }
   ],
   "source": [
    "# import all the filenames\n",
    "from allfunctions import *"
   ]
  },
  {
   "cell_type": "code",
   "execution_count": 2,
   "metadata": {
    "collapsed": false
   },
   "outputs": [],
   "source": [
    "%load_ext autoreload\n",
    "%autoreload 2"
   ]
  },
  {
   "cell_type": "markdown",
   "metadata": {},
   "source": [
    "3  def GradientBoostingCVModel(filename):\n",
    "\n",
    "4  def RandomForestCVModel(filename):"
   ]
  },
  {
   "cell_type": "code",
   "execution_count": 3,
   "metadata": {
    "collapsed": false
   },
   "outputs": [],
   "source": [
    "def wrapper(functionList = []):\n",
    "    if __name__ == '__main__':\n",
    "        global model_selection\n",
    "        global filenames\n",
    "        \n",
    "        # # # # # # # # # # # # # # # # # # # # # # # # # # # # # # # # # # # # \n",
    "        filenames = ['ABC.pickle', 'BCD.pickle', 'CDA.pickle', 'DAB.pickle' ]\n",
    "        # # # # # # # # # # # # # # # # # # # # # # # # # # # # # # # # # # # # \n",
    "        \n",
    "        model_selection = {}\n",
    "        \n",
    "        for f in functionList:\n",
    "            print()\n",
    "            for filename in filenames:\n",
    "                print('function = %s, filename = %s' % (f,filename))\n",
    "                out = f(filename)\n",
    "                newScore = out[filename]['train_rmse_cv_picking']\n",
    "\n",
    "                if filename in model_selection:\n",
    "                    #compare scores and select more accurate model\n",
    "                    oldScore = model_selection[filename]['train_rmse_cv_picking']\n",
    "                    if(newScore < oldScore):\n",
    "                        print(\"【【【】】】switching models for %s...\" % filename)\n",
    "                        print(\"【【【】】】newScore: %f < oldScore: %f\" % (newScore, oldScore))\n",
    "                        print(\"【【【】】】newModel: %s \\n\" % f)\n",
    "                        print(100*'_')\n",
    "                        model_selection[filename] = out[filename]\n",
    "                else:\n",
    "                    #no score to compare\n",
    "                    print(\"【【】】adding new model for %s \\n\" % filename)\n",
    "                    print(100*'_')\n",
    "                    model_selection[filename] = out[filename]\n",
    "    return model_selection"
   ]
  },
  {
   "cell_type": "code",
   "execution_count": 4,
   "metadata": {
    "collapsed": false
   },
   "outputs": [
    {
     "name": "stdout",
     "output_type": "stream",
     "text": [
      "\n",
      "function = <function GradientBoostingCVModel at 0x7fb92e1066a8>, filename = ABC.pickle\n",
      "Dataset size read: train 224 and test 97 \n",
      "\n",
      "# Tuning hyper-parameters \n",
      "\n",
      "Starting grdsurch.fit(X_train, y_train)\n",
      "\n",
      "Best parameters set found on development set:\n",
      "\n",
      "{'learning_rate': 0.001, 'loss': 'ls', 'n_estimators': 2000}\n",
      "GradientBoostingRegressor(alpha=0.9, criterion='friedman_mse', init=None,\n",
      "             learning_rate=0.001, loss='ls', max_depth=None,\n",
      "             max_features=None, max_leaf_nodes=None,\n",
      "             min_impurity_split=1e-07, min_samples_leaf=1,\n",
      "             min_samples_split=2, min_weight_fraction_leaf=0.0,\n",
      "             n_estimators=2000, presort='auto', random_state=None,\n",
      "             subsample=1.0, verbose=0, warm_start=False)\n",
      "\n",
      "Full Test Set: 97\n"
     ]
    },
    {
     "data": {
      "text/plain": [
       "array([  746.49,  1469.66,  1801.74,   198.45,   198.71,  1944.16,\n",
       "        2262.51,   460.82,   216.12,  2142.12,   738.16,   198.28,\n",
       "        1135.84,   810.75,   216.71,  1273.42,  1459.44,   813.15,\n",
       "        2129.21,  1799.43,  1141.32,  1780.16,  2436.08,   801.59,\n",
       "         814.27,  1806.17,  1637.05,   197.88,   823.05,   503.45,\n",
       "        1808.07,   460.34,   462.77,  2258.66,   503.73,  1333.42,\n",
       "         198.88,  1925.99,  1627.26,  1929.21,  1467.78,   462.06,\n",
       "        2239.73,  1628.58,   504.45,   748.82,  1134.68,  2470.53,\n",
       "        1036.77,  2125.54,  1862.39,  2241.22,  1036.27,  1802.26,\n",
       "        2127.71,  1333.76,  1037.18,  1037.79,  2119.13,   747.33,\n",
       "        1135.23,   750.28,   218.82,  1146.09,   214.64,   199.09,\n",
       "        2230.04,  1018.55,   505.67,  1139.61,  1623.84,   720.7 ,\n",
       "         215.55,   216.58,   504.63,  1467.65,   801.4 ,  2457.56,\n",
       "        1471.89,  2123.49,  2478.78,  2106.02,  1031.47,  1792.62,\n",
       "        1462.69,  2450.37,  1476.76,  1959.63,  2433.27,   464.01,\n",
       "        2453.84,   504.92,  1324.9 ,  2442.42,   510.55,  1332.56,  1634.05])"
      ]
     },
     "metadata": {},
     "output_type": "display_data"
    },
    {
     "data": {
      "text/plain": [
       "array([ 1266.11642044,  1207.15647785,  1439.82115656,  1221.35629513,\n",
       "        1181.36953127,  1485.28894993,  1528.62053274,  1191.3136819 ,\n",
       "        1027.33980461,  1488.65099063,  1308.22285544,  1027.33980461,\n",
       "        1197.90874168,  1310.92254385,  1221.35629513,  1398.18585536,\n",
       "        1393.2457341 ,  1115.52367169,  1485.28894993,  1439.82115656,\n",
       "        1350.89798702,  1476.23556199,  1568.83329722,  1115.52367169,\n",
       "        1266.11642044,  1479.2008084 ,  1293.46077463,  1181.36953127,\n",
       "        1266.11642044,  1191.3136819 ,  1293.46077463,  1231.21136948,\n",
       "        1037.19487897,  1528.62053274,  1234.56209337,  1360.08903829,\n",
       "        1027.33980461,  1485.28894993,  1476.23556199,  1488.65099063,\n",
       "        1398.18585536,  1191.3136819 ,  1586.92638365,  1293.46077463,\n",
       "        1037.19487897,  1115.52367169,  1389.29037534,  1586.92638365,\n",
       "        1389.29037534,  1449.83413884,  1449.83413884,  1528.62053274,\n",
       "        1350.89798702,  1476.23556199,  1488.65099063,  1360.08903829,\n",
       "        1384.03443822,  1197.90874168,  1306.14604495,  1310.92254385,\n",
       "        1350.89798702,  1310.92254385,  1224.74750823,  1384.03443822,\n",
       "        1221.35629513,  1224.74750823,  1568.83329722,  1197.90874168,\n",
       "        1037.19487897,  1384.03443822,  1479.2008084 ,  1308.22285544,\n",
       "        1181.36953127,  1224.74750823,  1231.21136948,  1207.15647785,\n",
       "        1308.22285544,  1384.70934289,  1360.08903829,  1449.83413884,\n",
       "        1384.70934289,  1306.14604495,  1389.29037534,  1479.2008084 ,\n",
       "        1393.2457341 ,  1568.83329722,  1393.2457341 ,  1306.14604495,\n",
       "        1586.92638365,  1234.56209337,  1568.83329722,  1234.56209337,\n",
       "        1398.18585536,  1384.70934289,  1231.21136948,  1207.15647785,\n",
       "        1439.82115656])"
      ]
     },
     "metadata": {},
     "output_type": "display_data"
    },
    {
     "name": "stdout",
     "output_type": "stream",
     "text": [
      "D: 97\n"
     ]
    },
    {
     "data": {
      "text/plain": [
       "array([  746.49,  1469.66,  1801.74,   198.45,   198.71,  1944.16,\n",
       "        2262.51,   460.82,   216.12,  2142.12,   738.16,   198.28,\n",
       "        1135.84,   810.75,   216.71,  1273.42,  1459.44,   813.15,\n",
       "        2129.21,  1799.43,  1141.32,  1780.16,  2436.08,   801.59,\n",
       "         814.27,  1806.17,  1637.05,   197.88,   823.05,   503.45,\n",
       "        1808.07,   460.34,   462.77,  2258.66,   503.73,  1333.42,\n",
       "         198.88,  1925.99,  1627.26,  1929.21,  1467.78,   462.06,\n",
       "        2239.73,  1628.58,   504.45,   748.82,  1134.68,  2470.53,\n",
       "        1036.77,  2125.54,  1862.39,  2241.22,  1036.27,  1802.26,\n",
       "        2127.71,  1333.76,  1037.18,  1037.79,  2119.13,   747.33,\n",
       "        1135.23,   750.28,   218.82,  1146.09,   214.64,   199.09,\n",
       "        2230.04,  1018.55,   505.67,  1139.61,  1623.84,   720.7 ,\n",
       "         215.55,   216.58,   504.63,  1467.65,   801.4 ,  2457.56,\n",
       "        1471.89,  2123.49,  2478.78,  2106.02,  1031.47,  1792.62,\n",
       "        1462.69,  2450.37,  1476.76,  1959.63,  2433.27,   464.01,\n",
       "        2453.84,   504.92,  1324.9 ,  2442.42,   510.55,  1332.56,  1634.05])"
      ]
     },
     "metadata": {},
     "output_type": "display_data"
    },
    {
     "data": {
      "text/plain": [
       "array([ 1266.11642044,  1207.15647785,  1439.82115656,  1221.35629513,\n",
       "        1181.36953127,  1485.28894993,  1528.62053274,  1191.3136819 ,\n",
       "        1027.33980461,  1488.65099063,  1308.22285544,  1027.33980461,\n",
       "        1197.90874168,  1310.92254385,  1221.35629513,  1398.18585536,\n",
       "        1393.2457341 ,  1115.52367169,  1485.28894993,  1439.82115656,\n",
       "        1350.89798702,  1476.23556199,  1568.83329722,  1115.52367169,\n",
       "        1266.11642044,  1479.2008084 ,  1293.46077463,  1181.36953127,\n",
       "        1266.11642044,  1191.3136819 ,  1293.46077463,  1231.21136948,\n",
       "        1037.19487897,  1528.62053274,  1234.56209337,  1360.08903829,\n",
       "        1027.33980461,  1485.28894993,  1476.23556199,  1488.65099063,\n",
       "        1398.18585536,  1191.3136819 ,  1586.92638365,  1293.46077463,\n",
       "        1037.19487897,  1115.52367169,  1389.29037534,  1586.92638365,\n",
       "        1389.29037534,  1449.83413884,  1449.83413884,  1528.62053274,\n",
       "        1350.89798702,  1476.23556199,  1488.65099063,  1360.08903829,\n",
       "        1384.03443822,  1197.90874168,  1306.14604495,  1310.92254385,\n",
       "        1350.89798702,  1310.92254385,  1224.74750823,  1384.03443822,\n",
       "        1221.35629513,  1224.74750823,  1568.83329722,  1197.90874168,\n",
       "        1037.19487897,  1384.03443822,  1479.2008084 ,  1308.22285544,\n",
       "        1181.36953127,  1224.74750823,  1231.21136948,  1207.15647785,\n",
       "        1308.22285544,  1384.70934289,  1360.08903829,  1449.83413884,\n",
       "        1384.70934289,  1306.14604495,  1389.29037534,  1479.2008084 ,\n",
       "        1393.2457341 ,  1568.83329722,  1393.2457341 ,  1306.14604495,\n",
       "        1586.92638365,  1234.56209337,  1568.83329722,  1234.56209337,\n",
       "        1398.18585536,  1384.70934289,  1231.21136948,  1207.15647785,\n",
       "        1439.82115656])"
      ]
     },
     "metadata": {},
     "output_type": "display_data"
    },
    {
     "name": "stdout",
     "output_type": "stream",
     "text": [
      "【【】】adding new model for ABC.pickle \n",
      "\n",
      "____________________________________________________________________________________________________\n",
      "function = <function GradientBoostingCVModel at 0x7fb92e1066a8>, filename = BCD.pickle\n",
      "Dataset size read: train 289 and test 32 \n",
      "\n",
      "# Tuning hyper-parameters \n",
      "\n",
      "Starting grdsurch.fit(X_train, y_train)\n",
      "\n",
      "Best parameters set found on development set:\n",
      "\n",
      "{'learning_rate': 0.001, 'loss': 'ls', 'n_estimators': 2000}\n",
      "GradientBoostingRegressor(alpha=0.9, criterion='friedman_mse', init=None,\n",
      "             learning_rate=0.001, loss='ls', max_depth=None,\n",
      "             max_features=None, max_leaf_nodes=None,\n",
      "             min_impurity_split=1e-07, min_samples_leaf=1,\n",
      "             min_samples_split=2, min_weight_fraction_leaf=0.0,\n",
      "             n_estimators=2000, presort='auto', random_state=None,\n",
      "             subsample=1.0, verbose=0, warm_start=False)\n",
      "\n",
      "Full Test Set: 32\n"
     ]
    },
    {
     "data": {
      "text/plain": [
       "array([ 141.66,   67.96,   97.49,   46.36,  120.44,   21.63,  164.02,\n",
       "        204.8 ,  203.98,  166.8 ,   67.97,  120.67,   45.82,  141.54,\n",
       "         45.94,   98.47,   21.58,  203.5 ,   68.63,  120.19,   45.97,\n",
       "        142.31,   21.8 ,  142.07,  204.44,   98.42,  173.64,  164.88,\n",
       "         68.75,   97.83,  121.17,   21.6 ])"
      ]
     },
     "metadata": {},
     "output_type": "display_data"
    },
    {
     "data": {
      "text/plain": [
       "array([ 2495.26552391,  1785.06711398,  2173.19531359,  1921.01038333,\n",
       "        2345.78001469,  1880.84215613,  2600.77989447,  2753.98231321,\n",
       "        2443.66110152,  2544.1784791 ,  2109.58425414,  2041.29465749,\n",
       "        1998.38133274,  2491.65534083,  1666.63121224,  2229.78468827,\n",
       "        1887.13088553,  2750.67813849,  2097.61107612,  2284.3896404 ,\n",
       "        1993.09186112,  2146.51886295,  1812.96735721,  2427.74687203,\n",
       "        2637.88042216,  2239.70247425,  2293.87256277,  2622.69806363,\n",
       "        2048.19521139,  1896.83568681,  2384.68560721,  1552.49014018])"
      ]
     },
     "metadata": {},
     "output_type": "display_data"
    },
    {
     "name": "stdout",
     "output_type": "stream",
     "text": [
      "A: 32\n"
     ]
    },
    {
     "data": {
      "text/plain": [
       "array([ 141.66,   67.96,   97.49,   46.36,  120.44,   21.63,  164.02,\n",
       "        204.8 ,  203.98,  166.8 ,   67.97,  120.67,   45.82,  141.54,\n",
       "         45.94,   98.47,   21.58,  203.5 ,   68.63,  120.19,   45.97,\n",
       "        142.31,   21.8 ,  142.07,  204.44,   98.42,  173.64,  164.88,\n",
       "         68.75,   97.83,  121.17,   21.6 ])"
      ]
     },
     "metadata": {},
     "output_type": "display_data"
    },
    {
     "data": {
      "text/plain": [
       "array([ 2495.26552391,  1785.06711398,  2173.19531359,  1921.01038333,\n",
       "        2345.78001469,  1880.84215613,  2600.77989447,  2753.98231321,\n",
       "        2443.66110152,  2544.1784791 ,  2109.58425414,  2041.29465749,\n",
       "        1998.38133274,  2491.65534083,  1666.63121224,  2229.78468827,\n",
       "        1887.13088553,  2750.67813849,  2097.61107612,  2284.3896404 ,\n",
       "        1993.09186112,  2146.51886295,  1812.96735721,  2427.74687203,\n",
       "        2637.88042216,  2239.70247425,  2293.87256277,  2622.69806363,\n",
       "        2048.19521139,  1896.83568681,  2384.68560721,  1552.49014018])"
      ]
     },
     "metadata": {},
     "output_type": "display_data"
    },
    {
     "name": "stdout",
     "output_type": "stream",
     "text": [
      "【【】】adding new model for BCD.pickle \n",
      "\n",
      "____________________________________________________________________________________________________\n",
      "function = <function GradientBoostingCVModel at 0x7fb92e1066a8>, filename = CDA.pickle\n"
     ]
    },
    {
     "ename": "FileNotFoundError",
     "evalue": "[Errno 2] No such file or directory: 'CDA.pickle'",
     "output_type": "error",
     "traceback": [
      "\u001b[0;31m---------------------------------------------------------------------------\u001b[0m",
      "\u001b[0;31mFileNotFoundError\u001b[0m                         Traceback (most recent call last)",
      "\u001b[0;32m<ipython-input-4-73d67ff4a036>\u001b[0m in \u001b[0;36m<module>\u001b[0;34m()\u001b[0m\n\u001b[0;32m----> 1\u001b[0;31m \u001b[0mt_gb\u001b[0m \u001b[0;34m=\u001b[0m \u001b[0mwrapper\u001b[0m\u001b[0;34m(\u001b[0m\u001b[0;34m[\u001b[0m \u001b[0mGradientBoostingCVModel\u001b[0m \u001b[0;34m]\u001b[0m\u001b[0;34m)\u001b[0m\u001b[0;34m\u001b[0m\u001b[0m\n\u001b[0m",
      "\u001b[0;32m<ipython-input-3-92244f269e74>\u001b[0m in \u001b[0;36mwrapper\u001b[0;34m(functionList)\u001b[0m\n\u001b[1;32m     14\u001b[0m             \u001b[0;32mfor\u001b[0m \u001b[0mfilename\u001b[0m \u001b[0;32min\u001b[0m \u001b[0mfilenames\u001b[0m\u001b[0;34m:\u001b[0m\u001b[0;34m\u001b[0m\u001b[0m\n\u001b[1;32m     15\u001b[0m                 \u001b[0mprint\u001b[0m\u001b[0;34m(\u001b[0m\u001b[0;34m'function = %s, filename = %s'\u001b[0m \u001b[0;34m%\u001b[0m \u001b[0;34m(\u001b[0m\u001b[0mf\u001b[0m\u001b[0;34m,\u001b[0m\u001b[0mfilename\u001b[0m\u001b[0;34m)\u001b[0m\u001b[0;34m)\u001b[0m\u001b[0;34m\u001b[0m\u001b[0m\n\u001b[0;32m---> 16\u001b[0;31m                 \u001b[0mout\u001b[0m \u001b[0;34m=\u001b[0m \u001b[0mf\u001b[0m\u001b[0;34m(\u001b[0m\u001b[0mfilename\u001b[0m\u001b[0;34m)\u001b[0m\u001b[0;34m\u001b[0m\u001b[0m\n\u001b[0m\u001b[1;32m     17\u001b[0m                 \u001b[0mnewScore\u001b[0m \u001b[0;34m=\u001b[0m \u001b[0mout\u001b[0m\u001b[0;34m[\u001b[0m\u001b[0mfilename\u001b[0m\u001b[0;34m]\u001b[0m\u001b[0;34m[\u001b[0m\u001b[0;34m'train_rmse_cv_picking'\u001b[0m\u001b[0;34m]\u001b[0m\u001b[0;34m\u001b[0m\u001b[0m\n\u001b[1;32m     18\u001b[0m \u001b[0;34m\u001b[0m\u001b[0m\n",
      "\u001b[0;32m/data/home/a1singh/IPPD/IPPD/workbench/allfunctions.py\u001b[0m in \u001b[0;36mGradientBoostingCVModel\u001b[0;34m(filename, scale)\u001b[0m\n\u001b[1;32m    191\u001b[0m \u001b[0;34m\u001b[0m\u001b[0m\n\u001b[1;32m    192\u001b[0m \u001b[0;34m\u001b[0m\u001b[0m\n\u001b[0;32m--> 193\u001b[0;31m     \u001b[0;32mwith\u001b[0m \u001b[0mopen\u001b[0m\u001b[0;34m(\u001b[0m\u001b[0mfilename\u001b[0m\u001b[0;34m,\u001b[0m \u001b[0;34m'rb'\u001b[0m\u001b[0;34m)\u001b[0m \u001b[0;32mas\u001b[0m \u001b[0mhandle\u001b[0m\u001b[0;34m:\u001b[0m\u001b[0;34m\u001b[0m\u001b[0m\n\u001b[0m\u001b[1;32m    194\u001b[0m         \u001b[0mdata\u001b[0m \u001b[0;34m=\u001b[0m \u001b[0mpickle\u001b[0m\u001b[0;34m.\u001b[0m\u001b[0mload\u001b[0m\u001b[0;34m(\u001b[0m\u001b[0mhandle\u001b[0m\u001b[0;34m)\u001b[0m\u001b[0;34m\u001b[0m\u001b[0m\n\u001b[1;32m    195\u001b[0m \u001b[0;34m\u001b[0m\u001b[0m\n",
      "\u001b[0;31mFileNotFoundError\u001b[0m: [Errno 2] No such file or directory: 'CDA.pickle'"
     ]
    }
   ],
   "source": [
    "t_gb = wrapper([ GradientBoostingCVModel ])"
   ]
  },
  {
   "cell_type": "code",
   "execution_count": null,
   "metadata": {
    "collapsed": false
   },
   "outputs": [],
   "source": [
    "t_print = t_gb\n",
    "\n",
    "for key in t_print.keys():\n",
    "    print(80*'_')\n",
    "    print(key)    \n",
    "\n",
    "    print('Model: %s' % (str(t_print[key]['model'])[:20]))\n",
    "    print('Train RMSE: %f \\n' % (t_print[key]['train_rmse_cv_picking']))\n",
    "\n",
    "    #print('Test RMSE   : %f' % (t_print[key]['test_rmse_reporting']))\n",
    "    #print('Overall Mean: %f \\n' % (t_print[key]['test_mean_y_comparing']))\n",
    "\n",
    "    if(not t_print[key]['test_rmse_reportingA']==None):\n",
    "        print('A...TestA RMSE   : %f' % float(t_print[key]['test_rmse_reportingA'] or -1))\n",
    "        print('A...<<y_test_A Mean>>: %f \\n' % float(t_print[key]['test_mean_y_comparingA'] or -1))\n",
    "\n",
    "    if(not t_print[key]['test_rmse_reportingB']==None):\n",
    "        print('B...TestB RMSE   : %f' % float(t_print[key]['test_rmse_reportingB'] or -1))\n",
    "        print('B...<<y_test_B Mean>>: %f \\n' % float(t_print[key]['test_mean_y_comparingB'] or -1))\n",
    "\n",
    "    if(not t_print[key]['test_rmse_reportingC']==None):\n",
    "        print('C...TestC RMSE   : %f' % float(t_print[key]['test_rmse_reportingC'] or -1))\n",
    "        print('C...<<y_test_C Mean>>: %f \\n' % float(t_print[key]['test_mean_y_comparingC'] or -1))\n",
    "\n",
    "    if(not t_print[key]['test_rmse_reportingD']==None):\n",
    "        print('D...TestD RMSE   : %f' % float(t_print[key]['test_rmse_reportingD'] or -1))\n",
    "        print('D...<<y_test_D Mean>>: %f' % float(t_print[key]['test_mean_y_comparingD'] or -1))\n",
    "\n",
    "    print(80*'_')"
   ]
  },
  {
   "cell_type": "code",
   "execution_count": null,
   "metadata": {
    "collapsed": false
   },
   "outputs": [],
   "source": [
    "# write the model\n",
    "import pickle\n",
    "\n",
    "#||||||||||||||||||| \n",
    "t_ = t_gb\n",
    "prefix = '4C3_' + 'gb'\n",
    "#||||||||||||||||||| \n",
    "\n",
    "for k in t_.keys():\n",
    "    mo   = t_[k]['model']\n",
    "    fname = prefix + '_tuned_' + str(k[:3])\n",
    "    \n",
    "    print()\n",
    "    print(k, str(mo)[:30])\n",
    "    \n",
    "    print(fname)\n",
    "    # write the model to a file\n",
    "    with open(fname, 'wb') as handle:\n",
    "        pickle.dump(mo, handle)"
   ]
  },
  {
   "cell_type": "code",
   "execution_count": null,
   "metadata": {
    "collapsed": false
   },
   "outputs": [],
   "source": [
    "t_rf = wrapper([ RandomForestCVModel ])"
   ]
  },
  {
   "cell_type": "code",
   "execution_count": null,
   "metadata": {
    "collapsed": false
   },
   "outputs": [],
   "source": [
    "t_print = t_rf\n",
    "\n",
    "for key in t_print.keys():\n",
    "    print(80*'_')\n",
    "    print(key)    \n",
    "\n",
    "    print('Model: %s' % (str(t_print[key]['model'])[:20]))\n",
    "    print('Train RMSE: %f \\n' % (t_print[key]['train_rmse_cv_picking']))\n",
    "\n",
    "    #print('Test RMSE   : %f' % (t_print[key]['test_rmse_reporting']))\n",
    "    #print('Overall Mean: %f \\n' % (t_print[key]['test_mean_y_comparing']))\n",
    "\n",
    "    if(not t_print[key]['test_rmse_reportingA']==None):\n",
    "        print('A...TestA RMSE   : %f' % float(t_print[key]['test_rmse_reportingA'] or -1))\n",
    "        print('A...<<y_test_A Mean>>: %f \\n' % float(t_print[key]['test_mean_y_comparingA'] or -1))\n",
    "\n",
    "    if(not t_print[key]['test_rmse_reportingB']==None):\n",
    "        print('B...TestB RMSE   : %f' % float(t_print[key]['test_rmse_reportingB'] or -1))\n",
    "        print('B...<<y_test_B Mean>>: %f \\n' % float(t_print[key]['test_mean_y_comparingB'] or -1))\n",
    "\n",
    "    if(not t_print[key]['test_rmse_reportingC']==None):\n",
    "        print('C...TestC RMSE   : %f' % float(t_print[key]['test_rmse_reportingC'] or -1))\n",
    "        print('C...<<y_test_C Mean>>: %f \\n' % float(t_print[key]['test_mean_y_comparingC'] or -1))\n",
    "\n",
    "    if(not t_print[key]['test_rmse_reportingD']==None):\n",
    "        print('D...TestD RMSE   : %f' % float(t_print[key]['test_rmse_reportingD'] or -1))\n",
    "        print('D...<<y_test_D Mean>>: %f' % float(t_print[key]['test_mean_y_comparingD'] or -1))\n",
    "\n",
    "    print(80*'_')"
   ]
  },
  {
   "cell_type": "code",
   "execution_count": null,
   "metadata": {
    "collapsed": false
   },
   "outputs": [],
   "source": [
    "# write the model\n",
    "import pickle\n",
    "\n",
    "#||||||||||||||||||| \n",
    "t_ = t_rf\n",
    "prefix = '4C3_' + 'rf'\n",
    "#||||||||||||||||||| \n",
    "\n",
    "for k in t_.keys():\n",
    "    mo   = t_[k]['model']\n",
    "    fname = prefix + '_tuned_' + str(k[:3])\n",
    "    \n",
    "    print()\n",
    "    print(k, str(mo)[:30])\n",
    "    \n",
    "    print(fname)\n",
    "    # write the model to a file\n",
    "    with open(fname, 'wb') as handle:\n",
    "        pickle.dump(mo, handle)"
   ]
  },
  {
   "cell_type": "markdown",
   "metadata": {
    "collapsed": true
   },
   "source": [
    "# Which features were given most weights by each model ?"
   ]
  },
  {
   "cell_type": "code",
   "execution_count": null,
   "metadata": {
    "collapsed": true
   },
   "outputs": [],
   "source": []
  }
 ],
 "metadata": {
  "kernelspec": {
   "display_name": "Python 3",
   "language": "python",
   "name": "python3"
  },
  "language_info": {
   "codemirror_mode": {
    "name": "ipython",
    "version": 3
   },
   "file_extension": ".py",
   "mimetype": "text/x-python",
   "name": "python",
   "nbconvert_exporter": "python",
   "pygments_lexer": "ipython3",
   "version": "3.6.0"
  }
 },
 "nbformat": 4,
 "nbformat_minor": 2
}
