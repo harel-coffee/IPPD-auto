{
 "cells": [
  {
   "cell_type": "code",
   "execution_count": null,
   "metadata": {
    "collapsed": false
   },
   "outputs": [],
   "source": [
    "%matplotlib inline"
   ]
  },
  {
   "cell_type": "markdown",
   "metadata": {},
   "source": [
    "\n",
    "==============================================\n",
    "Feature agglomeration vs. univariate selection\n",
    "==============================================\n",
    "\n",
    "This example compares 2 dimensionality reduction strategies:\n",
    "\n",
    "- univariate feature selection with Anova\n",
    "\n",
    "- feature agglomeration with Ward hierarchical clustering\n",
    "\n",
    "Both methods are compared in a regression problem using\n",
    "a BayesianRidge as supervised estimator.\n"
   ]
  },
  {
   "cell_type": "code",
   "execution_count": 1,
   "metadata": {
    "collapsed": false
   },
   "outputs": [
    {
     "name": "stdout",
     "output_type": "stream",
     "text": [
      "Automatically created module for IPython interactive environment\n"
     ]
    }
   ],
   "source": [
    "# Author: Alexandre Gramfort <alexandre.gramfort@inria.fr>\n",
    "# License: BSD 3 clause\n",
    "\n",
    "print(__doc__)\n",
    "\n",
    "import shutil\n",
    "import tempfile\n",
    "\n",
    "import numpy as np\n",
    "import matplotlib.pyplot as plt\n",
    "from scipy import linalg, ndimage\n",
    "\n",
    "from sklearn.feature_extraction.image import grid_to_graph\n",
    "from sklearn import feature_selection\n",
    "from sklearn.cluster import FeatureAgglomeration\n",
    "from sklearn.linear_model import BayesianRidge\n",
    "from sklearn.pipeline import Pipeline\n",
    "from sklearn.externals.joblib import Memory\n",
    "from sklearn.model_selection import GridSearchCV\n",
    "from sklearn.model_selection import KFold"
   ]
  },
  {
   "cell_type": "markdown",
   "metadata": {},
   "source": [
    "Generate data\n"
   ]
  },
  {
   "cell_type": "code",
   "execution_count": 2,
   "metadata": {
    "collapsed": false
   },
   "outputs": [],
   "source": [
    "n_samples = 200\n",
    "size = 40  # image size\n",
    "roi_size = 15\n",
    "snr = 5.\n",
    "np.random.seed(0)\n",
    "mask = np.ones([size, size], dtype=np.bool)\n",
    "\n",
    "coef = np.zeros((size, size))\n",
    "coef[0:roi_size, 0:roi_size] = -1.\n",
    "coef[-roi_size:, -roi_size:] = 1.\n",
    "\n",
    "X = np.random.randn(n_samples, size ** 2)\n",
    "for x in X:  # smooth data\n",
    "    x[:] = ndimage.gaussian_filter(x.reshape(size, size), sigma=1.0).ravel()\n",
    "X -= X.mean(axis=0)\n",
    "X /= X.std(axis=0)\n",
    "\n",
    "y = np.dot(X, coef.ravel())\n",
    "noise = np.random.randn(y.shape[0])\n",
    "noise_coef = (linalg.norm(y, 2) / np.exp(snr / 20.)) / linalg.norm(noise, 2)\n",
    "y += noise_coef * noise  # add noise"
   ]
  },
  {
   "cell_type": "code",
   "execution_count": 11,
   "metadata": {
    "collapsed": false
   },
   "outputs": [
    {
     "data": {
      "text/plain": [
       "1600"
      ]
     },
     "execution_count": 11,
     "metadata": {},
     "output_type": "execute_result"
    }
   ],
   "source": [
    "len(X[0])"
   ]
  },
  {
   "cell_type": "markdown",
   "metadata": {},
   "source": [
    "Compute the coefs of a Bayesian Ridge with GridSearch\n"
   ]
  },
  {
   "cell_type": "code",
   "execution_count": 12,
   "metadata": {
    "collapsed": false
   },
   "outputs": [
    {
     "name": "stdout",
     "output_type": "stream",
     "text": [
      "________________________________________________________________________________\n",
      "[Memory] Calling sklearn.cluster.hierarchical.ward_tree...\n",
      "ward_tree(array([[-0.451933, ..., -0.675318],\n",
      "       ..., \n",
      "       [ 0.275706, ..., -1.085711]]), \n",
      "<1600x1600 sparse matrix of type '<class 'numpy.int64'>'\n",
      "\twith 7840 stored elements in COOrdinate format>, n_clusters=None)\n",
      "________________________________________________________ward_tree - 0.3s, 0.0min\n",
      "________________________________________________________________________________\n",
      "[Memory] Calling sklearn.cluster.hierarchical.ward_tree...\n",
      "ward_tree(array([[ 0.905206, ...,  0.161245],\n",
      "       ..., \n",
      "       [-0.849835, ..., -1.091621]]), \n",
      "<1600x1600 sparse matrix of type '<class 'numpy.int64'>'\n",
      "\twith 7840 stored elements in COOrdinate format>, n_clusters=None)\n",
      "________________________________________________________ward_tree - 0.3s, 0.0min\n",
      "________________________________________________________________________________\n",
      "[Memory] Calling sklearn.cluster.hierarchical.ward_tree...\n",
      "ward_tree(array([[ 0.905206, ..., -0.675318],\n",
      "       ..., \n",
      "       [-0.849835, ..., -1.085711]]), \n",
      "<1600x1600 sparse matrix of type '<class 'numpy.int64'>'\n",
      "\twith 7840 stored elements in COOrdinate format>, n_clusters=None)\n",
      "________________________________________________________ward_tree - 0.2s, 0.0min\n",
      "________________________________________________________________________________\n",
      "[Memory] Calling sklearn.feature_selection.univariate_selection.f_regression...\n",
      "f_regression(array([[-0.451933, ...,  0.275706],\n",
      "       ..., \n",
      "       [-0.675318, ..., -1.085711]]), \n",
      "array([ 25.267703, ..., -25.026711]))\n",
      "_____________________________________________________f_regression - 0.0s, 0.0min\n",
      "________________________________________________________________________________\n",
      "[Memory] Calling sklearn.feature_selection.univariate_selection.f_regression...\n",
      "f_regression(array([[ 0.905206, ..., -0.849835],\n",
      "       ..., \n",
      "       [ 0.161245, ..., -1.091621]]), \n",
      "array([ -27.447268, ..., -112.638768]))\n",
      "_____________________________________________________f_regression - 0.0s, 0.0min\n",
      "________________________________________________________________________________\n",
      "[Memory] Calling sklearn.feature_selection.univariate_selection.f_regression...\n",
      "f_regression(array([[ 0.905206, ..., -0.849835],\n",
      "       ..., \n",
      "       [-0.675318, ..., -1.085711]]), \n",
      "array([-27.447268, ..., -25.026711]))\n",
      "_____________________________________________________f_regression - 0.0s, 0.0min\n"
     ]
    }
   ],
   "source": [
    "cv = KFold(2)  # cross-validation generator for model selection\n",
    "ridge = BayesianRidge()\n",
    "cachedir = tempfile.mkdtemp()\n",
    "mem = Memory(cachedir=cachedir, verbose=1)\n",
    "\n",
    "# Ward agglomeration followed by BayesianRidge\n",
    "connectivity = grid_to_graph(n_x=size, n_y=size)\n",
    "ward = FeatureAgglomeration(n_clusters=10, connectivity=connectivity,\n",
    "                            memory=mem)\n",
    "\n",
    "clf = Pipeline([('ward', ward), ('ridge', ridge)])\n",
    "\n",
    "# Select the optimal number of parcels with grid search\n",
    "clf = GridSearchCV(clf, {'ward__n_clusters': [10, 20, 30]}, n_jobs=1, cv=cv)\n",
    "clf.fit(X, y)  # set the best parameters\n",
    "coef_ = clf.best_estimator_.steps[-1][1].coef_\n",
    "coef_ = clf.best_estimator_.steps[0][1].inverse_transform(coef_)\n",
    "coef_agglomeration_ = coef_.reshape(size, size)\n",
    "\n",
    "# Anova univariate feature selection followed by BayesianRidge\n",
    "f_regression = mem.cache(feature_selection.f_regression)  # caching function\n",
    "anova = feature_selection.SelectPercentile(f_regression)\n",
    "\n",
    "clf = Pipeline([('anova', anova), ('ridge', ridge)])\n",
    "\n",
    "# Select the optimal percentage of features with grid search\n",
    "clf = GridSearchCV(clf, {'anova__percentile': [5, 10, 20]}, cv=cv)\n",
    "clf.fit(X, y)  # set the best parameters\n",
    "coef_ = clf.best_estimator_.steps[-1][1].coef_\n",
    "coef_ = clf.best_estimator_.steps[0][1].inverse_transform(coef_.reshape(1, -1))\n",
    "coef_selection_ = coef_.reshape(size, size)"
   ]
  },
  {
   "cell_type": "markdown",
   "metadata": {},
   "source": [
    "Inverse the transformation to plot the results on an image\n"
   ]
  },
  {
   "cell_type": "code",
   "execution_count": 17,
   "metadata": {
    "collapsed": false
   },
   "outputs": [
    {
     "data": {
      "image/png": "[encoded data removed]",
      "text/plain": [
       "<matplotlib.figure.Figure at 0x7fccf93547f0>"
      ]
     },
     "metadata": {},
     "output_type": "display_data"
    }
   ],
   "source": [
    "plt.close('all')\n",
    "plt.figure(figsize=(20, 2.7))\n",
    "\n",
    "\n",
    "plt.subplot(1, 3, 1)\n",
    "plt.imshow(coef, interpolation=\"nearest\", cmap=plt.cm.RdBu_r)\n",
    "plt.title(\"True weights\")\n",
    "\n",
    "\n",
    "plt.subplot(1, 3, 2)\n",
    "plt.imshow(coef_selection_, interpolation=\"nearest\", cmap=plt.cm.RdBu_r)\n",
    "plt.title(\"Feature Selection\")\n",
    "\n",
    "\n",
    "plt.subplot(1, 3, 3)\n",
    "plt.imshow(coef_agglomeration_, interpolation=\"nearest\", cmap=plt.cm.RdBu_r)\n",
    "plt.title(\"Feature Agglomeration\")\n",
    "plt.subplots_adjust(0.04, 0.0, 0.98, 0.94, 0.16, 0.26)\n",
    "\n",
    "\n",
    "plt.show()\n",
    "\n",
    "# Attempt to remove the temporary cachedir, but don't worry if it fails\n",
    "shutil.rmtree(cachedir, ignore_errors=True)"
   ]
  },
  {
   "cell_type": "code",
   "execution_count": null,
   "metadata": {
    "collapsed": true
   },
   "outputs": [],
   "source": []
  }
 ],
 "metadata": {
  "kernelspec": {
   "display_name": "Python 3",
   "language": "python",
   "name": "python3"
  },
  "language_info": {
   "codemirror_mode": {
    "name": "ipython",
    "version": 3
   },
   "file_extension": ".py",
   "mimetype": "text/x-python",
   "name": "python",
   "nbconvert_exporter": "python",
   "pygments_lexer": "ipython3",
   "version": "3.6.0"
  }
 },
 "nbformat": 4,
 "nbformat_minor": 0
}
