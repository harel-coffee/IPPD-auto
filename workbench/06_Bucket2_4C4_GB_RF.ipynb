{
 "cells": [
  {
   "cell_type": "code",
   "execution_count": 1,
   "metadata": {
    "collapsed": false
   },
   "outputs": [
    {
     "name": "stdout",
     "output_type": "stream",
     "text": [
      "\n"
     ]
    }
   ],
   "source": [
    "# import all the filenames\n",
    "from allfunctions import *"
   ]
  },
  {
   "cell_type": "code",
   "execution_count": 2,
   "metadata": {
    "collapsed": false
   },
   "outputs": [],
   "source": [
    "%load_ext autoreload\n",
    "%autoreload 2"
   ]
  },
  {
   "cell_type": "markdown",
   "metadata": {},
   "source": [
    "5  def GradientBoostingCVModel(filename):\n",
    "\n",
    "6  def RandomForestCVModel(filename):"
   ]
  },
  {
   "cell_type": "code",
   "execution_count": 3,
   "metadata": {
    "collapsed": false
   },
   "outputs": [],
   "source": [
    "def wrapper(functionList = [], filenames = [ 'datasetIPPD.pickle' ]):\n",
    "    if __name__ == '__main__':\n",
    "        global model_selection\n",
    "        \n",
    "        global c\n",
    "        initialize_c()\n",
    "                \n",
    "        model_selection = {}\n",
    "        \n",
    "        for f in functionList:\n",
    "            print()\n",
    "            for filename in filenames:\n",
    "                out = f(filename)\n",
    "                newScore = out[filename]['train_rmse_cv_picking']\n",
    "\n",
    "                if f in model_selection:\n",
    "                    #compare scores and select more accurate model\n",
    "                    oldScore = model_selection[f]['train_rmse_cv_picking']\n",
    "                    if(newScore < oldScore):\n",
    "                        print(\"【【【】】】switching models for %s...\" % filename)\n",
    "                        print(\"【【【】】】newScore: %f < oldScore: %f\" % (newScore, oldScore))\n",
    "                        print(\"【【【】】】newModel: %s \\n\" % f)\n",
    "                        print(100*'_')\n",
    "                        model_selection[f] = out[filename]\n",
    "                else:\n",
    "                    #no score to compare\n",
    "                    print(\"【【】】adding new model for %s \\n\" % filename)\n",
    "                    print(\"【【【】】】newScore: %f \" % (newScore))\n",
    "                    print(100*'_')\n",
    "                    model_selection[f] = out[filename]\n",
    "    return model_selection"
   ]
  },
  {
   "cell_type": "markdown",
   "metadata": {},
   "source": [
    "<:>:<:>:<:>:<:>:<:>:<:>:<:>:<:>:<:>:<:>:<:>:<:>:<:>:<:>:<:><:>:<:>:<:>:<:>:<:>:<:>:<:>:<:>:<:>:<:>:<:>:<:>:<:>:<:>:<:>\n",
    "<:>:<:>:<:>:<:>:<:>:<:>:<:>:<:>:<:>:<:>:<:>:<:>:<:>:<:>:<:><:>:<:>:<:>:<:>:<:>:<:>:<:>:<:>:<:>:<:>:<:>:<:>:<:>:<:>:<:>\n",
    "<:>:<:>:<:>:<:>:<:>:<:>:<:>:<:>:<:>:<:>:<:>:<:>:<:>:<:>:<:><:>:<:>:<:>:<:>:<:>:<:>:<:>:<:>:<:>:<:>:<:>:<:>:<:>:<:>:<:>\n",
    "<:>:<:>:<:>:<:>:<:>:<:>:<:>:<:>:<:>:<:>:<:>:<:>:<:>:<:>:<:><:>:<:>:<:>:<:>:<:>:<:>:<:>:<:>:<:>:<:>:<:>:<:>:<:>:<:>:<:>\n"
   ]
  },
  {
   "cell_type": "markdown",
   "metadata": {},
   "source": [
    "# GradientBoostingCVModel"
   ]
  },
  {
   "cell_type": "code",
   "execution_count": 4,
   "metadata": {
    "collapsed": false,
    "scrolled": false
   },
   "outputs": [
    {
     "name": "stdout",
     "output_type": "stream",
     "text": [
      "\n",
      "Dataset size read: train 258 and test 63 \n",
      "\n",
      "# Tuning hyper-parameters \n",
      "\n",
      "Starting grdsurch.fit(X_train, y_train)\n",
      "\n",
      "Best parameters set found on development set:\n",
      "\n",
      "{'learning_rate': 0.005, 'loss': 'ls', 'n_estimators': 6000}\n",
      "GradientBoostingRegressor(alpha=0.9, criterion='friedman_mse', init=None,\n",
      "             learning_rate=0.005, loss='ls', max_depth=None,\n",
      "             max_features=None, max_leaf_nodes=None,\n",
      "             min_impurity_split=1e-07, min_samples_leaf=1,\n",
      "             min_samples_split=2, min_weight_fraction_leaf=0.0,\n",
      "             n_estimators=6000, presort='auto', random_state=None,\n",
      "             subsample=1.0, verbose=0, warm_start=False)\n",
      "\n",
      "Full Test Set: 63\n"
     ]
    },
    {
     "data": {
      "text/plain": [
       "array([  203.98,   164.88,    45.97,   120.19,   142.07,    97.83,\n",
       "        1732.64,  2306.07,  3444.3 ,  2397.91,  2607.84,  1331.2 ,\n",
       "        2000.17,  3152.83,  2486.13,  3034.04,  1723.63,  2754.95,\n",
       "        2762.97,  1445.01,  3040.59,  1323.62,  2940.97,  1423.13,\n",
       "        2657.91,  1365.13,  2274.86,  2089.36,   998.65,  2083.07,\n",
       "         297.21,   299.12,  1688.15,   323.21,  1364.75,  2271.12,\n",
       "         644.52,  1724.47,  1868.49,  2659.86,  2684.27,  1472.6 ,\n",
       "        1881.93,   300.32,  2470.53,   801.4 ,  1459.44,   504.92,\n",
       "        1627.26,  1802.26,   214.64,   747.33,  1135.84,  1146.09,\n",
       "         504.63,   198.28,  1628.58,  1808.07,  1031.47,  2262.51,\n",
       "        2106.02,   503.45,   216.58])"
      ]
     },
     "metadata": {},
     "output_type": "display_data"
    },
    {
     "data": {
      "text/plain": [
       "array([  203.5006425 ,   166.79999605,    46.35967755,   121.1699605 ,\n",
       "         141.53998923,    98.41971866,  1740.7       ,  2254.705     ,\n",
       "        3340.245     ,  2386.435     ,  2548.945     ,  1330.61      ,\n",
       "        1913.765     ,  3160.58      ,  2529.725     ,  3186.2       ,\n",
       "        1740.7       ,  2661.74      ,  2760.675     ,  1392.735     ,\n",
       "        3186.2       ,  1356.87      ,  3041.655     ,  1370.695     ,\n",
       "        2661.74      ,  1418.615     ,  2270.37      ,  2195.59      ,\n",
       "        1044.055     ,  2270.37      ,   309.96      ,   320.75      ,\n",
       "        1722.37      ,   310.385     ,  1462.215     ,  2383.255     ,\n",
       "         693.745     ,  1792.68      ,  1722.37      ,  2614.585     ,\n",
       "        2610.865     ,  1415.96      ,  1874.945     ,   320.75      ,\n",
       "        2336.5       ,   729.43      ,  1469.725     ,   483.87      ,\n",
       "        1780.16000025,  1780.16000025,   207.58      ,   780.515     ,\n",
       "        1028.17      ,  1088.395     ,   485.445     ,   207.5       ,\n",
       "        1637.05000004,  1637.05000004,  1085.725     ,  2249.94      ,\n",
       "        2039.38      ,   461.44      ,   208.955     ])"
      ]
     },
     "metadata": {},
     "output_type": "display_data"
    },
    {
     "name": "stdout",
     "output_type": "stream",
     "text": [
      "A: 6\n"
     ]
    },
    {
     "data": {
      "text/plain": [
       "array([ 203.98,  164.88,   45.97,  120.19,  142.07,   97.83])"
      ]
     },
     "metadata": {},
     "output_type": "display_data"
    },
    {
     "data": {
      "text/plain": [
       "array([ 203.5006425 ,  166.79999605,   46.35967755,  121.1699605 ,\n",
       "        141.53998923,   98.41971866])"
      ]
     },
     "metadata": {},
     "output_type": "display_data"
    },
    {
     "name": "stdout",
     "output_type": "stream",
     "text": [
      "B: 19\n"
     ]
    },
    {
     "data": {
      "text/plain": [
       "array([ 1732.64,  2306.07,  3444.3 ,  2397.91,  2607.84,  1331.2 ,\n",
       "        2000.17,  3152.83,  2486.13,  3034.04,  1723.63,  2754.95,\n",
       "        2762.97,  1445.01,  3040.59,  1323.62,  2940.97,  1423.13,  2657.91])"
      ]
     },
     "metadata": {},
     "output_type": "display_data"
    },
    {
     "data": {
      "text/plain": [
       "array([ 1740.7  ,  2254.705,  3340.245,  2386.435,  2548.945,  1330.61 ,\n",
       "        1913.765,  3160.58 ,  2529.725,  3186.2  ,  1740.7  ,  2661.74 ,\n",
       "        2760.675,  1392.735,  3186.2  ,  1356.87 ,  3041.655,  1370.695,\n",
       "        2661.74 ])"
      ]
     },
     "metadata": {},
     "output_type": "display_data"
    },
    {
     "name": "stdout",
     "output_type": "stream",
     "text": [
      "C: 19\n"
     ]
    },
    {
     "data": {
      "text/plain": [
       "array([ 1365.13,  2274.86,  2089.36,   998.65,  2083.07,   297.21,\n",
       "         299.12,  1688.15,   323.21,  1364.75,  2271.12,   644.52,\n",
       "        1724.47,  1868.49,  2659.86,  2684.27,  1472.6 ,  1881.93,   300.32])"
      ]
     },
     "metadata": {},
     "output_type": "display_data"
    },
    {
     "data": {
      "text/plain": [
       "array([ 1418.615,  2270.37 ,  2195.59 ,  1044.055,  2270.37 ,   309.96 ,\n",
       "         320.75 ,  1722.37 ,   310.385,  1462.215,  2383.255,   693.745,\n",
       "        1792.68 ,  1722.37 ,  2614.585,  2610.865,  1415.96 ,  1874.945,\n",
       "         320.75 ])"
      ]
     },
     "metadata": {},
     "output_type": "display_data"
    },
    {
     "name": "stdout",
     "output_type": "stream",
     "text": [
      "D: 19\n"
     ]
    },
    {
     "data": {
      "text/plain": [
       "array([ 2470.53,   801.4 ,  1459.44,   504.92,  1627.26,  1802.26,\n",
       "         214.64,   747.33,  1135.84,  1146.09,   504.63,   198.28,\n",
       "        1628.58,  1808.07,  1031.47,  2262.51,  2106.02,   503.45,   216.58])"
      ]
     },
     "metadata": {},
     "output_type": "display_data"
    },
    {
     "data": {
      "text/plain": [
       "array([ 2336.5       ,   729.43      ,  1469.725     ,   483.87      ,\n",
       "        1780.16000025,  1780.16000025,   207.58      ,   780.515     ,\n",
       "        1028.17      ,  1088.395     ,   485.445     ,   207.5       ,\n",
       "        1637.05000004,  1637.05000004,  1085.725     ,  2249.94      ,\n",
       "        2039.38      ,   461.44      ,   208.955     ])"
      ]
     },
     "metadata": {},
     "output_type": "display_data"
    },
    {
     "name": "stdout",
     "output_type": "stream",
     "text": [
      "【【】】adding new model for datasetIPPD.pickle \n",
      "\n",
      "【【【】】】newScore: 729.284477 \n",
      "____________________________________________________________________________________________________\n"
     ]
    }
   ],
   "source": [
    "t_boosting = wrapper([GradientBoostingCVModel])"
   ]
  },
  {
   "cell_type": "code",
   "execution_count": 12,
   "metadata": {
    "collapsed": false
   },
   "outputs": [
    {
     "name": "stdout",
     "output_type": "stream",
     "text": [
      "________________________________________________________________________________\n",
      "Model: GradientBoostingRegr\n",
      "Train RMSE: 729.284477 \n",
      "\n",
      "A...TestA RMSE   : 0.970998\n",
      "A...y_test_A Mean: 129.153333 \n",
      "\n",
      "B...TestB RMSE   : 71.317424\n",
      "B...y_test_B Mean: 2345.574211 \n",
      "\n",
      "C...TestC RMSE   : 77.760516\n",
      "C...y_test_C Mean: 1489.004737 \n",
      "\n",
      "D...TestD RMSE   : 73.545614\n",
      "D...y_test_D Mean: 1166.805263\n",
      "________________________________________________________________________________\n"
     ]
    }
   ],
   "source": [
    "t_print = t_boosting\n",
    "\n",
    "for key in t_print.keys():\n",
    "    print(80*'_')\n",
    "    \n",
    "    print('Model: %s' % (str(t_print[key]['model'])[:20]))\n",
    "    print('Train RMSE: %f \\n' % (t_print[key]['train_rmse_cv_picking']))\n",
    "    \n",
    "    #print('Test RMSE   : %f' % (t_print[key]['test_rmse_reporting']))\n",
    "    #print('Overall Mean: %f \\n' % (t_print[key]['test_mean_y_comparing']))\n",
    "    \n",
    "    print('A...TestA RMSE   : %f' % (t_print[key]['test_rmse_reportingA']))\n",
    "    print('A...y_test_A Mean: %f \\n' % (t_print[key]['test_mean_y_comparingA']))\n",
    "    \n",
    "    print('B...TestB RMSE   : %f' % (t_print[key]['test_rmse_reportingB']))\n",
    "    print('B...y_test_B Mean: %f \\n' % (t_print[key]['test_mean_y_comparingB']))\n",
    "    \n",
    "    print('C...TestC RMSE   : %f' % (t_print[key]['test_rmse_reportingC']))\n",
    "    print('C...y_test_C Mean: %f \\n' % (t_print[key]['test_mean_y_comparingC']))\n",
    "    \n",
    "    print('D...TestD RMSE   : %f' % (t_print[key]['test_rmse_reportingD']))\n",
    "    print('D...y_test_D Mean: %f' % (t_print[key]['test_mean_y_comparingD']))\n",
    "    \n",
    "    print(80*'_')"
   ]
  },
  {
   "cell_type": "code",
   "execution_count": 27,
   "metadata": {
    "collapsed": false
   },
   "outputs": [
    {
     "name": "stdout",
     "output_type": "stream",
     "text": [
      "4C4_gb_tuned_ABCD\n"
     ]
    }
   ],
   "source": [
    "# write the model\n",
    "import pickle\n",
    "\n",
    "#||||||||||||||||||| \n",
    "t_ = t_boosting\n",
    "prefix = '4C4_' + 'gb'\n",
    "#||||||||||||||||||| \n",
    "\n",
    "for k in t_.keys():\n",
    "    mo   = t_[k]['model']\n",
    "    fname = prefix + '_tuned_ABCD'\n",
    "       \n",
    "    print(fname)\n",
    "    # write the model to a file\n",
    "    with open(fname, 'wb') as handle:\n",
    "        pickle.dump(mo, handle)"
   ]
  },
  {
   "cell_type": "markdown",
   "metadata": {},
   "source": [
    "<:>:<:>:<:>:<:>:<:>:<:>:<:>:<:>:<:>:<:>:<:>:<:>:<:>:<:>:<:><:>:<:>:<:>:<:>:<:>:<:>:<:>:<:>:<:>:<:>:<:>:<:>:<:>:<:>:<:>\n",
    "<:>:<:>:<:>:<:>:<:>:<:>:<:>:<:>:<:>:<:>:<:>:<:>:<:>:<:>:<:><:>:<:>:<:>:<:>:<:>:<:>:<:>:<:>:<:>:<:>:<:>:<:>:<:>:<:>:<:>\n",
    "<:>:<:>:<:>:<:>:<:>:<:>:<:>:<:>:<:>:<:>:<:>:<:>:<:>:<:>:<:><:>:<:>:<:>:<:>:<:>:<:>:<:>:<:>:<:>:<:>:<:>:<:>:<:>:<:>:<:>\n",
    "<:>:<:>:<:>:<:>:<:>:<:>:<:>:<:>:<:>:<:>:<:>:<:>:<:>:<:>:<:><:>:<:>:<:>:<:>:<:>:<:>:<:>:<:>:<:>:<:>:<:>:<:>:<:>:<:>:<:>\n"
   ]
  },
  {
   "cell_type": "markdown",
   "metadata": {},
   "source": [
    "# Random Forest"
   ]
  },
  {
   "cell_type": "code",
   "execution_count": 8,
   "metadata": {
    "collapsed": false,
    "scrolled": false
   },
   "outputs": [
    {
     "name": "stdout",
     "output_type": "stream",
     "text": [
      "\n",
      "Dataset size read: train 258 and test 63 \n",
      "\n",
      "# Tuning hyper-parameters \n",
      "\n",
      "Starting grdsurch.fit(X_train, y_train)\n",
      "\n",
      "Best parameters set found on development set:\n",
      "\n",
      "{'n_estimators': 2000}\n",
      "RandomForestRegressor(bootstrap=True, criterion='mse', max_depth=None,\n",
      "           max_features='auto', max_leaf_nodes=None,\n",
      "           min_impurity_split=1e-07, min_samples_leaf=1,\n",
      "           min_samples_split=2, min_weight_fraction_leaf=0.0,\n",
      "           n_estimators=2000, n_jobs=-1, oob_score=True, random_state=None,\n",
      "           verbose=0, warm_start=False)\n",
      "\n",
      "Full Test Set: 63\n"
     ]
    },
    {
     "data": {
      "text/plain": [
       "array([  203.98,   164.88,    45.97,   120.19,   142.07,    97.83,\n",
       "        1732.64,  2306.07,  3444.3 ,  2397.91,  2607.84,  1331.2 ,\n",
       "        2000.17,  3152.83,  2486.13,  3034.04,  1723.63,  2754.95,\n",
       "        2762.97,  1445.01,  3040.59,  1323.62,  2940.97,  1423.13,\n",
       "        2657.91,  1365.13,  2274.86,  2089.36,   998.65,  2083.07,\n",
       "         297.21,   299.12,  1688.15,   323.21,  1364.75,  2271.12,\n",
       "         644.52,  1724.47,  1868.49,  2659.86,  2684.27,  1472.6 ,\n",
       "        1881.93,   300.32,  2470.53,   801.4 ,  1459.44,   504.92,\n",
       "        1627.26,  1802.26,   214.64,   747.33,  1135.84,  1146.09,\n",
       "         504.63,   198.28,  1628.58,  1808.07,  1031.47,  2262.51,\n",
       "        2106.02,   503.45,   216.58])"
      ]
     },
     "metadata": {},
     "output_type": "display_data"
    },
    {
     "data": {
      "text/plain": [
       "array([  235.96107017,   170.85074167,    46.79987642,   120.996245  ,\n",
       "         142.140435  ,    99.7314925 ,  1707.88305623,  2314.07118839,\n",
       "        3261.32796075,  2405.73663738,  2534.06929234,  1335.86579178,\n",
       "        1980.46792879,  3150.93593862,  2522.51185061,  3059.47261502,\n",
       "        1707.88305623,  2795.25069935,  2782.33383163,  1384.71247634,\n",
       "        3059.47261502,  1359.51674263,  3042.62426383,  1367.89405919,\n",
       "        2795.25069935,  1424.20441938,  2260.09413877,  2224.83671024,\n",
       "        1047.98089727,  2260.09413877,   310.59443025,   318.46540533,\n",
       "        1760.44106438,   310.61153296,  1458.21184441,  2373.71194776,\n",
       "         691.35042093,  1803.62837736,  1760.44106438,  2611.44420629,\n",
       "        2611.2529324 ,  1423.12032785,  1865.63505243,   318.46540533,\n",
       "        2335.02410271,   737.41007648,  1459.56261278,   484.9361861 ,\n",
       "        1734.99176855,  1734.99176855,   207.33185975,   781.19244132,\n",
       "        1036.49639047,  1088.6672542 ,   482.89406307,   207.66575221,\n",
       "        1671.59749117,  1671.59749117,  1080.66990035,  2263.4468237 ,\n",
       "        2043.11764524,   464.49794584,   208.70928213])"
      ]
     },
     "metadata": {},
     "output_type": "display_data"
    },
    {
     "name": "stdout",
     "output_type": "stream",
     "text": [
      "A: 6\n"
     ]
    },
    {
     "data": {
      "text/plain": [
       "array([ 203.98,  164.88,   45.97,  120.19,  142.07,   97.83])"
      ]
     },
     "metadata": {},
     "output_type": "display_data"
    },
    {
     "data": {
      "text/plain": [
       "array([ 235.96107017,  170.85074167,   46.79987642,  120.996245  ,\n",
       "        142.140435  ,   99.7314925 ])"
      ]
     },
     "metadata": {},
     "output_type": "display_data"
    },
    {
     "name": "stdout",
     "output_type": "stream",
     "text": [
      "B: 19\n"
     ]
    },
    {
     "data": {
      "text/plain": [
       "array([ 1732.64,  2306.07,  3444.3 ,  2397.91,  2607.84,  1331.2 ,\n",
       "        2000.17,  3152.83,  2486.13,  3034.04,  1723.63,  2754.95,\n",
       "        2762.97,  1445.01,  3040.59,  1323.62,  2940.97,  1423.13,  2657.91])"
      ]
     },
     "metadata": {},
     "output_type": "display_data"
    },
    {
     "data": {
      "text/plain": [
       "array([ 1707.88305623,  2314.07118839,  3261.32796075,  2405.73663738,\n",
       "        2534.06929234,  1335.86579178,  1980.46792879,  3150.93593862,\n",
       "        2522.51185061,  3059.47261502,  1707.88305623,  2795.25069935,\n",
       "        2782.33383163,  1384.71247634,  3059.47261502,  1359.51674263,\n",
       "        3042.62426383,  1367.89405919,  2795.25069935])"
      ]
     },
     "metadata": {},
     "output_type": "display_data"
    },
    {
     "name": "stdout",
     "output_type": "stream",
     "text": [
      "C: 19\n"
     ]
    },
    {
     "data": {
      "text/plain": [
       "array([ 1365.13,  2274.86,  2089.36,   998.65,  2083.07,   297.21,\n",
       "         299.12,  1688.15,   323.21,  1364.75,  2271.12,   644.52,\n",
       "        1724.47,  1868.49,  2659.86,  2684.27,  1472.6 ,  1881.93,   300.32])"
      ]
     },
     "metadata": {},
     "output_type": "display_data"
    },
    {
     "data": {
      "text/plain": [
       "array([ 1424.20441938,  2260.09413877,  2224.83671024,  1047.98089727,\n",
       "        2260.09413877,   310.59443025,   318.46540533,  1760.44106438,\n",
       "         310.61153296,  1458.21184441,  2373.71194776,   691.35042093,\n",
       "        1803.62837736,  1760.44106438,  2611.44420629,  2611.2529324 ,\n",
       "        1423.12032785,  1865.63505243,   318.46540533])"
      ]
     },
     "metadata": {},
     "output_type": "display_data"
    },
    {
     "name": "stdout",
     "output_type": "stream",
     "text": [
      "D: 19\n"
     ]
    },
    {
     "data": {
      "text/plain": [
       "array([ 2470.53,   801.4 ,  1459.44,   504.92,  1627.26,  1802.26,\n",
       "         214.64,   747.33,  1135.84,  1146.09,   504.63,   198.28,\n",
       "        1628.58,  1808.07,  1031.47,  2262.51,  2106.02,   503.45,   216.58])"
      ]
     },
     "metadata": {},
     "output_type": "display_data"
    },
    {
     "data": {
      "text/plain": [
       "array([ 2335.02410271,   737.41007648,  1459.56261278,   484.9361861 ,\n",
       "        1734.99176855,  1734.99176855,   207.33185975,   781.19244132,\n",
       "        1036.49639047,  1088.6672542 ,   482.89406307,   207.66575221,\n",
       "        1671.59749117,  1671.59749117,  1080.66990035,  2263.4468237 ,\n",
       "        2043.11764524,   464.49794584,   208.70928213])"
      ]
     },
     "metadata": {},
     "output_type": "display_data"
    },
    {
     "name": "stdout",
     "output_type": "stream",
     "text": [
      "【【】】adding new model for datasetIPPD.pickle \n",
      "\n",
      "【【【】】】newScore: 815.364410 \n",
      "____________________________________________________________________________________________________\n"
     ]
    }
   ],
   "source": [
    "t_rforest = wrapper([RandomForestCVModel])"
   ]
  },
  {
   "cell_type": "code",
   "execution_count": 11,
   "metadata": {
    "collapsed": false
   },
   "outputs": [
    {
     "name": "stdout",
     "output_type": "stream",
     "text": [
      "________________________________________________________________________________\n",
      "Model: RandomForestRegresso\n",
      "Train RMSE: 815.364410 \n",
      "\n",
      "A...TestA RMSE   : 13.312888\n",
      "A...y_test_A Mean: 129.153333 \n",
      "\n",
      "B...TestB RMSE   : 65.621767\n",
      "B...y_test_B Mean: 2345.574211 \n",
      "\n",
      "C...TestC RMSE   : 76.737242\n",
      "C...y_test_C Mean: 1489.004737 \n",
      "\n",
      "D...TestD RMSE   : 65.833479\n",
      "D...y_test_D Mean: 1166.805263\n",
      "________________________________________________________________________________\n"
     ]
    }
   ],
   "source": [
    "t_print = t_rforest\n",
    "\n",
    "for key in t_print.keys():\n",
    "    print(80*'_')\n",
    "    \n",
    "    print('Model: %s' % (str(t_print[key]['model'])[:20]))\n",
    "    print('Train RMSE: %f \\n' % (t_print[key]['train_rmse_cv_picking']))\n",
    "    \n",
    "    #print('Test RMSE   : %f' % (t_print[key]['test_rmse_reporting']))\n",
    "    #print('Overall Mean: %f \\n' % (t_print[key]['test_mean_y_comparing']))\n",
    "    \n",
    "    print('A...TestA RMSE   : %f' % (t_print[key]['test_rmse_reportingA']))\n",
    "    print('A...y_test_A Mean: %f \\n' % (t_print[key]['test_mean_y_comparingA']))\n",
    "    \n",
    "    print('B...TestB RMSE   : %f' % (t_print[key]['test_rmse_reportingB']))\n",
    "    print('B...y_test_B Mean: %f \\n' % (t_print[key]['test_mean_y_comparingB']))\n",
    "    \n",
    "    print('C...TestC RMSE   : %f' % (t_print[key]['test_rmse_reportingC']))\n",
    "    print('C...y_test_C Mean: %f \\n' % (t_print[key]['test_mean_y_comparingC']))\n",
    "    \n",
    "    print('D...TestD RMSE   : %f' % (t_print[key]['test_rmse_reportingD']))\n",
    "    print('D...y_test_D Mean: %f' % (t_print[key]['test_mean_y_comparingD']))\n",
    "    \n",
    "    print(80*'_')"
   ]
  },
  {
   "cell_type": "code",
   "execution_count": 28,
   "metadata": {
    "collapsed": false
   },
   "outputs": [
    {
     "name": "stdout",
     "output_type": "stream",
     "text": [
      "4C4_rf_tuned_ABCD\n"
     ]
    }
   ],
   "source": [
    "# write the model\n",
    "import pickle\n",
    "\n",
    "#||||||||||||||||||| \n",
    "t_ = t_rforest\n",
    "prefix = '4C4_' + 'rf'\n",
    "#||||||||||||||||||| \n",
    "\n",
    "for k in t_.keys():\n",
    "    mo   = t_[k]['model']\n",
    "    fname = prefix + '_tuned_ABCD'\n",
    "       \n",
    "    print(fname)\n",
    "    # write the model to a file\n",
    "    with open(fname, 'wb') as handle:\n",
    "        pickle.dump(mo, handle)"
   ]
  },
  {
   "cell_type": "markdown",
   "metadata": {},
   "source": [
    "<:>:<:>:<:>:<:>:<:>:<:>:<:>:<:>:<:>:<:>:<:>:<:>:<:>:<:>:<:><:>:<:>:<:>:<:>:<:>:<:>:<:>:<:>:<:>:<:>:<:>:<:>:<:>:<:>:<:>\n",
    "<:>:<:>:<:>:<:>:<:>:<:>:<:>:<:>:<:>:<:>:<:>:<:>:<:>:<:>:<:><:>:<:>:<:>:<:>:<:>:<:>:<:>:<:>:<:>:<:>:<:>:<:>:<:>:<:>:<:>\n",
    "<:>:<:>:<:>:<:>:<:>:<:>:<:>:<:>:<:>:<:>:<:>:<:>:<:>:<:>:<:><:>:<:>:<:>:<:>:<:>:<:>:<:>:<:>:<:>:<:>:<:>:<:>:<:>:<:>:<:>\n",
    "<:>:<:>:<:>:<:>:<:>:<:>:<:>:<:>:<:>:<:>:<:>:<:>:<:>:<:>:<:><:>:<:>:<:>:<:>:<:>:<:>:<:>:<:>:<:>\n"
   ]
  },
  {
   "cell_type": "markdown",
   "metadata": {},
   "source": [
    "# Which features were given most weights by each model ?"
   ]
  },
  {
   "cell_type": "code",
   "execution_count": null,
   "metadata": {
    "collapsed": true
   },
   "outputs": [],
   "source": []
  }
 ],
 "metadata": {
  "kernelspec": {
   "display_name": "Python 3",
   "language": "python",
   "name": "python3"
  },
  "language_info": {
   "codemirror_mode": {
    "name": "ipython",
    "version": 3
   },
   "file_extension": ".py",
   "mimetype": "text/x-python",
   "name": "python",
   "nbconvert_exporter": "python",
   "pygments_lexer": "ipython3",
   "version": "3.6.0"
  }
 },
 "nbformat": 4,
 "nbformat_minor": 2
}
