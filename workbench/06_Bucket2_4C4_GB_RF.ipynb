{
 "cells": [
  {
   "cell_type": "code",
   "execution_count": 1,
   "metadata": {
    "collapsed": false
   },
   "outputs": [
    {
     "name": "stdout",
     "output_type": "stream",
     "text": [
      "\n"
     ]
    }
   ],
   "source": [
    "# import all the filenames\n",
    "from allfunctions import *"
   ]
  },
  {
   "cell_type": "code",
   "execution_count": 2,
   "metadata": {
    "collapsed": false
   },
   "outputs": [],
   "source": [
    "%load_ext autoreload\n",
    "%autoreload 2"
   ]
  },
  {
   "cell_type": "markdown",
   "metadata": {},
   "source": [
    "5  def GradientBoostingCVModel(filename):\n",
    "\n",
    "6  def RandomForestCVModel(filename):"
   ]
  },
  {
   "cell_type": "code",
   "execution_count": 3,
   "metadata": {
    "collapsed": false
   },
   "outputs": [],
   "source": [
    "def wrapper(functionList = [], filenames = [ 'datasetIPPD.pickle' ]):\n",
    "    if __name__ == '__main__':\n",
    "        global model_selection\n",
    "        \n",
    "        global c\n",
    "        initialize_c()\n",
    "                \n",
    "        model_selection = {}\n",
    "        \n",
    "        for f in functionList:\n",
    "            print()\n",
    "            for filename in filenames:\n",
    "                out = f(filename)\n",
    "                newScore = out[filename]['train_rmse_cv_picking']\n",
    "\n",
    "                if f in model_selection:\n",
    "                    #compare scores and select more accurate model\n",
    "                    oldScore = model_selection[f]['train_rmse_cv_picking']\n",
    "                    if(newScore < oldScore):\n",
    "                        print(\"【【【】】】switching models for %s...\" % filename)\n",
    "                        print(\"【【【】】】newScore: %f < oldScore: %f\" % (newScore, oldScore))\n",
    "                        print(\"【【【】】】newModel: %s \\n\" % f)\n",
    "                        print(100*'_')\n",
    "                        model_selection[f] = out[filename]\n",
    "                else:\n",
    "                    #no score to compare\n",
    "                    print(\"【【】】adding new model for %s \\n\" % filename)\n",
    "                    print(\"【【【】】】newScore: %f \" % (newScore))\n",
    "                    print(100*'_')\n",
    "                    model_selection[f] = out[filename]\n",
    "    return model_selection"
   ]
  },
  {
   "cell_type": "markdown",
   "metadata": {},
   "source": [
    "<:>:<:>:<:>:<:>:<:>:<:>:<:>:<:>:<:>:<:>:<:>:<:>:<:>:<:>:<:><:>:<:>:<:>:<:>:<:>:<:>:<:>:<:>:<:>:<:>:<:>:<:>:<:>:<:>:<:>\n",
    "<:>:<:>:<:>:<:>:<:>:<:>:<:>:<:>:<:>:<:>:<:>:<:>:<:>:<:>:<:><:>:<:>:<:>:<:>:<:>:<:>:<:>:<:>:<:>:<:>:<:>:<:>:<:>:<:>:<:>\n",
    "<:>:<:>:<:>:<:>:<:>:<:>:<:>:<:>:<:>:<:>:<:>:<:>:<:>:<:>:<:><:>:<:>:<:>:<:>:<:>:<:>:<:>:<:>:<:>:<:>:<:>:<:>:<:>:<:>:<:>\n",
    "<:>:<:>:<:>:<:>:<:>:<:>:<:>:<:>:<:>:<:>:<:>:<:>:<:>:<:>:<:><:>:<:>:<:>:<:>:<:>:<:>:<:>:<:>:<:>:<:>:<:>:<:>:<:>:<:>:<:>\n"
   ]
  },
  {
   "cell_type": "markdown",
   "metadata": {},
   "source": [
    "# GradientBoostingCVModel"
   ]
  },
  {
   "cell_type": "code",
   "execution_count": 4,
   "metadata": {
    "collapsed": false,
    "scrolled": false
   },
   "outputs": [
    {
     "name": "stdout",
     "output_type": "stream",
     "text": [
      "\n",
      "Dataset size read: train 258 and test 63 \n",
      "\n",
      "# Tuning hyper-parameters \n",
      "\n",
      "Starting grdsurch.fit(X_train, y_train)\n",
      "\n",
      "Best parameters set found on development set:\n",
      "\n",
      "{'learning_rate': 0.001, 'loss': 'ls', 'n_estimators': 4000}\n",
      "GradientBoostingRegressor(alpha=0.9, criterion='friedman_mse', init=None,\n",
      "             learning_rate=0.001, loss='ls', max_depth=None,\n",
      "             max_features=None, max_leaf_nodes=None,\n",
      "             min_impurity_split=1e-07, min_samples_leaf=1,\n",
      "             min_samples_split=2, min_weight_fraction_leaf=0.0,\n",
      "             n_estimators=4000, presort='auto', random_state=None,\n",
      "             subsample=1.0, verbose=0, warm_start=False)\n",
      "\n",
      "Full Test Set: 63\n"
     ]
    },
    {
     "data": {
      "text/plain": [
       "array([   97.49,   203.5 ,    98.47,    45.82,   141.66,    21.63,\n",
       "        1740.7 ,  2752.13,  2754.95,  4234.26,  2130.06,  3040.59,\n",
       "        1447.46,  2769.22,  2587.3 ,  3353.35,  1425.64,  2213.16,\n",
       "        2110.94,  1423.13,  1174.9 ,  2179.65,  2397.91,  2657.91,\n",
       "        1323.62,  2681.79,  1366.43,  3085.44,   976.5 ,   643.53,\n",
       "        2294.56,  2674.81,  1857.77,  1082.16,  3326.93,  2832.93,\n",
       "        2771.25,   693.29,  2392.64,  3621.04,  2087.18,  1083.5 ,\n",
       "         322.13,  2271.12,   823.05,   464.01,  1324.9 ,  1476.76,\n",
       "        1037.18,   504.92,   503.73,   720.7 ,  1801.74,  2125.54,\n",
       "        1862.39,  2142.12,  2230.04,  1135.84,  1634.05,  1806.17,\n",
       "        1792.62,  1467.78,  2241.22])"
      ]
     },
     "metadata": {},
     "output_type": "display_data"
    },
    {
     "data": {
      "text/plain": [
       "array([  125.26286602,   229.34492434,   124.68365064,    73.74219084,\n",
       "         168.35059984,    50.04340452,  1725.18827322,  2741.10750374,\n",
       "        2641.72788892,  1996.1972584 ,  2249.81996503,  3081.911942  ,\n",
       "        1394.71644827,  2741.10750374,  2462.46563794,  2872.21143204,\n",
       "        1320.34126681,  2249.81996503,  2249.81996503,  1320.34126681,\n",
       "        3366.41959066,  2249.81996503,  2371.45519447,  2641.72788892,\n",
       "        1360.70963352,  2075.25524894,  1420.6878768 ,  2942.24740676,\n",
       "        1006.84830621,   682.71349019,  2083.37408144,  2538.45575041,\n",
       "        1723.12175056,  1049.05739976,  3142.92590092,  2810.11758004,\n",
       "        2549.08778862,   683.01291509,  2726.60257626,  2942.24740676,\n",
       "        2388.95927955,  1006.84830621,   333.88348291,  2075.25524894,\n",
       "         794.75730566,   510.63089198,  1278.78501772,  1463.00005105,\n",
       "        1150.60170934,   510.63089198,   510.63089198,   784.35106327,\n",
       "        1795.1800705 ,  2113.31657134,  2113.31657134,  2020.02362659,\n",
       "        2430.680785  ,  1038.01794733,  1795.1800705 ,  1622.79968359,\n",
       "        1622.79968359,  1278.78501772,  2247.90560911])"
      ]
     },
     "metadata": {},
     "output_type": "display_data"
    },
    {
     "name": "stdout",
     "output_type": "stream",
     "text": [
      "A: 6\n"
     ]
    },
    {
     "data": {
      "text/plain": [
       "array([  97.49,  203.5 ,   98.47,   45.82,  141.66,   21.63])"
      ]
     },
     "metadata": {},
     "output_type": "display_data"
    },
    {
     "data": {
      "text/plain": [
       "array([ 125.26286602,  229.34492434,  124.68365064,   73.74219084,\n",
       "        168.35059984,   50.04340452])"
      ]
     },
     "metadata": {},
     "output_type": "display_data"
    },
    {
     "name": "stdout",
     "output_type": "stream",
     "text": [
      "B: 19\n"
     ]
    },
    {
     "data": {
      "text/plain": [
       "array([ 1740.7 ,  2752.13,  2754.95,  4234.26,  2130.06,  3040.59,\n",
       "        1447.46,  2769.22,  2587.3 ,  3353.35,  1425.64,  2213.16,\n",
       "        2110.94,  1423.13,  1174.9 ,  2179.65,  2397.91,  2657.91,  1323.62])"
      ]
     },
     "metadata": {},
     "output_type": "display_data"
    },
    {
     "data": {
      "text/plain": [
       "array([ 1725.18827322,  2741.10750374,  2641.72788892,  1996.1972584 ,\n",
       "        2249.81996503,  3081.911942  ,  1394.71644827,  2741.10750374,\n",
       "        2462.46563794,  2872.21143204,  1320.34126681,  2249.81996503,\n",
       "        2249.81996503,  1320.34126681,  3366.41959066,  2249.81996503,\n",
       "        2371.45519447,  2641.72788892,  1360.70963352])"
      ]
     },
     "metadata": {},
     "output_type": "display_data"
    },
    {
     "name": "stdout",
     "output_type": "stream",
     "text": [
      "C: 19\n"
     ]
    },
    {
     "data": {
      "text/plain": [
       "array([ 2681.79,  1366.43,  3085.44,   976.5 ,   643.53,  2294.56,\n",
       "        2674.81,  1857.77,  1082.16,  3326.93,  2832.93,  2771.25,\n",
       "         693.29,  2392.64,  3621.04,  2087.18,  1083.5 ,   322.13,  2271.12])"
      ]
     },
     "metadata": {},
     "output_type": "display_data"
    },
    {
     "data": {
      "text/plain": [
       "array([ 2075.25524894,  1420.6878768 ,  2942.24740676,  1006.84830621,\n",
       "         682.71349019,  2083.37408144,  2538.45575041,  1723.12175056,\n",
       "        1049.05739976,  3142.92590092,  2810.11758004,  2549.08778862,\n",
       "         683.01291509,  2726.60257626,  2942.24740676,  2388.95927955,\n",
       "        1006.84830621,   333.88348291,  2075.25524894])"
      ]
     },
     "metadata": {},
     "output_type": "display_data"
    },
    {
     "name": "stdout",
     "output_type": "stream",
     "text": [
      "D: 19\n"
     ]
    },
    {
     "data": {
      "text/plain": [
       "array([  823.05,   464.01,  1324.9 ,  1476.76,  1037.18,   504.92,\n",
       "         503.73,   720.7 ,  1801.74,  2125.54,  1862.39,  2142.12,\n",
       "        2230.04,  1135.84,  1634.05,  1806.17,  1792.62,  1467.78,  2241.22])"
      ]
     },
     "metadata": {},
     "output_type": "display_data"
    },
    {
     "data": {
      "text/plain": [
       "array([  794.75730566,   510.63089198,  1278.78501772,  1463.00005105,\n",
       "        1150.60170934,   510.63089198,   510.63089198,   784.35106327,\n",
       "        1795.1800705 ,  2113.31657134,  2113.31657134,  2020.02362659,\n",
       "        2430.680785  ,  1038.01794733,  1795.1800705 ,  1622.79968359,\n",
       "        1622.79968359,  1278.78501772,  2247.90560911])"
      ]
     },
     "metadata": {},
     "output_type": "display_data"
    },
    {
     "name": "stdout",
     "output_type": "stream",
     "text": [
      "【【】】adding new model for datasetIPPD.pickle \n",
      "\n",
      "【【【】】】newScore: 708.826732 \n",
      "____________________________________________________________________________________________________\n"
     ]
    }
   ],
   "source": [
    "t_boosting = wrapper([GradientBoostingCVModel])"
   ]
  },
  {
   "cell_type": "code",
   "execution_count": 5,
   "metadata": {
    "collapsed": false
   },
   "outputs": [
    {
     "name": "stdout",
     "output_type": "stream",
     "text": [
      "________________________________________________________________________________\n",
      "Model: GradientBoostingRegr\n",
      "Train RMSE: 708.826732 \n",
      "\n",
      "A...TestA RMSE   : 27.159425\n",
      "A...y_test_A Mean: 101.428333 \n",
      "\n",
      "B...TestB RMSE   : 730.576936\n",
      "B...y_test_B Mean: 2300.888421 \n",
      "\n",
      "C...TestC RMSE   : 258.312748\n",
      "C...y_test_C Mean: 2003.421053 \n",
      "\n",
      "D...TestD RMSE   : 120.167952\n",
      "D...y_test_D Mean: 1426.040000\n",
      "________________________________________________________________________________\n"
     ]
    }
   ],
   "source": [
    "t_print = t_boosting\n",
    "\n",
    "for key in t_print.keys():\n",
    "    print(80*'_')\n",
    "    \n",
    "    print('Model: %s' % (str(t_print[key]['model'])[:20]))\n",
    "    print('Train RMSE: %f \\n' % (t_print[key]['train_rmse_cv_picking']))\n",
    "    \n",
    "    #print('Test RMSE   : %f' % (t_print[key]['test_rmse_reporting']))\n",
    "    #print('Overall Mean: %f \\n' % (t_print[key]['test_mean_y_comparing']))\n",
    "    \n",
    "    print('A...TestA RMSE   : %f' % (t_print[key]['test_rmse_reportingA']))\n",
    "    print('A...y_test_A Mean: %f \\n' % (t_print[key]['test_mean_y_comparingA']))\n",
    "    \n",
    "    print('B...TestB RMSE   : %f' % (t_print[key]['test_rmse_reportingB']))\n",
    "    print('B...y_test_B Mean: %f \\n' % (t_print[key]['test_mean_y_comparingB']))\n",
    "    \n",
    "    print('C...TestC RMSE   : %f' % (t_print[key]['test_rmse_reportingC']))\n",
    "    print('C...y_test_C Mean: %f \\n' % (t_print[key]['test_mean_y_comparingC']))\n",
    "    \n",
    "    print('D...TestD RMSE   : %f' % (t_print[key]['test_rmse_reportingD']))\n",
    "    print('D...y_test_D Mean: %f' % (t_print[key]['test_mean_y_comparingD']))\n",
    "    \n",
    "    print(80*'_')"
   ]
  },
  {
   "cell_type": "code",
   "execution_count": 6,
   "metadata": {
    "collapsed": false
   },
   "outputs": [
    {
     "name": "stdout",
     "output_type": "stream",
     "text": [
      "4C4_gb_tuned_ABCD\n"
     ]
    }
   ],
   "source": [
    "# write the model\n",
    "import pickle\n",
    "\n",
    "#||||||||||||||||||| \n",
    "t_ = t_boosting\n",
    "prefix = '4C4_' + 'gb'\n",
    "#||||||||||||||||||| \n",
    "\n",
    "for k in t_.keys():\n",
    "    mo   = t_[k]['model']\n",
    "    fname = prefix + '_tuned_ABCD'\n",
    "       \n",
    "    print(fname)\n",
    "    # write the model to a file\n",
    "    with open(fname, 'wb') as handle:\n",
    "        pickle.dump(mo, handle)"
   ]
  },
  {
   "cell_type": "markdown",
   "metadata": {},
   "source": [
    "<:>:<:>:<:>:<:>:<:>:<:>:<:>:<:>:<:>:<:>:<:>:<:>:<:>:<:>:<:><:>:<:>:<:>:<:>:<:>:<:>:<:>:<:>:<:>:<:>:<:>:<:>:<:>:<:>:<:>\n",
    "<:>:<:>:<:>:<:>:<:>:<:>:<:>:<:>:<:>:<:>:<:>:<:>:<:>:<:>:<:><:>:<:>:<:>:<:>:<:>:<:>:<:>:<:>:<:>:<:>:<:>:<:>:<:>:<:>:<:>\n",
    "<:>:<:>:<:>:<:>:<:>:<:>:<:>:<:>:<:>:<:>:<:>:<:>:<:>:<:>:<:><:>:<:>:<:>:<:>:<:>:<:>:<:>:<:>:<:>:<:>:<:>:<:>:<:>:<:>:<:>\n",
    "<:>:<:>:<:>:<:>:<:>:<:>:<:>:<:>:<:>:<:>:<:>:<:>:<:>:<:>:<:><:>:<:>:<:>:<:>:<:>:<:>:<:>:<:>:<:>:<:>:<:>:<:>:<:>:<:>:<:>\n"
   ]
  },
  {
   "cell_type": "markdown",
   "metadata": {},
   "source": [
    "# Random Forest"
   ]
  },
  {
   "cell_type": "code",
   "execution_count": 7,
   "metadata": {
    "collapsed": false,
    "scrolled": false
   },
   "outputs": [
    {
     "name": "stdout",
     "output_type": "stream",
     "text": [
      "\n",
      "Dataset size read: train 258 and test 63 \n",
      "\n",
      "# Tuning hyper-parameters \n",
      "\n",
      "Starting grdsurch.fit(X_train, y_train)\n",
      "\n",
      "Best parameters set found on development set:\n",
      "\n",
      "{'n_estimators': 10000}\n",
      "RandomForestRegressor(bootstrap=True, criterion='mse', max_depth=None,\n",
      "           max_features='auto', max_leaf_nodes=None,\n",
      "           min_impurity_split=1e-07, min_samples_leaf=1,\n",
      "           min_samples_split=2, min_weight_fraction_leaf=0.0,\n",
      "           n_estimators=10000, n_jobs=-1, oob_score=True,\n",
      "           random_state=None, verbose=0, warm_start=False)\n",
      "\n",
      "Full Test Set: 63\n"
     ]
    },
    {
     "data": {
      "text/plain": [
       "array([   97.49,   203.5 ,    98.47,    45.82,   141.66,    21.63,\n",
       "        1740.7 ,  2752.13,  2754.95,  4234.26,  2130.06,  3040.59,\n",
       "        1447.46,  2769.22,  2587.3 ,  3353.35,  1425.64,  2213.16,\n",
       "        2110.94,  1423.13,  1174.9 ,  2179.65,  2397.91,  2657.91,\n",
       "        1323.62,  2681.79,  1366.43,  3085.44,   976.5 ,   643.53,\n",
       "        2294.56,  2674.81,  1857.77,  1082.16,  3326.93,  2832.93,\n",
       "        2771.25,   693.29,  2392.64,  3621.04,  2087.18,  1083.5 ,\n",
       "         322.13,  2271.12,   823.05,   464.01,  1324.9 ,  1476.76,\n",
       "        1037.18,   504.92,   503.73,   720.7 ,  1801.74,  2125.54,\n",
       "        1862.39,  2142.12,  2230.04,  1135.84,  1634.05,  1806.17,\n",
       "        1792.62,  1467.78,  2241.22])"
      ]
     },
     "metadata": {},
     "output_type": "display_data"
    },
    {
     "data": {
      "text/plain": [
       "array([  103.00432631,   271.21617076,   102.53174895,    48.22325077,\n",
       "         143.11992   ,    26.07585236,  1718.18161372,  2808.27629258,\n",
       "        2741.76785358,  1996.07007211,  2262.94667661,  3110.51858026,\n",
       "        1383.83157103,  2808.27629258,  2481.9069822 ,  2870.24862943,\n",
       "        1329.57243348,  2262.94667661,  2262.94667661,  1329.57243348,\n",
       "        3394.79130692,  2263.10296841,  2409.33380423,  2741.76785358,\n",
       "        1352.53241965,  2182.78216855,  1427.24040424,  2992.79156702,\n",
       "        1020.976641  ,   667.92240355,  2103.42333233,  2563.38147157,\n",
       "        1746.6550831 ,  1035.66900629,  3146.97631514,  2854.97707856,\n",
       "        2570.42405509,   667.9397452 ,  2728.9506886 ,  2992.79156702,\n",
       "        2360.33081552,  1020.976641  ,   310.35271344,  2182.78216855,\n",
       "         779.26624655,   491.04707092,  1336.45890251,  1450.5051377 ,\n",
       "        1134.01978907,   491.04707092,   491.04707092,   771.62283896,\n",
       "        1736.52638523,  2090.47030472,  2090.47030472,  2038.96793987,\n",
       "        2446.32469809,  1041.66391546,  1736.52638523,  1670.3398217 ,\n",
       "        1670.3398217 ,  1336.45890251,  2279.09055806])"
      ]
     },
     "metadata": {},
     "output_type": "display_data"
    },
    {
     "name": "stdout",
     "output_type": "stream",
     "text": [
      "A: 6\n"
     ]
    },
    {
     "data": {
      "text/plain": [
       "array([  97.49,  203.5 ,   98.47,   45.82,  141.66,   21.63])"
      ]
     },
     "metadata": {},
     "output_type": "display_data"
    },
    {
     "data": {
      "text/plain": [
       "array([ 103.00432631,  271.21617076,  102.53174895,   48.22325077,\n",
       "        143.11992   ,   26.07585236])"
      ]
     },
     "metadata": {},
     "output_type": "display_data"
    },
    {
     "name": "stdout",
     "output_type": "stream",
     "text": [
      "B: 19\n"
     ]
    },
    {
     "data": {
      "text/plain": [
       "array([ 1740.7 ,  2752.13,  2754.95,  4234.26,  2130.06,  3040.59,\n",
       "        1447.46,  2769.22,  2587.3 ,  3353.35,  1425.64,  2213.16,\n",
       "        2110.94,  1423.13,  1174.9 ,  2179.65,  2397.91,  2657.91,  1323.62])"
      ]
     },
     "metadata": {},
     "output_type": "display_data"
    },
    {
     "data": {
      "text/plain": [
       "array([ 1718.18161372,  2808.27629258,  2741.76785358,  1996.07007211,\n",
       "        2262.94667661,  3110.51858026,  1383.83157103,  2808.27629258,\n",
       "        2481.9069822 ,  2870.24862943,  1329.57243348,  2262.94667661,\n",
       "        2262.94667661,  1329.57243348,  3394.79130692,  2263.10296841,\n",
       "        2409.33380423,  2741.76785358,  1352.53241965])"
      ]
     },
     "metadata": {},
     "output_type": "display_data"
    },
    {
     "name": "stdout",
     "output_type": "stream",
     "text": [
      "C: 19\n"
     ]
    },
    {
     "data": {
      "text/plain": [
       "array([ 2681.79,  1366.43,  3085.44,   976.5 ,   643.53,  2294.56,\n",
       "        2674.81,  1857.77,  1082.16,  3326.93,  2832.93,  2771.25,\n",
       "         693.29,  2392.64,  3621.04,  2087.18,  1083.5 ,   322.13,  2271.12])"
      ]
     },
     "metadata": {},
     "output_type": "display_data"
    },
    {
     "data": {
      "text/plain": [
       "array([ 2182.78216855,  1427.24040424,  2992.79156702,  1020.976641  ,\n",
       "         667.92240355,  2103.42333233,  2563.38147157,  1746.6550831 ,\n",
       "        1035.66900629,  3146.97631514,  2854.97707856,  2570.42405509,\n",
       "         667.9397452 ,  2728.9506886 ,  2992.79156702,  2360.33081552,\n",
       "        1020.976641  ,   310.35271344,  2182.78216855])"
      ]
     },
     "metadata": {},
     "output_type": "display_data"
    },
    {
     "name": "stdout",
     "output_type": "stream",
     "text": [
      "D: 19\n"
     ]
    },
    {
     "data": {
      "text/plain": [
       "array([  823.05,   464.01,  1324.9 ,  1476.76,  1037.18,   504.92,\n",
       "         503.73,   720.7 ,  1801.74,  2125.54,  1862.39,  2142.12,\n",
       "        2230.04,  1135.84,  1634.05,  1806.17,  1792.62,  1467.78,  2241.22])"
      ]
     },
     "metadata": {},
     "output_type": "display_data"
    },
    {
     "data": {
      "text/plain": [
       "array([  779.26624655,   491.04707092,  1336.45890251,  1450.5051377 ,\n",
       "        1134.01978907,   491.04707092,   491.04707092,   771.62283896,\n",
       "        1736.52638523,  2090.47030472,  2090.47030472,  2038.96793987,\n",
       "        2446.32469809,  1041.66391546,  1736.52638523,  1670.3398217 ,\n",
       "        1670.3398217 ,  1336.45890251,  2279.09055806])"
      ]
     },
     "metadata": {},
     "output_type": "display_data"
    },
    {
     "name": "stdout",
     "output_type": "stream",
     "text": [
      "【【】】adding new model for datasetIPPD.pickle \n",
      "\n",
      "【【【】】】newScore: 722.040798 \n",
      "____________________________________________________________________________________________________\n"
     ]
    }
   ],
   "source": [
    "t_rforest = wrapper([RandomForestCVModel])"
   ]
  },
  {
   "cell_type": "code",
   "execution_count": 8,
   "metadata": {
    "collapsed": false
   },
   "outputs": [
    {
     "name": "stdout",
     "output_type": "stream",
     "text": [
      "________________________________________________________________________________\n",
      "Model: RandomForestRegresso\n",
      "Train RMSE: 722.040798 \n",
      "\n",
      "A...TestA RMSE   : 27.868913\n",
      "A...y_test_A Mean: 101.428333 \n",
      "\n",
      "B...TestB RMSE   : 735.290562\n",
      "B...y_test_B Mean: 2300.888421 \n",
      "\n",
      "C...TestC RMSE   : 228.890686\n",
      "C...y_test_C Mean: 2003.421053 \n",
      "\n",
      "D...TestD RMSE   : 103.153008\n",
      "D...y_test_D Mean: 1426.040000\n",
      "________________________________________________________________________________\n"
     ]
    }
   ],
   "source": [
    "t_print = t_rforest\n",
    "\n",
    "for key in t_print.keys():\n",
    "    print(80*'_')\n",
    "    \n",
    "    print('Model: %s' % (str(t_print[key]['model'])[:20]))\n",
    "    print('Train RMSE: %f \\n' % (t_print[key]['train_rmse_cv_picking']))\n",
    "    \n",
    "    #print('Test RMSE   : %f' % (t_print[key]['test_rmse_reporting']))\n",
    "    #print('Overall Mean: %f \\n' % (t_print[key]['test_mean_y_comparing']))\n",
    "    \n",
    "    print('A...TestA RMSE   : %f' % (t_print[key]['test_rmse_reportingA']))\n",
    "    print('A...y_test_A Mean: %f \\n' % (t_print[key]['test_mean_y_comparingA']))\n",
    "    \n",
    "    print('B...TestB RMSE   : %f' % (t_print[key]['test_rmse_reportingB']))\n",
    "    print('B...y_test_B Mean: %f \\n' % (t_print[key]['test_mean_y_comparingB']))\n",
    "    \n",
    "    print('C...TestC RMSE   : %f' % (t_print[key]['test_rmse_reportingC']))\n",
    "    print('C...y_test_C Mean: %f \\n' % (t_print[key]['test_mean_y_comparingC']))\n",
    "    \n",
    "    print('D...TestD RMSE   : %f' % (t_print[key]['test_rmse_reportingD']))\n",
    "    print('D...y_test_D Mean: %f' % (t_print[key]['test_mean_y_comparingD']))\n",
    "    \n",
    "    print(80*'_')"
   ]
  },
  {
   "cell_type": "code",
   "execution_count": 9,
   "metadata": {
    "collapsed": false
   },
   "outputs": [
    {
     "name": "stdout",
     "output_type": "stream",
     "text": [
      "4C4_rf_tuned_ABCD\n"
     ]
    }
   ],
   "source": [
    "# write the model\n",
    "import pickle\n",
    "\n",
    "#||||||||||||||||||| \n",
    "t_ = t_rforest\n",
    "prefix = '4C4_' + 'rf'\n",
    "#||||||||||||||||||| \n",
    "\n",
    "for k in t_.keys():\n",
    "    mo   = t_[k]['model']\n",
    "    fname = prefix + '_tuned_ABCD'\n",
    "       \n",
    "    print(fname)\n",
    "    # write the model to a file\n",
    "    with open(fname, 'wb') as handle:\n",
    "        pickle.dump(mo, handle)"
   ]
  },
  {
   "cell_type": "markdown",
   "metadata": {},
   "source": [
    "<:>:<:>:<:>:<:>:<:>:<:>:<:>:<:>:<:>:<:>:<:>:<:>:<:>:<:>:<:><:>:<:>:<:>:<:>:<:>:<:>:<:>:<:>:<:>:<:>:<:>:<:>:<:>:<:>:<:>\n",
    "<:>:<:>:<:>:<:>:<:>:<:>:<:>:<:>:<:>:<:>:<:>:<:>:<:>:<:>:<:><:>:<:>:<:>:<:>:<:>:<:>:<:>:<:>:<:>:<:>:<:>:<:>:<:>:<:>:<:>\n",
    "<:>:<:>:<:>:<:>:<:>:<:>:<:>:<:>:<:>:<:>:<:>:<:>:<:>:<:>:<:><:>:<:>:<:>:<:>:<:>:<:>:<:>:<:>:<:>:<:>:<:>:<:>:<:>:<:>:<:>\n",
    "<:>:<:>:<:>:<:>:<:>:<:>:<:>:<:>:<:>:<:>:<:>:<:>:<:>:<:>:<:><:>:<:>:<:>:<:>:<:>:<:>:<:>:<:>:<:>\n"
   ]
  },
  {
   "cell_type": "markdown",
   "metadata": {},
   "source": [
    "# Which features were given most weights by each model ?"
   ]
  },
  {
   "cell_type": "code",
   "execution_count": null,
   "metadata": {
    "collapsed": true
   },
   "outputs": [],
   "source": []
  }
 ],
 "metadata": {
  "kernelspec": {
   "display_name": "Python 3",
   "language": "python",
   "name": "python3"
  },
  "language_info": {
   "codemirror_mode": {
    "name": "ipython",
    "version": 3
   },
   "file_extension": ".py",
   "mimetype": "text/x-python",
   "name": "python",
   "nbconvert_exporter": "python",
   "pygments_lexer": "ipython3",
   "version": "3.6.0"
  }
 },
 "nbformat": 4,
 "nbformat_minor": 2
}
