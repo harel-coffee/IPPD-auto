{
 "cells": [
  {
   "cell_type": "markdown",
   "metadata": {},
   "source": [
    "This notebook will create 1 dataframe from all four modules\n",
    "Shuffle and Randomly partition that one dataframe \n",
    "\n",
    "80%train + Cross validation: This data set is used to compare the performances of the prediction algorithms that were created based on the training set. We choose the algorithm that has the best performance.\n",
    "\n",
    "##############\n",
    "20%test: Once we have chosen our preferred prediction algorithm but we don't know yet how it's going to perform on \n",
    "completely new real-world data. So, we apply our chosen prediction algorithm on our test set in order to see how \n",
    "it's going to perform so we can have an idea about our algorithm's performance on new data.\n",
    "##############"
   ]
  },
  {
   "cell_type": "code",
   "execution_count": 1,
   "metadata": {
    "collapsed": false
   },
   "outputs": [],
   "source": [
    "def generateDF(featuresFile, profiledFile):\n",
    "    #reads featurefiles and projects 3 columns (ppn, sizeGB, Ytime)\n",
    "    #reads profiledFile (the table from profiling) and reads all 55 columns\n",
    "    #generates one dataframe with 58 columns and n rows (=size of profiled data from csv)\n",
    "    import pandas as pd\n",
    "    from IPython.display import display\n",
    "\n",
    "    header='ft1 ft2 ft3 ft4 ft5 ft6 ft7 ft8 ft9 ft10 ft11 ft12 ft13 ft14 ft15 ft16 ft17 \\\n",
    "    ft18 ft24 ft25 ft19 ft39 ft20 ft33 ft21 ft35 ft22 ft23 ft34 ft36 ft37 ft38 ft40 ft41 \\\n",
    "    ft42 ft43 ft44 ft45 ft46 ft48 ft47 ft49 ft51 ft50 ft52 ft53 ft54 ft55 ft26 ft27 ft28 ft29 ft30 ft31 ft32'\n",
    "    \n",
    "    def value(item):\n",
    "        return item[item.find('=')+1:]\n",
    "    \n",
    "    print(\"Reading features from %s\" % featuresFile)\n",
    "    df_features = pd.read_table(featuresFile, header=None, delimiter=',',\n",
    "                       converters={i:value for i in range(55)},\n",
    "                       names=header.split())\n",
    "    df_features = df_features.astype(float)\n",
    "    #print(df_features.head(2))\n",
    "    \n",
    "    ################################\n",
    "    #read profiledFile\n",
    "    df_profiled = pd.read_csv(profiledFile)\n",
    "    if 'Unnamed: 0' in df_profiled.columns:\n",
    "        del df_profiled['Unnamed: 0']\n",
    "    df_profiled = df_profiled.astype(float)\n",
    "    rows = df_profiled.shape[0]\n",
    "    \n",
    "    #project columns of use\n",
    "    df_profiled = df_profiled[['ppn','sizeGB','Y_time']]\n",
    "    print(\"Reading profiled file %s\\t: %s\" % (profiledFile,str(df_profiled.shape)))\n",
    "    \n",
    "    ################################\n",
    "    # create dataframe from featuresFile static program features with same #ROWs\n",
    "    frames = [df_features for i in range(rows)]\n",
    "    program_ft = pd.concat(frames)\n",
    "    program_ft.reset_index(inplace=True)\n",
    "    del program_ft['index']\n",
    "    print(\"Shape of program static features\\t\\t\\t\\t\\t: %s \" % str(program_ft.shape))\n",
    "    \n",
    "    ################################\n",
    "    # concatenate static features (55) with profiled data (3)\n",
    "    ft_plus_profiled = pd.concat([df_profiled, program_ft], axis=1, join_axes=[df_profiled.index])\n",
    "    ft_plus_profiled['y_time']=ft_plus_profiled['Y_time'] # so that y_time is last column\n",
    "    del ft_plus_profiled['Y_time']\n",
    "    print(\"Returning concatenated data frame (ft + profiled data)\\t\\t\\t: %s\" % str(ft_plus_profiled.shape))\n",
    "    #display(ft_plus_profiled.tail(5))    \n",
    "    \n",
    "    return ft_plus_profiled"
   ]
  },
  {
   "cell_type": "code",
   "execution_count": 2,
   "metadata": {
    "collapsed": true
   },
   "outputs": [],
   "source": [
    "# stack two dataframes on top of each other\n",
    "def stackDFs(df1, df2):\n",
    "    import copy\n",
    "    import pandas as pd\n",
    "    \n",
    "    frames = [copy.deepcopy(df1), copy.deepcopy(df2)]\n",
    "    both = pd.concat(frames)\n",
    "    both.reset_index(inplace=True)\n",
    "    del both['index']\n",
    "    return both"
   ]
  },
  {
   "cell_type": "markdown",
   "metadata": {},
   "source": [
    "## A=cdhitdup, B=frhit, C=velvetG, D=velvetH"
   ]
  },
  {
   "cell_type": "code",
   "execution_count": 3,
   "metadata": {
    "collapsed": true
   },
   "outputs": [],
   "source": [
    "#\n",
    "############################################################################################\n",
    "############################################################################################\n",
    "################################## cdhitdup ################################################\n",
    "############################################################################################\n",
    "############################################################################################\n",
    "#"
   ]
  },
  {
   "cell_type": "code",
   "execution_count": 4,
   "metadata": {
    "collapsed": false
   },
   "outputs": [
    {
     "name": "stdout",
     "output_type": "stream",
     "text": [
      "Reading features from ./features/cdhitdup_singlecmd_features.txt\n",
      "Reading profiled file ./profiledcsvfiles/cdhitdup_ppn_sizeGB_Ytime.csv\t: (32, 3)\n",
      "Shape of program static features\t\t\t\t\t: (32, 55) \n",
      "Returning concatenated data frame (ft + profiled data)\t\t\t: (32, 58)\n"
     ]
    },
    {
     "data": {
      "text/plain": [
       "(32, 58)"
      ]
     },
     "execution_count": 4,
     "metadata": {},
     "output_type": "execute_result"
    }
   ],
   "source": [
    "df_cdhitdup = generateDF('./features/cdhitdup_singlecmd_features.txt','./profiledcsvfiles/cdhitdup_ppn_sizeGB_Ytime.csv')\n",
    "df_cdhitdup.shape"
   ]
  },
  {
   "cell_type": "code",
   "execution_count": 7,
   "metadata": {
    "collapsed": false
   },
   "outputs": [
    {
     "data": {
      "text/html": [
       "<div>\n",
       "<table border=\"1\" class=\"dataframe\">\n",
       "  <thead>\n",
       "    <tr style=\"text-align: right;\">\n",
       "      <th></th>\n",
       "      <th>ppn</th>\n",
       "      <th>sizeGB</th>\n",
       "      <th>ft1</th>\n",
       "      <th>ft2</th>\n",
       "      <th>ft3</th>\n",
       "      <th>ft4</th>\n",
       "      <th>ft5</th>\n",
       "      <th>ft6</th>\n",
       "      <th>ft7</th>\n",
       "      <th>ft8</th>\n",
       "      <th>...</th>\n",
       "      <th>ft55</th>\n",
       "      <th>ft26</th>\n",
       "      <th>ft27</th>\n",
       "      <th>ft28</th>\n",
       "      <th>ft29</th>\n",
       "      <th>ft30</th>\n",
       "      <th>ft31</th>\n",
       "      <th>ft32</th>\n",
       "      <th>y_time</th>\n",
       "      <th>label</th>\n",
       "    </tr>\n",
       "  </thead>\n",
       "  <tbody>\n",
       "    <tr>\n",
       "      <th>0</th>\n",
       "      <td>11.0</td>\n",
       "      <td>1.570312</td>\n",
       "      <td>2984.0</td>\n",
       "      <td>1149.0</td>\n",
       "      <td>1350.0</td>\n",
       "      <td>1.0</td>\n",
       "      <td>1794.0</td>\n",
       "      <td>748.0</td>\n",
       "      <td>140.0</td>\n",
       "      <td>865.0</td>\n",
       "      <td>...</td>\n",
       "      <td>3.0</td>\n",
       "      <td>83.41</td>\n",
       "      <td>197.65</td>\n",
       "      <td>669.0</td>\n",
       "      <td>230.0</td>\n",
       "      <td>1783.0</td>\n",
       "      <td>26.0</td>\n",
       "      <td>873.0</td>\n",
       "      <td>45.82</td>\n",
       "      <td>A</td>\n",
       "    </tr>\n",
       "    <tr>\n",
       "      <th>1</th>\n",
       "      <td>11.0</td>\n",
       "      <td>2.400000</td>\n",
       "      <td>2984.0</td>\n",
       "      <td>1149.0</td>\n",
       "      <td>1350.0</td>\n",
       "      <td>1.0</td>\n",
       "      <td>1794.0</td>\n",
       "      <td>748.0</td>\n",
       "      <td>140.0</td>\n",
       "      <td>865.0</td>\n",
       "      <td>...</td>\n",
       "      <td>3.0</td>\n",
       "      <td>83.41</td>\n",
       "      <td>197.65</td>\n",
       "      <td>669.0</td>\n",
       "      <td>230.0</td>\n",
       "      <td>1783.0</td>\n",
       "      <td>26.0</td>\n",
       "      <td>873.0</td>\n",
       "      <td>67.97</td>\n",
       "      <td>A</td>\n",
       "    </tr>\n",
       "  </tbody>\n",
       "</table>\n",
       "<p>2 rows × 59 columns</p>\n",
       "</div>"
      ],
      "text/plain": [
       "    ppn    sizeGB     ft1     ft2     ft3  ft4     ft5    ft6    ft7    ft8  \\\n",
       "0  11.0  1.570312  2984.0  1149.0  1350.0  1.0  1794.0  748.0  140.0  865.0   \n",
       "1  11.0  2.400000  2984.0  1149.0  1350.0  1.0  1794.0  748.0  140.0  865.0   \n",
       "\n",
       "   ...    ft55   ft26    ft27   ft28   ft29    ft30  ft31   ft32  y_time  \\\n",
       "0  ...     3.0  83.41  197.65  669.0  230.0  1783.0  26.0  873.0   45.82   \n",
       "1  ...     3.0  83.41  197.65  669.0  230.0  1783.0  26.0  873.0   67.97   \n",
       "\n",
       "   label  \n",
       "0      A  \n",
       "1      A  \n",
       "\n",
       "[2 rows x 59 columns]"
      ]
     },
     "execution_count": 7,
     "metadata": {},
     "output_type": "execute_result"
    }
   ],
   "source": [
    "df_cdhitdup['label']='A'\n",
    "df_cdhitdup.head(2)"
   ]
  },
  {
   "cell_type": "markdown",
   "metadata": {},
   "source": [
    "## A=cdhitdup, B=frhit, C=velvetG, D=velvetH"
   ]
  },
  {
   "cell_type": "code",
   "execution_count": 10,
   "metadata": {
    "collapsed": false
   },
   "outputs": [],
   "source": [
    "from IPython.display import display"
   ]
  },
  {
   "cell_type": "code",
   "execution_count": 11,
   "metadata": {
    "collapsed": true
   },
   "outputs": [],
   "source": [
    "#\n",
    "############################################################################################\n",
    "############################################################################################\n",
    "##################################### frhit ################################################\n",
    "############################################################################################\n",
    "############################################################################################\n",
    "#"
   ]
  },
  {
   "cell_type": "code",
   "execution_count": 12,
   "metadata": {
    "collapsed": false
   },
   "outputs": [
    {
     "name": "stdout",
     "output_type": "stream",
     "text": [
      "Reading features from ./features/frhit_singlecmd_features.txt\n",
      "Reading profiled file ./profiledcsvfiles/frhit_ppn_sizeGB_Ytime.csv\t: (96, 3)\n",
      "Shape of program static features\t\t\t\t\t: (96, 55) \n",
      "Returning concatenated data frame (ft + profiled data)\t\t\t: (96, 58)\n"
     ]
    }
   ],
   "source": [
    "df_frhit = generateDF('./features/frhit_singlecmd_features.txt', './profiledcsvfiles/frhit_ppn_sizeGB_Ytime.csv')"
   ]
  },
  {
   "cell_type": "code",
   "execution_count": 14,
   "metadata": {
    "collapsed": false
   },
   "outputs": [
    {
     "data": {
      "text/html": [
       "<div>\n",
       "<table border=\"1\" class=\"dataframe\">\n",
       "  <thead>\n",
       "    <tr style=\"text-align: right;\">\n",
       "      <th></th>\n",
       "      <th>ppn</th>\n",
       "      <th>sizeGB</th>\n",
       "      <th>ft1</th>\n",
       "      <th>ft2</th>\n",
       "      <th>ft3</th>\n",
       "      <th>ft4</th>\n",
       "      <th>ft5</th>\n",
       "      <th>ft6</th>\n",
       "      <th>ft7</th>\n",
       "      <th>ft8</th>\n",
       "      <th>...</th>\n",
       "      <th>ft55</th>\n",
       "      <th>ft26</th>\n",
       "      <th>ft27</th>\n",
       "      <th>ft28</th>\n",
       "      <th>ft29</th>\n",
       "      <th>ft30</th>\n",
       "      <th>ft31</th>\n",
       "      <th>ft32</th>\n",
       "      <th>y_time</th>\n",
       "      <th>label</th>\n",
       "    </tr>\n",
       "  </thead>\n",
       "  <tbody>\n",
       "    <tr>\n",
       "      <th>0</th>\n",
       "      <td>11.0</td>\n",
       "      <td>0.001563</td>\n",
       "      <td>2286.0</td>\n",
       "      <td>985.0</td>\n",
       "      <td>973.0</td>\n",
       "      <td>24.0</td>\n",
       "      <td>1436.0</td>\n",
       "      <td>577.0</td>\n",
       "      <td>113.0</td>\n",
       "      <td>778.0</td>\n",
       "      <td>...</td>\n",
       "      <td>5.0</td>\n",
       "      <td>126.11</td>\n",
       "      <td>152.59</td>\n",
       "      <td>223.0</td>\n",
       "      <td>458.0</td>\n",
       "      <td>1445.0</td>\n",
       "      <td>0.0</td>\n",
       "      <td>681.0</td>\n",
       "      <td>1732.64</td>\n",
       "      <td>B</td>\n",
       "    </tr>\n",
       "    <tr>\n",
       "      <th>1</th>\n",
       "      <td>2.0</td>\n",
       "      <td>0.001563</td>\n",
       "      <td>2286.0</td>\n",
       "      <td>985.0</td>\n",
       "      <td>973.0</td>\n",
       "      <td>24.0</td>\n",
       "      <td>1436.0</td>\n",
       "      <td>577.0</td>\n",
       "      <td>113.0</td>\n",
       "      <td>778.0</td>\n",
       "      <td>...</td>\n",
       "      <td>5.0</td>\n",
       "      <td>126.11</td>\n",
       "      <td>152.59</td>\n",
       "      <td>223.0</td>\n",
       "      <td>458.0</td>\n",
       "      <td>1445.0</td>\n",
       "      <td>0.0</td>\n",
       "      <td>681.0</td>\n",
       "      <td>1583.26</td>\n",
       "      <td>B</td>\n",
       "    </tr>\n",
       "  </tbody>\n",
       "</table>\n",
       "<p>2 rows × 59 columns</p>\n",
       "</div>"
      ],
      "text/plain": [
       "    ppn    sizeGB     ft1    ft2    ft3   ft4     ft5    ft6    ft7    ft8  \\\n",
       "0  11.0  0.001563  2286.0  985.0  973.0  24.0  1436.0  577.0  113.0  778.0   \n",
       "1   2.0  0.001563  2286.0  985.0  973.0  24.0  1436.0  577.0  113.0  778.0   \n",
       "\n",
       "   ...    ft55    ft26    ft27   ft28   ft29    ft30  ft31   ft32   y_time  \\\n",
       "0  ...     5.0  126.11  152.59  223.0  458.0  1445.0   0.0  681.0  1732.64   \n",
       "1  ...     5.0  126.11  152.59  223.0  458.0  1445.0   0.0  681.0  1583.26   \n",
       "\n",
       "   label  \n",
       "0      B  \n",
       "1      B  \n",
       "\n",
       "[2 rows x 59 columns]"
      ]
     },
     "execution_count": 14,
     "metadata": {},
     "output_type": "execute_result"
    }
   ],
   "source": [
    "df_frhit['label']='B'\n",
    "df_frhit.head(2)"
   ]
  },
  {
   "cell_type": "code",
   "execution_count": 8,
   "metadata": {
    "collapsed": true
   },
   "outputs": [],
   "source": [
    "#\n",
    "############################################################################################\n",
    "############################################################################################\n",
    "##################################### velvetH ##############################################\n",
    "############################################################################################\n",
    "############################################################################################\n",
    "#"
   ]
  },
  {
   "cell_type": "markdown",
   "metadata": {},
   "source": [
    "## A=cdhitdup, B=frhit, C=velvetG, D=velvetH"
   ]
  },
  {
   "cell_type": "code",
   "execution_count": 15,
   "metadata": {
    "collapsed": false
   },
   "outputs": [
    {
     "name": "stdout",
     "output_type": "stream",
     "text": [
      "Reading features from ./features/velveth_singlecmd_features.txt\n",
      "Reading profiled file ./profiledcsvfiles/velvetH_ppn_sizeGB_Ytime.csv\t: (97, 3)\n",
      "Shape of program static features\t\t\t\t\t: (97, 55) \n",
      "Returning concatenated data frame (ft + profiled data)\t\t\t: (97, 58)\n"
     ]
    }
   ],
   "source": [
    "df_hvelvetH = generateDF('./features/velveth_singlecmd_features.txt','./profiledcsvfiles/velvetH_ppn_sizeGB_Ytime.csv')"
   ]
  },
  {
   "cell_type": "code",
   "execution_count": 17,
   "metadata": {
    "collapsed": false
   },
   "outputs": [
    {
     "data": {
      "text/html": [
       "<div>\n",
       "<table border=\"1\" class=\"dataframe\">\n",
       "  <thead>\n",
       "    <tr style=\"text-align: right;\">\n",
       "      <th></th>\n",
       "      <th>ppn</th>\n",
       "      <th>sizeGB</th>\n",
       "      <th>ft1</th>\n",
       "      <th>ft2</th>\n",
       "      <th>ft3</th>\n",
       "      <th>ft4</th>\n",
       "      <th>ft5</th>\n",
       "      <th>ft6</th>\n",
       "      <th>ft7</th>\n",
       "      <th>ft8</th>\n",
       "      <th>...</th>\n",
       "      <th>ft55</th>\n",
       "      <th>ft26</th>\n",
       "      <th>ft27</th>\n",
       "      <th>ft28</th>\n",
       "      <th>ft29</th>\n",
       "      <th>ft30</th>\n",
       "      <th>ft31</th>\n",
       "      <th>ft32</th>\n",
       "      <th>y_time</th>\n",
       "      <th>label</th>\n",
       "    </tr>\n",
       "  </thead>\n",
       "  <tbody>\n",
       "    <tr>\n",
       "      <th>0</th>\n",
       "      <td>11.0</td>\n",
       "      <td>1.568359</td>\n",
       "      <td>2301.0</td>\n",
       "      <td>833.0</td>\n",
       "      <td>979.0</td>\n",
       "      <td>14.0</td>\n",
       "      <td>1428.0</td>\n",
       "      <td>503.0</td>\n",
       "      <td>132.0</td>\n",
       "      <td>631.0</td>\n",
       "      <td>...</td>\n",
       "      <td>22.0</td>\n",
       "      <td>88.28</td>\n",
       "      <td>195.57</td>\n",
       "      <td>224.0</td>\n",
       "      <td>347.0</td>\n",
       "      <td>1492.0</td>\n",
       "      <td>13.0</td>\n",
       "      <td>558.0</td>\n",
       "      <td>464.01</td>\n",
       "      <td>D</td>\n",
       "    </tr>\n",
       "    <tr>\n",
       "      <th>1</th>\n",
       "      <td>11.0</td>\n",
       "      <td>1.568359</td>\n",
       "      <td>2301.0</td>\n",
       "      <td>833.0</td>\n",
       "      <td>979.0</td>\n",
       "      <td>14.0</td>\n",
       "      <td>1428.0</td>\n",
       "      <td>503.0</td>\n",
       "      <td>132.0</td>\n",
       "      <td>631.0</td>\n",
       "      <td>...</td>\n",
       "      <td>22.0</td>\n",
       "      <td>88.28</td>\n",
       "      <td>195.57</td>\n",
       "      <td>224.0</td>\n",
       "      <td>347.0</td>\n",
       "      <td>1492.0</td>\n",
       "      <td>13.0</td>\n",
       "      <td>558.0</td>\n",
       "      <td>503.73</td>\n",
       "      <td>D</td>\n",
       "    </tr>\n",
       "  </tbody>\n",
       "</table>\n",
       "<p>2 rows × 59 columns</p>\n",
       "</div>"
      ],
      "text/plain": [
       "    ppn    sizeGB     ft1    ft2    ft3   ft4     ft5    ft6    ft7    ft8  \\\n",
       "0  11.0  1.568359  2301.0  833.0  979.0  14.0  1428.0  503.0  132.0  631.0   \n",
       "1  11.0  1.568359  2301.0  833.0  979.0  14.0  1428.0  503.0  132.0  631.0   \n",
       "\n",
       "   ...    ft55   ft26    ft27   ft28   ft29    ft30  ft31   ft32  y_time  \\\n",
       "0  ...    22.0  88.28  195.57  224.0  347.0  1492.0  13.0  558.0  464.01   \n",
       "1  ...    22.0  88.28  195.57  224.0  347.0  1492.0  13.0  558.0  503.73   \n",
       "\n",
       "   label  \n",
       "0      D  \n",
       "1      D  \n",
       "\n",
       "[2 rows x 59 columns]"
      ]
     },
     "execution_count": 17,
     "metadata": {},
     "output_type": "execute_result"
    }
   ],
   "source": [
    "df_hvelvetH['label']='D'\n",
    "df_hvelvetH.head(2)"
   ]
  },
  {
   "cell_type": "code",
   "execution_count": 18,
   "metadata": {
    "collapsed": true
   },
   "outputs": [],
   "source": [
    "#\n",
    "############################################################################################\n",
    "############################################################################################\n",
    "##################################### velvetG ##############################################\n",
    "############################################################################################\n",
    "############################################################################################\n",
    "#"
   ]
  },
  {
   "cell_type": "code",
   "execution_count": 19,
   "metadata": {
    "collapsed": false
   },
   "outputs": [
    {
     "name": "stdout",
     "output_type": "stream",
     "text": [
      "Reading features from ./features/velvetg_singlecmd_features.txt\n",
      "Reading profiled file ./profiledcsvfiles/velvetG_ppn_sizeGB_Ytime.csv\t: (97, 3)\n",
      "Shape of program static features\t\t\t\t\t: (97, 55) \n",
      "Returning concatenated data frame (ft + profiled data)\t\t\t: (97, 58)\n"
     ]
    }
   ],
   "source": [
    "df_gvelvetG = generateDF('./features/velvetg_singlecmd_features.txt','./profiledcsvfiles/velvetG_ppn_sizeGB_Ytime.csv')"
   ]
  },
  {
   "cell_type": "markdown",
   "metadata": {},
   "source": [
    "## A=cdhitdup, B=frhit, C=velvetG, D=velvetH"
   ]
  },
  {
   "cell_type": "code",
   "execution_count": 20,
   "metadata": {
    "collapsed": false
   },
   "outputs": [
    {
     "data": {
      "text/html": [
       "<div>\n",
       "<table border=\"1\" class=\"dataframe\">\n",
       "  <thead>\n",
       "    <tr style=\"text-align: right;\">\n",
       "      <th></th>\n",
       "      <th>ppn</th>\n",
       "      <th>sizeGB</th>\n",
       "      <th>ft1</th>\n",
       "      <th>ft2</th>\n",
       "      <th>ft3</th>\n",
       "      <th>ft4</th>\n",
       "      <th>ft5</th>\n",
       "      <th>ft6</th>\n",
       "      <th>ft7</th>\n",
       "      <th>ft8</th>\n",
       "      <th>...</th>\n",
       "      <th>ft55</th>\n",
       "      <th>ft26</th>\n",
       "      <th>ft27</th>\n",
       "      <th>ft28</th>\n",
       "      <th>ft29</th>\n",
       "      <th>ft30</th>\n",
       "      <th>ft31</th>\n",
       "      <th>ft32</th>\n",
       "      <th>y_time</th>\n",
       "      <th>label</th>\n",
       "    </tr>\n",
       "  </thead>\n",
       "  <tbody>\n",
       "    <tr>\n",
       "      <th>0</th>\n",
       "      <td>11.0</td>\n",
       "      <td>2.42</td>\n",
       "      <td>9837.0</td>\n",
       "      <td>4069.0</td>\n",
       "      <td>3972.0</td>\n",
       "      <td>78.0</td>\n",
       "      <td>6043.0</td>\n",
       "      <td>2139.0</td>\n",
       "      <td>633.0</td>\n",
       "      <td>3149.0</td>\n",
       "      <td>...</td>\n",
       "      <td>298.0</td>\n",
       "      <td>349.07</td>\n",
       "      <td>777.61</td>\n",
       "      <td>1330.0</td>\n",
       "      <td>1353.0</td>\n",
       "      <td>6132.0</td>\n",
       "      <td>67.0</td>\n",
       "      <td>2616.0</td>\n",
       "      <td>640.49</td>\n",
       "      <td>C</td>\n",
       "    </tr>\n",
       "    <tr>\n",
       "      <th>1</th>\n",
       "      <td>11.0</td>\n",
       "      <td>2.42</td>\n",
       "      <td>9837.0</td>\n",
       "      <td>4069.0</td>\n",
       "      <td>3972.0</td>\n",
       "      <td>78.0</td>\n",
       "      <td>6043.0</td>\n",
       "      <td>2139.0</td>\n",
       "      <td>633.0</td>\n",
       "      <td>3149.0</td>\n",
       "      <td>...</td>\n",
       "      <td>298.0</td>\n",
       "      <td>349.07</td>\n",
       "      <td>777.61</td>\n",
       "      <td>1330.0</td>\n",
       "      <td>1353.0</td>\n",
       "      <td>6132.0</td>\n",
       "      <td>67.0</td>\n",
       "      <td>2616.0</td>\n",
       "      <td>693.29</td>\n",
       "      <td>C</td>\n",
       "    </tr>\n",
       "  </tbody>\n",
       "</table>\n",
       "<p>2 rows × 59 columns</p>\n",
       "</div>"
      ],
      "text/plain": [
       "    ppn  sizeGB     ft1     ft2     ft3   ft4     ft5     ft6    ft7     ft8  \\\n",
       "0  11.0    2.42  9837.0  4069.0  3972.0  78.0  6043.0  2139.0  633.0  3149.0   \n",
       "1  11.0    2.42  9837.0  4069.0  3972.0  78.0  6043.0  2139.0  633.0  3149.0   \n",
       "\n",
       "   ...     ft55    ft26    ft27    ft28    ft29    ft30  ft31    ft32  y_time  \\\n",
       "0  ...    298.0  349.07  777.61  1330.0  1353.0  6132.0  67.0  2616.0  640.49   \n",
       "1  ...    298.0  349.07  777.61  1330.0  1353.0  6132.0  67.0  2616.0  693.29   \n",
       "\n",
       "   label  \n",
       "0      C  \n",
       "1      C  \n",
       "\n",
       "[2 rows x 59 columns]"
      ]
     },
     "execution_count": 20,
     "metadata": {},
     "output_type": "execute_result"
    }
   ],
   "source": [
    "df_gvelvetG['label']='C'\n",
    "df_gvelvetG.head(2)"
   ]
  },
  {
   "cell_type": "markdown",
   "metadata": {},
   "source": [
    "### Stack 4 dfs: df_gvelvetG, df_hvelvetH, df_cdhitdup, df_frhit"
   ]
  },
  {
   "cell_type": "code",
   "execution_count": 21,
   "metadata": {
    "collapsed": true
   },
   "outputs": [],
   "source": [
    "import numpy as np\n",
    "import pandas as pd"
   ]
  },
  {
   "cell_type": "code",
   "execution_count": 22,
   "metadata": {
    "collapsed": false
   },
   "outputs": [],
   "source": [
    "frames = [df_cdhitdup, df_frhit, df_hvelvetH, df_gvelvetG]\n",
    "result = pd.concat(frames)\n",
    "result.reset_index(inplace=True)\n",
    "del result['index']"
   ]
  },
  {
   "cell_type": "code",
   "execution_count": 23,
   "metadata": {
    "collapsed": false
   },
   "outputs": [],
   "source": [
    "features = result.columns[0:57]\n",
    "target = [result.columns[57]]"
   ]
  },
  {
   "cell_type": "code",
   "execution_count": 24,
   "metadata": {
    "collapsed": false
   },
   "outputs": [
    {
     "data": {
      "text/plain": [
       "(57,\n",
       " Index(['ppn', 'sizeGB', 'ft1', 'ft2', 'ft3', 'ft4', 'ft5', 'ft6', 'ft7', 'ft8',\n",
       "        'ft9', 'ft10', 'ft11', 'ft12', 'ft13', 'ft14', 'ft15', 'ft16', 'ft17',\n",
       "        'ft18', 'ft24', 'ft25', 'ft19', 'ft39', 'ft20', 'ft33', 'ft21', 'ft35',\n",
       "        'ft22', 'ft23', 'ft34', 'ft36', 'ft37', 'ft38', 'ft40', 'ft41', 'ft42',\n",
       "        'ft43', 'ft44', 'ft45', 'ft46', 'ft48', 'ft47', 'ft49', 'ft51', 'ft50',\n",
       "        'ft52', 'ft53', 'ft54', 'ft55', 'ft26', 'ft27', 'ft28', 'ft29', 'ft30',\n",
       "        'ft31', 'ft32'],\n",
       "       dtype='object'))"
      ]
     },
     "execution_count": 24,
     "metadata": {},
     "output_type": "execute_result"
    }
   ],
   "source": [
    "len(features), features"
   ]
  },
  {
   "cell_type": "code",
   "execution_count": 25,
   "metadata": {
    "collapsed": false
   },
   "outputs": [
    {
     "data": {
      "text/plain": [
       "(1, ['y_time'])"
      ]
     },
     "execution_count": 25,
     "metadata": {},
     "output_type": "execute_result"
    }
   ],
   "source": [
    "len(target), target"
   ]
  },
  {
   "cell_type": "code",
   "execution_count": 26,
   "metadata": {
    "collapsed": false
   },
   "outputs": [
    {
     "data": {
      "text/plain": [
       "59"
      ]
     },
     "execution_count": 26,
     "metadata": {},
     "output_type": "execute_result"
    }
   ],
   "source": [
    "len(result.columns)"
   ]
  },
  {
   "cell_type": "code",
   "execution_count": 27,
   "metadata": {
    "collapsed": true
   },
   "outputs": [],
   "source": [
    "###@@@@@@@@@@@@@@@@@@@@@@@@"
   ]
  },
  {
   "cell_type": "markdown",
   "metadata": {},
   "source": [
    "## Split into Test and Train"
   ]
  },
  {
   "cell_type": "code",
   "execution_count": 34,
   "metadata": {
    "collapsed": false
   },
   "outputs": [
    {
     "data": {
      "text/plain": [
       "0    D\n",
       "1    B\n",
       "Name: label, dtype: object"
      ]
     },
     "execution_count": 34,
     "metadata": {},
     "output_type": "execute_result"
    }
   ],
   "source": []
  },
  {
   "cell_type": "code",
   "execution_count": 51,
   "metadata": {
    "collapsed": false
   },
   "outputs": [],
   "source": [
    "# AB: Train Set, and |testSet|\n",
    "\n",
    "def twoTrainingSets(trainList, testList):\n",
    "    #copy from concatenated dataframe\n",
    "    ft0 =result.dropna().copy(deep=True)\n",
    "\n",
    "    # shuffle\n",
    "    ####################################\n",
    "    ft1  =ft0.iloc[np.random.permutation(len(ft0))]\n",
    "    ft2  =ft1.reset_index(drop=True)\n",
    "    ft2['label'].head(2)\n",
    "\n",
    "    # pick\n",
    "    ####################################\n",
    "    ft        = ft2.loc[ft2['label'].isin(trainList)]\n",
    "    testSet   = ft2.loc[ft2['label'].isin(testList)]\n",
    "\n",
    "    ft_subset.shape, testSet.shape, ft0.shape\n",
    "\n",
    "    # train and test\n",
    "    ####################################\n",
    "    features = result.columns[0:57]\n",
    "    target = [result.columns[57]]\n",
    "\n",
    "    X_train = ft[features]\n",
    "    y_train = ft[target].values.ravel()\n",
    "\n",
    "    X_test = testSet[features]\n",
    "    y_test = testSet[target].values.ravel()\n",
    "\n",
    "    # Store this partition to all modules use this\n",
    "    # dictionary\n",
    "    ####################################\n",
    "    d = { 'X_train': X_train, 'y_train': y_train, 'X_test':X_test, 'y_test': y_test }\n",
    "\n",
    "    # Write to file\n",
    "    ####################################\n",
    "    import pickle\n",
    "    \n",
    "    filename = trainList[0] + trainList[1] + '.pickle'\n",
    "    with open(filename, 'wb') as handle:\n",
    "        pickle.dump(d, handle, protocol=pickle.HIGHEST_PROTOCOL)"
   ]
  },
  {
   "cell_type": "code",
   "execution_count": 48,
   "metadata": {
    "collapsed": false
   },
   "outputs": [
    {
     "data": {
      "text/plain": [
       "'AB.pickle'"
      ]
     },
     "execution_count": 48,
     "metadata": {},
     "output_type": "execute_result"
    }
   ],
   "source": [
    "trainList = ['AB','BC','CD','AC','AD','BD']\n",
    "testList  = ['CD','AD','AB','BD','BC','AC']"
   ]
  },
  {
   "cell_type": "code",
   "execution_count": null,
   "metadata": {
    "collapsed": true
   },
   "outputs": [],
   "source": []
  }
 ],
 "metadata": {
  "anaconda-cloud": {},
  "kernelspec": {
   "display_name": "Python 3",
   "language": "python",
   "name": "python3"
  },
  "language_info": {
   "codemirror_mode": {
    "name": "ipython",
    "version": 3
   },
   "file_extension": ".py",
   "mimetype": "text/x-python",
   "name": "python",
   "nbconvert_exporter": "python",
   "pygments_lexer": "ipython3",
   "version": "3.6.0"
  }
 },
 "nbformat": 4,
 "nbformat_minor": 0
}
