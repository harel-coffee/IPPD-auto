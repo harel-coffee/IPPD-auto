{
 "cells": [
  {
   "cell_type": "code",
   "execution_count": 23,
   "metadata": {
    "collapsed": false
   },
   "outputs": [],
   "source": [
    "# SVRLinearCVModel('datasetIPPD.pickle')"
   ]
  },
  {
   "cell_type": "markdown",
   "metadata": {},
   "source": [
    "Dataset size read: train 256 and test 65 \n",
    "\n",
    "# Tuning hyper-parameters \n",
    "\n",
    "Starting grdsurch.fit(X_train, y_train)\n",
    "\n",
    "Best parameters set found on development set:\n",
    "\n",
    "{'C': 1.0000000000000001e-05, 'epsilon': 100000.0, 'gamma': 1.0000000000000001e-05, 'kernel': 'linear'}\n",
    "SVR(C=1.0000000000000001e-05, cache_size=1024, coef0=0.0, degree=3,\n",
    "  epsilon=100000.0, gamma=1.0000000000000001e-05, kernel='linear',\n",
    "  max_iter=-1, shrinking=False, tol=1e-07, verbose=False)\n",
    "\n",
    "CPU times: user 927 ms, sys: 164 ms, total: 1.09 s\n",
    "Wall time: 1.87 s\n",
    "\n",
    "{'datasetIPPD.pickle': {'model': SVR(C=1.0000000000000001e-05, cache_size=1024, coef0=0.0, degree=3,\n",
    "    epsilon=100000.0, gamma=1.0000000000000001e-05, kernel='linear',\n",
    "    max_iter=-1, shrinking=False, tol=1e-07, verbose=False),\n",
    "  'test_mean_y_4_comparing': 1532.3461538461536,\n",
    "  'test_rmse_4_reporting': 1059.8422915291899,\n",
    "  'train_rmse_cv_4_picking': 1080.4666523912699}}\n",
    "\n"
   ]
  },
  {
   "cell_type": "markdown",
   "metadata": {},
   "source": [
    "# M6. Epsilon-Support Vector Regression"
   ]
  },
  {
   "cell_type": "code",
   "execution_count": 24,
   "metadata": {
    "collapsed": true
   },
   "outputs": [],
   "source": [
    "from sklearn.metrics import mean_squared_error \n",
    "import numpy as np\n",
    "def rmse_scorer(model, X, y): \n",
    "    y_predict = model.predict(X)\n",
    "    k = np.sqrt(mean_squared_error(y, y_predict))\n",
    "    return k"
   ]
  },
  {
   "cell_type": "code",
   "execution_count": 25,
   "metadata": {
    "collapsed": true
   },
   "outputs": [],
   "source": [
    "def SVRLinearCVModel(filename):\n",
    "    #open file and get the dictionary\n",
    "    import pickle\n",
    "    from sklearn.svm import SVR\n",
    "    from sklearn.metrics import mean_squared_error\n",
    "    from sklearn import preprocessing\n",
    "    from sklearn.model_selection import GridSearchCV\n",
    "\n",
    "    with open(filename, 'rb') as handle:\n",
    "        data = pickle.load(handle)\n",
    "\n",
    "    #extract X_train, y_train, X_test, t_test\n",
    "    X_train = data['X_train']\n",
    "    y_train = data['y_train']\n",
    "    X_test = data['X_test']\n",
    "    y_test = data['y_test']\n",
    "    print(\"Dataset size read: train %d and test %d \\n\" %(len(y_train), len(y_test)))\n",
    "    \n",
    "    #Normalize\n",
    "    X_train = preprocessing.normalize(X_train, norm='l1')\n",
    "    X_test  = preprocessing.normalize(X_test,  norm='l1')\n",
    "    \n",
    "    #‘linear’, ‘poly’, ‘rbf’, ‘sigmoid’, ‘precomputed’ \n",
    "    ##############################################################\n",
    "    tuned_parameters = []\n",
    "    \n",
    "    \n",
    "    tuned_parameters.append({'kernel' : ['linear'], \n",
    "                             'gamma'  : np.logspace(-5, 5, 5),\n",
    "                             'C'      : np.logspace(-5, 5, 5),\n",
    "                             'epsilon': np.logspace(-5, 5, 5) \n",
    "                            })\n",
    "\n",
    "    \n",
    "    ##############################################################\n",
    "    \n",
    "    print(\"# Tuning hyper-parameters \")\n",
    "    print()\n",
    "\n",
    "    grdsurch = GridSearchCV(SVR(kernel='rbf', degree=3, \n",
    "                                gamma='auto', coef0=0.0, tol=1e-7, C=1.0, \n",
    "                                epsilon=0.1, shrinking=False, cache_size=1024, \n",
    "                                verbose=False, max_iter=-1), \n",
    "                       tuned_parameters, \n",
    "                       cv=3, \n",
    "                       n_jobs=-1, \n",
    "                       scoring=rmse_scorer)\n",
    "    print('Starting grdsurch.fit(X_train, y_train)')\n",
    "    \n",
    "    grdsurch.fit(X_train, y_train)\n",
    "\n",
    "    print(\"\\nBest parameters set found on development set:\")\n",
    "    print()\n",
    "    print(grdsurch.best_params_)\n",
    "    \n",
    "    print(grdsurch.best_estimator_)\n",
    "    print()\n",
    "    rmse_cv = grdsurch.best_score_\n",
    "\n",
    "    #Reporting Score on Test Set\n",
    "    model               = grdsurch.best_estimator_\n",
    "    reporting_testscore = rmse_scorer(model, X_test, y_test)\n",
    "    \n",
    "    return {filename: {'train_rmse_cv_4_picking': rmse_cv, \n",
    "                       'test_rmse_4_reporting': reporting_testscore, \n",
    "                       'test_mean_y_4_comparing': y_test.mean(),\n",
    "                       'model': model\n",
    "                      }}"
   ]
  },
  {
   "cell_type": "code",
   "execution_count": null,
   "metadata": {
    "collapsed": false
   },
   "outputs": [],
   "source": []
  },
  {
   "cell_type": "code",
   "execution_count": null,
   "metadata": {
    "collapsed": true
   },
   "outputs": [],
   "source": []
  }
 ],
 "metadata": {
  "anaconda-cloud": {},
  "kernelspec": {
   "display_name": "Python 3",
   "language": "python",
   "name": "python3"
  },
  "language_info": {
   "codemirror_mode": {
    "name": "ipython",
    "version": 3
   },
   "file_extension": ".py",
   "mimetype": "text/x-python",
   "name": "python",
   "nbconvert_exporter": "python",
   "pygments_lexer": "ipython3",
   "version": "3.6.0"
  }
 },
 "nbformat": 4,
 "nbformat_minor": 0
}
