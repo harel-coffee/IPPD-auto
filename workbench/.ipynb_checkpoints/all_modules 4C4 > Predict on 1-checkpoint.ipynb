{
 "cells": [
  {
   "cell_type": "markdown",
   "metadata": {},
   "source": [
    "## Train on all four modules\n",
    "## Predict on 1 module at a time A,B,C,D"
   ]
  },
  {
   "cell_type": "code",
   "execution_count": null,
   "metadata": {
    "collapsed": true
   },
   "outputs": [],
   "source": [
    "# we know what the feature signature for each module is.\n",
    "# grab feature signature for A\n",
    "# extract rows from X_test, y_test that have same signature as A"
   ]
  },
  {
   "cell_type": "code",
   "execution_count": 16,
   "metadata": {
    "collapsed": true
   },
   "outputs": [],
   "source": [
    "def featureReader(featuresFile):\n",
    "    #reads featurefiles and projects 3 columns (ppn, sizeGB, Ytime)\n",
    "    #reads profiledFile (the table from profiling) and reads all 55 columns\n",
    "    #generates one dataframe with 58 columns and n rows (=size of profiled data from csv)\n",
    "    import pandas as pd\n",
    "    from IPython.display import display\n",
    "\n",
    "    header='ft1 ft2 ft3 ft4 ft5 ft6 ft7 ft8 ft9 ft10 ft11 ft12 ft13 ft14 ft15 ft16 ft17 \\\n",
    "    ft18 ft24 ft25 ft19 ft39 ft20 ft33 ft21 ft35 ft22 ft23 ft34 ft36 ft37 ft38 ft40 ft41 \\\n",
    "    ft42 ft43 ft44 ft45 ft46 ft48 ft47 ft49 ft51 ft50 ft52 ft53 ft54 ft55 ft26 ft27 ft28 ft29 ft30 ft31 ft32'\n",
    "    \n",
    "    def value(item):\n",
    "        return item[item.find('=')+1:]\n",
    "    \n",
    "    print(\"Reading features from %s\" % featuresFile)\n",
    "    df_features = pd.read_table(featuresFile, header=None, delimiter=',',\n",
    "                       converters={i:value for i in range(55)},\n",
    "                       names=header.split())\n",
    "    df_features = df_features.astype(float)\n",
    "    return df_features"
   ]
  },
  {
   "cell_type": "code",
   "execution_count": 17,
   "metadata": {
    "collapsed": false
   },
   "outputs": [
    {
     "name": "stdout",
     "output_type": "stream",
     "text": [
      "Reading features from ./features/cdhitdup_singlecmd_features.txt\n"
     ]
    },
    {
     "data": {
      "text/html": [
       "<div>\n",
       "<table border=\"1\" class=\"dataframe\">\n",
       "  <thead>\n",
       "    <tr style=\"text-align: right;\">\n",
       "      <th></th>\n",
       "      <th>ft1</th>\n",
       "      <th>ft2</th>\n",
       "      <th>ft3</th>\n",
       "      <th>ft4</th>\n",
       "      <th>ft5</th>\n",
       "      <th>ft6</th>\n",
       "      <th>ft7</th>\n",
       "      <th>ft8</th>\n",
       "      <th>ft9</th>\n",
       "      <th>ft10</th>\n",
       "      <th>...</th>\n",
       "      <th>ft53</th>\n",
       "      <th>ft54</th>\n",
       "      <th>ft55</th>\n",
       "      <th>ft26</th>\n",
       "      <th>ft27</th>\n",
       "      <th>ft28</th>\n",
       "      <th>ft29</th>\n",
       "      <th>ft30</th>\n",
       "      <th>ft31</th>\n",
       "      <th>ft32</th>\n",
       "    </tr>\n",
       "  </thead>\n",
       "  <tbody>\n",
       "    <tr>\n",
       "      <th>0</th>\n",
       "      <td>2984.0</td>\n",
       "      <td>1149.0</td>\n",
       "      <td>1350.0</td>\n",
       "      <td>1.0</td>\n",
       "      <td>1794.0</td>\n",
       "      <td>748.0</td>\n",
       "      <td>140.0</td>\n",
       "      <td>865.0</td>\n",
       "      <td>833.0</td>\n",
       "      <td>244.0</td>\n",
       "      <td>...</td>\n",
       "      <td>74.0</td>\n",
       "      <td>2087.0</td>\n",
       "      <td>3.0</td>\n",
       "      <td>83.41</td>\n",
       "      <td>197.65</td>\n",
       "      <td>669.0</td>\n",
       "      <td>230.0</td>\n",
       "      <td>1783.0</td>\n",
       "      <td>26.0</td>\n",
       "      <td>873.0</td>\n",
       "    </tr>\n",
       "  </tbody>\n",
       "</table>\n",
       "<p>1 rows × 55 columns</p>\n",
       "</div>"
      ],
      "text/plain": [
       "      ft1     ft2     ft3  ft4     ft5    ft6    ft7    ft8    ft9   ft10  \\\n",
       "0  2984.0  1149.0  1350.0  1.0  1794.0  748.0  140.0  865.0  833.0  244.0   \n",
       "\n",
       "   ...    ft53    ft54  ft55   ft26    ft27   ft28   ft29    ft30  ft31   ft32  \n",
       "0  ...    74.0  2087.0   3.0  83.41  197.65  669.0  230.0  1783.0  26.0  873.0  \n",
       "\n",
       "[1 rows x 55 columns]"
      ]
     },
     "execution_count": 17,
     "metadata": {},
     "output_type": "execute_result"
    }
   ],
   "source": []
  },
  {
   "cell_type": "code",
   "execution_count": 103,
   "metadata": {
    "collapsed": false
   },
   "outputs": [],
   "source": [
    "import pickle\n",
    "with open('datasetIPPD.pickle', 'rb') as handle:\n",
    "    data = pickle.load(handle)\n",
    "\n",
    "#extract X_test, Y_test\n",
    "X_test = data['X_test']\n",
    "y_test = data['y_test']"
   ]
  },
  {
   "cell_type": "code",
   "execution_count": 104,
   "metadata": {
    "collapsed": false
   },
   "outputs": [
    {
     "name": "stdout",
     "output_type": "stream",
     "text": [
      "Reading features from ./features/cdhitdup_singlecmd_features.txt\n"
     ]
    },
    {
     "data": {
      "text/html": [
       "<div>\n",
       "<table border=\"1\" class=\"dataframe\">\n",
       "  <thead>\n",
       "    <tr style=\"text-align: right;\">\n",
       "      <th></th>\n",
       "      <th>ft1</th>\n",
       "      <th>ft2</th>\n",
       "      <th>ft3</th>\n",
       "      <th>ft4</th>\n",
       "      <th>ft5</th>\n",
       "      <th>ft6</th>\n",
       "      <th>ft7</th>\n",
       "      <th>ft8</th>\n",
       "      <th>ft9</th>\n",
       "      <th>ft10</th>\n",
       "      <th>...</th>\n",
       "      <th>ft53</th>\n",
       "      <th>ft54</th>\n",
       "      <th>ft55</th>\n",
       "      <th>ft26</th>\n",
       "      <th>ft27</th>\n",
       "      <th>ft28</th>\n",
       "      <th>ft29</th>\n",
       "      <th>ft30</th>\n",
       "      <th>ft31</th>\n",
       "      <th>ft32</th>\n",
       "    </tr>\n",
       "  </thead>\n",
       "  <tbody>\n",
       "    <tr>\n",
       "      <th>0</th>\n",
       "      <td>2984.0</td>\n",
       "      <td>1149.0</td>\n",
       "      <td>1350.0</td>\n",
       "      <td>1.0</td>\n",
       "      <td>1794.0</td>\n",
       "      <td>748.0</td>\n",
       "      <td>140.0</td>\n",
       "      <td>865.0</td>\n",
       "      <td>833.0</td>\n",
       "      <td>244.0</td>\n",
       "      <td>...</td>\n",
       "      <td>74.0</td>\n",
       "      <td>2087.0</td>\n",
       "      <td>3.0</td>\n",
       "      <td>83.41</td>\n",
       "      <td>197.65</td>\n",
       "      <td>669.0</td>\n",
       "      <td>230.0</td>\n",
       "      <td>1783.0</td>\n",
       "      <td>26.0</td>\n",
       "      <td>873.0</td>\n",
       "    </tr>\n",
       "  </tbody>\n",
       "</table>\n",
       "<p>1 rows × 55 columns</p>\n",
       "</div>"
      ],
      "text/plain": [
       "      ft1     ft2     ft3  ft4     ft5    ft6    ft7    ft8    ft9   ft10  \\\n",
       "0  2984.0  1149.0  1350.0  1.0  1794.0  748.0  140.0  865.0  833.0  244.0   \n",
       "\n",
       "   ...    ft53    ft54  ft55   ft26    ft27   ft28   ft29    ft30  ft31   ft32  \n",
       "0  ...    74.0  2087.0   3.0  83.41  197.65  669.0  230.0  1783.0  26.0  873.0  \n",
       "\n",
       "[1 rows x 55 columns]"
      ]
     },
     "metadata": {},
     "output_type": "display_data"
    }
   ],
   "source": [
    "# Signature for A\n",
    "from IPython.display import display\n",
    "signatureA = featureReader('./features/cdhitdup_singlecmd_features.txt')\n",
    "display(signatureA)"
   ]
  },
  {
   "cell_type": "code",
   "execution_count": 105,
   "metadata": {
    "collapsed": false
   },
   "outputs": [
    {
     "name": "stdout",
     "output_type": "stream",
     "text": [
      "Reading features from ./features/frhit_singlecmd_features.txt\n"
     ]
    },
    {
     "data": {
      "text/html": [
       "<div>\n",
       "<table border=\"1\" class=\"dataframe\">\n",
       "  <thead>\n",
       "    <tr style=\"text-align: right;\">\n",
       "      <th></th>\n",
       "      <th>ft1</th>\n",
       "      <th>ft2</th>\n",
       "      <th>ft3</th>\n",
       "      <th>ft4</th>\n",
       "      <th>ft5</th>\n",
       "      <th>ft6</th>\n",
       "      <th>ft7</th>\n",
       "      <th>ft8</th>\n",
       "      <th>ft9</th>\n",
       "      <th>ft10</th>\n",
       "      <th>...</th>\n",
       "      <th>ft53</th>\n",
       "      <th>ft54</th>\n",
       "      <th>ft55</th>\n",
       "      <th>ft26</th>\n",
       "      <th>ft27</th>\n",
       "      <th>ft28</th>\n",
       "      <th>ft29</th>\n",
       "      <th>ft30</th>\n",
       "      <th>ft31</th>\n",
       "      <th>ft32</th>\n",
       "    </tr>\n",
       "  </thead>\n",
       "  <tbody>\n",
       "    <tr>\n",
       "      <th>0</th>\n",
       "      <td>2286.0</td>\n",
       "      <td>985.0</td>\n",
       "      <td>973.0</td>\n",
       "      <td>24.0</td>\n",
       "      <td>1436.0</td>\n",
       "      <td>577.0</td>\n",
       "      <td>113.0</td>\n",
       "      <td>778.0</td>\n",
       "      <td>543.0</td>\n",
       "      <td>166.0</td>\n",
       "      <td>...</td>\n",
       "      <td>104.0</td>\n",
       "      <td>2007.0</td>\n",
       "      <td>5.0</td>\n",
       "      <td>126.11</td>\n",
       "      <td>152.59</td>\n",
       "      <td>223.0</td>\n",
       "      <td>458.0</td>\n",
       "      <td>1445.0</td>\n",
       "      <td>0.0</td>\n",
       "      <td>681.0</td>\n",
       "    </tr>\n",
       "  </tbody>\n",
       "</table>\n",
       "<p>1 rows × 55 columns</p>\n",
       "</div>"
      ],
      "text/plain": [
       "      ft1    ft2    ft3   ft4     ft5    ft6    ft7    ft8    ft9   ft10  \\\n",
       "0  2286.0  985.0  973.0  24.0  1436.0  577.0  113.0  778.0  543.0  166.0   \n",
       "\n",
       "   ...     ft53    ft54  ft55    ft26    ft27   ft28   ft29    ft30  ft31  \\\n",
       "0  ...    104.0  2007.0   5.0  126.11  152.59  223.0  458.0  1445.0   0.0   \n",
       "\n",
       "    ft32  \n",
       "0  681.0  \n",
       "\n",
       "[1 rows x 55 columns]"
      ]
     },
     "metadata": {},
     "output_type": "display_data"
    }
   ],
   "source": [
    "# Signature for B\n",
    "signatureB = featureReader('./features/frhit_singlecmd_features.txt')\n",
    "display(signatureB)"
   ]
  },
  {
   "cell_type": "markdown",
   "metadata": {},
   "source": [
    "## A=cdhitdup, B=frhit, C=velvetG, D=velvetH"
   ]
  },
  {
   "cell_type": "code",
   "execution_count": 106,
   "metadata": {
    "collapsed": false
   },
   "outputs": [
    {
     "name": "stdout",
     "output_type": "stream",
     "text": [
      "Reading features from ./features/velvetg_singlecmd_features.txt\n"
     ]
    },
    {
     "data": {
      "text/html": [
       "<div>\n",
       "<table border=\"1\" class=\"dataframe\">\n",
       "  <thead>\n",
       "    <tr style=\"text-align: right;\">\n",
       "      <th></th>\n",
       "      <th>ft1</th>\n",
       "      <th>ft2</th>\n",
       "      <th>ft3</th>\n",
       "      <th>ft4</th>\n",
       "      <th>ft5</th>\n",
       "      <th>ft6</th>\n",
       "      <th>ft7</th>\n",
       "      <th>ft8</th>\n",
       "      <th>ft9</th>\n",
       "      <th>ft10</th>\n",
       "      <th>...</th>\n",
       "      <th>ft53</th>\n",
       "      <th>ft54</th>\n",
       "      <th>ft55</th>\n",
       "      <th>ft26</th>\n",
       "      <th>ft27</th>\n",
       "      <th>ft28</th>\n",
       "      <th>ft29</th>\n",
       "      <th>ft30</th>\n",
       "      <th>ft31</th>\n",
       "      <th>ft32</th>\n",
       "    </tr>\n",
       "  </thead>\n",
       "  <tbody>\n",
       "    <tr>\n",
       "      <th>0</th>\n",
       "      <td>9837.0</td>\n",
       "      <td>4069.0</td>\n",
       "      <td>3972.0</td>\n",
       "      <td>78.0</td>\n",
       "      <td>6043.0</td>\n",
       "      <td>2139.0</td>\n",
       "      <td>633.0</td>\n",
       "      <td>3149.0</td>\n",
       "      <td>2417.0</td>\n",
       "      <td>637.0</td>\n",
       "      <td>...</td>\n",
       "      <td>429.0</td>\n",
       "      <td>6062.0</td>\n",
       "      <td>298.0</td>\n",
       "      <td>349.07</td>\n",
       "      <td>777.61</td>\n",
       "      <td>1330.0</td>\n",
       "      <td>1353.0</td>\n",
       "      <td>6132.0</td>\n",
       "      <td>67.0</td>\n",
       "      <td>2616.0</td>\n",
       "    </tr>\n",
       "  </tbody>\n",
       "</table>\n",
       "<p>1 rows × 55 columns</p>\n",
       "</div>"
      ],
      "text/plain": [
       "      ft1     ft2     ft3   ft4     ft5     ft6    ft7     ft8     ft9   ft10  \\\n",
       "0  9837.0  4069.0  3972.0  78.0  6043.0  2139.0  633.0  3149.0  2417.0  637.0   \n",
       "\n",
       "    ...     ft53    ft54   ft55    ft26    ft27    ft28    ft29    ft30  ft31  \\\n",
       "0   ...    429.0  6062.0  298.0  349.07  777.61  1330.0  1353.0  6132.0  67.0   \n",
       "\n",
       "     ft32  \n",
       "0  2616.0  \n",
       "\n",
       "[1 rows x 55 columns]"
      ]
     },
     "metadata": {},
     "output_type": "display_data"
    }
   ],
   "source": [
    "# Signature for C\n",
    "signatureC = featureReader('./features/velvetg_singlecmd_features.txt')\n",
    "display(signatureC)"
   ]
  },
  {
   "cell_type": "code",
   "execution_count": 107,
   "metadata": {
    "collapsed": false
   },
   "outputs": [
    {
     "name": "stdout",
     "output_type": "stream",
     "text": [
      "Reading features from ./features/velveth_singlecmd_features.txt\n"
     ]
    },
    {
     "data": {
      "text/html": [
       "<div>\n",
       "<table border=\"1\" class=\"dataframe\">\n",
       "  <thead>\n",
       "    <tr style=\"text-align: right;\">\n",
       "      <th></th>\n",
       "      <th>ft1</th>\n",
       "      <th>ft2</th>\n",
       "      <th>ft3</th>\n",
       "      <th>ft4</th>\n",
       "      <th>ft5</th>\n",
       "      <th>ft6</th>\n",
       "      <th>ft7</th>\n",
       "      <th>ft8</th>\n",
       "      <th>ft9</th>\n",
       "      <th>ft10</th>\n",
       "      <th>...</th>\n",
       "      <th>ft53</th>\n",
       "      <th>ft54</th>\n",
       "      <th>ft55</th>\n",
       "      <th>ft26</th>\n",
       "      <th>ft27</th>\n",
       "      <th>ft28</th>\n",
       "      <th>ft29</th>\n",
       "      <th>ft30</th>\n",
       "      <th>ft31</th>\n",
       "      <th>ft32</th>\n",
       "    </tr>\n",
       "  </thead>\n",
       "  <tbody>\n",
       "    <tr>\n",
       "      <th>0</th>\n",
       "      <td>2301.0</td>\n",
       "      <td>833.0</td>\n",
       "      <td>979.0</td>\n",
       "      <td>14.0</td>\n",
       "      <td>1428.0</td>\n",
       "      <td>503.0</td>\n",
       "      <td>132.0</td>\n",
       "      <td>631.0</td>\n",
       "      <td>628.0</td>\n",
       "      <td>160.0</td>\n",
       "      <td>...</td>\n",
       "      <td>89.0</td>\n",
       "      <td>1295.0</td>\n",
       "      <td>22.0</td>\n",
       "      <td>88.28</td>\n",
       "      <td>195.57</td>\n",
       "      <td>224.0</td>\n",
       "      <td>347.0</td>\n",
       "      <td>1492.0</td>\n",
       "      <td>13.0</td>\n",
       "      <td>558.0</td>\n",
       "    </tr>\n",
       "  </tbody>\n",
       "</table>\n",
       "<p>1 rows × 55 columns</p>\n",
       "</div>"
      ],
      "text/plain": [
       "      ft1    ft2    ft3   ft4     ft5    ft6    ft7    ft8    ft9   ft10  \\\n",
       "0  2301.0  833.0  979.0  14.0  1428.0  503.0  132.0  631.0  628.0  160.0   \n",
       "\n",
       "   ...    ft53    ft54  ft55   ft26    ft27   ft28   ft29    ft30  ft31   ft32  \n",
       "0  ...    89.0  1295.0  22.0  88.28  195.57  224.0  347.0  1492.0  13.0  558.0  \n",
       "\n",
       "[1 rows x 55 columns]"
      ]
     },
     "metadata": {},
     "output_type": "display_data"
    }
   ],
   "source": [
    "# Signature for D\n",
    "signatureD = featureReader('./features/velveth_singlecmd_features.txt')\n",
    "display(signatureD)"
   ]
  },
  {
   "cell_type": "markdown",
   "metadata": {},
   "source": [
    "## Extractor for extracting features"
   ]
  },
  {
   "cell_type": "code",
   "execution_count": 145,
   "metadata": {
    "collapsed": true
   },
   "outputs": [],
   "source": [
    "cols = ['ft1', 'ft2', 'ft3', 'ft4', 'ft5', 'ft6', 'ft7', 'ft8', 'ft9', 'ft10',\n",
    "       'ft11', 'ft12', 'ft13', 'ft14', 'ft15', 'ft16', 'ft17', 'ft18', 'ft24',\n",
    "       'ft25', 'ft19', 'ft39', 'ft20', 'ft33', 'ft21', 'ft35', 'ft22', 'ft23',\n",
    "       'ft34', 'ft36', 'ft37', 'ft38', 'ft40', 'ft41', 'ft42', 'ft43', 'ft44',\n",
    "       'ft45', 'ft46', 'ft48', 'ft47', 'ft49', 'ft51', 'ft50', 'ft52', 'ft53',\n",
    "       'ft54', 'ft55', 'ft26', 'ft27', 'ft28', 'ft29', 'ft30', 'ft31', 'ft32']"
   ]
  },
  {
   "cell_type": "code",
   "execution_count": 302,
   "metadata": {
    "collapsed": false
   },
   "outputs": [
    {
     "data": {
      "text/plain": [
       "65"
      ]
     },
     "execution_count": 302,
     "metadata": {},
     "output_type": "execute_result"
    }
   ],
   "source": [
    "len(X_test)"
   ]
  },
  {
   "cell_type": "code",
   "execution_count": 273,
   "metadata": {
    "collapsed": false
   },
   "outputs": [],
   "source": [
    "def extractor(signature, X_test, y_test):\n",
    "    import pandas as pd\n",
    "    import numpy  as np\n",
    "    import copy\n",
    "    \n",
    "    count = 0\n",
    "    xt = pd.DataFrame(columns = X_test.columns)\n",
    "    yt = []\n",
    "    \n",
    "    for i in range(len(X_test)):\n",
    "        if(all(X_test[cols].iloc[[i]].values[0] == signature.iloc[[0]].values[0])):\n",
    "            #print(X_test[cols].iloc[[i]].values[0])\n",
    "            #print(signature.iloc[[0]].values[0])\n",
    "            count = count + 1\n",
    "            # make deep copies\n",
    "            xt = xt.append(copy.deepcopy(X_test.iloc[[i]]), ignore_index=True)\n",
    "            yt.append(copy.deepcopy(y_test[i]))\n",
    "            \n",
    "    print(\"Total matches found : %d \" % count)\n",
    "    \n",
    "    return xt,np.asarray(yt)"
   ]
  },
  {
   "cell_type": "code",
   "execution_count": 274,
   "metadata": {
    "collapsed": false
   },
   "outputs": [
    {
     "name": "stdout",
     "output_type": "stream",
     "text": [
      "Total matches found : 5 \n"
     ]
    },
    {
     "data": {
      "text/plain": [
       "((5, 57), 5)"
      ]
     },
     "execution_count": 274,
     "metadata": {},
     "output_type": "execute_result"
    }
   ],
   "source": [
    "X_A, y_A = extractor(signatureA, X_test, y_test)\n",
    "X_A.shape, len(y_A)"
   ]
  },
  {
   "cell_type": "code",
   "execution_count": 275,
   "metadata": {
    "collapsed": false,
    "scrolled": true
   },
   "outputs": [
    {
     "name": "stdout",
     "output_type": "stream",
     "text": [
      "Total matches found : 13 \n"
     ]
    },
    {
     "data": {
      "text/plain": [
       "((13, 57), 13)"
      ]
     },
     "execution_count": 275,
     "metadata": {},
     "output_type": "execute_result"
    }
   ],
   "source": [
    "X_B, y_B = extractor(signatureB, X_test, y_test)\n",
    "X_B.shape, len(y_B)"
   ]
  },
  {
   "cell_type": "code",
   "execution_count": 276,
   "metadata": {
    "collapsed": false,
    "scrolled": true
   },
   "outputs": [
    {
     "name": "stdout",
     "output_type": "stream",
     "text": [
      "Total matches found : 23 \n"
     ]
    },
    {
     "data": {
      "text/plain": [
       "((23, 57), 23)"
      ]
     },
     "execution_count": 276,
     "metadata": {},
     "output_type": "execute_result"
    }
   ],
   "source": [
    "X_C, y_C = extractor(signatureC, X_test, y_test)\n",
    "X_C.shape, len(y_C)"
   ]
  },
  {
   "cell_type": "code",
   "execution_count": 277,
   "metadata": {
    "collapsed": false
   },
   "outputs": [
    {
     "name": "stdout",
     "output_type": "stream",
     "text": [
      "Total matches found : 24 \n"
     ]
    },
    {
     "data": {
      "text/plain": [
       "((24, 57), 24)"
      ]
     },
     "execution_count": 277,
     "metadata": {},
     "output_type": "execute_result"
    }
   ],
   "source": [
    "X_D, y_D = extractor(signatureD, X_test, y_test)\n",
    "X_D.shape, len(y_D)"
   ]
  },
  {
   "cell_type": "code",
   "execution_count": 278,
   "metadata": {
    "collapsed": false
   },
   "outputs": [
    {
     "data": {
      "text/plain": [
       "65"
      ]
     },
     "execution_count": 278,
     "metadata": {},
     "output_type": "execute_result"
    }
   ],
   "source": [
    "len(X_test)"
   ]
  },
  {
   "cell_type": "code",
   "execution_count": 279,
   "metadata": {
    "collapsed": true
   },
   "outputs": [],
   "source": [
    "# import all the filenames\n",
    "from allfunctions import *"
   ]
  },
  {
   "cell_type": "code",
   "execution_count": 280,
   "metadata": {
    "collapsed": false
   },
   "outputs": [
    {
     "name": "stdout",
     "output_type": "stream",
     "text": [
      "The autoreload extension is already loaded. To reload it, use:\n",
      "  %reload_ext autoreload\n"
     ]
    }
   ],
   "source": [
    "%load_ext autoreload\n",
    "%autoreload 2"
   ]
  },
  {
   "cell_type": "markdown",
   "metadata": {},
   "source": [
    "<:>:<:>:<:>:<:>:<:>:<:>:<:>:<:>:<:>:<:>:<:>:<:>:<:>:<:>:<:><:>:<:>:<:>:<:>:<:>:<:>:<:>:<:>:<:>:<:>:<:>:<:>:<:>:<:>:<:>\n",
    "<:>:<:>:<:>:<:>:<:>:<:>:<:>:<:>:<:>:<:>:<:>:<:>:<:>:<:>:<:><:>:<:>:<:>:<:>:<:>:<:>:<:>:<:>:<:>:<:>:<:>:<:>:<:>:<:>:<:>\n",
    "<:>:<:>:<:>:<:>:<:>:<:>:<:>:<:>:<:>:<:>:<:>:<:>:<:>:<:>:<:><:>:<:>:<:>:<:>:<:>:<:>:<:>:<:>:<:>:<:>:<:>:<:>:<:>:<:>:<:>\n",
    "<:>:<:>:<:>:<:>:<:>:<:>:<:>:<:>:<:>:<:>:<:>:<:>:<:>:<:>:<:><:>:<:>:<:>:<:>:<:>:<:>:<:>:<:>:<:>:<:>:<:>:<:>:<:>:<:>:<:>\n"
   ]
  },
  {
   "cell_type": "code",
   "execution_count": 281,
   "metadata": {
    "collapsed": true
   },
   "outputs": [],
   "source": [
    "# Read (frome file) the tuned model for each of 10 Model types\n",
    "# Apply each of the 10 *best* models to 4 pairs(X_A, y_A) ...\n",
    "# Generate 4 graphs with 10 test RMSEs on them (train RMSE, test RMSE, mean test set value)"
   ]
  },
  {
   "cell_type": "code",
   "execution_count": 282,
   "metadata": {
    "collapsed": true
   },
   "outputs": [],
   "source": [
    "from sklearn.metrics import mean_squared_error \n",
    "import numpy as np\n",
    "\n",
    "def rmse_scorer(model, X, y): \n",
    "    y_predict = model.predict(X)\n",
    "    k = np.sqrt(mean_squared_error(y, y_predict))\n",
    "    return k"
   ]
  },
  {
   "cell_type": "code",
   "execution_count": 283,
   "metadata": {
    "collapsed": true
   },
   "outputs": [],
   "source": [
    "# Only for testing : reload the test dataset\n",
    "\n",
    "with open('datasetIPPD.pickle', 'rb') as handle:\n",
    "        data = pickle.load(handle)\n",
    "\n",
    "X_test = data['X_test']\n",
    "y_test = data['y_test']"
   ]
  },
  {
   "cell_type": "markdown",
   "metadata": {},
   "source": [
    "# 1 LassoCVModel"
   ]
  },
  {
   "cell_type": "code",
   "execution_count": 284,
   "metadata": {
    "collapsed": false
   },
   "outputs": [],
   "source": [
    "modelFile = '4C4_lasso_tuned.pickle'\n",
    "with open(modelFile, 'rb') as handle:\n",
    "    model = pickle.load(handle)"
   ]
  },
  {
   "cell_type": "code",
   "execution_count": 285,
   "metadata": {
    "collapsed": false
   },
   "outputs": [
    {
     "name": "stdout",
     "output_type": "stream",
     "text": [
      "A   || model : Lasso(alph\n",
      "A   || test_rmse_reporting: 1500.708453\n",
      "A   || test_mean_y_comparing: 117.836000\n",
      "\n",
      "B   || model : Lasso(alph\n",
      "B   || test_rmse_reporting: 871.644211\n",
      "B   || test_mean_y_comparing: 2189.093846\n",
      "\n",
      "C   || model : Lasso(alph\n",
      "C   || test_rmse_reporting: 808.751399\n",
      "C   || test_mean_y_comparing: 1703.226087\n",
      "\n",
      "D   || model : Lasso(alph\n",
      "D   || test_rmse_reporting: 770.530605\n",
      "D   || test_mean_y_comparing: 1307.537500\n",
      "\n",
      "Full Test Set   || model : Lasso(alph\n",
      "Full Test Set   || test_rmse_reporting: 880.826425\n",
      "Full Test Set   || test_mean_y_comparing: 1532.346154\n",
      "\n"
     ]
    }
   ],
   "source": [
    "#A\n",
    "which = 'A'\n",
    "X = X_A\n",
    "y = y_A\n",
    "######################################################################\n",
    "reporting_testscore = rmse_scorer(model, X, y)\n",
    "\n",
    "print('%s   || model : %s' % (which,str(model)[:10]))\n",
    "print('%s   || test_rmse_reporting: %f' % (which,reporting_testscore))\n",
    "print('%s   || test_mean_y_comparing: %f' % (which, y.mean()))\n",
    "print()\n",
    "\n",
    "#B\n",
    "which = 'B'\n",
    "X = X_B\n",
    "y = y_B\n",
    "######################################################################\n",
    "reporting_testscore = rmse_scorer(model, X, y)\n",
    "\n",
    "print('%s   || model : %s' % (which,str(model)[:10]))\n",
    "print('%s   || test_rmse_reporting: %f' % (which,reporting_testscore))\n",
    "print('%s   || test_mean_y_comparing: %f' % (which, y.mean()))\n",
    "print()\n",
    "\n",
    "#C\n",
    "which = 'C'\n",
    "X = X_C\n",
    "y = y_C\n",
    "######################################################################\n",
    "reporting_testscore = rmse_scorer(model, X, y)\n",
    "\n",
    "print('%s   || model : %s' % (which,str(model)[:10]))\n",
    "print('%s   || test_rmse_reporting: %f' % (which,reporting_testscore))\n",
    "print('%s   || test_mean_y_comparing: %f' % (which, y.mean()))\n",
    "print()\n",
    "\n",
    "#D\n",
    "which = 'D'\n",
    "X = X_D\n",
    "y = y_D\n",
    "######################################################################\n",
    "reporting_testscore = rmse_scorer(model, X, y)\n",
    "\n",
    "print('%s   || model : %s' % (which,str(model)[:10]))\n",
    "print('%s   || test_rmse_reporting: %f' % (which,reporting_testscore))\n",
    "print('%s   || test_mean_y_comparing: %f' % (which, y.mean()))\n",
    "print()\n",
    "\n",
    "#Full Test Set\n",
    "which = 'Full Test Set'\n",
    "X = X_test\n",
    "y = y_test\n",
    "######################################################################\n",
    "reporting_testscore = rmse_scorer(model, X, y)\n",
    "\n",
    "print('%s   || model : %s' % (which,str(model)[:10]))\n",
    "print('%s   || test_rmse_reporting: %f' % (which,reporting_testscore))\n",
    "print('%s   || test_mean_y_comparing: %f' % (which, y.mean()))\n",
    "print()"
   ]
  },
  {
   "cell_type": "markdown",
   "metadata": {},
   "source": [
    "# 2 OMPCVModel"
   ]
  },
  {
   "cell_type": "code",
   "execution_count": 286,
   "metadata": {
    "collapsed": true
   },
   "outputs": [],
   "source": [
    "modelFile = '4C4_OMPC_tuned.pickle'\n",
    "with open(modelFile, 'rb') as handle:\n",
    "    model = pickle.load(handle)"
   ]
  },
  {
   "cell_type": "code",
   "execution_count": 287,
   "metadata": {
    "collapsed": false
   },
   "outputs": [
    {
     "name": "stdout",
     "output_type": "stream",
     "text": [
      "A   || model : Orthogonal\n",
      "A   || test_rmse_reporting: 456.241910\n",
      "A   || test_mean_y_comparing: 117.836000\n",
      "\n",
      "B   || model : Orthogonal\n",
      "B   || test_rmse_reporting: 689.197578\n",
      "B   || test_mean_y_comparing: 2189.093846\n",
      "\n",
      "C   || model : Orthogonal\n",
      "C   || test_rmse_reporting: 109.644166\n",
      "C   || test_mean_y_comparing: 1703.226087\n",
      "\n",
      "D   || model : Orthogonal\n",
      "D   || test_rmse_reporting: 170.507475\n",
      "D   || test_mean_y_comparing: 1307.537500\n",
      "\n",
      "Full Test Set   || model : Orthogonal\n",
      "Full Test Set   || test_rmse_reporting: 354.963614\n",
      "Full Test Set   || test_mean_y_comparing: 1532.346154\n",
      "\n"
     ]
    }
   ],
   "source": [
    "#A\n",
    "which = 'A'\n",
    "X = X_A\n",
    "y = y_A\n",
    "######################################################################\n",
    "reporting_testscore = rmse_scorer(model, X, y)\n",
    "\n",
    "print('%s   || model : %s' % (which,str(model)[:10]))\n",
    "print('%s   || test_rmse_reporting: %f' % (which,reporting_testscore))\n",
    "print('%s   || test_mean_y_comparing: %f' % (which, y.mean()))\n",
    "print()\n",
    "\n",
    "#B\n",
    "which = 'B'\n",
    "X = X_B\n",
    "y = y_B\n",
    "######################################################################\n",
    "reporting_testscore = rmse_scorer(model, X, y)\n",
    "\n",
    "print('%s   || model : %s' % (which,str(model)[:10]))\n",
    "print('%s   || test_rmse_reporting: %f' % (which,reporting_testscore))\n",
    "print('%s   || test_mean_y_comparing: %f' % (which, y.mean()))\n",
    "print()\n",
    "\n",
    "#C\n",
    "which = 'C'\n",
    "X = X_C\n",
    "y = y_C\n",
    "######################################################################\n",
    "reporting_testscore = rmse_scorer(model, X, y)\n",
    "\n",
    "print('%s   || model : %s' % (which,str(model)[:10]))\n",
    "print('%s   || test_rmse_reporting: %f' % (which,reporting_testscore))\n",
    "print('%s   || test_mean_y_comparing: %f' % (which, y.mean()))\n",
    "print()\n",
    "\n",
    "#D\n",
    "which = 'D'\n",
    "X = X_D\n",
    "y = y_D\n",
    "######################################################################\n",
    "reporting_testscore = rmse_scorer(model, X, y)\n",
    "\n",
    "print('%s   || model : %s' % (which,str(model)[:10]))\n",
    "print('%s   || test_rmse_reporting: %f' % (which,reporting_testscore))\n",
    "print('%s   || test_mean_y_comparing: %f' % (which, y.mean()))\n",
    "print()\n",
    "\n",
    "#Full Test Set\n",
    "which = 'Full Test Set'\n",
    "X = X_test\n",
    "y = y_test\n",
    "######################################################################\n",
    "reporting_testscore = rmse_scorer(model, X, y)\n",
    "\n",
    "print('%s   || model : %s' % (which,str(model)[:10]))\n",
    "print('%s   || test_rmse_reporting: %f' % (which,reporting_testscore))\n",
    "print('%s   || test_mean_y_comparing: %f' % (which, y.mean()))\n",
    "print()"
   ]
  },
  {
   "cell_type": "markdown",
   "metadata": {},
   "source": [
    "# 3 GradientBoostingCVModel"
   ]
  },
  {
   "cell_type": "code",
   "execution_count": 288,
   "metadata": {
    "collapsed": true
   },
   "outputs": [],
   "source": [
    "modelFile = '4C4_boosting_tuned.pickle'\n",
    "with open(modelFile, 'rb') as handle:\n",
    "    model = pickle.load(handle)"
   ]
  },
  {
   "cell_type": "code",
   "execution_count": 289,
   "metadata": {
    "collapsed": false
   },
   "outputs": [
    {
     "name": "stdout",
     "output_type": "stream",
     "text": [
      "A   || model : GradientBo\n",
      "A   || test_rmse_reporting: 99.034277\n",
      "A   || test_mean_y_comparing: 117.836000\n",
      "\n",
      "B   || model : GradientBo\n",
      "B   || test_rmse_reporting: 2091.025469\n",
      "B   || test_mean_y_comparing: 2189.093846\n",
      "\n",
      "C   || model : GradientBo\n",
      "C   || test_rmse_reporting: 1700.962307\n",
      "C   || test_mean_y_comparing: 1703.226087\n",
      "\n",
      "D   || model : GradientBo\n",
      "D   || test_rmse_reporting: 1309.349458\n",
      "D   || test_mean_y_comparing: 1307.537500\n",
      "\n",
      "Full Test Set   || model : GradientBo\n",
      "Full Test Set   || test_rmse_reporting: 1591.230073\n",
      "Full Test Set   || test_mean_y_comparing: 1532.346154\n",
      "\n"
     ]
    }
   ],
   "source": [
    "#A\n",
    "which = 'A'\n",
    "X = X_A\n",
    "y = y_A\n",
    "######################################################################\n",
    "reporting_testscore = rmse_scorer(model, X, y)\n",
    "\n",
    "print('%s   || model : %s' % (which,str(model)[:10]))\n",
    "print('%s   || test_rmse_reporting: %f' % (which,reporting_testscore))\n",
    "print('%s   || test_mean_y_comparing: %f' % (which, y.mean()))\n",
    "print()\n",
    "\n",
    "#B\n",
    "which = 'B'\n",
    "X = X_B\n",
    "y = y_B\n",
    "######################################################################\n",
    "reporting_testscore = rmse_scorer(model, X, y)\n",
    "\n",
    "print('%s   || model : %s' % (which,str(model)[:10]))\n",
    "print('%s   || test_rmse_reporting: %f' % (which,reporting_testscore))\n",
    "print('%s   || test_mean_y_comparing: %f' % (which, y.mean()))\n",
    "print()\n",
    "\n",
    "#C\n",
    "which = 'C'\n",
    "X = X_C\n",
    "y = y_C\n",
    "######################################################################\n",
    "reporting_testscore = rmse_scorer(model, X, y)\n",
    "\n",
    "print('%s   || model : %s' % (which,str(model)[:10]))\n",
    "print('%s   || test_rmse_reporting: %f' % (which,reporting_testscore))\n",
    "print('%s   || test_mean_y_comparing: %f' % (which, y.mean()))\n",
    "print()\n",
    "\n",
    "#D\n",
    "which = 'D'\n",
    "X = X_D\n",
    "y = y_D\n",
    "######################################################################\n",
    "reporting_testscore = rmse_scorer(model, X, y)\n",
    "\n",
    "print('%s   || model : %s' % (which,str(model)[:10]))\n",
    "print('%s   || test_rmse_reporting: %f' % (which,reporting_testscore))\n",
    "print('%s   || test_mean_y_comparing: %f' % (which, y.mean()))\n",
    "print()\n",
    "\n",
    "#Full Test Set\n",
    "which = 'Full Test Set'\n",
    "X = X_test\n",
    "y = y_test\n",
    "######################################################################\n",
    "reporting_testscore = rmse_scorer(model, X, y)\n",
    "\n",
    "print('%s   || model : %s' % (which,str(model)[:10]))\n",
    "print('%s   || test_rmse_reporting: %f' % (which,reporting_testscore))\n",
    "print('%s   || test_mean_y_comparing: %f' % (which, y.mean()))\n",
    "print()"
   ]
  },
  {
   "cell_type": "markdown",
   "metadata": {},
   "source": [
    "# 4 Random Forest"
   ]
  },
  {
   "cell_type": "code",
   "execution_count": 290,
   "metadata": {
    "collapsed": true
   },
   "outputs": [],
   "source": [
    "modelFile = '4C4_rforest_tuned.pickle'\n",
    "with open(modelFile, 'rb') as handle:\n",
    "    model = pickle.load(handle)"
   ]
  },
  {
   "cell_type": "code",
   "execution_count": 291,
   "metadata": {
    "collapsed": false
   },
   "outputs": [
    {
     "name": "stdout",
     "output_type": "stream",
     "text": [
      "A   || model : RandomFore\n",
      "A   || test_rmse_reporting: 833.665902\n",
      "A   || test_mean_y_comparing: 117.836000\n",
      "\n",
      "B   || model : RandomFore\n",
      "B   || test_rmse_reporting: 1402.511618\n",
      "B   || test_mean_y_comparing: 2189.093846\n",
      "\n",
      "C   || model : RandomFore\n",
      "C   || test_rmse_reporting: 1101.283163\n",
      "C   || test_mean_y_comparing: 1703.226087\n",
      "\n",
      "D   || model : RandomFore\n",
      "D   || test_rmse_reporting: 787.786025\n",
      "D   || test_mean_y_comparing: 1307.537500\n",
      "\n",
      "Full Test Set   || model : RandomFore\n",
      "Full Test Set   || test_rmse_reporting: 1051.270504\n",
      "Full Test Set   || test_mean_y_comparing: 1532.346154\n",
      "\n"
     ]
    }
   ],
   "source": [
    "#A\n",
    "which = 'A'\n",
    "X = X_A\n",
    "y = y_A\n",
    "######################################################################\n",
    "reporting_testscore = rmse_scorer(model, X, y)\n",
    "\n",
    "print('%s   || model : %s' % (which,str(model)[:10]))\n",
    "print('%s   || test_rmse_reporting: %f' % (which,reporting_testscore))\n",
    "print('%s   || test_mean_y_comparing: %f' % (which, y.mean()))\n",
    "print()\n",
    "\n",
    "#B\n",
    "which = 'B'\n",
    "X = X_B\n",
    "y = y_B\n",
    "######################################################################\n",
    "reporting_testscore = rmse_scorer(model, X, y)\n",
    "\n",
    "print('%s   || model : %s' % (which,str(model)[:10]))\n",
    "print('%s   || test_rmse_reporting: %f' % (which,reporting_testscore))\n",
    "print('%s   || test_mean_y_comparing: %f' % (which, y.mean()))\n",
    "print()\n",
    "\n",
    "#C\n",
    "which = 'C'\n",
    "X = X_C\n",
    "y = y_C\n",
    "######################################################################\n",
    "reporting_testscore = rmse_scorer(model, X, y)\n",
    "\n",
    "print('%s   || model : %s' % (which,str(model)[:10]))\n",
    "print('%s   || test_rmse_reporting: %f' % (which,reporting_testscore))\n",
    "print('%s   || test_mean_y_comparing: %f' % (which, y.mean()))\n",
    "print()\n",
    "\n",
    "#D\n",
    "which = 'D'\n",
    "X = X_D\n",
    "y = y_D\n",
    "######################################################################\n",
    "reporting_testscore = rmse_scorer(model, X, y)\n",
    "\n",
    "print('%s   || model : %s' % (which,str(model)[:10]))\n",
    "print('%s   || test_rmse_reporting: %f' % (which,reporting_testscore))\n",
    "print('%s   || test_mean_y_comparing: %f' % (which, y.mean()))\n",
    "print()\n",
    "\n",
    "#Full Test Set\n",
    "which = 'Full Test Set'\n",
    "X = X_test\n",
    "y = y_test\n",
    "######################################################################\n",
    "reporting_testscore = rmse_scorer(model, X, y)\n",
    "\n",
    "print('%s   || model : %s' % (which,str(model)[:10]))\n",
    "print('%s   || test_rmse_reporting: %f' % (which,reporting_testscore))\n",
    "print('%s   || test_mean_y_comparing: %f' % (which, y.mean()))\n",
    "print()"
   ]
  },
  {
   "cell_type": "markdown",
   "metadata": {},
   "source": [
    "# 5 RidgeCVModel"
   ]
  },
  {
   "cell_type": "code",
   "execution_count": 292,
   "metadata": {
    "collapsed": true
   },
   "outputs": [],
   "source": [
    "modelFile = '4C4_ridge_tuned.pickle'\n",
    "with open(modelFile, 'rb') as handle:\n",
    "    model = pickle.load(handle)"
   ]
  },
  {
   "cell_type": "code",
   "execution_count": 293,
   "metadata": {
    "collapsed": false
   },
   "outputs": [
    {
     "name": "stdout",
     "output_type": "stream",
     "text": [
      "A   || model : Ridge(alph\n",
      "A   || test_rmse_reporting: 213881193.697564\n",
      "A   || test_mean_y_comparing: 117.836000\n",
      "\n",
      "B   || model : Ridge(alph\n",
      "B   || test_rmse_reporting: 245914900.514946\n",
      "B   || test_mean_y_comparing: 2189.093846\n",
      "\n",
      "C   || model : Ridge(alph\n",
      "C   || test_rmse_reporting: 795990821.172131\n",
      "C   || test_mean_y_comparing: 1703.226087\n",
      "\n",
      "D   || model : Ridge(alph\n",
      "D   || test_rmse_reporting: 179669658.880540\n",
      "D   || test_mean_y_comparing: 1307.537500\n",
      "\n",
      "Full Test Set   || model : Ridge(alph\n",
      "Full Test Set   || test_rmse_reporting: 501727324.115041\n",
      "Full Test Set   || test_mean_y_comparing: 1532.346154\n",
      "\n"
     ]
    }
   ],
   "source": [
    "#A\n",
    "which = 'A'\n",
    "X = X_A\n",
    "y = y_A\n",
    "######################################################################\n",
    "reporting_testscore = rmse_scorer(model, X, y)\n",
    "\n",
    "print('%s   || model : %s' % (which,str(model)[:10]))\n",
    "print('%s   || test_rmse_reporting: %f' % (which,reporting_testscore))\n",
    "print('%s   || test_mean_y_comparing: %f' % (which, y.mean()))\n",
    "print()\n",
    "\n",
    "#B\n",
    "which = 'B'\n",
    "X = X_B\n",
    "y = y_B\n",
    "######################################################################\n",
    "reporting_testscore = rmse_scorer(model, X, y)\n",
    "\n",
    "print('%s   || model : %s' % (which,str(model)[:10]))\n",
    "print('%s   || test_rmse_reporting: %f' % (which,reporting_testscore))\n",
    "print('%s   || test_mean_y_comparing: %f' % (which, y.mean()))\n",
    "print()\n",
    "\n",
    "#C\n",
    "which = 'C'\n",
    "X = X_C\n",
    "y = y_C\n",
    "######################################################################\n",
    "reporting_testscore = rmse_scorer(model, X, y)\n",
    "\n",
    "print('%s   || model : %s' % (which,str(model)[:10]))\n",
    "print('%s   || test_rmse_reporting: %f' % (which,reporting_testscore))\n",
    "print('%s   || test_mean_y_comparing: %f' % (which, y.mean()))\n",
    "print()\n",
    "\n",
    "#D\n",
    "which = 'D'\n",
    "X = X_D\n",
    "y = y_D\n",
    "######################################################################\n",
    "reporting_testscore = rmse_scorer(model, X, y)\n",
    "\n",
    "print('%s   || model : %s' % (which,str(model)[:10]))\n",
    "print('%s   || test_rmse_reporting: %f' % (which,reporting_testscore))\n",
    "print('%s   || test_mean_y_comparing: %f' % (which, y.mean()))\n",
    "print()\n",
    "\n",
    "#Full Test Set\n",
    "which = 'Full Test Set'\n",
    "X = X_test\n",
    "y = y_test\n",
    "######################################################################\n",
    "reporting_testscore = rmse_scorer(model, X, y)\n",
    "\n",
    "print('%s   || model : %s' % (which,str(model)[:10]))\n",
    "print('%s   || test_rmse_reporting: %f' % (which,reporting_testscore))\n",
    "print('%s   || test_mean_y_comparing: %f' % (which, y.mean()))\n",
    "print()"
   ]
  },
  {
   "cell_type": "markdown",
   "metadata": {},
   "source": [
    "# 6 ElasticNetCVModel"
   ]
  },
  {
   "cell_type": "code",
   "execution_count": 294,
   "metadata": {
    "collapsed": true
   },
   "outputs": [],
   "source": [
    "modelFile = '4C4_elasticNet_tuned.pickle'\n",
    "with open(modelFile, 'rb') as handle:\n",
    "    model = pickle.load(handle)"
   ]
  },
  {
   "cell_type": "code",
   "execution_count": 301,
   "metadata": {
    "collapsed": false
   },
   "outputs": [
    {
     "name": "stdout",
     "output_type": "stream",
     "text": [
      "A   || model : ElasticNet\n",
      "A   || test_rmse_reporting: 6802326.658347\n",
      "A   || test_mean_y_comparing: 117.836000\n",
      "\n",
      "B   || model : ElasticNet\n",
      "B   || test_rmse_reporting: 4626028.355249\n",
      "B   || test_mean_y_comparing: 2189.093846\n",
      "\n",
      "C   || model : ElasticNet\n",
      "C   || test_rmse_reporting: 19646572.024725\n",
      "C   || test_mean_y_comparing: 1703.226087\n",
      "\n",
      "D   || model : ElasticNet\n",
      "D   || test_rmse_reporting: 4765595.341818\n",
      "D   || test_mean_y_comparing: 1307.537500\n",
      "\n",
      "Full Test Set   || model : ElasticNet\n",
      "Full Test Set   || test_rmse_reporting: 12361441.810858\n",
      "Full Test Set   || test_mean_y_comparing: 1532.346154\n",
      "\n"
     ]
    }
   ],
   "source": [
    "#A\n",
    "which = 'A'\n",
    "X = X_A\n",
    "y = y_A\n",
    "######################################################################\n",
    "reporting_testscore = rmse_scorer(model, X, y)\n",
    "\n",
    "print('%s   || model : %s' % (which,str(model)[:10]))\n",
    "print('%s   || test_rmse_reporting: %f' % (which,reporting_testscore))\n",
    "print('%s   || test_mean_y_comparing: %f' % (which, y.mean()))\n",
    "print()\n",
    "\n",
    "#B\n",
    "which = 'B'\n",
    "X = X_B\n",
    "y = y_B\n",
    "######################################################################\n",
    "reporting_testscore = rmse_scorer(model, X, y)\n",
    "\n",
    "print('%s   || model : %s' % (which,str(model)[:10]))\n",
    "print('%s   || test_rmse_reporting: %f' % (which,reporting_testscore))\n",
    "print('%s   || test_mean_y_comparing: %f' % (which, y.mean()))\n",
    "print()\n",
    "\n",
    "#C\n",
    "which = 'C'\n",
    "X = X_C\n",
    "y = y_C\n",
    "######################################################################\n",
    "reporting_testscore = rmse_scorer(model, X, y)\n",
    "\n",
    "print('%s   || model : %s' % (which,str(model)[:10]))\n",
    "print('%s   || test_rmse_reporting: %f' % (which,reporting_testscore))\n",
    "print('%s   || test_mean_y_comparing: %f' % (which, y.mean()))\n",
    "print()\n",
    "\n",
    "#D\n",
    "which = 'D'\n",
    "X = X_D\n",
    "y = y_D\n",
    "######################################################################\n",
    "reporting_testscore = rmse_scorer(model, X, y)\n",
    "\n",
    "print('%s   || model : %s' % (which,str(model)[:10]))\n",
    "print('%s   || test_rmse_reporting: %f' % (which,reporting_testscore))\n",
    "print('%s   || test_mean_y_comparing: %f' % (which, y.mean()))\n",
    "print()\n",
    "\n",
    "#Full Test Set\n",
    "which = 'Full Test Set'\n",
    "X = X_test\n",
    "y = y_test\n",
    "######################################################################\n",
    "reporting_testscore = rmse_scorer(model, X_test, y_test)\n",
    "\n",
    "print('%s   || model : %s' % (which,str(model)[:10]))\n",
    "print('%s   || test_rmse_reporting: %f' % (which,reporting_testscore))\n",
    "print('%s   || test_mean_y_comparing: %f' % (which, y.mean()))\n",
    "print()"
   ]
  },
  {
   "cell_type": "code",
   "execution_count": 297,
   "metadata": {
    "collapsed": true
   },
   "outputs": [],
   "source": [
    "######################################################"
   ]
  },
  {
   "cell_type": "markdown",
   "metadata": {},
   "source": [
    "# 7 SVR - a - Poly Kernel"
   ]
  },
  {
   "cell_type": "code",
   "execution_count": 296,
   "metadata": {
    "collapsed": false
   },
   "outputs": [
    {
     "ename": "FileNotFoundError",
     "evalue": "[Errno 2] No such file or directory: '4C4_****_tuned.pickle'",
     "output_type": "error",
     "traceback": [
      "\u001b[0;31m---------------------------------------------------------------------------\u001b[0m",
      "\u001b[0;31mFileNotFoundError\u001b[0m                         Traceback (most recent call last)",
      "\u001b[0;32m<ipython-input-296-f781eb93a3a3>\u001b[0m in \u001b[0;36m<module>\u001b[0;34m()\u001b[0m\n\u001b[1;32m      1\u001b[0m \u001b[0mmodelFile\u001b[0m \u001b[0;34m=\u001b[0m \u001b[0;34m'4C4_****_tuned.pickle'\u001b[0m\u001b[0;34m\u001b[0m\u001b[0m\n\u001b[0;32m----> 2\u001b[0;31m \u001b[0;32mwith\u001b[0m \u001b[0mopen\u001b[0m\u001b[0;34m(\u001b[0m\u001b[0mmodelFile\u001b[0m\u001b[0;34m,\u001b[0m \u001b[0;34m'rb'\u001b[0m\u001b[0;34m)\u001b[0m \u001b[0;32mas\u001b[0m \u001b[0mhandle\u001b[0m\u001b[0;34m:\u001b[0m\u001b[0;34m\u001b[0m\u001b[0m\n\u001b[0m\u001b[1;32m      3\u001b[0m     \u001b[0mmodel\u001b[0m \u001b[0;34m=\u001b[0m \u001b[0mpickle\u001b[0m\u001b[0;34m.\u001b[0m\u001b[0mload\u001b[0m\u001b[0;34m(\u001b[0m\u001b[0mhandle\u001b[0m\u001b[0;34m)\u001b[0m\u001b[0;34m\u001b[0m\u001b[0m\n",
      "\u001b[0;31mFileNotFoundError\u001b[0m: [Errno 2] No such file or directory: '4C4_****_tuned.pickle'"
     ]
    }
   ],
   "source": [
    "modelFile = '4C4_****_tuned.pickle'\n",
    "with open(modelFile, 'rb') as handle:\n",
    "    model = pickle.load(handle)"
   ]
  },
  {
   "cell_type": "code",
   "execution_count": null,
   "metadata": {
    "collapsed": true
   },
   "outputs": [],
   "source": []
  },
  {
   "cell_type": "markdown",
   "metadata": {},
   "source": [
    "# 8 SVR - b - Sigmoid Kernel"
   ]
  },
  {
   "cell_type": "code",
   "execution_count": null,
   "metadata": {
    "collapsed": true
   },
   "outputs": [],
   "source": [
    "modelFile = '4C4_*****_tuned.pickle'\n",
    "with open(modelFile, 'rb') as handle:\n",
    "    model = pickle.load(handle)"
   ]
  },
  {
   "cell_type": "code",
   "execution_count": null,
   "metadata": {
    "collapsed": true
   },
   "outputs": [],
   "source": []
  },
  {
   "cell_type": "markdown",
   "metadata": {},
   "source": [
    "# 9 SVR - c - Linear Kernel"
   ]
  },
  {
   "cell_type": "code",
   "execution_count": null,
   "metadata": {
    "collapsed": true
   },
   "outputs": [],
   "source": [
    "modelFile = '4C4_*****_tuned.pickle'\n",
    "with open(modelFile, 'rb') as handle:\n",
    "    model = pickle.load(handle)"
   ]
  },
  {
   "cell_type": "code",
   "execution_count": null,
   "metadata": {
    "collapsed": true
   },
   "outputs": [],
   "source": []
  },
  {
   "cell_type": "markdown",
   "metadata": {},
   "source": [
    "# 10 SVR - d - rbf Kernel"
   ]
  },
  {
   "cell_type": "code",
   "execution_count": null,
   "metadata": {
    "collapsed": true
   },
   "outputs": [],
   "source": [
    "modelFile = '4C4_*****_tuned.pickle'\n",
    "with open(modelFile, 'rb') as handle:\n",
    "    model = pickle.load(handle)"
   ]
  },
  {
   "cell_type": "code",
   "execution_count": null,
   "metadata": {
    "collapsed": true
   },
   "outputs": [],
   "source": []
  }
 ],
 "metadata": {
  "kernelspec": {
   "display_name": "Python 3",
   "language": "python",
   "name": "python3"
  },
  "language_info": {
   "codemirror_mode": {
    "name": "ipython",
    "version": 3
   },
   "file_extension": ".py",
   "mimetype": "text/x-python",
   "name": "python",
   "nbconvert_exporter": "python",
   "pygments_lexer": "ipython3",
   "version": "3.6.0"
  }
 },
 "nbformat": 4,
 "nbformat_minor": 2
}
