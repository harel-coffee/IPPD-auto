{
 "cells": [
  {
   "cell_type": "code",
   "execution_count": 1,
   "metadata": {
    "collapsed": false
   },
   "outputs": [
    {
     "name": "stdout",
     "output_type": "stream",
     "text": [
      "\n"
     ]
    }
   ],
   "source": [
    "# import all the filenames\n",
    "from allfunctions import *"
   ]
  },
  {
   "cell_type": "code",
   "execution_count": 2,
   "metadata": {
    "collapsed": false
   },
   "outputs": [],
   "source": [
    "%load_ext autoreload\n",
    "%autoreload 2"
   ]
  },
  {
   "cell_type": "markdown",
   "metadata": {},
   "source": [
    "3  def GradientBoostingCVModel(filename):\n",
    "\n",
    "4  def RandomForestCVModel(filename):"
   ]
  },
  {
   "cell_type": "code",
   "execution_count": null,
   "metadata": {
    "collapsed": false
   },
   "outputs": [],
   "source": [
    "def wrapper(functionList = []):\n",
    "    if __name__ == '__main__':\n",
    "        global model_selection\n",
    "        global filenames\n",
    "        \n",
    "        # # # # # # # # # # # # # # # # # # # # # # # # # # # # # # # # # # # # \n",
    "        filenames = ['ABC.pickle', 'BCD.pickle', 'CDA.pickle', 'DAB.pickle' ]\n",
    "        # # # # # # # # # # # # # # # # # # # # # # # # # # # # # # # # # # # # \n",
    "        \n",
    "        model_selection = {}\n",
    "        \n",
    "        for f in functionList:\n",
    "            print()\n",
    "            for filename in filenames:\n",
    "                print('function = %s, filename = %s' % (f,filename))\n",
    "                out = f(filename)\n",
    "                newScore = out[filename]['train_rmse_cv_picking']\n",
    "\n",
    "                if filename in model_selection:\n",
    "                    #compare scores and select more accurate model\n",
    "                    oldScore = model_selection[filename]['train_rmse_cv_picking']\n",
    "                    if(newScore < oldScore):\n",
    "                        print(\"【【【】】】switching models for %s...\" % filename)\n",
    "                        print(\"【【【】】】newScore: %f < oldScore: %f\" % (newScore, oldScore))\n",
    "                        print(\"【【【】】】newModel: %s \\n\" % f)\n",
    "                        print(100*'_')\n",
    "                        model_selection[filename] = out[filename]\n",
    "                else:\n",
    "                    #no score to compare\n",
    "                    print(\"【【】】adding new model for %s \\n\" % filename)\n",
    "                    print(100*'_')\n",
    "                    model_selection[filename] = out[filename]\n",
    "    return model_selection"
   ]
  },
  {
   "cell_type": "code",
   "execution_count": null,
   "metadata": {
    "collapsed": false
   },
   "outputs": [
    {
     "name": "stdout",
     "output_type": "stream",
     "text": [
      "\n",
      "function = <function GradientBoostingCVModel at 0x7fb92e1066a8>, filename = ABC.pickle\n",
      "Dataset size read: train 224 and test 97 \n",
      "\n",
      "# Tuning hyper-parameters \n",
      "\n",
      "Starting grdsurch.fit(X_train, y_train)\n",
      "\n",
      "Best parameters set found on development set:\n",
      "\n",
      "{'learning_rate': 0.001, 'loss': 'ls', 'n_estimators': 2000}\n",
      "GradientBoostingRegressor(alpha=0.9, criterion='friedman_mse', init=None,\n",
      "             learning_rate=0.001, loss='ls', max_depth=None,\n",
      "             max_features=None, max_leaf_nodes=None,\n",
      "             min_impurity_split=1e-07, min_samples_leaf=1,\n",
      "             min_samples_split=2, min_weight_fraction_leaf=0.0,\n",
      "             n_estimators=2000, presort='auto', random_state=None,\n",
      "             subsample=1.0, verbose=0, warm_start=False)\n",
      "\n",
      "Full Test Set: 97\n"
     ]
    },
    {
     "data": {
      "text/plain": [
       "array([  746.49,  1469.66,  1801.74,   198.45,   198.71,  1944.16,\n",
       "        2262.51,   460.82,   216.12,  2142.12,   738.16,   198.28,\n",
       "        1135.84,   810.75,   216.71,  1273.42,  1459.44,   813.15,\n",
       "        2129.21,  1799.43,  1141.32,  1780.16,  2436.08,   801.59,\n",
       "         814.27,  1806.17,  1637.05,   197.88,   823.05,   503.45,\n",
       "        1808.07,   460.34,   462.77,  2258.66,   503.73,  1333.42,\n",
       "         198.88,  1925.99,  1627.26,  1929.21,  1467.78,   462.06,\n",
       "        2239.73,  1628.58,   504.45,   748.82,  1134.68,  2470.53,\n",
       "        1036.77,  2125.54,  1862.39,  2241.22,  1036.27,  1802.26,\n",
       "        2127.71,  1333.76,  1037.18,  1037.79,  2119.13,   747.33,\n",
       "        1135.23,   750.28,   218.82,  1146.09,   214.64,   199.09,\n",
       "        2230.04,  1018.55,   505.67,  1139.61,  1623.84,   720.7 ,\n",
       "         215.55,   216.58,   504.63,  1467.65,   801.4 ,  2457.56,\n",
       "        1471.89,  2123.49,  2478.78,  2106.02,  1031.47,  1792.62,\n",
       "        1462.69,  2450.37,  1476.76,  1959.63,  2433.27,   464.01,\n",
       "        2453.84,   504.92,  1324.9 ,  2442.42,   510.55,  1332.56,  1634.05])"
      ]
     },
     "metadata": {},
     "output_type": "display_data"
    },
    {
     "data": {
      "text/plain": [
       "array([ 1266.11642044,  1207.15647785,  1439.82115656,  1221.35629513,\n",
       "        1181.36953127,  1485.28894993,  1528.62053274,  1191.3136819 ,\n",
       "        1027.33980461,  1488.65099063,  1308.22285544,  1027.33980461,\n",
       "        1197.90874168,  1310.92254385,  1221.35629513,  1398.18585536,\n",
       "        1393.2457341 ,  1115.52367169,  1485.28894993,  1439.82115656,\n",
       "        1350.89798702,  1476.23556199,  1568.83329722,  1115.52367169,\n",
       "        1266.11642044,  1479.2008084 ,  1293.46077463,  1181.36953127,\n",
       "        1266.11642044,  1191.3136819 ,  1293.46077463,  1231.21136948,\n",
       "        1037.19487897,  1528.62053274,  1234.56209337,  1360.08903829,\n",
       "        1027.33980461,  1485.28894993,  1476.23556199,  1488.65099063,\n",
       "        1398.18585536,  1191.3136819 ,  1586.92638365,  1293.46077463,\n",
       "        1037.19487897,  1115.52367169,  1389.29037534,  1586.92638365,\n",
       "        1389.29037534,  1449.83413884,  1449.83413884,  1528.62053274,\n",
       "        1350.89798702,  1476.23556199,  1488.65099063,  1360.08903829,\n",
       "        1384.03443822,  1197.90874168,  1306.14604495,  1310.92254385,\n",
       "        1350.89798702,  1310.92254385,  1224.74750823,  1384.03443822,\n",
       "        1221.35629513,  1224.74750823,  1568.83329722,  1197.90874168,\n",
       "        1037.19487897,  1384.03443822,  1479.2008084 ,  1308.22285544,\n",
       "        1181.36953127,  1224.74750823,  1231.21136948,  1207.15647785,\n",
       "        1308.22285544,  1384.70934289,  1360.08903829,  1449.83413884,\n",
       "        1384.70934289,  1306.14604495,  1389.29037534,  1479.2008084 ,\n",
       "        1393.2457341 ,  1568.83329722,  1393.2457341 ,  1306.14604495,\n",
       "        1586.92638365,  1234.56209337,  1568.83329722,  1234.56209337,\n",
       "        1398.18585536,  1384.70934289,  1231.21136948,  1207.15647785,\n",
       "        1439.82115656])"
      ]
     },
     "metadata": {},
     "output_type": "display_data"
    },
    {
     "name": "stdout",
     "output_type": "stream",
     "text": [
      "D: 97\n"
     ]
    },
    {
     "data": {
      "text/plain": [
       "array([  746.49,  1469.66,  1801.74,   198.45,   198.71,  1944.16,\n",
       "        2262.51,   460.82,   216.12,  2142.12,   738.16,   198.28,\n",
       "        1135.84,   810.75,   216.71,  1273.42,  1459.44,   813.15,\n",
       "        2129.21,  1799.43,  1141.32,  1780.16,  2436.08,   801.59,\n",
       "         814.27,  1806.17,  1637.05,   197.88,   823.05,   503.45,\n",
       "        1808.07,   460.34,   462.77,  2258.66,   503.73,  1333.42,\n",
       "         198.88,  1925.99,  1627.26,  1929.21,  1467.78,   462.06,\n",
       "        2239.73,  1628.58,   504.45,   748.82,  1134.68,  2470.53,\n",
       "        1036.77,  2125.54,  1862.39,  2241.22,  1036.27,  1802.26,\n",
       "        2127.71,  1333.76,  1037.18,  1037.79,  2119.13,   747.33,\n",
       "        1135.23,   750.28,   218.82,  1146.09,   214.64,   199.09,\n",
       "        2230.04,  1018.55,   505.67,  1139.61,  1623.84,   720.7 ,\n",
       "         215.55,   216.58,   504.63,  1467.65,   801.4 ,  2457.56,\n",
       "        1471.89,  2123.49,  2478.78,  2106.02,  1031.47,  1792.62,\n",
       "        1462.69,  2450.37,  1476.76,  1959.63,  2433.27,   464.01,\n",
       "        2453.84,   504.92,  1324.9 ,  2442.42,   510.55,  1332.56,  1634.05])"
      ]
     },
     "metadata": {},
     "output_type": "display_data"
    },
    {
     "data": {
      "text/plain": [
       "array([ 1266.11642044,  1207.15647785,  1439.82115656,  1221.35629513,\n",
       "        1181.36953127,  1485.28894993,  1528.62053274,  1191.3136819 ,\n",
       "        1027.33980461,  1488.65099063,  1308.22285544,  1027.33980461,\n",
       "        1197.90874168,  1310.92254385,  1221.35629513,  1398.18585536,\n",
       "        1393.2457341 ,  1115.52367169,  1485.28894993,  1439.82115656,\n",
       "        1350.89798702,  1476.23556199,  1568.83329722,  1115.52367169,\n",
       "        1266.11642044,  1479.2008084 ,  1293.46077463,  1181.36953127,\n",
       "        1266.11642044,  1191.3136819 ,  1293.46077463,  1231.21136948,\n",
       "        1037.19487897,  1528.62053274,  1234.56209337,  1360.08903829,\n",
       "        1027.33980461,  1485.28894993,  1476.23556199,  1488.65099063,\n",
       "        1398.18585536,  1191.3136819 ,  1586.92638365,  1293.46077463,\n",
       "        1037.19487897,  1115.52367169,  1389.29037534,  1586.92638365,\n",
       "        1389.29037534,  1449.83413884,  1449.83413884,  1528.62053274,\n",
       "        1350.89798702,  1476.23556199,  1488.65099063,  1360.08903829,\n",
       "        1384.03443822,  1197.90874168,  1306.14604495,  1310.92254385,\n",
       "        1350.89798702,  1310.92254385,  1224.74750823,  1384.03443822,\n",
       "        1221.35629513,  1224.74750823,  1568.83329722,  1197.90874168,\n",
       "        1037.19487897,  1384.03443822,  1479.2008084 ,  1308.22285544,\n",
       "        1181.36953127,  1224.74750823,  1231.21136948,  1207.15647785,\n",
       "        1308.22285544,  1384.70934289,  1360.08903829,  1449.83413884,\n",
       "        1384.70934289,  1306.14604495,  1389.29037534,  1479.2008084 ,\n",
       "        1393.2457341 ,  1568.83329722,  1393.2457341 ,  1306.14604495,\n",
       "        1586.92638365,  1234.56209337,  1568.83329722,  1234.56209337,\n",
       "        1398.18585536,  1384.70934289,  1231.21136948,  1207.15647785,\n",
       "        1439.82115656])"
      ]
     },
     "metadata": {},
     "output_type": "display_data"
    },
    {
     "name": "stdout",
     "output_type": "stream",
     "text": [
      "【【】】adding new model for ABC.pickle \n",
      "\n",
      "____________________________________________________________________________________________________\n",
      "function = <function GradientBoostingCVModel at 0x7fb92e1066a8>, filename = BCD.pickle\n",
      "Dataset size read: train 289 and test 32 \n",
      "\n",
      "# Tuning hyper-parameters \n",
      "\n",
      "Starting grdsurch.fit(X_train, y_train)\n"
     ]
    }
   ],
   "source": [
    "t_gb = wrapper([ GradientBoostingCVModel ])"
   ]
  },
  {
   "cell_type": "code",
   "execution_count": null,
   "metadata": {
    "collapsed": false
   },
   "outputs": [],
   "source": [
    "t_print = t_gb\n",
    "\n",
    "for key in t_print.keys():\n",
    "    print(80*'_')\n",
    "    print(key)    \n",
    "\n",
    "    print('Model: %s' % (str(t_print[key]['model'])[:20]))\n",
    "    print('Train RMSE: %f \\n' % (t_print[key]['train_rmse_cv_picking']))\n",
    "\n",
    "    #print('Test RMSE   : %f' % (t_print[key]['test_rmse_reporting']))\n",
    "    #print('Overall Mean: %f \\n' % (t_print[key]['test_mean_y_comparing']))\n",
    "\n",
    "    if(not t_print[key]['test_rmse_reportingA']==None):\n",
    "        print('A...TestA RMSE   : %f' % float(t_print[key]['test_rmse_reportingA'] or -1))\n",
    "        print('A...<<y_test_A Mean>>: %f \\n' % float(t_print[key]['test_mean_y_comparingA'] or -1))\n",
    "\n",
    "    if(not t_print[key]['test_rmse_reportingB']==None):\n",
    "        print('B...TestB RMSE   : %f' % float(t_print[key]['test_rmse_reportingB'] or -1))\n",
    "        print('B...<<y_test_B Mean>>: %f \\n' % float(t_print[key]['test_mean_y_comparingB'] or -1))\n",
    "\n",
    "    if(not t_print[key]['test_rmse_reportingC']==None):\n",
    "        print('C...TestC RMSE   : %f' % float(t_print[key]['test_rmse_reportingC'] or -1))\n",
    "        print('C...<<y_test_C Mean>>: %f \\n' % float(t_print[key]['test_mean_y_comparingC'] or -1))\n",
    "\n",
    "    if(not t_print[key]['test_rmse_reportingD']==None):\n",
    "        print('D...TestD RMSE   : %f' % float(t_print[key]['test_rmse_reportingD'] or -1))\n",
    "        print('D...<<y_test_D Mean>>: %f' % float(t_print[key]['test_mean_y_comparingD'] or -1))\n",
    "\n",
    "    print(80*'_')"
   ]
  },
  {
   "cell_type": "code",
   "execution_count": null,
   "metadata": {
    "collapsed": false
   },
   "outputs": [],
   "source": [
    "# write the model\n",
    "import pickle\n",
    "\n",
    "#||||||||||||||||||| \n",
    "t_ = t_gb\n",
    "prefix = '4C3_' + 'gb'\n",
    "#||||||||||||||||||| \n",
    "\n",
    "for k in t_.keys():\n",
    "    mo   = t_[k]['model']\n",
    "    fname = prefix + '_tuned_' + str(k[:3])\n",
    "    \n",
    "    print()\n",
    "    print(k, str(mo)[:30])\n",
    "    \n",
    "    print(fname)\n",
    "    # write the model to a file\n",
    "    with open(fname, 'wb') as handle:\n",
    "        pickle.dump(mo, handle)"
   ]
  },
  {
   "cell_type": "code",
   "execution_count": null,
   "metadata": {
    "collapsed": false
   },
   "outputs": [],
   "source": [
    "t_rf = wrapper([ RandomForestCVModel ])"
   ]
  },
  {
   "cell_type": "code",
   "execution_count": null,
   "metadata": {
    "collapsed": false
   },
   "outputs": [],
   "source": [
    "t_print = t_rf\n",
    "\n",
    "for key in t_print.keys():\n",
    "    print(80*'_')\n",
    "    print(key)    \n",
    "\n",
    "    print('Model: %s' % (str(t_print[key]['model'])[:20]))\n",
    "    print('Train RMSE: %f \\n' % (t_print[key]['train_rmse_cv_picking']))\n",
    "\n",
    "    #print('Test RMSE   : %f' % (t_print[key]['test_rmse_reporting']))\n",
    "    #print('Overall Mean: %f \\n' % (t_print[key]['test_mean_y_comparing']))\n",
    "\n",
    "    if(not t_print[key]['test_rmse_reportingA']==None):\n",
    "        print('A...TestA RMSE   : %f' % float(t_print[key]['test_rmse_reportingA'] or -1))\n",
    "        print('A...<<y_test_A Mean>>: %f \\n' % float(t_print[key]['test_mean_y_comparingA'] or -1))\n",
    "\n",
    "    if(not t_print[key]['test_rmse_reportingB']==None):\n",
    "        print('B...TestB RMSE   : %f' % float(t_print[key]['test_rmse_reportingB'] or -1))\n",
    "        print('B...<<y_test_B Mean>>: %f \\n' % float(t_print[key]['test_mean_y_comparingB'] or -1))\n",
    "\n",
    "    if(not t_print[key]['test_rmse_reportingC']==None):\n",
    "        print('C...TestC RMSE   : %f' % float(t_print[key]['test_rmse_reportingC'] or -1))\n",
    "        print('C...<<y_test_C Mean>>: %f \\n' % float(t_print[key]['test_mean_y_comparingC'] or -1))\n",
    "\n",
    "    if(not t_print[key]['test_rmse_reportingD']==None):\n",
    "        print('D...TestD RMSE   : %f' % float(t_print[key]['test_rmse_reportingD'] or -1))\n",
    "        print('D...<<y_test_D Mean>>: %f' % float(t_print[key]['test_mean_y_comparingD'] or -1))\n",
    "\n",
    "    print(80*'_')"
   ]
  },
  {
   "cell_type": "code",
   "execution_count": null,
   "metadata": {
    "collapsed": false
   },
   "outputs": [],
   "source": [
    "# write the model\n",
    "import pickle\n",
    "\n",
    "#||||||||||||||||||| \n",
    "t_ = t_rf\n",
    "prefix = '4C3_' + 'rf'\n",
    "#||||||||||||||||||| \n",
    "\n",
    "for k in t_.keys():\n",
    "    mo   = t_[k]['model']\n",
    "    fname = prefix + '_tuned_' + str(k[:3])\n",
    "    \n",
    "    print()\n",
    "    print(k, str(mo)[:30])\n",
    "    \n",
    "    print(fname)\n",
    "    # write the model to a file\n",
    "    with open(fname, 'wb') as handle:\n",
    "        pickle.dump(mo, handle)"
   ]
  },
  {
   "cell_type": "markdown",
   "metadata": {
    "collapsed": true
   },
   "source": [
    "# Which features were given most weights by each model ?"
   ]
  },
  {
   "cell_type": "code",
   "execution_count": null,
   "metadata": {
    "collapsed": true
   },
   "outputs": [],
   "source": []
  }
 ],
 "metadata": {
  "kernelspec": {
   "display_name": "Python 3",
   "language": "python",
   "name": "python3"
  },
  "language_info": {
   "codemirror_mode": {
    "name": "ipython",
    "version": 3
   },
   "file_extension": ".py",
   "mimetype": "text/x-python",
   "name": "python",
   "nbconvert_exporter": "python",
   "pygments_lexer": "ipython3",
   "version": "3.6.0"
  }
 },
 "nbformat": 4,
 "nbformat_minor": 2
}
