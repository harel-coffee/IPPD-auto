{
 "cells": [
  {
   "cell_type": "code",
   "execution_count": 1,
   "metadata": {
    "collapsed": false
   },
   "outputs": [
    {
     "name": "stdout",
     "output_type": "stream",
     "text": [
      "\n"
     ]
    }
   ],
   "source": [
    "# import all the filenames\n",
    "from allfunctions import *"
   ]
  },
  {
   "cell_type": "code",
   "execution_count": 2,
   "metadata": {
    "collapsed": false
   },
   "outputs": [],
   "source": [
    "%load_ext autoreload\n",
    "%autoreload 2"
   ]
  },
  {
   "cell_type": "markdown",
   "metadata": {},
   "source": [
    "1  def LassoCVModel(filename):\n",
    "\n",
    "3  def RidgeCVModel(filename):\n",
    "\n",
    "4  def ElasticNetCVModel(filename):"
   ]
  },
  {
   "cell_type": "code",
   "execution_count": 3,
   "metadata": {
    "collapsed": false
   },
   "outputs": [],
   "source": [
    "def wrapper(functionList = []):\n",
    "    if __name__ == '__main__':\n",
    "        global model_selection\n",
    "        global filenames\n",
    "        \n",
    "        '''functionList = [ LassoCVModel, OMPCVModel, GradientBoostingCVModel, \n",
    "                 RandomForestCVModel, RidgeCVModel, ElasticNetCVModel, \n",
    "                 SVRSigmoidCVModel, SVRRbfCVModel ]\n",
    "        '''\n",
    "\n",
    "        filenames = ['ABC.pickle', 'BCD.pickle', 'CDA.pickle', 'DAB.pickle' ]\n",
    "        \n",
    "        model_selection = {}\n",
    "        \n",
    "        for f in functionList:\n",
    "            print()\n",
    "            for filename in filenames:\n",
    "                print('function = %s, filename = %s' % (f,filename))\n",
    "                out = f(filename)\n",
    "                newScore = out[filename]['train_rmse_cv_picking']\n",
    "\n",
    "                if filename in model_selection:\n",
    "                    #compare scores and select more accurate model\n",
    "                    oldScore = model_selection[filename]['train_rmse_cv_picking']\n",
    "                    if(newScore < oldScore):\n",
    "                        print(\"【【【】】】switching models for %s...\" % filename)\n",
    "                        print(\"【【【】】】newScore: %f < oldScore: %f\" % (newScore, oldScore))\n",
    "                        print(\"【【【】】】newModel: %s \\n\" % f)\n",
    "                        print(100*'_')\n",
    "                        model_selection[filename] = out[filename]\n",
    "                else:\n",
    "                    #no score to compare\n",
    "                    print(\"【【】】adding new model for %s \\n\" % filename)\n",
    "                    print(100*'_')\n",
    "                    model_selection[filename] = out[filename]\n",
    "    return model_selection"
   ]
  },
  {
   "cell_type": "code",
   "execution_count": 4,
   "metadata": {
    "collapsed": false,
    "scrolled": true
   },
   "outputs": [],
   "source": [
    "functionList = [ LassoCVModel, OMPCVModel, GradientBoostingCVModel, \n",
    "                 RandomForestCVModel, RidgeCVModel, ElasticNetCVModel, \n",
    "                 SVRSigmoidCVModel, SVRRbfCVModel ]"
   ]
  },
  {
   "cell_type": "code",
   "execution_count": null,
   "metadata": {
    "collapsed": false
   },
   "outputs": [
    {
     "data": {
      "text/plain": [
       "[<function allfunctions.LassoCVModel>]"
      ]
     },
     "execution_count": 5,
     "metadata": {},
     "output_type": "execute_result"
    }
   ],
   "source": [
    "#1\n",
    "t=0\n",
    "functionList[t:t+1]"
   ]
  },
  {
   "cell_type": "code",
   "execution_count": null,
   "metadata": {
    "collapsed": false
   },
   "outputs": [
    {
     "name": "stdout",
     "output_type": "stream",
     "text": [
      "############################################################\n",
      "<function LassoCVModel at 0x7f116b560ae8>\n",
      "############################################################\n",
      "\n",
      "function = <function LassoCVModel at 0x7f116b560ae8>, filename = ABC.pickle\n",
      "\n",
      "{{ scale_this: >>>>>>>>>>>>>>>>>>>>>>>>>>>>>>>>>>>>>>>>> Scaling X_train and X_test... }}\n",
      "\n",
      "Dataset size read: train 224 and test 97 \n",
      "\n",
      "# Tuning hyper-parameters \n",
      "[{'alpha': array([  1.00000000e-04,   1.93069773e-04,   3.72759372e-04,\n",
      "         7.19685673e-04,   1.38949549e-03,   2.68269580e-03,\n",
      "         5.17947468e-03,   1.00000000e-02,   1.93069773e-02,\n",
      "         3.72759372e-02,   7.19685673e-02,   1.38949549e-01,\n",
      "         2.68269580e-01,   5.17947468e-01,   1.00000000e+00,\n",
      "         1.93069773e+00,   3.72759372e+00,   7.19685673e+00,\n",
      "         1.38949549e+01,   2.68269580e+01,   5.17947468e+01,\n",
      "         1.00000000e+02,   1.93069773e+02,   3.72759372e+02,\n",
      "         7.19685673e+02,   1.38949549e+03,   2.68269580e+03,\n",
      "         5.17947468e+03,   1.00000000e+04,   1.93069773e+04,\n",
      "         3.72759372e+04,   7.19685673e+04,   1.38949549e+05,\n",
      "         2.68269580e+05,   5.17947468e+05,   1.00000000e+06,\n",
      "         1.93069773e+06,   3.72759372e+06,   7.19685673e+06,\n",
      "         1.38949549e+07,   2.68269580e+07,   5.17947468e+07,\n",
      "         1.00000000e+08,   1.93069773e+08,   3.72759372e+08,\n",
      "         7.19685673e+08,   1.38949549e+09,   2.68269580e+09,\n",
      "         5.17947468e+09,   1.00000000e+10]), 'precompute': [True, False]}]\n",
      "##########################\n",
      "Starting grdsurch.fit(X_train, y_train)\n"
     ]
    }
   ],
   "source": [
    "\n",
    "for f in functionList[t:t+1]:\n",
    "    print(60*'#')\n",
    "    print(f)\n",
    "    print(60*'#')\n",
    "    \n",
    "    t_ = wrapper([ f ])\n",
    "\n",
    "    t_print = t_\n",
    "\n",
    "    for key in t_print.keys():\n",
    "        print(80*'_')\n",
    "        print(key)    \n",
    "\n",
    "        lasso_model = t_print[key]['model']\n",
    "        print('Model: %s' % (str(t_print[key]['model'])[:20]))\n",
    "        print('Train RMSE: %f \\n' % (t_print[key]['train_rmse_cv_picking']))\n",
    "\n",
    "        #print('Test RMSE   : %f' % (t_print[key]['test_rmse_reporting']))\n",
    "        #print('Overall Mean: %f \\n' % (t_print[key]['test_mean_y_comparing']))\n",
    "\n",
    "        if(not t_print[key]['test_rmse_reportingA']==None):\n",
    "            print('A...TestA RMSE   : %f' % float(t_print[key]['test_rmse_reportingA'] or -1))\n",
    "            print('A...<<y_test_A Mean>>: %f \\n' % float(t_print[key]['test_mean_y_comparingA'] or -1))\n",
    "\n",
    "        if(not t_print[key]['test_rmse_reportingB']==None):\n",
    "            print('B...TestB RMSE   : %f' % float(t_print[key]['test_rmse_reportingB'] or -1))\n",
    "            print('B...<<y_test_B Mean>>: %f \\n' % float(t_print[key]['test_mean_y_comparingB'] or -1))\n",
    "\n",
    "        if(not t_print[key]['test_rmse_reportingC']==None):\n",
    "            print('C...TestC RMSE   : %f' % float(t_print[key]['test_rmse_reportingC'] or -1))\n",
    "            print('C...<<y_test_C Mean>>: %f \\n' % float(t_print[key]['test_mean_y_comparingC'] or -1))\n",
    "\n",
    "        if(not t_print[key]['test_rmse_reportingD']==None):\n",
    "            print('D...TestD RMSE   : %f' % float(t_print[key]['test_rmse_reportingD'] or -1))\n",
    "            print('D...<<y_test_D Mean>>: %f' % float(t_print[key]['test_mean_y_comparingD'] or -1))\n",
    "\n",
    "        print(80*'_')"
   ]
  },
  {
   "cell_type": "code",
   "execution_count": null,
   "metadata": {
    "collapsed": false
   },
   "outputs": [],
   "source": [
    "#5\n",
    "t=4\n",
    "functionList[t:t+1]"
   ]
  },
  {
   "cell_type": "code",
   "execution_count": null,
   "metadata": {
    "collapsed": false
   },
   "outputs": [],
   "source": [
    "for f in functionList[t:t+1]:\n",
    "    print(60*'#')\n",
    "    print(f)\n",
    "    print(60*'#')\n",
    "    \n",
    "    t_ = wrapper([ f ])\n",
    "\n",
    "    t_print = t_\n",
    "\n",
    "    for key in t_print.keys():\n",
    "        print(80*'_')\n",
    "        print(key)    \n",
    "\n",
    "        lasso_model = t_print[key]['model']\n",
    "        print('Model: %s' % (str(t_print[key]['model'])[:20]))\n",
    "        print('Train RMSE: %f \\n' % (t_print[key]['train_rmse_cv_picking']))\n",
    "\n",
    "        #print('Test RMSE   : %f' % (t_print[key]['test_rmse_reporting']))\n",
    "        #print('Overall Mean: %f \\n' % (t_print[key]['test_mean_y_comparing']))\n",
    "\n",
    "        if(not t_print[key]['test_rmse_reportingA']==None):\n",
    "            print('A...TestA RMSE   : %f' % float(t_print[key]['test_rmse_reportingA'] or -1))\n",
    "            print('A...<<y_test_A Mean>>: %f \\n' % float(t_print[key]['test_mean_y_comparingA'] or -1))\n",
    "\n",
    "        if(not t_print[key]['test_rmse_reportingB']==None):\n",
    "            print('B...TestB RMSE   : %f' % float(t_print[key]['test_rmse_reportingB'] or -1))\n",
    "            print('B...<<y_test_B Mean>>: %f \\n' % float(t_print[key]['test_mean_y_comparingB'] or -1))\n",
    "\n",
    "        if(not t_print[key]['test_rmse_reportingC']==None):\n",
    "            print('C...TestC RMSE   : %f' % float(t_print[key]['test_rmse_reportingC'] or -1))\n",
    "            print('C...<<y_test_C Mean>>: %f \\n' % float(t_print[key]['test_mean_y_comparingC'] or -1))\n",
    "\n",
    "        if(not t_print[key]['test_rmse_reportingD']==None):\n",
    "            print('D...TestD RMSE   : %f' % float(t_print[key]['test_rmse_reportingD'] or -1))\n",
    "            print('D...<<y_test_D Mean>>: %f' % float(t_print[key]['test_mean_y_comparingD'] or -1))\n",
    "\n",
    "        print(80*'_')"
   ]
  },
  {
   "cell_type": "code",
   "execution_count": null,
   "metadata": {
    "collapsed": false
   },
   "outputs": [],
   "source": [
    "#6\n",
    "t=5\n",
    "functionList[t:t+1]"
   ]
  },
  {
   "cell_type": "code",
   "execution_count": null,
   "metadata": {
    "collapsed": false
   },
   "outputs": [],
   "source": [
    "for f in functionList[t:t+1]:\n",
    "    print(60*'#')\n",
    "    print(f)\n",
    "    print(60*'#')\n",
    "    \n",
    "    t_ = wrapper([ f ])\n",
    "\n",
    "    t_print = t_\n",
    "\n",
    "    for key in t_print.keys():\n",
    "        print(80*'_')\n",
    "        print(key)    \n",
    "\n",
    "        lasso_model = t_print[key]['model']\n",
    "        print('Model: %s' % (str(t_print[key]['model'])[:200]))\n",
    "        print('Train RMSE: %f \\n' % (t_print[key]['train_rmse_cv_picking']))\n",
    "\n",
    "        #print('Test RMSE   : %f' % (t_print[key]['test_rmse_reporting']))\n",
    "        #print('Overall Mean: %f \\n' % (t_print[key]['test_mean_y_comparing']))\n",
    "\n",
    "        if(not t_print[key]['test_rmse_reportingA']==None):\n",
    "            print('A...TestA RMSE   : %f' % float(t_print[key]['test_rmse_reportingA'] or -1))\n",
    "            print('A...<<y_test_A Mean>>: %f \\n' % float(t_print[key]['test_mean_y_comparingA'] or -1))\n",
    "\n",
    "        if(not t_print[key]['test_rmse_reportingB']==None):\n",
    "            print('B...TestB RMSE   : %f' % float(t_print[key]['test_rmse_reportingB'] or -1))\n",
    "            print('B...<<y_test_B Mean>>: %f \\n' % float(t_print[key]['test_mean_y_comparingB'] or -1))\n",
    "\n",
    "        if(not t_print[key]['test_rmse_reportingC']==None):\n",
    "            print('C...TestC RMSE   : %f' % float(t_print[key]['test_rmse_reportingC'] or -1))\n",
    "            print('C...<<y_test_C Mean>>: %f \\n' % float(t_print[key]['test_mean_y_comparingC'] or -1))\n",
    "\n",
    "        if(not t_print[key]['test_rmse_reportingD']==None):\n",
    "            print('D...TestD RMSE   : %f' % float(t_print[key]['test_rmse_reportingD'] or -1))\n",
    "            print('D...<<y_test_D Mean>>: %f' % float(t_print[key]['test_mean_y_comparingD'] or -1))\n",
    "\n",
    "        print(80*'_')"
   ]
  },
  {
   "cell_type": "code",
   "execution_count": null,
   "metadata": {
    "collapsed": false
   },
   "outputs": [],
   "source": [
    "for key in t_print.keys():\n",
    "        print(80*'_')\n",
    "        print(key)    \n",
    "\n",
    "        lasso_model = t_print[key]['model']\n",
    "        print('Model: %s' % (str(t_print[key]['model'])[:200]))"
   ]
  },
  {
   "cell_type": "code",
   "execution_count": null,
   "metadata": {
    "collapsed": true
   },
   "outputs": [],
   "source": []
  }
 ],
 "metadata": {
  "kernelspec": {
   "display_name": "Python 3",
   "language": "python",
   "name": "python3"
  },
  "language_info": {
   "codemirror_mode": {
    "name": "ipython",
    "version": 3
   },
   "file_extension": ".py",
   "mimetype": "text/x-python",
   "name": "python",
   "nbconvert_exporter": "python",
   "pygments_lexer": "ipython3",
   "version": "3.6.0"
  }
 },
 "nbformat": 4,
 "nbformat_minor": 2
}
