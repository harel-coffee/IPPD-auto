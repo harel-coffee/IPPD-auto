{
 "cells": [
  {
   "cell_type": "code",
   "execution_count": 1,
   "metadata": {
    "collapsed": true
   },
   "outputs": [],
   "source": [
    "import pandas as pd"
   ]
  },
  {
   "cell_type": "code",
   "execution_count": 2,
   "metadata": {
    "collapsed": true
   },
   "outputs": [],
   "source": [
    "feature_imp = {}"
   ]
  },
  {
   "cell_type": "code",
   "execution_count": 3,
   "metadata": {
    "collapsed": true
   },
   "outputs": [],
   "source": [
    "feature_imp['4c4']=pd.DataFrame()\n",
    "feature_imp['4c3']=pd.DataFrame()\n",
    "feature_imp['4c2']=pd.DataFrame()"
   ]
  },
  {
   "cell_type": "code",
   "execution_count": 4,
   "metadata": {
    "collapsed": true
   },
   "outputs": [],
   "source": [
    "#write to disk\n",
    "import pickle\n",
    "\n",
    "with open('feature_importance.pkl', 'wb') as output:\n",
    "    pickle.dump(feature_imp, output, pickle.HIGHEST_PROTOCOL)"
   ]
  },
  {
   "cell_type": "code",
   "execution_count": 5,
   "metadata": {
    "collapsed": true
   },
   "outputs": [],
   "source": [
    "#load from disk\n",
    "with open('feature_importance.pkl', 'rb') as input:\n",
    "    features_dict = pickle.load(input)"
   ]
  },
  {
   "cell_type": "code",
   "execution_count": 2,
   "metadata": {
    "collapsed": false
   },
   "outputs": [
    {
     "ename": "ImportError",
     "evalue": "No module named 'seaborn'",
     "output_type": "error",
     "traceback": [
      "\u001b[0;31m---------------------------------------------------------------------------\u001b[0m",
      "\u001b[0;31mImportError\u001b[0m                               Traceback (most recent call last)",
      "\u001b[0;32m<ipython-input-2-ed9806ce3570>\u001b[0m in \u001b[0;36m<module>\u001b[0;34m()\u001b[0m\n\u001b[0;32m----> 1\u001b[0;31m \u001b[0;32mimport\u001b[0m \u001b[0mseaborn\u001b[0m \u001b[0;32mas\u001b[0m \u001b[0msns\u001b[0m\u001b[0;34m\u001b[0m\u001b[0m\n\u001b[0m",
      "\u001b[0;31mImportError\u001b[0m: No module named 'seaborn'"
     ]
    }
   ],
   "source": [
    "import seaborn as sns"
   ]
  },
  {
   "cell_type": "code",
   "execution_count": 4,
   "metadata": {
    "collapsed": false
   },
   "outputs": [
    {
     "name": "stdout",
     "output_type": "stream",
     "text": [
      "4C4_SVRLinearCVModel_tuned_ABCD.pickle\r\n",
      "4C4_SVRPolyCVModel_tuned_ABCD.pickle\r\n",
      "4C4_SVRRbfCVModel_tuned_ABCD.pickle\r\n",
      "4C4_SVRSigmoidCVModel_tuned_ABCD.pickle\r\n",
      "4C4_gb_tuned_ABCD.pickle\r\n",
      "4C4_lasso_tuned_ABCD.pickle\r\n",
      "4C4_rf_tuned_ABCD.pickle\r\n",
      "4C4_ridge_tuned_ABCD.pickle\r\n"
     ]
    }
   ],
   "source": [
    "!ls -1 4C4*.pickle"
   ]
  },
  {
   "cell_type": "code",
   "execution_count": 6,
   "metadata": {
    "collapsed": false
   },
   "outputs": [],
   "source": [
    "c4 = ['4C4_SVRLinearCVModel_tuned_ABCD.pickle',\n",
    "'4C4_SVRPolyCVModel_tuned_ABCD.pickle',\n",
    "'4C4_SVRRbfCVModel_tuned_ABCD.pickle',\n",
    "'4C4_SVRSigmoidCVModel_tuned_ABCD.pickle',\n",
    "'4C4_gb_tuned_ABCD.pickle',\n",
    "'4C4_lasso_tuned_ABCD.pickle',\n",
    "'4C4_rf_tuned_ABCD.pickle',\n",
    "'4C4_ridge_tuned_ABCD.pickle',]"
   ]
  },
  {
   "cell_type": "code",
   "execution_count": 28,
   "metadata": {
    "collapsed": false
   },
   "outputs": [
    {
     "name": "stdout",
     "output_type": "stream",
     "text": [
      "SVR(C=1.0, cache_size=204800, coef0=1e-10, degree=\n",
      "model.feature_importances_\n",
      "model.coef_\n",
      "1\n",
      "____________________________________________________________\n",
      "SVR(C=1.0, cache_size=204800, coef0=2.154434690031\n",
      "model.feature_importances_\n",
      "model.coef_\n",
      "____________________________________________________________\n",
      "SVR(C=1.0, cache_size=204800, coef0=1e-10, degree=\n",
      "model.feature_importances_\n",
      "model.coef_\n",
      "____________________________________________________________\n",
      "SVR(C=1.0, cache_size=204800, coef0=1.0, degree=3,\n",
      "model.feature_importances_\n",
      "model.coef_\n",
      "____________________________________________________________\n",
      "GradientBoostingRegressor(alpha=0.9, criterion='fr\n",
      "model.feature_importances_\n",
      "57\n",
      "model.coef_\n",
      "____________________________________________________________\n",
      "Lasso(alpha=0.019306977288832496, copy_X=True, fit\n",
      "model.feature_importances_\n",
      "model.coef_\n",
      "57\n",
      "____________________________________________________________\n",
      "RandomForestRegressor(bootstrap=True, criterion='m\n",
      "model.feature_importances_\n",
      "57\n",
      "model.coef_\n",
      "____________________________________________________________\n",
      "Ridge(alpha=1e-35, copy_X=True, fit_intercept=True\n",
      "model.feature_importances_\n",
      "model.coef_\n",
      "57\n",
      "____________________________________________________________\n"
     ]
    }
   ],
   "source": [
    "import pickle \n",
    "for fname in c4:\n",
    "    with open(fname, 'rb') as input:\n",
    "        model = pickle.load(input)\n",
    "        print(str(model)[:50])\n",
    "        try:\n",
    "            try:\n",
    "                \n",
    "                print('model.feature_importances_')\n",
    "                print(len(model.feature_importances_))\n",
    "            except:\n",
    "                \n",
    "                pass\n",
    "        \n",
    "            try:\n",
    "                \n",
    "                print('model.coef_')\n",
    "                print(len(model.coef_))\n",
    "            except:\n",
    "                \n",
    "                pass\n",
    "        except:\n",
    "            pass\n",
    "        print(60*'_')"
   ]
  },
  {
   "cell_type": "code",
   "execution_count": null,
   "metadata": {
    "collapsed": true
   },
   "outputs": [],
   "source": []
  }
 ],
 "metadata": {
  "kernelspec": {
   "display_name": "Python 3",
   "language": "python",
   "name": "python3"
  },
  "language_info": {
   "codemirror_mode": {
    "name": "ipython",
    "version": 3
   },
   "file_extension": ".py",
   "mimetype": "text/x-python",
   "name": "python",
   "nbconvert_exporter": "python",
   "pygments_lexer": "ipython3",
   "version": "3.4.3"
  }
 },
 "nbformat": 4,
 "nbformat_minor": 2
}
