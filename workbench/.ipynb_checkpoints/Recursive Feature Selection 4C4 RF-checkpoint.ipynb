{
 "cells": [
  {
   "cell_type": "code",
   "execution_count": 18,
   "metadata": {
    "collapsed": true
   },
   "outputs": [],
   "source": [
    "# We will use RFECV with Random Forest Regressor and 4C4 data set\n",
    "\n",
    "from sklearn.metrics import mean_squared_error \n",
    "import numpy as np\n",
    "import sys"
   ]
  },
  {
   "cell_type": "code",
   "execution_count": 19,
   "metadata": {
    "collapsed": true
   },
   "outputs": [],
   "source": [
    "def rmse_scorer(model, X, y):\n",
    "    return np.sqrt(mse_scorer(model, X, y))"
   ]
  },
  {
   "cell_type": "markdown",
   "metadata": {},
   "source": [
    "def mse_scorer(model, X, y):    \n",
    "    y_predict = model.predict(X)\n",
    "    if( np.isnan(y_predict).any() ):\n",
    "        return sys.maxsize\n",
    "    return mean_squared_error(y, y_predict)"
   ]
  },
  {
   "cell_type": "code",
   "execution_count": 20,
   "metadata": {
    "collapsed": true
   },
   "outputs": [],
   "source": [
    "def mse_scorer(model, X, y):\n",
    "    return mean_squared_error(y, model.predict(X))"
   ]
  },
  {
   "cell_type": "code",
   "execution_count": 21,
   "metadata": {
    "collapsed": true
   },
   "outputs": [],
   "source": [
    "with open('4C4_rf_tuned_ABCD.pickle','rb') as handle:\n",
    "    mo = pickle.load(handle)"
   ]
  },
  {
   "cell_type": "code",
   "execution_count": 22,
   "metadata": {
    "collapsed": false
   },
   "outputs": [
    {
     "data": {
      "text/plain": [
       "RandomForestRegressor(bootstrap=True, criterion='mse', max_depth=None,\n",
       "           max_features='auto', max_leaf_nodes=None,\n",
       "           min_impurity_split=1e-07, min_samples_leaf=1,\n",
       "           min_samples_split=2, min_weight_fraction_leaf=0.0,\n",
       "           n_estimators=2000, n_jobs=-1, oob_score=True, random_state=None,\n",
       "           verbose=0, warm_start=False)"
      ]
     },
     "execution_count": 22,
     "metadata": {},
     "output_type": "execute_result"
    }
   ],
   "source": [
    "mo"
   ]
  },
  {
   "cell_type": "code",
   "execution_count": 23,
   "metadata": {
    "collapsed": false
   },
   "outputs": [],
   "source": [
    "import pickle\n",
    "\n",
    "with open('datasetIPPD.pickle', 'rb') as handle:\n",
    "    data = pickle.load(handle)\n",
    "\n",
    "#extract X_train, y_train, X_test, t_test\n",
    "X_train  = data['X_train']\n",
    "y_train = data['y_train']\n",
    "X_test   = data['X_test']\n",
    "y_test  = data['y_test']"
   ]
  },
  {
   "cell_type": "code",
   "execution_count": 24,
   "metadata": {
    "collapsed": false
   },
   "outputs": [],
   "source": [
    "from sklearn.ensemble.forest import RandomForestRegressor\n",
    "model = RandomForestRegressor(n_estimators=2000, criterion='mse', \n",
    "                                                  max_depth=None, \n",
    "                                                  min_samples_split=2, \n",
    "                                                  min_samples_leaf=1, \n",
    "                                                  min_weight_fraction_leaf=0.0, \n",
    "                                                  max_features='auto', \n",
    "                                                  max_leaf_nodes=None, \n",
    "                                                  min_impurity_split=1e-07, \n",
    "                                                  bootstrap=True, oob_score=True, \n",
    "                                                  n_jobs=-1, random_state=None, \n",
    "                                                  verbose=0, warm_start=False)"
   ]
  },
  {
   "cell_type": "code",
   "execution_count": null,
   "metadata": {
    "collapsed": false
   },
   "outputs": [],
   "source": [
    "from sklearn.feature_selection import RFECV\n",
    "\n",
    "rfecv = RFECV(model, step=1, cv=3, scoring = mse_scorer) #remove 1 feature at each step\n",
    "rfecv.fit(X_train, y_train)"
   ]
  },
  {
   "cell_type": "code",
   "execution_count": null,
   "metadata": {
    "collapsed": true
   },
   "outputs": [],
   "source": [
    "print(\"Optimal number of features : %d\" % rfecv.n_features_)\n",
    "\n",
    "# Plot number of features VS. cross-validation scores\n",
    "plt.figure(figsize=(12, 15))\n",
    "plt.xlabel(\"Number of features selected\")\n",
    "plt.ylabel(\"Cross validation score\")\n",
    "plt.plot(range(1, len(rfecv.grid_scores_) + 1), rfecv.grid_scores_)\n",
    "plt.show()"
   ]
  },
  {
   "cell_type": "code",
   "execution_count": null,
   "metadata": {
    "collapsed": true
   },
   "outputs": [],
   "source": [
    "if('y_test_A' in data):\n",
    "    print('A: %d' % len(data['y_test_A']))    \n",
    "    reporting_testscoreA = rmse_scorer(rfecv, data['X_test_A'], data['y_test_A'])\n",
    "    test_mean_y_comparingA = data['y_test_A'].mean()\n",
    "    print('reporting_testscoreA %f' % reporting_testscoreA)\n",
    "    print('test_mean_y_comparingA %f' % test_mean_y_comparingA)"
   ]
  },
  {
   "cell_type": "code",
   "execution_count": null,
   "metadata": {
    "collapsed": true
   },
   "outputs": [],
   "source": [
    "if('y_test_B' in data):\n",
    "    print('B: %d' % len(data['y_test_B']))    \n",
    "    reporting_testscoreB = rmse_scorer(rfecv, data['X_test_B'], data['y_test_B'])\n",
    "    test_mean_y_comparingB = data['y_test_B'].mean()\n",
    "    print('reporting_testscoreB %f' % reporting_testscoreB)\n",
    "    print('test_mean_y_comparingB %f' % test_mean_y_comparingB)"
   ]
  },
  {
   "cell_type": "code",
   "execution_count": null,
   "metadata": {
    "collapsed": true
   },
   "outputs": [],
   "source": [
    "if('y_test_C' in data):\n",
    "    print('C: %d' % len(data['y_test_C']))    \n",
    "    reporting_testscoreC = rmse_scorer(rfecv, data['X_test_C'], data['y_test_C'])\n",
    "    test_mean_y_comparingC = data['y_test_C'].mean()\n",
    "    print('reporting_testscoreC %f' % reporting_testscoreC)\n",
    "    print('test_mean_y_comparingC %f' % test_mean_y_comparingC)"
   ]
  },
  {
   "cell_type": "code",
   "execution_count": null,
   "metadata": {
    "collapsed": true
   },
   "outputs": [],
   "source": [
    "if('y_test_D' in data):\n",
    "    print('D: %d' % len(data['y_test_D']))    \n",
    "    reporting_testscoreD = rmse_scorer(rfecv, data['X_test_D'], data['y_test_D'])\n",
    "    test_mean_y_comparingD = data['y_test_D'].mean()\n",
    "    print('reporting_testscoreD %f' % reporting_testscoreD)\n",
    "    print('test_mean_y_comparingD %f' % test_mean_y_comparingD)"
   ]
  }
 ],
 "metadata": {
  "kernelspec": {
   "display_name": "Python 3",
   "language": "python",
   "name": "python3"
  },
  "language_info": {
   "codemirror_mode": {
    "name": "ipython",
    "version": 3
   },
   "file_extension": ".py",
   "mimetype": "text/x-python",
   "name": "python",
   "nbconvert_exporter": "python",
   "pygments_lexer": "ipython3",
   "version": "3.6.0"
  }
 },
 "nbformat": 4,
 "nbformat_minor": 2
}
