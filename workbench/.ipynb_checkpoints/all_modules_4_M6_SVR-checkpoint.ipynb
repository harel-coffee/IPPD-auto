{
 "cells": [
  {
   "cell_type": "markdown",
   "metadata": {},
   "source": [
    "# M6. Epsilon-Support Vector Regression ('rbf' and 'linear')"
   ]
  },
  {
   "cell_type": "markdown",
   "metadata": {},
   "source": [
    "### Grid Search with Cross Validation"
   ]
  },
  {
   "cell_type": "code",
   "execution_count": 10,
   "metadata": {
    "collapsed": true
   },
   "outputs": [],
   "source": [
    "# Read Back \n",
    "import pickle\n",
    "\n",
    "with open('datasetIPPD.pickle', 'rb') as handle:\n",
    "    data = pickle.load(handle)"
   ]
  },
  {
   "cell_type": "code",
   "execution_count": 11,
   "metadata": {
    "collapsed": false
   },
   "outputs": [
    {
     "data": {
      "text/plain": [
       "dict_keys(['X_train', 'y_train', 'X_test', 'y_test'])"
      ]
     },
     "execution_count": 11,
     "metadata": {},
     "output_type": "execute_result"
    }
   ],
   "source": [
    "data.keys()"
   ]
  },
  {
   "cell_type": "code",
   "execution_count": 12,
   "metadata": {
    "collapsed": false
   },
   "outputs": [
    {
     "data": {
      "text/plain": [
       "(256, 65)"
      ]
     },
     "execution_count": 12,
     "metadata": {},
     "output_type": "execute_result"
    }
   ],
   "source": [
    "X_train = data['X_train']\n",
    "y_train = data['y_train']\n",
    "\n",
    "X_test = data['X_test']\n",
    "y_test = data['y_test']\n",
    "\n",
    "len(y_train), len(y_test)"
   ]
  },
  {
   "cell_type": "code",
   "execution_count": 13,
   "metadata": {
    "collapsed": false
   },
   "outputs": [
    {
     "name": "stdout",
     "output_type": "stream",
     "text": [
      "Automatically created module for IPython interactive environment\n"
     ]
    }
   ],
   "source": [
    "from __future__ import print_function\n",
    "\n",
    "from sklearn import datasets\n",
    "from sklearn.model_selection import train_test_split\n",
    "from sklearn.model_selection import GridSearchCV\n",
    "from sklearn.metrics import classification_report\n",
    "from sklearn.svm import SVR\n",
    "\n",
    "print(__doc__)"
   ]
  },
  {
   "cell_type": "code",
   "execution_count": 35,
   "metadata": {
    "collapsed": true
   },
   "outputs": [],
   "source": [
    "from sklearn.metrics import mean_squared_error \n",
    "import numpy as np\n",
    "def rmse_scorer(model, X, y): \n",
    "    y_predict = model.predict(X)\n",
    "    k = np.sqrt(mean_squared_error(y, y_predict))\n",
    "    return k"
   ]
  },
  {
   "cell_type": "markdown",
   "metadata": {},
   "source": [
    "## Preprocessing is a must for SVR"
   ]
  },
  {
   "cell_type": "code",
   "execution_count": 34,
   "metadata": {
    "collapsed": true
   },
   "outputs": [],
   "source": [
    "from sklearn import preprocessing\n",
    "X_train = preprocessing.normalize(X_train, norm='l1')"
   ]
  },
  {
   "cell_type": "code",
   "execution_count": 28,
   "metadata": {
    "collapsed": false
   },
   "outputs": [
    {
     "name": "stdout",
     "output_type": "stream",
     "text": [
      "# Tuning hyper-parameters for rmse\n",
      "\n",
      "Starting clf.fit(X_train, y_train)\n",
      "\n",
      "Best parameters set found on development set:\n",
      "\n",
      "{'C': 1e-05, 'epsilon': 1e-05, 'gamma': 1e-05, 'kernel': 'rbf'}\n"
     ]
    }
   ],
   "source": [
    "# Set the parameters by cross-validation\n",
    "\n",
    "# sklearn.svm.SVR: The free parameters in the model are C and epsilon.\n",
    "\n",
    "tuned_parameters = []\n",
    "tuned_parameters.append( {'kernel': ['linear'], 'C': [.2, .4,.6, .8, 1, 100, 1000], \n",
    "                          'epsilon':[.15, 0.1, .05, 0.2] })\n",
    "\n",
    "tuned_parameters.append({'kernel': ['rbf'], 'gamma': [1e-5, 1e-4, 1e-3, 1e-4,1e-2,1e-1], \n",
    "                         'C': [1e-5, 1e-4, 1e-3, 1e-4,1e-2,1e-1], \n",
    "                         'epsilon':[1e-5, 1e-4, 1e-3, 1e-4,1e-2,1e-1] })\n",
    "\n",
    "scores = ['rmse']  #, 'recall']\n",
    "\n",
    "for score in scores:\n",
    "    print(\"# Tuning hyper-parameters for %s\" % score)\n",
    "    print()\n",
    "\n",
    "    clf = GridSearchCV(SVR(C=1, epsilon=0.001), tuned_parameters, cv=3, n_jobs=-1, scoring=rmse_scorer)\n",
    "    print('Starting clf.fit(X_train, y_train)')\n",
    "    \n",
    "    clf.fit(X_train, y_train)\n",
    "\n",
    "    print(\"\\nBest parameters set found on development set:\")\n",
    "    print()\n",
    "    print(clf.best_params_)\n"
   ]
  },
  {
   "cell_type": "markdown",
   "metadata": {},
   "source": [
    "################################################################################\n",
    "################################################################################\n",
    "############################  Select Model based on this score #####################################\n",
    "################################################################################\n",
    "################################################################################"
   ]
  },
  {
   "cell_type": "code",
   "execution_count": 29,
   "metadata": {
    "collapsed": false
   },
   "outputs": [
    {
     "name": "stdout",
     "output_type": "stream",
     "text": [
      "SVR(C=1e-05, cache_size=200, coef0=0.0, degree=3, epsilon=1e-05, gamma=1e-05,\n",
      "  kernel='rbf', max_iter=-1, shrinking=True, tol=0.001, verbose=False)\n",
      "\n",
      "1032.95723148\n"
     ]
    }
   ],
   "source": [
    "print(clf.best_estimator_)\n",
    "print()\n",
    "print((clf.best_score_))"
   ]
  },
  {
   "cell_type": "code",
   "execution_count": 30,
   "metadata": {
    "collapsed": false
   },
   "outputs": [],
   "source": [
    "#clf.cv_results_"
   ]
  },
  {
   "cell_type": "code",
   "execution_count": 31,
   "metadata": {
    "collapsed": false
   },
   "outputs": [
    {
     "name": "stdout",
     "output_type": "stream",
     "text": [
      "\n",
      "Grid scores on development set:\n",
      "\n",
      "Paramters: {'C': 0.2, 'epsilon': 0.15, 'kernel': 'linear'} \t:mean+/-std: 1032.952 (+/-115.382)\n",
      "Paramters: {'C': 0.2, 'epsilon': 0.1, 'kernel': 'linear'} \t:mean+/-std: 1032.952 (+/-115.382)\n",
      "Paramters: {'C': 0.2, 'epsilon': 0.05, 'kernel': 'linear'} \t:mean+/-std: 1032.952 (+/-115.382)\n",
      "Paramters: {'C': 0.2, 'epsilon': 0.2, 'kernel': 'linear'} \t:mean+/-std: 1032.952 (+/-115.382)\n",
      "Paramters: {'C': 0.4, 'epsilon': 0.15, 'kernel': 'linear'} \t:mean+/-std: 1032.948 (+/-115.382)\n",
      "Paramters: {'C': 0.4, 'epsilon': 0.1, 'kernel': 'linear'} \t:mean+/-std: 1032.948 (+/-115.382)\n",
      "Paramters: {'C': 0.4, 'epsilon': 0.05, 'kernel': 'linear'} \t:mean+/-std: 1032.948 (+/-115.382)\n",
      "Paramters: {'C': 0.4, 'epsilon': 0.2, 'kernel': 'linear'} \t:mean+/-std: 1032.948 (+/-115.382)\n",
      "Paramters: {'C': 0.6, 'epsilon': 0.15, 'kernel': 'linear'} \t:mean+/-std: 1032.943 (+/-115.383)\n",
      "Paramters: {'C': 0.6, 'epsilon': 0.1, 'kernel': 'linear'} \t:mean+/-std: 1032.943 (+/-115.383)\n",
      "Paramters: {'C': 0.6, 'epsilon': 0.05, 'kernel': 'linear'} \t:mean+/-std: 1032.943 (+/-115.383)\n",
      "Paramters: {'C': 0.6, 'epsilon': 0.2, 'kernel': 'linear'} \t:mean+/-std: 1032.943 (+/-115.383)\n",
      "Paramters: {'C': 0.8, 'epsilon': 0.15, 'kernel': 'linear'} \t:mean+/-std: 1032.938 (+/-115.384)\n",
      "Paramters: {'C': 0.8, 'epsilon': 0.1, 'kernel': 'linear'} \t:mean+/-std: 1032.938 (+/-115.384)\n",
      "Paramters: {'C': 0.8, 'epsilon': 0.05, 'kernel': 'linear'} \t:mean+/-std: 1032.938 (+/-115.384)\n",
      "Paramters: {'C': 0.8, 'epsilon': 0.2, 'kernel': 'linear'} \t:mean+/-std: 1032.938 (+/-115.384)\n",
      "Paramters: {'C': 1, 'epsilon': 0.15, 'kernel': 'linear'} \t:mean+/-std: 1032.933 (+/-115.384)\n",
      "Paramters: {'C': 1, 'epsilon': 0.1, 'kernel': 'linear'} \t:mean+/-std: 1032.933 (+/-115.384)\n",
      "Paramters: {'C': 1, 'epsilon': 0.05, 'kernel': 'linear'} \t:mean+/-std: 1032.933 (+/-115.384)\n",
      "Paramters: {'C': 1, 'epsilon': 0.2, 'kernel': 'linear'} \t:mean+/-std: 1032.933 (+/-115.384)\n",
      "Paramters: {'C': 100, 'epsilon': 0.15, 'kernel': 'linear'} \t:mean+/-std: 1030.744 (+/-116.093)\n",
      "Paramters: {'C': 100, 'epsilon': 0.1, 'kernel': 'linear'} \t:mean+/-std: 1030.744 (+/-116.093)\n",
      "Paramters: {'C': 100, 'epsilon': 0.05, 'kernel': 'linear'} \t:mean+/-std: 1030.744 (+/-116.093)\n",
      "Paramters: {'C': 100, 'epsilon': 0.2, 'kernel': 'linear'} \t:mean+/-std: 1030.744 (+/-116.093)\n",
      "Paramters: {'C': 1000, 'epsilon': 0.15, 'kernel': 'linear'} \t:mean+/-std: 1010.249 (+/-120.207)\n",
      "Paramters: {'C': 1000, 'epsilon': 0.1, 'kernel': 'linear'} \t:mean+/-std: 1010.249 (+/-120.207)\n",
      "Paramters: {'C': 1000, 'epsilon': 0.05, 'kernel': 'linear'} \t:mean+/-std: 1010.249 (+/-120.207)\n",
      "Paramters: {'C': 1000, 'epsilon': 0.2, 'kernel': 'linear'} \t:mean+/-std: 1010.249 (+/-120.207)\n",
      "Paramters: {'C': 1e-05, 'epsilon': 1e-05, 'gamma': 1e-05, 'kernel': 'rbf'} \t:mean+/-std: 1032.957 (+/-115.381)\n",
      "Paramters: {'C': 1e-05, 'epsilon': 1e-05, 'gamma': 0.0001, 'kernel': 'rbf'} \t:mean+/-std: 1032.957 (+/-115.381)\n",
      "Paramters: {'C': 1e-05, 'epsilon': 1e-05, 'gamma': 0.001, 'kernel': 'rbf'} \t:mean+/-std: 1032.957 (+/-115.381)\n",
      "Paramters: {'C': 1e-05, 'epsilon': 1e-05, 'gamma': 0.0001, 'kernel': 'rbf'} \t:mean+/-std: 1032.957 (+/-115.381)\n",
      "Paramters: {'C': 1e-05, 'epsilon': 1e-05, 'gamma': 0.01, 'kernel': 'rbf'} \t:mean+/-std: 1032.957 (+/-115.381)\n",
      "Paramters: {'C': 1e-05, 'epsilon': 1e-05, 'gamma': 0.1, 'kernel': 'rbf'} \t:mean+/-std: 1032.957 (+/-115.381)\n",
      "Paramters: {'C': 1e-05, 'epsilon': 0.0001, 'gamma': 1e-05, 'kernel': 'rbf'} \t:mean+/-std: 1032.957 (+/-115.381)\n",
      "Paramters: {'C': 1e-05, 'epsilon': 0.0001, 'gamma': 0.0001, 'kernel': 'rbf'} \t:mean+/-std: 1032.957 (+/-115.381)\n",
      "Paramters: {'C': 1e-05, 'epsilon': 0.0001, 'gamma': 0.001, 'kernel': 'rbf'} \t:mean+/-std: 1032.957 (+/-115.381)\n",
      "Paramters: {'C': 1e-05, 'epsilon': 0.0001, 'gamma': 0.0001, 'kernel': 'rbf'} \t:mean+/-std: 1032.957 (+/-115.381)\n",
      "Paramters: {'C': 1e-05, 'epsilon': 0.0001, 'gamma': 0.01, 'kernel': 'rbf'} \t:mean+/-std: 1032.957 (+/-115.381)\n",
      "Paramters: {'C': 1e-05, 'epsilon': 0.0001, 'gamma': 0.1, 'kernel': 'rbf'} \t:mean+/-std: 1032.957 (+/-115.381)\n",
      "Paramters: {'C': 1e-05, 'epsilon': 0.001, 'gamma': 1e-05, 'kernel': 'rbf'} \t:mean+/-std: 1032.957 (+/-115.381)\n",
      "Paramters: {'C': 1e-05, 'epsilon': 0.001, 'gamma': 0.0001, 'kernel': 'rbf'} \t:mean+/-std: 1032.957 (+/-115.381)\n",
      "Paramters: {'C': 1e-05, 'epsilon': 0.001, 'gamma': 0.001, 'kernel': 'rbf'} \t:mean+/-std: 1032.957 (+/-115.381)\n",
      "Paramters: {'C': 1e-05, 'epsilon': 0.001, 'gamma': 0.0001, 'kernel': 'rbf'} \t:mean+/-std: 1032.957 (+/-115.381)\n",
      "Paramters: {'C': 1e-05, 'epsilon': 0.001, 'gamma': 0.01, 'kernel': 'rbf'} \t:mean+/-std: 1032.957 (+/-115.381)\n",
      "Paramters: {'C': 1e-05, 'epsilon': 0.001, 'gamma': 0.1, 'kernel': 'rbf'} \t:mean+/-std: 1032.957 (+/-115.381)\n",
      "Paramters: {'C': 1e-05, 'epsilon': 0.0001, 'gamma': 1e-05, 'kernel': 'rbf'} \t:mean+/-std: 1032.957 (+/-115.381)\n",
      "Paramters: {'C': 1e-05, 'epsilon': 0.0001, 'gamma': 0.0001, 'kernel': 'rbf'} \t:mean+/-std: 1032.957 (+/-115.381)\n",
      "Paramters: {'C': 1e-05, 'epsilon': 0.0001, 'gamma': 0.001, 'kernel': 'rbf'} \t:mean+/-std: 1032.957 (+/-115.381)\n",
      "Paramters: {'C': 1e-05, 'epsilon': 0.0001, 'gamma': 0.0001, 'kernel': 'rbf'} \t:mean+/-std: 1032.957 (+/-115.381)\n",
      "Paramters: {'C': 1e-05, 'epsilon': 0.0001, 'gamma': 0.01, 'kernel': 'rbf'} \t:mean+/-std: 1032.957 (+/-115.381)\n",
      "Paramters: {'C': 1e-05, 'epsilon': 0.0001, 'gamma': 0.1, 'kernel': 'rbf'} \t:mean+/-std: 1032.957 (+/-115.381)\n",
      "Paramters: {'C': 1e-05, 'epsilon': 0.01, 'gamma': 1e-05, 'kernel': 'rbf'} \t:mean+/-std: 1032.957 (+/-115.381)\n",
      "Paramters: {'C': 1e-05, 'epsilon': 0.01, 'gamma': 0.0001, 'kernel': 'rbf'} \t:mean+/-std: 1032.957 (+/-115.381)\n",
      "Paramters: {'C': 1e-05, 'epsilon': 0.01, 'gamma': 0.001, 'kernel': 'rbf'} \t:mean+/-std: 1032.957 (+/-115.381)\n",
      "Paramters: {'C': 1e-05, 'epsilon': 0.01, 'gamma': 0.0001, 'kernel': 'rbf'} \t:mean+/-std: 1032.957 (+/-115.381)\n",
      "Paramters: {'C': 1e-05, 'epsilon': 0.01, 'gamma': 0.01, 'kernel': 'rbf'} \t:mean+/-std: 1032.957 (+/-115.381)\n",
      "Paramters: {'C': 1e-05, 'epsilon': 0.01, 'gamma': 0.1, 'kernel': 'rbf'} \t:mean+/-std: 1032.957 (+/-115.381)\n",
      "Paramters: {'C': 1e-05, 'epsilon': 0.1, 'gamma': 1e-05, 'kernel': 'rbf'} \t:mean+/-std: 1032.957 (+/-115.381)\n",
      "Paramters: {'C': 1e-05, 'epsilon': 0.1, 'gamma': 0.0001, 'kernel': 'rbf'} \t:mean+/-std: 1032.957 (+/-115.381)\n",
      "Paramters: {'C': 1e-05, 'epsilon': 0.1, 'gamma': 0.001, 'kernel': 'rbf'} \t:mean+/-std: 1032.957 (+/-115.381)\n",
      "Paramters: {'C': 1e-05, 'epsilon': 0.1, 'gamma': 0.0001, 'kernel': 'rbf'} \t:mean+/-std: 1032.957 (+/-115.381)\n",
      "Paramters: {'C': 1e-05, 'epsilon': 0.1, 'gamma': 0.01, 'kernel': 'rbf'} \t:mean+/-std: 1032.957 (+/-115.381)\n",
      "Paramters: {'C': 1e-05, 'epsilon': 0.1, 'gamma': 0.1, 'kernel': 'rbf'} \t:mean+/-std: 1032.957 (+/-115.381)\n",
      "Paramters: {'C': 0.0001, 'epsilon': 1e-05, 'gamma': 1e-05, 'kernel': 'rbf'} \t:mean+/-std: 1032.957 (+/-115.381)\n",
      "Paramters: {'C': 0.0001, 'epsilon': 1e-05, 'gamma': 0.0001, 'kernel': 'rbf'} \t:mean+/-std: 1032.957 (+/-115.381)\n",
      "Paramters: {'C': 0.0001, 'epsilon': 1e-05, 'gamma': 0.001, 'kernel': 'rbf'} \t:mean+/-std: 1032.957 (+/-115.381)\n",
      "Paramters: {'C': 0.0001, 'epsilon': 1e-05, 'gamma': 0.0001, 'kernel': 'rbf'} \t:mean+/-std: 1032.957 (+/-115.381)\n",
      "Paramters: {'C': 0.0001, 'epsilon': 1e-05, 'gamma': 0.01, 'kernel': 'rbf'} \t:mean+/-std: 1032.957 (+/-115.381)\n",
      "Paramters: {'C': 0.0001, 'epsilon': 1e-05, 'gamma': 0.1, 'kernel': 'rbf'} \t:mean+/-std: 1032.957 (+/-115.381)\n",
      "Paramters: {'C': 0.0001, 'epsilon': 0.0001, 'gamma': 1e-05, 'kernel': 'rbf'} \t:mean+/-std: 1032.957 (+/-115.381)\n",
      "Paramters: {'C': 0.0001, 'epsilon': 0.0001, 'gamma': 0.0001, 'kernel': 'rbf'} \t:mean+/-std: 1032.957 (+/-115.381)\n",
      "Paramters: {'C': 0.0001, 'epsilon': 0.0001, 'gamma': 0.001, 'kernel': 'rbf'} \t:mean+/-std: 1032.957 (+/-115.381)\n",
      "Paramters: {'C': 0.0001, 'epsilon': 0.0001, 'gamma': 0.0001, 'kernel': 'rbf'} \t:mean+/-std: 1032.957 (+/-115.381)\n",
      "Paramters: {'C': 0.0001, 'epsilon': 0.0001, 'gamma': 0.01, 'kernel': 'rbf'} \t:mean+/-std: 1032.957 (+/-115.381)\n",
      "Paramters: {'C': 0.0001, 'epsilon': 0.0001, 'gamma': 0.1, 'kernel': 'rbf'} \t:mean+/-std: 1032.957 (+/-115.381)\n",
      "Paramters: {'C': 0.0001, 'epsilon': 0.001, 'gamma': 1e-05, 'kernel': 'rbf'} \t:mean+/-std: 1032.957 (+/-115.381)\n",
      "Paramters: {'C': 0.0001, 'epsilon': 0.001, 'gamma': 0.0001, 'kernel': 'rbf'} \t:mean+/-std: 1032.957 (+/-115.381)\n",
      "Paramters: {'C': 0.0001, 'epsilon': 0.001, 'gamma': 0.001, 'kernel': 'rbf'} \t:mean+/-std: 1032.957 (+/-115.381)\n",
      "Paramters: {'C': 0.0001, 'epsilon': 0.001, 'gamma': 0.0001, 'kernel': 'rbf'} \t:mean+/-std: 1032.957 (+/-115.381)\n",
      "Paramters: {'C': 0.0001, 'epsilon': 0.001, 'gamma': 0.01, 'kernel': 'rbf'} \t:mean+/-std: 1032.957 (+/-115.381)\n",
      "Paramters: {'C': 0.0001, 'epsilon': 0.001, 'gamma': 0.1, 'kernel': 'rbf'} \t:mean+/-std: 1032.957 (+/-115.381)\n",
      "Paramters: {'C': 0.0001, 'epsilon': 0.0001, 'gamma': 1e-05, 'kernel': 'rbf'} \t:mean+/-std: 1032.957 (+/-115.381)\n",
      "Paramters: {'C': 0.0001, 'epsilon': 0.0001, 'gamma': 0.0001, 'kernel': 'rbf'} \t:mean+/-std: 1032.957 (+/-115.381)\n",
      "Paramters: {'C': 0.0001, 'epsilon': 0.0001, 'gamma': 0.001, 'kernel': 'rbf'} \t:mean+/-std: 1032.957 (+/-115.381)\n",
      "Paramters: {'C': 0.0001, 'epsilon': 0.0001, 'gamma': 0.0001, 'kernel': 'rbf'} \t:mean+/-std: 1032.957 (+/-115.381)\n",
      "Paramters: {'C': 0.0001, 'epsilon': 0.0001, 'gamma': 0.01, 'kernel': 'rbf'} \t:mean+/-std: 1032.957 (+/-115.381)\n",
      "Paramters: {'C': 0.0001, 'epsilon': 0.0001, 'gamma': 0.1, 'kernel': 'rbf'} \t:mean+/-std: 1032.957 (+/-115.381)\n",
      "Paramters: {'C': 0.0001, 'epsilon': 0.01, 'gamma': 1e-05, 'kernel': 'rbf'} \t:mean+/-std: 1032.957 (+/-115.381)\n",
      "Paramters: {'C': 0.0001, 'epsilon': 0.01, 'gamma': 0.0001, 'kernel': 'rbf'} \t:mean+/-std: 1032.957 (+/-115.381)\n",
      "Paramters: {'C': 0.0001, 'epsilon': 0.01, 'gamma': 0.001, 'kernel': 'rbf'} \t:mean+/-std: 1032.957 (+/-115.381)\n",
      "Paramters: {'C': 0.0001, 'epsilon': 0.01, 'gamma': 0.0001, 'kernel': 'rbf'} \t:mean+/-std: 1032.957 (+/-115.381)\n",
      "Paramters: {'C': 0.0001, 'epsilon': 0.01, 'gamma': 0.01, 'kernel': 'rbf'} \t:mean+/-std: 1032.957 (+/-115.381)\n",
      "Paramters: {'C': 0.0001, 'epsilon': 0.01, 'gamma': 0.1, 'kernel': 'rbf'} \t:mean+/-std: 1032.957 (+/-115.381)\n",
      "Paramters: {'C': 0.0001, 'epsilon': 0.1, 'gamma': 1e-05, 'kernel': 'rbf'} \t:mean+/-std: 1032.957 (+/-115.381)\n",
      "Paramters: {'C': 0.0001, 'epsilon': 0.1, 'gamma': 0.0001, 'kernel': 'rbf'} \t:mean+/-std: 1032.957 (+/-115.381)\n",
      "Paramters: {'C': 0.0001, 'epsilon': 0.1, 'gamma': 0.001, 'kernel': 'rbf'} \t:mean+/-std: 1032.957 (+/-115.381)\n",
      "Paramters: {'C': 0.0001, 'epsilon': 0.1, 'gamma': 0.0001, 'kernel': 'rbf'} \t:mean+/-std: 1032.957 (+/-115.381)\n",
      "Paramters: {'C': 0.0001, 'epsilon': 0.1, 'gamma': 0.01, 'kernel': 'rbf'} \t:mean+/-std: 1032.957 (+/-115.381)\n",
      "Paramters: {'C': 0.0001, 'epsilon': 0.1, 'gamma': 0.1, 'kernel': 'rbf'} \t:mean+/-std: 1032.957 (+/-115.381)\n",
      "Paramters: {'C': 0.001, 'epsilon': 1e-05, 'gamma': 1e-05, 'kernel': 'rbf'} \t:mean+/-std: 1032.957 (+/-115.381)\n",
      "Paramters: {'C': 0.001, 'epsilon': 1e-05, 'gamma': 0.0001, 'kernel': 'rbf'} \t:mean+/-std: 1032.957 (+/-115.381)\n",
      "Paramters: {'C': 0.001, 'epsilon': 1e-05, 'gamma': 0.001, 'kernel': 'rbf'} \t:mean+/-std: 1032.957 (+/-115.381)\n",
      "Paramters: {'C': 0.001, 'epsilon': 1e-05, 'gamma': 0.0001, 'kernel': 'rbf'} \t:mean+/-std: 1032.957 (+/-115.381)\n",
      "Paramters: {'C': 0.001, 'epsilon': 1e-05, 'gamma': 0.01, 'kernel': 'rbf'} \t:mean+/-std: 1032.957 (+/-115.381)\n",
      "Paramters: {'C': 0.001, 'epsilon': 1e-05, 'gamma': 0.1, 'kernel': 'rbf'} \t:mean+/-std: 1032.957 (+/-115.381)\n",
      "Paramters: {'C': 0.001, 'epsilon': 0.0001, 'gamma': 1e-05, 'kernel': 'rbf'} \t:mean+/-std: 1032.957 (+/-115.381)\n",
      "Paramters: {'C': 0.001, 'epsilon': 0.0001, 'gamma': 0.0001, 'kernel': 'rbf'} \t:mean+/-std: 1032.957 (+/-115.381)\n",
      "Paramters: {'C': 0.001, 'epsilon': 0.0001, 'gamma': 0.001, 'kernel': 'rbf'} \t:mean+/-std: 1032.957 (+/-115.381)\n",
      "Paramters: {'C': 0.001, 'epsilon': 0.0001, 'gamma': 0.0001, 'kernel': 'rbf'} \t:mean+/-std: 1032.957 (+/-115.381)\n",
      "Paramters: {'C': 0.001, 'epsilon': 0.0001, 'gamma': 0.01, 'kernel': 'rbf'} \t:mean+/-std: 1032.957 (+/-115.381)\n",
      "Paramters: {'C': 0.001, 'epsilon': 0.0001, 'gamma': 0.1, 'kernel': 'rbf'} \t:mean+/-std: 1032.957 (+/-115.381)\n",
      "Paramters: {'C': 0.001, 'epsilon': 0.001, 'gamma': 1e-05, 'kernel': 'rbf'} \t:mean+/-std: 1032.957 (+/-115.381)\n",
      "Paramters: {'C': 0.001, 'epsilon': 0.001, 'gamma': 0.0001, 'kernel': 'rbf'} \t:mean+/-std: 1032.957 (+/-115.381)\n",
      "Paramters: {'C': 0.001, 'epsilon': 0.001, 'gamma': 0.001, 'kernel': 'rbf'} \t:mean+/-std: 1032.957 (+/-115.381)\n",
      "Paramters: {'C': 0.001, 'epsilon': 0.001, 'gamma': 0.0001, 'kernel': 'rbf'} \t:mean+/-std: 1032.957 (+/-115.381)\n",
      "Paramters: {'C': 0.001, 'epsilon': 0.001, 'gamma': 0.01, 'kernel': 'rbf'} \t:mean+/-std: 1032.957 (+/-115.381)\n",
      "Paramters: {'C': 0.001, 'epsilon': 0.001, 'gamma': 0.1, 'kernel': 'rbf'} \t:mean+/-std: 1032.957 (+/-115.381)\n",
      "Paramters: {'C': 0.001, 'epsilon': 0.0001, 'gamma': 1e-05, 'kernel': 'rbf'} \t:mean+/-std: 1032.957 (+/-115.381)\n",
      "Paramters: {'C': 0.001, 'epsilon': 0.0001, 'gamma': 0.0001, 'kernel': 'rbf'} \t:mean+/-std: 1032.957 (+/-115.381)\n",
      "Paramters: {'C': 0.001, 'epsilon': 0.0001, 'gamma': 0.001, 'kernel': 'rbf'} \t:mean+/-std: 1032.957 (+/-115.381)\n",
      "Paramters: {'C': 0.001, 'epsilon': 0.0001, 'gamma': 0.0001, 'kernel': 'rbf'} \t:mean+/-std: 1032.957 (+/-115.381)\n",
      "Paramters: {'C': 0.001, 'epsilon': 0.0001, 'gamma': 0.01, 'kernel': 'rbf'} \t:mean+/-std: 1032.957 (+/-115.381)\n",
      "Paramters: {'C': 0.001, 'epsilon': 0.0001, 'gamma': 0.1, 'kernel': 'rbf'} \t:mean+/-std: 1032.957 (+/-115.381)\n",
      "Paramters: {'C': 0.001, 'epsilon': 0.01, 'gamma': 1e-05, 'kernel': 'rbf'} \t:mean+/-std: 1032.957 (+/-115.381)\n",
      "Paramters: {'C': 0.001, 'epsilon': 0.01, 'gamma': 0.0001, 'kernel': 'rbf'} \t:mean+/-std: 1032.957 (+/-115.381)\n",
      "Paramters: {'C': 0.001, 'epsilon': 0.01, 'gamma': 0.001, 'kernel': 'rbf'} \t:mean+/-std: 1032.957 (+/-115.381)\n",
      "Paramters: {'C': 0.001, 'epsilon': 0.01, 'gamma': 0.0001, 'kernel': 'rbf'} \t:mean+/-std: 1032.957 (+/-115.381)\n",
      "Paramters: {'C': 0.001, 'epsilon': 0.01, 'gamma': 0.01, 'kernel': 'rbf'} \t:mean+/-std: 1032.957 (+/-115.381)\n",
      "Paramters: {'C': 0.001, 'epsilon': 0.01, 'gamma': 0.1, 'kernel': 'rbf'} \t:mean+/-std: 1032.957 (+/-115.381)\n",
      "Paramters: {'C': 0.001, 'epsilon': 0.1, 'gamma': 1e-05, 'kernel': 'rbf'} \t:mean+/-std: 1032.957 (+/-115.381)\n",
      "Paramters: {'C': 0.001, 'epsilon': 0.1, 'gamma': 0.0001, 'kernel': 'rbf'} \t:mean+/-std: 1032.957 (+/-115.381)\n",
      "Paramters: {'C': 0.001, 'epsilon': 0.1, 'gamma': 0.001, 'kernel': 'rbf'} \t:mean+/-std: 1032.957 (+/-115.381)\n",
      "Paramters: {'C': 0.001, 'epsilon': 0.1, 'gamma': 0.0001, 'kernel': 'rbf'} \t:mean+/-std: 1032.957 (+/-115.381)\n",
      "Paramters: {'C': 0.001, 'epsilon': 0.1, 'gamma': 0.01, 'kernel': 'rbf'} \t:mean+/-std: 1032.957 (+/-115.381)\n",
      "Paramters: {'C': 0.001, 'epsilon': 0.1, 'gamma': 0.1, 'kernel': 'rbf'} \t:mean+/-std: 1032.957 (+/-115.381)\n",
      "Paramters: {'C': 0.0001, 'epsilon': 1e-05, 'gamma': 1e-05, 'kernel': 'rbf'} \t:mean+/-std: 1032.957 (+/-115.381)\n",
      "Paramters: {'C': 0.0001, 'epsilon': 1e-05, 'gamma': 0.0001, 'kernel': 'rbf'} \t:mean+/-std: 1032.957 (+/-115.381)\n",
      "Paramters: {'C': 0.0001, 'epsilon': 1e-05, 'gamma': 0.001, 'kernel': 'rbf'} \t:mean+/-std: 1032.957 (+/-115.381)\n",
      "Paramters: {'C': 0.0001, 'epsilon': 1e-05, 'gamma': 0.0001, 'kernel': 'rbf'} \t:mean+/-std: 1032.957 (+/-115.381)\n",
      "Paramters: {'C': 0.0001, 'epsilon': 1e-05, 'gamma': 0.01, 'kernel': 'rbf'} \t:mean+/-std: 1032.957 (+/-115.381)\n",
      "Paramters: {'C': 0.0001, 'epsilon': 1e-05, 'gamma': 0.1, 'kernel': 'rbf'} \t:mean+/-std: 1032.957 (+/-115.381)\n",
      "Paramters: {'C': 0.0001, 'epsilon': 0.0001, 'gamma': 1e-05, 'kernel': 'rbf'} \t:mean+/-std: 1032.957 (+/-115.381)\n",
      "Paramters: {'C': 0.0001, 'epsilon': 0.0001, 'gamma': 0.0001, 'kernel': 'rbf'} \t:mean+/-std: 1032.957 (+/-115.381)\n",
      "Paramters: {'C': 0.0001, 'epsilon': 0.0001, 'gamma': 0.001, 'kernel': 'rbf'} \t:mean+/-std: 1032.957 (+/-115.381)\n",
      "Paramters: {'C': 0.0001, 'epsilon': 0.0001, 'gamma': 0.0001, 'kernel': 'rbf'} \t:mean+/-std: 1032.957 (+/-115.381)\n",
      "Paramters: {'C': 0.0001, 'epsilon': 0.0001, 'gamma': 0.01, 'kernel': 'rbf'} \t:mean+/-std: 1032.957 (+/-115.381)\n",
      "Paramters: {'C': 0.0001, 'epsilon': 0.0001, 'gamma': 0.1, 'kernel': 'rbf'} \t:mean+/-std: 1032.957 (+/-115.381)\n",
      "Paramters: {'C': 0.0001, 'epsilon': 0.001, 'gamma': 1e-05, 'kernel': 'rbf'} \t:mean+/-std: 1032.957 (+/-115.381)\n",
      "Paramters: {'C': 0.0001, 'epsilon': 0.001, 'gamma': 0.0001, 'kernel': 'rbf'} \t:mean+/-std: 1032.957 (+/-115.381)\n",
      "Paramters: {'C': 0.0001, 'epsilon': 0.001, 'gamma': 0.001, 'kernel': 'rbf'} \t:mean+/-std: 1032.957 (+/-115.381)\n",
      "Paramters: {'C': 0.0001, 'epsilon': 0.001, 'gamma': 0.0001, 'kernel': 'rbf'} \t:mean+/-std: 1032.957 (+/-115.381)\n",
      "Paramters: {'C': 0.0001, 'epsilon': 0.001, 'gamma': 0.01, 'kernel': 'rbf'} \t:mean+/-std: 1032.957 (+/-115.381)\n",
      "Paramters: {'C': 0.0001, 'epsilon': 0.001, 'gamma': 0.1, 'kernel': 'rbf'} \t:mean+/-std: 1032.957 (+/-115.381)\n",
      "Paramters: {'C': 0.0001, 'epsilon': 0.0001, 'gamma': 1e-05, 'kernel': 'rbf'} \t:mean+/-std: 1032.957 (+/-115.381)\n",
      "Paramters: {'C': 0.0001, 'epsilon': 0.0001, 'gamma': 0.0001, 'kernel': 'rbf'} \t:mean+/-std: 1032.957 (+/-115.381)\n",
      "Paramters: {'C': 0.0001, 'epsilon': 0.0001, 'gamma': 0.001, 'kernel': 'rbf'} \t:mean+/-std: 1032.957 (+/-115.381)\n",
      "Paramters: {'C': 0.0001, 'epsilon': 0.0001, 'gamma': 0.0001, 'kernel': 'rbf'} \t:mean+/-std: 1032.957 (+/-115.381)\n",
      "Paramters: {'C': 0.0001, 'epsilon': 0.0001, 'gamma': 0.01, 'kernel': 'rbf'} \t:mean+/-std: 1032.957 (+/-115.381)\n",
      "Paramters: {'C': 0.0001, 'epsilon': 0.0001, 'gamma': 0.1, 'kernel': 'rbf'} \t:mean+/-std: 1032.957 (+/-115.381)\n",
      "Paramters: {'C': 0.0001, 'epsilon': 0.01, 'gamma': 1e-05, 'kernel': 'rbf'} \t:mean+/-std: 1032.957 (+/-115.381)\n",
      "Paramters: {'C': 0.0001, 'epsilon': 0.01, 'gamma': 0.0001, 'kernel': 'rbf'} \t:mean+/-std: 1032.957 (+/-115.381)\n",
      "Paramters: {'C': 0.0001, 'epsilon': 0.01, 'gamma': 0.001, 'kernel': 'rbf'} \t:mean+/-std: 1032.957 (+/-115.381)\n",
      "Paramters: {'C': 0.0001, 'epsilon': 0.01, 'gamma': 0.0001, 'kernel': 'rbf'} \t:mean+/-std: 1032.957 (+/-115.381)\n",
      "Paramters: {'C': 0.0001, 'epsilon': 0.01, 'gamma': 0.01, 'kernel': 'rbf'} \t:mean+/-std: 1032.957 (+/-115.381)\n",
      "Paramters: {'C': 0.0001, 'epsilon': 0.01, 'gamma': 0.1, 'kernel': 'rbf'} \t:mean+/-std: 1032.957 (+/-115.381)\n",
      "Paramters: {'C': 0.0001, 'epsilon': 0.1, 'gamma': 1e-05, 'kernel': 'rbf'} \t:mean+/-std: 1032.957 (+/-115.381)\n",
      "Paramters: {'C': 0.0001, 'epsilon': 0.1, 'gamma': 0.0001, 'kernel': 'rbf'} \t:mean+/-std: 1032.957 (+/-115.381)\n",
      "Paramters: {'C': 0.0001, 'epsilon': 0.1, 'gamma': 0.001, 'kernel': 'rbf'} \t:mean+/-std: 1032.957 (+/-115.381)\n",
      "Paramters: {'C': 0.0001, 'epsilon': 0.1, 'gamma': 0.0001, 'kernel': 'rbf'} \t:mean+/-std: 1032.957 (+/-115.381)\n",
      "Paramters: {'C': 0.0001, 'epsilon': 0.1, 'gamma': 0.01, 'kernel': 'rbf'} \t:mean+/-std: 1032.957 (+/-115.381)\n",
      "Paramters: {'C': 0.0001, 'epsilon': 0.1, 'gamma': 0.1, 'kernel': 'rbf'} \t:mean+/-std: 1032.957 (+/-115.381)\n",
      "Paramters: {'C': 0.01, 'epsilon': 1e-05, 'gamma': 1e-05, 'kernel': 'rbf'} \t:mean+/-std: 1032.957 (+/-115.381)\n",
      "Paramters: {'C': 0.01, 'epsilon': 1e-05, 'gamma': 0.0001, 'kernel': 'rbf'} \t:mean+/-std: 1032.957 (+/-115.381)\n",
      "Paramters: {'C': 0.01, 'epsilon': 1e-05, 'gamma': 0.001, 'kernel': 'rbf'} \t:mean+/-std: 1032.957 (+/-115.381)\n",
      "Paramters: {'C': 0.01, 'epsilon': 1e-05, 'gamma': 0.0001, 'kernel': 'rbf'} \t:mean+/-std: 1032.957 (+/-115.381)\n",
      "Paramters: {'C': 0.01, 'epsilon': 1e-05, 'gamma': 0.01, 'kernel': 'rbf'} \t:mean+/-std: 1032.957 (+/-115.381)\n",
      "Paramters: {'C': 0.01, 'epsilon': 1e-05, 'gamma': 0.1, 'kernel': 'rbf'} \t:mean+/-std: 1032.957 (+/-115.381)\n",
      "Paramters: {'C': 0.01, 'epsilon': 0.0001, 'gamma': 1e-05, 'kernel': 'rbf'} \t:mean+/-std: 1032.957 (+/-115.381)\n",
      "Paramters: {'C': 0.01, 'epsilon': 0.0001, 'gamma': 0.0001, 'kernel': 'rbf'} \t:mean+/-std: 1032.957 (+/-115.381)\n",
      "Paramters: {'C': 0.01, 'epsilon': 0.0001, 'gamma': 0.001, 'kernel': 'rbf'} \t:mean+/-std: 1032.957 (+/-115.381)\n",
      "Paramters: {'C': 0.01, 'epsilon': 0.0001, 'gamma': 0.0001, 'kernel': 'rbf'} \t:mean+/-std: 1032.957 (+/-115.381)\n",
      "Paramters: {'C': 0.01, 'epsilon': 0.0001, 'gamma': 0.01, 'kernel': 'rbf'} \t:mean+/-std: 1032.957 (+/-115.381)\n",
      "Paramters: {'C': 0.01, 'epsilon': 0.0001, 'gamma': 0.1, 'kernel': 'rbf'} \t:mean+/-std: 1032.957 (+/-115.381)\n",
      "Paramters: {'C': 0.01, 'epsilon': 0.001, 'gamma': 1e-05, 'kernel': 'rbf'} \t:mean+/-std: 1032.957 (+/-115.381)\n",
      "Paramters: {'C': 0.01, 'epsilon': 0.001, 'gamma': 0.0001, 'kernel': 'rbf'} \t:mean+/-std: 1032.957 (+/-115.381)\n",
      "Paramters: {'C': 0.01, 'epsilon': 0.001, 'gamma': 0.001, 'kernel': 'rbf'} \t:mean+/-std: 1032.957 (+/-115.381)\n",
      "Paramters: {'C': 0.01, 'epsilon': 0.001, 'gamma': 0.0001, 'kernel': 'rbf'} \t:mean+/-std: 1032.957 (+/-115.381)\n",
      "Paramters: {'C': 0.01, 'epsilon': 0.001, 'gamma': 0.01, 'kernel': 'rbf'} \t:mean+/-std: 1032.957 (+/-115.381)\n",
      "Paramters: {'C': 0.01, 'epsilon': 0.001, 'gamma': 0.1, 'kernel': 'rbf'} \t:mean+/-std: 1032.957 (+/-115.381)\n",
      "Paramters: {'C': 0.01, 'epsilon': 0.0001, 'gamma': 1e-05, 'kernel': 'rbf'} \t:mean+/-std: 1032.957 (+/-115.381)\n",
      "Paramters: {'C': 0.01, 'epsilon': 0.0001, 'gamma': 0.0001, 'kernel': 'rbf'} \t:mean+/-std: 1032.957 (+/-115.381)\n",
      "Paramters: {'C': 0.01, 'epsilon': 0.0001, 'gamma': 0.001, 'kernel': 'rbf'} \t:mean+/-std: 1032.957 (+/-115.381)\n",
      "Paramters: {'C': 0.01, 'epsilon': 0.0001, 'gamma': 0.0001, 'kernel': 'rbf'} \t:mean+/-std: 1032.957 (+/-115.381)\n",
      "Paramters: {'C': 0.01, 'epsilon': 0.0001, 'gamma': 0.01, 'kernel': 'rbf'} \t:mean+/-std: 1032.957 (+/-115.381)\n",
      "Paramters: {'C': 0.01, 'epsilon': 0.0001, 'gamma': 0.1, 'kernel': 'rbf'} \t:mean+/-std: 1032.957 (+/-115.381)\n",
      "Paramters: {'C': 0.01, 'epsilon': 0.01, 'gamma': 1e-05, 'kernel': 'rbf'} \t:mean+/-std: 1032.957 (+/-115.381)\n",
      "Paramters: {'C': 0.01, 'epsilon': 0.01, 'gamma': 0.0001, 'kernel': 'rbf'} \t:mean+/-std: 1032.957 (+/-115.381)\n",
      "Paramters: {'C': 0.01, 'epsilon': 0.01, 'gamma': 0.001, 'kernel': 'rbf'} \t:mean+/-std: 1032.957 (+/-115.381)\n",
      "Paramters: {'C': 0.01, 'epsilon': 0.01, 'gamma': 0.0001, 'kernel': 'rbf'} \t:mean+/-std: 1032.957 (+/-115.381)\n",
      "Paramters: {'C': 0.01, 'epsilon': 0.01, 'gamma': 0.01, 'kernel': 'rbf'} \t:mean+/-std: 1032.957 (+/-115.381)\n",
      "Paramters: {'C': 0.01, 'epsilon': 0.01, 'gamma': 0.1, 'kernel': 'rbf'} \t:mean+/-std: 1032.957 (+/-115.381)\n",
      "Paramters: {'C': 0.01, 'epsilon': 0.1, 'gamma': 1e-05, 'kernel': 'rbf'} \t:mean+/-std: 1032.957 (+/-115.381)\n",
      "Paramters: {'C': 0.01, 'epsilon': 0.1, 'gamma': 0.0001, 'kernel': 'rbf'} \t:mean+/-std: 1032.957 (+/-115.381)\n",
      "Paramters: {'C': 0.01, 'epsilon': 0.1, 'gamma': 0.001, 'kernel': 'rbf'} \t:mean+/-std: 1032.957 (+/-115.381)\n",
      "Paramters: {'C': 0.01, 'epsilon': 0.1, 'gamma': 0.0001, 'kernel': 'rbf'} \t:mean+/-std: 1032.957 (+/-115.381)\n",
      "Paramters: {'C': 0.01, 'epsilon': 0.1, 'gamma': 0.01, 'kernel': 'rbf'} \t:mean+/-std: 1032.957 (+/-115.381)\n",
      "Paramters: {'C': 0.01, 'epsilon': 0.1, 'gamma': 0.1, 'kernel': 'rbf'} \t:mean+/-std: 1032.957 (+/-115.381)\n",
      "Paramters: {'C': 0.1, 'epsilon': 1e-05, 'gamma': 1e-05, 'kernel': 'rbf'} \t:mean+/-std: 1032.957 (+/-115.381)\n",
      "Paramters: {'C': 0.1, 'epsilon': 1e-05, 'gamma': 0.0001, 'kernel': 'rbf'} \t:mean+/-std: 1032.957 (+/-115.381)\n",
      "Paramters: {'C': 0.1, 'epsilon': 1e-05, 'gamma': 0.001, 'kernel': 'rbf'} \t:mean+/-std: 1032.957 (+/-115.381)\n",
      "Paramters: {'C': 0.1, 'epsilon': 1e-05, 'gamma': 0.0001, 'kernel': 'rbf'} \t:mean+/-std: 1032.957 (+/-115.381)\n",
      "Paramters: {'C': 0.1, 'epsilon': 1e-05, 'gamma': 0.01, 'kernel': 'rbf'} \t:mean+/-std: 1032.957 (+/-115.381)\n",
      "Paramters: {'C': 0.1, 'epsilon': 1e-05, 'gamma': 0.1, 'kernel': 'rbf'} \t:mean+/-std: 1032.957 (+/-115.381)\n",
      "Paramters: {'C': 0.1, 'epsilon': 0.0001, 'gamma': 1e-05, 'kernel': 'rbf'} \t:mean+/-std: 1032.957 (+/-115.381)\n",
      "Paramters: {'C': 0.1, 'epsilon': 0.0001, 'gamma': 0.0001, 'kernel': 'rbf'} \t:mean+/-std: 1032.957 (+/-115.381)\n",
      "Paramters: {'C': 0.1, 'epsilon': 0.0001, 'gamma': 0.001, 'kernel': 'rbf'} \t:mean+/-std: 1032.957 (+/-115.381)\n",
      "Paramters: {'C': 0.1, 'epsilon': 0.0001, 'gamma': 0.0001, 'kernel': 'rbf'} \t:mean+/-std: 1032.957 (+/-115.381)\n",
      "Paramters: {'C': 0.1, 'epsilon': 0.0001, 'gamma': 0.01, 'kernel': 'rbf'} \t:mean+/-std: 1032.957 (+/-115.381)\n",
      "Paramters: {'C': 0.1, 'epsilon': 0.0001, 'gamma': 0.1, 'kernel': 'rbf'} \t:mean+/-std: 1032.957 (+/-115.381)\n",
      "Paramters: {'C': 0.1, 'epsilon': 0.001, 'gamma': 1e-05, 'kernel': 'rbf'} \t:mean+/-std: 1032.957 (+/-115.381)\n",
      "Paramters: {'C': 0.1, 'epsilon': 0.001, 'gamma': 0.0001, 'kernel': 'rbf'} \t:mean+/-std: 1032.957 (+/-115.381)\n",
      "Paramters: {'C': 0.1, 'epsilon': 0.001, 'gamma': 0.001, 'kernel': 'rbf'} \t:mean+/-std: 1032.957 (+/-115.381)\n",
      "Paramters: {'C': 0.1, 'epsilon': 0.001, 'gamma': 0.0001, 'kernel': 'rbf'} \t:mean+/-std: 1032.957 (+/-115.381)\n",
      "Paramters: {'C': 0.1, 'epsilon': 0.001, 'gamma': 0.01, 'kernel': 'rbf'} \t:mean+/-std: 1032.957 (+/-115.381)\n",
      "Paramters: {'C': 0.1, 'epsilon': 0.001, 'gamma': 0.1, 'kernel': 'rbf'} \t:mean+/-std: 1032.957 (+/-115.381)\n",
      "Paramters: {'C': 0.1, 'epsilon': 0.0001, 'gamma': 1e-05, 'kernel': 'rbf'} \t:mean+/-std: 1032.957 (+/-115.381)\n",
      "Paramters: {'C': 0.1, 'epsilon': 0.0001, 'gamma': 0.0001, 'kernel': 'rbf'} \t:mean+/-std: 1032.957 (+/-115.381)\n",
      "Paramters: {'C': 0.1, 'epsilon': 0.0001, 'gamma': 0.001, 'kernel': 'rbf'} \t:mean+/-std: 1032.957 (+/-115.381)\n",
      "Paramters: {'C': 0.1, 'epsilon': 0.0001, 'gamma': 0.0001, 'kernel': 'rbf'} \t:mean+/-std: 1032.957 (+/-115.381)\n",
      "Paramters: {'C': 0.1, 'epsilon': 0.0001, 'gamma': 0.01, 'kernel': 'rbf'} \t:mean+/-std: 1032.957 (+/-115.381)\n",
      "Paramters: {'C': 0.1, 'epsilon': 0.0001, 'gamma': 0.1, 'kernel': 'rbf'} \t:mean+/-std: 1032.957 (+/-115.381)\n",
      "Paramters: {'C': 0.1, 'epsilon': 0.01, 'gamma': 1e-05, 'kernel': 'rbf'} \t:mean+/-std: 1032.957 (+/-115.381)\n",
      "Paramters: {'C': 0.1, 'epsilon': 0.01, 'gamma': 0.0001, 'kernel': 'rbf'} \t:mean+/-std: 1032.957 (+/-115.381)\n",
      "Paramters: {'C': 0.1, 'epsilon': 0.01, 'gamma': 0.001, 'kernel': 'rbf'} \t:mean+/-std: 1032.957 (+/-115.381)\n",
      "Paramters: {'C': 0.1, 'epsilon': 0.01, 'gamma': 0.0001, 'kernel': 'rbf'} \t:mean+/-std: 1032.957 (+/-115.381)\n",
      "Paramters: {'C': 0.1, 'epsilon': 0.01, 'gamma': 0.01, 'kernel': 'rbf'} \t:mean+/-std: 1032.957 (+/-115.381)\n",
      "Paramters: {'C': 0.1, 'epsilon': 0.01, 'gamma': 0.1, 'kernel': 'rbf'} \t:mean+/-std: 1032.957 (+/-115.381)\n",
      "Paramters: {'C': 0.1, 'epsilon': 0.1, 'gamma': 1e-05, 'kernel': 'rbf'} \t:mean+/-std: 1032.957 (+/-115.381)\n",
      "Paramters: {'C': 0.1, 'epsilon': 0.1, 'gamma': 0.0001, 'kernel': 'rbf'} \t:mean+/-std: 1032.957 (+/-115.381)\n",
      "Paramters: {'C': 0.1, 'epsilon': 0.1, 'gamma': 0.001, 'kernel': 'rbf'} \t:mean+/-std: 1032.957 (+/-115.381)\n",
      "Paramters: {'C': 0.1, 'epsilon': 0.1, 'gamma': 0.0001, 'kernel': 'rbf'} \t:mean+/-std: 1032.957 (+/-115.381)\n",
      "Paramters: {'C': 0.1, 'epsilon': 0.1, 'gamma': 0.01, 'kernel': 'rbf'} \t:mean+/-std: 1032.957 (+/-115.381)\n",
      "Paramters: {'C': 0.1, 'epsilon': 0.1, 'gamma': 0.1, 'kernel': 'rbf'} \t:mean+/-std: 1032.957 (+/-115.381)\n"
     ]
    }
   ],
   "source": [
    "print()\n",
    "print(\"Grid scores on development set:\")\n",
    "print()\n",
    "    \n",
    "means = clf.cv_results_['mean_test_score']\n",
    "stds  = clf.cv_results_['std_test_score']\n",
    "for mean, std, params in zip(means, stds, clf.cv_results_['params']):\n",
    "    print(\"Paramters: %r \\t:mean+/-std: %0.3f (+/-%0.03f)\"\n",
    "              % (params, mean, std * 2))"
   ]
  },
  {
   "cell_type": "markdown",
   "metadata": {},
   "source": [
    "################################################################################\n",
    "################################################################################\n",
    "############################  R E P O R T I N G #####################################\n",
    "################################################################################\n",
    "################################################################################"
   ]
  },
  {
   "cell_type": "code",
   "execution_count": 32,
   "metadata": {
    "collapsed": false
   },
   "outputs": [
    {
     "name": "stdout",
     "output_type": "stream",
     "text": [
      "(for reporting only) Test Error once optimal model is picked by CV : 882.068031\n"
     ]
    }
   ],
   "source": [
    "model = clf.best_estimator_\n",
    "\n",
    "y_predict = model.predict(X_test) #Reduce X to the selected features and then predict using the underlying estimator.\n",
    "rmse_model = np.sqrt(mean_squared_error(y_test, y_predict))\n",
    "print(\"(for reporting only) Test Error once optimal model is picked by CV : %f\" % rmse_model)"
   ]
  },
  {
   "cell_type": "code",
   "execution_count": null,
   "metadata": {
    "collapsed": true
   },
   "outputs": [],
   "source": []
  },
  {
   "cell_type": "code",
   "execution_count": null,
   "metadata": {
    "collapsed": true
   },
   "outputs": [],
   "source": []
  }
 ],
 "metadata": {
  "anaconda-cloud": {},
  "kernelspec": {
   "display_name": "Python 3",
   "language": "python",
   "name": "python3"
  },
  "language_info": {
   "codemirror_mode": {
    "name": "ipython",
    "version": 3
   },
   "file_extension": ".py",
   "mimetype": "text/x-python",
   "name": "python",
   "nbconvert_exporter": "python",
   "pygments_lexer": "ipython3",
   "version": "3.6.0"
  }
 },
 "nbformat": 4,
 "nbformat_minor": 0
}
