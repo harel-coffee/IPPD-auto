{
 "cells": [
  {
   "cell_type": "markdown",
   "metadata": {},
   "source": [
    "# M6. Epsilon-Support Vector Regression ('rbf' and 'linear')"
   ]
  },
  {
   "cell_type": "markdown",
   "metadata": {},
   "source": [
    "### Grid Search with Cross Validation"
   ]
  },
  {
   "cell_type": "code",
   "execution_count": 1,
   "metadata": {
    "collapsed": true
   },
   "outputs": [],
   "source": [
    "# Read Back \n",
    "import pickle\n",
    "\n",
    "with open('datasetIPPD.pickle', 'rb') as handle:\n",
    "    data = pickle.load(handle)"
   ]
  },
  {
   "cell_type": "code",
   "execution_count": 2,
   "metadata": {
    "collapsed": false
   },
   "outputs": [
    {
     "data": {
      "text/plain": [
       "dict_keys(['X_train', 'y_train', 'X_test', 'y_test'])"
      ]
     },
     "execution_count": 2,
     "metadata": {},
     "output_type": "execute_result"
    }
   ],
   "source": [
    "data.keys()"
   ]
  },
  {
   "cell_type": "code",
   "execution_count": 3,
   "metadata": {
    "collapsed": false
   },
   "outputs": [
    {
     "data": {
      "text/plain": [
       "(256, 65)"
      ]
     },
     "execution_count": 3,
     "metadata": {},
     "output_type": "execute_result"
    }
   ],
   "source": [
    "X_train = data['X_train']\n",
    "y_train = data['y_train']\n",
    "\n",
    "X_test = data['X_test']\n",
    "y_test = data['y_test']\n",
    "\n",
    "len(y_train), len(y_test)"
   ]
  },
  {
   "cell_type": "code",
   "execution_count": 4,
   "metadata": {
    "collapsed": false
   },
   "outputs": [
    {
     "name": "stdout",
     "output_type": "stream",
     "text": [
      "Automatically created module for IPython interactive environment\n"
     ]
    }
   ],
   "source": [
    "from __future__ import print_function\n",
    "\n",
    "from sklearn import datasets\n",
    "from sklearn.model_selection import train_test_split\n",
    "from sklearn.model_selection import GridSearchCV\n",
    "from sklearn.metrics import classification_report\n",
    "from sklearn.svm import SVR\n",
    "\n",
    "print(__doc__)"
   ]
  },
  {
   "cell_type": "code",
   "execution_count": 15,
   "metadata": {
    "collapsed": true
   },
   "outputs": [],
   "source": [
    "from sklearn.metrics import mean_squared_error \n",
    "import numpy as np\n",
    "def rmse_scorer(model, X, y): \n",
    "    y_predict = model.predict(X)\n",
    "    k = np.sqrt(mean_squared_error(y, y_predict))\n",
    "    #print(\"RMSE %f \" % k)\n",
    "    return k"
   ]
  },
  {
   "cell_type": "code",
   "execution_count": 6,
   "metadata": {
    "collapsed": true
   },
   "outputs": [],
   "source": [
    "# Preprocessing is a must for SVR !!!!\n",
    "\n",
    "from sklearn import preprocessing\n",
    "X_train = preprocessing.scale(X_train) "
   ]
  },
  {
   "cell_type": "code",
   "execution_count": 53,
   "metadata": {
    "collapsed": false
   },
   "outputs": [
    {
     "name": "stdout",
     "output_type": "stream",
     "text": [
      "# Tuning hyper-parameters for rmse\n",
      "\n",
      "Starting clf.fit(X_train, y_train)\n",
      "\n",
      "Best parameters set found on development set:\n",
      "\n",
      "{'C': 0.01, 'epsilon': 0.1, 'gamma': 1e-05, 'kernel': 'rbf'}\n",
      "\n",
      "Grid scores on development set:\n",
      "\n"
     ]
    }
   ],
   "source": [
    "# Set the parameters by cross-validation\n",
    "\n",
    "# sklearn.svm.SVR: The free parameters in the model are C and epsilon.\n",
    "\n",
    "tuned_parameters = []\n",
    "\n",
    "\n",
    "tuned_parameters.append( {'kernel': ['linear'], 'C': [.2, .4,.6, .8, 1, 100, 1000], \n",
    "                          'epsilon':[.15, 0.1, .05, 0.2] })\n",
    "\n",
    "tuned_parameters.append({'kernel': ['rbf'], 'gamma': [1e-5, 1e-4, 1e-3, 1e-4,1e-2,1e-1], \n",
    "                         'C': [ .01, .02, .5, 1,  ], \n",
    "                         'epsilon':[0.1, .2] })\n",
    "\n",
    "scores = ['rmse'] #, 'recall']\n",
    "\n",
    "for score in scores:\n",
    "    print(\"# Tuning hyper-parameters for %s\" % score)\n",
    "    print()\n",
    "\n",
    "    clf = GridSearchCV(SVR(C=1, epsilon=0.001), tuned_parameters, cv=5, n_jobs=-1,\n",
    "                      scoring=rmse_scorer)\n",
    "    print('Starting clf.fit(X_train, y_train)')\n",
    "    \n",
    "    clf.fit(X_train, y_train)\n",
    "\n",
    "    print(\"\\nBest parameters set found on development set:\")\n",
    "    print()\n",
    "    print(clf.best_params_)\n",
    "    print()\n",
    "    print(\"Grid scores on development set:\")\n",
    "    print()\n",
    "    \n",
    "    means = clf.cv_results_['mean_test_score']\n",
    "    stds  = clf.cv_results_['std_test_score']"
   ]
  },
  {
   "cell_type": "code",
   "execution_count": 54,
   "metadata": {
    "collapsed": false
   },
   "outputs": [
    {
     "name": "stdout",
     "output_type": "stream",
     "text": [
      "SVR(C=0.01, cache_size=200, coef0=0.0, degree=3, epsilon=0.1, gamma=1e-05,\n",
      "  kernel='rbf', max_iter=-1, shrinking=True, tol=0.001, verbose=False)\n",
      "\n",
      "1035.31655598\n"
     ]
    }
   ],
   "source": [
    "print(clf.best_estimator_)\n",
    "print()\n",
    "print((clf.best_score_))"
   ]
  },
  {
   "cell_type": "code",
   "execution_count": 55,
   "metadata": {
    "collapsed": false
   },
   "outputs": [],
   "source": [
    "#clf.cv_results_"
   ]
  },
  {
   "cell_type": "code",
   "execution_count": 51,
   "metadata": {
    "collapsed": true
   },
   "outputs": [
    {
     "name": "stdout",
     "output_type": "stream",
     "text": [
      "Paramters: {'C': 0.2, 'epsilon': 0.15, 'kernel': 'linear'} \t:mean+/-std: 1040.918 (+/-19.725)\n",
      "Paramters: {'C': 0.2, 'epsilon': 0.1, 'kernel': 'linear'} \t:mean+/-std: 1040.916 (+/-19.721)\n",
      "Paramters: {'C': 0.2, 'epsilon': 0.05, 'kernel': 'linear'} \t:mean+/-std: 1040.914 (+/-19.717)\n",
      "Paramters: {'C': 0.2, 'epsilon': 0.2, 'kernel': 'linear'} \t:mean+/-std: 1040.920 (+/-19.729)\n",
      "Paramters: {'C': 0.4, 'epsilon': 0.15, 'kernel': 'linear'} \t:mean+/-std: 1038.900 (+/-30.428)\n",
      "Paramters: {'C': 0.4, 'epsilon': 0.1, 'kernel': 'linear'} \t:mean+/-std: 1038.898 (+/-30.401)\n",
      "Paramters: {'C': 0.4, 'epsilon': 0.05, 'kernel': 'linear'} \t:mean+/-std: 1038.895 (+/-30.374)\n",
      "Paramters: {'C': 0.4, 'epsilon': 0.2, 'kernel': 'linear'} \t:mean+/-std: 1038.903 (+/-30.455)\n",
      "Paramters: {'C': 0.6, 'epsilon': 0.15, 'kernel': 'linear'} \t:mean+/-std: 1033.144 (+/-36.360)\n",
      "Paramters: {'C': 0.6, 'epsilon': 0.1, 'kernel': 'linear'} \t:mean+/-std: 1033.147 (+/-36.387)\n",
      "Paramters: {'C': 0.6, 'epsilon': 0.05, 'kernel': 'linear'} \t:mean+/-std: 1033.149 (+/-36.414)\n",
      "Paramters: {'C': 0.6, 'epsilon': 0.2, 'kernel': 'linear'} \t:mean+/-std: 1033.141 (+/-36.333)\n",
      "Paramters: {'C': 0.8, 'epsilon': 0.15, 'kernel': 'linear'} \t:mean+/-std: 1025.980 (+/-39.484)\n",
      "Paramters: {'C': 0.8, 'epsilon': 0.1, 'kernel': 'linear'} \t:mean+/-std: 1025.967 (+/-39.479)\n",
      "Paramters: {'C': 0.8, 'epsilon': 0.05, 'kernel': 'linear'} \t:mean+/-std: 1025.953 (+/-39.473)\n",
      "Paramters: {'C': 0.8, 'epsilon': 0.2, 'kernel': 'linear'} \t:mean+/-std: 1025.994 (+/-39.490)\n",
      "Paramters: {'C': 1, 'epsilon': 0.15, 'kernel': 'linear'} \t:mean+/-std: 1020.694 (+/-46.233)\n",
      "Paramters: {'C': 1, 'epsilon': 0.1, 'kernel': 'linear'} \t:mean+/-std: 1020.680 (+/-46.227)\n",
      "Paramters: {'C': 1, 'epsilon': 0.05, 'kernel': 'linear'} \t:mean+/-std: 1020.667 (+/-46.221)\n",
      "Paramters: {'C': 1, 'epsilon': 0.2, 'kernel': 'linear'} \t:mean+/-std: 1020.708 (+/-46.239)\n",
      "Paramters: {'C': 100, 'epsilon': 0.15, 'kernel': 'linear'} \t:mean+/-std: 493.918 (+/-30.420)\n",
      "Paramters: {'C': 100, 'epsilon': 0.1, 'kernel': 'linear'} \t:mean+/-std: 493.915 (+/-30.391)\n",
      "Paramters: {'C': 100, 'epsilon': 0.05, 'kernel': 'linear'} \t:mean+/-std: 493.912 (+/-30.362)\n",
      "Paramters: {'C': 100, 'epsilon': 0.2, 'kernel': 'linear'} \t:mean+/-std: 493.921 (+/-30.449)\n",
      "Paramters: {'C': 1000, 'epsilon': 0.15, 'kernel': 'linear'} \t:mean+/-std: 479.179 (+/-9.586)\n",
      "Paramters: {'C': 1000, 'epsilon': 0.1, 'kernel': 'linear'} \t:mean+/-std: 479.174 (+/-9.591)\n",
      "Paramters: {'C': 1000, 'epsilon': 0.05, 'kernel': 'linear'} \t:mean+/-std: 479.168 (+/-9.595)\n",
      "Paramters: {'C': 1000, 'epsilon': 0.2, 'kernel': 'linear'} \t:mean+/-std: 479.185 (+/-9.582)\n",
      "Paramters: {'C': 0.01, 'epsilon': 0.1, 'gamma': 1e-05, 'kernel': 'rbf'} \t:mean+/-std: 1046.520 (+/-10.394)\n",
      "Paramters: {'C': 0.01, 'epsilon': 0.1, 'gamma': 0.0001, 'kernel': 'rbf'} \t:mean+/-std: 1046.520 (+/-10.394)\n",
      "Paramters: {'C': 0.01, 'epsilon': 0.1, 'gamma': 0.001, 'kernel': 'rbf'} \t:mean+/-std: 1046.520 (+/-10.392)\n",
      "Paramters: {'C': 0.01, 'epsilon': 0.1, 'gamma': 0.0001, 'kernel': 'rbf'} \t:mean+/-std: 1046.520 (+/-10.394)\n",
      "Paramters: {'C': 0.01, 'epsilon': 0.1, 'gamma': 0.01, 'kernel': 'rbf'} \t:mean+/-std: 1046.515 (+/-10.391)\n",
      "Paramters: {'C': 0.01, 'epsilon': 0.1, 'gamma': 0.1, 'kernel': 'rbf'} \t:mean+/-std: 1046.469 (+/-10.428)\n",
      "Paramters: {'C': 0.01, 'epsilon': 0.2, 'gamma': 1e-05, 'kernel': 'rbf'} \t:mean+/-std: 1046.520 (+/-10.394)\n",
      "Paramters: {'C': 0.01, 'epsilon': 0.2, 'gamma': 0.0001, 'kernel': 'rbf'} \t:mean+/-std: 1046.520 (+/-10.394)\n",
      "Paramters: {'C': 0.01, 'epsilon': 0.2, 'gamma': 0.001, 'kernel': 'rbf'} \t:mean+/-std: 1046.520 (+/-10.392)\n",
      "Paramters: {'C': 0.01, 'epsilon': 0.2, 'gamma': 0.0001, 'kernel': 'rbf'} \t:mean+/-std: 1046.520 (+/-10.394)\n",
      "Paramters: {'C': 0.01, 'epsilon': 0.2, 'gamma': 0.01, 'kernel': 'rbf'} \t:mean+/-std: 1046.515 (+/-10.391)\n",
      "Paramters: {'C': 0.01, 'epsilon': 0.2, 'gamma': 0.1, 'kernel': 'rbf'} \t:mean+/-std: 1046.469 (+/-10.428)\n",
      "Paramters: {'C': 0.02, 'epsilon': 0.1, 'gamma': 1e-05, 'kernel': 'rbf'} \t:mean+/-std: 1046.520 (+/-10.394)\n",
      "Paramters: {'C': 0.02, 'epsilon': 0.1, 'gamma': 0.0001, 'kernel': 'rbf'} \t:mean+/-std: 1046.520 (+/-10.393)\n",
      "Paramters: {'C': 0.02, 'epsilon': 0.1, 'gamma': 0.001, 'kernel': 'rbf'} \t:mean+/-std: 1046.520 (+/-10.390)\n",
      "Paramters: {'C': 0.02, 'epsilon': 0.1, 'gamma': 0.0001, 'kernel': 'rbf'} \t:mean+/-std: 1046.520 (+/-10.393)\n",
      "Paramters: {'C': 0.02, 'epsilon': 0.1, 'gamma': 0.01, 'kernel': 'rbf'} \t:mean+/-std: 1046.509 (+/-10.388)\n",
      "Paramters: {'C': 0.02, 'epsilon': 0.1, 'gamma': 0.1, 'kernel': 'rbf'} \t:mean+/-std: 1046.418 (+/-10.462)\n",
      "Paramters: {'C': 0.02, 'epsilon': 0.2, 'gamma': 1e-05, 'kernel': 'rbf'} \t:mean+/-std: 1046.520 (+/-10.394)\n",
      "Paramters: {'C': 0.02, 'epsilon': 0.2, 'gamma': 0.0001, 'kernel': 'rbf'} \t:mean+/-std: 1046.520 (+/-10.393)\n",
      "Paramters: {'C': 0.02, 'epsilon': 0.2, 'gamma': 0.001, 'kernel': 'rbf'} \t:mean+/-std: 1046.520 (+/-10.390)\n",
      "Paramters: {'C': 0.02, 'epsilon': 0.2, 'gamma': 0.0001, 'kernel': 'rbf'} \t:mean+/-std: 1046.520 (+/-10.393)\n",
      "Paramters: {'C': 0.02, 'epsilon': 0.2, 'gamma': 0.01, 'kernel': 'rbf'} \t:mean+/-std: 1046.509 (+/-10.388)\n",
      "Paramters: {'C': 0.02, 'epsilon': 0.2, 'gamma': 0.1, 'kernel': 'rbf'} \t:mean+/-std: 1046.418 (+/-10.462)\n",
      "Paramters: {'C': 0.5, 'epsilon': 0.1, 'gamma': 1e-05, 'kernel': 'rbf'} \t:mean+/-std: 1046.520 (+/-10.393)\n",
      "Paramters: {'C': 0.5, 'epsilon': 0.1, 'gamma': 0.0001, 'kernel': 'rbf'} \t:mean+/-std: 1046.520 (+/-10.382)\n",
      "Paramters: {'C': 0.5, 'epsilon': 0.1, 'gamma': 0.001, 'kernel': 'rbf'} \t:mean+/-std: 1046.513 (+/-10.290)\n",
      "Paramters: {'C': 0.5, 'epsilon': 0.1, 'gamma': 0.0001, 'kernel': 'rbf'} \t:mean+/-std: 1046.520 (+/-10.382)\n",
      "Paramters: {'C': 0.5, 'epsilon': 0.1, 'gamma': 0.01, 'kernel': 'rbf'} \t:mean+/-std: 1046.219 (+/-10.327)\n",
      "Paramters: {'C': 0.5, 'epsilon': 0.1, 'gamma': 0.1, 'kernel': 'rbf'} \t:mean+/-std: 1043.968 (+/-12.144)\n",
      "Paramters: {'C': 0.5, 'epsilon': 0.2, 'gamma': 1e-05, 'kernel': 'rbf'} \t:mean+/-std: 1046.520 (+/-10.393)\n",
      "Paramters: {'C': 0.5, 'epsilon': 0.2, 'gamma': 0.0001, 'kernel': 'rbf'} \t:mean+/-std: 1046.520 (+/-10.382)\n",
      "Paramters: {'C': 0.5, 'epsilon': 0.2, 'gamma': 0.001, 'kernel': 'rbf'} \t:mean+/-std: 1046.513 (+/-10.290)\n",
      "Paramters: {'C': 0.5, 'epsilon': 0.2, 'gamma': 0.0001, 'kernel': 'rbf'} \t:mean+/-std: 1046.520 (+/-10.382)\n",
      "Paramters: {'C': 0.5, 'epsilon': 0.2, 'gamma': 0.01, 'kernel': 'rbf'} \t:mean+/-std: 1046.223 (+/-10.318)\n",
      "Paramters: {'C': 0.5, 'epsilon': 0.2, 'gamma': 0.1, 'kernel': 'rbf'} \t:mean+/-std: 1043.968 (+/-12.144)\n",
      "Paramters: {'C': 1, 'epsilon': 0.1, 'gamma': 1e-05, 'kernel': 'rbf'} \t:mean+/-std: 1046.520 (+/-10.391)\n",
      "Paramters: {'C': 1, 'epsilon': 0.1, 'gamma': 0.0001, 'kernel': 'rbf'} \t:mean+/-std: 1046.520 (+/-10.369)\n",
      "Paramters: {'C': 1, 'epsilon': 0.1, 'gamma': 0.001, 'kernel': 'rbf'} \t:mean+/-std: 1046.507 (+/-10.187)\n",
      "Paramters: {'C': 1, 'epsilon': 0.1, 'gamma': 0.0001, 'kernel': 'rbf'} \t:mean+/-std: 1046.520 (+/-10.369)\n",
      "Paramters: {'C': 1, 'epsilon': 0.1, 'gamma': 0.01, 'kernel': 'rbf'} \t:mean+/-std: 1045.862 (+/-10.390)\n",
      "Paramters: {'C': 1, 'epsilon': 0.1, 'gamma': 0.1, 'kernel': 'rbf'} \t:mean+/-std: 1041.335 (+/-14.129)\n",
      "Paramters: {'C': 1, 'epsilon': 0.2, 'gamma': 1e-05, 'kernel': 'rbf'} \t:mean+/-std: 1046.520 (+/-10.391)\n",
      "Paramters: {'C': 1, 'epsilon': 0.2, 'gamma': 0.0001, 'kernel': 'rbf'} \t:mean+/-std: 1046.520 (+/-10.369)\n",
      "Paramters: {'C': 1, 'epsilon': 0.2, 'gamma': 0.001, 'kernel': 'rbf'} \t:mean+/-std: 1046.507 (+/-10.187)\n",
      "Paramters: {'C': 1, 'epsilon': 0.2, 'gamma': 0.0001, 'kernel': 'rbf'} \t:mean+/-std: 1046.520 (+/-10.369)\n",
      "Paramters: {'C': 1, 'epsilon': 0.2, 'gamma': 0.01, 'kernel': 'rbf'} \t:mean+/-std: 1045.862 (+/-10.390)\n",
      "Paramters: {'C': 1, 'epsilon': 0.2, 'gamma': 0.1, 'kernel': 'rbf'} \t:mean+/-std: 1041.335 (+/-14.129)\n"
     ]
    }
   ],
   "source": [
    "    \n",
    "    for mean, std, params in zip(means, stds, clf.cv_results_['params']):\n",
    "        print(\"Paramters: %r \\t:mean+/-std: %0.3f (+/-%0.03f)\"\n",
    "              % (params, mean, std * 2))"
   ]
  },
  {
   "cell_type": "code",
   "execution_count": 57,
   "metadata": {
    "collapsed": false
   },
   "outputs": [
    {
     "name": "stdout",
     "output_type": "stream",
     "text": [
      "(for reporting only) Test Error once optimal model is picked by CV : 882.068026\n"
     ]
    }
   ],
   "source": [
    "\n",
    "y_predict = clf.predict(X_test) #Reduce X to the selected features and then predict using the underlying estimator.\n",
    "rmse_model = np.sqrt(mean_squared_error(y_test, y_predict))\n",
    "print(\"(for reporting only) Test Error once optimal model is picked by CV : %f\" % rmse_model)"
   ]
  },
  {
   "cell_type": "code",
   "execution_count": null,
   "metadata": {
    "collapsed": true
   },
   "outputs": [],
   "source": []
  },
  {
   "cell_type": "code",
   "execution_count": null,
   "metadata": {
    "collapsed": true
   },
   "outputs": [],
   "source": []
  }
 ],
 "metadata": {
  "anaconda-cloud": {},
  "kernelspec": {
   "display_name": "Python 3",
   "language": "python",
   "name": "python3"
  },
  "language_info": {
   "codemirror_mode": {
    "name": "ipython",
    "version": 3
   },
   "file_extension": ".py",
   "mimetype": "text/x-python",
   "name": "python",
   "nbconvert_exporter": "python",
   "pygments_lexer": "ipython3",
   "version": "3.6.0"
  }
 },
 "nbformat": 4,
 "nbformat_minor": 0
}
