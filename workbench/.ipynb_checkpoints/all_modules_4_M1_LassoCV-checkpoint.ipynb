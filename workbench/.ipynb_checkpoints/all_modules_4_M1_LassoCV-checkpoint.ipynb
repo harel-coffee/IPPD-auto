{
 "cells": [
  {
   "cell_type": "markdown",
   "metadata": {},
   "source": [
    "### Split: Train, Validation, Test Sets"
   ]
  },
  {
   "cell_type": "code",
   "execution_count": 2,
   "metadata": {
    "collapsed": false
   },
   "outputs": [],
   "source": [
    "# Read Back\n",
    "import pickle\n",
    "\n",
    "with open('datasetIPPD.pickle', 'rb') as handle:\n",
    "    data = pickle.load(handle)"
   ]
  },
  {
   "cell_type": "code",
   "execution_count": 3,
   "metadata": {
    "collapsed": false
   },
   "outputs": [
    {
     "data": {
      "text/plain": [
       "dict_keys(['X_train', 'y_train', 'X_test', 'y_test'])"
      ]
     },
     "execution_count": 3,
     "metadata": {},
     "output_type": "execute_result"
    }
   ],
   "source": [
    "data.keys()"
   ]
  },
  {
   "cell_type": "code",
   "execution_count": 160,
   "metadata": {
    "collapsed": false
   },
   "outputs": [],
   "source": [
    "X_train = data['X_train']\n",
    "y_train = data['y_train']\n",
    "\n",
    "X_test = data['X_test']\n",
    "y_test = data['y_test']"
   ]
  },
  {
   "cell_type": "code",
   "execution_count": null,
   "metadata": {
    "collapsed": false
   },
   "outputs": [
    {
     "name": "stdout",
     "output_type": "stream",
     "text": [
      "Dataset size read: train 256 and test 65 \n",
      "Search Space (# of alphas) : 20 \n",
      "model.fit(X_train, y_train)...\n"
     ]
    },
    {
     "name": "stderr",
     "output_type": "stream",
     "text": [
      "/data/home/a1singh/anaconda3/lib/python3.6/site-packages/sklearn/linear_model/coordinate_descent.py:484: ConvergenceWarning: Objective did not converge. You might want to increase the number of iterations. Fitting data with very small alpha may cause precision problems.\n",
      "  ConvergenceWarning)\n"
     ]
    }
   ],
   "source": [
    "LassoCVModel('datasetIPPD.pickle')"
   ]
  },
  {
   "cell_type": "code",
   "execution_count": 170,
   "metadata": {
    "collapsed": false
   },
   "outputs": [
    {
     "name": "stderr",
     "output_type": "stream",
     "text": [
      "/data/home/a1singh/anaconda3/lib/python3.6/site-packages/sklearn/linear_model/coordinate_descent.py:484: ConvergenceWarning: Objective did not converge. You might want to increase the number of iterations. Fitting data with very small alpha may cause precision problems.\n",
      "  ConvergenceWarning)\n"
     ]
    }
   ],
   "source": [
    "def LassoCVModel(filename):\n",
    "    #open file and get the dictionary\n",
    "    import pickle\n",
    "    from sklearn.linear_model import LassoCV\n",
    "    from sklearn.metrics import mean_squared_error \n",
    "\n",
    "    with open(filename, 'rb') as handle:\n",
    "        data = pickle.load(handle)\n",
    "\n",
    "    #extract X_train, y_train, X_test, t_test\n",
    "    X_train = data['X_train']\n",
    "    y_train = data['y_train']\n",
    "    X_test = data['X_test']\n",
    "    y_test = data['y_test']\n",
    "    print(\"Dataset size read: train %d and test %d \" %(len(y_train), len(y_test)))\n",
    "    \n",
    "    #Normalize\n",
    "    from sklearn import preprocessing\n",
    "    X_train = preprocessing.normalize(X_train, norm='l1')\n",
    "    X_test  = preprocessing.normalize(X_test,  norm='l1')\n",
    "    \n",
    "    alphas = np.logspace(-25, -.5, 20)\n",
    "    print(\"Search Space (# of alphas) : %d \" % len(alphas))\n",
    "    model = LassoCV(alphas=alphas, random_state=0, eps=.001, n_alphas=100, fit_intercept=True, \n",
    "                   normalize=False, precompute='auto', max_iter=1000000, \n",
    "                   tol=0.0001, copy_X=True, cv=None, verbose=False, n_jobs=-1, \n",
    "                   positive=False, selection='random')\n",
    "\n",
    "    print(\"model.fit(X_train, y_train)...\")\n",
    "    model.fit(X_train, y_train)\n",
    "    \n",
    "    pos = np.where(alphas == model.alpha_)\n",
    "    idx = pos[0][0]\n",
    "    mse_optimal = model.mse_path_[idx]\n",
    "    mean_rmse_cv   = np.sqrt(mse_optimal).mean()\n",
    "\n",
    "    print(\"mse_optimal %s \\n\" % mse_optimal)\n",
    "\n",
    "    # Model's performance based CV (compare this with others for model selection)\n",
    "    print(\"Mean of RMSE on %d fold CV: %f\" % (len(mse_optimal), mean_rmse_cv))\n",
    "\n",
    "    #Reporting Score on Test Set\n",
    "    y_predict = model.predict(X_test)\n",
    "    reporting_testscore = np.sqrt(mean_squared_error(y_test, y_predict))\n",
    "    \n",
    "    return {filename: {'mean_rmse_cv': mean_rmse_cv, 'reporting_testscore':reporting_testscore }}"
   ]
  },
  {
   "cell_type": "markdown",
   "metadata": {},
   "source": [
    "# Normalize X_train and X_test"
   ]
  },
  {
   "cell_type": "code",
   "execution_count": 67,
   "metadata": {
    "collapsed": true
   },
   "outputs": [],
   "source": [
    "from sklearn import preprocessing\n",
    "\n",
    "X_train = preprocessing.normalize(X_train, norm='l1')\n",
    "X_test  = preprocessing.normalize(X_test,  norm='l1')"
   ]
  },
  {
   "cell_type": "markdown",
   "metadata": {
    "collapsed": true
   },
   "source": [
    "<h1> Model 1 : LassoCV </h1>"
   ]
  },
  {
   "cell_type": "code",
   "execution_count": 128,
   "metadata": {
    "collapsed": false
   },
   "outputs": [
    {
     "name": "stdout",
     "output_type": "stream",
     "text": [
      "Automatically created module for IPython interactive environment\n"
     ]
    }
   ],
   "source": [
    "from __future__ import print_function\n",
    "print(__doc__)\n",
    "\n",
    "import numpy as np\n",
    "import matplotlib.pyplot as plt\n",
    "\n",
    "from sklearn import datasets\n",
    "from sklearn.linear_model import LassoCV\n",
    "from sklearn.linear_model import Lasso\n",
    "from sklearn.model_selection import KFold\n",
    "from sklearn.model_selection import cross_val_score\n",
    "\n",
    "alphas = np.logspace(-25, -.5, 20)"
   ]
  },
  {
   "cell_type": "code",
   "execution_count": 97,
   "metadata": {
    "collapsed": false
   },
   "outputs": [
    {
     "data": {
      "text/plain": [
       "array([  1.00000000e-20,   1.06246783e-19,   1.12883789e-18,\n",
       "         1.19935395e-17,   1.27427499e-16,   1.35387618e-15,\n",
       "         1.43844989e-14,   1.52830673e-13,   1.62377674e-12,\n",
       "         1.72521055e-11,   1.83298071e-10,   1.94748304e-09,\n",
       "         2.06913808e-08,   2.19839265e-07,   2.33572147e-06,\n",
       "         2.48162892e-05,   2.63665090e-04,   2.80135676e-03,\n",
       "         2.97635144e-02,   3.16227766e-01])"
      ]
     },
     "execution_count": 97,
     "metadata": {},
     "output_type": "execute_result"
    }
   ],
   "source": [
    "alphas"
   ]
  },
  {
   "cell_type": "code",
   "execution_count": 129,
   "metadata": {
    "collapsed": true
   },
   "outputs": [],
   "source": [
    "model = LassoCV(alphas=alphas, random_state=0, eps=.001, n_alphas=100, fit_intercept=True, \n",
    "                   normalize=False, precompute='auto', max_iter=1000000, \n",
    "                   tol=0.0001, copy_X=True, cv=None, verbose=False, n_jobs=-1, \n",
    "                   positive=False, selection='random')"
   ]
  },
  {
   "cell_type": "code",
   "execution_count": 130,
   "metadata": {
    "collapsed": false
   },
   "outputs": [
    {
     "name": "stderr",
     "output_type": "stream",
     "text": [
      "/data/home/a1singh/anaconda3/lib/python3.6/site-packages/sklearn/linear_model/coordinate_descent.py:484: ConvergenceWarning: Objective did not converge. You might want to increase the number of iterations. Fitting data with very small alpha may cause precision problems.\n",
      "  ConvergenceWarning)\n"
     ]
    },
    {
     "name": "stdout",
     "output_type": "stream",
     "text": [
      "CPU times: user 3min 58s, sys: 58.3 ms, total: 3min 58s\n",
      "Wall time: 1min 37s\n"
     ]
    },
    {
     "data": {
      "text/plain": [
       "LassoCV(alphas=array([  1.00000e-25,   1.94748e-24,   3.79269e-23,   7.38620e-22,\n",
       "         1.43845e-20,   2.80136e-19,   5.45559e-18,   1.06247e-16,\n",
       "         2.06914e-15,   4.02961e-14,   7.84760e-13,   1.52831e-11,\n",
       "         2.97635e-10,   5.79639e-09,   1.12884e-07,   2.19839e-06,\n",
       "         4.28133e-05,   8.33782e-04,   1.62378e-02,   3.16228e-01]),\n",
       "    copy_X=True, cv=None, eps=0.001, fit_intercept=True, max_iter=1000000,\n",
       "    n_alphas=100, n_jobs=-1, normalize=False, positive=False,\n",
       "    precompute='auto', random_state=0, selection='random', tol=0.0001,\n",
       "    verbose=False)"
      ]
     },
     "execution_count": 130,
     "metadata": {},
     "output_type": "execute_result"
    }
   ],
   "source": [
    "%time model.fit(X_train, y_train)"
   ]
  },
  {
   "cell_type": "code",
   "execution_count": 131,
   "metadata": {
    "collapsed": false
   },
   "outputs": [
    {
     "name": "stdout",
     "output_type": "stream",
     "text": [
      "[alpha: 0.00000000000000206914, score: 0.70210\n"
     ]
    }
   ],
   "source": [
    "print(\"[alpha: {0:0.20f}, score: {1:.5f}\".\n",
    "          format(model.alpha_, model.score(X_test, y_test)))"
   ]
  },
  {
   "cell_type": "code",
   "execution_count": 132,
   "metadata": {
    "collapsed": false
   },
   "outputs": [],
   "source": [
    "# MSE for each alpha \n",
    "# You can extract mean MSE of the *optimal combination from mse_path_\n",
    "# This mse should be compared with other models, for model selection !"
   ]
  },
  {
   "cell_type": "code",
   "execution_count": 133,
   "metadata": {
    "collapsed": false
   },
   "outputs": [
    {
     "data": {
      "text/plain": [
       "2.0691380811147901e-15"
      ]
     },
     "execution_count": 133,
     "metadata": {},
     "output_type": "execute_result"
    }
   ],
   "source": [
    "# Chosen Alpha\n",
    "model.alpha_"
   ]
  },
  {
   "cell_type": "code",
   "execution_count": 134,
   "metadata": {
    "collapsed": false
   },
   "outputs": [
    {
     "data": {
      "text/plain": [
       "(array([8]),)"
      ]
     },
     "execution_count": 134,
     "metadata": {},
     "output_type": "execute_result"
    }
   ],
   "source": [
    "#position of alpha that was picked (optimal)\n",
    "pos = np.where(alphas == model.alpha_)\n",
    "pos"
   ]
  },
  {
   "cell_type": "code",
   "execution_count": 135,
   "metadata": {
    "collapsed": false
   },
   "outputs": [
    {
     "data": {
      "text/plain": [
       "8"
      ]
     },
     "execution_count": 135,
     "metadata": {},
     "output_type": "execute_result"
    }
   ],
   "source": [
    "#extract the index\n",
    "idx = pos[0][0]\n",
    "idx"
   ]
  },
  {
   "cell_type": "code",
   "execution_count": 146,
   "metadata": {
    "collapsed": false
   },
   "outputs": [
    {
     "name": "stdout",
     "output_type": "stream",
     "text": [
      "mse_optimal [ 361578.91094663  305504.14989661  309913.57045708] \n",
      "\n",
      "Mean of RMSE on 3 fold CV: 570.245811\n"
     ]
    }
   ],
   "source": [
    "# Get MSE of this index corresponding to optimal alpha\n",
    "\n",
    "# mse_path_ : array, shape (n_alphas, n_folds)\n",
    "\n",
    "mse_optimal = model.mse_path_[idx]\n",
    "\n",
    "print(\"mse_optimal %s \\n\" % mse_optimal)\n",
    "\n",
    "# Lasso's performance based on 3 fold CV (compare this with others for model selection)\n",
    "print(\"Mean of RMSE on %d fold CV: %f\" % (len(mse_optimal), np.sqrt(mse_optimal).mean()))"
   ]
  },
  {
   "cell_type": "markdown",
   "metadata": {
    "collapsed": true
   },
   "source": [
    "################################################################################\n",
    "################################################################################\n",
    "############################  R E P O R T I N G #####################################\n",
    "################################################################################\n",
    "################################################################################"
   ]
  },
  {
   "cell_type": "code",
   "execution_count": 147,
   "metadata": {
    "collapsed": false
   },
   "outputs": [
    {
     "name": "stdout",
     "output_type": "stream",
     "text": [
      "(for reporting only) Test Error once optimal model is picked by CV : 478.491177\n"
     ]
    }
   ],
   "source": [
    "from sklearn.metrics import mean_squared_error \n",
    "\n",
    "y_predict = model.predict(X_test) #Reduce X to the selected features and then predict using the underlying estimator.\n",
    "rmse_model = np.sqrt(mean_squared_error(y_test, y_predict))\n",
    "print(\"(for reporting only) Test Error once optimal model is picked by CV : %f\" % rmse_model)"
   ]
  },
  {
   "cell_type": "code",
   "execution_count": null,
   "metadata": {
    "collapsed": true
   },
   "outputs": [],
   "source": []
  }
 ],
 "metadata": {
  "anaconda-cloud": {},
  "kernelspec": {
   "display_name": "Python 3",
   "language": "python",
   "name": "python3"
  },
  "language_info": {
   "codemirror_mode": {
    "name": "ipython",
    "version": 3
   },
   "file_extension": ".py",
   "mimetype": "text/x-python",
   "name": "python",
   "nbconvert_exporter": "python",
   "pygments_lexer": "ipython3",
   "version": "3.6.0"
  }
 },
 "nbformat": 4,
 "nbformat_minor": 0
}
