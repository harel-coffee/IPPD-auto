{
 "cells": [
  {
   "cell_type": "code",
   "execution_count": 1,
   "metadata": {
    "collapsed": false
   },
   "outputs": [
    {
     "name": "stdout",
     "output_type": "stream",
     "text": [
      "\n"
     ]
    }
   ],
   "source": [
    "# import all the filenames\n",
    "from allfunctions import *"
   ]
  },
  {
   "cell_type": "code",
   "execution_count": 2,
   "metadata": {
    "collapsed": false
   },
   "outputs": [],
   "source": [
    "%load_ext autoreload\n",
    "%autoreload 2"
   ]
  },
  {
   "cell_type": "markdown",
   "metadata": {},
   "source": [
    "5  def GradientBoostingCVModel(filename):\n",
    "\n",
    "6  def RandomForestCVModel(filename):"
   ]
  },
  {
   "cell_type": "code",
   "execution_count": 3,
   "metadata": {
    "collapsed": false
   },
   "outputs": [],
   "source": [
    "def wrapper(functionList = [], filenames = [ 'datasetIPPD.pickle' ]):\n",
    "    if __name__ == '__main__':\n",
    "        global model_selection\n",
    "        \n",
    "        global c\n",
    "        initialize_c()\n",
    "                \n",
    "        model_selection = {}\n",
    "        \n",
    "        for f in functionList:\n",
    "            print()\n",
    "            for filename in filenames:\n",
    "                out = f(filename)\n",
    "                newScore = out[filename]['train_rmse_cv_picking']\n",
    "\n",
    "                if f in model_selection:\n",
    "                    #compare scores and select more accurate model\n",
    "                    oldScore = model_selection[f]['train_rmse_cv_picking']\n",
    "                    if(newScore < oldScore):\n",
    "                        print(\"【【【】】】switching models for %s...\" % filename)\n",
    "                        print(\"【【【】】】newScore: %f < oldScore: %f\" % (newScore, oldScore))\n",
    "                        print(\"【【【】】】newModel: %s \\n\" % f)\n",
    "                        print(100*'_')\n",
    "                        model_selection[f] = out[filename]\n",
    "                else:\n",
    "                    #no score to compare\n",
    "                    print(\"【【】】adding new model for %s \\n\" % filename)\n",
    "                    print(\"【【【】】】newScore: %f \" % (newScore))\n",
    "                    print(100*'_')\n",
    "                    model_selection[f] = out[filename]\n",
    "    return model_selection"
   ]
  },
  {
   "cell_type": "markdown",
   "metadata": {},
   "source": [
    "<:>:<:>:<:>:<:>:<:>:<:>:<:>:<:>:<:>:<:>:<:>:<:>:<:>:<:>:<:><:>:<:>:<:>:<:>:<:>:<:>:<:>:<:>:<:>:<:>:<:>:<:>:<:>:<:>:<:>\n",
    "<:>:<:>:<:>:<:>:<:>:<:>:<:>:<:>:<:>:<:>:<:>:<:>:<:>:<:>:<:><:>:<:>:<:>:<:>:<:>:<:>:<:>:<:>:<:>:<:>:<:>:<:>:<:>:<:>:<:>\n",
    "<:>:<:>:<:>:<:>:<:>:<:>:<:>:<:>:<:>:<:>:<:>:<:>:<:>:<:>:<:><:>:<:>:<:>:<:>:<:>:<:>:<:>:<:>:<:>:<:>:<:>:<:>:<:>:<:>:<:>\n",
    "<:>:<:>:<:>:<:>:<:>:<:>:<:>:<:>:<:>:<:>:<:>:<:>:<:>:<:>:<:><:>:<:>:<:>:<:>:<:>:<:>:<:>:<:>:<:>:<:>:<:>:<:>:<:>:<:>:<:>\n"
   ]
  },
  {
   "cell_type": "markdown",
   "metadata": {},
   "source": [
    "# GradientBoostingCVModel"
   ]
  },
  {
   "cell_type": "code",
   "execution_count": 4,
   "metadata": {
    "collapsed": false,
    "scrolled": false
   },
   "outputs": [
    {
     "name": "stdout",
     "output_type": "stream",
     "text": [
      "\n",
      "Dataset size read: train 258 and test 63 \n",
      "\n",
      "# Tuning hyper-parameters \n",
      "\n",
      "Starting grdsurch.fit(X_train, y_train)\n",
      "\n",
      "Best parameters set found on development set:\n",
      "\n",
      "{'learning_rate': 0.001, 'loss': 'ls', 'n_estimators': 10000}\n",
      "GradientBoostingRegressor(alpha=0.9, criterion='friedman_mse', init=None,\n",
      "             learning_rate=0.001, loss='ls', max_depth=None,\n",
      "             max_features=None, max_leaf_nodes=None,\n",
      "             min_impurity_split=1e-07, min_samples_leaf=1,\n",
      "             min_samples_split=2, min_weight_fraction_leaf=0.0,\n",
      "             n_estimators=10000, presort='auto', random_state=None,\n",
      "             subsample=1.0, verbose=0, warm_start=False)\n",
      "\n",
      "Full Test Set: 63\n"
     ]
    },
    {
     "data": {
      "text/plain": [
       "array([  173.64,    45.97,   141.66,   164.88,    67.96,    98.47,\n",
       "        3309.8 ,  2896.76,  3359.25,  1861.97,  3344.01,  3371.75,\n",
       "        2855.36,  1423.13,  1721.38,  1323.62,  2396.68,  2472.15,\n",
       "        3028.27,  2877.71,  2024.25,  2314.1 ,  1174.9 ,  1723.63,\n",
       "        3348.91,  2683.3 ,  1873.73,  2684.27,  2083.07,   998.65,\n",
       "         976.5 ,  1868.49,  1076.1 ,  1073.56,  3326.93,  2265.29,\n",
       "         644.52,   298.64,  3059.32,  1083.5 ,  1001.19,   322.13,\n",
       "        2543.24,   692.62,  2478.78,   198.71,  1031.47,  2457.56,\n",
       "        1801.74,   216.12,  1925.99,  2125.54,  2239.73,   747.33,\n",
       "         810.75,   462.77,  2106.02,   218.82,  1634.05,  1802.26,\n",
       "        1332.56,  2142.12,   462.06])"
      ]
     },
     "metadata": {},
     "output_type": "display_data"
    },
    {
     "data": {
      "text/plain": [
       "array([  164.08454036,    46.42922964,   142.37502478,   166.86390844,\n",
       "          68.69860448,    97.8974606 ,  3176.83818487,  3124.7405384 ,\n",
       "        3356.95004825,  1883.07163128,  3390.30854127,  3356.95004825,\n",
       "        2746.67761754,  1370.70477765,  1621.03846873,  1356.88040217,\n",
       "        2387.01386549,  2536.67210462,  2997.94126661,  2746.67761754,\n",
       "        1914.91519273,  2195.28252703,  3450.85580602,  1736.66324533,\n",
       "        3450.85580602,  2563.41089669,  1798.61544662,  2610.81875502,\n",
       "        2272.5840349 ,  1044.07953307,   996.4466849 ,  1705.25466423,\n",
       "         996.4466849 ,   996.4466849 ,  3172.19839448,  2087.15741162,\n",
       "         693.78535774,   323.26709605,  2941.57381303,   996.4466849 ,\n",
       "         996.4466849 ,   323.26709605,  2087.15741162,   666.93157087,\n",
       "        2442.38136424,   206.77735852,  1085.74765069,  2442.38136424,\n",
       "        1799.42041025,   198.642726  ,  2036.66469265,  1992.92166876,\n",
       "        2451.860936  ,   750.31780387,   750.31780387,   505.10888128,\n",
       "        2039.35957091,   207.89730792,  1799.42041025,  1703.70473424,\n",
       "        1468.66035247,  2028.4400642 ,   482.18491687])"
      ]
     },
     "metadata": {},
     "output_type": "display_data"
    },
    {
     "name": "stdout",
     "output_type": "stream",
     "text": [
      "A: 6\n"
     ]
    },
    {
     "data": {
      "text/plain": [
       "array([ 173.64,   45.97,  141.66,  164.88,   67.96,   98.47])"
      ]
     },
     "metadata": {},
     "output_type": "display_data"
    },
    {
     "data": {
      "text/plain": [
       "array([ 164.08454036,   46.42922964,  142.37502478,  166.86390844,\n",
       "         68.69860448,   97.8974606 ])"
      ]
     },
     "metadata": {},
     "output_type": "display_data"
    },
    {
     "name": "stdout",
     "output_type": "stream",
     "text": [
      "B: 19\n"
     ]
    },
    {
     "data": {
      "text/plain": [
       "array([ 3309.8 ,  2896.76,  3359.25,  1861.97,  3344.01,  3371.75,\n",
       "        2855.36,  1423.13,  1721.38,  1323.62,  2396.68,  2472.15,\n",
       "        3028.27,  2877.71,  2024.25,  2314.1 ,  1174.9 ,  1723.63,  3348.91])"
      ]
     },
     "metadata": {},
     "output_type": "display_data"
    },
    {
     "data": {
      "text/plain": [
       "array([ 3176.83818487,  3124.7405384 ,  3356.95004825,  1883.07163128,\n",
       "        3390.30854127,  3356.95004825,  2746.67761754,  1370.70477765,\n",
       "        1621.03846873,  1356.88040217,  2387.01386549,  2536.67210462,\n",
       "        2997.94126661,  2746.67761754,  1914.91519273,  2195.28252703,\n",
       "        3450.85580602,  1736.66324533,  3450.85580602])"
      ]
     },
     "metadata": {},
     "output_type": "display_data"
    },
    {
     "name": "stdout",
     "output_type": "stream",
     "text": [
      "C: 19\n"
     ]
    },
    {
     "data": {
      "text/plain": [
       "array([ 2683.3 ,  1873.73,  2684.27,  2083.07,   998.65,   976.5 ,\n",
       "        1868.49,  1076.1 ,  1073.56,  3326.93,  2265.29,   644.52,\n",
       "         298.64,  3059.32,  1083.5 ,  1001.19,   322.13,  2543.24,   692.62])"
      ]
     },
     "metadata": {},
     "output_type": "display_data"
    },
    {
     "data": {
      "text/plain": [
       "array([ 2563.41089669,  1798.61544662,  2610.81875502,  2272.5840349 ,\n",
       "        1044.07953307,   996.4466849 ,  1705.25466423,   996.4466849 ,\n",
       "         996.4466849 ,  3172.19839448,  2087.15741162,   693.78535774,\n",
       "         323.26709605,  2941.57381303,   996.4466849 ,   996.4466849 ,\n",
       "         323.26709605,  2087.15741162,   666.93157087])"
      ]
     },
     "metadata": {},
     "output_type": "display_data"
    },
    {
     "name": "stdout",
     "output_type": "stream",
     "text": [
      "D: 19\n"
     ]
    },
    {
     "data": {
      "text/plain": [
       "array([ 2478.78,   198.71,  1031.47,  2457.56,  1801.74,   216.12,\n",
       "        1925.99,  2125.54,  2239.73,   747.33,   810.75,   462.77,\n",
       "        2106.02,   218.82,  1634.05,  1802.26,  1332.56,  2142.12,   462.06])"
      ]
     },
     "metadata": {},
     "output_type": "display_data"
    },
    {
     "data": {
      "text/plain": [
       "array([ 2442.38136424,   206.77735852,  1085.74765069,  2442.38136424,\n",
       "        1799.42041025,   198.642726  ,  2036.66469265,  1992.92166876,\n",
       "        2451.860936  ,   750.31780387,   750.31780387,   505.10888128,\n",
       "        2039.35957091,   207.89730792,  1799.42041025,  1703.70473424,\n",
       "        1468.66035247,  2028.4400642 ,   482.18491687])"
      ]
     },
     "metadata": {},
     "output_type": "display_data"
    },
    {
     "name": "stdout",
     "output_type": "stream",
     "text": [
      "【【】】adding new model for datasetIPPD.pickle \n",
      "\n",
      "【【【】】】newScore: 746.022741 \n",
      "____________________________________________________________________________________________________\n"
     ]
    }
   ],
   "source": [
    "t_boosting = wrapper([GradientBoostingCVModel])"
   ]
  },
  {
   "cell_type": "code",
   "execution_count": 5,
   "metadata": {
    "collapsed": false
   },
   "outputs": [
    {
     "name": "stdout",
     "output_type": "stream",
     "text": [
      "________________________________________________________________________________\n",
      "Model: GradientBoostingRegr\n",
      "Train RMSE: 746.022741 \n",
      "\n",
      "A...TestA RMSE   : 4.017424\n",
      "A...y_test_A Mean: 115.430000 \n",
      "\n",
      "B...TestB RMSE   : 530.002843\n",
      "B...y_test_B Mean: 2464.612105 \n",
      "\n",
      "C...TestC RMSE   : 143.557978\n",
      "C...y_test_C Mean: 1608.160526 \n",
      "\n",
      "D...TestD RMSE   : 91.375947\n",
      "D...y_test_D Mean: 1378.651579\n",
      "________________________________________________________________________________\n"
     ]
    }
   ],
   "source": [
    "t_print = t_boosting\n",
    "\n",
    "for key in t_print.keys():\n",
    "    print(80*'_')\n",
    "    \n",
    "    print('Model: %s' % (str(t_print[key]['model'])[:20]))\n",
    "    print('Train RMSE: %f \\n' % (t_print[key]['train_rmse_cv_picking']))\n",
    "    \n",
    "    #print('Test RMSE   : %f' % (t_print[key]['test_rmse_reporting']))\n",
    "    #print('Overall Mean: %f \\n' % (t_print[key]['test_mean_y_comparing']))\n",
    "    \n",
    "    print('A...TestA RMSE   : %f' % (t_print[key]['test_rmse_reportingA']))\n",
    "    print('A...y_test_A Mean: %f \\n' % (t_print[key]['test_mean_y_comparingA']))\n",
    "    \n",
    "    print('B...TestB RMSE   : %f' % (t_print[key]['test_rmse_reportingB']))\n",
    "    print('B...y_test_B Mean: %f \\n' % (t_print[key]['test_mean_y_comparingB']))\n",
    "    \n",
    "    print('C...TestC RMSE   : %f' % (t_print[key]['test_rmse_reportingC']))\n",
    "    print('C...y_test_C Mean: %f \\n' % (t_print[key]['test_mean_y_comparingC']))\n",
    "    \n",
    "    print('D...TestD RMSE   : %f' % (t_print[key]['test_rmse_reportingD']))\n",
    "    print('D...y_test_D Mean: %f' % (t_print[key]['test_mean_y_comparingD']))\n",
    "    \n",
    "    print(80*'_')"
   ]
  },
  {
   "cell_type": "code",
   "execution_count": 6,
   "metadata": {
    "collapsed": false
   },
   "outputs": [
    {
     "name": "stdout",
     "output_type": "stream",
     "text": [
      "4C4_gb_tuned_ABCD\n"
     ]
    }
   ],
   "source": [
    "# write the model\n",
    "import pickle\n",
    "\n",
    "#||||||||||||||||||| \n",
    "t_ = t_boosting\n",
    "prefix = '4C4_' + 'gb'\n",
    "#||||||||||||||||||| \n",
    "\n",
    "for k in t_.keys():\n",
    "    mo   = t_[k]['model']\n",
    "    fname = prefix + '_tuned_ABCD' + '.pickle'\n",
    "       \n",
    "    print(fname)\n",
    "    # write the model to a file\n",
    "    with open(fname, 'wb') as handle:\n",
    "        pickle.dump(mo, handle)"
   ]
  },
  {
   "cell_type": "markdown",
   "metadata": {},
   "source": [
    "<:>:<:>:<:>:<:>:<:>:<:>:<:>:<:>:<:>:<:>:<:>:<:>:<:>:<:>:<:><:>:<:>:<:>:<:>:<:>:<:>:<:>:<:>:<:>:<:>:<:>:<:>:<:>:<:>:<:>\n",
    "<:>:<:>:<:>:<:>:<:>:<:>:<:>:<:>:<:>:<:>:<:>:<:>:<:>:<:>:<:><:>:<:>:<:>:<:>:<:>:<:>:<:>:<:>:<:>:<:>:<:>:<:>:<:>:<:>:<:>\n",
    "<:>:<:>:<:>:<:>:<:>:<:>:<:>:<:>:<:>:<:>:<:>:<:>:<:>:<:>:<:><:>:<:>:<:>:<:>:<:>:<:>:<:>:<:>:<:>:<:>:<:>:<:>:<:>:<:>:<:>\n",
    "<:>:<:>:<:>:<:>:<:>:<:>:<:>:<:>:<:>:<:>:<:>:<:>:<:>:<:>:<:><:>:<:>:<:>:<:>:<:>:<:>:<:>:<:>:<:>:<:>:<:>:<:>:<:>:<:>:<:>\n"
   ]
  },
  {
   "cell_type": "markdown",
   "metadata": {},
   "source": [
    "# Random Forest"
   ]
  },
  {
   "cell_type": "code",
   "execution_count": 7,
   "metadata": {
    "collapsed": false,
    "scrolled": false
   },
   "outputs": [
    {
     "name": "stdout",
     "output_type": "stream",
     "text": [
      "\n",
      "Dataset size read: train 258 and test 63 \n",
      "\n",
      "# Tuning hyper-parameters \n",
      "\n",
      "Starting grdsurch.fit(X_train, y_train)\n",
      "\n",
      "Best parameters set found on development set:\n",
      "\n",
      "{'n_estimators': 10000}\n",
      "RandomForestRegressor(bootstrap=True, criterion='mse', max_depth=None,\n",
      "           max_features='auto', max_leaf_nodes=None,\n",
      "           min_impurity_split=1e-07, min_samples_leaf=1,\n",
      "           min_samples_split=2, min_weight_fraction_leaf=0.0,\n",
      "           n_estimators=10000, n_jobs=-1, oob_score=True,\n",
      "           random_state=None, verbose=0, warm_start=False)\n",
      "\n",
      "Full Test Set: 63\n"
     ]
    },
    {
     "data": {
      "text/plain": [
       "array([  173.64,    45.97,   141.66,   164.88,    67.96,    98.47,\n",
       "        3309.8 ,  2896.76,  3359.25,  1861.97,  3344.01,  3371.75,\n",
       "        2855.36,  1423.13,  1721.38,  1323.62,  2396.68,  2472.15,\n",
       "        3028.27,  2877.71,  2024.25,  2314.1 ,  1174.9 ,  1723.63,\n",
       "        3348.91,  2683.3 ,  1873.73,  2684.27,  2083.07,   998.65,\n",
       "         976.5 ,  1868.49,  1076.1 ,  1073.56,  3326.93,  2265.29,\n",
       "         644.52,   298.64,  3059.32,  1083.5 ,  1001.19,   322.13,\n",
       "        2543.24,   692.62,  2478.78,   198.71,  1031.47,  2457.56,\n",
       "        1801.74,   216.12,  1925.99,  2125.54,  2239.73,   747.33,\n",
       "         810.75,   462.77,  2106.02,   218.82,  1634.05,  1802.26,\n",
       "        1332.56,  2142.12,   462.06])"
      ]
     },
     "metadata": {},
     "output_type": "display_data"
    },
    {
     "data": {
      "text/plain": [
       "array([  165.42427217,    48.3215166 ,   144.048571  ,   166.25511097,\n",
       "          73.18529923,    98.8831969 ,  3199.52719057,  3065.55162984,\n",
       "        3303.77074025,  1896.54664082,  3390.28791733,  3303.77074025,\n",
       "        2759.40176086,  1369.0426272 ,  1621.93885529,  1357.98645402,\n",
       "        2408.74666625,  2527.73106958,  3008.60388074,  2759.40176086,\n",
       "        2211.24619667,  2188.56408886,  3412.14660567,  1721.0975885 ,\n",
       "        3412.14660567,  2571.48377001,  1808.76016608,  2618.71206677,\n",
       "        2260.56353361,  1045.34610395,  1022.04674557,  1718.88355785,\n",
       "        1030.25747533,  1030.25747533,  3144.31562225,  2167.90059143,\n",
       "         691.59834691,   316.93068662,  2929.18153198,  1022.04674557,\n",
       "        1030.25747533,   316.93068662,  2167.90059143,   670.49738857,\n",
       "        2432.43604431,   207.21706674,  1082.75326729,  2432.43604431,\n",
       "        1772.68287098,   200.194416  ,  2036.44173017,  1999.58637917,\n",
       "        2429.83160373,   763.47230943,   763.47230943,   503.30977636,\n",
       "        2037.69959947,   206.89992229,  1772.68287098,  1697.64320299,\n",
       "        1467.7094088 ,  2024.94653369,   483.52658957])"
      ]
     },
     "metadata": {},
     "output_type": "display_data"
    },
    {
     "name": "stdout",
     "output_type": "stream",
     "text": [
      "A: 6\n"
     ]
    },
    {
     "data": {
      "text/plain": [
       "array([ 173.64,   45.97,  141.66,  164.88,   67.96,   98.47])"
      ]
     },
     "metadata": {},
     "output_type": "display_data"
    },
    {
     "data": {
      "text/plain": [
       "array([ 165.42427217,   48.3215166 ,  144.048571  ,  166.25511097,\n",
       "         73.18529923,   98.8831969 ])"
      ]
     },
     "metadata": {},
     "output_type": "display_data"
    },
    {
     "name": "stdout",
     "output_type": "stream",
     "text": [
      "B: 19\n"
     ]
    },
    {
     "data": {
      "text/plain": [
       "array([ 3309.8 ,  2896.76,  3359.25,  1861.97,  3344.01,  3371.75,\n",
       "        2855.36,  1423.13,  1721.38,  1323.62,  2396.68,  2472.15,\n",
       "        3028.27,  2877.71,  2024.25,  2314.1 ,  1174.9 ,  1723.63,  3348.91])"
      ]
     },
     "metadata": {},
     "output_type": "display_data"
    },
    {
     "data": {
      "text/plain": [
       "array([ 3199.52719057,  3065.55162984,  3303.77074025,  1896.54664082,\n",
       "        3390.28791733,  3303.77074025,  2759.40176086,  1369.0426272 ,\n",
       "        1621.93885529,  1357.98645402,  2408.74666625,  2527.73106958,\n",
       "        3008.60388074,  2759.40176086,  2211.24619667,  2188.56408886,\n",
       "        3412.14660567,  1721.0975885 ,  3412.14660567])"
      ]
     },
     "metadata": {},
     "output_type": "display_data"
    },
    {
     "name": "stdout",
     "output_type": "stream",
     "text": [
      "C: 19\n"
     ]
    },
    {
     "data": {
      "text/plain": [
       "array([ 2683.3 ,  1873.73,  2684.27,  2083.07,   998.65,   976.5 ,\n",
       "        1868.49,  1076.1 ,  1073.56,  3326.93,  2265.29,   644.52,\n",
       "         298.64,  3059.32,  1083.5 ,  1001.19,   322.13,  2543.24,   692.62])"
      ]
     },
     "metadata": {},
     "output_type": "display_data"
    },
    {
     "data": {
      "text/plain": [
       "array([ 2571.48377001,  1808.76016608,  2618.71206677,  2260.56353361,\n",
       "        1045.34610395,  1022.04674557,  1718.88355785,  1030.25747533,\n",
       "        1030.25747533,  3144.31562225,  2167.90059143,   691.59834691,\n",
       "         316.93068662,  2929.18153198,  1022.04674557,  1030.25747533,\n",
       "         316.93068662,  2167.90059143,   670.49738857])"
      ]
     },
     "metadata": {},
     "output_type": "display_data"
    },
    {
     "name": "stdout",
     "output_type": "stream",
     "text": [
      "D: 19\n"
     ]
    },
    {
     "data": {
      "text/plain": [
       "array([ 2478.78,   198.71,  1031.47,  2457.56,  1801.74,   216.12,\n",
       "        1925.99,  2125.54,  2239.73,   747.33,   810.75,   462.77,\n",
       "        2106.02,   218.82,  1634.05,  1802.26,  1332.56,  2142.12,   462.06])"
      ]
     },
     "metadata": {},
     "output_type": "display_data"
    },
    {
     "data": {
      "text/plain": [
       "array([ 2432.43604431,   207.21706674,  1082.75326729,  2432.43604431,\n",
       "        1772.68287098,   200.194416  ,  2036.44173017,  1999.58637917,\n",
       "        2429.83160373,   763.47230943,   763.47230943,   503.30977636,\n",
       "        2037.69959947,   206.89992229,  1772.68287098,  1697.64320299,\n",
       "        1467.7094088 ,  2024.94653369,   483.52658957])"
      ]
     },
     "metadata": {},
     "output_type": "display_data"
    },
    {
     "name": "stdout",
     "output_type": "stream",
     "text": [
      "【【】】adding new model for datasetIPPD.pickle \n",
      "\n",
      "【【【】】】newScore: 838.669528 \n",
      "____________________________________________________________________________________________________\n"
     ]
    }
   ],
   "source": [
    "t_rforest = wrapper([RandomForestCVModel])"
   ]
  },
  {
   "cell_type": "code",
   "execution_count": 8,
   "metadata": {
    "collapsed": false
   },
   "outputs": [
    {
     "name": "stdout",
     "output_type": "stream",
     "text": [
      "________________________________________________________________________________\n",
      "Model: RandomForestRegresso\n",
      "Train RMSE: 838.669528 \n",
      "\n",
      "A...TestA RMSE   : 4.244575\n",
      "A...y_test_A Mean: 115.430000 \n",
      "\n",
      "B...TestB RMSE   : 520.754160\n",
      "B...y_test_B Mean: 2464.612105 \n",
      "\n",
      "C...TestC RMSE   : 123.858301\n",
      "C...y_test_C Mean: 1608.160526 \n",
      "\n",
      "D...TestD RMSE   : 86.557045\n",
      "D...y_test_D Mean: 1378.651579\n",
      "________________________________________________________________________________\n"
     ]
    }
   ],
   "source": [
    "t_print = t_rforest\n",
    "\n",
    "for key in t_print.keys():\n",
    "    print(80*'_')\n",
    "    \n",
    "    print('Model: %s' % (str(t_print[key]['model'])[:20]))\n",
    "    print('Train RMSE: %f \\n' % (t_print[key]['train_rmse_cv_picking']))\n",
    "    \n",
    "    #print('Test RMSE   : %f' % (t_print[key]['test_rmse_reporting']))\n",
    "    #print('Overall Mean: %f \\n' % (t_print[key]['test_mean_y_comparing']))\n",
    "    \n",
    "    print('A...TestA RMSE   : %f' % (t_print[key]['test_rmse_reportingA']))\n",
    "    print('A...y_test_A Mean: %f \\n' % (t_print[key]['test_mean_y_comparingA']))\n",
    "    \n",
    "    print('B...TestB RMSE   : %f' % (t_print[key]['test_rmse_reportingB']))\n",
    "    print('B...y_test_B Mean: %f \\n' % (t_print[key]['test_mean_y_comparingB']))\n",
    "    \n",
    "    print('C...TestC RMSE   : %f' % (t_print[key]['test_rmse_reportingC']))\n",
    "    print('C...y_test_C Mean: %f \\n' % (t_print[key]['test_mean_y_comparingC']))\n",
    "    \n",
    "    print('D...TestD RMSE   : %f' % (t_print[key]['test_rmse_reportingD']))\n",
    "    print('D...y_test_D Mean: %f' % (t_print[key]['test_mean_y_comparingD']))\n",
    "    \n",
    "    print(80*'_')"
   ]
  },
  {
   "cell_type": "code",
   "execution_count": 9,
   "metadata": {
    "collapsed": false
   },
   "outputs": [
    {
     "name": "stdout",
     "output_type": "stream",
     "text": [
      "4C4_rf_tuned_ABCD\n"
     ]
    }
   ],
   "source": [
    "# write the model\n",
    "import pickle\n",
    "\n",
    "#||||||||||||||||||| \n",
    "t_ = t_rforest\n",
    "prefix = '4C4_' + 'rf'\n",
    "#||||||||||||||||||| \n",
    "\n",
    "for k in t_.keys():\n",
    "    mo   = t_[k]['model']\n",
    "    fname = prefix + '_tuned_ABCD' + '.pickle'\n",
    "       \n",
    "    print(fname)\n",
    "    # write the model to a file\n",
    "    with open(fname, 'wb') as handle:\n",
    "        pickle.dump(mo, handle)"
   ]
  },
  {
   "cell_type": "markdown",
   "metadata": {},
   "source": [
    "<:>:<:>:<:>:<:>:<:>:<:>:<:>:<:>:<:>:<:>:<:>:<:>:<:>:<:>:<:><:>:<:>:<:>:<:>:<:>:<:>:<:>:<:>:<:>:<:>:<:>:<:>:<:>:<:>:<:>\n",
    "<:>:<:>:<:>:<:>:<:>:<:>:<:>:<:>:<:>:<:>:<:>:<:>:<:>:<:>:<:><:>:<:>:<:>:<:>:<:>:<:>:<:>:<:>:<:>:<:>:<:>:<:>:<:>:<:>:<:>\n",
    "<:>:<:>:<:>:<:>:<:>:<:>:<:>:<:>:<:>:<:>:<:>:<:>:<:>:<:>:<:><:>:<:>:<:>:<:>:<:>:<:>:<:>:<:>:<:>:<:>:<:>:<:>:<:>:<:>:<:>\n",
    "<:>:<:>:<:>:<:>:<:>:<:>:<:>:<:>:<:>:<:>:<:>:<:>:<:>:<:>:<:><:>:<:>:<:>:<:>:<:>:<:>:<:>:<:>:<:>\n"
   ]
  },
  {
   "cell_type": "markdown",
   "metadata": {},
   "source": [
    "# Which features were given most weights by each model ?"
   ]
  },
  {
   "cell_type": "code",
   "execution_count": null,
   "metadata": {
    "collapsed": true
   },
   "outputs": [],
   "source": []
  }
 ],
 "metadata": {
  "kernelspec": {
   "display_name": "Python 3",
   "language": "python",
   "name": "python3"
  },
  "language_info": {
   "codemirror_mode": {
    "name": "ipython",
    "version": 3
   },
   "file_extension": ".py",
   "mimetype": "text/x-python",
   "name": "python",
   "nbconvert_exporter": "python",
   "pygments_lexer": "ipython3",
   "version": "3.6.0"
  }
 },
 "nbformat": 4,
 "nbformat_minor": 2
}
