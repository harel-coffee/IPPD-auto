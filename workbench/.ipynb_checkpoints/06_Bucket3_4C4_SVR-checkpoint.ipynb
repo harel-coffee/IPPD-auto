{
 "cells": [
  {
   "cell_type": "code",
   "execution_count": 1,
   "metadata": {
    "collapsed": false
   },
   "outputs": [
    {
     "name": "stdout",
     "output_type": "stream",
     "text": [
      "\n"
     ]
    }
   ],
   "source": [
    "# import all the filenames\n",
    "from allfunctions import *"
   ]
  },
  {
   "cell_type": "code",
   "execution_count": 2,
   "metadata": {
    "collapsed": false
   },
   "outputs": [],
   "source": [
    "%load_ext autoreload\n",
    "%autoreload 2"
   ]
  },
  {
   "cell_type": "markdown",
   "metadata": {},
   "source": [
    "7  def SVRSigmoidCVModel(filename):\n",
    "\n",
    "8 def SVRRbfCVModel(filename):"
   ]
  },
  {
   "cell_type": "code",
   "execution_count": 3,
   "metadata": {
    "collapsed": false
   },
   "outputs": [],
   "source": [
    "def wrapper(functionList = [], filenames = [ 'datasetIPPD.pickle' ]):\n",
    "    if __name__ == '__main__':\n",
    "        global model_selection\n",
    "        \n",
    "        global c\n",
    "        initialize_c()\n",
    "                \n",
    "        model_selection = {}\n",
    "        \n",
    "        for f in functionList:\n",
    "            print()\n",
    "            for filename in filenames:\n",
    "                out = f(filename)\n",
    "                newScore = out[filename]['train_rmse_cv_picking']\n",
    "\n",
    "                if f in model_selection:\n",
    "                    #compare scores and select more accurate model\n",
    "                    oldScore = model_selection[f]['train_rmse_cv_picking']\n",
    "                    if(newScore < oldScore):\n",
    "                        print(\"【【【】】】switching models for %s...\" % filename)\n",
    "                        print(\"【【【】】】newScore: %f < oldScore: %f\" % (newScore, oldScore))\n",
    "                        print(\"【【【】】】newModel: %s \\n\" % f)\n",
    "                        print(100*'_')\n",
    "                        model_selection[f] = out[filename]\n",
    "                else:\n",
    "                    #no score to compare\n",
    "                    print(\"【【】】adding new model for %s \\n\" % filename)\n",
    "                    print(\"【【【】】】newScore: %f \" % (newScore))\n",
    "                    print(100*'_')\n",
    "                    model_selection[f] = out[filename]\n",
    "    return model_selection"
   ]
  },
  {
   "cell_type": "markdown",
   "metadata": {},
   "source": [
    "<:>:<:>:<:>:<:>:<:>:<:>:<:>:<:>:<:>:<:>:<:>:<:>:<:>:<:>:<:><:>:<:>:<:>:<:>:<:>:<:>:<:>:<:>:<:>:<:>:<:>:<:>:<:>:<:>:<:>\n",
    "<:>:<:>:<:>:<:>:<:>:<:>:<:>:<:>:<:>:<:>:<:>:<:>:<:>:<:>:<:><:>:<:>:<:>:<:>:<:>:<:>:<:>:<:>:<:>:<:>:<:>:<:>:<:>:<:>:<:>\n",
    "<:>:<:>:<:>:<:>:<:>:<:>:<:>:<:>:<:>:<:>:<:>:<:>:<:>:<:>:<:><:>:<:>:<:>:<:>:<:>:<:>:<:>:<:>:<:>:<:>:<:>:<:>:<:>:<:>:<:>\n",
    "<:>:<:>:<:>:<:>:<:>:<:>:<:>:<:>:<:>:<:>:<:>:<:>:<:>:<:>:<:><:>:<:>:<:>:<:>:<:>:<:>:<:>:<:>:<:>:<:>:<:>:<:>:<:>:<:>:<:>\n"
   ]
  },
  {
   "cell_type": "markdown",
   "metadata": {},
   "source": [
    "# 1 Sigmoid Kernel"
   ]
  },
  {
   "cell_type": "code",
   "execution_count": 4,
   "metadata": {
    "collapsed": false
   },
   "outputs": [
    {
     "name": "stdout",
     "output_type": "stream",
     "text": [
      "\n",
      "Dataset size read: train 258 and test 63 \n",
      "\n",
      "# Tuning hyper-parameters \n",
      "\n",
      "Starting grdsurch.fit(X_train, y_train)\n",
      "\n",
      "Best parameters set found on development set:\n",
      "\n",
      "{'gamma': 1.0000000000000001e-15, 'C': 1.0000000000000001e-05}\n",
      "SVR(C=1.0000000000000001e-05, cache_size=20480, coef0=0.0, degree=3,\n",
      "  epsilon=0.1, gamma=1.0000000000000001e-15, kernel='sigmoid', max_iter=-1,\n",
      "  shrinking=False, tol=1e-07, verbose=False)\n",
      "\n",
      "Full Test Set: 63\n"
     ]
    },
    {
     "data": {
      "text/plain": [
       "array([  173.64,    45.97,   141.66,   164.88,    67.96,    98.47,\n",
       "        3309.8 ,  2896.76,  3359.25,  1861.97,  3344.01,  3371.75,\n",
       "        2855.36,  1423.13,  1721.38,  1323.62,  2396.68,  2472.15,\n",
       "        3028.27,  2877.71,  2024.25,  2314.1 ,  1174.9 ,  1723.63,\n",
       "        3348.91,  2683.3 ,  1873.73,  2684.27,  2083.07,   998.65,\n",
       "         976.5 ,  1868.49,  1076.1 ,  1073.56,  3326.93,  2265.29,\n",
       "         644.52,   298.64,  3059.32,  1083.5 ,  1001.19,   322.13,\n",
       "        2543.24,   692.62,  2478.78,   198.71,  1031.47,  2457.56,\n",
       "        1801.74,   216.12,  1925.99,  2125.54,  2239.73,   747.33,\n",
       "         810.75,   462.77,  2106.02,   218.82,  1634.05,  1802.26,\n",
       "        1332.56,  2142.12,   462.06])"
      ]
     },
     "metadata": {},
     "output_type": "display_data"
    },
    {
     "data": {
      "text/plain": [
       "array([ 1621.04,  1621.04,  1621.04,  1621.04,  1621.04,  1621.04,\n",
       "        1621.04,  1621.04,  1621.04,  1621.04,  1621.04,  1621.04,\n",
       "        1621.04,  1621.04,  1621.04,  1621.04,  1621.04,  1621.04,\n",
       "        1621.04,  1621.04,  1621.04,  1621.04,  1621.04,  1621.04,\n",
       "        1621.04,  1621.04,  1621.04,  1621.04,  1621.04,  1621.04,\n",
       "        1621.04,  1621.04,  1621.04,  1621.04,  1621.04,  1621.04,\n",
       "        1621.04,  1621.04,  1621.04,  1621.04,  1621.04,  1621.04,\n",
       "        1621.04,  1621.04,  1621.04,  1621.04,  1621.04,  1621.04,\n",
       "        1621.04,  1621.04,  1621.04,  1621.04,  1621.04,  1621.04,\n",
       "        1621.04,  1621.04,  1621.04,  1621.04,  1621.04,  1621.04,\n",
       "        1621.04,  1621.04,  1621.04])"
      ]
     },
     "metadata": {},
     "output_type": "display_data"
    },
    {
     "name": "stdout",
     "output_type": "stream",
     "text": [
      "A: 6\n"
     ]
    },
    {
     "data": {
      "text/plain": [
       "array([ 173.64,   45.97,  141.66,  164.88,   67.96,   98.47])"
      ]
     },
     "metadata": {},
     "output_type": "display_data"
    },
    {
     "data": {
      "text/plain": [
       "array([ 1621.04,  1621.04,  1621.04,  1621.04,  1621.04,  1621.04])"
      ]
     },
     "metadata": {},
     "output_type": "display_data"
    },
    {
     "name": "stdout",
     "output_type": "stream",
     "text": [
      "B: 19\n"
     ]
    },
    {
     "data": {
      "text/plain": [
       "array([ 3309.8 ,  2896.76,  3359.25,  1861.97,  3344.01,  3371.75,\n",
       "        2855.36,  1423.13,  1721.38,  1323.62,  2396.68,  2472.15,\n",
       "        3028.27,  2877.71,  2024.25,  2314.1 ,  1174.9 ,  1723.63,  3348.91])"
      ]
     },
     "metadata": {},
     "output_type": "display_data"
    },
    {
     "data": {
      "text/plain": [
       "array([ 1621.04,  1621.04,  1621.04,  1621.04,  1621.04,  1621.04,\n",
       "        1621.04,  1621.04,  1621.04,  1621.04,  1621.04,  1621.04,\n",
       "        1621.04,  1621.04,  1621.04,  1621.04,  1621.04,  1621.04,  1621.04])"
      ]
     },
     "metadata": {},
     "output_type": "display_data"
    },
    {
     "name": "stdout",
     "output_type": "stream",
     "text": [
      "C: 19\n"
     ]
    },
    {
     "data": {
      "text/plain": [
       "array([ 2683.3 ,  1873.73,  2684.27,  2083.07,   998.65,   976.5 ,\n",
       "        1868.49,  1076.1 ,  1073.56,  3326.93,  2265.29,   644.52,\n",
       "         298.64,  3059.32,  1083.5 ,  1001.19,   322.13,  2543.24,   692.62])"
      ]
     },
     "metadata": {},
     "output_type": "display_data"
    },
    {
     "data": {
      "text/plain": [
       "array([ 1621.04,  1621.04,  1621.04,  1621.04,  1621.04,  1621.04,\n",
       "        1621.04,  1621.04,  1621.04,  1621.04,  1621.04,  1621.04,\n",
       "        1621.04,  1621.04,  1621.04,  1621.04,  1621.04,  1621.04,  1621.04])"
      ]
     },
     "metadata": {},
     "output_type": "display_data"
    },
    {
     "name": "stdout",
     "output_type": "stream",
     "text": [
      "D: 19\n"
     ]
    },
    {
     "data": {
      "text/plain": [
       "array([ 2478.78,   198.71,  1031.47,  2457.56,  1801.74,   216.12,\n",
       "        1925.99,  2125.54,  2239.73,   747.33,   810.75,   462.77,\n",
       "        2106.02,   218.82,  1634.05,  1802.26,  1332.56,  2142.12,   462.06])"
      ]
     },
     "metadata": {},
     "output_type": "display_data"
    },
    {
     "data": {
      "text/plain": [
       "array([ 1621.04,  1621.04,  1621.04,  1621.04,  1621.04,  1621.04,\n",
       "        1621.04,  1621.04,  1621.04,  1621.04,  1621.04,  1621.04,\n",
       "        1621.04,  1621.04,  1621.04,  1621.04,  1621.04,  1621.04,  1621.04])"
      ]
     },
     "metadata": {},
     "output_type": "display_data"
    },
    {
     "name": "stdout",
     "output_type": "stream",
     "text": [
      "【【】】adding new model for datasetIPPD.pickle \n",
      "\n",
      "【【【】】】newScore: 1033.960548 \n",
      "____________________________________________________________________________________________________\n"
     ]
    }
   ],
   "source": [
    "t_SVRSigmoidCVModel = wrapper([ SVRSigmoidCVModel ])"
   ]
  },
  {
   "cell_type": "code",
   "execution_count": 5,
   "metadata": {
    "collapsed": false
   },
   "outputs": [
    {
     "name": "stdout",
     "output_type": "stream",
     "text": [
      "________________________________________________________________________________\n",
      "Model: SVR(C=1.000000000000\n",
      "Train RMSE: 1033.960548 \n",
      "\n",
      "A...TestA RMSE   : 1506.378454\n",
      "A...y_test_A Mean: 115.430000 \n",
      "\n",
      "B...TestB RMSE   : 1123.368465\n",
      "B...y_test_B Mean: 2464.612105 \n",
      "\n",
      "C...TestC RMSE   : 922.403983\n",
      "C...y_test_C Mean: 1608.160526 \n",
      "\n",
      "D...TestD RMSE   : 834.669441\n",
      "D...y_test_D Mean: 1378.651579\n",
      "________________________________________________________________________________\n"
     ]
    }
   ],
   "source": [
    "t_print = t_SVRSigmoidCVModel\n",
    "\n",
    "for key in t_print.keys():\n",
    "    print(80*'_')\n",
    "    \n",
    "    print('Model: %s' % (str(t_print[key]['model'])[:20]))\n",
    "    print('Train RMSE: %f \\n' % (t_print[key]['train_rmse_cv_picking']))\n",
    "    \n",
    "    #print('Test RMSE   : %f' % (t_print[key]['test_rmse_reporting']))\n",
    "    #print('Overall Mean: %f \\n' % (t_print[key]['test_mean_y_comparing']))\n",
    "    \n",
    "    print('A...TestA RMSE   : %f' % (t_print[key]['test_rmse_reportingA']))\n",
    "    print('A...y_test_A Mean: %f \\n' % (t_print[key]['test_mean_y_comparingA']))\n",
    "    \n",
    "    print('B...TestB RMSE   : %f' % (t_print[key]['test_rmse_reportingB']))\n",
    "    print('B...y_test_B Mean: %f \\n' % (t_print[key]['test_mean_y_comparingB']))\n",
    "    \n",
    "    print('C...TestC RMSE   : %f' % (t_print[key]['test_rmse_reportingC']))\n",
    "    print('C...y_test_C Mean: %f \\n' % (t_print[key]['test_mean_y_comparingC']))\n",
    "    \n",
    "    print('D...TestD RMSE   : %f' % (t_print[key]['test_rmse_reportingD']))\n",
    "    print('D...y_test_D Mean: %f' % (t_print[key]['test_mean_y_comparingD']))\n",
    "    \n",
    "    print(80*'_')"
   ]
  },
  {
   "cell_type": "code",
   "execution_count": 6,
   "metadata": {
    "collapsed": false
   },
   "outputs": [
    {
     "name": "stdout",
     "output_type": "stream",
     "text": [
      "4C4_SVRSigmoidCVModel_tuned_ABCD.pickle\n"
     ]
    }
   ],
   "source": [
    "# write the model\n",
    "import pickle\n",
    "\n",
    "#||||||||||||||||||| \n",
    "t_ = t_SVRSigmoidCVModel\n",
    "prefix = '4C4_' + 'SVRSigmoidCVModel'\n",
    "#||||||||||||||||||| \n",
    "\n",
    "for k in t_.keys():\n",
    "    mo   = t_[k]['model']\n",
    "    fname = prefix + '_tuned_ABCD' + '.pickle'\n",
    "       \n",
    "    print(fname)\n",
    "    # write the model to a file\n",
    "    with open(fname, 'wb') as handle:\n",
    "        pickle.dump(mo, handle)"
   ]
  },
  {
   "cell_type": "markdown",
   "metadata": {},
   "source": [
    "# 3 Linear Kernel"
   ]
  },
  {
   "cell_type": "code",
   "execution_count": 8,
   "metadata": {
    "collapsed": false
   },
   "outputs": [
    {
     "name": "stdout",
     "output_type": "stream",
     "text": [
      "\n",
      "Dataset size read: train 258 and test 63 \n",
      "\n",
      "# Tuning hyper-parameters \n",
      "\n",
      "Starting grdsurch.fit(X_train, y_train)\n",
      "\n",
      " Best parameters set found on development set:\n",
      "\n",
      "{'C': 3.1622776601683792e-08}\n",
      "SVR(C=3.1622776601683792e-08, cache_size=20480, coef0=0.0, degree=3,\n",
      "  epsilon=0.1, gamma='auto', kernel='linear', max_iter=-1, shrinking=False,\n",
      "  tol=1e-07, verbose=False)\n",
      "\n",
      "Full Test Set: 63\n"
     ]
    },
    {
     "data": {
      "text/plain": [
       "array([  173.64,    45.97,   141.66,   164.88,    67.96,    98.47,\n",
       "        3309.8 ,  2896.76,  3359.25,  1861.97,  3344.01,  3371.75,\n",
       "        2855.36,  1423.13,  1721.38,  1323.62,  2396.68,  2472.15,\n",
       "        3028.27,  2877.71,  2024.25,  2314.1 ,  1174.9 ,  1723.63,\n",
       "        3348.91,  2683.3 ,  1873.73,  2684.27,  2083.07,   998.65,\n",
       "         976.5 ,  1868.49,  1076.1 ,  1073.56,  3326.93,  2265.29,\n",
       "         644.52,   298.64,  3059.32,  1083.5 ,  1001.19,   322.13,\n",
       "        2543.24,   692.62,  2478.78,   198.71,  1031.47,  2457.56,\n",
       "        1801.74,   216.12,  1925.99,  2125.54,  2239.73,   747.33,\n",
       "         810.75,   462.77,  2106.02,   218.82,  1634.05,  1802.26,\n",
       "        1332.56,  2142.12,   462.06])"
      ]
     },
     "metadata": {},
     "output_type": "display_data"
    },
    {
     "data": {
      "text/plain": [
       "array([ 1557.67243072,  1557.67241406,  1557.67242912,  1557.6724293 ,\n",
       "        1557.67241862,  1557.67242307,  1583.35996685,  1583.35996827,\n",
       "        1583.35996827,  1583.35996683,  1583.35997112,  1583.35996827,\n",
       "        1583.35997111,  1583.35996825,  1583.35996968,  1583.35996683,\n",
       "        1583.35996684,  1583.35997111,  1583.35996685,  1583.35997111,\n",
       "        1583.3599711 ,  1583.35996826,  1583.35996969,  1583.3599711 ,\n",
       "        1583.35996969,  1724.37014765,  1724.37013962,  1724.3701505 ,\n",
       "        1724.37014596,  1724.37013121,  1724.37012836,  1724.37014104,\n",
       "        1724.37012694,  1724.37012694,  1724.37015399,  1724.37014169,\n",
       "        1724.37012495,  1724.37012149,  1724.37015257,  1724.37012836,\n",
       "        1724.37012694,  1724.37012149,  1724.37014169,  1724.37012637,\n",
       "        1552.06439563,  1552.06437154,  1552.06438495,  1552.06439563,\n",
       "        1552.06438674,  1552.06437438,  1552.06439403,  1552.06438976,\n",
       "        1552.06439421,  1552.06438193,  1552.06438193,  1552.06437736,\n",
       "        1552.06439261,  1552.06437581,  1552.06438674,  1552.064391  ,\n",
       "        1552.06438656,  1552.06439118,  1552.06437451])"
      ]
     },
     "metadata": {},
     "output_type": "display_data"
    },
    {
     "name": "stdout",
     "output_type": "stream",
     "text": [
      "A: 6\n"
     ]
    },
    {
     "data": {
      "text/plain": [
       "array([ 173.64,   45.97,  141.66,  164.88,   67.96,   98.47])"
      ]
     },
     "metadata": {},
     "output_type": "display_data"
    },
    {
     "data": {
      "text/plain": [
       "array([ 1557.67243072,  1557.67241406,  1557.67242912,  1557.6724293 ,\n",
       "        1557.67241862,  1557.67242307])"
      ]
     },
     "metadata": {},
     "output_type": "display_data"
    },
    {
     "name": "stdout",
     "output_type": "stream",
     "text": [
      "B: 19\n"
     ]
    },
    {
     "data": {
      "text/plain": [
       "array([ 3309.8 ,  2896.76,  3359.25,  1861.97,  3344.01,  3371.75,\n",
       "        2855.36,  1423.13,  1721.38,  1323.62,  2396.68,  2472.15,\n",
       "        3028.27,  2877.71,  2024.25,  2314.1 ,  1174.9 ,  1723.63,  3348.91])"
      ]
     },
     "metadata": {},
     "output_type": "display_data"
    },
    {
     "data": {
      "text/plain": [
       "array([ 1583.35996685,  1583.35996827,  1583.35996827,  1583.35996683,\n",
       "        1583.35997112,  1583.35996827,  1583.35997111,  1583.35996825,\n",
       "        1583.35996968,  1583.35996683,  1583.35996684,  1583.35997111,\n",
       "        1583.35996685,  1583.35997111,  1583.3599711 ,  1583.35996826,\n",
       "        1583.35996969,  1583.3599711 ,  1583.35996969])"
      ]
     },
     "metadata": {},
     "output_type": "display_data"
    },
    {
     "name": "stdout",
     "output_type": "stream",
     "text": [
      "C: 19\n"
     ]
    },
    {
     "data": {
      "text/plain": [
       "array([ 2683.3 ,  1873.73,  2684.27,  2083.07,   998.65,   976.5 ,\n",
       "        1868.49,  1076.1 ,  1073.56,  3326.93,  2265.29,   644.52,\n",
       "         298.64,  3059.32,  1083.5 ,  1001.19,   322.13,  2543.24,   692.62])"
      ]
     },
     "metadata": {},
     "output_type": "display_data"
    },
    {
     "data": {
      "text/plain": [
       "array([ 1724.37014765,  1724.37013962,  1724.3701505 ,  1724.37014596,\n",
       "        1724.37013121,  1724.37012836,  1724.37014104,  1724.37012694,\n",
       "        1724.37012694,  1724.37015399,  1724.37014169,  1724.37012495,\n",
       "        1724.37012149,  1724.37015257,  1724.37012836,  1724.37012694,\n",
       "        1724.37012149,  1724.37014169,  1724.37012637])"
      ]
     },
     "metadata": {},
     "output_type": "display_data"
    },
    {
     "name": "stdout",
     "output_type": "stream",
     "text": [
      "D: 19\n"
     ]
    },
    {
     "data": {
      "text/plain": [
       "array([ 2478.78,   198.71,  1031.47,  2457.56,  1801.74,   216.12,\n",
       "        1925.99,  2125.54,  2239.73,   747.33,   810.75,   462.77,\n",
       "        2106.02,   218.82,  1634.05,  1802.26,  1332.56,  2142.12,   462.06])"
      ]
     },
     "metadata": {},
     "output_type": "display_data"
    },
    {
     "data": {
      "text/plain": [
       "array([ 1552.06439563,  1552.06437154,  1552.06438495,  1552.06439563,\n",
       "        1552.06438674,  1552.06437438,  1552.06439403,  1552.06438976,\n",
       "        1552.06439421,  1552.06438193,  1552.06438193,  1552.06437736,\n",
       "        1552.06439261,  1552.06437581,  1552.06438674,  1552.064391  ,\n",
       "        1552.06438656,  1552.06439118,  1552.06437451])"
      ]
     },
     "metadata": {},
     "output_type": "display_data"
    },
    {
     "name": "stdout",
     "output_type": "stream",
     "text": [
      "【【】】adding new model for datasetIPPD.pickle \n",
      "\n",
      "【【【】】】newScore: 1042.001891 \n",
      "____________________________________________________________________________________________________\n"
     ]
    }
   ],
   "source": [
    "t_SVRLinearCVModel = wrapper([ SVRLinearCVModel ])"
   ]
  },
  {
   "cell_type": "code",
   "execution_count": 11,
   "metadata": {
    "collapsed": false
   },
   "outputs": [
    {
     "name": "stdout",
     "output_type": "stream",
     "text": [
      "________________________________________________________________________________\n",
      "Model: SVR(C=3.1622776601683792e-08, cache_size=20480, coef0=0.0, degree=3,\n",
      "  epsilon=0.1, gamma='auto', kernel='linear', max_iter=-1, shrinking=False,\n",
      "  tol=1e-07, verbose=False)\n",
      "Train RMSE: 1042.001891 \n",
      "\n",
      "A...TestA RMSE   : 1443.044623\n",
      "A...y_test_A Mean: 115.430000 \n",
      "\n",
      "B...TestB RMSE   : 1151.932350\n",
      "B...y_test_B Mean: 2464.612105 \n",
      "\n",
      "C...TestC RMSE   : 929.606305\n",
      "C...y_test_C Mean: 1608.160526 \n",
      "\n",
      "D...TestD RMSE   : 817.308337\n",
      "D...y_test_D Mean: 1378.651579\n",
      "________________________________________________________________________________\n"
     ]
    }
   ],
   "source": [
    "t_print = t_SVRLinearCVModel\n",
    "\n",
    "for key in t_print.keys():\n",
    "    print(80*'_')\n",
    "    \n",
    "    print('Model: %s' % (str(t_print[key]['model'])[:200]))\n",
    "    print('Train RMSE: %f \\n' % (t_print[key]['train_rmse_cv_picking']))\n",
    "    \n",
    "    #print('Test RMSE   : %f' % (t_print[key]['test_rmse_reporting']))\n",
    "    #print('Overall Mean: %f \\n' % (t_print[key]['test_mean_y_comparing']))\n",
    "    \n",
    "    print('A...TestA RMSE   : %f' % (t_print[key]['test_rmse_reportingA']))\n",
    "    print('A...y_test_A Mean: %f \\n' % (t_print[key]['test_mean_y_comparingA']))\n",
    "    \n",
    "    print('B...TestB RMSE   : %f' % (t_print[key]['test_rmse_reportingB']))\n",
    "    print('B...y_test_B Mean: %f \\n' % (t_print[key]['test_mean_y_comparingB']))\n",
    "    \n",
    "    print('C...TestC RMSE   : %f' % (t_print[key]['test_rmse_reportingC']))\n",
    "    print('C...y_test_C Mean: %f \\n' % (t_print[key]['test_mean_y_comparingC']))\n",
    "    \n",
    "    print('D...TestD RMSE   : %f' % (t_print[key]['test_rmse_reportingD']))\n",
    "    print('D...y_test_D Mean: %f' % (t_print[key]['test_mean_y_comparingD']))\n",
    "    \n",
    "    print(80*'_')"
   ]
  },
  {
   "cell_type": "code",
   "execution_count": 12,
   "metadata": {
    "collapsed": false
   },
   "outputs": [
    {
     "name": "stdout",
     "output_type": "stream",
     "text": [
      "4C4_SVRLinearCVModel_tuned_ABCD.pickle\n"
     ]
    }
   ],
   "source": [
    "# write the model\n",
    "import pickle\n",
    "\n",
    "#||||||||||||||||||| \n",
    "t_ = t_SVRLinearCVModel\n",
    "prefix = '4C4_' + 'SVRLinearCVModel'\n",
    "#||||||||||||||||||| \n",
    "\n",
    "for k in t_.keys():\n",
    "    mo   = t_[k]['model']\n",
    "    fname = prefix + '_tuned_ABCD' + '.pickle'\n",
    "       \n",
    "    print(fname)\n",
    "    # write the model to a file\n",
    "    with open(fname, 'wb') as handle:\n",
    "        pickle.dump(mo, handle)"
   ]
  },
  {
   "cell_type": "markdown",
   "metadata": {},
   "source": [
    "# 2 Poly Kernel"
   ]
  },
  {
   "cell_type": "code",
   "execution_count": null,
   "metadata": {
    "collapsed": false
   },
   "outputs": [
    {
     "name": "stdout",
     "output_type": "stream",
     "text": [
      "\n",
      "\n",
      "\n",
      "{{ scale_this: >>>>>>>>>>>>>>>>>>>>>>>>>>>>>>>>>>>>>>>>> Scaling X_train and X_test... }}\n",
      "\n",
      "Dataset size read: train 258 and test 63 \n",
      "\n",
      "# Tuning hyper-parameters... \n",
      "\n",
      "Starting grdsurch.fit(X_train, y_train)\n"
     ]
    }
   ],
   "source": [
    "t_SVRPolyCVModel = wrapper([ SVRPolyCVModel ])"
   ]
  },
  {
   "cell_type": "code",
   "execution_count": null,
   "metadata": {
    "collapsed": false
   },
   "outputs": [],
   "source": [
    "t_print = t_SVRPolyCVModel\n",
    "\n",
    "for key in t_print.keys():\n",
    "    print(80*'_')\n",
    "    \n",
    "    print('Model: %s' % (str(t_print[key]['model'])[:20]))\n",
    "    print('Train RMSE: %f \\n' % (t_print[key]['train_rmse_cv_picking']))\n",
    "    \n",
    "    #print('Test RMSE   : %f' % (t_print[key]['test_rmse_reporting']))\n",
    "    #print('Overall Mean: %f \\n' % (t_print[key]['test_mean_y_comparing']))\n",
    "    \n",
    "    print('A...TestA RMSE   : %f' % (t_print[key]['test_rmse_reportingA']))\n",
    "    print('A...y_test_A Mean: %f \\n' % (t_print[key]['test_mean_y_comparingA']))\n",
    "    \n",
    "    print('B...TestB RMSE   : %f' % (t_print[key]['test_rmse_reportingB']))\n",
    "    print('B...y_test_B Mean: %f \\n' % (t_print[key]['test_mean_y_comparingB']))\n",
    "    \n",
    "    print('C...TestC RMSE   : %f' % (t_print[key]['test_rmse_reportingC']))\n",
    "    print('C...y_test_C Mean: %f \\n' % (t_print[key]['test_mean_y_comparingC']))\n",
    "    \n",
    "    print('D...TestD RMSE   : %f' % (t_print[key]['test_rmse_reportingD']))\n",
    "    print('D...y_test_D Mean: %f' % (t_print[key]['test_mean_y_comparingD']))\n",
    "    \n",
    "    print(80*'_')"
   ]
  },
  {
   "cell_type": "code",
   "execution_count": null,
   "metadata": {
    "collapsed": true
   },
   "outputs": [],
   "source": [
    "# write the model\n",
    "import pickle\n",
    "\n",
    "#||||||||||||||||||| \n",
    "t_ = t_SVRPolyCVModel\n",
    "prefix = '4C4_' + 'SVRPolyCVModel'\n",
    "#||||||||||||||||||| \n",
    "\n",
    "for k in t_.keys():\n",
    "    mo   = t_[k]['model']\n",
    "    fname = prefix + '_tuned_ABCD' + '.pickle'\n",
    "       \n",
    "    print(fname)\n",
    "    # write the model to a file\n",
    "    with open(fname, 'wb') as handle:\n",
    "        pickle.dump(mo, handle)"
   ]
  },
  {
   "cell_type": "markdown",
   "metadata": {},
   "source": [
    "# Which features were given most weights by each model ?"
   ]
  },
  {
   "cell_type": "code",
   "execution_count": null,
   "metadata": {
    "collapsed": true
   },
   "outputs": [],
   "source": []
  }
 ],
 "metadata": {
  "kernelspec": {
   "display_name": "Python 3",
   "language": "python",
   "name": "python3"
  },
  "language_info": {
   "codemirror_mode": {
    "name": "ipython",
    "version": 3
   },
   "file_extension": ".py",
   "mimetype": "text/x-python",
   "name": "python",
   "nbconvert_exporter": "python",
   "pygments_lexer": "ipython3",
   "version": "3.4.3"
  }
 },
 "nbformat": 4,
 "nbformat_minor": 2
}
