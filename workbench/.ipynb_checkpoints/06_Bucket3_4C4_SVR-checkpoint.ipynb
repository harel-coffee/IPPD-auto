{
 "cells": [
  {
   "cell_type": "code",
   "execution_count": 1,
   "metadata": {
    "collapsed": false
   },
   "outputs": [
    {
     "name": "stdout",
     "output_type": "stream",
     "text": [
      "\n"
     ]
    }
   ],
   "source": [
    "# import all the filenames\n",
    "from allfunctions import *"
   ]
  },
  {
   "cell_type": "code",
   "execution_count": 2,
   "metadata": {
    "collapsed": false
   },
   "outputs": [],
   "source": [
    "%load_ext autoreload\n",
    "%autoreload 2"
   ]
  },
  {
   "cell_type": "markdown",
   "metadata": {},
   "source": [
    "7  def SVRSigmoidCVModel(filename):\n",
    "\n",
    "8 def SVRRbfCVModel(filename):"
   ]
  },
  {
   "cell_type": "code",
   "execution_count": 3,
   "metadata": {
    "collapsed": false
   },
   "outputs": [],
   "source": [
    "def wrapper(functionList = [], filenames = [ 'datasetIPPD.pickle' ]):\n",
    "    if __name__ == '__main__':\n",
    "        global model_selection\n",
    "        \n",
    "        global c\n",
    "        initialize_c()\n",
    "                \n",
    "        model_selection = {}\n",
    "        \n",
    "        for f in functionList:\n",
    "            print()\n",
    "            for filename in filenames:\n",
    "                out = f(filename)\n",
    "                newScore = out[filename]['train_rmse_cv_picking']\n",
    "\n",
    "                if f in model_selection:\n",
    "                    #compare scores and select more accurate model\n",
    "                    oldScore = model_selection[f]['train_rmse_cv_picking']\n",
    "                    if(newScore < oldScore):\n",
    "                        print(\"【【【】】】switching models for %s...\" % filename)\n",
    "                        print(\"【【【】】】newScore: %f < oldScore: %f\" % (newScore, oldScore))\n",
    "                        print(\"【【【】】】newModel: %s \\n\" % f)\n",
    "                        print(100*'_')\n",
    "                        model_selection[f] = out[filename]\n",
    "                else:\n",
    "                    #no score to compare\n",
    "                    print(\"【【】】adding new model for %s \\n\" % filename)\n",
    "                    print(\"【【【】】】newScore: %f \" % (newScore))\n",
    "                    print(100*'_')\n",
    "                    model_selection[f] = out[filename]\n",
    "    return model_selection"
   ]
  },
  {
   "cell_type": "markdown",
   "metadata": {},
   "source": [
    "<:>:<:>:<:>:<:>:<:>:<:>:<:>:<:>:<:>:<:>:<:>:<:>:<:>:<:>:<:><:>:<:>:<:>:<:>:<:>:<:>:<:>:<:>:<:>:<:>:<:>:<:>:<:>:<:>:<:>\n",
    "<:>:<:>:<:>:<:>:<:>:<:>:<:>:<:>:<:>:<:>:<:>:<:>:<:>:<:>:<:><:>:<:>:<:>:<:>:<:>:<:>:<:>:<:>:<:>:<:>:<:>:<:>:<:>:<:>:<:>\n",
    "<:>:<:>:<:>:<:>:<:>:<:>:<:>:<:>:<:>:<:>:<:>:<:>:<:>:<:>:<:><:>:<:>:<:>:<:>:<:>:<:>:<:>:<:>:<:>:<:>:<:>:<:>:<:>:<:>:<:>\n",
    "<:>:<:>:<:>:<:>:<:>:<:>:<:>:<:>:<:>:<:>:<:>:<:>:<:>:<:>:<:><:>:<:>:<:>:<:>:<:>:<:>:<:>:<:>:<:>:<:>:<:>:<:>:<:>:<:>:<:>\n"
   ]
  },
  {
   "cell_type": "markdown",
   "metadata": {},
   "source": [
    "# Sigmoid Kernel"
   ]
  },
  {
   "cell_type": "code",
   "execution_count": 4,
   "metadata": {
    "collapsed": false
   },
   "outputs": [
    {
     "name": "stdout",
     "output_type": "stream",
     "text": [
      "\n",
      "\n",
      "{{ scale_this: >>>>>>>>>>>>>>>>>>>>>>>>>>>>>>>>>>>>>>>>> Scaling X_train and X_test... }}\n",
      "\n",
      "Dataset size read: train 258 and test 63 \n",
      "\n",
      "# Tuning hyper-parameters \n",
      "\n",
      "Starting grdsurch.fit(X_train, y_train)\n",
      "\n",
      "Best parameters set found on development set:\n",
      "\n",
      "{'coef0': 1.0, 'gamma': 0.10000000000000001, 'degree': 3, 'epsilon': 0.10000000000000001, 'C': 1.0}\n",
      "SVR(C=1.0, cache_size=204800, coef0=1.0, degree=3,\n",
      "  epsilon=0.10000000000000001, gamma=0.10000000000000001, kernel='sigmoid',\n",
      "  max_iter=-1, shrinking=False, tol=1e-07, verbose=False)\n",
      "\n",
      "Full Test Set: 63\n"
     ]
    },
    {
     "data": {
      "text/plain": [
       "array([  173.64,    45.97,   141.66,   164.88,    67.96,    98.47,\n",
       "        3309.8 ,  2896.76,  3359.25,  1861.97,  3344.01,  3371.75,\n",
       "        2855.36,  1423.13,  1721.38,  1323.62,  2396.68,  2472.15,\n",
       "        3028.27,  2877.71,  2024.25,  2314.1 ,  1174.9 ,  1723.63,\n",
       "        3348.91,  2683.3 ,  1873.73,  2684.27,  2083.07,   998.65,\n",
       "         976.5 ,  1868.49,  1076.1 ,  1073.56,  3326.93,  2265.29,\n",
       "         644.52,   298.64,  3059.32,  1083.5 ,  1001.19,   322.13,\n",
       "        2543.24,   692.62,  2478.78,   198.71,  1031.47,  2457.56,\n",
       "        1801.74,   216.12,  1925.99,  2125.54,  2239.73,   747.33,\n",
       "         810.75,   462.77,  2106.02,   218.82,  1634.05,  1802.26,\n",
       "        1332.56,  2142.12,   462.06])"
      ]
     },
     "metadata": {},
     "output_type": "display_data"
    },
    {
     "data": {
      "text/plain": [
       "array([ 1621.01280819,  1620.94863759,  1621.01929974,  1620.99987487,\n",
       "        1620.97264038,  1620.99847583,  1621.02399113,  1621.03003928,\n",
       "        1621.03005539,  1621.02394711,  1621.05450256,  1621.03005539,\n",
       "        1621.05448631,  1621.02999608,  1621.04000012,  1621.02392882,\n",
       "        1621.02396517,  1621.05447764,  1621.0239821 ,  1621.05448631,\n",
       "        1621.05446031,  1621.03002208,  1621.04004994,  1621.05445164,\n",
       "        1621.04004994,  1636.87453467,  1636.87740604,  1636.8771295 ,\n",
       "        1636.87759162,  1636.88010221,  1636.87752729,  1636.87824931,\n",
       "        1636.87491054,  1636.87491054,  1636.87590019,  1636.87232987,\n",
       "        1636.88039798,  1636.88273493,  1636.87413604,  1636.87752729,\n",
       "        1636.87491054,  1636.88273493,  1636.87232987,  1636.8813057 ,\n",
       "        1620.83213301,  1620.90043392,  1620.8936862 ,  1620.83213301,\n",
       "        1620.83856823,  1620.9174852 ,  1620.85542324,  1620.82472591,\n",
       "        1620.82186955,  1620.90554523,  1620.90554523,  1620.9068158 ,\n",
       "        1620.84570316,  1620.92830787,  1620.83856823,  1620.86864657,\n",
       "        1620.87134329,  1620.83566345,  1620.88924088])"
      ]
     },
     "metadata": {},
     "output_type": "display_data"
    },
    {
     "name": "stdout",
     "output_type": "stream",
     "text": [
      "A: 6\n",
      "\n",
      "{{ scale_this: >>>>>>>>>>>>>>>>>>>>>>>>>>>>>>>>>>>>>>>>> Scaling X_train and X_test... }}\n",
      "\n"
     ]
    },
    {
     "data": {
      "text/plain": [
       "array([ 173.64,   45.97,  141.66,  164.88,   67.96,   98.47])"
      ]
     },
     "metadata": {},
     "output_type": "display_data"
    },
    {
     "data": {
      "text/plain": [
       "array([ 1621.01280819,  1620.94863759,  1621.01929974,  1620.99987487,\n",
       "        1620.97264038,  1620.99847583])"
      ]
     },
     "metadata": {},
     "output_type": "display_data"
    },
    {
     "name": "stdout",
     "output_type": "stream",
     "text": [
      "B: 19\n",
      "\n",
      "{{ scale_this: >>>>>>>>>>>>>>>>>>>>>>>>>>>>>>>>>>>>>>>>> Scaling X_train and X_test... }}\n",
      "\n"
     ]
    },
    {
     "data": {
      "text/plain": [
       "array([ 3309.8 ,  2896.76,  3359.25,  1861.97,  3344.01,  3371.75,\n",
       "        2855.36,  1423.13,  1721.38,  1323.62,  2396.68,  2472.15,\n",
       "        3028.27,  2877.71,  2024.25,  2314.1 ,  1174.9 ,  1723.63,  3348.91])"
      ]
     },
     "metadata": {},
     "output_type": "display_data"
    },
    {
     "data": {
      "text/plain": [
       "array([ 1621.02399113,  1621.03003928,  1621.03005539,  1621.02394711,\n",
       "        1621.05450256,  1621.03005539,  1621.05448631,  1621.02999608,\n",
       "        1621.04000012,  1621.02392882,  1621.02396517,  1621.05447764,\n",
       "        1621.0239821 ,  1621.05448631,  1621.05446031,  1621.03002208,\n",
       "        1621.04004994,  1621.05445164,  1621.04004994])"
      ]
     },
     "metadata": {},
     "output_type": "display_data"
    },
    {
     "name": "stdout",
     "output_type": "stream",
     "text": [
      "C: 19\n",
      "\n",
      "{{ scale_this: >>>>>>>>>>>>>>>>>>>>>>>>>>>>>>>>>>>>>>>>> Scaling X_train and X_test... }}\n",
      "\n"
     ]
    },
    {
     "data": {
      "text/plain": [
       "array([ 2683.3 ,  1873.73,  2684.27,  2083.07,   998.65,   976.5 ,\n",
       "        1868.49,  1076.1 ,  1073.56,  3326.93,  2265.29,   644.52,\n",
       "         298.64,  3059.32,  1083.5 ,  1001.19,   322.13,  2543.24,   692.62])"
      ]
     },
     "metadata": {},
     "output_type": "display_data"
    },
    {
     "data": {
      "text/plain": [
       "array([ 1636.87453467,  1636.87740604,  1636.8771295 ,  1636.87759162,\n",
       "        1636.88010221,  1636.87752729,  1636.87824931,  1636.87491054,\n",
       "        1636.87491054,  1636.87590019,  1636.87232987,  1636.88039798,\n",
       "        1636.88273493,  1636.87413604,  1636.87752729,  1636.87491054,\n",
       "        1636.88273493,  1636.87232987,  1636.8813057 ])"
      ]
     },
     "metadata": {},
     "output_type": "display_data"
    },
    {
     "name": "stdout",
     "output_type": "stream",
     "text": [
      "D: 19\n",
      "\n",
      "{{ scale_this: >>>>>>>>>>>>>>>>>>>>>>>>>>>>>>>>>>>>>>>>> Scaling X_train and X_test... }}\n",
      "\n"
     ]
    },
    {
     "data": {
      "text/plain": [
       "array([ 2478.78,   198.71,  1031.47,  2457.56,  1801.74,   216.12,\n",
       "        1925.99,  2125.54,  2239.73,   747.33,   810.75,   462.77,\n",
       "        2106.02,   218.82,  1634.05,  1802.26,  1332.56,  2142.12,   462.06])"
      ]
     },
     "metadata": {},
     "output_type": "display_data"
    },
    {
     "data": {
      "text/plain": [
       "array([ 1620.83213301,  1620.90043392,  1620.8936862 ,  1620.83213301,\n",
       "        1620.83856823,  1620.9174852 ,  1620.85542324,  1620.82472591,\n",
       "        1620.82186955,  1620.90554523,  1620.90554523,  1620.9068158 ,\n",
       "        1620.84570316,  1620.92830787,  1620.83856823,  1620.86864657,\n",
       "        1620.87134329,  1620.83566345,  1620.88924088])"
      ]
     },
     "metadata": {},
     "output_type": "display_data"
    },
    {
     "name": "stdout",
     "output_type": "stream",
     "text": [
      "【【】】adding new model for datasetIPPD.pickle \n",
      "\n",
      "【【【】】】newScore: 1088925.528024 \n",
      "____________________________________________________________________________________________________\n"
     ]
    }
   ],
   "source": [
    "t_SVRSigmoidCVModel = wrapper([ SVRSigmoidCVModel ])"
   ]
  },
  {
   "cell_type": "code",
   "execution_count": 5,
   "metadata": {
    "collapsed": false
   },
   "outputs": [
    {
     "name": "stdout",
     "output_type": "stream",
     "text": [
      "________________________________________________________________________________\n",
      "Model: SVR(C=1.0, cache_size=204800, coef0=1.0, degree=3,\n",
      "  epsilon=0.10000000000000001, gamma=0.10000000000000001, kernel='sigmoid',\n",
      "  max_iter=-1, shrinking=False, tol=1e-07, verbose=False)\n",
      "Train RMSE: 1088925.528024 \n",
      "\n",
      "A...TestA RMSE   : 1506.329756\n",
      "A...y_test_A Mean: 115.430000 \n",
      "\n",
      "B...TestB RMSE   : 1123.369996\n",
      "B...y_test_B Mean: 2464.612105 \n",
      "\n",
      "C...TestC RMSE   : 922.763081\n",
      "C...y_test_C Mean: 1608.160526 \n",
      "\n",
      "D...TestD RMSE   : 834.650871\n",
      "D...y_test_D Mean: 1378.651579\n",
      "________________________________________________________________________________\n"
     ]
    }
   ],
   "source": [
    "t_print = t_SVRSigmoidCVModel\n",
    "\n",
    "for key in t_print.keys():\n",
    "    print(80*'_')\n",
    "    \n",
    "    print('Model: %s' % (str(t_print[key]['model'])[:200]))\n",
    "    print('Train RMSE: %f \\n' % (t_print[key]['train_rmse_cv_picking']))\n",
    "    \n",
    "    #print('Test RMSE   : %f' % (t_print[key]['test_rmse_reporting']))\n",
    "    #print('Overall Mean: %f \\n' % (t_print[key]['test_mean_y_comparing']))\n",
    "    \n",
    "    print('A...TestA RMSE   : %f' % (t_print[key]['test_rmse_reportingA']))\n",
    "    print('A...y_test_A Mean: %f \\n' % (t_print[key]['test_mean_y_comparingA']))\n",
    "    \n",
    "    print('B...TestB RMSE   : %f' % (t_print[key]['test_rmse_reportingB']))\n",
    "    print('B...y_test_B Mean: %f \\n' % (t_print[key]['test_mean_y_comparingB']))\n",
    "    \n",
    "    print('C...TestC RMSE   : %f' % (t_print[key]['test_rmse_reportingC']))\n",
    "    print('C...y_test_C Mean: %f \\n' % (t_print[key]['test_mean_y_comparingC']))\n",
    "    \n",
    "    print('D...TestD RMSE   : %f' % (t_print[key]['test_rmse_reportingD']))\n",
    "    print('D...y_test_D Mean: %f' % (t_print[key]['test_mean_y_comparingD']))\n",
    "    \n",
    "    print(80*'_')"
   ]
  },
  {
   "cell_type": "code",
   "execution_count": 6,
   "metadata": {
    "collapsed": false
   },
   "outputs": [
    {
     "name": "stdout",
     "output_type": "stream",
     "text": [
      "4C4_SVRSigmoidCVModel_tuned_ABCD.pickle\n"
     ]
    }
   ],
   "source": [
    "# write the model\n",
    "import pickle\n",
    "\n",
    "#||||||||||||||||||| \n",
    "t_ = t_SVRSigmoidCVModel\n",
    "prefix = '4C4_' + 'SVRSigmoidCVModel'\n",
    "#||||||||||||||||||| \n",
    "\n",
    "for k in t_.keys():\n",
    "    mo   = t_[k]['model']\n",
    "    fname = prefix + '_tuned_ABCD' + '.pickle'\n",
    "       \n",
    "    print(fname)\n",
    "    # write the model to a file\n",
    "    with open(fname, 'wb') as handle:\n",
    "        pickle.dump(mo, handle)"
   ]
  },
  {
   "cell_type": "markdown",
   "metadata": {},
   "source": [
    "# Linear Kernel"
   ]
  },
  {
   "cell_type": "code",
   "execution_count": 7,
   "metadata": {
    "collapsed": false
   },
   "outputs": [
    {
     "name": "stdout",
     "output_type": "stream",
     "text": [
      "\n",
      "\n",
      "{{ scale_this: >>>>>>>>>>>>>>>>>>>>>>>>>>>>>>>>>>>>>>>>> Scaling X_train and X_test... }}\n",
      "\n",
      "Dataset size read: train 258 and test 63 \n",
      "\n",
      "# Tuning hyper-parameters \n",
      "\n",
      "Starting grdsurch.fit(X_train, y_train)\n",
      "\n",
      " Best parameters set found on development set:\n",
      "\n",
      "{'coef0': 1e-10, 'gamma': 9.9999999999999995e-21, 'degree': 3, 'epsilon': 0.10000000000000001, 'C': 0.077426368268112777}\n",
      "SVR(C=0.077426368268112777, cache_size=204800, coef0=1e-10, degree=3,\n",
      "  epsilon=0.10000000000000001, gamma=9.9999999999999995e-21,\n",
      "  kernel='linear', max_iter=-1, shrinking=False, tol=1e-07, verbose=False)\n",
      "\n",
      "Full Test Set: 63\n"
     ]
    },
    {
     "data": {
      "text/plain": [
       "array([  173.64,    45.97,   141.66,   164.88,    67.96,    98.47,\n",
       "        3309.8 ,  2896.76,  3359.25,  1861.97,  3344.01,  3371.75,\n",
       "        2855.36,  1423.13,  1721.38,  1323.62,  2396.68,  2472.15,\n",
       "        3028.27,  2877.71,  2024.25,  2314.1 ,  1174.9 ,  1723.63,\n",
       "        3348.91,  2683.3 ,  1873.73,  2684.27,  2083.07,   998.65,\n",
       "         976.5 ,  1868.49,  1076.1 ,  1073.56,  3326.93,  2265.29,\n",
       "         644.52,   298.64,  3059.32,  1083.5 ,  1001.19,   322.13,\n",
       "        2543.24,   692.62,  2478.78,   198.71,  1031.47,  2457.56,\n",
       "        1801.74,   216.12,  1925.99,  2125.54,  2239.73,   747.33,\n",
       "         810.75,   462.77,  2106.02,   218.82,  1634.05,  1802.26,\n",
       "        1332.56,  2142.12,   462.06])"
      ]
     },
     "metadata": {},
     "output_type": "display_data"
    },
    {
     "data": {
      "text/plain": [
       "array([ 1611.66746357,  1605.28881323,  1611.54393027,  1610.71396096,\n",
       "        1607.3593199 ,  1609.38985843,  1619.13917439,  1620.0907049 ,\n",
       "        1620.09267701,  1619.1340469 ,  1621.99968224,  1620.09267701,\n",
       "        1621.99771013,  1620.08542   ,  1621.04000034,  1619.13191738,\n",
       "        1619.13615049,  1621.99665834,  1619.1381226 ,  1621.99771013,\n",
       "        1621.99455475,  1620.08860131,  1621.04617963,  1621.99350296,\n",
       "        1621.04617963,  1679.95743331,  1677.54519868,  1681.86443854,\n",
       "        1680.24888466,  1674.99833456,  1673.09132932,  1678.49870129,\n",
       "        1672.13782671,  1672.13782671,  1682.66111929,  1677.38837681,\n",
       "        1672.32157447,  1671.53835667,  1681.70761668,  1673.09132932,\n",
       "        1672.13782671,  1671.53835667,  1677.38837681,  1673.27507709,\n",
       "        1604.00167479,  1594.53017509,  1600.64703373,  1604.00167479,\n",
       "        1599.94059772,  1596.43718033,  1603.87814149,  1601.01763363,\n",
       "        1603.04817217,  1599.56999781,  1599.56999781,  1597.49686166,\n",
       "        1602.92463887,  1597.39068294,  1599.94059772,  1602.80110557,\n",
       "        1600.77056703,  1601.97113625,  1595.58985643])"
      ]
     },
     "metadata": {},
     "output_type": "display_data"
    },
    {
     "name": "stdout",
     "output_type": "stream",
     "text": [
      "A: 6\n",
      "\n",
      "{{ scale_this: >>>>>>>>>>>>>>>>>>>>>>>>>>>>>>>>>>>>>>>>> Scaling X_train and X_test... }}\n",
      "\n"
     ]
    },
    {
     "data": {
      "text/plain": [
       "array([ 173.64,   45.97,  141.66,  164.88,   67.96,   98.47])"
      ]
     },
     "metadata": {},
     "output_type": "display_data"
    },
    {
     "data": {
      "text/plain": [
       "array([ 1611.66746357,  1605.28881323,  1611.54393027,  1610.71396096,\n",
       "        1607.3593199 ,  1609.38985843])"
      ]
     },
     "metadata": {},
     "output_type": "display_data"
    },
    {
     "name": "stdout",
     "output_type": "stream",
     "text": [
      "B: 19\n",
      "\n",
      "{{ scale_this: >>>>>>>>>>>>>>>>>>>>>>>>>>>>>>>>>>>>>>>>> Scaling X_train and X_test... }}\n",
      "\n"
     ]
    },
    {
     "data": {
      "text/plain": [
       "array([ 3309.8 ,  2896.76,  3359.25,  1861.97,  3344.01,  3371.75,\n",
       "        2855.36,  1423.13,  1721.38,  1323.62,  2396.68,  2472.15,\n",
       "        3028.27,  2877.71,  2024.25,  2314.1 ,  1174.9 ,  1723.63,  3348.91])"
      ]
     },
     "metadata": {},
     "output_type": "display_data"
    },
    {
     "data": {
      "text/plain": [
       "array([ 1619.13917439,  1620.0907049 ,  1620.09267701,  1619.1340469 ,\n",
       "        1621.99968224,  1620.09267701,  1621.99771013,  1620.08542   ,\n",
       "        1621.04000034,  1619.13191738,  1619.13615049,  1621.99665834,\n",
       "        1619.1381226 ,  1621.99771013,  1621.99455475,  1620.08860131,\n",
       "        1621.04617963,  1621.99350296,  1621.04617963])"
      ]
     },
     "metadata": {},
     "output_type": "display_data"
    },
    {
     "name": "stdout",
     "output_type": "stream",
     "text": [
      "C: 19\n",
      "\n",
      "{{ scale_this: >>>>>>>>>>>>>>>>>>>>>>>>>>>>>>>>>>>>>>>>> Scaling X_train and X_test... }}\n",
      "\n"
     ]
    },
    {
     "data": {
      "text/plain": [
       "array([ 2683.3 ,  1873.73,  2684.27,  2083.07,   998.65,   976.5 ,\n",
       "        1868.49,  1076.1 ,  1073.56,  3326.93,  2265.29,   644.52,\n",
       "         298.64,  3059.32,  1083.5 ,  1001.19,   322.13,  2543.24,   692.62])"
      ]
     },
     "metadata": {},
     "output_type": "display_data"
    },
    {
     "data": {
      "text/plain": [
       "array([ 1679.95743331,  1677.54519868,  1681.86443854,  1680.24888466,\n",
       "        1674.99833456,  1673.09132932,  1678.49870129,  1672.13782671,\n",
       "        1672.13782671,  1682.66111929,  1677.38837681,  1672.32157447,\n",
       "        1671.53835667,  1681.70761668,  1673.09132932,  1672.13782671,\n",
       "        1671.53835667,  1677.38837681,  1673.27507709])"
      ]
     },
     "metadata": {},
     "output_type": "display_data"
    },
    {
     "name": "stdout",
     "output_type": "stream",
     "text": [
      "D: 19\n",
      "\n",
      "{{ scale_this: >>>>>>>>>>>>>>>>>>>>>>>>>>>>>>>>>>>>>>>>> Scaling X_train and X_test... }}\n",
      "\n"
     ]
    },
    {
     "data": {
      "text/plain": [
       "array([ 2478.78,   198.71,  1031.47,  2457.56,  1801.74,   216.12,\n",
       "        1925.99,  2125.54,  2239.73,   747.33,   810.75,   462.77,\n",
       "        2106.02,   218.82,  1634.05,  1802.26,  1332.56,  2142.12,   462.06])"
      ]
     },
     "metadata": {},
     "output_type": "display_data"
    },
    {
     "data": {
      "text/plain": [
       "array([ 1604.00167479,  1594.53017509,  1600.64703373,  1604.00167479,\n",
       "        1599.94059772,  1596.43718033,  1603.87814149,  1601.01763363,\n",
       "        1603.04817217,  1599.56999781,  1599.56999781,  1597.49686166,\n",
       "        1602.92463887,  1597.39068294,  1599.94059772,  1602.80110557,\n",
       "        1600.77056703,  1601.97113625,  1595.58985643])"
      ]
     },
     "metadata": {},
     "output_type": "display_data"
    },
    {
     "name": "stdout",
     "output_type": "stream",
     "text": [
      "【【】】adding new model for datasetIPPD.pickle \n",
      "\n",
      "【【【】】】newScore: 1093752.166758 \n",
      "____________________________________________________________________________________________________\n"
     ]
    }
   ],
   "source": [
    "t_SVRLinearCVModel = wrapper([ SVRLinearCVModel ])"
   ]
  },
  {
   "cell_type": "code",
   "execution_count": 8,
   "metadata": {
    "collapsed": false
   },
   "outputs": [
    {
     "name": "stdout",
     "output_type": "stream",
     "text": [
      "________________________________________________________________________________\n",
      "Model: SVR(C=0.077426368268112777, cache_size=204800, coef0=1e-10, degree=3,\n",
      "  epsilon=0.10000000000000001, gamma=9.9999999999999995e-21,\n",
      "  kernel='linear', max_iter=-1, shrinking=False, tol=1e-07, verbose=F\n",
      "Train RMSE: 1093752.166758 \n",
      "\n",
      "A...TestA RMSE   : 1494.602614\n",
      "A...y_test_A Mean: 115.430000 \n",
      "\n",
      "B...TestB RMSE   : 1123.692234\n",
      "B...y_test_B Mean: 2464.612105 \n",
      "\n",
      "C...TestC RMSE   : 921.182646\n",
      "C...y_test_C Mean: 1608.160526 \n",
      "\n",
      "D...TestD RMSE   : 826.392588\n",
      "D...y_test_D Mean: 1378.651579\n",
      "________________________________________________________________________________\n"
     ]
    }
   ],
   "source": [
    "t_print = t_SVRLinearCVModel\n",
    "\n",
    "for key in t_print.keys():\n",
    "    print(80*'_')\n",
    "    \n",
    "    print('Model: %s' % (str(t_print[key]['model'])[:200]))\n",
    "    print('Train RMSE: %f \\n' % (t_print[key]['train_rmse_cv_picking']))\n",
    "    \n",
    "    #print('Test RMSE   : %f' % (t_print[key]['test_rmse_reporting']))\n",
    "    #print('Overall Mean: %f \\n' % (t_print[key]['test_mean_y_comparing']))\n",
    "    \n",
    "    print('A...TestA RMSE   : %f' % (t_print[key]['test_rmse_reportingA']))\n",
    "    print('A...y_test_A Mean: %f \\n' % (t_print[key]['test_mean_y_comparingA']))\n",
    "    \n",
    "    print('B...TestB RMSE   : %f' % (t_print[key]['test_rmse_reportingB']))\n",
    "    print('B...y_test_B Mean: %f \\n' % (t_print[key]['test_mean_y_comparingB']))\n",
    "    \n",
    "    print('C...TestC RMSE   : %f' % (t_print[key]['test_rmse_reportingC']))\n",
    "    print('C...y_test_C Mean: %f \\n' % (t_print[key]['test_mean_y_comparingC']))\n",
    "    \n",
    "    print('D...TestD RMSE   : %f' % (t_print[key]['test_rmse_reportingD']))\n",
    "    print('D...y_test_D Mean: %f' % (t_print[key]['test_mean_y_comparingD']))\n",
    "    \n",
    "    print(80*'_')"
   ]
  },
  {
   "cell_type": "code",
   "execution_count": null,
   "metadata": {
    "collapsed": false
   },
   "outputs": [
    {
     "name": "stdout",
     "output_type": "stream",
     "text": [
      "4C4_SVRLinearCVModel_tuned_ABCD.pickle\n"
     ]
    }
   ],
   "source": [
    "# write the model\n",
    "import pickle\n",
    "\n",
    "#||||||||||||||||||| \n",
    "t_ = t_SVRLinearCVModel\n",
    "prefix = '4C4_' + 'SVRLinearCVModel'\n",
    "#||||||||||||||||||| \n",
    "\n",
    "for k in t_.keys():\n",
    "    mo   = t_[k]['model']\n",
    "    fname = prefix + '_tuned_ABCD' + '.pickle'\n",
    "       \n",
    "    print(fname)\n",
    "    # write the model to a file\n",
    "    with open(fname, 'wb') as handle:\n",
    "        pickle.dump(mo, handle)"
   ]
  },
  {
   "cell_type": "markdown",
   "metadata": {},
   "source": [
    "# rbf Kernel"
   ]
  },
  {
   "cell_type": "code",
   "execution_count": null,
   "metadata": {
    "collapsed": false
   },
   "outputs": [],
   "source": [
    "t_SVRRbfCVModel = wrapper([ SVRRbfCVModel ])"
   ]
  },
  {
   "cell_type": "code",
   "execution_count": null,
   "metadata": {
    "collapsed": false
   },
   "outputs": [],
   "source": [
    "t_print = t_SVRRbfCVModel\n",
    "\n",
    "for key in t_print.keys():\n",
    "    print(80*'_')\n",
    "    \n",
    "    print('Model: %s' % (str(t_print[key]['model'])[:20]))\n",
    "    print('Train RMSE: %f \\n' % (t_print[key]['train_rmse_cv_picking']))\n",
    "    \n",
    "    #print('Test RMSE   : %f' % (t_print[key]['test_rmse_reporting']))\n",
    "    #print('Overall Mean: %f \\n' % (t_print[key]['test_mean_y_comparing']))\n",
    "    \n",
    "    print('A...TestA RMSE   : %f' % (t_print[key]['test_rmse_reportingA']))\n",
    "    print('A...y_test_A Mean: %f \\n' % (t_print[key]['test_mean_y_comparingA']))\n",
    "    \n",
    "    print('B...TestB RMSE   : %f' % (t_print[key]['test_rmse_reportingB']))\n",
    "    print('B...y_test_B Mean: %f \\n' % (t_print[key]['test_mean_y_comparingB']))\n",
    "    \n",
    "    print('C...TestC RMSE   : %f' % (t_print[key]['test_rmse_reportingC']))\n",
    "    print('C...y_test_C Mean: %f \\n' % (t_print[key]['test_mean_y_comparingC']))\n",
    "    \n",
    "    print('D...TestD RMSE   : %f' % (t_print[key]['test_rmse_reportingD']))\n",
    "    print('D...y_test_D Mean: %f' % (t_print[key]['test_mean_y_comparingD']))\n",
    "    \n",
    "    print(80*'_')"
   ]
  },
  {
   "cell_type": "code",
   "execution_count": null,
   "metadata": {
    "collapsed": false
   },
   "outputs": [],
   "source": [
    "# write the model\n",
    "import pickle\n",
    "\n",
    "#||||||||||||||||||| \n",
    "t_ = t_SVRRbfCVModel\n",
    "prefix = '4C4_' + 'SVRRbfCVModel'\n",
    "#||||||||||||||||||| \n",
    "\n",
    "for k in t_.keys():\n",
    "    mo   = t_[k]['model']\n",
    "    fname = prefix + '_tuned_ABCD' + '.pickle'\n",
    "       \n",
    "    print(fname)\n",
    "    # write the model to a file\n",
    "    with open(fname, 'wb') as handle:\n",
    "        pickle.dump(mo, handle)"
   ]
  },
  {
   "cell_type": "markdown",
   "metadata": {},
   "source": [
    "# Poly Kernel"
   ]
  },
  {
   "cell_type": "code",
   "execution_count": null,
   "metadata": {
    "collapsed": false
   },
   "outputs": [
    {
     "name": "stdout",
     "output_type": "stream",
     "text": [
      "\n",
      "\n",
      "{{ scale_this: >>>>>>>>>>>>>>>>>>>>>>>>>>>>>>>>>>>>>>>>> Scaling X_train and X_test... }}\n",
      "\n",
      "Dataset size read: train 258 and test 63 \n",
      "\n",
      "# Tuning hyper-parameters... \n",
      "\n",
      "Starting grdsurch.fit(X_train, y_train)\n"
     ]
    }
   ],
   "source": [
    "t_SVRPolyCVModel = wrapper([ SVRPolyCVModel ])"
   ]
  },
  {
   "cell_type": "code",
   "execution_count": null,
   "metadata": {
    "collapsed": false
   },
   "outputs": [],
   "source": [
    "t_print = t_SVRPolyCVModel\n",
    "\n",
    "for key in t_print.keys():\n",
    "    print(80*'_')\n",
    "    \n",
    "    print('Model: %s' % (str(t_print[key]['model'])[:20]))\n",
    "    print('Train RMSE: %f \\n' % (t_print[key]['train_rmse_cv_picking']))\n",
    "    \n",
    "    #print('Test RMSE   : %f' % (t_print[key]['test_rmse_reporting']))\n",
    "    #print('Overall Mean: %f \\n' % (t_print[key]['test_mean_y_comparing']))\n",
    "    \n",
    "    print('A...TestA RMSE   : %f' % (t_print[key]['test_rmse_reportingA']))\n",
    "    print('A...y_test_A Mean: %f \\n' % (t_print[key]['test_mean_y_comparingA']))\n",
    "    \n",
    "    print('B...TestB RMSE   : %f' % (t_print[key]['test_rmse_reportingB']))\n",
    "    print('B...y_test_B Mean: %f \\n' % (t_print[key]['test_mean_y_comparingB']))\n",
    "    \n",
    "    print('C...TestC RMSE   : %f' % (t_print[key]['test_rmse_reportingC']))\n",
    "    print('C...y_test_C Mean: %f \\n' % (t_print[key]['test_mean_y_comparingC']))\n",
    "    \n",
    "    print('D...TestD RMSE   : %f' % (t_print[key]['test_rmse_reportingD']))\n",
    "    print('D...y_test_D Mean: %f' % (t_print[key]['test_mean_y_comparingD']))\n",
    "    \n",
    "    print(80*'_')"
   ]
  },
  {
   "cell_type": "code",
   "execution_count": null,
   "metadata": {
    "collapsed": false
   },
   "outputs": [],
   "source": [
    "# write the model\n",
    "import pickle\n",
    "\n",
    "#||||||||||||||||||| \n",
    "t_ = t_SVRPolyCVModel\n",
    "prefix = '4C4_' + 'SVRPolyCVModel'\n",
    "#||||||||||||||||||| \n",
    "\n",
    "for k in t_.keys():\n",
    "    mo   = t_[k]['model']\n",
    "    fname = prefix + '_tuned_ABCD' + '.pickle'\n",
    "       \n",
    "    print(fname)\n",
    "    # write the model to a file\n",
    "    with open(fname, 'wb') as handle:\n",
    "        pickle.dump(mo, handle)"
   ]
  },
  {
   "cell_type": "markdown",
   "metadata": {},
   "source": [
    "# Which features were given most weights by each model ?"
   ]
  },
  {
   "cell_type": "code",
   "execution_count": null,
   "metadata": {
    "collapsed": true
   },
   "outputs": [],
   "source": []
  }
 ],
 "metadata": {
  "kernelspec": {
   "display_name": "Python 3",
   "language": "python",
   "name": "python3"
  },
  "language_info": {
   "codemirror_mode": {
    "name": "ipython",
    "version": 3
   },
   "file_extension": ".py",
   "mimetype": "text/x-python",
   "name": "python",
   "nbconvert_exporter": "python",
   "pygments_lexer": "ipython3",
   "version": "3.4.3"
  }
 },
 "nbformat": 4,
 "nbformat_minor": 2
}
