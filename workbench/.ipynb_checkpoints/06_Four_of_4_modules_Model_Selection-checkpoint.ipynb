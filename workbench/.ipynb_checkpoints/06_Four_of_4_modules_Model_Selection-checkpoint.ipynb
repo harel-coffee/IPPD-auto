{
 "cells": [
  {
   "cell_type": "code",
   "execution_count": 45,
   "metadata": {
    "collapsed": false
   },
   "outputs": [],
   "source": [
    "# import all the filenames\n",
    "from allfunctions import *"
   ]
  },
  {
   "cell_type": "code",
   "execution_count": 48,
   "metadata": {
    "collapsed": false
   },
   "outputs": [
    {
     "name": "stdout",
     "output_type": "stream",
     "text": [
      "The autoreload extension is already loaded. To reload it, use:\n",
      "  %reload_ext autoreload\n"
     ]
    }
   ],
   "source": [
    "%load_ext autoreload\n",
    "%autoreload 2"
   ]
  },
  {
   "cell_type": "markdown",
   "metadata": {},
   "source": [
    "1  def LassoCVModel(filename):\n",
    "\n",
    "2  def OMPCVModel(filename):\n",
    "\n",
    "3  def RidgeCVModel(filename):\n",
    "\n",
    "4  def ElasticNetCVModel(filename):\n",
    "\n",
    "5  def GradientBoostingCVModel(filename):\n",
    "\n",
    "6  def RandomForestCVModel(filename):\n",
    "\n",
    "7  def SVRSigmoidCVModel(filename):\n",
    "\n",
    "8 def SVRRbfCVModel(filename):"
   ]
  },
  {
   "cell_type": "code",
   "execution_count": 49,
   "metadata": {
    "collapsed": false
   },
   "outputs": [],
   "source": [
    "def wrapper(functionList = [], filenames = [ 'datasetIPPD.pickle' ]):\n",
    "    if __name__ == '__main__':\n",
    "        global model_selection\n",
    "        \n",
    "        global c\n",
    "        initialize_c()\n",
    "                \n",
    "        model_selection = {}\n",
    "        \n",
    "        for f in functionList:\n",
    "            print()\n",
    "            for filename in filenames:\n",
    "                out = f(filename)\n",
    "                newScore = out[filename]['train_rmse_cv_picking']\n",
    "\n",
    "                if f in model_selection:\n",
    "                    #compare scores and select more accurate model\n",
    "                    oldScore = model_selection[f]['train_rmse_cv_picking']\n",
    "                    if(newScore < oldScore):\n",
    "                        print(\"【【【】】】switching models for %s...\" % filename)\n",
    "                        print(\"【【【】】】newScore: %f < oldScore: %f\" % (newScore, oldScore))\n",
    "                        print(\"【【【】】】newModel: %s \\n\" % f)\n",
    "                        print(100*'_')\n",
    "                        model_selection[f] = out[filename]\n",
    "                else:\n",
    "                    #no score to compare\n",
    "                    print(\"【【】】adding new model for %s \\n\" % filename)\n",
    "                    print(\"【【【】】】newScore: %f \" % (newScore))\n",
    "                    print(100*'_')\n",
    "                    model_selection[f] = out[filename]\n",
    "    return model_selection"
   ]
  },
  {
   "cell_type": "markdown",
   "metadata": {},
   "source": [
    "<:>:<:>:<:>:<:>:<:>:<:>:<:>:<:>:<:>:<:>:<:>:<:>:<:>:<:>:<:><:>:<:>:<:>:<:>:<:>:<:>:<:>:<:>:<:>:<:>:<:>:<:>:<:>:<:>:<:>\n",
    "<:>:<:>:<:>:<:>:<:>:<:>:<:>:<:>:<:>:<:>:<:>:<:>:<:>:<:>:<:><:>:<:>:<:>:<:>:<:>:<:>:<:>:<:>:<:>:<:>:<:>:<:>:<:>:<:>:<:>\n",
    "<:>:<:>:<:>:<:>:<:>:<:>:<:>:<:>:<:>:<:>:<:>:<:>:<:>:<:>:<:><:>:<:>:<:>:<:>:<:>:<:>:<:>:<:>:<:>:<:>:<:>:<:>:<:>:<:>:<:>\n",
    "<:>:<:>:<:>:<:>:<:>:<:>:<:>:<:>:<:>:<:>:<:>:<:>:<:>:<:>:<:><:>:<:>:<:>:<:>:<:>:<:>:<:>:<:>:<:>:<:>:<:>:<:>:<:>:<:>:<:>\n"
   ]
  },
  {
   "cell_type": "markdown",
   "metadata": {},
   "source": [
    "# 1"
   ]
  },
  {
   "cell_type": "markdown",
   "metadata": {},
   "source": [
    "# LassoCVModel"
   ]
  },
  {
   "cell_type": "code",
   "execution_count": 5,
   "metadata": {
    "collapsed": false,
    "scrolled": true
   },
   "outputs": [],
   "source": [
    "########################### Test Lasso with Scaling ###########################\n",
    "# the L1 and L2 regularizers of linear models) assume that all features are \n",
    "# centered around 0 and have variance in the same order"
   ]
  },
  {
   "cell_type": "code",
   "execution_count": 71,
   "metadata": {
    "collapsed": false
   },
   "outputs": [
    {
     "name": "stdout",
     "output_type": "stream",
     "text": [
      "\n",
      "\n",
      "\n",
      "\n",
      "{{ scale_this: >>>>>>>>>>>>>>>>>>>>>>>>>>>>>>>>>>>>>>>>> Scaling X_train and X_test... }}\n",
      "\n",
      "Dataset size read: train 258 and test 63 \n",
      "\n",
      "# Tuning hyper-parameters \n",
      "\n",
      "Starting grdsurch.fit(X_train, y_train)\n",
      "\n",
      "Best parameters set found on development set:\n",
      "\n",
      "{'alpha': 0.019306977288832496, 'precompute': False}\n",
      "Lasso(alpha=0.019306977288832496, copy_X=True, fit_intercept=True,\n",
      "   max_iter=10000000.0, normalize=False, positive=False, precompute=False,\n",
      "   random_state=None, selection='random', tol=1e-06, warm_start=False)\n",
      "\n",
      "Full Test Set: 63\n"
     ]
    },
    {
     "data": {
      "text/plain": [
       "array([   21.8 ,    45.82,   173.64,   166.8 ,    67.96,   120.19,\n",
       "        2210.97,  1732.64,  2201.04,  2184.34,  1721.38,  2024.25,\n",
       "        3153.06,  2752.13,  3167.66,  3040.59,  2461.26,  3444.3 ,\n",
       "        1332.03,  1620.72,  1895.33,  2396.68,  2472.15,  1423.13,\n",
       "        2308.37,  2083.07,   996.42,   298.03,  1688.15,  2674.81,\n",
       "        2270.37,  1688.66,  1870.14,  1868.49,   695.76,  3621.04,\n",
       "        2828.23,   299.12,   693.29,  1358.2 ,  1083.5 ,  2659.86,\n",
       "        1073.56,   697.69,  2239.73,  1333.42,  2241.22,  1141.32,\n",
       "         810.75,  1135.84,   738.16,   216.58,   823.05,  2230.04,\n",
       "        1780.16,   198.71,   801.4 ,  2436.08,  1623.84,   504.45,\n",
       "         503.45,  2470.53,  1462.69])"
      ]
     },
     "metadata": {},
     "output_type": "display_data"
    },
    {
     "data": {
      "text/plain": [
       "array([ -783.61221757,  -502.39655548,   706.67761176,   678.85117689,\n",
       "        -264.50430519,   193.26021842,  2386.21605104,  2413.56827598,\n",
       "        2400.12926847,  2414.0424859 ,  2399.65505855,  2413.80538094,\n",
       "        2414.72416266,  2400.60347839,  2373.22161532,  2400.81094523,\n",
       "        2400.36637343,  2414.96126762,  2399.41210701,  2399.65505855,\n",
       "        2385.97894608,  2372.53993856,  2414.27959086,  2385.49888957,\n",
       "        2400.12926847,  2261.92282875,  1050.46843261,   270.48795556,\n",
       "        1867.38017499,  2612.20283018,  2261.92282875,  1458.9243038 ,\n",
       "        1839.55374013,  1867.38017499,   675.90888326,  3020.65870137,\n",
       "        2992.8322665 ,   256.57473813,   689.8221007 ,  1458.9243038 ,\n",
       "        1050.46843261,  2584.37639531,  1036.55521518,   661.99566583,\n",
       "        2109.49140153,  1367.19174638,  2095.57818409,  1124.39626715,\n",
       "         923.34044021,  1152.22270201,   895.51400534,   432.05896269,\n",
       "         881.60078791,  2137.31783639,  1651.72687792,   390.31931039,\n",
       "         895.51400534,  2137.31783639,  1623.90044305,   657.02899265,\n",
       "         629.20255779,  2109.49140153,  1381.10496382])"
      ]
     },
     "metadata": {},
     "output_type": "display_data"
    },
    {
     "name": "stdout",
     "output_type": "stream",
     "text": [
      "A: 6\n",
      "\n",
      "{{ scale_this: >>>>>>>>>>>>>>>>>>>>>>>>>>>>>>>>>>>>>>>>> Scaling X_train and X_test... }}\n",
      "\n"
     ]
    },
    {
     "data": {
      "text/plain": [
       "array([  21.8 ,   45.82,  173.64,  166.8 ,   67.96,  120.19])"
      ]
     },
     "metadata": {},
     "output_type": "display_data"
    },
    {
     "data": {
      "text/plain": [
       "array([-783.61221757, -502.39655548,  706.67761176,  678.85117689,\n",
       "       -264.50430519,  193.26021842])"
      ]
     },
     "metadata": {},
     "output_type": "display_data"
    },
    {
     "name": "stdout",
     "output_type": "stream",
     "text": [
      "B: 19\n",
      "\n",
      "{{ scale_this: >>>>>>>>>>>>>>>>>>>>>>>>>>>>>>>>>>>>>>>>> Scaling X_train and X_test... }}\n",
      "\n"
     ]
    },
    {
     "data": {
      "text/plain": [
       "array([ 2210.97,  1732.64,  2201.04,  2184.34,  1721.38,  2024.25,\n",
       "        3153.06,  2752.13,  3167.66,  3040.59,  2461.26,  3444.3 ,\n",
       "        1332.03,  1620.72,  1895.33,  2396.68,  2472.15,  1423.13,  2308.37])"
      ]
     },
     "metadata": {},
     "output_type": "display_data"
    },
    {
     "data": {
      "text/plain": [
       "array([ 2386.21605104,  2413.56827598,  2400.12926847,  2414.0424859 ,\n",
       "        2399.65505855,  2413.80538094,  2414.72416266,  2400.60347839,\n",
       "        2373.22161532,  2400.81094523,  2400.36637343,  2414.96126762,\n",
       "        2399.41210701,  2399.65505855,  2385.97894608,  2372.53993856,\n",
       "        2414.27959086,  2385.49888957,  2400.12926847])"
      ]
     },
     "metadata": {},
     "output_type": "display_data"
    },
    {
     "name": "stdout",
     "output_type": "stream",
     "text": [
      "C: 19\n",
      "\n",
      "{{ scale_this: >>>>>>>>>>>>>>>>>>>>>>>>>>>>>>>>>>>>>>>>> Scaling X_train and X_test... }}\n",
      "\n"
     ]
    },
    {
     "data": {
      "text/plain": [
       "array([ 2083.07,   996.42,   298.03,  1688.15,  2674.81,  2270.37,\n",
       "        1688.66,  1870.14,  1868.49,   695.76,  3621.04,  2828.23,\n",
       "         299.12,   693.29,  1358.2 ,  1083.5 ,  2659.86,  1073.56,   697.69])"
      ]
     },
     "metadata": {},
     "output_type": "display_data"
    },
    {
     "data": {
      "text/plain": [
       "array([ 2261.92282875,  1050.46843261,   270.48795556,  1867.38017499,\n",
       "        2612.20283018,  2261.92282875,  1458.9243038 ,  1839.55374013,\n",
       "        1867.38017499,   675.90888326,  3020.65870137,  2992.8322665 ,\n",
       "         256.57473813,   689.8221007 ,  1458.9243038 ,  1050.46843261,\n",
       "        2584.37639531,  1036.55521518,   661.99566583])"
      ]
     },
     "metadata": {},
     "output_type": "display_data"
    },
    {
     "name": "stdout",
     "output_type": "stream",
     "text": [
      "D: 19\n",
      "\n",
      "{{ scale_this: >>>>>>>>>>>>>>>>>>>>>>>>>>>>>>>>>>>>>>>>> Scaling X_train and X_test... }}\n",
      "\n"
     ]
    },
    {
     "data": {
      "text/plain": [
       "array([ 2239.73,  1333.42,  2241.22,  1141.32,   810.75,  1135.84,\n",
       "         738.16,   216.58,   823.05,  2230.04,  1780.16,   198.71,\n",
       "         801.4 ,  2436.08,  1623.84,   504.45,   503.45,  2470.53,  1462.69])"
      ]
     },
     "metadata": {},
     "output_type": "display_data"
    },
    {
     "data": {
      "text/plain": [
       "array([ 2109.49140153,  1367.19174638,  2095.57818409,  1124.39626715,\n",
       "         923.34044021,  1152.22270201,   895.51400534,   432.05896269,\n",
       "         881.60078791,  2137.31783639,  1651.72687792,   390.31931039,\n",
       "         895.51400534,  2137.31783639,  1623.90044305,   657.02899265,\n",
       "         629.20255779,  2109.49140153,  1381.10496382])"
      ]
     },
     "metadata": {},
     "output_type": "display_data"
    },
    {
     "name": "stdout",
     "output_type": "stream",
     "text": [
      "【【】】adding new model for datasetIPPD.pickle \n",
      "\n",
      "【【【】】】newScore: 1434.380362 \n",
      "____________________________________________________________________________________________________\n"
     ]
    }
   ],
   "source": [
    "t_lasso = wrapper([LassoCVModel])"
   ]
  },
  {
   "cell_type": "code",
   "execution_count": 72,
   "metadata": {
    "collapsed": false
   },
   "outputs": [
    {
     "name": "stdout",
     "output_type": "stream",
     "text": [
      "________________________________________________________________________________\n",
      "Model: Lasso(alpha=0.019306\n",
      "Train RMSE: 1434.380362 \n",
      "\n",
      "A...TestA RMSE   : 518.238604\n",
      "A...<<y_test_A Mean>>: 99.368333 \n",
      "\n",
      "B...TestB RMSE   : 602.463251\n",
      "B...<<y_test_B Mean>>: 2291.685789 \n",
      "\n",
      "C...TestC RMSE   : 167.778571\n",
      "C...<<y_test_C Mean>>: 1602.546842 \n",
      "\n",
      "D...TestD RMSE   : 156.135426\n",
      "D...<<y_test_D Mean>>: 1299.548421\n",
      "________________________________________________________________________________\n"
     ]
    }
   ],
   "source": [
    "t_print = t_lasso\n",
    "\n",
    "for key in t_print.keys():\n",
    "    print(80*'_')\n",
    "    \n",
    "    lasso_model = t_print[key]['model']\n",
    "    print('Model: %s' % (str(t_print[key]['model'])[:20]))\n",
    "    print('Train RMSE: %f \\n' % (t_print[key]['train_rmse_cv_picking']))\n",
    "    \n",
    "    #print('Test RMSE   : %f' % (t_print[key]['test_rmse_reporting']))\n",
    "    #print('Overall Test Mean: %f \\n' % (t_print[key]['test_mean_y_comparing']))\n",
    "    \n",
    "    print('A...TestA RMSE   : %f' % (t_print[key]['test_rmse_reportingA']))\n",
    "    print('A...<<y_test_A Mean>>: %f \\n' % (t_print[key]['test_mean_y_comparingA']))\n",
    "    \n",
    "    print('B...TestB RMSE   : %f' % (t_print[key]['test_rmse_reportingB']))\n",
    "    print('B...<<y_test_B Mean>>: %f \\n' % (t_print[key]['test_mean_y_comparingB']))\n",
    "    \n",
    "    print('C...TestC RMSE   : %f' % (t_print[key]['test_rmse_reportingC']))\n",
    "    print('C...<<y_test_C Mean>>: %f \\n' % (t_print[key]['test_mean_y_comparingC']))\n",
    "    \n",
    "    print('D...TestD RMSE   : %f' % (t_print[key]['test_rmse_reportingD']))\n",
    "    print('D...<<y_test_D Mean>>: %f' % (t_print[key]['test_mean_y_comparingD']))\n",
    "    \n",
    "    print(80*'_')"
   ]
  },
  {
   "cell_type": "code",
   "execution_count": 169,
   "metadata": {
    "collapsed": false
   },
   "outputs": [],
   "source": [
    "names = ['ppn', 'sizeGB', 'ft1', 'ft2', 'ft3', 'ft4', 'ft5', 'ft6', 'ft7', 'ft8',\n",
    "        'ft9', 'ft10', 'ft11', 'ft12', 'ft13', 'ft14', 'ft15', 'ft16', 'ft17',\n",
    "        'ft18', 'ft24', 'ft25', 'ft19', 'ft39', 'ft20', 'ft33', 'ft21', 'ft35',\n",
    "        'ft22', 'ft23', 'ft34', 'ft36', 'ft37', 'ft38', 'ft40', 'ft41', 'ft42',\n",
    "        'ft43', 'ft44', 'ft45', 'ft46', 'ft48', 'ft47', 'ft49', 'ft51', 'ft50',\n",
    "        'ft52', 'ft53', 'ft54', 'ft55', 'ft26', 'ft27', 'ft28', 'ft29', 'ft30',\n",
    "        'ft31', 'ft32']"
   ]
  },
  {
   "cell_type": "code",
   "execution_count": 170,
   "metadata": {
    "collapsed": false
   },
   "outputs": [
    {
     "name": "stdout",
     "output_type": "stream",
     "text": [
      "[(1054.8512403351754, 'ft51'), (910.90800011284045, 'sizeGB'), (460.81136203559822, 'ft39'), (412.14256856802297, 'ft4'), (18.06012589857059, 'ppn'), (-0.0, 'ft9'), (-0.0, 'ft8'), (-0.0, 'ft7'), (-0.0, 'ft6'), (-0.0, 'ft55'), (0.0, 'ft54'), (0.0, 'ft53'), (0.0, 'ft52'), (0.0, 'ft50'), (-0.0, 'ft5'), (-0.0, 'ft49'), (-0.0, 'ft48'), (0.0, 'ft47'), (-0.0, 'ft46'), (-0.0, 'ft45'), (-0.0, 'ft44'), (-0.0, 'ft43'), (-0.0, 'ft42'), (0.0, 'ft41'), (0.0, 'ft38'), (0.0, 'ft37'), (0.0, 'ft36'), (0.0, 'ft35'), (0.0, 'ft34'), (-0.0, 'ft33'), (-0.0, 'ft32'), (-0.0, 'ft30'), (-0.0, 'ft3'), (0.0, 'ft29'), (-0.0, 'ft27'), (0.0, 'ft26'), (-0.0, 'ft25'), (0.0, 'ft24'), (0.0, 'ft23'), (0.0, 'ft22'), (-0.0, 'ft21'), (-0.0, 'ft20'), (-0.0, 'ft2'), (-0.0, 'ft19'), (0.0, 'ft18'), (-0.0, 'ft17'), (-0.0, 'ft16'), (0.0, 'ft15'), (0.0, 'ft14'), (-0.0, 'ft13'), (-0.0, 'ft12'), (-0.0, 'ft11'), (-0.0, 'ft10'), (-0.0, 'ft1'), (-42.900335468299275, 'ft28'), (-800.68201462240199, 'ft40'), (-966.752030074103, 'ft31')]\n"
     ]
    }
   ],
   "source": [
    "print(sorted(zip(map(lambda x: x, lasso_model.coef_), \n",
    "                 names), reverse=True))"
   ]
  },
  {
   "cell_type": "markdown",
   "metadata": {
    "collapsed": true
   },
   "source": [
    "#>>>>>>>>>>>\n"
   ]
  },
  {
   "cell_type": "markdown",
   "metadata": {},
   "source": [
    "# Lasso Final\n",
    "\n",
    "Lasso(alpha=20.433597178569439, copy_X=True, fit_intercept=True,\n",
    "   max_iter=10000000.0, normalize=False, positive=False, precompute=True,\n",
    "   random_state=None, selection='random', tol=1e-06, warm_start=False) \n",
    "\n",
    "\n",
    "\n",
    " 1025.08609776 880.826424842 1532.34615385"
   ]
  },
  {
   "cell_type": "code",
   "execution_count": 64,
   "metadata": {
    "collapsed": false
   },
   "outputs": [
    {
     "name": "stdout",
     "output_type": "stream",
     "text": [
      "<function LassoCVModel at 0x7f563e1a1378>\n"
     ]
    }
   ],
   "source": [
    "import pickle \n",
    "\n",
    "# get the model\n",
    "for k in t_lasso.keys():\n",
    "    print(k)\n",
    "    mo = t_lasso[k]['model']\n",
    "\n",
    "# write the model to a file\n",
    "with open('4C4_lasso_tuned.pickle', 'wb') as handle:\n",
    "    pickle.dump(mo, handle, protocol=pickle.HIGHEST_PROTOCOL)"
   ]
  },
  {
   "cell_type": "markdown",
   "metadata": {},
   "source": [
    "<:>:<:>:<:>:<:>:<:>:<:>:<:>:<:>:<:>:<:>:<:>:<:>:<:>:<:>:<:><:>:<:>:<:>:<:>:<:>:<:>:<:>:<:>:<:>:<:>:<:>:<:>:<:>:<:>:<:>\n",
    "<:>:<:>:<:>:<:>:<:>:<:>:<:>:<:>:<:>:<:>:<:>:<:>:<:>:<:>:<:><:>:<:>:<:>:<:>:<:>:<:>:<:>:<:>:<:>:<:>:<:>:<:>:<:>:<:>:<:>\n",
    "<:>:<:>:<:>:<:>:<:>:<:>:<:>:<:>:<:>:<:>:<:>:<:>:<:>:<:>:<:><:>:<:>:<:>:<:>:<:>:<:>:<:>:<:>:<:>:<:>:<:>:<:>:<:>:<:>:<:>\n",
    "<:>:<:>:<:>:<:>:<:>:<:>:<:>:<:>:<:>:<:>:<:>:<:>:<:>:<:>:<:><:>:<:>:<:>:<:>:<:>:<:>:<:>:<:>:<:>:<:>:<:>:<:>:<:>:<:>:<:>\n"
   ]
  },
  {
   "cell_type": "markdown",
   "metadata": {},
   "source": [
    "# 2"
   ]
  },
  {
   "cell_type": "markdown",
   "metadata": {},
   "source": [
    "# OMPCVModel --OK"
   ]
  },
  {
   "cell_type": "code",
   "execution_count": 154,
   "metadata": {
    "collapsed": false
   },
   "outputs": [
    {
     "name": "stdout",
     "output_type": "stream",
     "text": [
      "\n",
      "Dataset size read: train 258 and test 63 \n",
      "\n",
      "# Tuning hyper-parameters \n",
      "\n",
      "Starting grdsurch.fit(X_train, y_train)\n"
     ]
    },
    {
     "name": "stderr",
     "output_type": "stream",
     "text": [
      "/data/home/a1singh/anaconda3/lib/python3.6/site-packages/sklearn/linear_model/omp.py:665: RuntimeWarning:  Orthogonal matching pursuit ended prematurely due to linear\n",
      "dependence in the dictionary. The requested precision might not have been met.\n",
      "\n",
      "  return_n_iter=True)\n",
      "/data/home/a1singh/anaconda3/lib/python3.6/site-packages/sklearn/linear_model/omp.py:665: RuntimeWarning:  Orthogonal matching pursuit ended prematurely due to linear\n",
      "dependence in the dictionary. The requested precision might not have been met.\n",
      "\n",
      "  return_n_iter=True)\n",
      "/data/home/a1singh/anaconda3/lib/python3.6/site-packages/sklearn/linear_model/omp.py:665: RuntimeWarning:  Orthogonal matching pursuit ended prematurely due to linear\n",
      "dependence in the dictionary. The requested precision might not have been met.\n",
      "\n",
      "  return_n_iter=True)\n",
      "/data/home/a1singh/anaconda3/lib/python3.6/site-packages/sklearn/linear_model/omp.py:665: RuntimeWarning:  Orthogonal matching pursuit ended prematurely due to linear\n",
      "dependence in the dictionary. The requested precision might not have been met.\n",
      "\n",
      "  return_n_iter=True)\n",
      "/data/home/a1singh/anaconda3/lib/python3.6/site-packages/sklearn/linear_model/omp.py:665: RuntimeWarning:  Orthogonal matching pursuit ended prematurely due to linear\n",
      "dependence in the dictionary. The requested precision might not have been met.\n",
      "\n",
      "  return_n_iter=True)\n",
      "/data/home/a1singh/anaconda3/lib/python3.6/site-packages/sklearn/linear_model/omp.py:665: RuntimeWarning:  Orthogonal matching pursuit ended prematurely due to linear\n",
      "dependence in the dictionary. The requested precision might not have been met.\n",
      "\n",
      "  return_n_iter=True)\n",
      "/data/home/a1singh/anaconda3/lib/python3.6/site-packages/sklearn/linear_model/omp.py:665: RuntimeWarning:  Orthogonal matching pursuit ended prematurely due to linear\n",
      "dependence in the dictionary. The requested precision might not have been met.\n",
      "\n",
      "  return_n_iter=True)\n",
      "/data/home/a1singh/anaconda3/lib/python3.6/site-packages/sklearn/linear_model/omp.py:665: RuntimeWarning:  Orthogonal matching pursuit ended prematurely due to linear\n",
      "dependence in the dictionary. The requested precision might not have been met.\n",
      "\n",
      "  return_n_iter=True)\n",
      "/data/home/a1singh/anaconda3/lib/python3.6/site-packages/sklearn/linear_model/omp.py:665: RuntimeWarning:  Orthogonal matching pursuit ended prematurely due to linear\n",
      "dependence in the dictionary. The requested precision might not have been met.\n",
      "\n",
      "  return_n_iter=True)\n",
      "/data/home/a1singh/anaconda3/lib/python3.6/site-packages/sklearn/linear_model/omp.py:665: RuntimeWarning:  Orthogonal matching pursuit ended prematurely due to linear\n",
      "dependence in the dictionary. The requested precision might not have been met.\n",
      "\n",
      "  return_n_iter=True)\n",
      "/data/home/a1singh/anaconda3/lib/python3.6/site-packages/sklearn/linear_model/omp.py:665: RuntimeWarning:  Orthogonal matching pursuit ended prematurely due to linear\n",
      "dependence in the dictionary. The requested precision might not have been met.\n",
      "\n",
      "  return_n_iter=True)\n",
      "/data/home/a1singh/anaconda3/lib/python3.6/site-packages/sklearn/linear_model/omp.py:665: RuntimeWarning:  Orthogonal matching pursuit ended prematurely due to linear\n",
      "dependence in the dictionary. The requested precision might not have been met.\n",
      "\n",
      "  return_n_iter=True)\n",
      "/data/home/a1singh/anaconda3/lib/python3.6/site-packages/sklearn/linear_model/omp.py:665: RuntimeWarning:  Orthogonal matching pursuit ended prematurely due to linear\n",
      "dependence in the dictionary. The requested precision might not have been met.\n",
      "\n",
      "  return_n_iter=True)\n",
      "/data/home/a1singh/anaconda3/lib/python3.6/site-packages/sklearn/linear_model/omp.py:665: RuntimeWarning:  Orthogonal matching pursuit ended prematurely due to linear\n",
      "dependence in the dictionary. The requested precision might not have been met.\n",
      "\n",
      "  return_n_iter=True)\n",
      "/data/home/a1singh/anaconda3/lib/python3.6/site-packages/sklearn/linear_model/omp.py:665: RuntimeWarning:  Orthogonal matching pursuit ended prematurely due to linear\n",
      "dependence in the dictionary. The requested precision might not have been met.\n",
      "\n",
      "  return_n_iter=True)\n",
      "/data/home/a1singh/anaconda3/lib/python3.6/site-packages/sklearn/linear_model/omp.py:665: RuntimeWarning:  Orthogonal matching pursuit ended prematurely due to linear\n",
      "dependence in the dictionary. The requested precision might not have been met.\n",
      "\n",
      "  return_n_iter=True)\n",
      "/data/home/a1singh/anaconda3/lib/python3.6/site-packages/sklearn/linear_model/omp.py:665: RuntimeWarning:  Orthogonal matching pursuit ended prematurely due to linear\n",
      "dependence in the dictionary. The requested precision might not have been met.\n",
      "\n",
      "  return_n_iter=True)\n",
      "/data/home/a1singh/anaconda3/lib/python3.6/site-packages/sklearn/linear_model/omp.py:665: RuntimeWarning:  Orthogonal matching pursuit ended prematurely due to linear\n",
      "dependence in the dictionary. The requested precision might not have been met.\n",
      "\n",
      "  return_n_iter=True)\n",
      "/data/home/a1singh/anaconda3/lib/python3.6/site-packages/sklearn/linear_model/omp.py:665: RuntimeWarning:  Orthogonal matching pursuit ended prematurely due to linear\n",
      "dependence in the dictionary. The requested precision might not have been met.\n",
      "\n",
      "  return_n_iter=True)\n",
      "/data/home/a1singh/anaconda3/lib/python3.6/site-packages/sklearn/linear_model/omp.py:665: RuntimeWarning:  Orthogonal matching pursuit ended prematurely due to linear\n",
      "dependence in the dictionary. The requested precision might not have been met.\n",
      "\n",
      "  return_n_iter=True)\n",
      "/data/home/a1singh/anaconda3/lib/python3.6/site-packages/sklearn/linear_model/omp.py:665: RuntimeWarning:  Orthogonal matching pursuit ended prematurely due to linear\n",
      "dependence in the dictionary. The requested precision might not have been met.\n",
      "\n",
      "  return_n_iter=True)\n",
      "/data/home/a1singh/anaconda3/lib/python3.6/site-packages/sklearn/linear_model/omp.py:665: RuntimeWarning:  Orthogonal matching pursuit ended prematurely due to linear\n",
      "dependence in the dictionary. The requested precision might not have been met.\n",
      "\n",
      "  return_n_iter=True)\n",
      "/data/home/a1singh/anaconda3/lib/python3.6/site-packages/sklearn/linear_model/omp.py:665: RuntimeWarning:  Orthogonal matching pursuit ended prematurely due to linear\n",
      "dependence in the dictionary. The requested precision might not have been met.\n",
      "\n",
      "  return_n_iter=True)\n",
      "/data/home/a1singh/anaconda3/lib/python3.6/site-packages/sklearn/linear_model/omp.py:665: RuntimeWarning:  Orthogonal matching pursuit ended prematurely due to linear\n",
      "dependence in the dictionary. The requested precision might not have been met.\n",
      "\n",
      "  return_n_iter=True)\n",
      "/data/home/a1singh/anaconda3/lib/python3.6/site-packages/sklearn/linear_model/omp.py:665: RuntimeWarning:  Orthogonal matching pursuit ended prematurely due to linear\n",
      "dependence in the dictionary. The requested precision might not have been met.\n",
      "\n",
      "  return_n_iter=True)\n",
      "/data/home/a1singh/anaconda3/lib/python3.6/site-packages/sklearn/linear_model/omp.py:665: RuntimeWarning:  Orthogonal matching pursuit ended prematurely due to linear\n",
      "dependence in the dictionary. The requested precision might not have been met.\n",
      "\n",
      "  return_n_iter=True)\n",
      "/data/home/a1singh/anaconda3/lib/python3.6/site-packages/sklearn/linear_model/omp.py:665: RuntimeWarning:  Orthogonal matching pursuit ended prematurely due to linear\n",
      "dependence in the dictionary. The requested precision might not have been met.\n",
      "\n",
      "  return_n_iter=True)\n",
      "/data/home/a1singh/anaconda3/lib/python3.6/site-packages/sklearn/linear_model/omp.py:665: RuntimeWarning:  Orthogonal matching pursuit ended prematurely due to linear\n",
      "dependence in the dictionary. The requested precision might not have been met.\n",
      "\n",
      "  return_n_iter=True)\n",
      "/data/home/a1singh/anaconda3/lib/python3.6/site-packages/sklearn/linear_model/omp.py:665: RuntimeWarning:  Orthogonal matching pursuit ended prematurely due to linear\n",
      "dependence in the dictionary. The requested precision might not have been met.\n",
      "\n",
      "  return_n_iter=True)\n",
      "/data/home/a1singh/anaconda3/lib/python3.6/site-packages/sklearn/linear_model/omp.py:665: RuntimeWarning:  Orthogonal matching pursuit ended prematurely due to linear\n",
      "dependence in the dictionary. The requested precision might not have been met.\n",
      "\n",
      "  return_n_iter=True)\n",
      "/data/home/a1singh/anaconda3/lib/python3.6/site-packages/sklearn/linear_model/omp.py:665: RuntimeWarning:  Orthogonal matching pursuit ended prematurely due to linear\n",
      "dependence in the dictionary. The requested precision might not have been met.\n",
      "\n",
      "  return_n_iter=True)\n",
      "/data/home/a1singh/anaconda3/lib/python3.6/site-packages/sklearn/linear_model/omp.py:665: RuntimeWarning:  Orthogonal matching pursuit ended prematurely due to linear\n",
      "dependence in the dictionary. The requested precision might not have been met.\n",
      "\n",
      "  return_n_iter=True)\n",
      "/data/home/a1singh/anaconda3/lib/python3.6/site-packages/sklearn/linear_model/omp.py:665: RuntimeWarning:  Orthogonal matching pursuit ended prematurely due to linear\n",
      "dependence in the dictionary. The requested precision might not have been met.\n",
      "\n",
      "  return_n_iter=True)\n",
      "/data/home/a1singh/anaconda3/lib/python3.6/site-packages/sklearn/linear_model/omp.py:665: RuntimeWarning:  Orthogonal matching pursuit ended prematurely due to linear\n",
      "dependence in the dictionary. The requested precision might not have been met.\n",
      "\n",
      "  return_n_iter=True)\n",
      "/data/home/a1singh/anaconda3/lib/python3.6/site-packages/sklearn/linear_model/omp.py:665: RuntimeWarning:  Orthogonal matching pursuit ended prematurely due to linear\n",
      "dependence in the dictionary. The requested precision might not have been met.\n",
      "\n",
      "  return_n_iter=True)\n",
      "/data/home/a1singh/anaconda3/lib/python3.6/site-packages/sklearn/linear_model/omp.py:665: RuntimeWarning:  Orthogonal matching pursuit ended prematurely due to linear\n",
      "dependence in the dictionary. The requested precision might not have been met.\n",
      "\n",
      "  return_n_iter=True)\n"
     ]
    },
    {
     "name": "stdout",
     "output_type": "stream",
     "text": [
      "\n",
      "Best parameters set found on development set:\n",
      "\n",
      "{'n_nonzero_coefs': 3, 'tol': 1e-20}\n",
      "OrthogonalMatchingPursuit(fit_intercept=True, n_nonzero_coefs=3,\n",
      "             normalize=True, precompute='auto', tol=1e-20)\n",
      "\n",
      "Full Test Set: 63\n"
     ]
    },
    {
     "name": "stderr",
     "output_type": "stream",
     "text": [
      "/data/home/a1singh/anaconda3/lib/python3.6/site-packages/sklearn/linear_model/omp.py:665: RuntimeWarning:  Orthogonal matching pursuit ended prematurely due to linear\n",
      "dependence in the dictionary. The requested precision might not have been met.\n",
      "\n",
      "  return_n_iter=True)\n"
     ]
    },
    {
     "data": {
      "text/plain": [
       "array([  173.64,   203.98,   142.31,   164.02,   121.17,   203.5 ,\n",
       "        1740.7 ,  4234.26,  3077.01,  2376.19,  1393.36,  1919.57,\n",
       "        1616.34,  1593.28,  1174.9 ,  2587.3 ,  2896.27,  1723.63,\n",
       "        1932.2 ,  2769.22,  2210.97,  3353.35,  1895.33,  3348.91,\n",
       "        2184.34,  2659.86,   299.12,   300.32,  2771.25,  2294.56,\n",
       "        3143.72,  1868.49,   321.59,  1087.87,   695.76,  1082.16,\n",
       "        1365.13,  1357.24,  1870.14,   322.13,  2270.37,  3200.82,\n",
       "        2833.87,  1470.8 ,  2262.51,  1806.17,   462.77,   197.88,\n",
       "        1780.16,   738.16,  2142.12,  1333.76,  1862.39,  1808.07,\n",
       "        1637.05,  2258.66,  2119.13,   460.34,   504.45,   504.92,\n",
       "        1018.55,  2123.49,  1471.89])"
      ]
     },
     "metadata": {},
     "output_type": "display_data"
    },
    {
     "data": {
      "text/plain": [
       "array([  850.57754835,  1095.53811028,   605.61698641,   866.58391355,\n",
       "         344.65005927,  1079.53174507,  2408.56752985,  2392.80038394,\n",
       "        2377.72099351,  2361.26609212,  2360.30331621,  2360.78765352,\n",
       "        2376.55479943,  2360.54843422,  2393.96657802,  2409.28518774,\n",
       "        2377.51167663,  2408.56752985,  2376.79401873,  2393.51804183,\n",
       "        2377.03323803,  2377.51167663,  2376.79401873,  2393.96657802,\n",
       "        2409.04596844,  2590.02830554,   241.46891799,   241.46891799,\n",
       "        2638.04740116,  2254.60019305,  3020.10194909,  1872.54564511,\n",
       "         257.47528319,  1076.42381882,   668.48055452,  1060.41745362,\n",
       "        1474.48473197,  1442.47200155,  1840.5329147 ,   289.48801361,\n",
       "        2270.60655825,  3020.10194909,  2988.08921868,  1474.48473197,\n",
       "        2094.80899378,  1620.89423511,   647.36997098,   374.34379706,\n",
       "        1652.90696553,   886.01254931,  1865.85479705,  1359.92730797,\n",
       "        1849.84843184,  1636.90060032,  1636.90060032,  2094.80899378,\n",
       "        1881.86116226,   631.36360578,   647.36997098,   663.37633619,\n",
       "        1146.97947645,  1849.84843184,  1359.92730797])"
      ]
     },
     "metadata": {},
     "output_type": "display_data"
    },
    {
     "name": "stdout",
     "output_type": "stream",
     "text": [
      "A: 6\n"
     ]
    },
    {
     "data": {
      "text/plain": [
       "array([ 173.64,  203.98,  142.31,  164.02,  121.17,  203.5 ])"
      ]
     },
     "metadata": {},
     "output_type": "display_data"
    },
    {
     "data": {
      "text/plain": [
       "array([  850.57754835,  1095.53811028,   605.61698641,   866.58391355,\n",
       "         344.65005927,  1079.53174507])"
      ]
     },
     "metadata": {},
     "output_type": "display_data"
    },
    {
     "name": "stdout",
     "output_type": "stream",
     "text": [
      "B: 19\n"
     ]
    },
    {
     "data": {
      "text/plain": [
       "array([ 1740.7 ,  4234.26,  3077.01,  2376.19,  1393.36,  1919.57,\n",
       "        1616.34,  1593.28,  1174.9 ,  2587.3 ,  2896.27,  1723.63,\n",
       "        1932.2 ,  2769.22,  2210.97,  3353.35,  1895.33,  3348.91,  2184.34])"
      ]
     },
     "metadata": {},
     "output_type": "display_data"
    },
    {
     "data": {
      "text/plain": [
       "array([ 2408.56752985,  2392.80038394,  2377.72099351,  2361.26609212,\n",
       "        2360.30331621,  2360.78765352,  2376.55479943,  2360.54843422,\n",
       "        2393.96657802,  2409.28518774,  2377.51167663,  2408.56752985,\n",
       "        2376.79401873,  2393.51804183,  2377.03323803,  2377.51167663,\n",
       "        2376.79401873,  2393.96657802,  2409.04596844])"
      ]
     },
     "metadata": {},
     "output_type": "display_data"
    },
    {
     "name": "stdout",
     "output_type": "stream",
     "text": [
      "C: 19\n"
     ]
    },
    {
     "data": {
      "text/plain": [
       "array([ 2659.86,   299.12,   300.32,  2771.25,  2294.56,  3143.72,\n",
       "        1868.49,   321.59,  1087.87,   695.76,  1082.16,  1365.13,\n",
       "        1357.24,  1870.14,   322.13,  2270.37,  3200.82,  2833.87,  1470.8 ])"
      ]
     },
     "metadata": {},
     "output_type": "display_data"
    },
    {
     "data": {
      "text/plain": [
       "array([ 2590.02830554,   241.46891799,   241.46891799,  2638.04740116,\n",
       "        2254.60019305,  3020.10194909,  1872.54564511,   257.47528319,\n",
       "        1076.42381882,   668.48055452,  1060.41745362,  1474.48473197,\n",
       "        1442.47200155,  1840.5329147 ,   289.48801361,  2270.60655825,\n",
       "        3020.10194909,  2988.08921868,  1474.48473197])"
      ]
     },
     "metadata": {},
     "output_type": "display_data"
    },
    {
     "name": "stdout",
     "output_type": "stream",
     "text": [
      "D: 19\n"
     ]
    },
    {
     "data": {
      "text/plain": [
       "array([ 2262.51,  1806.17,   462.77,   197.88,  1780.16,   738.16,\n",
       "        2142.12,  1333.76,  1862.39,  1808.07,  1637.05,  2258.66,\n",
       "        2119.13,   460.34,   504.45,   504.92,  1018.55,  2123.49,  1471.89])"
      ]
     },
     "metadata": {},
     "output_type": "display_data"
    },
    {
     "data": {
      "text/plain": [
       "array([ 2094.80899378,  1620.89423511,   647.36997098,   374.34379706,\n",
       "        1652.90696553,   886.01254931,  1865.85479705,  1359.92730797,\n",
       "        1849.84843184,  1636.90060032,  1636.90060032,  2094.80899378,\n",
       "        1881.86116226,   631.36360578,   647.36997098,   663.37633619,\n",
       "        1146.97947645,  1849.84843184,  1359.92730797])"
      ]
     },
     "metadata": {},
     "output_type": "display_data"
    },
    {
     "name": "stdout",
     "output_type": "stream",
     "text": [
      "【【】】adding new model for datasetIPPD.pickle \n",
      "\n",
      "【【【】】】newScore: 1426.531092 \n",
      "____________________________________________________________________________________________________\n"
     ]
    }
   ],
   "source": [
    "t_OMPC = wrapper([OMPCVModel])"
   ]
  },
  {
   "cell_type": "code",
   "execution_count": 155,
   "metadata": {
    "collapsed": false
   },
   "outputs": [
    {
     "name": "stdout",
     "output_type": "stream",
     "text": [
      "________________________________________________________________________________\n",
      "Model: OrthogonalMatchingPu\n",
      "Train RMSE: 1426.531092 \n",
      "\n",
      "Test RMSE   : 485.236122\n",
      "Overall Mean: 1630.847937 \n",
      "\n",
      "A...TestA RMSE   : 680.532228\n",
      "A...y_test_A Mean: 168.103333 \n",
      "\n",
      "B...TestB RMSE   : 774.306513\n",
      "B...y_test_B Mean: 2317.217368 \n",
      "\n",
      "C...TestC RMSE   : 82.519859\n",
      "C...y_test_C Mean: 1642.905263 \n",
      "\n",
      "D...TestD RMSE   : 167.649584\n",
      "D...y_test_D Mean: 1394.340526\n",
      "________________________________________________________________________________\n"
     ]
    }
   ],
   "source": [
    "t_print = t_OMPC\n",
    "\n",
    "for key in t_print.keys():\n",
    "    print(80*'_')\n",
    "    \n",
    "    print('Model: %s' % (str(t_print[key]['model'])[:20]))\n",
    "    print('Train RMSE: %f \\n' % (t_print[key]['train_rmse_cv_picking']))\n",
    "    \n",
    "    print('Test RMSE   : %f' % (t_print[key]['test_rmse_reporting']))\n",
    "    print('Overall Mean: %f \\n' % (t_print[key]['test_mean_y_comparing']))\n",
    "    \n",
    "    print('A...TestA RMSE   : %f' % (t_print[key]['test_rmse_reportingA']))\n",
    "    print('A...y_test_A Mean: %f \\n' % (t_print[key]['test_mean_y_comparingA']))\n",
    "    \n",
    "    print('B...TestB RMSE   : %f' % (t_print[key]['test_rmse_reportingB']))\n",
    "    print('B...y_test_B Mean: %f \\n' % (t_print[key]['test_mean_y_comparingB']))\n",
    "    \n",
    "    print('C...TestC RMSE   : %f' % (t_print[key]['test_rmse_reportingC']))\n",
    "    print('C...y_test_C Mean: %f \\n' % (t_print[key]['test_mean_y_comparingC']))\n",
    "    \n",
    "    print('D...TestD RMSE   : %f' % (t_print[key]['test_rmse_reportingD']))\n",
    "    print('D...y_test_D Mean: %f' % (t_print[key]['test_mean_y_comparingD']))\n",
    "    \n",
    "    print(80*'_')"
   ]
  },
  {
   "cell_type": "code",
   "execution_count": 65,
   "metadata": {
    "collapsed": false
   },
   "outputs": [
    {
     "name": "stdout",
     "output_type": "stream",
     "text": [
      "<function OMPCVModel at 0x7f563e1a1400>\n"
     ]
    }
   ],
   "source": [
    "# get the model\n",
    "for k in t_OMPC.keys():\n",
    "    print(k)\n",
    "    mo = t_OMPC[k]['model']\n",
    "\n",
    "# write the model to a file\n",
    "with open('4C4_OMPC_tuned.pickle', 'wb') as handle:\n",
    "    pickle.dump(mo, handle, protocol=pickle.HIGHEST_PROTOCOL)"
   ]
  },
  {
   "cell_type": "markdown",
   "metadata": {
    "collapsed": true
   },
   "source": [
    "#>>>>>>>>>>>\n"
   ]
  },
  {
   "cell_type": "markdown",
   "metadata": {},
   "source": [
    "# OMP Final\n",
    "\n",
    "OrthogonalMatchingPursuit(fit_intercept=True, n_nonzero_coefs=3,\n",
    "             normalize=True, precompute='auto', tol=1e-20) \n",
    "\n",
    "\n",
    " 445.063183594 354.963614472 1532.34615385"
   ]
  },
  {
   "cell_type": "code",
   "execution_count": 21,
   "metadata": {
    "collapsed": false
   },
   "outputs": [
    {
     "name": "stdout",
     "output_type": "stream",
     "text": [
      "3\n",
      "\n",
      "[(302.3673068598909, 'sizeGB'), (98.0619727553009, 'ft39'), (3.3961833980045406, 'ppn'), (0.49317894769754, 'ft51'), (0.0, 'ft9'), (0.0, 'ft8'), (0.0, 'ft7'), (0.0, 'ft6'), (0.0, 'ft55'), (0.0, 'ft54'), (0.0, 'ft53'), (0.0, 'ft52'), (0.0, 'ft50'), (0.0, 'ft5'), (0.0, 'ft49'), (0.0, 'ft48'), (0.0, 'ft47'), (0.0, 'ft46'), (0.0, 'ft45'), (0.0, 'ft44'), (0.0, 'ft43'), (0.0, 'ft42'), (0.0, 'ft41'), (0.0, 'ft4'), (0.0, 'ft38'), (0.0, 'ft37'), (0.0, 'ft36'), (0.0, 'ft35'), (0.0, 'ft34'), (0.0, 'ft33'), (0.0, 'ft32'), (0.0, 'ft31'), (0.0, 'ft30'), (0.0, 'ft3'), (0.0, 'ft29'), (0.0, 'ft28'), (0.0, 'ft27'), (0.0, 'ft26'), (0.0, 'ft25'), (0.0, 'ft24'), (0.0, 'ft23'), (0.0, 'ft22'), (0.0, 'ft21'), (0.0, 'ft20'), (0.0, 'ft2'), (0.0, 'ft19'), (0.0, 'ft18'), (0.0, 'ft17'), (0.0, 'ft16'), (0.0, 'ft15'), (0.0, 'ft14'), (0.0, 'ft13'), (0.0, 'ft12'), (0.0, 'ft11'), (0.0, 'ft10'), (0.0, 'ft1'), (-4.4203725761317223, 'ft40')]\n"
     ]
    }
   ],
   "source": [
    "print(omp_mo.n_nonzero_coefs_)\n",
    "print()\n",
    "print(sorted(zip(map(lambda x: x, omp_mo.coef_), \n",
    "                 names), reverse=True))"
   ]
  },
  {
   "cell_type": "markdown",
   "metadata": {
    "collapsed": true
   },
   "source": [
    "#>>>>>>>>>>>\n"
   ]
  },
  {
   "cell_type": "markdown",
   "metadata": {},
   "source": [
    "# Final Model : OMPC\n",
    "\n",
    "function OMPCVModel at 0x7f4f23fe96a8>\n",
    "OrthogonalMatchingPursuit(fit_intercept=True, n_nonzero_coefs=3,\n",
    "             normalize=True, precompute='auto', tol=1e-20) \n",
    "\n",
    "\n",
    " 445.063183594 354.963614472 1532.34615385"
   ]
  },
  {
   "cell_type": "markdown",
   "metadata": {},
   "source": [
    "# 3"
   ]
  },
  {
   "cell_type": "markdown",
   "metadata": {},
   "source": [
    "# GradientBoostingCVModel"
   ]
  },
  {
   "cell_type": "code",
   "execution_count": 156,
   "metadata": {
    "collapsed": false,
    "scrolled": false
   },
   "outputs": [
    {
     "name": "stdout",
     "output_type": "stream",
     "text": [
      "\n",
      "Dataset size read: train 258 and test 63 \n",
      "\n",
      "# Tuning hyper-parameters \n",
      "\n",
      "Starting grdsurch.fit(X_train, y_train)\n",
      "\n",
      "Best parameters set found on development set:\n",
      "\n",
      "{'learning_rate': 0.01, 'loss': 'ls', 'n_estimators': 6000}\n",
      "GradientBoostingRegressor(alpha=0.9, criterion='friedman_mse', init=None,\n",
      "             learning_rate=0.01, loss='ls', max_depth=None,\n",
      "             max_features=None, max_leaf_nodes=None,\n",
      "             min_impurity_split=1e-07, min_samples_leaf=1,\n",
      "             min_samples_split=2, min_weight_fraction_leaf=0.0,\n",
      "             n_estimators=6000, presort='auto', random_state=None,\n",
      "             subsample=1.0, verbose=0, warm_start=False)\n",
      "\n",
      "Full Test Set: 63\n"
     ]
    },
    {
     "data": {
      "text/plain": [
       "array([  173.64,   203.98,   142.31,   164.02,   121.17,   203.5 ,\n",
       "        1740.7 ,  4234.26,  3077.01,  2376.19,  1393.36,  1919.57,\n",
       "        1616.34,  1593.28,  1174.9 ,  2587.3 ,  2896.27,  1723.63,\n",
       "        1932.2 ,  2769.22,  2210.97,  3353.35,  1895.33,  3348.91,\n",
       "        2184.34,  2659.86,   299.12,   300.32,  2771.25,  2294.56,\n",
       "        3143.72,  1868.49,   321.59,  1087.87,   695.76,  1082.16,\n",
       "        1365.13,  1357.24,  1870.14,   322.13,  2270.37,  3200.82,\n",
       "        2833.87,  1470.8 ,  2262.51,  1806.17,   462.77,   197.88,\n",
       "        1780.16,   738.16,  2142.12,  1333.76,  1862.39,  1808.07,\n",
       "        1637.05,  2258.66,  2119.13,   460.34,   504.45,   504.92,\n",
       "        1018.55,  2123.49,  1471.89])"
      ]
     },
     "metadata": {},
     "output_type": "display_data"
    },
    {
     "data": {
      "text/plain": [
       "array([  164.88004944,   204.7992288 ,   141.54016923,   164.88069787,\n",
       "         120.19048068,   204.43980357,  1732.64      ,  2004.19      ,\n",
       "        3121.145     ,  2397.295     ,  1322.        ,  1854.285     ,\n",
       "        1627.715     ,  1580.745     ,  3450.94      ,  2479.14      ,\n",
       "        2896.76      ,  1732.64      ,  2000.17      ,  2757.55      ,\n",
       "        2246.875     ,  2896.76      ,  2000.17      ,  3450.94      ,\n",
       "        2237.53      ,  2614.585     ,   320.75      ,   320.75      ,\n",
       "        2567.375     ,  2092.99      ,  3326.93      ,  1705.26      ,\n",
       "         310.675     ,   999.445     ,   668.125     ,  1039.415     ,\n",
       "        1366.43      ,  1473.64      ,  1880.84      ,   310.925     ,\n",
       "        2178.965     ,  3326.93      ,  2832.795     ,  1366.43      ,\n",
       "        2241.22      ,  1708.23      ,   505.67      ,   207.13      ,\n",
       "        1714.76      ,   761.05      ,  2028.46      ,  1333.42      ,\n",
       "        2125.54      ,  1628.58      ,  1628.58      ,  2241.22      ,\n",
       "        2032.825     ,   507.59      ,   505.67      ,   483.87      ,\n",
       "        1086.815     ,  2125.54      ,  1333.42      ])"
      ]
     },
     "metadata": {},
     "output_type": "display_data"
    },
    {
     "name": "stdout",
     "output_type": "stream",
     "text": [
      "A: 6\n"
     ]
    },
    {
     "data": {
      "text/plain": [
       "array([ 173.64,  203.98,  142.31,  164.02,  121.17,  203.5 ])"
      ]
     },
     "metadata": {},
     "output_type": "display_data"
    },
    {
     "data": {
      "text/plain": [
       "array([ 164.88004944,  204.7992288 ,  141.54016923,  164.88069787,\n",
       "        120.19048068,  204.43980357])"
      ]
     },
     "metadata": {},
     "output_type": "display_data"
    },
    {
     "name": "stdout",
     "output_type": "stream",
     "text": [
      "B: 19\n"
     ]
    },
    {
     "data": {
      "text/plain": [
       "array([ 1740.7 ,  4234.26,  3077.01,  2376.19,  1393.36,  1919.57,\n",
       "        1616.34,  1593.28,  1174.9 ,  2587.3 ,  2896.27,  1723.63,\n",
       "        1932.2 ,  2769.22,  2210.97,  3353.35,  1895.33,  3348.91,  2184.34])"
      ]
     },
     "metadata": {},
     "output_type": "display_data"
    },
    {
     "data": {
      "text/plain": [
       "array([ 1732.64 ,  2004.19 ,  3121.145,  2397.295,  1322.   ,  1854.285,\n",
       "        1627.715,  1580.745,  3450.94 ,  2479.14 ,  2896.76 ,  1732.64 ,\n",
       "        2000.17 ,  2757.55 ,  2246.875,  2896.76 ,  2000.17 ,  3450.94 ,\n",
       "        2237.53 ])"
      ]
     },
     "metadata": {},
     "output_type": "display_data"
    },
    {
     "name": "stdout",
     "output_type": "stream",
     "text": [
      "C: 19\n"
     ]
    },
    {
     "data": {
      "text/plain": [
       "array([ 2659.86,   299.12,   300.32,  2771.25,  2294.56,  3143.72,\n",
       "        1868.49,   321.59,  1087.87,   695.76,  1082.16,  1365.13,\n",
       "        1357.24,  1870.14,   322.13,  2270.37,  3200.82,  2833.87,  1470.8 ])"
      ]
     },
     "metadata": {},
     "output_type": "display_data"
    },
    {
     "data": {
      "text/plain": [
       "array([ 2614.585,   320.75 ,   320.75 ,  2567.375,  2092.99 ,  3326.93 ,\n",
       "        1705.26 ,   310.675,   999.445,   668.125,  1039.415,  1366.43 ,\n",
       "        1473.64 ,  1880.84 ,   310.925,  2178.965,  3326.93 ,  2832.795,\n",
       "        1366.43 ])"
      ]
     },
     "metadata": {},
     "output_type": "display_data"
    },
    {
     "name": "stdout",
     "output_type": "stream",
     "text": [
      "D: 19\n"
     ]
    },
    {
     "data": {
      "text/plain": [
       "array([ 2262.51,  1806.17,   462.77,   197.88,  1780.16,   738.16,\n",
       "        2142.12,  1333.76,  1862.39,  1808.07,  1637.05,  2258.66,\n",
       "        2119.13,   460.34,   504.45,   504.92,  1018.55,  2123.49,  1471.89])"
      ]
     },
     "metadata": {},
     "output_type": "display_data"
    },
    {
     "data": {
      "text/plain": [
       "array([ 2241.22 ,  1708.23 ,   505.67 ,   207.13 ,  1714.76 ,   761.05 ,\n",
       "        2028.46 ,  1333.42 ,  2125.54 ,  1628.58 ,  1628.58 ,  2241.22 ,\n",
       "        2032.825,   507.59 ,   505.67 ,   483.87 ,  1086.815,  2125.54 ,\n",
       "        1333.42 ])"
      ]
     },
     "metadata": {},
     "output_type": "display_data"
    },
    {
     "name": "stdout",
     "output_type": "stream",
     "text": [
      "【【】】adding new model for datasetIPPD.pickle \n",
      "\n",
      "【【【】】】newScore: 772.675236 \n",
      "____________________________________________________________________________________________________\n"
     ]
    }
   ],
   "source": [
    "t_boosting = wrapper([GradientBoostingCVModel])"
   ]
  },
  {
   "cell_type": "code",
   "execution_count": 160,
   "metadata": {
    "collapsed": false
   },
   "outputs": [
    {
     "name": "stdout",
     "output_type": "stream",
     "text": [
      "________________________________________________________________________________\n",
      "Model: GradientBoostingRegr\n",
      "Train RMSE: 772.675236 \n",
      "\n",
      "Test RMSE   : 413.782191\n",
      "Overall Mean: 1630.847937 \n",
      "\n",
      "A...TestA RMSE   : 3.664787\n",
      "A...y_test_A Mean: 168.103333 \n",
      "\n",
      "B...TestB RMSE   : 740.419508\n",
      "B...y_test_B Mean: 2317.217368 \n",
      "\n",
      "C...TestC RMSE   : 103.825000\n",
      "C...y_test_C Mean: 1642.905263 \n",
      "\n",
      "D...TestD RMSE   : 93.328999\n",
      "D...y_test_D Mean: 1394.340526\n",
      "________________________________________________________________________________\n"
     ]
    }
   ],
   "source": [
    "t_print = t_boosting\n",
    "\n",
    "for key in t_print.keys():\n",
    "    print(80*'_')\n",
    "    \n",
    "    print('Model: %s' % (str(t_print[key]['model'])[:20]))\n",
    "    print('Train RMSE: %f \\n' % (t_print[key]['train_rmse_cv_picking']))\n",
    "    \n",
    "    print('Test RMSE   : %f' % (t_print[key]['test_rmse_reporting']))\n",
    "    print('Overall Mean: %f \\n' % (t_print[key]['test_mean_y_comparing']))\n",
    "    \n",
    "    print('A...TestA RMSE   : %f' % (t_print[key]['test_rmse_reportingA']))\n",
    "    print('A...y_test_A Mean: %f \\n' % (t_print[key]['test_mean_y_comparingA']))\n",
    "    \n",
    "    print('B...TestB RMSE   : %f' % (t_print[key]['test_rmse_reportingB']))\n",
    "    print('B...y_test_B Mean: %f \\n' % (t_print[key]['test_mean_y_comparingB']))\n",
    "    \n",
    "    print('C...TestC RMSE   : %f' % (t_print[key]['test_rmse_reportingC']))\n",
    "    print('C...y_test_C Mean: %f \\n' % (t_print[key]['test_mean_y_comparingC']))\n",
    "    \n",
    "    print('D...TestD RMSE   : %f' % (t_print[key]['test_rmse_reportingD']))\n",
    "    print('D...y_test_D Mean: %f' % (t_print[key]['test_mean_y_comparingD']))\n",
    "    \n",
    "    print(80*'_')"
   ]
  },
  {
   "cell_type": "code",
   "execution_count": 73,
   "metadata": {
    "collapsed": false
   },
   "outputs": [
    {
     "name": "stdout",
     "output_type": "stream",
     "text": [
      "<function GradientBoostingCVModel at 0x7f563e1a1488>\n"
     ]
    }
   ],
   "source": [
    "# get the model\n",
    "for k in t_boosting.keys():\n",
    "    print(k)\n",
    "    mo = t_boosting[k]['model']\n",
    "\n",
    "# write the model to a file\n",
    "with open('4C4_boosting_tuned.pickle', 'wb') as handle:\n",
    "    pickle.dump(mo, handle)"
   ]
  },
  {
   "cell_type": "markdown",
   "metadata": {
    "collapsed": true
   },
   "source": [
    "#>>>>>>>>>>>\n"
   ]
  },
  {
   "cell_type": "markdown",
   "metadata": {},
   "source": [
    "# Final Model : Boosting\n"
   ]
  },
  {
   "cell_type": "markdown",
   "metadata": {},
   "source": [
    "<:>:<:>:<:>:<:>:<:>:<:>:<:>:<:>:<:>:<:>:<:>:<:>:<:>:<:>:<:><:>:<:>:<:>:<:>:<:>:<:>:<:>:<:>:<:>:<:>:<:>:<:>:<:>:<:>:<:>\n",
    "<:>:<:>:<:>:<:>:<:>:<:>:<:>:<:>:<:>:<:>:<:>:<:>:<:>:<:>:<:><:>:<:>:<:>:<:>:<:>:<:>:<:>:<:>:<:>:<:>:<:>:<:>:<:>:<:>:<:>\n",
    "<:>:<:>:<:>:<:>:<:>:<:>:<:>:<:>:<:>:<:>:<:>:<:>:<:>:<:>:<:><:>:<:>:<:>:<:>:<:>:<:>:<:>:<:>:<:>:<:>:<:>:<:>:<:>:<:>:<:>\n",
    "<:>:<:>:<:>:<:>:<:>:<:>:<:>:<:>:<:>:<:>:<:>:<:>:<:>:<:>:<:><:>:<:>:<:>:<:>:<:>:<:>:<:>:<:>:<:>:<:>:<:>:<:>:<:>:<:>:<:>\n"
   ]
  },
  {
   "cell_type": "markdown",
   "metadata": {},
   "source": [
    "# 4"
   ]
  },
  {
   "cell_type": "markdown",
   "metadata": {},
   "source": [
    "# Random Forest"
   ]
  },
  {
   "cell_type": "code",
   "execution_count": 158,
   "metadata": {
    "collapsed": false,
    "scrolled": false
   },
   "outputs": [
    {
     "name": "stdout",
     "output_type": "stream",
     "text": [
      "\n",
      "Dataset size read: train 258 and test 63 \n",
      "\n",
      "# Tuning hyper-parameters \n",
      "\n",
      "Starting grdsurch.fit(X_train, y_train)\n",
      "\n",
      "Best parameters set found on development set:\n",
      "\n",
      "{'n_estimators': 6000}\n",
      "RandomForestRegressor(bootstrap=True, criterion='mse', max_depth=None,\n",
      "           max_features='auto', max_leaf_nodes=None,\n",
      "           min_impurity_split=1e-07, min_samples_leaf=1,\n",
      "           min_samples_split=2, min_weight_fraction_leaf=0.0,\n",
      "           n_estimators=6000, n_jobs=-1, oob_score=True, random_state=None,\n",
      "           verbose=0, warm_start=False)\n",
      "\n",
      "Full Test Set: 63\n"
     ]
    },
    {
     "data": {
      "text/plain": [
       "array([  173.64,   203.98,   142.31,   164.02,   121.17,   203.5 ,\n",
       "        1740.7 ,  4234.26,  3077.01,  2376.19,  1393.36,  1919.57,\n",
       "        1616.34,  1593.28,  1174.9 ,  2587.3 ,  2896.27,  1723.63,\n",
       "        1932.2 ,  2769.22,  2210.97,  3353.35,  1895.33,  3348.91,\n",
       "        2184.34,  2659.86,   299.12,   300.32,  2771.25,  2294.56,\n",
       "        3143.72,  1868.49,   321.59,  1087.87,   695.76,  1082.16,\n",
       "        1365.13,  1357.24,  1870.14,   322.13,  2270.37,  3200.82,\n",
       "        2833.87,  1470.8 ,  2262.51,  1806.17,   462.77,   197.88,\n",
       "        1780.16,   738.16,  2142.12,  1333.76,  1862.39,  1808.07,\n",
       "        1637.05,  2258.66,  2119.13,   460.34,   504.45,   504.92,\n",
       "        1018.55,  2123.49,  1471.89])"
      ]
     },
     "metadata": {},
     "output_type": "display_data"
    },
    {
     "data": {
      "text/plain": [
       "array([  189.39534014,   312.20921941,   142.66169833,   190.90974925,\n",
       "         121.29463333,   308.05616387,  1702.36944094,  2001.91316673,\n",
       "        3106.93072303,  2420.16349092,  1330.69136276,  1873.83800733,\n",
       "        1623.25069077,  1587.88548732,  3417.99376441,  2482.08477311,\n",
       "        2822.29341316,  1702.36944094,  1955.2807348 ,  2771.91599686,\n",
       "        2232.88423151,  2822.29341316,  1955.2807348 ,  3417.99376441,\n",
       "        2240.46741508,  2609.00518215,   316.80936011,   316.80936011,\n",
       "        2576.25909124,  2126.45903105,  3199.96384452,  1721.0536016 ,\n",
       "         311.22212863,  1004.31980308,   669.71157327,  1036.70548616,\n",
       "        1402.68431322,  1467.74502927,  1867.15218242,   310.31385356,\n",
       "        2172.71285797,  3199.96384452,  2855.07132143,  1402.68431322,\n",
       "        2291.8097896 ,  1713.93046251,   505.06075757,   207.50813623,\n",
       "        1702.32006288,   765.60513658,  2038.93578582,  1385.31194499,\n",
       "        2090.31767282,  1657.44056907,  1657.44056907,  2291.8097896 ,\n",
       "        2032.0688699 ,   503.3849982 ,   505.06075757,   486.46725249,\n",
       "        1088.89344248,  2090.31767282,  1385.31194499])"
      ]
     },
     "metadata": {},
     "output_type": "display_data"
    },
    {
     "name": "stdout",
     "output_type": "stream",
     "text": [
      "A: 6\n"
     ]
    },
    {
     "data": {
      "text/plain": [
       "array([ 173.64,  203.98,  142.31,  164.02,  121.17,  203.5 ])"
      ]
     },
     "metadata": {},
     "output_type": "display_data"
    },
    {
     "data": {
      "text/plain": [
       "array([ 189.39534014,  312.20921941,  142.66169833,  190.90974925,\n",
       "        121.29463333,  308.05616387])"
      ]
     },
     "metadata": {},
     "output_type": "display_data"
    },
    {
     "name": "stdout",
     "output_type": "stream",
     "text": [
      "B: 19\n"
     ]
    },
    {
     "data": {
      "text/plain": [
       "array([ 1740.7 ,  4234.26,  3077.01,  2376.19,  1393.36,  1919.57,\n",
       "        1616.34,  1593.28,  1174.9 ,  2587.3 ,  2896.27,  1723.63,\n",
       "        1932.2 ,  2769.22,  2210.97,  3353.35,  1895.33,  3348.91,  2184.34])"
      ]
     },
     "metadata": {},
     "output_type": "display_data"
    },
    {
     "data": {
      "text/plain": [
       "array([ 1702.36944094,  2001.91316673,  3106.93072303,  2420.16349092,\n",
       "        1330.69136276,  1873.83800733,  1623.25069077,  1587.88548732,\n",
       "        3417.99376441,  2482.08477311,  2822.29341316,  1702.36944094,\n",
       "        1955.2807348 ,  2771.91599686,  2232.88423151,  2822.29341316,\n",
       "        1955.2807348 ,  3417.99376441,  2240.46741508])"
      ]
     },
     "metadata": {},
     "output_type": "display_data"
    },
    {
     "name": "stdout",
     "output_type": "stream",
     "text": [
      "C: 19\n"
     ]
    },
    {
     "data": {
      "text/plain": [
       "array([ 2659.86,   299.12,   300.32,  2771.25,  2294.56,  3143.72,\n",
       "        1868.49,   321.59,  1087.87,   695.76,  1082.16,  1365.13,\n",
       "        1357.24,  1870.14,   322.13,  2270.37,  3200.82,  2833.87,  1470.8 ])"
      ]
     },
     "metadata": {},
     "output_type": "display_data"
    },
    {
     "data": {
      "text/plain": [
       "array([ 2609.00518215,   316.80936011,   316.80936011,  2576.25909124,\n",
       "        2126.45903105,  3199.96384452,  1721.0536016 ,   311.22212863,\n",
       "        1004.31980308,   669.71157327,  1036.70548616,  1402.68431322,\n",
       "        1467.74502927,  1867.15218242,   310.31385356,  2172.71285797,\n",
       "        3199.96384452,  2855.07132143,  1402.68431322])"
      ]
     },
     "metadata": {},
     "output_type": "display_data"
    },
    {
     "name": "stdout",
     "output_type": "stream",
     "text": [
      "D: 19\n"
     ]
    },
    {
     "data": {
      "text/plain": [
       "array([ 2262.51,  1806.17,   462.77,   197.88,  1780.16,   738.16,\n",
       "        2142.12,  1333.76,  1862.39,  1808.07,  1637.05,  2258.66,\n",
       "        2119.13,   460.34,   504.45,   504.92,  1018.55,  2123.49,  1471.89])"
      ]
     },
     "metadata": {},
     "output_type": "display_data"
    },
    {
     "data": {
      "text/plain": [
       "array([ 2291.8097896 ,  1713.93046251,   505.06075757,   207.50813623,\n",
       "        1702.32006288,   765.60513658,  2038.93578582,  1385.31194499,\n",
       "        2090.31767282,  1657.44056907,  1657.44056907,  2291.8097896 ,\n",
       "        2032.0688699 ,   503.3849982 ,   505.06075757,   486.46725249,\n",
       "        1088.89344248,  2090.31767282,  1385.31194499])"
      ]
     },
     "metadata": {},
     "output_type": "display_data"
    },
    {
     "name": "stdout",
     "output_type": "stream",
     "text": [
      "【【】】adding new model for datasetIPPD.pickle \n",
      "\n",
      "【【【】】】newScore: 423.887481 \n",
      "____________________________________________________________________________________________________\n"
     ]
    }
   ],
   "source": [
    "t_rforest = wrapper([RandomForestCVModel])"
   ]
  },
  {
   "cell_type": "code",
   "execution_count": 159,
   "metadata": {
    "collapsed": false
   },
   "outputs": [
    {
     "name": "stdout",
     "output_type": "stream",
     "text": [
      "________________________________________________________________________________\n",
      "Model: RandomForestRegresso\n",
      "Train RMSE: 423.887481 \n",
      "\n",
      "Test RMSE   : 410.648430\n",
      "Overall Mean: 1630.847937 \n",
      "\n",
      "A...TestA RMSE   : 62.738855\n",
      "A...y_test_A Mean: 168.103333 \n",
      "\n",
      "B...TestB RMSE   : 737.591702\n",
      "B...y_test_B Mean: 2317.217368 \n",
      "\n",
      "C...TestC RMSE   : 83.534162\n",
      "C...y_test_C Mean: 1642.905263 \n",
      "\n",
      "D...TestD RMSE   : 82.982998\n",
      "D...y_test_D Mean: 1394.340526\n",
      "________________________________________________________________________________\n"
     ]
    }
   ],
   "source": [
    "t_print = t_rforest\n",
    "\n",
    "for key in t_print.keys():\n",
    "    print(80*'_')\n",
    "    \n",
    "    print('Model: %s' % (str(t_print[key]['model'])[:20]))\n",
    "    print('Train RMSE: %f \\n' % (t_print[key]['train_rmse_cv_picking']))\n",
    "    \n",
    "    print('Test RMSE   : %f' % (t_print[key]['test_rmse_reporting']))\n",
    "    print('Overall Mean: %f \\n' % (t_print[key]['test_mean_y_comparing']))\n",
    "    \n",
    "    print('A...TestA RMSE   : %f' % (t_print[key]['test_rmse_reportingA']))\n",
    "    print('A...y_test_A Mean: %f \\n' % (t_print[key]['test_mean_y_comparingA']))\n",
    "    \n",
    "    print('B...TestB RMSE   : %f' % (t_print[key]['test_rmse_reportingB']))\n",
    "    print('B...y_test_B Mean: %f \\n' % (t_print[key]['test_mean_y_comparingB']))\n",
    "    \n",
    "    print('C...TestC RMSE   : %f' % (t_print[key]['test_rmse_reportingC']))\n",
    "    print('C...y_test_C Mean: %f \\n' % (t_print[key]['test_mean_y_comparingC']))\n",
    "    \n",
    "    print('D...TestD RMSE   : %f' % (t_print[key]['test_rmse_reportingD']))\n",
    "    print('D...y_test_D Mean: %f' % (t_print[key]['test_mean_y_comparingD']))\n",
    "    \n",
    "    print(80*'_')"
   ]
  },
  {
   "cell_type": "code",
   "execution_count": 67,
   "metadata": {
    "collapsed": false
   },
   "outputs": [
    {
     "name": "stdout",
     "output_type": "stream",
     "text": [
      "<function RandomForestCVModel at 0x7f566422c598>\n"
     ]
    }
   ],
   "source": [
    "# get the model\n",
    "for k in t_rforest.keys():\n",
    "    print(k)\n",
    "    mo = t_rforest[k]['model']\n",
    "\n",
    "# write the model to a file\n",
    "with open('4C4_rforest_tuned.pickle', 'wb') as handle:\n",
    "    pickle.dump(mo, handle, protocol=pickle.HIGHEST_PROTOCOL)"
   ]
  },
  {
   "cell_type": "markdown",
   "metadata": {
    "collapsed": true
   },
   "source": [
    "#>>>>>>>>>>>\n"
   ]
  },
  {
   "cell_type": "markdown",
   "metadata": {},
   "source": [
    "# Final Model: Random Forest"
   ]
  },
  {
   "cell_type": "markdown",
   "metadata": {},
   "source": [
    "<:>:<:>:<:>:<:>:<:>:<:>:<:>:<:>:<:>:<:>:<:>:<:>:<:>:<:>:<:><:>:<:>:<:>:<:>:<:>:<:>:<:>:<:>:<:>:<:>:<:>:<:>:<:>:<:>:<:>\n",
    "<:>:<:>:<:>:<:>:<:>:<:>:<:>:<:>:<:>:<:>:<:>:<:>:<:>:<:>:<:><:>:<:>:<:>:<:>:<:>:<:>:<:>:<:>:<:>:<:>:<:>:<:>:<:>:<:>:<:>\n",
    "<:>:<:>:<:>:<:>:<:>:<:>:<:>:<:>:<:>:<:>:<:>:<:>:<:>:<:>:<:><:>:<:>:<:>:<:>:<:>:<:>:<:>:<:>:<:>:<:>:<:>:<:>:<:>:<:>:<:>\n",
    "<:>:<:>:<:>:<:>:<:>:<:>:<:>:<:>:<:>:<:>:<:>:<:>:<:>:<:>:<:><:>:<:>:<:>:<:>:<:>:<:>:<:>:<:>:<:>:<:>:<:>:<:>:<:>:<:>:<:>\n"
   ]
  },
  {
   "cell_type": "markdown",
   "metadata": {},
   "source": [
    "RidgeCVModel, ElasticNetCVModel, \n",
    "                 SVRPolyCVModel, SVRSigmoidCVModel, SVRLinearCVModel, \n",
    "                 SVRRbfCVModel ] #OMPCVModel"
   ]
  },
  {
   "cell_type": "markdown",
   "metadata": {},
   "source": [
    "# 5 "
   ]
  },
  {
   "cell_type": "markdown",
   "metadata": {},
   "source": [
    "# RidgeModel"
   ]
  },
  {
   "cell_type": "code",
   "execution_count": 13,
   "metadata": {
    "collapsed": true
   },
   "outputs": [],
   "source": [
    "########################### Test Ridge with Scaling ###########################\n",
    "# the L1 and L2 regularizers of linear models) assume that all features are \n",
    "# centered around 0 and have variance in the same order"
   ]
  },
  {
   "cell_type": "code",
   "execution_count": 14,
   "metadata": {
    "collapsed": true
   },
   "outputs": [],
   "source": [
    "# Note: Scaling improves Ridge"
   ]
  },
  {
   "cell_type": "code",
   "execution_count": 73,
   "metadata": {
    "collapsed": false,
    "scrolled": true
   },
   "outputs": [
    {
     "name": "stdout",
     "output_type": "stream",
     "text": [
      "\n",
      "\n",
      "{{ scale_this: >>>>>>>>>>>>>>>>>>>>>>>>>>>>>>>>>>>>>>>>> Scaling X_train and X_test... }}\n",
      "\n",
      "Dataset size read: train 258 and test 63 \n",
      "\n",
      "\n",
      "\n",
      "\n",
      "[{'alpha': array([  1.00000000e-35,   4.03701726e-35,   1.62975083e-34,\n",
      "         6.57933225e-34,   2.65608778e-33,   1.07226722e-32,\n",
      "         4.32876128e-32,   1.74752840e-31,   7.05480231e-31,\n",
      "         2.84803587e-30,   1.14975700e-29,   4.64158883e-29,\n",
      "         1.87381742e-28,   7.56463328e-28,   3.05385551e-27,\n",
      "         1.23284674e-26,   4.97702356e-26,   2.00923300e-25,\n",
      "         8.11130831e-25,   3.27454916e-24,   1.32194115e-23,\n",
      "         5.33669923e-23,   2.15443469e-22,   8.69749003e-22,\n",
      "         3.51119173e-21,   1.41747416e-20,   5.72236766e-20,\n",
      "         2.31012970e-19,   9.32603347e-19,   3.76493581e-18,\n",
      "         1.51991108e-17,   6.13590727e-17,   2.47707636e-16,\n",
      "         1.00000000e-15,   4.03701726e-15,   1.62975083e-14,\n",
      "         6.57933225e-14,   2.65608778e-13,   1.07226722e-12,\n",
      "         4.32876128e-12,   1.74752840e-11,   7.05480231e-11,\n",
      "         2.84803587e-10,   1.14975700e-09,   4.64158883e-09,\n",
      "         1.87381742e-08,   7.56463328e-08,   3.05385551e-07,\n",
      "         1.23284674e-06,   4.97702356e-06,   2.00923300e-05,\n",
      "         8.11130831e-05,   3.27454916e-04,   1.32194115e-03,\n",
      "         5.33669923e-03,   2.15443469e-02,   8.69749003e-02,\n",
      "         3.51119173e-01,   1.41747416e+00,   5.72236766e+00,\n",
      "         2.31012970e+01,   9.32603347e+01,   3.76493581e+02,\n",
      "         1.51991108e+03,   6.13590727e+03,   2.47707636e+04,\n",
      "         1.00000000e+05,   4.03701726e+05,   1.62975083e+06,\n",
      "         6.57933225e+06,   2.65608778e+07,   1.07226722e+08,\n",
      "         4.32876128e+08,   1.74752840e+09,   7.05480231e+09,\n",
      "         2.84803587e+10,   1.14975700e+11,   4.64158883e+11,\n",
      "         1.87381742e+12,   7.56463328e+12,   3.05385551e+13,\n",
      "         1.23284674e+14,   4.97702356e+14,   2.00923300e+15,\n",
      "         8.11130831e+15,   3.27454916e+16,   1.32194115e+17,\n",
      "         5.33669923e+17,   2.15443469e+18,   8.69749003e+18,\n",
      "         3.51119173e+19,   1.41747416e+20,   5.72236766e+20,\n",
      "         2.31012970e+21,   9.32603347e+21,   3.76493581e+22,\n",
      "         1.51991108e+23,   6.13590727e+23,   2.47707636e+24,\n",
      "         1.00000000e+25])}]\n",
      "\n",
      "\n",
      "\n",
      "# Tuning hyper-parameters \n",
      "\n",
      "Starting grdsurch.fit(X_train, y_train)\n",
      "\n",
      "Best parameters set found on development set:\n",
      "\n",
      "{'alpha': 1e-35}\n",
      "Ridge(alpha=1e-35, copy_X=True, fit_intercept=True, max_iter=None,\n",
      "   normalize=False, random_state=None, solver='auto', tol=1e-06)\n",
      "\n",
      "Full Test Set: 63\n"
     ]
    },
    {
     "data": {
      "text/plain": [
       "array([   21.8 ,    45.82,   173.64,   166.8 ,    67.96,   120.19,\n",
       "        2210.97,  1732.64,  2201.04,  2184.34,  1721.38,  2024.25,\n",
       "        3153.06,  2752.13,  3167.66,  3040.59,  2461.26,  3444.3 ,\n",
       "        1332.03,  1620.72,  1895.33,  2396.68,  2472.15,  1423.13,\n",
       "        2308.37,  2083.07,   996.42,   298.03,  1688.15,  2674.81,\n",
       "        2270.37,  1688.66,  1870.14,  1868.49,   695.76,  3621.04,\n",
       "        2828.23,   299.12,   693.29,  1358.2 ,  1083.5 ,  2659.86,\n",
       "        1073.56,   697.69,  2239.73,  1333.42,  2241.22,  1141.32,\n",
       "         810.75,  1135.84,   738.16,   216.58,   823.05,  2230.04,\n",
       "        1780.16,   198.71,   801.4 ,  2436.08,  1623.84,   504.45,\n",
       "         503.45,  2470.53,  1462.69])"
      ]
     },
     "metadata": {},
     "output_type": "display_data"
    },
    {
     "data": {
      "text/plain": [
       "array([ -805.58530755,  -485.58530755,   922.41469245,   858.41469245,\n",
       "        -229.58530755,   282.41469245,  2174.41469245,  2238.41469245,\n",
       "        2238.41469245,  2238.41469245,  2238.41469245,  2238.41469245,\n",
       "        2238.41469245,  2238.41469245,  2174.41469245,  2238.41469245,\n",
       "        2238.41469245,  2238.41469245,  2238.41469245,  2238.41469245,\n",
       "        2174.41469245,  2174.41469245,  2238.41469245,  2174.41469245,\n",
       "        2238.41469245,  2564.41469245,  1284.41469245,   260.41469245,\n",
       "        2308.41469245,  3076.41469245,  2564.41469245,  1796.41469245,\n",
       "        2052.41469245,  2308.41469245,   772.41469245,  3588.41469245,\n",
       "        3588.41469245,   260.41469245,   772.41469245,  1796.41469245,\n",
       "        1284.41469245,  3076.41469245,  1284.41469245,   772.41469245,\n",
       "        2356.41469245,  1460.41469245,  2356.41469245,  1204.41469245,\n",
       "        1012.41469245,  1268.41469245,   948.41469245,   436.41469245,\n",
       "         948.41469245,  2420.41469245,  1844.41469245,   372.41469245,\n",
       "         948.41469245,  2420.41469245,  1780.41469245,   692.41469245,\n",
       "         628.41469245,  2356.41469245,  1524.41469245])"
      ]
     },
     "metadata": {},
     "output_type": "display_data"
    },
    {
     "name": "stdout",
     "output_type": "stream",
     "text": [
      "A: 6\n",
      "\n",
      "{{ scale_this: >>>>>>>>>>>>>>>>>>>>>>>>>>>>>>>>>>>>>>>>> Scaling X_train and X_test... }}\n",
      "\n"
     ]
    },
    {
     "data": {
      "text/plain": [
       "array([  21.8 ,   45.82,  173.64,  166.8 ,   67.96,  120.19])"
      ]
     },
     "metadata": {},
     "output_type": "display_data"
    },
    {
     "data": {
      "text/plain": [
       "array([-805.58530755, -485.58530755,  922.41469245,  858.41469245,\n",
       "       -229.58530755,  282.41469245])"
      ]
     },
     "metadata": {},
     "output_type": "display_data"
    },
    {
     "name": "stdout",
     "output_type": "stream",
     "text": [
      "B: 19\n",
      "\n",
      "{{ scale_this: >>>>>>>>>>>>>>>>>>>>>>>>>>>>>>>>>>>>>>>>> Scaling X_train and X_test... }}\n",
      "\n"
     ]
    },
    {
     "data": {
      "text/plain": [
       "array([ 2210.97,  1732.64,  2201.04,  2184.34,  1721.38,  2024.25,\n",
       "        3153.06,  2752.13,  3167.66,  3040.59,  2461.26,  3444.3 ,\n",
       "        1332.03,  1620.72,  1895.33,  2396.68,  2472.15,  1423.13,  2308.37])"
      ]
     },
     "metadata": {},
     "output_type": "display_data"
    },
    {
     "data": {
      "text/plain": [
       "array([ 2174.41469245,  2238.41469245,  2238.41469245,  2238.41469245,\n",
       "        2238.41469245,  2238.41469245,  2238.41469245,  2238.41469245,\n",
       "        2174.41469245,  2238.41469245,  2238.41469245,  2238.41469245,\n",
       "        2238.41469245,  2238.41469245,  2174.41469245,  2174.41469245,\n",
       "        2238.41469245,  2174.41469245,  2238.41469245])"
      ]
     },
     "metadata": {},
     "output_type": "display_data"
    },
    {
     "name": "stdout",
     "output_type": "stream",
     "text": [
      "C: 19\n",
      "\n",
      "{{ scale_this: >>>>>>>>>>>>>>>>>>>>>>>>>>>>>>>>>>>>>>>>> Scaling X_train and X_test... }}\n",
      "\n"
     ]
    },
    {
     "data": {
      "text/plain": [
       "array([ 2083.07,   996.42,   298.03,  1688.15,  2674.81,  2270.37,\n",
       "        1688.66,  1870.14,  1868.49,   695.76,  3621.04,  2828.23,\n",
       "         299.12,   693.29,  1358.2 ,  1083.5 ,  2659.86,  1073.56,   697.69])"
      ]
     },
     "metadata": {},
     "output_type": "display_data"
    },
    {
     "data": {
      "text/plain": [
       "array([ 2564.41469245,  1284.41469245,   260.41469245,  2308.41469245,\n",
       "        3076.41469245,  2564.41469245,  1796.41469245,  2052.41469245,\n",
       "        2308.41469245,   772.41469245,  3588.41469245,  3588.41469245,\n",
       "         260.41469245,   772.41469245,  1796.41469245,  1284.41469245,\n",
       "        3076.41469245,  1284.41469245,   772.41469245])"
      ]
     },
     "metadata": {},
     "output_type": "display_data"
    },
    {
     "name": "stdout",
     "output_type": "stream",
     "text": [
      "D: 19\n",
      "\n",
      "{{ scale_this: >>>>>>>>>>>>>>>>>>>>>>>>>>>>>>>>>>>>>>>>> Scaling X_train and X_test... }}\n",
      "\n"
     ]
    },
    {
     "data": {
      "text/plain": [
       "array([ 2239.73,  1333.42,  2241.22,  1141.32,   810.75,  1135.84,\n",
       "         738.16,   216.58,   823.05,  2230.04,  1780.16,   198.71,\n",
       "         801.4 ,  2436.08,  1623.84,   504.45,   503.45,  2470.53,  1462.69])"
      ]
     },
     "metadata": {},
     "output_type": "display_data"
    },
    {
     "data": {
      "text/plain": [
       "array([ 2356.41469245,  1460.41469245,  2356.41469245,  1204.41469245,\n",
       "        1012.41469245,  1268.41469245,   948.41469245,   436.41469245,\n",
       "         948.41469245,  2420.41469245,  1844.41469245,   372.41469245,\n",
       "         948.41469245,  2420.41469245,  1780.41469245,   692.41469245,\n",
       "         628.41469245,  2356.41469245,  1524.41469245])"
      ]
     },
     "metadata": {},
     "output_type": "display_data"
    },
    {
     "name": "stdout",
     "output_type": "stream",
     "text": [
      "\n",
      "\n",
      " scorer is called: 5 times \n",
      "\n",
      "\n",
      "【【】】adding new model for datasetIPPD.pickle \n",
      "\n",
      "【【【】】】newScore: 44719592059587616.000000 \n",
      "____________________________________________________________________________________________________\n"
     ]
    }
   ],
   "source": [
    "t_ridge = wrapper([RidgeCVModel])"
   ]
  },
  {
   "cell_type": "code",
   "execution_count": 74,
   "metadata": {
    "collapsed": false
   },
   "outputs": [
    {
     "name": "stdout",
     "output_type": "stream",
     "text": [
      "________________________________________________________________________________\n",
      "Model: Ridge(alpha=1e-35, copy_X=True, fit_intercept=True, max_iter=None,\n",
      "   normalize=False, random_state=None, solver='auto', tol=1e-06)\n",
      "Train RMSE: 44719592059587616.000000 \n",
      "\n",
      "A...TestA RMSE   : 594.530982\n",
      "A...<<y_test_A Mean>>: 99.368333 \n",
      "\n",
      "B...TestB RMSE   : 596.626556\n",
      "B...<<y_test_B Mean>>: 2291.685789 \n",
      "\n",
      "C...TestC RMSE   : 343.007933\n",
      "C...<<y_test_C Mean>>: 1602.546842 \n",
      "\n",
      "D...TestD RMSE   : 144.766066\n",
      "D...<<y_test_D Mean>>: 1299.548421\n",
      "________________________________________________________________________________\n"
     ]
    }
   ],
   "source": [
    "t_print = t_ridge\n",
    "\n",
    "for key in t_print.keys():\n",
    "    print(80*'_')\n",
    "    \n",
    "    lasso_model = t_print[key]['model']\n",
    "    print('Model: %s' % (str(t_print[key]['model'])[:200]))\n",
    "    print('Train RMSE: %f \\n' % (t_print[key]['train_rmse_cv_picking']))\n",
    "    \n",
    "    #print('Test RMSE   : %f' % (t_print[key]['test_rmse_reporting']))\n",
    "    #print('Overall Test Mean: %f \\n' % (t_print[key]['test_mean_y_comparing']))\n",
    "    \n",
    "    print('A...TestA RMSE   : %f' % (t_print[key]['test_rmse_reportingA']))\n",
    "    print('A...<<y_test_A Mean>>: %f \\n' % (t_print[key]['test_mean_y_comparingA']))\n",
    "    \n",
    "    print('B...TestB RMSE   : %f' % (t_print[key]['test_rmse_reportingB']))\n",
    "    print('B...<<y_test_B Mean>>: %f \\n' % (t_print[key]['test_mean_y_comparingB']))\n",
    "    \n",
    "    print('C...TestC RMSE   : %f' % (t_print[key]['test_rmse_reportingC']))\n",
    "    print('C...<<y_test_C Mean>>: %f \\n' % (t_print[key]['test_mean_y_comparingC']))\n",
    "    \n",
    "    print('D...TestD RMSE   : %f' % (t_print[key]['test_rmse_reportingD']))\n",
    "    print('D...<<y_test_D Mean>>: %f' % (t_print[key]['test_mean_y_comparingD']))\n",
    "    \n",
    "    print(80*'_')"
   ]
  },
  {
   "cell_type": "markdown",
   "metadata": {
    "collapsed": true
   },
   "source": [
    "#>>>>>>>>>>>\n"
   ]
  },
  {
   "cell_type": "markdown",
   "metadata": {},
   "source": [
    "# Ridge - Final Model\n"
   ]
  },
  {
   "cell_type": "code",
   "execution_count": 68,
   "metadata": {
    "collapsed": false
   },
   "outputs": [
    {
     "name": "stdout",
     "output_type": "stream",
     "text": [
      "<function RidgeCVModel at 0x7f563e1a1048>\n"
     ]
    }
   ],
   "source": [
    "# get the model\n",
    "for k in t_ridge.keys():\n",
    "    print(k)\n",
    "    mo = t_ridge[k]['model']\n",
    "\n",
    "# write the model to a file\n",
    "with open('4C4_ridge_tuned.pickle', 'wb') as handle:\n",
    "    pickle.dump(mo, handle, protocol=pickle.HIGHEST_PROTOCOL)"
   ]
  },
  {
   "cell_type": "markdown",
   "metadata": {},
   "source": [
    "<:>:<:>:<:>:<:>:<:>:<:>:<:>:<:>:<:>:<:>:<:>:<:>:<:>:<:>:<:><:>:<:>:<:>:<:>:<:>:<:>:<:>:<:>:<:>:<:>:<:>:<:>:<:>:<:>:<:>\n",
    "<:>:<:>:<:>:<:>:<:>:<:>:<:>:<:>:<:>:<:>:<:>:<:>:<:>:<:>:<:><:>:<:>:<:>:<:>:<:>:<:>:<:>:<:>:<:>:<:>:<:>:<:>:<:>:<:>:<:>\n",
    "<:>:<:>:<:>:<:>:<:>:<:>:<:>:<:>:<:>:<:>:<:>:<:>:<:>:<:>:<:><:>:<:>:<:>:<:>:<:>:<:>:<:>:<:>:<:>:<:>:<:>:<:>:<:>:<:>:<:>\n",
    "<:>:<:>:<:>:<:>:<:>:<:>:<:>:<:>:<:>:<:>:<:>:<:>:<:>:<:>:<:><:>:<:>:<:>:<:>:<:>:<:>:<:>:<:>:<:>:<:>:<:>:<:>:<:>:<:>:<:>\n"
   ]
  },
  {
   "cell_type": "markdown",
   "metadata": {},
   "source": [
    "# 6"
   ]
  },
  {
   "cell_type": "markdown",
   "metadata": {},
   "source": [
    "# Elastic Net"
   ]
  },
  {
   "cell_type": "code",
   "execution_count": 17,
   "metadata": {
    "collapsed": true
   },
   "outputs": [],
   "source": [
    "########################### Test ElasticNet with Scaling ###########################\n",
    "#\n",
    "# the L1 and L2 regularizers of linear models) assume that all features are \n",
    "# centered around 0 and have variance in the same order"
   ]
  },
  {
   "cell_type": "code",
   "execution_count": null,
   "metadata": {
    "collapsed": false,
    "scrolled": true
   },
   "outputs": [
    {
     "name": "stdout",
     "output_type": "stream",
     "text": [
      "\n",
      "\n",
      "{{ scale_this: >>>>>>>>>>>>>>>>>>>>>>>>>>>>>>>>>>>>>>>>> Scaling X_train and X_test... }}\n",
      "\n",
      "Dataset size read: train 258 and test 63 \n",
      "\n",
      "# Tuning hyper-parameters \n",
      "\n",
      "Starting grdsurch.fit(X_train, y_train)\n"
     ]
    }
   ],
   "source": [
    "t_elasticNet = wrapper([ElasticNetCVModel])"
   ]
  },
  {
   "cell_type": "code",
   "execution_count": null,
   "metadata": {
    "collapsed": false
   },
   "outputs": [],
   "source": [
    "t_print = t_elasticNet\n",
    "\n",
    "for key in t_print.keys():\n",
    "    print(80*'_')\n",
    "    \n",
    "    lasso_model = t_print[key]['model']\n",
    "    print('Model: %s' % (str(t_print[key]['model'])[:200]))\n",
    "    print('Train RMSE: %f \\n' % (t_print[key]['train_rmse_cv_picking']))\n",
    "    \n",
    "    #print('Test RMSE   : %f' % (t_print[key]['test_rmse_reporting']))\n",
    "    #print('Overall Test Mean: %f \\n' % (t_print[key]['test_mean_y_comparing']))\n",
    "    \n",
    "    print('A...TestA RMSE   : %f' % (t_print[key]['test_rmse_reportingA']))\n",
    "    print('A...<<y_test_A Mean>>: %f \\n' % (t_print[key]['test_mean_y_comparingA']))\n",
    "    \n",
    "    print('B...TestB RMSE   : %f' % (t_print[key]['test_rmse_reportingB']))\n",
    "    print('B...<<y_test_B Mean>>: %f \\n' % (t_print[key]['test_mean_y_comparingB']))\n",
    "    \n",
    "    print('C...TestC RMSE   : %f' % (t_print[key]['test_rmse_reportingC']))\n",
    "    print('C...<<y_test_C Mean>>: %f \\n' % (t_print[key]['test_mean_y_comparingC']))\n",
    "    \n",
    "    print('D...TestD RMSE   : %f' % (t_print[key]['test_rmse_reportingD']))\n",
    "    print('D...<<y_test_D Mean>>: %f' % (t_print[key]['test_mean_y_comparingD']))\n",
    "    \n",
    "    print(80*'_')"
   ]
  },
  {
   "cell_type": "code",
   "execution_count": 69,
   "metadata": {
    "collapsed": false
   },
   "outputs": [
    {
     "name": "stdout",
     "output_type": "stream",
     "text": [
      "<function ElasticNetCVModel at 0x7f563e1a10d0>\n"
     ]
    }
   ],
   "source": [
    "# get the model\n",
    "for k in t_elasticNet.keys():\n",
    "    print(k)\n",
    "    mo = t_elasticNet[k]['model']\n",
    "\n",
    "# write the model to a file\n",
    "with open('4C4_elasticNet_tuned.pickle', 'wb') as handle:\n",
    "    pickle.dump(mo, handle, protocol=pickle.HIGHEST_PROTOCOL)"
   ]
  },
  {
   "cell_type": "markdown",
   "metadata": {},
   "source": [
    "<:>:<:>:<:>:<:>:<:>:<:>:<:>:<:>:<:>:<:>:<:>:<:>:<:>:<:>:<:><:>:<:>:<:>:<:>:<:>:<:>:<:>:<:>:<:>:<:>:<:>:<:>:<:>:<:>:<:>\n",
    "<:>:<:>:<:>:<:>:<:>:<:>:<:>:<:>:<:>:<:>:<:>:<:>:<:>:<:>:<:><:>:<:>:<:>:<:>:<:>:<:>:<:>:<:>:<:>:<:>:<:>:<:>:<:>:<:>:<:>\n",
    "<:>:<:>:<:>:<:>:<:>:<:>:<:>:<:>:<:>:<:>:<:>:<:>:<:>:<:>:<:><:>:<:>:<:>:<:>:<:>:<:>:<:>:<:>:<:>:<:>:<:>:<:>:<:>:<:>:<:>\n",
    "<:>:<:>:<:>:<:>:<:>:<:>:<:>:<:>:<:>:<:>:<:>:<:>:<:>:<:>:<:><:>:<:>:<:>:<:>:<:>:<:>:<:>:<:>:<:>:<:>:<:>:<:>:<:>:<:>:<:>\n"
   ]
  },
  {
   "cell_type": "markdown",
   "metadata": {
    "collapsed": true
   },
   "source": [
    "# 7"
   ]
  },
  {
   "cell_type": "markdown",
   "metadata": {},
   "source": [
    "# SVR - d - rbf Kernel"
   ]
  },
  {
   "cell_type": "code",
   "execution_count": null,
   "metadata": {
    "collapsed": false
   },
   "outputs": [
    {
     "name": "stdout",
     "output_type": "stream",
     "text": [
      "\n",
      "Dataset size read: train 258 and test 63 \n",
      "\n",
      "# Tuning hyper-parameters \n",
      "\n",
      "Starting grdsurch.fit(X_train, y_train)\n"
     ]
    }
   ],
   "source": [
    "t_SVRRbfCVModel = wrapper([SVRRbfCVModel])"
   ]
  },
  {
   "cell_type": "code",
   "execution_count": null,
   "metadata": {
    "collapsed": false
   },
   "outputs": [],
   "source": [
    "t_print = t_SVRRbfCVModel\n",
    "\n",
    "for key in t_print.keys():\n",
    "    print(80*'_')\n",
    "    \n",
    "    print('Model: %s' % (str(t_print[key]['model'])[:20]))\n",
    "    print('Train RMSE: %f \\n' % (t_print[key]['train_rmse_cv_picking']))\n",
    "    \n",
    "    print('Test RMSE   : %f' % (t_print[key]['test_rmse_reporting']))\n",
    "    print('Overall Mean: %f \\n' % (t_print[key]['test_mean_y_comparing']))\n",
    "    \n",
    "    print('A...TestA RMSE   : %f' % (t_print[key]['test_rmse_reportingA']))\n",
    "    print('A...y_test_A Mean: %f \\n' % (t_print[key]['test_mean_y_comparingA']))\n",
    "    \n",
    "    print('B...TestB RMSE   : %f' % (t_print[key]['test_rmse_reportingB']))\n",
    "    print('B...y_test_B Mean: %f \\n' % (t_print[key]['test_mean_y_comparingB']))\n",
    "    \n",
    "    print('C...TestC RMSE   : %f' % (t_print[key]['test_rmse_reportingC']))\n",
    "    print('C...y_test_C Mean: %f \\n' % (t_print[key]['test_mean_y_comparingC']))\n",
    "    \n",
    "    print('D...TestD RMSE   : %f' % (t_print[key]['test_rmse_reportingD']))\n",
    "    print('D...y_test_D Mean: %f' % (t_print[key]['test_mean_y_comparingD']))\n",
    "    \n",
    "    print(80*'_')"
   ]
  },
  {
   "cell_type": "markdown",
   "metadata": {},
   "source": [
    "# SVR - rbf Kernel - Final Model"
   ]
  },
  {
   "cell_type": "markdown",
   "metadata": {
    "collapsed": true
   },
   "source": [
    "#>>>>>>>>>>>\n"
   ]
  },
  {
   "cell_type": "markdown",
   "metadata": {
    "collapsed": true
   },
   "source": [
    "# 8 "
   ]
  },
  {
   "cell_type": "markdown",
   "metadata": {},
   "source": [
    "# SVR - b - Sigmoid Kernel"
   ]
  },
  {
   "cell_type": "code",
   "execution_count": 44,
   "metadata": {
    "collapsed": false
   },
   "outputs": [
    {
     "name": "stdout",
     "output_type": "stream",
     "text": [
      "\n",
      "Dataset size read: train 256 and test 65 \n",
      "\n",
      "# Tuning hyper-parameters \n",
      "\n",
      "Starting grdsurch.fit(X_train, y_train)\n",
      "\n",
      "Best parameters set found on development set:\n",
      "\n",
      "{'C': 1.0000000000000001e-05, 'gamma': 1.0000000000000001e-15}\n",
      "SVR(C=1.0000000000000001e-05, cache_size=20480, coef0=0.0, degree=3,\n",
      "  epsilon=0.1, gamma=1.0000000000000001e-15, kernel='sigmoid', max_iter=-1,\n",
      "  shrinking=False, tol=1e-07, verbose=False)\n",
      "\n",
      "【【】】adding new model for datasetIPPD.pickle \n",
      "\n",
      "【【【】】】newScore: 1032.957231 \n",
      "____________________________________________________________________________________________________\n"
     ]
    }
   ],
   "source": [
    "t_SVRSigmoidCVModel = wrapper([SVRSigmoidCVModel])"
   ]
  },
  {
   "cell_type": "code",
   "execution_count": 61,
   "metadata": {
    "collapsed": false
   },
   "outputs": [
    {
     "name": "stdout",
     "output_type": "stream",
     "text": [
      "\n"
     ]
    }
   ],
   "source": [
    "print()"
   ]
  },
  {
   "cell_type": "code",
   "execution_count": 62,
   "metadata": {
    "collapsed": false
   },
   "outputs": [
    {
     "name": "stdout",
     "output_type": "stream",
     "text": [
      "<function SVRSigmoidCVModel at 0x7f563e1a11e0>\n",
      "SVR(C=1.0000000000000001e-05, cache_size=20480, coef0=0.0, degree=3,\n",
      "  epsilon=0.1, gamma=1.0000000000000001e-15, kernel='sigmoid', max_iter=-1,\n",
      "  shrinking=False, tol=1e-07, verbose=False) \n",
      "\n",
      "\n",
      " 1032.95723148 882.068031346 1532.34615385\n",
      "____________________________________________________________________________________________________\n"
     ]
    }
   ],
   "source": [
    "t = t_SVRSigmoidCVModel\n",
    "\n",
    "for key in t.keys():\n",
    "    print(key)\n",
    "    t_mo= t[key]['model']\n",
    "    print(\n",
    "          t[key]['model'],'\\n\\n\\n',\n",
    "          t[key]['train_rmse_cv_picking'],\n",
    "          t[key]['test_rmse_reporting'],\n",
    "          t[key]['test_mean_y_comparing']\n",
    "         )\n",
    "    print(100*'_')"
   ]
  },
  {
   "cell_type": "markdown",
   "metadata": {},
   "source": [
    "# SVR - Sigmoid Kernel - Final Model"
   ]
  },
  {
   "cell_type": "markdown",
   "metadata": {
    "collapsed": true
   },
   "source": [
    "#>>>>>>>>>>>\n"
   ]
  },
  {
   "cell_type": "markdown",
   "metadata": {},
   "source": [
    "# Which features were given most weights by each model ?"
   ]
  },
  {
   "cell_type": "code",
   "execution_count": null,
   "metadata": {
    "collapsed": true
   },
   "outputs": [],
   "source": []
  }
 ],
 "metadata": {
  "kernelspec": {
   "display_name": "Python 3",
   "language": "python",
   "name": "python3"
  },
  "language_info": {
   "codemirror_mode": {
    "name": "ipython",
    "version": 3
   },
   "file_extension": ".py",
   "mimetype": "text/x-python",
   "name": "python",
   "nbconvert_exporter": "python",
   "pygments_lexer": "ipython3",
   "version": "3.6.0"
  }
 },
 "nbformat": 4,
 "nbformat_minor": 2
}
