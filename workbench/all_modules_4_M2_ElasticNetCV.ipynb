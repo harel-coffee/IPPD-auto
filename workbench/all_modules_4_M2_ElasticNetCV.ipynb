{
 "cells": [
  {
   "cell_type": "code",
   "execution_count": 1,
   "metadata": {
    "collapsed": false
   },
   "outputs": [],
   "source": [
    "# Read Back\n",
    "import pickle\n",
    "\n",
    "with open('datasetIPPD.pickle', 'rb') as handle:\n",
    "    data = pickle.load(handle)"
   ]
  },
  {
   "cell_type": "code",
   "execution_count": 2,
   "metadata": {
    "collapsed": false
   },
   "outputs": [
    {
     "data": {
      "text/plain": [
       "dict_keys(['X_train', 'y_train', 'X_test', 'y_test'])"
      ]
     },
     "execution_count": 2,
     "metadata": {},
     "output_type": "execute_result"
    }
   ],
   "source": [
    "data.keys()"
   ]
  },
  {
   "cell_type": "code",
   "execution_count": 3,
   "metadata": {
    "collapsed": false
   },
   "outputs": [
    {
     "data": {
      "text/plain": [
       "(256, 65)"
      ]
     },
     "execution_count": 3,
     "metadata": {},
     "output_type": "execute_result"
    }
   ],
   "source": [
    "X_train = data['X_train']\n",
    "y_train = data['y_train']\n",
    "\n",
    "X_test = data['X_test']\n",
    "y_test = data['y_test']\n",
    "\n",
    "len(y_train), len(y_test)"
   ]
  },
  {
   "cell_type": "markdown",
   "metadata": {
    "collapsed": true
   },
   "source": [
    "<h1> Model 2 : ElasticNetCV </h1>"
   ]
  },
  {
   "cell_type": "code",
   "execution_count": 4,
   "metadata": {
    "collapsed": false
   },
   "outputs": [
    {
     "name": "stdout",
     "output_type": "stream",
     "text": [
      "Automatically created module for IPython interactive environment\n"
     ]
    }
   ],
   "source": [
    "from __future__ import print_function\n",
    "print(__doc__)\n",
    "\n",
    "import numpy as np\n",
    "from sklearn.linear_model import ElasticNetCV\n",
    "\n",
    "alphas = np.logspace(-4, -0.5, 30)"
   ]
  },
  {
   "cell_type": "code",
   "execution_count": 5,
   "metadata": {
    "collapsed": false
   },
   "outputs": [
    {
     "data": {
      "text/plain": [
       "array([  1.00000000e-04,   1.32035178e-04,   1.74332882e-04,\n",
       "         2.30180731e-04,   3.03919538e-04,   4.01280703e-04,\n",
       "         5.29831691e-04,   6.99564216e-04,   9.23670857e-04,\n",
       "         1.21957046e-03,   1.61026203e-03,   2.12611233e-03,\n",
       "         2.80721620e-03,   3.70651291e-03,   4.89390092e-03,\n",
       "         6.46167079e-03,   8.53167852e-03,   1.12648169e-02,\n",
       "         1.48735211e-02,   1.96382800e-02,   2.59294380e-02,\n",
       "         3.42359796e-02,   4.52035366e-02,   5.96845700e-02,\n",
       "         7.88046282e-02,   1.04049831e-01,   1.37382380e-01,\n",
       "         1.81393069e-01,   2.39502662e-01,   3.16227766e-01])"
      ]
     },
     "execution_count": 5,
     "metadata": {},
     "output_type": "execute_result"
    }
   ],
   "source": [
    "alphas"
   ]
  },
  {
   "cell_type": "markdown",
   "metadata": {
    "collapsed": true
   },
   "source": [
    "#M1\n",
    "lasso_cv = LassoCV(alphas=alphas, random_state=0, eps=0.001, n_alphas=1000, fit_intercept=True, \n",
    "                   normalize=False, precompute='auto', max_iter=100000000, \n",
    "                   tol=0.0001, copy_X=True, cv=None, verbose=False, n_jobs=-1, \n",
    "                   positive=False, selection='cyclic')"
   ]
  },
  {
   "cell_type": "code",
   "execution_count": 13,
   "metadata": {
    "collapsed": true
   },
   "outputs": [],
   "source": [
    "ratio = [.1, .5, .7, .9, .95, .99, 1]"
   ]
  },
  {
   "cell_type": "code",
   "execution_count": 15,
   "metadata": {
    "collapsed": true
   },
   "outputs": [],
   "source": [
    "#M2\n",
    "model = ElasticNetCV(alphas=alphas, random_state=0, l1_ratio=ratio, eps=0.001, n_alphas=100, fit_intercept=True, \n",
    "                     normalize=False, precompute='auto', max_iter=100000000, \n",
    "                     tol=0.0001, cv=None, copy_X=True, verbose=0, n_jobs=-1, \n",
    "                     positive=False, selection='cyclic')"
   ]
  },
  {
   "cell_type": "code",
   "execution_count": null,
   "metadata": {
    "collapsed": false
   },
   "outputs": [
    {
     "name": "stderr",
     "output_type": "stream",
     "text": [
      "/data/home/a1singh/anaconda3/lib/python3.6/site-packages/sklearn/linear_model/coordinate_descent.py:484: ConvergenceWarning: Objective did not converge. You might want to increase the number of iterations. Fitting data with very small alpha may cause precision problems.\n",
      "  ConvergenceWarning)\n"
     ]
    }
   ],
   "source": [
    "model.fit(X_train, y_train)\n",
    "\n",
    "print(\"[alpha: {0:.5f}, score: {1:.5f}\".\n",
    "          format(model.alpha_, model.score(X_test, y_test)))"
   ]
  },
  {
   "cell_type": "code",
   "execution_count": null,
   "metadata": {
    "collapsed": true
   },
   "outputs": [],
   "source": [
    "from sklearn.metrics import mean_squared_error\n",
    "y_predict = model.predict(X_train)\n",
    "rmse_model = np.sqrt(mean_squared_error(y_train, y_predict))\n",
    "print(\"(used for picking best model) Training Error after CV : %f\" % rmse_model)"
   ]
  },
  {
   "cell_type": "code",
   "execution_count": null,
   "metadata": {
    "collapsed": true
   },
   "outputs": [],
   "source": [
    "y_predict = model.predict(X_test) #Reduce X to the selected features and then predict using the underlying estimator.\n",
    "rmse_model = np.sqrt(mean_squared_error(y_test, y_predict))\n",
    "print(\"(for reporting only) Test Error once optimal model is picked by CV : %f\" % rmse_model)"
   ]
  },
  {
   "cell_type": "code",
   "execution_count": null,
   "metadata": {
    "collapsed": false
   },
   "outputs": [],
   "source": [
    "from sklearn.metrics import mean_squared_error\n",
    "\n",
    "y_predict = model.predict(X_test) #Reduce X to the selected features and then predict using the underlying estimator.\n",
    "rmse_model = np.sqrt(mean_squared_error(y_test, y_predict))\n",
    "rmse_model"
   ]
  },
  {
   "cell_type": "code",
   "execution_count": null,
   "metadata": {
    "collapsed": true
   },
   "outputs": [],
   "source": []
  }
 ],
 "metadata": {
  "anaconda-cloud": {},
  "kernelspec": {
   "display_name": "Python 3",
   "language": "python",
   "name": "python3"
  },
  "language_info": {
   "codemirror_mode": {
    "name": "ipython",
    "version": 3
   },
   "file_extension": ".py",
   "mimetype": "text/x-python",
   "name": "python",
   "nbconvert_exporter": "python",
   "pygments_lexer": "ipython3",
   "version": "3.6.0"
  }
 },
 "nbformat": 4,
 "nbformat_minor": 0
}
