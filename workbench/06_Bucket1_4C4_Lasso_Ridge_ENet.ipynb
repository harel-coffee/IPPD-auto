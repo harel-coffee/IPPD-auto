{
 "cells": [
  {
   "cell_type": "code",
   "execution_count": 1,
   "metadata": {
    "collapsed": false
   },
   "outputs": [
    {
     "name": "stdout",
     "output_type": "stream",
     "text": [
      "\n"
     ]
    }
   ],
   "source": [
    "# import all the filenames\n",
    "from allfunctions import *"
   ]
  },
  {
   "cell_type": "code",
   "execution_count": 2,
   "metadata": {
    "collapsed": false
   },
   "outputs": [],
   "source": [
    "%load_ext autoreload\n",
    "%autoreload 2"
   ]
  },
  {
   "cell_type": "markdown",
   "metadata": {},
   "source": [
    "1  def LassoCVModel(filename):\n",
    "\n",
    "3  def RidgeCVModel(filename):\n",
    "\n",
    "4  def ElasticNetCVModel(filename):"
   ]
  },
  {
   "cell_type": "code",
   "execution_count": 3,
   "metadata": {
    "collapsed": false
   },
   "outputs": [],
   "source": [
    "def wrapper(functionList = [], filenames = [ 'datasetIPPD.pickle' ]):\n",
    "    if __name__ == '__main__':\n",
    "        global model_selection\n",
    "        \n",
    "        global c\n",
    "        initialize_c()\n",
    "                \n",
    "        model_selection = {}\n",
    "        \n",
    "        for f in functionList:\n",
    "            print()\n",
    "            for filename in filenames:\n",
    "                out = f(filename)\n",
    "                newScore = out[filename]['train_rmse_cv_picking']\n",
    "\n",
    "                if f in model_selection:\n",
    "                    #compare scores and select more accurate model\n",
    "                    oldScore = model_selection[f]['train_rmse_cv_picking']\n",
    "                    if(newScore < oldScore):\n",
    "                        print(\"【【【】】】switching models for %s...\" % filename)\n",
    "                        print(\"【【【】】】newScore: %f < oldScore: %f\" % (newScore, oldScore))\n",
    "                        print(\"【【【】】】newModel: %s \\n\" % f)\n",
    "                        print(100*'_')\n",
    "                        model_selection[f] = out[filename]\n",
    "                else:\n",
    "                    #no score to compare\n",
    "                    print(\"【【】】adding new model for %s \\n\" % filename)\n",
    "                    print(\"【【【】】】newScore: %f \" % (newScore))\n",
    "                    print(100*'_')\n",
    "                    model_selection[f] = out[filename]\n",
    "    return model_selection"
   ]
  },
  {
   "cell_type": "markdown",
   "metadata": {},
   "source": [
    "<:>:<:>:<:>:<:>:<:>:<:>:<:>:<:>:<:>:<:>:<:>:<:>:<:>:<:>:<:><:>:<:>:<:>:<:>:<:>:<:>:<:>:<:>:<:>:<:>:<:>:<:>:<:>:<:>:<:>\n",
    "<:>:<:>:<:>:<:>:<:>:<:>:<:>:<:>:<:>:<:>:<:>:<:>:<:>:<:>:<:><:>:<:>:<:>:<:>:<:>:<:>:<:>:<:>:<:>:<:>:<:>:<:>:<:>:<:>:<:>\n",
    "<:>:<:>:<:>:<:>:<:>:<:>:<:>:<:>:<:>:<:>:<:>:<:>:<:>:<:>:<:><:>:<:>:<:>:<:>:<:>:<:>:<:>:<:>:<:>:<:>:<:>:<:>:<:>:<:>:<:>\n",
    "<:>:<:>:<:>:<:>:<:>:<:>:<:>:<:>:<:>:<:>:<:>:<:>:<:>:<:>:<:><:>:<:>:<:>:<:>:<:>:<:>:<:>:<:>:<:>:\n"
   ]
  },
  {
   "cell_type": "markdown",
   "metadata": {},
   "source": [
    "# 1"
   ]
  },
  {
   "cell_type": "markdown",
   "metadata": {},
   "source": [
    "# LassoCVModel"
   ]
  },
  {
   "cell_type": "code",
   "execution_count": 4,
   "metadata": {
    "collapsed": false,
    "scrolled": true
   },
   "outputs": [],
   "source": [
    "########################### Test Lasso with Scaling ###########################\n",
    "# the L1 and L2 regularizers of linear models) assume that all features are \n",
    "# centered around 0 and have variance in the same order"
   ]
  },
  {
   "cell_type": "code",
   "execution_count": 5,
   "metadata": {
    "collapsed": false
   },
   "outputs": [
    {
     "name": "stdout",
     "output_type": "stream",
     "text": [
      "\n",
      "\n",
      "{{ scale_this: >>>>>>>>>>>>>>>>>>>>>>>>>>>>>>>>>>>>>>>>> Scaling X_train and X_test... }}\n",
      "\n",
      "Dataset size read: train 258 and test 63 \n",
      "\n",
      "# Tuning hyper-parameters \n",
      "[{'alpha': array([  1.00000000e-04,   1.93069773e-04,   3.72759372e-04,\n",
      "         7.19685673e-04,   1.38949549e-03,   2.68269580e-03,\n",
      "         5.17947468e-03,   1.00000000e-02,   1.93069773e-02,\n",
      "         3.72759372e-02,   7.19685673e-02,   1.38949549e-01,\n",
      "         2.68269580e-01,   5.17947468e-01,   1.00000000e+00,\n",
      "         1.93069773e+00,   3.72759372e+00,   7.19685673e+00,\n",
      "         1.38949549e+01,   2.68269580e+01,   5.17947468e+01,\n",
      "         1.00000000e+02,   1.93069773e+02,   3.72759372e+02,\n",
      "         7.19685673e+02,   1.38949549e+03,   2.68269580e+03,\n",
      "         5.17947468e+03,   1.00000000e+04,   1.93069773e+04,\n",
      "         3.72759372e+04,   7.19685673e+04,   1.38949549e+05,\n",
      "         2.68269580e+05,   5.17947468e+05,   1.00000000e+06,\n",
      "         1.93069773e+06,   3.72759372e+06,   7.19685673e+06,\n",
      "         1.38949549e+07,   2.68269580e+07,   5.17947468e+07,\n",
      "         1.00000000e+08,   1.93069773e+08,   3.72759372e+08,\n",
      "         7.19685673e+08,   1.38949549e+09,   2.68269580e+09,\n",
      "         5.17947468e+09,   1.00000000e+10]), 'precompute': [True, False]}]\n",
      "##########################\n",
      "Starting grdsurch.fit(X_train, y_train)\n",
      "\n",
      "Best parameters set found on development set:\n",
      "\n",
      "{'alpha': 0.037275937203149381, 'precompute': False}\n",
      "Lasso(alpha=0.037275937203149381, copy_X=True, fit_intercept=True,\n",
      "   max_iter=10000000.0, normalize=False, positive=False, precompute=False,\n",
      "   random_state=None, selection='random', tol=1e-06, warm_start=False)\n",
      "\n",
      "Full Test Set: 63\n"
     ]
    },
    {
     "data": {
      "text/plain": [
       "array([  203.98,   164.88,    45.97,   120.19,   142.07,    97.83,\n",
       "        1732.64,  2306.07,  3444.3 ,  2397.91,  2607.84,  1331.2 ,\n",
       "        2000.17,  3152.83,  2486.13,  3034.04,  1723.63,  2754.95,\n",
       "        2762.97,  1445.01,  3040.59,  1323.62,  2940.97,  1423.13,\n",
       "        2657.91,  1365.13,  2274.86,  2089.36,   998.65,  2083.07,\n",
       "         297.21,   299.12,  1688.15,   323.21,  1364.75,  2271.12,\n",
       "         644.52,  1724.47,  1868.49,  2659.86,  2684.27,  1472.6 ,\n",
       "        1881.93,   300.32,  2470.53,   801.4 ,  1459.44,   504.92,\n",
       "        1627.26,  1802.26,   214.64,   747.33,  1135.84,  1146.09,\n",
       "         504.63,   198.28,  1628.58,  1808.07,  1031.47,  2262.51,\n",
       "        2106.02,   503.45,   216.58])"
      ]
     },
     "metadata": {},
     "output_type": "display_data"
    },
    {
     "data": {
      "text/plain": [
       "array([ 1011.90051607,   748.07987423,  -476.97694657,   241.05291512,\n",
       "         484.2592324 ,    39.07524697,  2409.33442779,  2389.19511556,\n",
       "        2410.72977653,  2348.20397261,  2368.81829717,  2388.47674058,\n",
       "        2368.34328484,  2410.49227036,  2410.04694629,  2389.8779458 ,\n",
       "        2409.33442779,  2348.44147878,  2389.6701279 ,  2409.09106514,\n",
       "        2389.8779458 ,  2347.24809146,  2348.64929668,  2367.86241602,\n",
       "        2348.44147878,  1496.25668035,  2286.67721149,  2266.06288693,\n",
       "        1101.04641477,  2286.67721149,   299.13179597,   257.90314685,\n",
       "        1891.46694592,   319.74612053,  1434.41370667,  2245.44856237,\n",
       "         691.30198258,  1829.62397224,  1891.46694592,  2589.64371372,\n",
       "        2651.4866874 ,  1455.02803123,  1850.2382968 ,   257.90314685,\n",
       "        2113.62538998,   897.5938036 ,  1384.00643815,   685.9971356 ,\n",
       "        1668.44140455,  1668.44140455,   405.48102099,   938.82245272,\n",
       "        1161.41444544,  1140.80012088,   644.76848648,   426.09534555,\n",
       "        1647.82707999,  1647.82707999,  1182.02877   ,  2093.01106542,\n",
       "        1891.03339726,   624.15416192,   446.70967011])"
      ]
     },
     "metadata": {},
     "output_type": "display_data"
    },
    {
     "name": "stdout",
     "output_type": "stream",
     "text": [
      "A: 6\n",
      "\n",
      "{{ scale_this: >>>>>>>>>>>>>>>>>>>>>>>>>>>>>>>>>>>>>>>>> Scaling X_train and X_test... }}\n",
      "\n"
     ]
    },
    {
     "data": {
      "text/plain": [
       "array([ 203.98,  164.88,   45.97,  120.19,  142.07,   97.83])"
      ]
     },
     "metadata": {},
     "output_type": "display_data"
    },
    {
     "data": {
      "text/plain": [
       "array([ 1011.90051607,   748.07987423,  -476.97694657,   241.05291512,\n",
       "         484.2592324 ,    39.07524697])"
      ]
     },
     "metadata": {},
     "output_type": "display_data"
    },
    {
     "name": "stdout",
     "output_type": "stream",
     "text": [
      "B: 19\n",
      "\n",
      "{{ scale_this: >>>>>>>>>>>>>>>>>>>>>>>>>>>>>>>>>>>>>>>>> Scaling X_train and X_test... }}\n",
      "\n"
     ]
    },
    {
     "data": {
      "text/plain": [
       "array([ 1732.64,  2306.07,  3444.3 ,  2397.91,  2607.84,  1331.2 ,\n",
       "        2000.17,  3152.83,  2486.13,  3034.04,  1723.63,  2754.95,\n",
       "        2762.97,  1445.01,  3040.59,  1323.62,  2940.97,  1423.13,  2657.91])"
      ]
     },
     "metadata": {},
     "output_type": "display_data"
    },
    {
     "data": {
      "text/plain": [
       "array([ 2409.33442779,  2389.19511556,  2410.72977653,  2348.20397261,\n",
       "        2368.81829717,  2388.47674058,  2368.34328484,  2410.49227036,\n",
       "        2410.04694629,  2389.8779458 ,  2409.33442779,  2348.44147878,\n",
       "        2389.6701279 ,  2409.09106514,  2389.8779458 ,  2347.24809146,\n",
       "        2348.64929668,  2367.86241602,  2348.44147878])"
      ]
     },
     "metadata": {},
     "output_type": "display_data"
    },
    {
     "name": "stdout",
     "output_type": "stream",
     "text": [
      "C: 19\n",
      "\n",
      "{{ scale_this: >>>>>>>>>>>>>>>>>>>>>>>>>>>>>>>>>>>>>>>>> Scaling X_train and X_test... }}\n",
      "\n"
     ]
    },
    {
     "data": {
      "text/plain": [
       "array([ 1365.13,  2274.86,  2089.36,   998.65,  2083.07,   297.21,\n",
       "         299.12,  1688.15,   323.21,  1364.75,  2271.12,   644.52,\n",
       "        1724.47,  1868.49,  2659.86,  2684.27,  1472.6 ,  1881.93,   300.32])"
      ]
     },
     "metadata": {},
     "output_type": "display_data"
    },
    {
     "data": {
      "text/plain": [
       "array([ 1496.25668035,  2286.67721149,  2266.06288693,  1101.04641477,\n",
       "        2286.67721149,   299.13179597,   257.90314685,  1891.46694592,\n",
       "         319.74612053,  1434.41370667,  2245.44856237,   691.30198258,\n",
       "        1829.62397224,  1891.46694592,  2589.64371372,  2651.4866874 ,\n",
       "        1455.02803123,  1850.2382968 ,   257.90314685])"
      ]
     },
     "metadata": {},
     "output_type": "display_data"
    },
    {
     "name": "stdout",
     "output_type": "stream",
     "text": [
      "D: 19\n",
      "\n",
      "{{ scale_this: >>>>>>>>>>>>>>>>>>>>>>>>>>>>>>>>>>>>>>>>> Scaling X_train and X_test... }}\n",
      "\n"
     ]
    },
    {
     "data": {
      "text/plain": [
       "array([ 2470.53,   801.4 ,  1459.44,   504.92,  1627.26,  1802.26,\n",
       "         214.64,   747.33,  1135.84,  1146.09,   504.63,   198.28,\n",
       "        1628.58,  1808.07,  1031.47,  2262.51,  2106.02,   503.45,   216.58])"
      ]
     },
     "metadata": {},
     "output_type": "display_data"
    },
    {
     "data": {
      "text/plain": [
       "array([ 2113.62538998,   897.5938036 ,  1384.00643815,   685.9971356 ,\n",
       "        1668.44140455,  1668.44140455,   405.48102099,   938.82245272,\n",
       "        1161.41444544,  1140.80012088,   644.76848648,   426.09534555,\n",
       "        1647.82707999,  1647.82707999,  1182.02877   ,  2093.01106542,\n",
       "        1891.03339726,   624.15416192,   446.70967011])"
      ]
     },
     "metadata": {},
     "output_type": "display_data"
    },
    {
     "name": "stdout",
     "output_type": "stream",
     "text": [
      "【【】】adding new model for datasetIPPD.pickle \n",
      "\n",
      "【【【】】】newScore: 1431.479269 \n",
      "____________________________________________________________________________________________________\n"
     ]
    }
   ],
   "source": [
    "t_lasso = wrapper([LassoCVModel])"
   ]
  },
  {
   "cell_type": "code",
   "execution_count": 20,
   "metadata": {
    "collapsed": false
   },
   "outputs": [
    {
     "name": "stdout",
     "output_type": "stream",
     "text": [
      "________________________________________________________________________________\n",
      "Model: Lasso(alpha=0.037275\n",
      "Train RMSE: 1431.479269 \n",
      "\n",
      "A...TestA RMSE   : 483.301941\n",
      "A...<<y_test_A Mean>>: 129.153333 \n",
      "\n",
      "B...TestB RMSE   : 662.232999\n",
      "B...<<y_test_B Mean>>: 2345.574211 \n",
      "\n",
      "C...TestC RMSE   : 95.132676\n",
      "C...<<y_test_C Mean>>: 1489.004737 \n",
      "\n",
      "D...TestD RMSE   : 167.209515\n",
      "D...<<y_test_D Mean>>: 1166.805263\n",
      "________________________________________________________________________________\n"
     ]
    }
   ],
   "source": [
    "t_print = t_lasso\n",
    "\n",
    "for key in t_print.keys():\n",
    "    print(80*'_')\n",
    "    \n",
    "    print('Model: %s' % (str(t_print[key]['model'])[:20]))\n",
    "    print('Train RMSE: %f \\n' % (t_print[key]['train_rmse_cv_picking']))\n",
    "    \n",
    "    #print('Test RMSE   : %f' % (t_print[key]['test_rmse_reporting']))\n",
    "    #print('Overall Test Mean: %f \\n' % (t_print[key]['test_mean_y_comparing']))\n",
    "    \n",
    "    print('A...TestA RMSE   : %f' % (t_print[key]['test_rmse_reportingA']))\n",
    "    print('A...<<y_test_A Mean>>: %f \\n' % (t_print[key]['test_mean_y_comparingA']))\n",
    "    \n",
    "    print('B...TestB RMSE   : %f' % (t_print[key]['test_rmse_reportingB']))\n",
    "    print('B...<<y_test_B Mean>>: %f \\n' % (t_print[key]['test_mean_y_comparingB']))\n",
    "    \n",
    "    print('C...TestC RMSE   : %f' % (t_print[key]['test_rmse_reportingC']))\n",
    "    print('C...<<y_test_C Mean>>: %f \\n' % (t_print[key]['test_mean_y_comparingC']))\n",
    "    \n",
    "    print('D...TestD RMSE   : %f' % (t_print[key]['test_rmse_reportingD']))\n",
    "    print('D...<<y_test_D Mean>>: %f' % (t_print[key]['test_mean_y_comparingD']))\n",
    "    \n",
    "    print(80*'_')"
   ]
  },
  {
   "cell_type": "markdown",
   "metadata": {
    "collapsed": true
   },
   "source": [
    "#>>>>>>>>>>>\n"
   ]
  },
  {
   "cell_type": "markdown",
   "metadata": {},
   "source": [
    "<:>:<:>:<:>:<:>:<:>:<:>:<:>:<:>:<:>:<:>:<:>:<:>:<:>:<:>:<:><:>:<:>:<:>:<:>:<:>:<:>:<:>:<:>:<:>:<:>:<:>:<:>:<:>:<:>:<:>\n",
    "<:>:<:>:<:>:<:>:<:>:<:>:<:>:<:>:<:>:<:>:<:>:<:>:<:>:<:>:<:><:>:<:>:<:>:<:>:<:>:<:>:<:>:<:>:<:>:<:>:<:>:<:>:<:>:<:>:<:>\n",
    "<:>:<:>:<:>:<:>:<:>:<:>:<:>:<:>:<:>:<:>:<:>:<:>:<:>:<:>:<:><:>:<:>:<:>:<:>:<:>:<:>:<:>:<:>:<:>:<:>:<:>:<:>:<:>:<:>:<:>\n",
    "<:>:<:>:<:>:<:>:<:>:<:>:<:>:<:>:<:>:<:>:<:>:<:>:<:>:<:>:<:><:>:<:>:<:>:<:>:<:>:<:>:<:>:<:>:<:>:<:>:<:>:<:>:<:>:<:>:<:>\n"
   ]
  },
  {
   "cell_type": "markdown",
   "metadata": {},
   "source": [
    "# RidgeModel"
   ]
  },
  {
   "cell_type": "code",
   "execution_count": 7,
   "metadata": {
    "collapsed": true
   },
   "outputs": [],
   "source": [
    "########################### Test Ridge with Scaling ###########################\n",
    "# the L1 and L2 regularizers of linear models) assume that all features are \n",
    "# centered around 0 and have variance in the same order"
   ]
  },
  {
   "cell_type": "code",
   "execution_count": 8,
   "metadata": {
    "collapsed": true
   },
   "outputs": [],
   "source": [
    "# Note: Scaling improves Ridge"
   ]
  },
  {
   "cell_type": "code",
   "execution_count": 9,
   "metadata": {
    "collapsed": false,
    "scrolled": true
   },
   "outputs": [
    {
     "name": "stdout",
     "output_type": "stream",
     "text": [
      "\n",
      "\n",
      "{{ scale_this: >>>>>>>>>>>>>>>>>>>>>>>>>>>>>>>>>>>>>>>>> Scaling X_train and X_test... }}\n",
      "\n",
      "Dataset size read: train 258 and test 63 \n",
      "\n",
      "# Tuning hyper-parameters \n",
      "[{'alpha': array([  1.00000000e-35,   4.03701726e-35,   1.62975083e-34,\n",
      "         6.57933225e-34,   2.65608778e-33,   1.07226722e-32,\n",
      "         4.32876128e-32,   1.74752840e-31,   7.05480231e-31,\n",
      "         2.84803587e-30,   1.14975700e-29,   4.64158883e-29,\n",
      "         1.87381742e-28,   7.56463328e-28,   3.05385551e-27,\n",
      "         1.23284674e-26,   4.97702356e-26,   2.00923300e-25,\n",
      "         8.11130831e-25,   3.27454916e-24,   1.32194115e-23,\n",
      "         5.33669923e-23,   2.15443469e-22,   8.69749003e-22,\n",
      "         3.51119173e-21,   1.41747416e-20,   5.72236766e-20,\n",
      "         2.31012970e-19,   9.32603347e-19,   3.76493581e-18,\n",
      "         1.51991108e-17,   6.13590727e-17,   2.47707636e-16,\n",
      "         1.00000000e-15,   4.03701726e-15,   1.62975083e-14,\n",
      "         6.57933225e-14,   2.65608778e-13,   1.07226722e-12,\n",
      "         4.32876128e-12,   1.74752840e-11,   7.05480231e-11,\n",
      "         2.84803587e-10,   1.14975700e-09,   4.64158883e-09,\n",
      "         1.87381742e-08,   7.56463328e-08,   3.05385551e-07,\n",
      "         1.23284674e-06,   4.97702356e-06,   2.00923300e-05,\n",
      "         8.11130831e-05,   3.27454916e-04,   1.32194115e-03,\n",
      "         5.33669923e-03,   2.15443469e-02,   8.69749003e-02,\n",
      "         3.51119173e-01,   1.41747416e+00,   5.72236766e+00,\n",
      "         2.31012970e+01,   9.32603347e+01,   3.76493581e+02,\n",
      "         1.51991108e+03,   6.13590727e+03,   2.47707636e+04,\n",
      "         1.00000000e+05,   4.03701726e+05,   1.62975083e+06,\n",
      "         6.57933225e+06,   2.65608778e+07,   1.07226722e+08,\n",
      "         4.32876128e+08,   1.74752840e+09,   7.05480231e+09,\n",
      "         2.84803587e+10,   1.14975700e+11,   4.64158883e+11,\n",
      "         1.87381742e+12,   7.56463328e+12,   3.05385551e+13,\n",
      "         1.23284674e+14,   4.97702356e+14,   2.00923300e+15,\n",
      "         8.11130831e+15,   3.27454916e+16,   1.32194115e+17,\n",
      "         5.33669923e+17,   2.15443469e+18,   8.69749003e+18,\n",
      "         3.51119173e+19,   1.41747416e+20,   5.72236766e+20,\n",
      "         2.31012970e+21,   9.32603347e+21,   3.76493581e+22,\n",
      "         1.51991108e+23,   6.13590727e+23,   2.47707636e+24,\n",
      "         1.00000000e+25])}]\n",
      "##########################\n",
      "Starting grdsurch.fit(X_train, y_train)\n",
      "\n",
      "Best parameters set found on development set:\n",
      "\n",
      "{'alpha': 1e-35}\n",
      "Ridge(alpha=1e-35, copy_X=True, fit_intercept=True, max_iter=None,\n",
      "   normalize=False, random_state=None, solver='auto', tol=1e-06)\n",
      "\n",
      "Full Test Set: 63\n"
     ]
    },
    {
     "data": {
      "text/plain": [
       "array([  203.98,   164.88,    45.97,   120.19,   142.07,    97.83,\n",
       "        1732.64,  2306.07,  3444.3 ,  2397.91,  2607.84,  1331.2 ,\n",
       "        2000.17,  3152.83,  2486.13,  3034.04,  1723.63,  2754.95,\n",
       "        2762.97,  1445.01,  3040.59,  1323.62,  2940.97,  1423.13,\n",
       "        2657.91,  1365.13,  2274.86,  2089.36,   998.65,  2083.07,\n",
       "         297.21,   299.12,  1688.15,   323.21,  1364.75,  2271.12,\n",
       "         644.52,  1724.47,  1868.49,  2659.86,  2684.27,  1472.6 ,\n",
       "        1881.93,   300.32,  2470.53,   801.4 ,  1459.44,   504.92,\n",
       "        1627.26,  1802.26,   214.64,   747.33,  1135.84,  1146.09,\n",
       "         504.63,   198.28,  1628.58,  1808.07,  1031.47,  2262.51,\n",
       "        2106.02,   503.45,   216.58])"
      ]
     },
     "metadata": {},
     "output_type": "display_data"
    },
    {
     "data": {
      "text/plain": [
       "array([ 1287.44639707,  1031.44639707,  -376.55360293,   455.44639707,\n",
       "         711.44639707,   199.44639707,  2595.44639707,  2595.44639707,\n",
       "        2595.44639707,  2595.44639707,  2595.44639707,  2595.44639707,\n",
       "        2595.44639707,  2595.44639707,  2595.44639707,  2595.44639707,\n",
       "        2595.44639707,  2595.44639707,  2595.44639707,  2595.44639707,\n",
       "        2595.44639707,  2595.44639707,  2595.44639707,  2595.44639707,\n",
       "        2595.44639707,   927.44639707,  1695.44639707,  1695.44639707,\n",
       "         415.44639707,  1695.44639707,  -608.55360293,  -608.55360293,\n",
       "        1183.44639707,  -608.55360293,   927.44639707,  1695.44639707,\n",
       "         -96.55360293,  1183.44639707,  1183.44639707,  2207.44639707,\n",
       "        2207.44639707,   927.44639707,  1183.44639707,  -608.55360293,\n",
       "        2399.44639707,   991.44639707,  1631.44639707,   735.44639707,\n",
       "        1887.44639707,  1887.44639707,   479.44639707,  1119.44639707,\n",
       "        1375.44639707,  1375.44639707,   735.44639707,   479.44639707,\n",
       "        1887.44639707,  1887.44639707,  1375.44639707,  2399.44639707,\n",
       "        2143.44639707,   735.44639707,   479.44639707])"
      ]
     },
     "metadata": {},
     "output_type": "display_data"
    },
    {
     "name": "stdout",
     "output_type": "stream",
     "text": [
      "A: 6\n",
      "\n",
      "{{ scale_this: >>>>>>>>>>>>>>>>>>>>>>>>>>>>>>>>>>>>>>>>> Scaling X_train and X_test... }}\n",
      "\n"
     ]
    },
    {
     "data": {
      "text/plain": [
       "array([ 203.98,  164.88,   45.97,  120.19,  142.07,   97.83])"
      ]
     },
     "metadata": {},
     "output_type": "display_data"
    },
    {
     "data": {
      "text/plain": [
       "array([ 1287.44639707,  1031.44639707,  -376.55360293,   455.44639707,\n",
       "         711.44639707,   199.44639707])"
      ]
     },
     "metadata": {},
     "output_type": "display_data"
    },
    {
     "name": "stdout",
     "output_type": "stream",
     "text": [
      "B: 19\n",
      "\n",
      "{{ scale_this: >>>>>>>>>>>>>>>>>>>>>>>>>>>>>>>>>>>>>>>>> Scaling X_train and X_test... }}\n",
      "\n"
     ]
    },
    {
     "data": {
      "text/plain": [
       "array([ 1732.64,  2306.07,  3444.3 ,  2397.91,  2607.84,  1331.2 ,\n",
       "        2000.17,  3152.83,  2486.13,  3034.04,  1723.63,  2754.95,\n",
       "        2762.97,  1445.01,  3040.59,  1323.62,  2940.97,  1423.13,  2657.91])"
      ]
     },
     "metadata": {},
     "output_type": "display_data"
    },
    {
     "data": {
      "text/plain": [
       "array([ 2595.44639707,  2595.44639707,  2595.44639707,  2595.44639707,\n",
       "        2595.44639707,  2595.44639707,  2595.44639707,  2595.44639707,\n",
       "        2595.44639707,  2595.44639707,  2595.44639707,  2595.44639707,\n",
       "        2595.44639707,  2595.44639707,  2595.44639707,  2595.44639707,\n",
       "        2595.44639707,  2595.44639707,  2595.44639707])"
      ]
     },
     "metadata": {},
     "output_type": "display_data"
    },
    {
     "name": "stdout",
     "output_type": "stream",
     "text": [
      "C: 19\n",
      "\n",
      "{{ scale_this: >>>>>>>>>>>>>>>>>>>>>>>>>>>>>>>>>>>>>>>>> Scaling X_train and X_test... }}\n",
      "\n"
     ]
    },
    {
     "data": {
      "text/plain": [
       "array([ 1365.13,  2274.86,  2089.36,   998.65,  2083.07,   297.21,\n",
       "         299.12,  1688.15,   323.21,  1364.75,  2271.12,   644.52,\n",
       "        1724.47,  1868.49,  2659.86,  2684.27,  1472.6 ,  1881.93,   300.32])"
      ]
     },
     "metadata": {},
     "output_type": "display_data"
    },
    {
     "data": {
      "text/plain": [
       "array([  927.44639707,  1695.44639707,  1695.44639707,   415.44639707,\n",
       "        1695.44639707,  -608.55360293,  -608.55360293,  1183.44639707,\n",
       "        -608.55360293,   927.44639707,  1695.44639707,   -96.55360293,\n",
       "        1183.44639707,  1183.44639707,  2207.44639707,  2207.44639707,\n",
       "         927.44639707,  1183.44639707,  -608.55360293])"
      ]
     },
     "metadata": {},
     "output_type": "display_data"
    },
    {
     "name": "stdout",
     "output_type": "stream",
     "text": [
      "D: 19\n",
      "\n",
      "{{ scale_this: >>>>>>>>>>>>>>>>>>>>>>>>>>>>>>>>>>>>>>>>> Scaling X_train and X_test... }}\n",
      "\n"
     ]
    },
    {
     "data": {
      "text/plain": [
       "array([ 2470.53,   801.4 ,  1459.44,   504.92,  1627.26,  1802.26,\n",
       "         214.64,   747.33,  1135.84,  1146.09,   504.63,   198.28,\n",
       "        1628.58,  1808.07,  1031.47,  2262.51,  2106.02,   503.45,   216.58])"
      ]
     },
     "metadata": {},
     "output_type": "display_data"
    },
    {
     "data": {
      "text/plain": [
       "array([ 2399.44639707,   991.44639707,  1631.44639707,   735.44639707,\n",
       "        1887.44639707,  1887.44639707,   479.44639707,  1119.44639707,\n",
       "        1375.44639707,  1375.44639707,   735.44639707,   479.44639707,\n",
       "        1887.44639707,  1887.44639707,  1375.44639707,  2399.44639707,\n",
       "        2143.44639707,   735.44639707,   479.44639707])"
      ]
     },
     "metadata": {},
     "output_type": "display_data"
    },
    {
     "name": "stdout",
     "output_type": "stream",
     "text": [
      "\n",
      "\n",
      " scorer is called: 5 times \n",
      "\n",
      "\n",
      "【【】】adding new model for datasetIPPD.pickle \n",
      "\n",
      "【【【】】】newScore: 50511086156198024.000000 \n",
      "____________________________________________________________________________________________________\n"
     ]
    }
   ],
   "source": [
    "t_ridge = wrapper([RidgeCVModel])"
   ]
  },
  {
   "cell_type": "code",
   "execution_count": 19,
   "metadata": {
    "collapsed": false
   },
   "outputs": [
    {
     "name": "stdout",
     "output_type": "stream",
     "text": [
      "________________________________________________________________________________\n",
      "Model: Ridge(alpha=1e-35, copy_X=True, fit_intercept=True, max_iter=None,\n",
      "   normalize=False, random_state=None, solver='auto', tol=1e-06)\n",
      "Train RMSE: 50511086156198024.000000 \n",
      "\n",
      "A...TestA RMSE   : 651.955414\n",
      "A...<<y_test_A Mean>>: 129.153333 \n",
      "\n",
      "B...TestB RMSE   : 707.328056\n",
      "B...<<y_test_B Mean>>: 2345.574211 \n",
      "\n",
      "C...TestC RMSE   : 641.421096\n",
      "C...<<y_test_C Mean>>: 1489.004737 \n",
      "\n",
      "D...TestD RMSE   : 227.630559\n",
      "D...<<y_test_D Mean>>: 1166.805263\n",
      "________________________________________________________________________________\n"
     ]
    }
   ],
   "source": [
    "t_print = t_ridge\n",
    "\n",
    "for key in t_print.keys():\n",
    "    print(80*'_')\n",
    "    \n",
    "    print('Model: %s' % (str(t_print[key]['model'])[:200]))\n",
    "    print('Train RMSE: %f \\n' % (t_print[key]['train_rmse_cv_picking']))\n",
    "    \n",
    "    #print('Test RMSE   : %f' % (t_print[key]['test_rmse_reporting']))\n",
    "    #print('Overall Test Mean: %f \\n' % (t_print[key]['test_mean_y_comparing']))\n",
    "    \n",
    "    print('A...TestA RMSE   : %f' % (t_print[key]['test_rmse_reportingA']))\n",
    "    print('A...<<y_test_A Mean>>: %f \\n' % (t_print[key]['test_mean_y_comparingA']))\n",
    "    \n",
    "    print('B...TestB RMSE   : %f' % (t_print[key]['test_rmse_reportingB']))\n",
    "    print('B...<<y_test_B Mean>>: %f \\n' % (t_print[key]['test_mean_y_comparingB']))\n",
    "    \n",
    "    print('C...TestC RMSE   : %f' % (t_print[key]['test_rmse_reportingC']))\n",
    "    print('C...<<y_test_C Mean>>: %f \\n' % (t_print[key]['test_mean_y_comparingC']))\n",
    "    \n",
    "    print('D...TestD RMSE   : %f' % (t_print[key]['test_rmse_reportingD']))\n",
    "    print('D...<<y_test_D Mean>>: %f' % (t_print[key]['test_mean_y_comparingD']))\n",
    "    \n",
    "    print(80*'_')"
   ]
  },
  {
   "cell_type": "markdown",
   "metadata": {},
   "source": [
    "# Elastic Net"
   ]
  },
  {
   "cell_type": "code",
   "execution_count": 11,
   "metadata": {
    "collapsed": true
   },
   "outputs": [],
   "source": [
    "########################### Test ElasticNet with Scaling ###########################\n",
    "#\n",
    "# the L1 and L2 regularizers of linear models) assume that all features are \n",
    "# centered around 0 and have variance in the same order"
   ]
  },
  {
   "cell_type": "code",
   "execution_count": 12,
   "metadata": {
    "collapsed": false,
    "scrolled": true
   },
   "outputs": [
    {
     "name": "stdout",
     "output_type": "stream",
     "text": [
      "\n",
      "\n",
      "{{ scale_this: >>>>>>>>>>>>>>>>>>>>>>>>>>>>>>>>>>>>>>>>> Scaling X_train and X_test... }}\n",
      "\n",
      "Dataset size read: train 258 and test 63 \n",
      "\n",
      "# Tuning hyper-parameters \n",
      "[{'alpha': array([  1.00000000e-25,   1.91448198e-24,   3.66524124e-23,\n",
      "         7.01703829e-22,   1.34339933e-20,   2.57191381e-19,\n",
      "         4.92388263e-18,   9.42668455e-17,   1.80472177e-15,\n",
      "         3.45510729e-14,   6.61474064e-13,   1.26638017e-11,\n",
      "         2.42446202e-10,   4.64158883e-09,   8.88623816e-08,\n",
      "         1.70125428e-06,   3.25702066e-05,   6.23550734e-04,\n",
      "         1.19377664e-02,   2.28546386e-01,   4.37547938e+00,\n",
      "         8.37677640e+01,   1.60371874e+03,   3.07029063e+04,\n",
      "         5.87801607e+05,   1.12533558e+07,   2.15443469e+08,\n",
      "         4.12462638e+09,   7.89652287e+10,   1.51177507e+12,\n",
      "         2.89426612e+13,   5.54102033e+14,   1.06081836e+16,\n",
      "         2.03091762e+17,   3.88815518e+18,   7.44380301e+19,\n",
      "         1.42510267e+21,   2.72833338e+22,   5.22334507e+23,\n",
      "         1.00000000e+25]), 'l1_ratio': [0.9, 0.75, 0.5, 0.25, 0.1]}]\n",
      "##########################\n",
      "Starting grdsurch.fit(X_train, y_train)\n"
     ]
    },
    {
     "name": "stderr",
     "output_type": "stream",
     "text": [
      "/data/home/a1singh/anaconda3/lib/python3.6/site-packages/sklearn/linear_model/coordinate_descent.py:484: ConvergenceWarning: Objective did not converge. You might want to increase the number of iterations. Fitting data with very small alpha may cause precision problems.\n",
      "  ConvergenceWarning)\n",
      "/data/home/a1singh/anaconda3/lib/python3.6/site-packages/sklearn/linear_model/coordinate_descent.py:484: ConvergenceWarning: Objective did not converge. You might want to increase the number of iterations. Fitting data with very small alpha may cause precision problems.\n",
      "  ConvergenceWarning)\n",
      "/data/home/a1singh/anaconda3/lib/python3.6/site-packages/sklearn/linear_model/coordinate_descent.py:484: ConvergenceWarning: Objective did not converge. You might want to increase the number of iterations. Fitting data with very small alpha may cause precision problems.\n",
      "  ConvergenceWarning)\n",
      "/data/home/a1singh/anaconda3/lib/python3.6/site-packages/sklearn/linear_model/coordinate_descent.py:484: ConvergenceWarning: Objective did not converge. You might want to increase the number of iterations. Fitting data with very small alpha may cause precision problems.\n",
      "  ConvergenceWarning)\n",
      "/data/home/a1singh/anaconda3/lib/python3.6/site-packages/sklearn/linear_model/coordinate_descent.py:484: ConvergenceWarning: Objective did not converge. You might want to increase the number of iterations. Fitting data with very small alpha may cause precision problems.\n",
      "  ConvergenceWarning)\n",
      "/data/home/a1singh/anaconda3/lib/python3.6/site-packages/sklearn/linear_model/coordinate_descent.py:484: ConvergenceWarning: Objective did not converge. You might want to increase the number of iterations. Fitting data with very small alpha may cause precision problems.\n",
      "  ConvergenceWarning)\n",
      "/data/home/a1singh/anaconda3/lib/python3.6/site-packages/sklearn/linear_model/coordinate_descent.py:484: ConvergenceWarning: Objective did not converge. You might want to increase the number of iterations. Fitting data with very small alpha may cause precision problems.\n",
      "  ConvergenceWarning)\n",
      "/data/home/a1singh/anaconda3/lib/python3.6/site-packages/sklearn/linear_model/coordinate_descent.py:484: ConvergenceWarning: Objective did not converge. You might want to increase the number of iterations. Fitting data with very small alpha may cause precision problems.\n",
      "  ConvergenceWarning)\n",
      "/data/home/a1singh/anaconda3/lib/python3.6/site-packages/sklearn/linear_model/coordinate_descent.py:484: ConvergenceWarning: Objective did not converge. You might want to increase the number of iterations. Fitting data with very small alpha may cause precision problems.\n",
      "  ConvergenceWarning)\n",
      "/data/home/a1singh/anaconda3/lib/python3.6/site-packages/sklearn/linear_model/coordinate_descent.py:484: ConvergenceWarning: Objective did not converge. You might want to increase the number of iterations. Fitting data with very small alpha may cause precision problems.\n",
      "  ConvergenceWarning)\n",
      "/data/home/a1singh/anaconda3/lib/python3.6/site-packages/sklearn/linear_model/coordinate_descent.py:484: ConvergenceWarning: Objective did not converge. You might want to increase the number of iterations. Fitting data with very small alpha may cause precision problems.\n",
      "  ConvergenceWarning)\n",
      "/data/home/a1singh/anaconda3/lib/python3.6/site-packages/sklearn/linear_model/coordinate_descent.py:484: ConvergenceWarning: Objective did not converge. You might want to increase the number of iterations. Fitting data with very small alpha may cause precision problems.\n",
      "  ConvergenceWarning)\n",
      "/data/home/a1singh/anaconda3/lib/python3.6/site-packages/sklearn/linear_model/coordinate_descent.py:484: ConvergenceWarning: Objective did not converge. You might want to increase the number of iterations. Fitting data with very small alpha may cause precision problems.\n",
      "  ConvergenceWarning)\n",
      "/data/home/a1singh/anaconda3/lib/python3.6/site-packages/sklearn/linear_model/coordinate_descent.py:484: ConvergenceWarning: Objective did not converge. You might want to increase the number of iterations. Fitting data with very small alpha may cause precision problems.\n",
      "  ConvergenceWarning)\n",
      "/data/home/a1singh/anaconda3/lib/python3.6/site-packages/sklearn/linear_model/coordinate_descent.py:484: ConvergenceWarning: Objective did not converge. You might want to increase the number of iterations. Fitting data with very small alpha may cause precision problems.\n",
      "  ConvergenceWarning)\n",
      "/data/home/a1singh/anaconda3/lib/python3.6/site-packages/sklearn/linear_model/coordinate_descent.py:484: ConvergenceWarning: Objective did not converge. You might want to increase the number of iterations. Fitting data with very small alpha may cause precision problems.\n",
      "  ConvergenceWarning)\n",
      "/data/home/a1singh/anaconda3/lib/python3.6/site-packages/sklearn/linear_model/coordinate_descent.py:484: ConvergenceWarning: Objective did not converge. You might want to increase the number of iterations. Fitting data with very small alpha may cause precision problems.\n",
      "  ConvergenceWarning)\n",
      "/data/home/a1singh/anaconda3/lib/python3.6/site-packages/sklearn/linear_model/coordinate_descent.py:484: ConvergenceWarning: Objective did not converge. You might want to increase the number of iterations. Fitting data with very small alpha may cause precision problems.\n",
      "  ConvergenceWarning)\n",
      "/data/home/a1singh/anaconda3/lib/python3.6/site-packages/sklearn/linear_model/coordinate_descent.py:484: ConvergenceWarning: Objective did not converge. You might want to increase the number of iterations. Fitting data with very small alpha may cause precision problems.\n",
      "  ConvergenceWarning)\n",
      "/data/home/a1singh/anaconda3/lib/python3.6/site-packages/sklearn/linear_model/coordinate_descent.py:484: ConvergenceWarning: Objective did not converge. You might want to increase the number of iterations. Fitting data with very small alpha may cause precision problems.\n",
      "  ConvergenceWarning)\n",
      "/data/home/a1singh/anaconda3/lib/python3.6/site-packages/sklearn/linear_model/coordinate_descent.py:484: ConvergenceWarning: Objective did not converge. You might want to increase the number of iterations. Fitting data with very small alpha may cause precision problems.\n",
      "  ConvergenceWarning)\n",
      "/data/home/a1singh/anaconda3/lib/python3.6/site-packages/sklearn/linear_model/coordinate_descent.py:484: ConvergenceWarning: Objective did not converge. You might want to increase the number of iterations. Fitting data with very small alpha may cause precision problems.\n",
      "  ConvergenceWarning)\n",
      "/data/home/a1singh/anaconda3/lib/python3.6/site-packages/sklearn/linear_model/coordinate_descent.py:484: ConvergenceWarning: Objective did not converge. You might want to increase the number of iterations. Fitting data with very small alpha may cause precision problems.\n",
      "  ConvergenceWarning)\n",
      "/data/home/a1singh/anaconda3/lib/python3.6/site-packages/sklearn/linear_model/coordinate_descent.py:484: ConvergenceWarning: Objective did not converge. You might want to increase the number of iterations. Fitting data with very small alpha may cause precision problems.\n",
      "  ConvergenceWarning)\n",
      "/data/home/a1singh/anaconda3/lib/python3.6/site-packages/sklearn/linear_model/coordinate_descent.py:484: ConvergenceWarning: Objective did not converge. You might want to increase the number of iterations. Fitting data with very small alpha may cause precision problems.\n",
      "  ConvergenceWarning)\n",
      "/data/home/a1singh/anaconda3/lib/python3.6/site-packages/sklearn/linear_model/coordinate_descent.py:484: ConvergenceWarning: Objective did not converge. You might want to increase the number of iterations. Fitting data with very small alpha may cause precision problems.\n",
      "  ConvergenceWarning)\n",
      "/data/home/a1singh/anaconda3/lib/python3.6/site-packages/sklearn/linear_model/coordinate_descent.py:484: ConvergenceWarning: Objective did not converge. You might want to increase the number of iterations. Fitting data with very small alpha may cause precision problems.\n",
      "  ConvergenceWarning)\n",
      "/data/home/a1singh/anaconda3/lib/python3.6/site-packages/sklearn/linear_model/coordinate_descent.py:484: ConvergenceWarning: Objective did not converge. You might want to increase the number of iterations. Fitting data with very small alpha may cause precision problems.\n",
      "  ConvergenceWarning)\n",
      "/data/home/a1singh/anaconda3/lib/python3.6/site-packages/sklearn/linear_model/coordinate_descent.py:484: ConvergenceWarning: Objective did not converge. You might want to increase the number of iterations. Fitting data with very small alpha may cause precision problems.\n",
      "  ConvergenceWarning)\n",
      "/data/home/a1singh/anaconda3/lib/python3.6/site-packages/sklearn/linear_model/coordinate_descent.py:484: ConvergenceWarning: Objective did not converge. You might want to increase the number of iterations. Fitting data with very small alpha may cause precision problems.\n",
      "  ConvergenceWarning)\n",
      "/data/home/a1singh/anaconda3/lib/python3.6/site-packages/sklearn/linear_model/coordinate_descent.py:484: ConvergenceWarning: Objective did not converge. You might want to increase the number of iterations. Fitting data with very small alpha may cause precision problems.\n",
      "  ConvergenceWarning)\n",
      "/data/home/a1singh/anaconda3/lib/python3.6/site-packages/sklearn/linear_model/coordinate_descent.py:484: ConvergenceWarning: Objective did not converge. You might want to increase the number of iterations. Fitting data with very small alpha may cause precision problems.\n",
      "  ConvergenceWarning)\n",
      "/data/home/a1singh/anaconda3/lib/python3.6/site-packages/sklearn/linear_model/coordinate_descent.py:484: ConvergenceWarning: Objective did not converge. You might want to increase the number of iterations. Fitting data with very small alpha may cause precision problems.\n",
      "  ConvergenceWarning)\n",
      "/data/home/a1singh/anaconda3/lib/python3.6/site-packages/sklearn/linear_model/coordinate_descent.py:484: ConvergenceWarning: Objective did not converge. You might want to increase the number of iterations. Fitting data with very small alpha may cause precision problems.\n",
      "  ConvergenceWarning)\n",
      "/data/home/a1singh/anaconda3/lib/python3.6/site-packages/sklearn/linear_model/coordinate_descent.py:484: ConvergenceWarning: Objective did not converge. You might want to increase the number of iterations. Fitting data with very small alpha may cause precision problems.\n",
      "  ConvergenceWarning)\n",
      "/data/home/a1singh/anaconda3/lib/python3.6/site-packages/sklearn/linear_model/coordinate_descent.py:484: ConvergenceWarning: Objective did not converge. You might want to increase the number of iterations. Fitting data with very small alpha may cause precision problems.\n",
      "  ConvergenceWarning)\n",
      "/data/home/a1singh/anaconda3/lib/python3.6/site-packages/sklearn/linear_model/coordinate_descent.py:484: ConvergenceWarning: Objective did not converge. You might want to increase the number of iterations. Fitting data with very small alpha may cause precision problems.\n",
      "  ConvergenceWarning)\n",
      "/data/home/a1singh/anaconda3/lib/python3.6/site-packages/sklearn/linear_model/coordinate_descent.py:484: ConvergenceWarning: Objective did not converge. You might want to increase the number of iterations. Fitting data with very small alpha may cause precision problems.\n",
      "  ConvergenceWarning)\n",
      "/data/home/a1singh/anaconda3/lib/python3.6/site-packages/sklearn/linear_model/coordinate_descent.py:484: ConvergenceWarning: Objective did not converge. You might want to increase the number of iterations. Fitting data with very small alpha may cause precision problems.\n",
      "  ConvergenceWarning)\n",
      "/data/home/a1singh/anaconda3/lib/python3.6/site-packages/sklearn/linear_model/coordinate_descent.py:484: ConvergenceWarning: Objective did not converge. You might want to increase the number of iterations. Fitting data with very small alpha may cause precision problems.\n",
      "  ConvergenceWarning)\n",
      "/data/home/a1singh/anaconda3/lib/python3.6/site-packages/sklearn/linear_model/coordinate_descent.py:484: ConvergenceWarning: Objective did not converge. You might want to increase the number of iterations. Fitting data with very small alpha may cause precision problems.\n",
      "  ConvergenceWarning)\n",
      "/data/home/a1singh/anaconda3/lib/python3.6/site-packages/sklearn/linear_model/coordinate_descent.py:484: ConvergenceWarning: Objective did not converge. You might want to increase the number of iterations. Fitting data with very small alpha may cause precision problems.\n",
      "  ConvergenceWarning)\n",
      "/data/home/a1singh/anaconda3/lib/python3.6/site-packages/sklearn/linear_model/coordinate_descent.py:484: ConvergenceWarning: Objective did not converge. You might want to increase the number of iterations. Fitting data with very small alpha may cause precision problems.\n",
      "  ConvergenceWarning)\n",
      "/data/home/a1singh/anaconda3/lib/python3.6/site-packages/sklearn/linear_model/coordinate_descent.py:484: ConvergenceWarning: Objective did not converge. You might want to increase the number of iterations. Fitting data with very small alpha may cause precision problems.\n",
      "  ConvergenceWarning)\n",
      "/data/home/a1singh/anaconda3/lib/python3.6/site-packages/sklearn/linear_model/coordinate_descent.py:484: ConvergenceWarning: Objective did not converge. You might want to increase the number of iterations. Fitting data with very small alpha may cause precision problems.\n",
      "  ConvergenceWarning)\n",
      "/data/home/a1singh/anaconda3/lib/python3.6/site-packages/sklearn/linear_model/coordinate_descent.py:484: ConvergenceWarning: Objective did not converge. You might want to increase the number of iterations. Fitting data with very small alpha may cause precision problems.\n",
      "  ConvergenceWarning)\n",
      "/data/home/a1singh/anaconda3/lib/python3.6/site-packages/sklearn/linear_model/coordinate_descent.py:484: ConvergenceWarning: Objective did not converge. You might want to increase the number of iterations. Fitting data with very small alpha may cause precision problems.\n",
      "  ConvergenceWarning)\n",
      "/data/home/a1singh/anaconda3/lib/python3.6/site-packages/sklearn/linear_model/coordinate_descent.py:484: ConvergenceWarning: Objective did not converge. You might want to increase the number of iterations. Fitting data with very small alpha may cause precision problems.\n",
      "  ConvergenceWarning)\n",
      "/data/home/a1singh/anaconda3/lib/python3.6/site-packages/sklearn/linear_model/coordinate_descent.py:484: ConvergenceWarning: Objective did not converge. You might want to increase the number of iterations. Fitting data with very small alpha may cause precision problems.\n",
      "  ConvergenceWarning)\n",
      "/data/home/a1singh/anaconda3/lib/python3.6/site-packages/sklearn/linear_model/coordinate_descent.py:484: ConvergenceWarning: Objective did not converge. You might want to increase the number of iterations. Fitting data with very small alpha may cause precision problems.\n",
      "  ConvergenceWarning)\n",
      "/data/home/a1singh/anaconda3/lib/python3.6/site-packages/sklearn/linear_model/coordinate_descent.py:484: ConvergenceWarning: Objective did not converge. You might want to increase the number of iterations. Fitting data with very small alpha may cause precision problems.\n",
      "  ConvergenceWarning)\n",
      "/data/home/a1singh/anaconda3/lib/python3.6/site-packages/sklearn/linear_model/coordinate_descent.py:484: ConvergenceWarning: Objective did not converge. You might want to increase the number of iterations. Fitting data with very small alpha may cause precision problems.\n",
      "  ConvergenceWarning)\n",
      "/data/home/a1singh/anaconda3/lib/python3.6/site-packages/sklearn/linear_model/coordinate_descent.py:484: ConvergenceWarning: Objective did not converge. You might want to increase the number of iterations. Fitting data with very small alpha may cause precision problems.\n",
      "  ConvergenceWarning)\n",
      "/data/home/a1singh/anaconda3/lib/python3.6/site-packages/sklearn/linear_model/coordinate_descent.py:484: ConvergenceWarning: Objective did not converge. You might want to increase the number of iterations. Fitting data with very small alpha may cause precision problems.\n",
      "  ConvergenceWarning)\n",
      "/data/home/a1singh/anaconda3/lib/python3.6/site-packages/sklearn/linear_model/coordinate_descent.py:484: ConvergenceWarning: Objective did not converge. You might want to increase the number of iterations. Fitting data with very small alpha may cause precision problems.\n",
      "  ConvergenceWarning)\n",
      "/data/home/a1singh/anaconda3/lib/python3.6/site-packages/sklearn/linear_model/coordinate_descent.py:484: ConvergenceWarning: Objective did not converge. You might want to increase the number of iterations. Fitting data with very small alpha may cause precision problems.\n",
      "  ConvergenceWarning)\n",
      "/data/home/a1singh/anaconda3/lib/python3.6/site-packages/sklearn/linear_model/coordinate_descent.py:484: ConvergenceWarning: Objective did not converge. You might want to increase the number of iterations. Fitting data with very small alpha may cause precision problems.\n",
      "  ConvergenceWarning)\n",
      "/data/home/a1singh/anaconda3/lib/python3.6/site-packages/sklearn/linear_model/coordinate_descent.py:484: ConvergenceWarning: Objective did not converge. You might want to increase the number of iterations. Fitting data with very small alpha may cause precision problems.\n",
      "  ConvergenceWarning)\n",
      "/data/home/a1singh/anaconda3/lib/python3.6/site-packages/sklearn/linear_model/coordinate_descent.py:484: ConvergenceWarning: Objective did not converge. You might want to increase the number of iterations. Fitting data with very small alpha may cause precision problems.\n",
      "  ConvergenceWarning)\n",
      "/data/home/a1singh/anaconda3/lib/python3.6/site-packages/sklearn/linear_model/coordinate_descent.py:484: ConvergenceWarning: Objective did not converge. You might want to increase the number of iterations. Fitting data with very small alpha may cause precision problems.\n",
      "  ConvergenceWarning)\n",
      "/data/home/a1singh/anaconda3/lib/python3.6/site-packages/sklearn/linear_model/coordinate_descent.py:484: ConvergenceWarning: Objective did not converge. You might want to increase the number of iterations. Fitting data with very small alpha may cause precision problems.\n",
      "  ConvergenceWarning)\n",
      "/data/home/a1singh/anaconda3/lib/python3.6/site-packages/sklearn/linear_model/coordinate_descent.py:484: ConvergenceWarning: Objective did not converge. You might want to increase the number of iterations. Fitting data with very small alpha may cause precision problems.\n",
      "  ConvergenceWarning)\n",
      "/data/home/a1singh/anaconda3/lib/python3.6/site-packages/sklearn/linear_model/coordinate_descent.py:484: ConvergenceWarning: Objective did not converge. You might want to increase the number of iterations. Fitting data with very small alpha may cause precision problems.\n",
      "  ConvergenceWarning)\n",
      "/data/home/a1singh/anaconda3/lib/python3.6/site-packages/sklearn/linear_model/coordinate_descent.py:484: ConvergenceWarning: Objective did not converge. You might want to increase the number of iterations. Fitting data with very small alpha may cause precision problems.\n",
      "  ConvergenceWarning)\n",
      "/data/home/a1singh/anaconda3/lib/python3.6/site-packages/sklearn/linear_model/coordinate_descent.py:484: ConvergenceWarning: Objective did not converge. You might want to increase the number of iterations. Fitting data with very small alpha may cause precision problems.\n",
      "  ConvergenceWarning)\n",
      "/data/home/a1singh/anaconda3/lib/python3.6/site-packages/sklearn/linear_model/coordinate_descent.py:484: ConvergenceWarning: Objective did not converge. You might want to increase the number of iterations. Fitting data with very small alpha may cause precision problems.\n",
      "  ConvergenceWarning)\n",
      "/data/home/a1singh/anaconda3/lib/python3.6/site-packages/sklearn/linear_model/coordinate_descent.py:484: ConvergenceWarning: Objective did not converge. You might want to increase the number of iterations. Fitting data with very small alpha may cause precision problems.\n",
      "  ConvergenceWarning)\n",
      "/data/home/a1singh/anaconda3/lib/python3.6/site-packages/sklearn/linear_model/coordinate_descent.py:484: ConvergenceWarning: Objective did not converge. You might want to increase the number of iterations. Fitting data with very small alpha may cause precision problems.\n",
      "  ConvergenceWarning)\n",
      "/data/home/a1singh/anaconda3/lib/python3.6/site-packages/sklearn/linear_model/coordinate_descent.py:484: ConvergenceWarning: Objective did not converge. You might want to increase the number of iterations. Fitting data with very small alpha may cause precision problems.\n",
      "  ConvergenceWarning)\n",
      "/data/home/a1singh/anaconda3/lib/python3.6/site-packages/sklearn/linear_model/coordinate_descent.py:484: ConvergenceWarning: Objective did not converge. You might want to increase the number of iterations. Fitting data with very small alpha may cause precision problems.\n",
      "  ConvergenceWarning)\n",
      "/data/home/a1singh/anaconda3/lib/python3.6/site-packages/sklearn/linear_model/coordinate_descent.py:484: ConvergenceWarning: Objective did not converge. You might want to increase the number of iterations. Fitting data with very small alpha may cause precision problems.\n",
      "  ConvergenceWarning)\n",
      "/data/home/a1singh/anaconda3/lib/python3.6/site-packages/sklearn/linear_model/coordinate_descent.py:484: ConvergenceWarning: Objective did not converge. You might want to increase the number of iterations. Fitting data with very small alpha may cause precision problems.\n",
      "  ConvergenceWarning)\n",
      "/data/home/a1singh/anaconda3/lib/python3.6/site-packages/sklearn/linear_model/coordinate_descent.py:484: ConvergenceWarning: Objective did not converge. You might want to increase the number of iterations. Fitting data with very small alpha may cause precision problems.\n",
      "  ConvergenceWarning)\n",
      "/data/home/a1singh/anaconda3/lib/python3.6/site-packages/sklearn/linear_model/coordinate_descent.py:484: ConvergenceWarning: Objective did not converge. You might want to increase the number of iterations. Fitting data with very small alpha may cause precision problems.\n",
      "  ConvergenceWarning)\n",
      "/data/home/a1singh/anaconda3/lib/python3.6/site-packages/sklearn/linear_model/coordinate_descent.py:484: ConvergenceWarning: Objective did not converge. You might want to increase the number of iterations. Fitting data with very small alpha may cause precision problems.\n",
      "  ConvergenceWarning)\n",
      "/data/home/a1singh/anaconda3/lib/python3.6/site-packages/sklearn/linear_model/coordinate_descent.py:484: ConvergenceWarning: Objective did not converge. You might want to increase the number of iterations. Fitting data with very small alpha may cause precision problems.\n",
      "  ConvergenceWarning)\n",
      "/data/home/a1singh/anaconda3/lib/python3.6/site-packages/sklearn/linear_model/coordinate_descent.py:484: ConvergenceWarning: Objective did not converge. You might want to increase the number of iterations. Fitting data with very small alpha may cause precision problems.\n",
      "  ConvergenceWarning)\n",
      "/data/home/a1singh/anaconda3/lib/python3.6/site-packages/sklearn/linear_model/coordinate_descent.py:484: ConvergenceWarning: Objective did not converge. You might want to increase the number of iterations. Fitting data with very small alpha may cause precision problems.\n",
      "  ConvergenceWarning)\n",
      "/data/home/a1singh/anaconda3/lib/python3.6/site-packages/sklearn/linear_model/coordinate_descent.py:484: ConvergenceWarning: Objective did not converge. You might want to increase the number of iterations. Fitting data with very small alpha may cause precision problems.\n",
      "  ConvergenceWarning)\n",
      "/data/home/a1singh/anaconda3/lib/python3.6/site-packages/sklearn/linear_model/coordinate_descent.py:484: ConvergenceWarning: Objective did not converge. You might want to increase the number of iterations. Fitting data with very small alpha may cause precision problems.\n",
      "  ConvergenceWarning)\n",
      "/data/home/a1singh/anaconda3/lib/python3.6/site-packages/sklearn/linear_model/coordinate_descent.py:484: ConvergenceWarning: Objective did not converge. You might want to increase the number of iterations. Fitting data with very small alpha may cause precision problems.\n",
      "  ConvergenceWarning)\n",
      "/data/home/a1singh/anaconda3/lib/python3.6/site-packages/sklearn/linear_model/coordinate_descent.py:484: ConvergenceWarning: Objective did not converge. You might want to increase the number of iterations. Fitting data with very small alpha may cause precision problems.\n",
      "  ConvergenceWarning)\n",
      "/data/home/a1singh/anaconda3/lib/python3.6/site-packages/sklearn/linear_model/coordinate_descent.py:484: ConvergenceWarning: Objective did not converge. You might want to increase the number of iterations. Fitting data with very small alpha may cause precision problems.\n",
      "  ConvergenceWarning)\n",
      "/data/home/a1singh/anaconda3/lib/python3.6/site-packages/sklearn/linear_model/coordinate_descent.py:484: ConvergenceWarning: Objective did not converge. You might want to increase the number of iterations. Fitting data with very small alpha may cause precision problems.\n",
      "  ConvergenceWarning)\n",
      "/data/home/a1singh/anaconda3/lib/python3.6/site-packages/sklearn/linear_model/coordinate_descent.py:484: ConvergenceWarning: Objective did not converge. You might want to increase the number of iterations. Fitting data with very small alpha may cause precision problems.\n",
      "  ConvergenceWarning)\n",
      "/data/home/a1singh/anaconda3/lib/python3.6/site-packages/sklearn/linear_model/coordinate_descent.py:484: ConvergenceWarning: Objective did not converge. You might want to increase the number of iterations. Fitting data with very small alpha may cause precision problems.\n",
      "  ConvergenceWarning)\n",
      "/data/home/a1singh/anaconda3/lib/python3.6/site-packages/sklearn/linear_model/coordinate_descent.py:484: ConvergenceWarning: Objective did not converge. You might want to increase the number of iterations. Fitting data with very small alpha may cause precision problems.\n",
      "  ConvergenceWarning)\n",
      "/data/home/a1singh/anaconda3/lib/python3.6/site-packages/sklearn/linear_model/coordinate_descent.py:484: ConvergenceWarning: Objective did not converge. You might want to increase the number of iterations. Fitting data with very small alpha may cause precision problems.\n",
      "  ConvergenceWarning)\n",
      "/data/home/a1singh/anaconda3/lib/python3.6/site-packages/sklearn/linear_model/coordinate_descent.py:484: ConvergenceWarning: Objective did not converge. You might want to increase the number of iterations. Fitting data with very small alpha may cause precision problems.\n",
      "  ConvergenceWarning)\n",
      "/data/home/a1singh/anaconda3/lib/python3.6/site-packages/sklearn/linear_model/coordinate_descent.py:484: ConvergenceWarning: Objective did not converge. You might want to increase the number of iterations. Fitting data with very small alpha may cause precision problems.\n",
      "  ConvergenceWarning)\n",
      "/data/home/a1singh/anaconda3/lib/python3.6/site-packages/sklearn/linear_model/coordinate_descent.py:484: ConvergenceWarning: Objective did not converge. You might want to increase the number of iterations. Fitting data with very small alpha may cause precision problems.\n",
      "  ConvergenceWarning)\n",
      "/data/home/a1singh/anaconda3/lib/python3.6/site-packages/sklearn/linear_model/coordinate_descent.py:484: ConvergenceWarning: Objective did not converge. You might want to increase the number of iterations. Fitting data with very small alpha may cause precision problems.\n",
      "  ConvergenceWarning)\n",
      "/data/home/a1singh/anaconda3/lib/python3.6/site-packages/sklearn/linear_model/coordinate_descent.py:484: ConvergenceWarning: Objective did not converge. You might want to increase the number of iterations. Fitting data with very small alpha may cause precision problems.\n",
      "  ConvergenceWarning)\n",
      "/data/home/a1singh/anaconda3/lib/python3.6/site-packages/sklearn/linear_model/coordinate_descent.py:484: ConvergenceWarning: Objective did not converge. You might want to increase the number of iterations. Fitting data with very small alpha may cause precision problems.\n",
      "  ConvergenceWarning)\n",
      "/data/home/a1singh/anaconda3/lib/python3.6/site-packages/sklearn/linear_model/coordinate_descent.py:484: ConvergenceWarning: Objective did not converge. You might want to increase the number of iterations. Fitting data with very small alpha may cause precision problems.\n",
      "  ConvergenceWarning)\n",
      "/data/home/a1singh/anaconda3/lib/python3.6/site-packages/sklearn/linear_model/coordinate_descent.py:484: ConvergenceWarning: Objective did not converge. You might want to increase the number of iterations. Fitting data with very small alpha may cause precision problems.\n",
      "  ConvergenceWarning)\n",
      "/data/home/a1singh/anaconda3/lib/python3.6/site-packages/sklearn/linear_model/coordinate_descent.py:484: ConvergenceWarning: Objective did not converge. You might want to increase the number of iterations. Fitting data with very small alpha may cause precision problems.\n",
      "  ConvergenceWarning)\n",
      "/data/home/a1singh/anaconda3/lib/python3.6/site-packages/sklearn/linear_model/coordinate_descent.py:484: ConvergenceWarning: Objective did not converge. You might want to increase the number of iterations. Fitting data with very small alpha may cause precision problems.\n",
      "  ConvergenceWarning)\n",
      "/data/home/a1singh/anaconda3/lib/python3.6/site-packages/sklearn/linear_model/coordinate_descent.py:484: ConvergenceWarning: Objective did not converge. You might want to increase the number of iterations. Fitting data with very small alpha may cause precision problems.\n",
      "  ConvergenceWarning)\n",
      "/data/home/a1singh/anaconda3/lib/python3.6/site-packages/sklearn/linear_model/coordinate_descent.py:484: ConvergenceWarning: Objective did not converge. You might want to increase the number of iterations. Fitting data with very small alpha may cause precision problems.\n",
      "  ConvergenceWarning)\n",
      "/data/home/a1singh/anaconda3/lib/python3.6/site-packages/sklearn/linear_model/coordinate_descent.py:484: ConvergenceWarning: Objective did not converge. You might want to increase the number of iterations. Fitting data with very small alpha may cause precision problems.\n",
      "  ConvergenceWarning)\n",
      "/data/home/a1singh/anaconda3/lib/python3.6/site-packages/sklearn/linear_model/coordinate_descent.py:484: ConvergenceWarning: Objective did not converge. You might want to increase the number of iterations. Fitting data with very small alpha may cause precision problems.\n",
      "  ConvergenceWarning)\n",
      "/data/home/a1singh/anaconda3/lib/python3.6/site-packages/sklearn/linear_model/coordinate_descent.py:484: ConvergenceWarning: Objective did not converge. You might want to increase the number of iterations. Fitting data with very small alpha may cause precision problems.\n",
      "  ConvergenceWarning)\n",
      "/data/home/a1singh/anaconda3/lib/python3.6/site-packages/sklearn/linear_model/coordinate_descent.py:484: ConvergenceWarning: Objective did not converge. You might want to increase the number of iterations. Fitting data with very small alpha may cause precision problems.\n",
      "  ConvergenceWarning)\n",
      "/data/home/a1singh/anaconda3/lib/python3.6/site-packages/sklearn/linear_model/coordinate_descent.py:484: ConvergenceWarning: Objective did not converge. You might want to increase the number of iterations. Fitting data with very small alpha may cause precision problems.\n",
      "  ConvergenceWarning)\n",
      "/data/home/a1singh/anaconda3/lib/python3.6/site-packages/sklearn/linear_model/coordinate_descent.py:484: ConvergenceWarning: Objective did not converge. You might want to increase the number of iterations. Fitting data with very small alpha may cause precision problems.\n",
      "  ConvergenceWarning)\n",
      "/data/home/a1singh/anaconda3/lib/python3.6/site-packages/sklearn/linear_model/coordinate_descent.py:484: ConvergenceWarning: Objective did not converge. You might want to increase the number of iterations. Fitting data with very small alpha may cause precision problems.\n",
      "  ConvergenceWarning)\n",
      "/data/home/a1singh/anaconda3/lib/python3.6/site-packages/sklearn/linear_model/coordinate_descent.py:484: ConvergenceWarning: Objective did not converge. You might want to increase the number of iterations. Fitting data with very small alpha may cause precision problems.\n",
      "  ConvergenceWarning)\n",
      "/data/home/a1singh/anaconda3/lib/python3.6/site-packages/sklearn/linear_model/coordinate_descent.py:484: ConvergenceWarning: Objective did not converge. You might want to increase the number of iterations. Fitting data with very small alpha may cause precision problems.\n",
      "  ConvergenceWarning)\n",
      "/data/home/a1singh/anaconda3/lib/python3.6/site-packages/sklearn/linear_model/coordinate_descent.py:484: ConvergenceWarning: Objective did not converge. You might want to increase the number of iterations. Fitting data with very small alpha may cause precision problems.\n",
      "  ConvergenceWarning)\n",
      "/data/home/a1singh/anaconda3/lib/python3.6/site-packages/sklearn/linear_model/coordinate_descent.py:484: ConvergenceWarning: Objective did not converge. You might want to increase the number of iterations. Fitting data with very small alpha may cause precision problems.\n",
      "  ConvergenceWarning)\n",
      "/data/home/a1singh/anaconda3/lib/python3.6/site-packages/sklearn/linear_model/coordinate_descent.py:484: ConvergenceWarning: Objective did not converge. You might want to increase the number of iterations. Fitting data with very small alpha may cause precision problems.\n",
      "  ConvergenceWarning)\n",
      "/data/home/a1singh/anaconda3/lib/python3.6/site-packages/sklearn/linear_model/coordinate_descent.py:484: ConvergenceWarning: Objective did not converge. You might want to increase the number of iterations. Fitting data with very small alpha may cause precision problems.\n",
      "  ConvergenceWarning)\n",
      "/data/home/a1singh/anaconda3/lib/python3.6/site-packages/sklearn/linear_model/coordinate_descent.py:484: ConvergenceWarning: Objective did not converge. You might want to increase the number of iterations. Fitting data with very small alpha may cause precision problems.\n",
      "  ConvergenceWarning)\n",
      "/data/home/a1singh/anaconda3/lib/python3.6/site-packages/sklearn/linear_model/coordinate_descent.py:484: ConvergenceWarning: Objective did not converge. You might want to increase the number of iterations. Fitting data with very small alpha may cause precision problems.\n",
      "  ConvergenceWarning)\n",
      "/data/home/a1singh/anaconda3/lib/python3.6/site-packages/sklearn/linear_model/coordinate_descent.py:484: ConvergenceWarning: Objective did not converge. You might want to increase the number of iterations. Fitting data with very small alpha may cause precision problems.\n",
      "  ConvergenceWarning)\n",
      "/data/home/a1singh/anaconda3/lib/python3.6/site-packages/sklearn/linear_model/coordinate_descent.py:484: ConvergenceWarning: Objective did not converge. You might want to increase the number of iterations. Fitting data with very small alpha may cause precision problems.\n",
      "  ConvergenceWarning)\n",
      "/data/home/a1singh/anaconda3/lib/python3.6/site-packages/sklearn/linear_model/coordinate_descent.py:484: ConvergenceWarning: Objective did not converge. You might want to increase the number of iterations. Fitting data with very small alpha may cause precision problems.\n",
      "  ConvergenceWarning)\n",
      "/data/home/a1singh/anaconda3/lib/python3.6/site-packages/sklearn/linear_model/coordinate_descent.py:484: ConvergenceWarning: Objective did not converge. You might want to increase the number of iterations. Fitting data with very small alpha may cause precision problems.\n",
      "  ConvergenceWarning)\n",
      "/data/home/a1singh/anaconda3/lib/python3.6/site-packages/sklearn/linear_model/coordinate_descent.py:484: ConvergenceWarning: Objective did not converge. You might want to increase the number of iterations. Fitting data with very small alpha may cause precision problems.\n",
      "  ConvergenceWarning)\n",
      "/data/home/a1singh/anaconda3/lib/python3.6/site-packages/sklearn/linear_model/coordinate_descent.py:484: ConvergenceWarning: Objective did not converge. You might want to increase the number of iterations. Fitting data with very small alpha may cause precision problems.\n",
      "  ConvergenceWarning)\n",
      "/data/home/a1singh/anaconda3/lib/python3.6/site-packages/sklearn/linear_model/coordinate_descent.py:484: ConvergenceWarning: Objective did not converge. You might want to increase the number of iterations. Fitting data with very small alpha may cause precision problems.\n",
      "  ConvergenceWarning)\n",
      "/data/home/a1singh/anaconda3/lib/python3.6/site-packages/sklearn/linear_model/coordinate_descent.py:484: ConvergenceWarning: Objective did not converge. You might want to increase the number of iterations. Fitting data with very small alpha may cause precision problems.\n",
      "  ConvergenceWarning)\n",
      "/data/home/a1singh/anaconda3/lib/python3.6/site-packages/sklearn/linear_model/coordinate_descent.py:484: ConvergenceWarning: Objective did not converge. You might want to increase the number of iterations. Fitting data with very small alpha may cause precision problems.\n",
      "  ConvergenceWarning)\n",
      "/data/home/a1singh/anaconda3/lib/python3.6/site-packages/sklearn/linear_model/coordinate_descent.py:484: ConvergenceWarning: Objective did not converge. You might want to increase the number of iterations. Fitting data with very small alpha may cause precision problems.\n",
      "  ConvergenceWarning)\n",
      "/data/home/a1singh/anaconda3/lib/python3.6/site-packages/sklearn/linear_model/coordinate_descent.py:484: ConvergenceWarning: Objective did not converge. You might want to increase the number of iterations. Fitting data with very small alpha may cause precision problems.\n",
      "  ConvergenceWarning)\n",
      "/data/home/a1singh/anaconda3/lib/python3.6/site-packages/sklearn/linear_model/coordinate_descent.py:484: ConvergenceWarning: Objective did not converge. You might want to increase the number of iterations. Fitting data with very small alpha may cause precision problems.\n",
      "  ConvergenceWarning)\n",
      "/data/home/a1singh/anaconda3/lib/python3.6/site-packages/sklearn/linear_model/coordinate_descent.py:484: ConvergenceWarning: Objective did not converge. You might want to increase the number of iterations. Fitting data with very small alpha may cause precision problems.\n",
      "  ConvergenceWarning)\n",
      "/data/home/a1singh/anaconda3/lib/python3.6/site-packages/sklearn/linear_model/coordinate_descent.py:484: ConvergenceWarning: Objective did not converge. You might want to increase the number of iterations. Fitting data with very small alpha may cause precision problems.\n",
      "  ConvergenceWarning)\n",
      "/data/home/a1singh/anaconda3/lib/python3.6/site-packages/sklearn/linear_model/coordinate_descent.py:484: ConvergenceWarning: Objective did not converge. You might want to increase the number of iterations. Fitting data with very small alpha may cause precision problems.\n",
      "  ConvergenceWarning)\n",
      "/data/home/a1singh/anaconda3/lib/python3.6/site-packages/sklearn/linear_model/coordinate_descent.py:484: ConvergenceWarning: Objective did not converge. You might want to increase the number of iterations. Fitting data with very small alpha may cause precision problems.\n",
      "  ConvergenceWarning)\n",
      "/data/home/a1singh/anaconda3/lib/python3.6/site-packages/sklearn/linear_model/coordinate_descent.py:484: ConvergenceWarning: Objective did not converge. You might want to increase the number of iterations. Fitting data with very small alpha may cause precision problems.\n",
      "  ConvergenceWarning)\n",
      "/data/home/a1singh/anaconda3/lib/python3.6/site-packages/sklearn/linear_model/coordinate_descent.py:484: ConvergenceWarning: Objective did not converge. You might want to increase the number of iterations. Fitting data with very small alpha may cause precision problems.\n",
      "  ConvergenceWarning)\n",
      "/data/home/a1singh/anaconda3/lib/python3.6/site-packages/sklearn/linear_model/coordinate_descent.py:484: ConvergenceWarning: Objective did not converge. You might want to increase the number of iterations. Fitting data with very small alpha may cause precision problems.\n",
      "  ConvergenceWarning)\n",
      "/data/home/a1singh/anaconda3/lib/python3.6/site-packages/sklearn/linear_model/coordinate_descent.py:484: ConvergenceWarning: Objective did not converge. You might want to increase the number of iterations. Fitting data with very small alpha may cause precision problems.\n",
      "  ConvergenceWarning)\n",
      "/data/home/a1singh/anaconda3/lib/python3.6/site-packages/sklearn/linear_model/coordinate_descent.py:484: ConvergenceWarning: Objective did not converge. You might want to increase the number of iterations. Fitting data with very small alpha may cause precision problems.\n",
      "  ConvergenceWarning)\n",
      "/data/home/a1singh/anaconda3/lib/python3.6/site-packages/sklearn/linear_model/coordinate_descent.py:484: ConvergenceWarning: Objective did not converge. You might want to increase the number of iterations. Fitting data with very small alpha may cause precision problems.\n",
      "  ConvergenceWarning)\n",
      "/data/home/a1singh/anaconda3/lib/python3.6/site-packages/sklearn/linear_model/coordinate_descent.py:484: ConvergenceWarning: Objective did not converge. You might want to increase the number of iterations. Fitting data with very small alpha may cause precision problems.\n",
      "  ConvergenceWarning)\n",
      "/data/home/a1singh/anaconda3/lib/python3.6/site-packages/sklearn/linear_model/coordinate_descent.py:484: ConvergenceWarning: Objective did not converge. You might want to increase the number of iterations. Fitting data with very small alpha may cause precision problems.\n",
      "  ConvergenceWarning)\n",
      "/data/home/a1singh/anaconda3/lib/python3.6/site-packages/sklearn/linear_model/coordinate_descent.py:484: ConvergenceWarning: Objective did not converge. You might want to increase the number of iterations. Fitting data with very small alpha may cause precision problems.\n",
      "  ConvergenceWarning)\n",
      "/data/home/a1singh/anaconda3/lib/python3.6/site-packages/sklearn/linear_model/coordinate_descent.py:484: ConvergenceWarning: Objective did not converge. You might want to increase the number of iterations. Fitting data with very small alpha may cause precision problems.\n",
      "  ConvergenceWarning)\n",
      "/data/home/a1singh/anaconda3/lib/python3.6/site-packages/sklearn/linear_model/coordinate_descent.py:484: ConvergenceWarning: Objective did not converge. You might want to increase the number of iterations. Fitting data with very small alpha may cause precision problems.\n",
      "  ConvergenceWarning)\n",
      "/data/home/a1singh/anaconda3/lib/python3.6/site-packages/sklearn/linear_model/coordinate_descent.py:484: ConvergenceWarning: Objective did not converge. You might want to increase the number of iterations. Fitting data with very small alpha may cause precision problems.\n",
      "  ConvergenceWarning)\n",
      "/data/home/a1singh/anaconda3/lib/python3.6/site-packages/sklearn/linear_model/coordinate_descent.py:484: ConvergenceWarning: Objective did not converge. You might want to increase the number of iterations. Fitting data with very small alpha may cause precision problems.\n",
      "  ConvergenceWarning)\n",
      "/data/home/a1singh/anaconda3/lib/python3.6/site-packages/sklearn/linear_model/coordinate_descent.py:484: ConvergenceWarning: Objective did not converge. You might want to increase the number of iterations. Fitting data with very small alpha may cause precision problems.\n",
      "  ConvergenceWarning)\n",
      "/data/home/a1singh/anaconda3/lib/python3.6/site-packages/sklearn/linear_model/coordinate_descent.py:484: ConvergenceWarning: Objective did not converge. You might want to increase the number of iterations. Fitting data with very small alpha may cause precision problems.\n",
      "  ConvergenceWarning)\n",
      "/data/home/a1singh/anaconda3/lib/python3.6/site-packages/sklearn/linear_model/coordinate_descent.py:484: ConvergenceWarning: Objective did not converge. You might want to increase the number of iterations. Fitting data with very small alpha may cause precision problems.\n",
      "  ConvergenceWarning)\n",
      "/data/home/a1singh/anaconda3/lib/python3.6/site-packages/sklearn/linear_model/coordinate_descent.py:484: ConvergenceWarning: Objective did not converge. You might want to increase the number of iterations. Fitting data with very small alpha may cause precision problems.\n",
      "  ConvergenceWarning)\n",
      "/data/home/a1singh/anaconda3/lib/python3.6/site-packages/sklearn/linear_model/coordinate_descent.py:484: ConvergenceWarning: Objective did not converge. You might want to increase the number of iterations. Fitting data with very small alpha may cause precision problems.\n",
      "  ConvergenceWarning)\n",
      "/data/home/a1singh/anaconda3/lib/python3.6/site-packages/sklearn/linear_model/coordinate_descent.py:484: ConvergenceWarning: Objective did not converge. You might want to increase the number of iterations. Fitting data with very small alpha may cause precision problems.\n",
      "  ConvergenceWarning)\n",
      "/data/home/a1singh/anaconda3/lib/python3.6/site-packages/sklearn/linear_model/coordinate_descent.py:484: ConvergenceWarning: Objective did not converge. You might want to increase the number of iterations. Fitting data with very small alpha may cause precision problems.\n",
      "  ConvergenceWarning)\n",
      "/data/home/a1singh/anaconda3/lib/python3.6/site-packages/sklearn/linear_model/coordinate_descent.py:484: ConvergenceWarning: Objective did not converge. You might want to increase the number of iterations. Fitting data with very small alpha may cause precision problems.\n",
      "  ConvergenceWarning)\n",
      "/data/home/a1singh/anaconda3/lib/python3.6/site-packages/sklearn/linear_model/coordinate_descent.py:484: ConvergenceWarning: Objective did not converge. You might want to increase the number of iterations. Fitting data with very small alpha may cause precision problems.\n",
      "  ConvergenceWarning)\n",
      "/data/home/a1singh/anaconda3/lib/python3.6/site-packages/sklearn/linear_model/coordinate_descent.py:484: ConvergenceWarning: Objective did not converge. You might want to increase the number of iterations. Fitting data with very small alpha may cause precision problems.\n",
      "  ConvergenceWarning)\n",
      "/data/home/a1singh/anaconda3/lib/python3.6/site-packages/sklearn/linear_model/coordinate_descent.py:484: ConvergenceWarning: Objective did not converge. You might want to increase the number of iterations. Fitting data with very small alpha may cause precision problems.\n",
      "  ConvergenceWarning)\n",
      "/data/home/a1singh/anaconda3/lib/python3.6/site-packages/sklearn/linear_model/coordinate_descent.py:484: ConvergenceWarning: Objective did not converge. You might want to increase the number of iterations. Fitting data with very small alpha may cause precision problems.\n",
      "  ConvergenceWarning)\n",
      "/data/home/a1singh/anaconda3/lib/python3.6/site-packages/sklearn/linear_model/coordinate_descent.py:484: ConvergenceWarning: Objective did not converge. You might want to increase the number of iterations. Fitting data with very small alpha may cause precision problems.\n",
      "  ConvergenceWarning)\n",
      "/data/home/a1singh/anaconda3/lib/python3.6/site-packages/sklearn/linear_model/coordinate_descent.py:484: ConvergenceWarning: Objective did not converge. You might want to increase the number of iterations. Fitting data with very small alpha may cause precision problems.\n",
      "  ConvergenceWarning)\n",
      "/data/home/a1singh/anaconda3/lib/python3.6/site-packages/sklearn/linear_model/coordinate_descent.py:484: ConvergenceWarning: Objective did not converge. You might want to increase the number of iterations. Fitting data with very small alpha may cause precision problems.\n",
      "  ConvergenceWarning)\n",
      "/data/home/a1singh/anaconda3/lib/python3.6/site-packages/sklearn/linear_model/coordinate_descent.py:484: ConvergenceWarning: Objective did not converge. You might want to increase the number of iterations. Fitting data with very small alpha may cause precision problems.\n",
      "  ConvergenceWarning)\n",
      "/data/home/a1singh/anaconda3/lib/python3.6/site-packages/sklearn/linear_model/coordinate_descent.py:484: ConvergenceWarning: Objective did not converge. You might want to increase the number of iterations. Fitting data with very small alpha may cause precision problems.\n",
      "  ConvergenceWarning)\n",
      "/data/home/a1singh/anaconda3/lib/python3.6/site-packages/sklearn/linear_model/coordinate_descent.py:484: ConvergenceWarning: Objective did not converge. You might want to increase the number of iterations. Fitting data with very small alpha may cause precision problems.\n",
      "  ConvergenceWarning)\n",
      "/data/home/a1singh/anaconda3/lib/python3.6/site-packages/sklearn/linear_model/coordinate_descent.py:484: ConvergenceWarning: Objective did not converge. You might want to increase the number of iterations. Fitting data with very small alpha may cause precision problems.\n",
      "  ConvergenceWarning)\n",
      "/data/home/a1singh/anaconda3/lib/python3.6/site-packages/sklearn/linear_model/coordinate_descent.py:484: ConvergenceWarning: Objective did not converge. You might want to increase the number of iterations. Fitting data with very small alpha may cause precision problems.\n",
      "  ConvergenceWarning)\n",
      "/data/home/a1singh/anaconda3/lib/python3.6/site-packages/sklearn/linear_model/coordinate_descent.py:484: ConvergenceWarning: Objective did not converge. You might want to increase the number of iterations. Fitting data with very small alpha may cause precision problems.\n",
      "  ConvergenceWarning)\n",
      "/data/home/a1singh/anaconda3/lib/python3.6/site-packages/sklearn/linear_model/coordinate_descent.py:484: ConvergenceWarning: Objective did not converge. You might want to increase the number of iterations. Fitting data with very small alpha may cause precision problems.\n",
      "  ConvergenceWarning)\n",
      "/data/home/a1singh/anaconda3/lib/python3.6/site-packages/sklearn/linear_model/coordinate_descent.py:484: ConvergenceWarning: Objective did not converge. You might want to increase the number of iterations. Fitting data with very small alpha may cause precision problems.\n",
      "  ConvergenceWarning)\n",
      "/data/home/a1singh/anaconda3/lib/python3.6/site-packages/sklearn/linear_model/coordinate_descent.py:484: ConvergenceWarning: Objective did not converge. You might want to increase the number of iterations. Fitting data with very small alpha may cause precision problems.\n",
      "  ConvergenceWarning)\n",
      "/data/home/a1singh/anaconda3/lib/python3.6/site-packages/sklearn/linear_model/coordinate_descent.py:484: ConvergenceWarning: Objective did not converge. You might want to increase the number of iterations. Fitting data with very small alpha may cause precision problems.\n",
      "  ConvergenceWarning)\n",
      "/data/home/a1singh/anaconda3/lib/python3.6/site-packages/sklearn/linear_model/coordinate_descent.py:484: ConvergenceWarning: Objective did not converge. You might want to increase the number of iterations. Fitting data with very small alpha may cause precision problems.\n",
      "  ConvergenceWarning)\n",
      "/data/home/a1singh/anaconda3/lib/python3.6/site-packages/sklearn/linear_model/coordinate_descent.py:484: ConvergenceWarning: Objective did not converge. You might want to increase the number of iterations. Fitting data with very small alpha may cause precision problems.\n",
      "  ConvergenceWarning)\n",
      "/data/home/a1singh/anaconda3/lib/python3.6/site-packages/sklearn/linear_model/coordinate_descent.py:484: ConvergenceWarning: Objective did not converge. You might want to increase the number of iterations. Fitting data with very small alpha may cause precision problems.\n",
      "  ConvergenceWarning)\n",
      "/data/home/a1singh/anaconda3/lib/python3.6/site-packages/sklearn/linear_model/coordinate_descent.py:484: ConvergenceWarning: Objective did not converge. You might want to increase the number of iterations. Fitting data with very small alpha may cause precision problems.\n",
      "  ConvergenceWarning)\n",
      "/data/home/a1singh/anaconda3/lib/python3.6/site-packages/sklearn/linear_model/coordinate_descent.py:484: ConvergenceWarning: Objective did not converge. You might want to increase the number of iterations. Fitting data with very small alpha may cause precision problems.\n",
      "  ConvergenceWarning)\n",
      "/data/home/a1singh/anaconda3/lib/python3.6/site-packages/sklearn/linear_model/coordinate_descent.py:484: ConvergenceWarning: Objective did not converge. You might want to increase the number of iterations. Fitting data with very small alpha may cause precision problems.\n",
      "  ConvergenceWarning)\n",
      "/data/home/a1singh/anaconda3/lib/python3.6/site-packages/sklearn/linear_model/coordinate_descent.py:484: ConvergenceWarning: Objective did not converge. You might want to increase the number of iterations. Fitting data with very small alpha may cause precision problems.\n",
      "  ConvergenceWarning)\n",
      "/data/home/a1singh/anaconda3/lib/python3.6/site-packages/sklearn/linear_model/coordinate_descent.py:484: ConvergenceWarning: Objective did not converge. You might want to increase the number of iterations. Fitting data with very small alpha may cause precision problems.\n",
      "  ConvergenceWarning)\n",
      "/data/home/a1singh/anaconda3/lib/python3.6/site-packages/sklearn/linear_model/coordinate_descent.py:484: ConvergenceWarning: Objective did not converge. You might want to increase the number of iterations. Fitting data with very small alpha may cause precision problems.\n",
      "  ConvergenceWarning)\n",
      "/data/home/a1singh/anaconda3/lib/python3.6/site-packages/sklearn/linear_model/coordinate_descent.py:484: ConvergenceWarning: Objective did not converge. You might want to increase the number of iterations. Fitting data with very small alpha may cause precision problems.\n",
      "  ConvergenceWarning)\n",
      "/data/home/a1singh/anaconda3/lib/python3.6/site-packages/sklearn/linear_model/coordinate_descent.py:484: ConvergenceWarning: Objective did not converge. You might want to increase the number of iterations. Fitting data with very small alpha may cause precision problems.\n",
      "  ConvergenceWarning)\n",
      "/data/home/a1singh/anaconda3/lib/python3.6/site-packages/sklearn/linear_model/coordinate_descent.py:484: ConvergenceWarning: Objective did not converge. You might want to increase the number of iterations. Fitting data with very small alpha may cause precision problems.\n",
      "  ConvergenceWarning)\n",
      "/data/home/a1singh/anaconda3/lib/python3.6/site-packages/sklearn/linear_model/coordinate_descent.py:484: ConvergenceWarning: Objective did not converge. You might want to increase the number of iterations. Fitting data with very small alpha may cause precision problems.\n",
      "  ConvergenceWarning)\n",
      "/data/home/a1singh/anaconda3/lib/python3.6/site-packages/sklearn/linear_model/coordinate_descent.py:484: ConvergenceWarning: Objective did not converge. You might want to increase the number of iterations. Fitting data with very small alpha may cause precision problems.\n",
      "  ConvergenceWarning)\n",
      "/data/home/a1singh/anaconda3/lib/python3.6/site-packages/sklearn/linear_model/coordinate_descent.py:484: ConvergenceWarning: Objective did not converge. You might want to increase the number of iterations. Fitting data with very small alpha may cause precision problems.\n",
      "  ConvergenceWarning)\n",
      "/data/home/a1singh/anaconda3/lib/python3.6/site-packages/sklearn/linear_model/coordinate_descent.py:484: ConvergenceWarning: Objective did not converge. You might want to increase the number of iterations. Fitting data with very small alpha may cause precision problems.\n",
      "  ConvergenceWarning)\n",
      "/data/home/a1singh/anaconda3/lib/python3.6/site-packages/sklearn/linear_model/coordinate_descent.py:484: ConvergenceWarning: Objective did not converge. You might want to increase the number of iterations. Fitting data with very small alpha may cause precision problems.\n",
      "  ConvergenceWarning)\n",
      "/data/home/a1singh/anaconda3/lib/python3.6/site-packages/sklearn/linear_model/coordinate_descent.py:484: ConvergenceWarning: Objective did not converge. You might want to increase the number of iterations. Fitting data with very small alpha may cause precision problems.\n",
      "  ConvergenceWarning)\n",
      "/data/home/a1singh/anaconda3/lib/python3.6/site-packages/sklearn/linear_model/coordinate_descent.py:484: ConvergenceWarning: Objective did not converge. You might want to increase the number of iterations. Fitting data with very small alpha may cause precision problems.\n",
      "  ConvergenceWarning)\n",
      "/data/home/a1singh/anaconda3/lib/python3.6/site-packages/sklearn/linear_model/coordinate_descent.py:484: ConvergenceWarning: Objective did not converge. You might want to increase the number of iterations. Fitting data with very small alpha may cause precision problems.\n",
      "  ConvergenceWarning)\n",
      "/data/home/a1singh/anaconda3/lib/python3.6/site-packages/sklearn/linear_model/coordinate_descent.py:484: ConvergenceWarning: Objective did not converge. You might want to increase the number of iterations. Fitting data with very small alpha may cause precision problems.\n",
      "  ConvergenceWarning)\n",
      "/data/home/a1singh/anaconda3/lib/python3.6/site-packages/sklearn/linear_model/coordinate_descent.py:484: ConvergenceWarning: Objective did not converge. You might want to increase the number of iterations. Fitting data with very small alpha may cause precision problems.\n",
      "  ConvergenceWarning)\n",
      "/data/home/a1singh/anaconda3/lib/python3.6/site-packages/sklearn/linear_model/coordinate_descent.py:484: ConvergenceWarning: Objective did not converge. You might want to increase the number of iterations. Fitting data with very small alpha may cause precision problems.\n",
      "  ConvergenceWarning)\n",
      "/data/home/a1singh/anaconda3/lib/python3.6/site-packages/sklearn/linear_model/coordinate_descent.py:484: ConvergenceWarning: Objective did not converge. You might want to increase the number of iterations. Fitting data with very small alpha may cause precision problems.\n",
      "  ConvergenceWarning)\n",
      "/data/home/a1singh/anaconda3/lib/python3.6/site-packages/sklearn/linear_model/coordinate_descent.py:484: ConvergenceWarning: Objective did not converge. You might want to increase the number of iterations. Fitting data with very small alpha may cause precision problems.\n",
      "  ConvergenceWarning)\n",
      "/data/home/a1singh/anaconda3/lib/python3.6/site-packages/sklearn/linear_model/coordinate_descent.py:484: ConvergenceWarning: Objective did not converge. You might want to increase the number of iterations. Fitting data with very small alpha may cause precision problems.\n",
      "  ConvergenceWarning)\n",
      "/data/home/a1singh/anaconda3/lib/python3.6/site-packages/sklearn/linear_model/coordinate_descent.py:484: ConvergenceWarning: Objective did not converge. You might want to increase the number of iterations. Fitting data with very small alpha may cause precision problems.\n",
      "  ConvergenceWarning)\n",
      "/data/home/a1singh/anaconda3/lib/python3.6/site-packages/sklearn/linear_model/coordinate_descent.py:484: ConvergenceWarning: Objective did not converge. You might want to increase the number of iterations. Fitting data with very small alpha may cause precision problems.\n",
      "  ConvergenceWarning)\n",
      "/data/home/a1singh/anaconda3/lib/python3.6/site-packages/sklearn/linear_model/coordinate_descent.py:484: ConvergenceWarning: Objective did not converge. You might want to increase the number of iterations. Fitting data with very small alpha may cause precision problems.\n",
      "  ConvergenceWarning)\n",
      "/data/home/a1singh/anaconda3/lib/python3.6/site-packages/sklearn/linear_model/coordinate_descent.py:484: ConvergenceWarning: Objective did not converge. You might want to increase the number of iterations. Fitting data with very small alpha may cause precision problems.\n",
      "  ConvergenceWarning)\n",
      "/data/home/a1singh/anaconda3/lib/python3.6/site-packages/sklearn/linear_model/coordinate_descent.py:484: ConvergenceWarning: Objective did not converge. You might want to increase the number of iterations. Fitting data with very small alpha may cause precision problems.\n",
      "  ConvergenceWarning)\n",
      "/data/home/a1singh/anaconda3/lib/python3.6/site-packages/sklearn/linear_model/coordinate_descent.py:484: ConvergenceWarning: Objective did not converge. You might want to increase the number of iterations. Fitting data with very small alpha may cause precision problems.\n",
      "  ConvergenceWarning)\n",
      "/data/home/a1singh/anaconda3/lib/python3.6/site-packages/sklearn/linear_model/coordinate_descent.py:484: ConvergenceWarning: Objective did not converge. You might want to increase the number of iterations. Fitting data with very small alpha may cause precision problems.\n",
      "  ConvergenceWarning)\n",
      "/data/home/a1singh/anaconda3/lib/python3.6/site-packages/sklearn/linear_model/coordinate_descent.py:484: ConvergenceWarning: Objective did not converge. You might want to increase the number of iterations. Fitting data with very small alpha may cause precision problems.\n",
      "  ConvergenceWarning)\n",
      "/data/home/a1singh/anaconda3/lib/python3.6/site-packages/sklearn/linear_model/coordinate_descent.py:484: ConvergenceWarning: Objective did not converge. You might want to increase the number of iterations. Fitting data with very small alpha may cause precision problems.\n",
      "  ConvergenceWarning)\n",
      "/data/home/a1singh/anaconda3/lib/python3.6/site-packages/sklearn/linear_model/coordinate_descent.py:484: ConvergenceWarning: Objective did not converge. You might want to increase the number of iterations. Fitting data with very small alpha may cause precision problems.\n",
      "  ConvergenceWarning)\n",
      "/data/home/a1singh/anaconda3/lib/python3.6/site-packages/sklearn/linear_model/coordinate_descent.py:484: ConvergenceWarning: Objective did not converge. You might want to increase the number of iterations. Fitting data with very small alpha may cause precision problems.\n",
      "  ConvergenceWarning)\n",
      "/data/home/a1singh/anaconda3/lib/python3.6/site-packages/sklearn/linear_model/coordinate_descent.py:484: ConvergenceWarning: Objective did not converge. You might want to increase the number of iterations. Fitting data with very small alpha may cause precision problems.\n",
      "  ConvergenceWarning)\n",
      "/data/home/a1singh/anaconda3/lib/python3.6/site-packages/sklearn/linear_model/coordinate_descent.py:484: ConvergenceWarning: Objective did not converge. You might want to increase the number of iterations. Fitting data with very small alpha may cause precision problems.\n",
      "  ConvergenceWarning)\n",
      "/data/home/a1singh/anaconda3/lib/python3.6/site-packages/sklearn/linear_model/coordinate_descent.py:484: ConvergenceWarning: Objective did not converge. You might want to increase the number of iterations. Fitting data with very small alpha may cause precision problems.\n",
      "  ConvergenceWarning)\n",
      "/data/home/a1singh/anaconda3/lib/python3.6/site-packages/sklearn/linear_model/coordinate_descent.py:484: ConvergenceWarning: Objective did not converge. You might want to increase the number of iterations. Fitting data with very small alpha may cause precision problems.\n",
      "  ConvergenceWarning)\n",
      "/data/home/a1singh/anaconda3/lib/python3.6/site-packages/sklearn/linear_model/coordinate_descent.py:484: ConvergenceWarning: Objective did not converge. You might want to increase the number of iterations. Fitting data with very small alpha may cause precision problems.\n",
      "  ConvergenceWarning)\n",
      "/data/home/a1singh/anaconda3/lib/python3.6/site-packages/sklearn/linear_model/coordinate_descent.py:484: ConvergenceWarning: Objective did not converge. You might want to increase the number of iterations. Fitting data with very small alpha may cause precision problems.\n",
      "  ConvergenceWarning)\n",
      "/data/home/a1singh/anaconda3/lib/python3.6/site-packages/sklearn/linear_model/coordinate_descent.py:484: ConvergenceWarning: Objective did not converge. You might want to increase the number of iterations. Fitting data with very small alpha may cause precision problems.\n",
      "  ConvergenceWarning)\n",
      "/data/home/a1singh/anaconda3/lib/python3.6/site-packages/sklearn/linear_model/coordinate_descent.py:484: ConvergenceWarning: Objective did not converge. You might want to increase the number of iterations. Fitting data with very small alpha may cause precision problems.\n",
      "  ConvergenceWarning)\n",
      "/data/home/a1singh/anaconda3/lib/python3.6/site-packages/sklearn/linear_model/coordinate_descent.py:484: ConvergenceWarning: Objective did not converge. You might want to increase the number of iterations. Fitting data with very small alpha may cause precision problems.\n",
      "  ConvergenceWarning)\n",
      "/data/home/a1singh/anaconda3/lib/python3.6/site-packages/sklearn/linear_model/coordinate_descent.py:484: ConvergenceWarning: Objective did not converge. You might want to increase the number of iterations. Fitting data with very small alpha may cause precision problems.\n",
      "  ConvergenceWarning)\n",
      "/data/home/a1singh/anaconda3/lib/python3.6/site-packages/sklearn/linear_model/coordinate_descent.py:484: ConvergenceWarning: Objective did not converge. You might want to increase the number of iterations. Fitting data with very small alpha may cause precision problems.\n",
      "  ConvergenceWarning)\n",
      "/data/home/a1singh/anaconda3/lib/python3.6/site-packages/sklearn/linear_model/coordinate_descent.py:484: ConvergenceWarning: Objective did not converge. You might want to increase the number of iterations. Fitting data with very small alpha may cause precision problems.\n",
      "  ConvergenceWarning)\n",
      "/data/home/a1singh/anaconda3/lib/python3.6/site-packages/sklearn/linear_model/coordinate_descent.py:484: ConvergenceWarning: Objective did not converge. You might want to increase the number of iterations. Fitting data with very small alpha may cause precision problems.\n",
      "  ConvergenceWarning)\n",
      "/data/home/a1singh/anaconda3/lib/python3.6/site-packages/sklearn/linear_model/coordinate_descent.py:484: ConvergenceWarning: Objective did not converge. You might want to increase the number of iterations. Fitting data with very small alpha may cause precision problems.\n",
      "  ConvergenceWarning)\n",
      "/data/home/a1singh/anaconda3/lib/python3.6/site-packages/sklearn/linear_model/coordinate_descent.py:484: ConvergenceWarning: Objective did not converge. You might want to increase the number of iterations. Fitting data with very small alpha may cause precision problems.\n",
      "  ConvergenceWarning)\n",
      "/data/home/a1singh/anaconda3/lib/python3.6/site-packages/sklearn/linear_model/coordinate_descent.py:484: ConvergenceWarning: Objective did not converge. You might want to increase the number of iterations. Fitting data with very small alpha may cause precision problems.\n",
      "  ConvergenceWarning)\n",
      "/data/home/a1singh/anaconda3/lib/python3.6/site-packages/sklearn/linear_model/coordinate_descent.py:484: ConvergenceWarning: Objective did not converge. You might want to increase the number of iterations. Fitting data with very small alpha may cause precision problems.\n",
      "  ConvergenceWarning)\n",
      "/data/home/a1singh/anaconda3/lib/python3.6/site-packages/sklearn/linear_model/coordinate_descent.py:484: ConvergenceWarning: Objective did not converge. You might want to increase the number of iterations. Fitting data with very small alpha may cause precision problems.\n",
      "  ConvergenceWarning)\n",
      "/data/home/a1singh/anaconda3/lib/python3.6/site-packages/sklearn/linear_model/coordinate_descent.py:484: ConvergenceWarning: Objective did not converge. You might want to increase the number of iterations. Fitting data with very small alpha may cause precision problems.\n",
      "  ConvergenceWarning)\n",
      "/data/home/a1singh/anaconda3/lib/python3.6/site-packages/sklearn/linear_model/coordinate_descent.py:484: ConvergenceWarning: Objective did not converge. You might want to increase the number of iterations. Fitting data with very small alpha may cause precision problems.\n",
      "  ConvergenceWarning)\n",
      "/data/home/a1singh/anaconda3/lib/python3.6/site-packages/sklearn/linear_model/coordinate_descent.py:484: ConvergenceWarning: Objective did not converge. You might want to increase the number of iterations. Fitting data with very small alpha may cause precision problems.\n",
      "  ConvergenceWarning)\n",
      "/data/home/a1singh/anaconda3/lib/python3.6/site-packages/sklearn/linear_model/coordinate_descent.py:484: ConvergenceWarning: Objective did not converge. You might want to increase the number of iterations. Fitting data with very small alpha may cause precision problems.\n",
      "  ConvergenceWarning)\n",
      "/data/home/a1singh/anaconda3/lib/python3.6/site-packages/sklearn/linear_model/coordinate_descent.py:484: ConvergenceWarning: Objective did not converge. You might want to increase the number of iterations. Fitting data with very small alpha may cause precision problems.\n",
      "  ConvergenceWarning)\n",
      "/data/home/a1singh/anaconda3/lib/python3.6/site-packages/sklearn/linear_model/coordinate_descent.py:484: ConvergenceWarning: Objective did not converge. You might want to increase the number of iterations. Fitting data with very small alpha may cause precision problems.\n",
      "  ConvergenceWarning)\n",
      "/data/home/a1singh/anaconda3/lib/python3.6/site-packages/sklearn/linear_model/coordinate_descent.py:484: ConvergenceWarning: Objective did not converge. You might want to increase the number of iterations. Fitting data with very small alpha may cause precision problems.\n",
      "  ConvergenceWarning)\n",
      "/data/home/a1singh/anaconda3/lib/python3.6/site-packages/sklearn/linear_model/coordinate_descent.py:484: ConvergenceWarning: Objective did not converge. You might want to increase the number of iterations. Fitting data with very small alpha may cause precision problems.\n",
      "  ConvergenceWarning)\n",
      "/data/home/a1singh/anaconda3/lib/python3.6/site-packages/sklearn/linear_model/coordinate_descent.py:484: ConvergenceWarning: Objective did not converge. You might want to increase the number of iterations. Fitting data with very small alpha may cause precision problems.\n",
      "  ConvergenceWarning)\n",
      "/data/home/a1singh/anaconda3/lib/python3.6/site-packages/sklearn/linear_model/coordinate_descent.py:484: ConvergenceWarning: Objective did not converge. You might want to increase the number of iterations. Fitting data with very small alpha may cause precision problems.\n",
      "  ConvergenceWarning)\n",
      "/data/home/a1singh/anaconda3/lib/python3.6/site-packages/sklearn/linear_model/coordinate_descent.py:484: ConvergenceWarning: Objective did not converge. You might want to increase the number of iterations. Fitting data with very small alpha may cause precision problems.\n",
      "  ConvergenceWarning)\n",
      "/data/home/a1singh/anaconda3/lib/python3.6/site-packages/sklearn/linear_model/coordinate_descent.py:484: ConvergenceWarning: Objective did not converge. You might want to increase the number of iterations. Fitting data with very small alpha may cause precision problems.\n",
      "  ConvergenceWarning)\n",
      "/data/home/a1singh/anaconda3/lib/python3.6/site-packages/sklearn/linear_model/coordinate_descent.py:484: ConvergenceWarning: Objective did not converge. You might want to increase the number of iterations. Fitting data with very small alpha may cause precision problems.\n",
      "  ConvergenceWarning)\n",
      "/data/home/a1singh/anaconda3/lib/python3.6/site-packages/sklearn/linear_model/coordinate_descent.py:484: ConvergenceWarning: Objective did not converge. You might want to increase the number of iterations. Fitting data with very small alpha may cause precision problems.\n",
      "  ConvergenceWarning)\n",
      "/data/home/a1singh/anaconda3/lib/python3.6/site-packages/sklearn/linear_model/coordinate_descent.py:484: ConvergenceWarning: Objective did not converge. You might want to increase the number of iterations. Fitting data with very small alpha may cause precision problems.\n",
      "  ConvergenceWarning)\n",
      "/data/home/a1singh/anaconda3/lib/python3.6/site-packages/sklearn/linear_model/coordinate_descent.py:484: ConvergenceWarning: Objective did not converge. You might want to increase the number of iterations. Fitting data with very small alpha may cause precision problems.\n",
      "  ConvergenceWarning)\n",
      "/data/home/a1singh/anaconda3/lib/python3.6/site-packages/sklearn/linear_model/coordinate_descent.py:484: ConvergenceWarning: Objective did not converge. You might want to increase the number of iterations. Fitting data with very small alpha may cause precision problems.\n",
      "  ConvergenceWarning)\n",
      "/data/home/a1singh/anaconda3/lib/python3.6/site-packages/sklearn/linear_model/coordinate_descent.py:484: ConvergenceWarning: Objective did not converge. You might want to increase the number of iterations. Fitting data with very small alpha may cause precision problems.\n",
      "  ConvergenceWarning)\n",
      "/data/home/a1singh/anaconda3/lib/python3.6/site-packages/sklearn/linear_model/coordinate_descent.py:484: ConvergenceWarning: Objective did not converge. You might want to increase the number of iterations. Fitting data with very small alpha may cause precision problems.\n",
      "  ConvergenceWarning)\n",
      "/data/home/a1singh/anaconda3/lib/python3.6/site-packages/sklearn/linear_model/coordinate_descent.py:484: ConvergenceWarning: Objective did not converge. You might want to increase the number of iterations. Fitting data with very small alpha may cause precision problems.\n",
      "  ConvergenceWarning)\n",
      "/data/home/a1singh/anaconda3/lib/python3.6/site-packages/sklearn/linear_model/coordinate_descent.py:484: ConvergenceWarning: Objective did not converge. You might want to increase the number of iterations. Fitting data with very small alpha may cause precision problems.\n",
      "  ConvergenceWarning)\n",
      "/data/home/a1singh/anaconda3/lib/python3.6/site-packages/sklearn/linear_model/coordinate_descent.py:484: ConvergenceWarning: Objective did not converge. You might want to increase the number of iterations. Fitting data with very small alpha may cause precision problems.\n",
      "  ConvergenceWarning)\n",
      "/data/home/a1singh/anaconda3/lib/python3.6/site-packages/sklearn/linear_model/coordinate_descent.py:484: ConvergenceWarning: Objective did not converge. You might want to increase the number of iterations. Fitting data with very small alpha may cause precision problems.\n",
      "  ConvergenceWarning)\n",
      "/data/home/a1singh/anaconda3/lib/python3.6/site-packages/sklearn/linear_model/coordinate_descent.py:484: ConvergenceWarning: Objective did not converge. You might want to increase the number of iterations. Fitting data with very small alpha may cause precision problems.\n",
      "  ConvergenceWarning)\n",
      "/data/home/a1singh/anaconda3/lib/python3.6/site-packages/sklearn/linear_model/coordinate_descent.py:484: ConvergenceWarning: Objective did not converge. You might want to increase the number of iterations. Fitting data with very small alpha may cause precision problems.\n",
      "  ConvergenceWarning)\n",
      "/data/home/a1singh/anaconda3/lib/python3.6/site-packages/sklearn/linear_model/coordinate_descent.py:484: ConvergenceWarning: Objective did not converge. You might want to increase the number of iterations. Fitting data with very small alpha may cause precision problems.\n",
      "  ConvergenceWarning)\n",
      "/data/home/a1singh/anaconda3/lib/python3.6/site-packages/sklearn/linear_model/coordinate_descent.py:484: ConvergenceWarning: Objective did not converge. You might want to increase the number of iterations. Fitting data with very small alpha may cause precision problems.\n",
      "  ConvergenceWarning)\n",
      "/data/home/a1singh/anaconda3/lib/python3.6/site-packages/sklearn/linear_model/coordinate_descent.py:484: ConvergenceWarning: Objective did not converge. You might want to increase the number of iterations. Fitting data with very small alpha may cause precision problems.\n",
      "  ConvergenceWarning)\n",
      "/data/home/a1singh/anaconda3/lib/python3.6/site-packages/sklearn/linear_model/coordinate_descent.py:484: ConvergenceWarning: Objective did not converge. You might want to increase the number of iterations. Fitting data with very small alpha may cause precision problems.\n",
      "  ConvergenceWarning)\n",
      "/data/home/a1singh/anaconda3/lib/python3.6/site-packages/sklearn/linear_model/coordinate_descent.py:484: ConvergenceWarning: Objective did not converge. You might want to increase the number of iterations. Fitting data with very small alpha may cause precision problems.\n",
      "  ConvergenceWarning)\n",
      "/data/home/a1singh/anaconda3/lib/python3.6/site-packages/sklearn/linear_model/coordinate_descent.py:484: ConvergenceWarning: Objective did not converge. You might want to increase the number of iterations. Fitting data with very small alpha may cause precision problems.\n",
      "  ConvergenceWarning)\n",
      "/data/home/a1singh/anaconda3/lib/python3.6/site-packages/sklearn/linear_model/coordinate_descent.py:484: ConvergenceWarning: Objective did not converge. You might want to increase the number of iterations. Fitting data with very small alpha may cause precision problems.\n",
      "  ConvergenceWarning)\n",
      "/data/home/a1singh/anaconda3/lib/python3.6/site-packages/sklearn/linear_model/coordinate_descent.py:484: ConvergenceWarning: Objective did not converge. You might want to increase the number of iterations. Fitting data with very small alpha may cause precision problems.\n",
      "  ConvergenceWarning)\n",
      "/data/home/a1singh/anaconda3/lib/python3.6/site-packages/sklearn/linear_model/coordinate_descent.py:484: ConvergenceWarning: Objective did not converge. You might want to increase the number of iterations. Fitting data with very small alpha may cause precision problems.\n",
      "  ConvergenceWarning)\n",
      "/data/home/a1singh/anaconda3/lib/python3.6/site-packages/sklearn/linear_model/coordinate_descent.py:484: ConvergenceWarning: Objective did not converge. You might want to increase the number of iterations. Fitting data with very small alpha may cause precision problems.\n",
      "  ConvergenceWarning)\n",
      "/data/home/a1singh/anaconda3/lib/python3.6/site-packages/sklearn/linear_model/coordinate_descent.py:484: ConvergenceWarning: Objective did not converge. You might want to increase the number of iterations. Fitting data with very small alpha may cause precision problems.\n",
      "  ConvergenceWarning)\n",
      "/data/home/a1singh/anaconda3/lib/python3.6/site-packages/sklearn/linear_model/coordinate_descent.py:484: ConvergenceWarning: Objective did not converge. You might want to increase the number of iterations. Fitting data with very small alpha may cause precision problems.\n",
      "  ConvergenceWarning)\n",
      "/data/home/a1singh/anaconda3/lib/python3.6/site-packages/sklearn/linear_model/coordinate_descent.py:484: ConvergenceWarning: Objective did not converge. You might want to increase the number of iterations. Fitting data with very small alpha may cause precision problems.\n",
      "  ConvergenceWarning)\n",
      "/data/home/a1singh/anaconda3/lib/python3.6/site-packages/sklearn/linear_model/coordinate_descent.py:484: ConvergenceWarning: Objective did not converge. You might want to increase the number of iterations. Fitting data with very small alpha may cause precision problems.\n",
      "  ConvergenceWarning)\n",
      "/data/home/a1singh/anaconda3/lib/python3.6/site-packages/sklearn/linear_model/coordinate_descent.py:484: ConvergenceWarning: Objective did not converge. You might want to increase the number of iterations. Fitting data with very small alpha may cause precision problems.\n",
      "  ConvergenceWarning)\n",
      "/data/home/a1singh/anaconda3/lib/python3.6/site-packages/sklearn/linear_model/coordinate_descent.py:484: ConvergenceWarning: Objective did not converge. You might want to increase the number of iterations. Fitting data with very small alpha may cause precision problems.\n",
      "  ConvergenceWarning)\n",
      "/data/home/a1singh/anaconda3/lib/python3.6/site-packages/sklearn/linear_model/coordinate_descent.py:484: ConvergenceWarning: Objective did not converge. You might want to increase the number of iterations. Fitting data with very small alpha may cause precision problems.\n",
      "  ConvergenceWarning)\n",
      "/data/home/a1singh/anaconda3/lib/python3.6/site-packages/sklearn/linear_model/coordinate_descent.py:484: ConvergenceWarning: Objective did not converge. You might want to increase the number of iterations. Fitting data with very small alpha may cause precision problems.\n",
      "  ConvergenceWarning)\n",
      "/data/home/a1singh/anaconda3/lib/python3.6/site-packages/sklearn/linear_model/coordinate_descent.py:484: ConvergenceWarning: Objective did not converge. You might want to increase the number of iterations. Fitting data with very small alpha may cause precision problems.\n",
      "  ConvergenceWarning)\n",
      "/data/home/a1singh/anaconda3/lib/python3.6/site-packages/sklearn/linear_model/coordinate_descent.py:484: ConvergenceWarning: Objective did not converge. You might want to increase the number of iterations. Fitting data with very small alpha may cause precision problems.\n",
      "  ConvergenceWarning)\n",
      "/data/home/a1singh/anaconda3/lib/python3.6/site-packages/sklearn/linear_model/coordinate_descent.py:484: ConvergenceWarning: Objective did not converge. You might want to increase the number of iterations. Fitting data with very small alpha may cause precision problems.\n",
      "  ConvergenceWarning)\n",
      "/data/home/a1singh/anaconda3/lib/python3.6/site-packages/sklearn/linear_model/coordinate_descent.py:484: ConvergenceWarning: Objective did not converge. You might want to increase the number of iterations. Fitting data with very small alpha may cause precision problems.\n",
      "  ConvergenceWarning)\n",
      "/data/home/a1singh/anaconda3/lib/python3.6/site-packages/sklearn/linear_model/coordinate_descent.py:484: ConvergenceWarning: Objective did not converge. You might want to increase the number of iterations. Fitting data with very small alpha may cause precision problems.\n",
      "  ConvergenceWarning)\n",
      "/data/home/a1singh/anaconda3/lib/python3.6/site-packages/sklearn/linear_model/coordinate_descent.py:484: ConvergenceWarning: Objective did not converge. You might want to increase the number of iterations. Fitting data with very small alpha may cause precision problems.\n",
      "  ConvergenceWarning)\n",
      "/data/home/a1singh/anaconda3/lib/python3.6/site-packages/sklearn/linear_model/coordinate_descent.py:484: ConvergenceWarning: Objective did not converge. You might want to increase the number of iterations. Fitting data with very small alpha may cause precision problems.\n",
      "  ConvergenceWarning)\n",
      "/data/home/a1singh/anaconda3/lib/python3.6/site-packages/sklearn/linear_model/coordinate_descent.py:484: ConvergenceWarning: Objective did not converge. You might want to increase the number of iterations. Fitting data with very small alpha may cause precision problems.\n",
      "  ConvergenceWarning)\n",
      "/data/home/a1singh/anaconda3/lib/python3.6/site-packages/sklearn/linear_model/coordinate_descent.py:484: ConvergenceWarning: Objective did not converge. You might want to increase the number of iterations. Fitting data with very small alpha may cause precision problems.\n",
      "  ConvergenceWarning)\n",
      "/data/home/a1singh/anaconda3/lib/python3.6/site-packages/sklearn/linear_model/coordinate_descent.py:484: ConvergenceWarning: Objective did not converge. You might want to increase the number of iterations. Fitting data with very small alpha may cause precision problems.\n",
      "  ConvergenceWarning)\n",
      "/data/home/a1singh/anaconda3/lib/python3.6/site-packages/sklearn/linear_model/coordinate_descent.py:484: ConvergenceWarning: Objective did not converge. You might want to increase the number of iterations. Fitting data with very small alpha may cause precision problems.\n",
      "  ConvergenceWarning)\n",
      "/data/home/a1singh/anaconda3/lib/python3.6/site-packages/sklearn/linear_model/coordinate_descent.py:484: ConvergenceWarning: Objective did not converge. You might want to increase the number of iterations. Fitting data with very small alpha may cause precision problems.\n",
      "  ConvergenceWarning)\n",
      "/data/home/a1singh/anaconda3/lib/python3.6/site-packages/sklearn/linear_model/coordinate_descent.py:484: ConvergenceWarning: Objective did not converge. You might want to increase the number of iterations. Fitting data with very small alpha may cause precision problems.\n",
      "  ConvergenceWarning)\n",
      "/data/home/a1singh/anaconda3/lib/python3.6/site-packages/sklearn/linear_model/coordinate_descent.py:484: ConvergenceWarning: Objective did not converge. You might want to increase the number of iterations. Fitting data with very small alpha may cause precision problems.\n",
      "  ConvergenceWarning)\n",
      "/data/home/a1singh/anaconda3/lib/python3.6/site-packages/sklearn/linear_model/coordinate_descent.py:484: ConvergenceWarning: Objective did not converge. You might want to increase the number of iterations. Fitting data with very small alpha may cause precision problems.\n",
      "  ConvergenceWarning)\n",
      "/data/home/a1singh/anaconda3/lib/python3.6/site-packages/sklearn/linear_model/coordinate_descent.py:484: ConvergenceWarning: Objective did not converge. You might want to increase the number of iterations. Fitting data with very small alpha may cause precision problems.\n",
      "  ConvergenceWarning)\n",
      "/data/home/a1singh/anaconda3/lib/python3.6/site-packages/sklearn/linear_model/coordinate_descent.py:484: ConvergenceWarning: Objective did not converge. You might want to increase the number of iterations. Fitting data with very small alpha may cause precision problems.\n",
      "  ConvergenceWarning)\n",
      "/data/home/a1singh/anaconda3/lib/python3.6/site-packages/sklearn/linear_model/coordinate_descent.py:484: ConvergenceWarning: Objective did not converge. You might want to increase the number of iterations. Fitting data with very small alpha may cause precision problems.\n",
      "  ConvergenceWarning)\n",
      "/data/home/a1singh/anaconda3/lib/python3.6/site-packages/sklearn/linear_model/coordinate_descent.py:484: ConvergenceWarning: Objective did not converge. You might want to increase the number of iterations. Fitting data with very small alpha may cause precision problems.\n",
      "  ConvergenceWarning)\n",
      "/data/home/a1singh/anaconda3/lib/python3.6/site-packages/sklearn/linear_model/coordinate_descent.py:484: ConvergenceWarning: Objective did not converge. You might want to increase the number of iterations. Fitting data with very small alpha may cause precision problems.\n",
      "  ConvergenceWarning)\n",
      "/data/home/a1singh/anaconda3/lib/python3.6/site-packages/sklearn/linear_model/coordinate_descent.py:484: ConvergenceWarning: Objective did not converge. You might want to increase the number of iterations. Fitting data with very small alpha may cause precision problems.\n",
      "  ConvergenceWarning)\n",
      "/data/home/a1singh/anaconda3/lib/python3.6/site-packages/sklearn/linear_model/coordinate_descent.py:484: ConvergenceWarning: Objective did not converge. You might want to increase the number of iterations. Fitting data with very small alpha may cause precision problems.\n",
      "  ConvergenceWarning)\n",
      "/data/home/a1singh/anaconda3/lib/python3.6/site-packages/sklearn/linear_model/coordinate_descent.py:484: ConvergenceWarning: Objective did not converge. You might want to increase the number of iterations. Fitting data with very small alpha may cause precision problems.\n",
      "  ConvergenceWarning)\n",
      "/data/home/a1singh/anaconda3/lib/python3.6/site-packages/sklearn/linear_model/coordinate_descent.py:484: ConvergenceWarning: Objective did not converge. You might want to increase the number of iterations. Fitting data with very small alpha may cause precision problems.\n",
      "  ConvergenceWarning)\n",
      "/data/home/a1singh/anaconda3/lib/python3.6/site-packages/sklearn/linear_model/coordinate_descent.py:484: ConvergenceWarning: Objective did not converge. You might want to increase the number of iterations. Fitting data with very small alpha may cause precision problems.\n",
      "  ConvergenceWarning)\n",
      "/data/home/a1singh/anaconda3/lib/python3.6/site-packages/sklearn/linear_model/coordinate_descent.py:484: ConvergenceWarning: Objective did not converge. You might want to increase the number of iterations. Fitting data with very small alpha may cause precision problems.\n",
      "  ConvergenceWarning)\n",
      "/data/home/a1singh/anaconda3/lib/python3.6/site-packages/sklearn/linear_model/coordinate_descent.py:484: ConvergenceWarning: Objective did not converge. You might want to increase the number of iterations. Fitting data with very small alpha may cause precision problems.\n",
      "  ConvergenceWarning)\n",
      "/data/home/a1singh/anaconda3/lib/python3.6/site-packages/sklearn/linear_model/coordinate_descent.py:484: ConvergenceWarning: Objective did not converge. You might want to increase the number of iterations. Fitting data with very small alpha may cause precision problems.\n",
      "  ConvergenceWarning)\n"
     ]
    },
    {
     "name": "stdout",
     "output_type": "stream",
     "text": [
      "\n",
      "Best parameters set found on development set:\n",
      "\n",
      "{'alpha': 8.8862381627434068e-08, 'l1_ratio': 0.5}\n",
      "ElasticNet(alpha=8.8862381627434068e-08, copy_X=True, fit_intercept=True,\n",
      "      l1_ratio=0.5, max_iter=10000000.0, normalize=False, positive=False,\n",
      "      precompute=False, random_state=None, selection='cyclic', tol=1e-20,\n",
      "      warm_start=False)\n",
      "\n",
      "Full Test Set: 63\n"
     ]
    },
    {
     "name": "stderr",
     "output_type": "stream",
     "text": [
      "/data/home/a1singh/anaconda3/lib/python3.6/site-packages/sklearn/linear_model/coordinate_descent.py:484: ConvergenceWarning: Objective did not converge. You might want to increase the number of iterations. Fitting data with very small alpha may cause precision problems.\n",
      "  ConvergenceWarning)\n"
     ]
    },
    {
     "data": {
      "text/plain": [
       "array([  203.98,   164.88,    45.97,   120.19,   142.07,    97.83,\n",
       "        1732.64,  2306.07,  3444.3 ,  2397.91,  2607.84,  1331.2 ,\n",
       "        2000.17,  3152.83,  2486.13,  3034.04,  1723.63,  2754.95,\n",
       "        2762.97,  1445.01,  3040.59,  1323.62,  2940.97,  1423.13,\n",
       "        2657.91,  1365.13,  2274.86,  2089.36,   998.65,  2083.07,\n",
       "         297.21,   299.12,  1688.15,   323.21,  1364.75,  2271.12,\n",
       "         644.52,  1724.47,  1868.49,  2659.86,  2684.27,  1472.6 ,\n",
       "        1881.93,   300.32,  2470.53,   801.4 ,  1459.44,   504.92,\n",
       "        1627.26,  1802.26,   214.64,   747.33,  1135.84,  1146.09,\n",
       "         504.63,   198.28,  1628.58,  1808.07,  1031.47,  2262.51,\n",
       "        2106.02,   503.45,   216.58])"
      ]
     },
     "metadata": {},
     "output_type": "display_data"
    },
    {
     "data": {
      "text/plain": [
       "array([ 1011.79519561,   747.88619758,  -477.43651661,   240.71809537,\n",
       "         483.97719955,    38.75877891,  2409.546108  ,  2389.37132958,\n",
       "        2410.9417596 ,  2348.30909959,  2368.95899345,  2388.65279868,\n",
       "        2368.48387801,  2410.70420188,  2410.25878116,  2390.05430802,\n",
       "        2409.546108  ,  2348.54665731,  2389.84644502,  2409.30269253,\n",
       "        2390.05430802,  2347.35301097,  2348.75452032,  2368.00290483,\n",
       "        2348.54665731,  1496.25968909,  2286.85177765,  2266.2018838 ,\n",
       "        1100.9636448 ,  2286.85177765,   298.84387879,   257.54409108,\n",
       "        1891.55573337,   319.49377264,  1434.31000752,  2245.55198995,\n",
       "         691.09918427,  1829.60605181,  1891.55573337,  2589.79075235,\n",
       "        2651.74043391,  1454.95990138,  1850.25594566,   257.54409108,\n",
       "        2113.73938866,   897.44386779,  1383.96207614,   685.86346371,\n",
       "        1668.52096802,  1668.52096802,   405.22427418,   938.7436555 ,\n",
       "        1161.35286582,  1140.70297196,   644.563676  ,   425.87416804,\n",
       "        1647.87107417,  1647.87107417,  1182.00275967,  2093.08949481,\n",
       "        1891.13017834,   623.91378214,   446.52406189])"
      ]
     },
     "metadata": {},
     "output_type": "display_data"
    },
    {
     "name": "stdout",
     "output_type": "stream",
     "text": [
      "A: 6\n",
      "\n",
      "{{ scale_this: >>>>>>>>>>>>>>>>>>>>>>>>>>>>>>>>>>>>>>>>> Scaling X_train and X_test... }}\n",
      "\n"
     ]
    },
    {
     "data": {
      "text/plain": [
       "array([ 203.98,  164.88,   45.97,  120.19,  142.07,   97.83])"
      ]
     },
     "metadata": {},
     "output_type": "display_data"
    },
    {
     "data": {
      "text/plain": [
       "array([ 1011.79519561,   747.88619758,  -477.43651661,   240.71809537,\n",
       "         483.97719955,    38.75877891])"
      ]
     },
     "metadata": {},
     "output_type": "display_data"
    },
    {
     "name": "stdout",
     "output_type": "stream",
     "text": [
      "B: 19\n",
      "\n",
      "{{ scale_this: >>>>>>>>>>>>>>>>>>>>>>>>>>>>>>>>>>>>>>>>> Scaling X_train and X_test... }}\n",
      "\n"
     ]
    },
    {
     "data": {
      "text/plain": [
       "array([ 1732.64,  2306.07,  3444.3 ,  2397.91,  2607.84,  1331.2 ,\n",
       "        2000.17,  3152.83,  2486.13,  3034.04,  1723.63,  2754.95,\n",
       "        2762.97,  1445.01,  3040.59,  1323.62,  2940.97,  1423.13,  2657.91])"
      ]
     },
     "metadata": {},
     "output_type": "display_data"
    },
    {
     "data": {
      "text/plain": [
       "array([ 2409.546108  ,  2389.37132958,  2410.9417596 ,  2348.30909959,\n",
       "        2368.95899345,  2388.65279868,  2368.48387801,  2410.70420188,\n",
       "        2410.25878116,  2390.05430802,  2409.546108  ,  2348.54665731,\n",
       "        2389.84644502,  2409.30269253,  2390.05430802,  2347.35301097,\n",
       "        2348.75452032,  2368.00290483,  2348.54665731])"
      ]
     },
     "metadata": {},
     "output_type": "display_data"
    },
    {
     "name": "stdout",
     "output_type": "stream",
     "text": [
      "C: 19\n",
      "\n",
      "{{ scale_this: >>>>>>>>>>>>>>>>>>>>>>>>>>>>>>>>>>>>>>>>> Scaling X_train and X_test... }}\n",
      "\n"
     ]
    },
    {
     "data": {
      "text/plain": [
       "array([ 1365.13,  2274.86,  2089.36,   998.65,  2083.07,   297.21,\n",
       "         299.12,  1688.15,   323.21,  1364.75,  2271.12,   644.52,\n",
       "        1724.47,  1868.49,  2659.86,  2684.27,  1472.6 ,  1881.93,   300.32])"
      ]
     },
     "metadata": {},
     "output_type": "display_data"
    },
    {
     "data": {
      "text/plain": [
       "array([ 1496.25968909,  2286.85177765,  2266.2018838 ,  1100.9636448 ,\n",
       "        2286.85177765,   298.84387879,   257.54409108,  1891.55573337,\n",
       "         319.49377264,  1434.31000752,  2245.55198995,   691.09918427,\n",
       "        1829.60605181,  1891.55573337,  2589.79075235,  2651.74043391,\n",
       "        1454.95990138,  1850.25594566,   257.54409108])"
      ]
     },
     "metadata": {},
     "output_type": "display_data"
    },
    {
     "name": "stdout",
     "output_type": "stream",
     "text": [
      "D: 19\n",
      "\n",
      "{{ scale_this: >>>>>>>>>>>>>>>>>>>>>>>>>>>>>>>>>>>>>>>>> Scaling X_train and X_test... }}\n",
      "\n"
     ]
    },
    {
     "data": {
      "text/plain": [
       "array([ 2470.53,   801.4 ,  1459.44,   504.92,  1627.26,  1802.26,\n",
       "         214.64,   747.33,  1135.84,  1146.09,   504.63,   198.28,\n",
       "        1628.58,  1808.07,  1031.47,  2262.51,  2106.02,   503.45,   216.58])"
      ]
     },
     "metadata": {},
     "output_type": "display_data"
    },
    {
     "data": {
      "text/plain": [
       "array([ 2113.73938866,   897.44386779,  1383.96207614,   685.86346371,\n",
       "        1668.52096802,  1668.52096802,   405.22427418,   938.7436555 ,\n",
       "        1161.35286582,  1140.70297196,   644.563676  ,   425.87416804,\n",
       "        1647.87107417,  1647.87107417,  1182.00275967,  2093.08949481,\n",
       "        1891.13017834,   623.91378214,   446.52406189])"
      ]
     },
     "metadata": {},
     "output_type": "display_data"
    },
    {
     "name": "stdout",
     "output_type": "stream",
     "text": [
      "【【】】adding new model for datasetIPPD.pickle \n",
      "\n",
      "【【【】】】newScore: 1260.368193 \n",
      "____________________________________________________________________________________________________\n"
     ]
    }
   ],
   "source": [
    "t_elasticNet = wrapper([ElasticNetCVModel])"
   ]
  },
  {
   "cell_type": "code",
   "execution_count": 16,
   "metadata": {
    "collapsed": false
   },
   "outputs": [
    {
     "name": "stdout",
     "output_type": "stream",
     "text": [
      "________________________________________________________________________________\n",
      "Model: ElasticNet(alpha=8.8862381627434068e-08, copy_X=True, fit_intercept=True,\n",
      "      l1_ratio=0.5, max_iter=10000000.0, normalize=False, positive=False,\n",
      "      precompute=False, random_state=None, selection\n",
      "Train RMSE: 1260.368193 \n",
      "\n",
      "A...TestA RMSE   : 483.275795\n",
      "A...<<y_test_A Mean>>: 129.153333 \n",
      "\n",
      "B...TestB RMSE   : 662.242707\n",
      "B...<<y_test_B Mean>>: 2345.574211 \n",
      "\n",
      "C...TestC RMSE   : 95.168963\n",
      "C...<<y_test_C Mean>>: 1489.004737 \n",
      "\n",
      "D...TestD RMSE   : 167.101407\n",
      "D...<<y_test_D Mean>>: 1166.805263\n",
      "________________________________________________________________________________\n"
     ]
    }
   ],
   "source": [
    "t_print = t_elasticNet\n",
    "\n",
    "for key in t_print.keys():\n",
    "    print(80*'_')\n",
    "    \n",
    "    \n",
    "    print('Model: %s' % (str(t_print[key]['model'])[:200]))\n",
    "    print('Train RMSE: %f \\n' % (t_print[key]['train_rmse_cv_picking']))\n",
    "    \n",
    "    #print('Test RMSE   : %f' % (t_print[key]['test_rmse_reporting']))\n",
    "    #print('Overall Test Mean: %f \\n' % (t_print[key]['test_mean_y_comparing']))\n",
    "    \n",
    "    print('A...TestA RMSE   : %f' % (t_print[key]['test_rmse_reportingA']))\n",
    "    print('A...<<y_test_A Mean>>: %f \\n' % (t_print[key]['test_mean_y_comparingA']))\n",
    "    \n",
    "    print('B...TestB RMSE   : %f' % (t_print[key]['test_rmse_reportingB']))\n",
    "    print('B...<<y_test_B Mean>>: %f \\n' % (t_print[key]['test_mean_y_comparingB']))\n",
    "    \n",
    "    print('C...TestC RMSE   : %f' % (t_print[key]['test_rmse_reportingC']))\n",
    "    print('C...<<y_test_C Mean>>: %f \\n' % (t_print[key]['test_mean_y_comparingC']))\n",
    "    \n",
    "    print('D...TestD RMSE   : %f' % (t_print[key]['test_rmse_reportingD']))\n",
    "    print('D...<<y_test_D Mean>>: %f' % (t_print[key]['test_mean_y_comparingD']))\n",
    "    \n",
    "    print(80*'_')"
   ]
  },
  {
   "cell_type": "markdown",
   "metadata": {},
   "source": [
    "<:>:<:>:<:>:<:>:<:>:<:>:<:>:<:>:<:>:<:>:<:>:<:>:<:>:<:>:<:><:>:<:>:<:>:<:>:<:>:<:>:<:>:<:>:<:>:<:>:<:>:<:>:<:>:<:>:<:>\n",
    "<:>:<:>:<:>:<:>:<:>:<:>:<:>:<:>:<:>:<:>:<:>:<:>:<:>:<:>:<:><:>:<:>:<:>:<:>:<:>:<:>:<:>:<:>:<:>:<:>:<:>:<:>:<:>:<:>:<:>\n",
    "<:>:<:>:<:>:<:>:<:>:<:>:<:>:<:>:<:>:<:>:<:>:<:>:<:>:<:>:<:><:>:<:>:<:>:<:>:<:>:<:>:<:>:<:>:<:>:<:>:<:>:<:>:<:>:<:>:<:>\n",
    "<:>:<:>:<:>:<:>:<:>:<:>:<:>:<:>:<:>:<:>:<:>:<:>:<:>:<:>:<:><:>:<:>:<:>:<:>:<:>:<:>:<:>:<:>:<:>:<:>:<:>:<:>:<:>:<:>:<:>\n"
   ]
  },
  {
   "cell_type": "markdown",
   "metadata": {},
   "source": [
    "# Which features were given most weights by each model ?"
   ]
  },
  {
   "cell_type": "code",
   "execution_count": 14,
   "metadata": {
    "collapsed": false
   },
   "outputs": [],
   "source": [
    "names = ['ppn', 'sizeGB', 'ft1', 'ft2', 'ft3', 'ft4', 'ft5', 'ft6', 'ft7', 'ft8',\n",
    "        'ft9', 'ft10', 'ft11', 'ft12', 'ft13', 'ft14', 'ft15', 'ft16', 'ft17',\n",
    "        'ft18', 'ft24', 'ft25', 'ft19', 'ft39', 'ft20', 'ft33', 'ft21', 'ft35',\n",
    "        'ft22', 'ft23', 'ft34', 'ft36', 'ft37', 'ft38', 'ft40', 'ft41', 'ft42',\n",
    "        'ft43', 'ft44', 'ft45', 'ft46', 'ft48', 'ft47', 'ft49', 'ft51', 'ft50',\n",
    "        'ft52', 'ft53', 'ft54', 'ft55', 'ft26', 'ft27', 'ft28', 'ft29', 'ft30',\n",
    "        'ft31', 'ft32']"
   ]
  },
  {
   "cell_type": "code",
   "execution_count": 38,
   "metadata": {
    "collapsed": false
   },
   "outputs": [
    {
     "name": "stdout",
     "output_type": "stream",
     "text": [
      "[(1475.0915715623546, 'ft51'), (925.60897339281394, 'sizeGB'), (398.7030158286899, 'ft39'), (22.895218099165664, 'ppn'), (-0.0, 'ft9'), (-0.0, 'ft8'), (-0.0, 'ft7'), (-0.0, 'ft6'), (-0.0, 'ft55'), (0.0, 'ft54'), (0.0, 'ft53'), (0.0, 'ft52'), (0.0, 'ft50'), (-0.0, 'ft5'), (-0.0, 'ft49'), (-0.0, 'ft48'), (0.0, 'ft47'), (-0.0, 'ft46'), (-0.0, 'ft45'), (-0.0, 'ft44'), (-0.0, 'ft43'), (-0.0, 'ft42'), (0.0, 'ft41'), (0.0, 'ft4'), (0.0, 'ft38'), (0.0, 'ft37'), (-0.0, 'ft36'), (0.0, 'ft35'), (0.0, 'ft34'), (-0.0, 'ft33'), (-0.0, 'ft32'), (-0.0, 'ft30'), (-0.0, 'ft3'), (0.0, 'ft29'), (-0.0, 'ft28'), (-0.0, 'ft27'), (0.0, 'ft26'), (-0.0, 'ft25'), (0.0, 'ft24'), (0.0, 'ft23'), (0.0, 'ft22'), (0.0, 'ft21'), (-0.0, 'ft20'), (-0.0, 'ft2'), (-0.0, 'ft19'), (0.0, 'ft18'), (-0.0, 'ft17'), (-0.0, 'ft16'), (0.0, 'ft15'), (0.0, 'ft14'), (-0.0, 'ft13'), (0.0, 'ft12'), (-0.0, 'ft11'), (-0.0, 'ft10'), (-0.0, 'ft1'), (-890.54791484089878, 'ft40'), (-933.41573970070272, 'ft31')]\n"
     ]
    }
   ],
   "source": [
    "for v in t_lasso.values():\n",
    "    _model = v['model']\n",
    "    print(sorted(zip(map(lambda x: x, _model.coef_), names), reverse=True))"
   ]
  },
  {
   "cell_type": "code",
   "execution_count": 39,
   "metadata": {
    "collapsed": false
   },
   "outputs": [
    {
     "name": "stdout",
     "output_type": "stream",
     "text": [
      "[(1.3000736604390822e+17, 'ft17'), (1.0855221426422365e+17, 'ft50'), (98218647325266368.0, 'ft45'), (91276270001350384.0, 'ft12'), (87653699892193184.0, 'ft5'), (83574978901582544.0, 'ft8'), (82310516817753664.0, 'ft9'), (64255725416682304.0, 'ft11'), (62415675554016640.0, 'ft14'), (48769792318921272.0, 'ft32'), (47278086914125104.0, 'ft36'), (46449462647294592.0, 'ft41'), (41349407247403624.0, 'ft6'), (39724323442467904.0, 'ft16'), (39158014366326528.0, 'ft15'), (37798176089485568.0, 'ft31'), (34617254982883888.0, 'ft48'), (33197239980184016.0, 'ft33'), (27963098179845568.0, 'ft20'), (26391831144395936.0, 'ft18'), (26338332351408544.0, 'ft1'), (22780899838602700.0, 'ft39'), (15252125694286272.0, 'ft29'), (13321656302992320.0, 'ft10'), (10187330388485244.0, 'ft35'), (7141891523040892.0, 'ft7'), (1543421737428492.0, 'ft3'), (1396023874383720.0, 'ft23'), (1057.4680614588858, 'sizeGB'), (9.5605281069515371, 'ppn'), (-1168737855643688.0, 'ft25'), (-2904025221000940.0, 'ft54'), (-3654223449845352.0, 'ft26'), (-3863983326875376.0, 'ft22'), (-5881436922012439.0, 'ft47'), (-9924143392975772.0, 'ft44'), (-12873846013576074.0, 'ft49'), (-16385612961056904.0, 'ft53'), (-25221832407743928.0, 'ft13'), (-26198965491708592.0, 'ft34'), (-29005070177599032.0, 'ft21'), (-34896836413437504.0, 'ft42'), (-37881085486164384.0, 'ft37'), (-38221038913717512.0, 'ft55'), (-40865398679680016.0, 'ft51'), (-57468134522507848.0, 'ft2'), (-61991297281950376.0, 'ft19'), (-64193129215651400.0, 'ft28'), (-72180873447529920.0, 'ft24'), (-74438420927452544.0, 'ft30'), (-74739690361234384.0, 'ft40'), (-79290023420522336.0, 'ft4'), (-1.1876444181956974e+17, 'ft46'), (-1.1957474068208046e+17, 'ft27'), (-1.3431541938165749e+17, 'ft38'), (-1.3556028900461747e+17, 'ft43'), (-1.5412566626260499e+17, 'ft52')]\n"
     ]
    }
   ],
   "source": [
    "for v in t_ridge.values():\n",
    "    _model = v['model']\n",
    "    print(sorted(zip(map(lambda x: x, _model.coef_), names), reverse=True))"
   ]
  },
  {
   "cell_type": "code",
   "execution_count": 40,
   "metadata": {
    "collapsed": false
   },
   "outputs": [
    {
     "name": "stdout",
     "output_type": "stream",
     "text": [
      "[(925.80987289601592, 'sizeGB'), (494.75426610488807, 'ft4'), (478.13910989019053, 'ft39'), (431.72410967497837, 'ft41'), (391.50015553554289, 'ft29'), (353.99914321964457, 'ft51'), (346.06307915208737, 'ft47'), (277.67040647894856, 'ft35'), (212.22526076409477, 'ft14'), (168.56587493926094, 'ft32'), (158.87145912881698, 'ft24'), (151.22876435607353, 'ft26'), (125.76517011762949, 'ft11'), (122.36116372104658, 'ft21'), (96.282783558749898, 'ft33'), (95.777526904853431, 'ft20'), (83.596864037401431, 'ft34'), (60.245580761288025, 'ft12'), (57.196707462252647, 'ft8'), (27.270083172452203, 'ft19'), (22.934722995128006, 'ppn'), (18.693208014266364, 'ft48'), (16.185872209149839, 'ft45'), (15.32920500192736, 'ft43'), (0.0, 'ft38'), (0.0, 'ft18'), (0.0, 'ft15'), (-0.078596558790486729, 'ft53'), (-14.82903028415004, 'ft23'), (-15.653541248679627, 'ft44'), (-20.917009132197148, 'ft7'), (-32.258820002489266, 'ft10'), (-39.506679974485969, 'ft55'), (-56.642721314491432, 'ft54'), (-64.608803359373695, 'ft13'), (-66.946341741345734, 'ft2'), (-75.751492132048597, 'ft37'), (-75.844380566869887, 'ft52'), (-89.672131321003675, 'ft30'), (-92.382406523068752, 'ft25'), (-100.35620853690239, 'ft3'), (-116.90782022442902, 'ft42'), (-129.0824700872962, 'ft49'), (-131.83433341433786, 'ft22'), (-136.51550709967273, 'ft9'), (-137.07220193473313, 'ft6'), (-140.3416790961393, 'ft46'), (-153.78250094769294, 'ft16'), (-159.65066862109725, 'ft17'), (-166.39367682898251, 'ft36'), (-170.1716531073464, 'ft50'), (-171.70338752051862, 'ft27'), (-256.58447859416304, 'ft1'), (-284.56295950547707, 'ft5'), (-306.62338092285404, 'ft28'), (-333.23541332471785, 'ft31'), (-584.00358192566364, 'ft40')]\n"
     ]
    }
   ],
   "source": [
    "for v in t_elasticNet.values():\n",
    "    _model = v['model']\n",
    "    print(sorted(zip(map(lambda x: x, _model.coef_), names), reverse=True))"
   ]
  },
  {
   "cell_type": "code",
   "execution_count": null,
   "metadata": {
    "collapsed": true
   },
   "outputs": [],
   "source": []
  }
 ],
 "metadata": {
  "kernelspec": {
   "display_name": "Python 3",
   "language": "python",
   "name": "python3"
  },
  "language_info": {
   "codemirror_mode": {
    "name": "ipython",
    "version": 3
   },
   "file_extension": ".py",
   "mimetype": "text/x-python",
   "name": "python",
   "nbconvert_exporter": "python",
   "pygments_lexer": "ipython3",
   "version": "3.6.0"
  }
 },
 "nbformat": 4,
 "nbformat_minor": 2
}
