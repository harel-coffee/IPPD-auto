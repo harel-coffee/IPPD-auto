{
 "cells": [
  {
   "cell_type": "markdown",
   "metadata": {},
   "source": [
    "# M6. Support Vector Regression 'rbf'"
   ]
  },
  {
   "cell_type": "code",
   "execution_count": 3,
   "metadata": {
    "collapsed": true
   },
   "outputs": [],
   "source": [
    "# import all the filenames\n",
    "from allfunctions import *"
   ]
  },
  {
   "cell_type": "code",
   "execution_count": 4,
   "metadata": {
    "collapsed": false
   },
   "outputs": [
    {
     "name": "stdout",
     "output_type": "stream",
     "text": [
      "Dataset size read: train 256 and test 65 \n",
      "\n",
      "# Tuning hyper-parameters \n",
      "\n",
      "Starting grdsurch.fit(X_train, y_train)\n",
      "\n",
      "Best parameters set found on development set:\n",
      "\n",
      "{'C': 1.0000000000000001e-05, 'epsilon': 100000.0, 'gamma': 1.0000000000000001e-05, 'kernel': 'rbf'}\n",
      "SVR(C=1.0000000000000001e-05, cache_size=1024, coef0=0.0, degree=3,\n",
      "  epsilon=100000.0, gamma=1.0000000000000001e-05, kernel='rbf',\n",
      "  max_iter=-1, shrinking=False, tol=1e-07, verbose=False)\n",
      "\n"
     ]
    },
    {
     "data": {
      "text/plain": [
       "{'datasetIPPD.pickle': {'model': SVR(C=1.0000000000000001e-05, cache_size=1024, coef0=0.0, degree=3,\n",
       "    epsilon=100000.0, gamma=1.0000000000000001e-05, kernel='rbf',\n",
       "    max_iter=-1, shrinking=False, tol=1e-07, verbose=False),\n",
       "  'test_mean_y_4_comparing': 1532.3461538461536,\n",
       "  'test_rmse_4_reporting': 1059.8422915291899,\n",
       "  'train_rmse_cv_4_picking': 1080.4666523912699}}"
      ]
     },
     "execution_count": 4,
     "metadata": {},
     "output_type": "execute_result"
    }
   ],
   "source": [
    "SVRRbfCVModel('datasetIPPD.pickle')"
   ]
  },
  {
   "cell_type": "code",
   "execution_count": 7,
   "metadata": {
    "collapsed": false
   },
   "outputs": [
    {
     "name": "stdout",
     "output_type": "stream",
     "text": [
      "Dataset size read: train 256 and test 65 \n",
      "\n",
      "# Tuning hyper-parameters \n",
      "\n",
      "Starting grdsurch.fit(X_train, y_train)\n",
      "\n",
      "Best parameters set found on development set:\n",
      "\n",
      "{'C': 1.0000000000000001e-05, 'epsilon': 100000.0, 'gamma': 1.0000000000000001e-05, 'kernel': 'rbf'}\n",
      "SVR(C=1.0000000000000001e-05, cache_size=1024, coef0=0.0, degree=3,\n",
      "  epsilon=100000.0, gamma=1.0000000000000001e-05, kernel='rbf',\n",
      "  max_iter=-1, shrinking=False, tol=1e-07, verbose=False)\n",
      "\n",
      "CPU times: user 455 ms, sys: 155 ms, total: 609 ms\n",
      "Wall time: 1.69 s\n"
     ]
    },
    {
     "data": {
      "text/plain": [
       "{'datasetIPPD.pickle': {'model': SVR(C=1.0000000000000001e-05, cache_size=1024, coef0=0.0, degree=3,\n",
       "    epsilon=100000.0, gamma=1.0000000000000001e-05, kernel='rbf',\n",
       "    max_iter=-1, shrinking=False, tol=1e-07, verbose=False),\n",
       "  'test_mean_y_4_comparing': 1532.3461538461536,\n",
       "  'test_rmse_4_reporting': 1059.8422915291899,\n",
       "  'train_rmse_cv_4_picking': 1080.4666523912699}}"
      ]
     },
     "execution_count": 7,
     "metadata": {},
     "output_type": "execute_result"
    }
   ],
   "source": [
    "%time SVRCVModel('datasetIPPD.pickle')"
   ]
  },
  {
   "cell_type": "code",
   "execution_count": null,
   "metadata": {
    "collapsed": true
   },
   "outputs": [],
   "source": []
  }
 ],
 "metadata": {
  "anaconda-cloud": {},
  "kernelspec": {
   "display_name": "Python 3",
   "language": "python",
   "name": "python3"
  },
  "language_info": {
   "codemirror_mode": {
    "name": "ipython",
    "version": 3
   },
   "file_extension": ".py",
   "mimetype": "text/x-python",
   "name": "python",
   "nbconvert_exporter": "python",
   "pygments_lexer": "ipython3",
   "version": "3.6.0"
  }
 },
 "nbformat": 4,
 "nbformat_minor": 0
}
