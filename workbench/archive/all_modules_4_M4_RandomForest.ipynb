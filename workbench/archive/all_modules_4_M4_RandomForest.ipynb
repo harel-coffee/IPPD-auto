{
 "cells": [
  {
   "cell_type": "markdown",
   "metadata": {},
   "source": [
    "# M4. Ensemble Reg. - Averaging - Random Forest  (CV score)"
   ]
  },
  {
   "cell_type": "code",
   "execution_count": 1,
   "metadata": {
    "collapsed": true
   },
   "outputs": [],
   "source": [
    "# import all the filenames\n",
    "from allfunctions import *"
   ]
  },
  {
   "cell_type": "code",
   "execution_count": 2,
   "metadata": {
    "collapsed": false
   },
   "outputs": [
    {
     "name": "stdout",
     "output_type": "stream",
     "text": [
      "Dataset size read: train 256 and test 65 \n",
      "\n",
      "# Tuning hyper-parameters \n",
      "\n",
      "Starting grdsurch.fit(X_train, y_train)\n",
      "\n",
      "Best parameters set found on development set:\n",
      "\n",
      "{'max_features': 'auto', 'min_samples_leaf': 2, 'min_samples_split': 2, 'min_weight_fraction_leaf': 0.0}\n",
      "RandomForestRegressor(bootstrap=True, criterion='mse', max_depth=None,\n",
      "           max_features='auto', max_leaf_nodes=None,\n",
      "           min_impurity_split=1e-07, min_samples_leaf=2,\n",
      "           min_samples_split=2, min_weight_fraction_leaf=0.0,\n",
      "           n_estimators=6000, n_jobs=-1, oob_score=True, random_state=None,\n",
      "           verbose=0, warm_start=False)\n",
      "\n"
     ]
    },
    {
     "data": {
      "text/plain": [
       "{'datasetIPPD.pickle': {'model': RandomForestRegressor(bootstrap=True, criterion='mse', max_depth=None,\n",
       "             max_features='auto', max_leaf_nodes=None,\n",
       "             min_impurity_split=1e-07, min_samples_leaf=2,\n",
       "             min_samples_split=2, min_weight_fraction_leaf=0.0,\n",
       "             n_estimators=6000, n_jobs=-1, oob_score=True, random_state=None,\n",
       "             verbose=0, warm_start=False),\n",
       "  'test_mean_y_4_comparing': 1532.3461538461536,\n",
       "  'test_rmse_4_reporting': 342.21757271943272,\n",
       "  'train_rmse_cv_4_picking': 420.64102085322816}}"
      ]
     },
     "execution_count": 2,
     "metadata": {},
     "output_type": "execute_result"
    }
   ],
   "source": [
    "RandomForestCVModel('datasetIPPD.pickle')"
   ]
  },
  {
   "cell_type": "code",
   "execution_count": 19,
   "metadata": {
    "collapsed": false
   },
   "outputs": [
    {
     "name": "stdout",
     "output_type": "stream",
     "text": [
      "Dataset size read: train 256 and test 65 \n",
      "\n",
      "# Tuning hyper-parameters \n",
      "\n",
      "Starting grdsurch.fit(X_train, y_train)\n",
      "\n",
      "Best parameters set found on development set:\n",
      "\n",
      "{'max_features': 'auto', 'min_samples_leaf': 2, 'min_samples_split': 2, 'min_weight_fraction_leaf': 0.0}\n",
      "RandomForestRegressor(bootstrap=True, criterion='mse', max_depth=None,\n",
      "           max_features='auto', max_leaf_nodes=None,\n",
      "           min_impurity_split=1e-07, min_samples_leaf=2,\n",
      "           min_samples_split=2, min_weight_fraction_leaf=0.0,\n",
      "           n_estimators=6000, n_jobs=-1, oob_score=True, random_state=None,\n",
      "           verbose=0, warm_start=False)\n",
      "\n"
     ]
    },
    {
     "data": {
      "text/plain": [
       "{'datasetIPPD.pickle': {'model': RandomForestRegressor(bootstrap=True, criterion='mse', max_depth=None,\n",
       "             max_features='auto', max_leaf_nodes=None,\n",
       "             min_impurity_split=1e-07, min_samples_leaf=2,\n",
       "             min_samples_split=2, min_weight_fraction_leaf=0.0,\n",
       "             n_estimators=6000, n_jobs=-1, oob_score=True, random_state=None,\n",
       "             verbose=0, warm_start=False),\n",
       "  'test_mean_y_4_comparing': 1532.3461538461536,\n",
       "  'test_rmse_4_reporting': 341.99694315814094,\n",
       "  'train_rmse_cv_4_picking': 420.57121146971787}}"
      ]
     },
     "execution_count": 19,
     "metadata": {},
     "output_type": "execute_result"
    }
   ],
   "source": [
    "RandomForestCVModel('datasetIPPD.pickle')"
   ]
  },
  {
   "cell_type": "code",
   "execution_count": null,
   "metadata": {
    "collapsed": true
   },
   "outputs": [],
   "source": []
  }
 ],
 "metadata": {
  "anaconda-cloud": {},
  "kernelspec": {
   "display_name": "Python 3",
   "language": "python",
   "name": "python3"
  },
  "language_info": {
   "codemirror_mode": {
    "name": "ipython",
    "version": 3
   },
   "file_extension": ".py",
   "mimetype": "text/x-python",
   "name": "python",
   "nbconvert_exporter": "python",
   "pygments_lexer": "ipython3",
   "version": "3.6.0"
  }
 },
 "nbformat": 4,
 "nbformat_minor": 0
}
