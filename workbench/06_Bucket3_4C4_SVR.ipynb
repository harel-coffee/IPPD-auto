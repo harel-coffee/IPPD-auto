{
 "cells": [
  {
   "cell_type": "code",
   "execution_count": 1,
   "metadata": {
    "collapsed": false
   },
   "outputs": [
    {
     "name": "stdout",
     "output_type": "stream",
     "text": [
      "\n"
     ]
    }
   ],
   "source": [
    "# import all the filenames\n",
    "from allfunctions import *"
   ]
  },
  {
   "cell_type": "code",
   "execution_count": 2,
   "metadata": {
    "collapsed": false
   },
   "outputs": [],
   "source": [
    "%load_ext autoreload\n",
    "%autoreload 2"
   ]
  },
  {
   "cell_type": "markdown",
   "metadata": {},
   "source": [
    "7  def SVRSigmoidCVModel(filename):\n",
    "\n",
    "8 def SVRRbfCVModel(filename):"
   ]
  },
  {
   "cell_type": "code",
   "execution_count": 3,
   "metadata": {
    "collapsed": false
   },
   "outputs": [],
   "source": [
    "def wrapper(functionList = [], filenames = [ 'datasetIPPD.pickle' ]):\n",
    "    if __name__ == '__main__':\n",
    "        global model_selection\n",
    "        \n",
    "        global c\n",
    "        initialize_c()\n",
    "                \n",
    "        model_selection = {}\n",
    "        \n",
    "        for f in functionList:\n",
    "            print()\n",
    "            for filename in filenames:\n",
    "                out = f(filename)\n",
    "                newScore = out[filename]['train_rmse_cv_picking']\n",
    "\n",
    "                if f in model_selection:\n",
    "                    #compare scores and select more accurate model\n",
    "                    oldScore = model_selection[f]['train_rmse_cv_picking']\n",
    "                    if(newScore < oldScore):\n",
    "                        print(\"【【【】】】switching models for %s...\" % filename)\n",
    "                        print(\"【【【】】】newScore: %f < oldScore: %f\" % (newScore, oldScore))\n",
    "                        print(\"【【【】】】newModel: %s \\n\" % f)\n",
    "                        print(100*'_')\n",
    "                        model_selection[f] = out[filename]\n",
    "                else:\n",
    "                    #no score to compare\n",
    "                    print(\"【【】】adding new model for %s \\n\" % filename)\n",
    "                    print(\"【【【】】】newScore: %f \" % (newScore))\n",
    "                    print(100*'_')\n",
    "                    model_selection[f] = out[filename]\n",
    "    return model_selection"
   ]
  },
  {
   "cell_type": "markdown",
   "metadata": {},
   "source": [
    "<:>:<:>:<:>:<:>:<:>:<:>:<:>:<:>:<:>:<:>:<:>:<:>:<:>:<:>:<:><:>:<:>:<:>:<:>:<:>:<:>:<:>:<:>:<:>:<:>:<:>:<:>:<:>:<:>:<:>\n",
    "<:>:<:>:<:>:<:>:<:>:<:>:<:>:<:>:<:>:<:>:<:>:<:>:<:>:<:>:<:><:>:<:>:<:>:<:>:<:>:<:>:<:>:<:>:<:>:<:>:<:>:<:>:<:>:<:>:<:>\n",
    "<:>:<:>:<:>:<:>:<:>:<:>:<:>:<:>:<:>:<:>:<:>:<:>:<:>:<:>:<:><:>:<:>:<:>:<:>:<:>:<:>:<:>:<:>:<:>:<:>:<:>:<:>:<:>:<:>:<:>\n",
    "<:>:<:>:<:>:<:>:<:>:<:>:<:>:<:>:<:>:<:>:<:>:<:>:<:>:<:>:<:><:>:<:>:<:>:<:>:<:>:<:>:<:>:<:>:<:>:<:>:<:>:<:>:<:>:<:>:<:>\n"
   ]
  },
  {
   "cell_type": "markdown",
   "metadata": {},
   "source": [
    "# Sigmoid Kernel"
   ]
  },
  {
   "cell_type": "code",
   "execution_count": 4,
   "metadata": {
    "collapsed": false
   },
   "outputs": [
    {
     "name": "stdout",
     "output_type": "stream",
     "text": [
      "\n",
      "\n",
      "{{ scale_this: >>>>>>>>>>>>>>>>>>>>>>>>>>>>>>>>>>>>>>>>> Scaling X_train and X_test... }}\n",
      "\n",
      "Dataset size read: train 258 and test 63 \n",
      "\n",
      "# Tuning hyper-parameters \n",
      "\n",
      "Starting grdsurch.fit(X_train, y_train)\n",
      "\n",
      "Best parameters set found on development set:\n",
      "\n",
      "{'epsilon': 1.0, 'C': 1.0, 'gamma': 0.10000000000000001, 'coef0': 5.0, 'degree': 3}\n",
      "SVR(C=1.0, cache_size=204800, coef0=5.0, degree=3, epsilon=1.0,\n",
      "  gamma=0.10000000000000001, kernel='sigmoid', max_iter=-1,\n",
      "  shrinking=False, tol=1e-07, verbose=False)\n",
      "\n",
      "Full Test Set: 63\n"
     ]
    },
    {
     "data": {
      "text/plain": [
       "array([  173.64,    45.97,   141.66,   164.88,    67.96,    98.47,\n",
       "        3309.8 ,  2896.76,  3359.25,  1861.97,  3344.01,  3371.75,\n",
       "        2855.36,  1423.13,  1721.38,  1323.62,  2396.68,  2472.15,\n",
       "        3028.27,  2877.71,  2024.25,  2314.1 ,  1174.9 ,  1723.63,\n",
       "        3348.91,  2683.3 ,  1873.73,  2684.27,  2083.07,   998.65,\n",
       "         976.5 ,  1868.49,  1076.1 ,  1073.56,  3326.93,  2265.29,\n",
       "         644.52,   298.64,  3059.32,  1083.5 ,  1001.19,   322.13,\n",
       "        2543.24,   692.62,  2478.78,   198.71,  1031.47,  2457.56,\n",
       "        1801.74,   216.12,  1925.99,  2125.54,  2239.73,   747.33,\n",
       "         810.75,   462.77,  2106.02,   218.82,  1634.05,  1802.26,\n",
       "        1332.56,  2142.12,   462.06])"
      ]
     },
     "metadata": {},
     "output_type": "display_data"
    },
    {
     "data": {
      "text/plain": [
       "array([ 1629.319977  ,  1621.19008929,  1627.93350934,  1629.17795618,\n",
       "        1623.09048568,  1624.84747658,  1615.79393129,  1615.84221345,\n",
       "        1615.84548667,  1615.78556317,  1616.29548144,  1615.84548667,\n",
       "        1616.29224286,  1615.83344236,  1616.00362715,  1615.78208798,\n",
       "        1615.78899616,  1616.29051565,  1615.79221469,  1616.29224286,\n",
       "        1616.28706133,  1615.83872213,  1616.0139047 ,  1616.28533421,\n",
       "        1616.0139047 ,  1617.10690235,  1619.81739128,  1619.28854649,\n",
       "        1620.09729052,  1622.85008978,  1620.64011586,  1620.99703512,\n",
       "        1619.76509461,  1619.76509461,  1617.27524961,  1617.06538702,\n",
       "        1622.61166085,  1624.71674622,  1616.27926117,  1620.64011586,\n",
       "        1619.76509461,  1624.71674622,  1617.06538702,  1623.77811103,\n",
       "        1630.68322972,  1617.56474823,  1623.56809798,  1630.68322972,\n",
       "        1626.68490459,  1617.81835357,  1628.97125084,  1628.47884669,\n",
       "        1630.52301041,  1621.74560644,  1621.74560644,  1619.62393623,\n",
       "        1628.89892404,  1618.0757043 ,  1626.68490459,  1627.18896677,\n",
       "        1625.24880856,  1628.7336418 ,  1619.33765658])"
      ]
     },
     "metadata": {},
     "output_type": "display_data"
    },
    {
     "name": "stdout",
     "output_type": "stream",
     "text": [
      "A: 6\n",
      "\n",
      "{{ scale_this: >>>>>>>>>>>>>>>>>>>>>>>>>>>>>>>>>>>>>>>>> Scaling X_train and X_test... }}\n",
      "\n"
     ]
    },
    {
     "data": {
      "text/plain": [
       "array([ 173.64,   45.97,  141.66,  164.88,   67.96,   98.47])"
      ]
     },
     "metadata": {},
     "output_type": "display_data"
    },
    {
     "data": {
      "text/plain": [
       "array([ 1629.319977  ,  1621.19008929,  1627.93350934,  1629.17795618,\n",
       "        1623.09048568,  1624.84747658])"
      ]
     },
     "metadata": {},
     "output_type": "display_data"
    },
    {
     "name": "stdout",
     "output_type": "stream",
     "text": [
      "B: 19\n",
      "\n",
      "{{ scale_this: >>>>>>>>>>>>>>>>>>>>>>>>>>>>>>>>>>>>>>>>> Scaling X_train and X_test... }}\n",
      "\n"
     ]
    },
    {
     "data": {
      "text/plain": [
       "array([ 3309.8 ,  2896.76,  3359.25,  1861.97,  3344.01,  3371.75,\n",
       "        2855.36,  1423.13,  1721.38,  1323.62,  2396.68,  2472.15,\n",
       "        3028.27,  2877.71,  2024.25,  2314.1 ,  1174.9 ,  1723.63,  3348.91])"
      ]
     },
     "metadata": {},
     "output_type": "display_data"
    },
    {
     "data": {
      "text/plain": [
       "array([ 1615.79393129,  1615.84221345,  1615.84548667,  1615.78556317,\n",
       "        1616.29548144,  1615.84548667,  1616.29224286,  1615.83344236,\n",
       "        1616.00362715,  1615.78208798,  1615.78899616,  1616.29051565,\n",
       "        1615.79221469,  1616.29224286,  1616.28706133,  1615.83872213,\n",
       "        1616.0139047 ,  1616.28533421,  1616.0139047 ])"
      ]
     },
     "metadata": {},
     "output_type": "display_data"
    },
    {
     "name": "stdout",
     "output_type": "stream",
     "text": [
      "C: 19\n",
      "\n",
      "{{ scale_this: >>>>>>>>>>>>>>>>>>>>>>>>>>>>>>>>>>>>>>>>> Scaling X_train and X_test... }}\n",
      "\n"
     ]
    },
    {
     "data": {
      "text/plain": [
       "array([ 2683.3 ,  1873.73,  2684.27,  2083.07,   998.65,   976.5 ,\n",
       "        1868.49,  1076.1 ,  1073.56,  3326.93,  2265.29,   644.52,\n",
       "         298.64,  3059.32,  1083.5 ,  1001.19,   322.13,  2543.24,   692.62])"
      ]
     },
     "metadata": {},
     "output_type": "display_data"
    },
    {
     "data": {
      "text/plain": [
       "array([ 1617.10690235,  1619.81739128,  1619.28854649,  1620.09729052,\n",
       "        1622.85008978,  1620.64011586,  1620.99703512,  1619.76509461,\n",
       "        1619.76509461,  1617.27524961,  1617.06538702,  1622.61166085,\n",
       "        1624.71674622,  1616.27926117,  1620.64011586,  1619.76509461,\n",
       "        1624.71674622,  1617.06538702,  1623.77811103])"
      ]
     },
     "metadata": {},
     "output_type": "display_data"
    },
    {
     "name": "stdout",
     "output_type": "stream",
     "text": [
      "D: 19\n",
      "\n",
      "{{ scale_this: >>>>>>>>>>>>>>>>>>>>>>>>>>>>>>>>>>>>>>>>> Scaling X_train and X_test... }}\n",
      "\n"
     ]
    },
    {
     "data": {
      "text/plain": [
       "array([ 2478.78,   198.71,  1031.47,  2457.56,  1801.74,   216.12,\n",
       "        1925.99,  2125.54,  2239.73,   747.33,   810.75,   462.77,\n",
       "        2106.02,   218.82,  1634.05,  1802.26,  1332.56,  2142.12,   462.06])"
      ]
     },
     "metadata": {},
     "output_type": "display_data"
    },
    {
     "data": {
      "text/plain": [
       "array([ 1630.68322972,  1617.56474823,  1623.56809798,  1630.68322972,\n",
       "        1626.68490459,  1617.81835357,  1628.97125084,  1628.47884669,\n",
       "        1630.52301041,  1621.74560644,  1621.74560644,  1619.62393623,\n",
       "        1628.89892404,  1618.0757043 ,  1626.68490459,  1627.18896677,\n",
       "        1625.24880856,  1628.7336418 ,  1619.33765658])"
      ]
     },
     "metadata": {},
     "output_type": "display_data"
    },
    {
     "name": "stdout",
     "output_type": "stream",
     "text": [
      "【【】】adding new model for datasetIPPD.pickle \n",
      "\n",
      "【【【】】】newScore: 1093968.987519 \n",
      "____________________________________________________________________________________________________\n"
     ]
    }
   ],
   "source": [
    "t_SVRSigmoidCVModel = wrapper([ SVRSigmoidCVModel ])"
   ]
  },
  {
   "cell_type": "code",
   "execution_count": 5,
   "metadata": {
    "collapsed": false
   },
   "outputs": [
    {
     "name": "stdout",
     "output_type": "stream",
     "text": [
      "________________________________________________________________________________\n",
      "Model: SVR(C=1.0, cache_size=204800, coef0=5.0, degree=3, epsilon=1.0,\n",
      "  gamma=0.10000000000000001, kernel='sigmoid', max_iter=-1,\n",
      "  shrinking=False, tol=1e-07, verbose=False)\n",
      "Train RMSE: 1093968.987519 \n",
      "\n",
      "A...TestA RMSE   : 1511.167264\n",
      "A...y_test_A Mean: 115.430000 \n",
      "\n",
      "B...TestB RMSE   : 1127.156361\n",
      "B...y_test_B Mean: 2464.612105 \n",
      "\n",
      "C...TestC RMSE   : 924.600652\n",
      "C...y_test_C Mean: 1608.160526 \n",
      "\n",
      "D...TestD RMSE   : 831.421247\n",
      "D...y_test_D Mean: 1378.651579\n",
      "________________________________________________________________________________\n"
     ]
    }
   ],
   "source": [
    "t_print = t_SVRSigmoidCVModel\n",
    "\n",
    "for key in t_print.keys():\n",
    "    print(80*'_')\n",
    "    \n",
    "    print('Model: %s' % (str(t_print[key]['model'])[:200]))\n",
    "    print('Train RMSE: %f \\n' % (t_print[key]['train_rmse_cv_picking']))\n",
    "    \n",
    "    #print('Test RMSE   : %f' % (t_print[key]['test_rmse_reporting']))\n",
    "    #print('Overall Mean: %f \\n' % (t_print[key]['test_mean_y_comparing']))\n",
    "    \n",
    "    print('A...TestA RMSE   : %f' % (t_print[key]['test_rmse_reportingA']))\n",
    "    print('A...y_test_A Mean: %f \\n' % (t_print[key]['test_mean_y_comparingA']))\n",
    "    \n",
    "    print('B...TestB RMSE   : %f' % (t_print[key]['test_rmse_reportingB']))\n",
    "    print('B...y_test_B Mean: %f \\n' % (t_print[key]['test_mean_y_comparingB']))\n",
    "    \n",
    "    print('C...TestC RMSE   : %f' % (t_print[key]['test_rmse_reportingC']))\n",
    "    print('C...y_test_C Mean: %f \\n' % (t_print[key]['test_mean_y_comparingC']))\n",
    "    \n",
    "    print('D...TestD RMSE   : %f' % (t_print[key]['test_rmse_reportingD']))\n",
    "    print('D...y_test_D Mean: %f' % (t_print[key]['test_mean_y_comparingD']))\n",
    "    \n",
    "    print(80*'_')"
   ]
  },
  {
   "cell_type": "code",
   "execution_count": 6,
   "metadata": {
    "collapsed": false
   },
   "outputs": [
    {
     "name": "stdout",
     "output_type": "stream",
     "text": [
      "4C4_SVRSigmoidCVModel_tuned_ABCD.pickle\n"
     ]
    }
   ],
   "source": [
    "# write the model\n",
    "import pickle\n",
    "\n",
    "#||||||||||||||||||| \n",
    "t_ = t_SVRSigmoidCVModel\n",
    "prefix = '4C4_' + 'SVRSigmoidCVModel'\n",
    "#||||||||||||||||||| \n",
    "\n",
    "for k in t_.keys():\n",
    "    mo   = t_[k]['model']\n",
    "    fname = prefix + '_tuned_ABCD' + '.pickle'\n",
    "       \n",
    "    print(fname)\n",
    "    # write the model to a file\n",
    "    with open(fname, 'wb') as handle:\n",
    "        pickle.dump(mo, handle)"
   ]
  },
  {
   "cell_type": "markdown",
   "metadata": {},
   "source": [
    "# Linear Kernel"
   ]
  },
  {
   "cell_type": "code",
   "execution_count": 7,
   "metadata": {
    "collapsed": false
   },
   "outputs": [
    {
     "name": "stdout",
     "output_type": "stream",
     "text": [
      "\n",
      "\n",
      "{{ scale_this: >>>>>>>>>>>>>>>>>>>>>>>>>>>>>>>>>>>>>>>>> Scaling X_train and X_test... }}\n",
      "\n",
      "Dataset size read: train 258 and test 63 \n",
      "\n",
      "# Tuning hyper-parameters \n",
      "\n",
      "Starting grdsurch.fit(X_train, y_train)\n",
      "\n",
      " Best parameters set found on development set:\n",
      "\n",
      "{'epsilon': 50.0, 'C': 1.0, 'gamma': 1e-08, 'coef0': 0.0, 'degree': 3}\n",
      "SVR(C=1.0, cache_size=204800, coef0=0.0, degree=3, epsilon=50.0, gamma=1e-08,\n",
      "  kernel='linear', max_iter=-1, shrinking=False, tol=1e-07, verbose=False)\n",
      "\n",
      "Full Test Set: 63\n"
     ]
    },
    {
     "data": {
      "text/plain": [
       "array([  173.64,    45.97,   141.66,   164.88,    67.96,    98.47,\n",
       "        3309.8 ,  2896.76,  3359.25,  1861.97,  3344.01,  3371.75,\n",
       "        2855.36,  1423.13,  1721.38,  1323.62,  2396.68,  2472.15,\n",
       "        3028.27,  2877.71,  2024.25,  2314.1 ,  1174.9 ,  1723.63,\n",
       "        3348.91,  2683.3 ,  1873.73,  2684.27,  2083.07,   998.65,\n",
       "         976.5 ,  1868.49,  1076.1 ,  1073.56,  3326.93,  2265.29,\n",
       "         644.52,   298.64,  3059.32,  1083.5 ,  1001.19,   322.13,\n",
       "        2543.24,   692.62,  2478.78,   198.71,  1031.47,  2457.56,\n",
       "        1801.74,   216.12,  1925.99,  2125.54,  2239.73,   747.33,\n",
       "         810.75,   462.77,  2106.02,   218.82,  1634.05,  1802.26,\n",
       "        1332.56,  2142.12,   462.06])"
      ]
     },
     "metadata": {},
     "output_type": "display_data"
    },
    {
     "data": {
      "text/plain": [
       "array([ 1549.10184513,  1466.94637396,  1542.55980223,  1540.95183782,\n",
       "        1490.33364428,  1513.1757018 ,  1658.27426093,  1666.39736629,\n",
       "        1666.42426823,  1658.20431586,  1682.72428285,  1666.42426823,\n",
       "        1682.6973809 ,  1666.32527397,  1674.48998277,  1658.17526666,\n",
       "        1658.23301127,  1682.6830332 ,  1658.25991322,  1682.6973809 ,\n",
       "        1682.65433779,  1666.36867088,  1674.57427554,  1682.63999008,\n",
       "        1674.57427554,  1715.9326531 ,  1678.17000349,  1732.23266772,\n",
       "        1710.1945924 ,  1638.57084761,  1622.27083299,  1686.3200108 ,\n",
       "        1614.12082569,  1614.12082569,  1747.95724201,  1685.74457048,\n",
       "        1606.91355996,  1591.3726363 ,  1739.8072347 ,  1622.27083299,\n",
       "        1614.12082569,  1591.3726363 ,  1685.74457048,  1615.06356727,\n",
       "        1529.81876529,  1410.33005425,  1479.20057174,  1529.81876529,\n",
       "        1484.13465024,  1426.63006887,  1523.27672238,  1498.82670046,\n",
       "        1521.66875798,  1464.50852153,  1464.50852153,  1441.08538194,\n",
       "        1515.12671507,  1434.78007617,  1484.13465024,  1508.58467217,\n",
       "        1485.74261465,  1506.97670777,  1424.78536733])"
      ]
     },
     "metadata": {},
     "output_type": "display_data"
    },
    {
     "name": "stdout",
     "output_type": "stream",
     "text": [
      "A: 6\n",
      "\n",
      "{{ scale_this: >>>>>>>>>>>>>>>>>>>>>>>>>>>>>>>>>>>>>>>>> Scaling X_train and X_test... }}\n",
      "\n"
     ]
    },
    {
     "data": {
      "text/plain": [
       "array([ 173.64,   45.97,  141.66,  164.88,   67.96,   98.47])"
      ]
     },
     "metadata": {},
     "output_type": "display_data"
    },
    {
     "data": {
      "text/plain": [
       "array([ 1549.10184513,  1466.94637396,  1542.55980223,  1540.95183782,\n",
       "        1490.33364428,  1513.1757018 ])"
      ]
     },
     "metadata": {},
     "output_type": "display_data"
    },
    {
     "name": "stdout",
     "output_type": "stream",
     "text": [
      "B: 19\n",
      "\n",
      "{{ scale_this: >>>>>>>>>>>>>>>>>>>>>>>>>>>>>>>>>>>>>>>>> Scaling X_train and X_test... }}\n",
      "\n"
     ]
    },
    {
     "data": {
      "text/plain": [
       "array([ 3309.8 ,  2896.76,  3359.25,  1861.97,  3344.01,  3371.75,\n",
       "        2855.36,  1423.13,  1721.38,  1323.62,  2396.68,  2472.15,\n",
       "        3028.27,  2877.71,  2024.25,  2314.1 ,  1174.9 ,  1723.63,  3348.91])"
      ]
     },
     "metadata": {},
     "output_type": "display_data"
    },
    {
     "data": {
      "text/plain": [
       "array([ 1658.27426093,  1666.39736629,  1666.42426823,  1658.20431586,\n",
       "        1682.72428285,  1666.42426823,  1682.6973809 ,  1666.32527397,\n",
       "        1674.48998277,  1658.17526666,  1658.23301127,  1682.6830332 ,\n",
       "        1658.25991322,  1682.6973809 ,  1682.65433779,  1666.36867088,\n",
       "        1674.57427554,  1682.63999008,  1674.57427554])"
      ]
     },
     "metadata": {},
     "output_type": "display_data"
    },
    {
     "name": "stdout",
     "output_type": "stream",
     "text": [
      "C: 19\n",
      "\n",
      "{{ scale_this: >>>>>>>>>>>>>>>>>>>>>>>>>>>>>>>>>>>>>>>>> Scaling X_train and X_test... }}\n",
      "\n"
     ]
    },
    {
     "data": {
      "text/plain": [
       "array([ 2683.3 ,  1873.73,  2684.27,  2083.07,   998.65,   976.5 ,\n",
       "        1868.49,  1076.1 ,  1073.56,  3326.93,  2265.29,   644.52,\n",
       "         298.64,  3059.32,  1083.5 ,  1001.19,   322.13,  2543.24,   692.62])"
      ]
     },
     "metadata": {},
     "output_type": "display_data"
    },
    {
     "data": {
      "text/plain": [
       "array([ 1715.9326531 ,  1678.17000349,  1732.23266772,  1710.1945924 ,\n",
       "        1638.57084761,  1622.27083299,  1686.3200108 ,  1614.12082569,\n",
       "        1614.12082569,  1747.95724201,  1685.74457048,  1606.91355996,\n",
       "        1591.3726363 ,  1739.8072347 ,  1622.27083299,  1614.12082569,\n",
       "        1591.3726363 ,  1685.74457048,  1615.06356727])"
      ]
     },
     "metadata": {},
     "output_type": "display_data"
    },
    {
     "name": "stdout",
     "output_type": "stream",
     "text": [
      "D: 19\n",
      "\n",
      "{{ scale_this: >>>>>>>>>>>>>>>>>>>>>>>>>>>>>>>>>>>>>>>>> Scaling X_train and X_test... }}\n",
      "\n"
     ]
    },
    {
     "data": {
      "text/plain": [
       "array([ 2478.78,   198.71,  1031.47,  2457.56,  1801.74,   216.12,\n",
       "        1925.99,  2125.54,  2239.73,   747.33,   810.75,   462.77,\n",
       "        2106.02,   218.82,  1634.05,  1802.26,  1332.56,  2142.12,   462.06])"
      ]
     },
     "metadata": {},
     "output_type": "display_data"
    },
    {
     "data": {
      "text/plain": [
       "array([ 1529.81876529,  1410.33005425,  1479.20057174,  1529.81876529,\n",
       "        1484.13465024,  1426.63006887,  1523.27672238,  1498.82670046,\n",
       "        1521.66875798,  1464.50852153,  1464.50852153,  1441.08538194,\n",
       "        1515.12671507,  1434.78007617,  1484.13465024,  1508.58467217,\n",
       "        1485.74261465,  1506.97670777,  1424.78536733])"
      ]
     },
     "metadata": {},
     "output_type": "display_data"
    },
    {
     "name": "stdout",
     "output_type": "stream",
     "text": [
      "【【】】adding new model for datasetIPPD.pickle \n",
      "\n",
      "【【【】】】newScore: 1102318.365660 \n",
      "____________________________________________________________________________________________________\n"
     ]
    }
   ],
   "source": [
    "t_SVRLinearCVModel = wrapper([ SVRLinearCVModel ])"
   ]
  },
  {
   "cell_type": "code",
   "execution_count": 8,
   "metadata": {
    "collapsed": false
   },
   "outputs": [
    {
     "name": "stdout",
     "output_type": "stream",
     "text": [
      "________________________________________________________________________________\n",
      "Model: SVR(C=1.0, cache_size=204800, coef0=0.0, degree=3, epsilon=50.0, gamma=1e-08,\n",
      "  kernel='linear', max_iter=-1, shrinking=False, tol=1e-07, verbose=False)\n",
      "Train RMSE: 1102318.365660 \n",
      "\n",
      "A...TestA RMSE   : 1401.885760\n",
      "A...y_test_A Mean: 115.430000 \n",
      "\n",
      "B...TestB RMSE   : 1086.507331\n",
      "B...y_test_B Mean: 2464.612105 \n",
      "\n",
      "C...TestC RMSE   : 873.332031\n",
      "C...y_test_C Mean: 1608.160526 \n",
      "\n",
      "D...TestD RMSE   : 769.671023\n",
      "D...y_test_D Mean: 1378.651579\n",
      "________________________________________________________________________________\n"
     ]
    }
   ],
   "source": [
    "t_print = t_SVRLinearCVModel\n",
    "\n",
    "for key in t_print.keys():\n",
    "    print(80*'_')\n",
    "    \n",
    "    print('Model: %s' % (str(t_print[key]['model'])[:200]))\n",
    "    print('Train RMSE: %f \\n' % (t_print[key]['train_rmse_cv_picking']))\n",
    "    \n",
    "    #print('Test RMSE   : %f' % (t_print[key]['test_rmse_reporting']))\n",
    "    #print('Overall Mean: %f \\n' % (t_print[key]['test_mean_y_comparing']))\n",
    "    \n",
    "    print('A...TestA RMSE   : %f' % (t_print[key]['test_rmse_reportingA']))\n",
    "    print('A...y_test_A Mean: %f \\n' % (t_print[key]['test_mean_y_comparingA']))\n",
    "    \n",
    "    print('B...TestB RMSE   : %f' % (t_print[key]['test_rmse_reportingB']))\n",
    "    print('B...y_test_B Mean: %f \\n' % (t_print[key]['test_mean_y_comparingB']))\n",
    "    \n",
    "    print('C...TestC RMSE   : %f' % (t_print[key]['test_rmse_reportingC']))\n",
    "    print('C...y_test_C Mean: %f \\n' % (t_print[key]['test_mean_y_comparingC']))\n",
    "    \n",
    "    print('D...TestD RMSE   : %f' % (t_print[key]['test_rmse_reportingD']))\n",
    "    print('D...y_test_D Mean: %f' % (t_print[key]['test_mean_y_comparingD']))\n",
    "    \n",
    "    print(80*'_')"
   ]
  },
  {
   "cell_type": "code",
   "execution_count": 9,
   "metadata": {
    "collapsed": false
   },
   "outputs": [
    {
     "name": "stdout",
     "output_type": "stream",
     "text": [
      "4C4_SVRLinearCVModel_tuned_ABCD.pickle\n"
     ]
    }
   ],
   "source": [
    "# write the model\n",
    "import pickle\n",
    "\n",
    "#||||||||||||||||||| \n",
    "t_ = t_SVRLinearCVModel\n",
    "prefix = '4C4_' + 'SVRLinearCVModel'\n",
    "#||||||||||||||||||| \n",
    "\n",
    "for k in t_.keys():\n",
    "    mo   = t_[k]['model']\n",
    "    fname = prefix + '_tuned_ABCD' + '.pickle'\n",
    "       \n",
    "    print(fname)\n",
    "    # write the model to a file\n",
    "    with open(fname, 'wb') as handle:\n",
    "        pickle.dump(mo, handle)"
   ]
  },
  {
   "cell_type": "markdown",
   "metadata": {},
   "source": [
    "# Poly Kernel"
   ]
  },
  {
   "cell_type": "code",
   "execution_count": 10,
   "metadata": {
    "collapsed": false
   },
   "outputs": [
    {
     "name": "stdout",
     "output_type": "stream",
     "text": [
      "\n",
      "\n",
      "{{ scale_this: >>>>>>>>>>>>>>>>>>>>>>>>>>>>>>>>>>>>>>>>> Scaling X_train and X_test... }}\n",
      "\n",
      "Dataset size read: train 258 and test 63 \n",
      "\n",
      "# Tuning hyper-parameters... \n",
      "\n",
      "Starting grdsurch.fit(X_train, y_train)\n",
      "\n",
      "Best parameters set found on development set:\n",
      "\n",
      "{'epsilon': 50.0, 'C': 1.0, 'gamma': 0.10000000000000001, 'coef0': 10.0, 'degree': 3}\n",
      "SVR(C=1.0, cache_size=204800, coef0=10.0, degree=3, epsilon=50.0,\n",
      "  gamma=0.10000000000000001, kernel='poly', max_iter=1000000000.0,\n",
      "  shrinking=False, tol=0.01, verbose=False)\n",
      "\n",
      "Full Test Set: 63\n"
     ]
    },
    {
     "data": {
      "text/plain": [
       "array([  173.64,    45.97,   141.66,   164.88,    67.96,    98.47,\n",
       "        3309.8 ,  2896.76,  3359.25,  1861.97,  3344.01,  3371.75,\n",
       "        2855.36,  1423.13,  1721.38,  1323.62,  2396.68,  2472.15,\n",
       "        3028.27,  2877.71,  2024.25,  2314.1 ,  1174.9 ,  1723.63,\n",
       "        3348.91,  2683.3 ,  1873.73,  2684.27,  2083.07,   998.65,\n",
       "         976.5 ,  1868.49,  1076.1 ,  1073.56,  3326.93,  2265.29,\n",
       "         644.52,   298.64,  3059.32,  1083.5 ,  1001.19,   322.13,\n",
       "        2543.24,   692.62,  2478.78,   198.71,  1031.47,  2457.56,\n",
       "        1801.74,   216.12,  1925.99,  2125.54,  2239.73,   747.33,\n",
       "         810.75,   462.77,  2106.02,   218.82,  1634.05,  1802.26,\n",
       "        1332.56,  2142.12,   462.06])"
      ]
     },
     "metadata": {},
     "output_type": "display_data"
    },
    {
     "data": {
      "text/plain": [
       "array([  641.37289317,  -110.49580795,   524.37329616,   609.78732901,\n",
       "          63.1410698 ,   233.23526695,  2163.73834497,  2191.45539749,\n",
       "        2191.73408735,  2163.01765535,  2244.19962467,  2191.73408735,\n",
       "        2243.91783269,  2190.70857748,  2217.67658327,  2162.71834965,\n",
       "        2163.31331994,  2243.76754517,  2163.59050922,  2243.91783269,\n",
       "        2243.46697334,  2191.15813233,  2218.55460437,  2243.31668903,\n",
       "        2218.55460437,  2535.68642761,  1815.56029568,  2587.7828875 ,\n",
       "        2220.36340529,  1050.23365566,  1049.83620667,  1826.25428893,\n",
       "        1041.73454123,  1041.73454123,  2959.58260472,  2152.87372283,\n",
       "         682.97592391,   299.0507519 ,  2924.28542141,  1049.83620667,\n",
       "        1041.73454123,   299.0507519 ,  2152.87372283,   674.13715368,\n",
       "        2049.36005446,   412.76110136,  1145.45896774,  2049.36005446,\n",
       "        1545.71013041,   444.625231  ,  1837.23932139,  1774.56657671,\n",
       "        2027.48966356,   917.16677372,   917.16677372,   666.06508889,\n",
       "        1817.45196637,   458.72958902,  1545.71013041,  1605.49168879,\n",
       "        1357.0620223 ,  1796.56096102,   632.47834467])"
      ]
     },
     "metadata": {},
     "output_type": "display_data"
    },
    {
     "name": "stdout",
     "output_type": "stream",
     "text": [
      "A: 6\n",
      "\n",
      "{{ scale_this: >>>>>>>>>>>>>>>>>>>>>>>>>>>>>>>>>>>>>>>>> Scaling X_train and X_test... }}\n",
      "\n"
     ]
    },
    {
     "data": {
      "text/plain": [
       "array([ 173.64,   45.97,  141.66,  164.88,   67.96,   98.47])"
      ]
     },
     "metadata": {},
     "output_type": "display_data"
    },
    {
     "data": {
      "text/plain": [
       "array([ 641.37289317, -110.49580795,  524.37329616,  609.78732901,\n",
       "         63.1410698 ,  233.23526695])"
      ]
     },
     "metadata": {},
     "output_type": "display_data"
    },
    {
     "name": "stdout",
     "output_type": "stream",
     "text": [
      "B: 19\n",
      "\n",
      "{{ scale_this: >>>>>>>>>>>>>>>>>>>>>>>>>>>>>>>>>>>>>>>>> Scaling X_train and X_test... }}\n",
      "\n"
     ]
    },
    {
     "data": {
      "text/plain": [
       "array([ 3309.8 ,  2896.76,  3359.25,  1861.97,  3344.01,  3371.75,\n",
       "        2855.36,  1423.13,  1721.38,  1323.62,  2396.68,  2472.15,\n",
       "        3028.27,  2877.71,  2024.25,  2314.1 ,  1174.9 ,  1723.63,  3348.91])"
      ]
     },
     "metadata": {},
     "output_type": "display_data"
    },
    {
     "data": {
      "text/plain": [
       "array([ 2163.73834497,  2191.45539749,  2191.73408735,  2163.01765535,\n",
       "        2244.19962467,  2191.73408735,  2243.91783269,  2190.70857748,\n",
       "        2217.67658327,  2162.71834965,  2163.31331994,  2243.76754517,\n",
       "        2163.59050922,  2243.91783269,  2243.46697334,  2191.15813233,\n",
       "        2218.55460437,  2243.31668903,  2218.55460437])"
      ]
     },
     "metadata": {},
     "output_type": "display_data"
    },
    {
     "name": "stdout",
     "output_type": "stream",
     "text": [
      "C: 19\n",
      "\n",
      "{{ scale_this: >>>>>>>>>>>>>>>>>>>>>>>>>>>>>>>>>>>>>>>>> Scaling X_train and X_test... }}\n",
      "\n"
     ]
    },
    {
     "data": {
      "text/plain": [
       "array([ 2683.3 ,  1873.73,  2684.27,  2083.07,   998.65,   976.5 ,\n",
       "        1868.49,  1076.1 ,  1073.56,  3326.93,  2265.29,   644.52,\n",
       "         298.64,  3059.32,  1083.5 ,  1001.19,   322.13,  2543.24,   692.62])"
      ]
     },
     "metadata": {},
     "output_type": "display_data"
    },
    {
     "data": {
      "text/plain": [
       "array([ 2535.68642761,  1815.56029568,  2587.7828875 ,  2220.36340529,\n",
       "        1050.23365566,  1049.83620667,  1826.25428893,  1041.73454123,\n",
       "        1041.73454123,  2959.58260472,  2152.87372283,   682.97592391,\n",
       "         299.0507519 ,  2924.28542141,  1049.83620667,  1041.73454123,\n",
       "         299.0507519 ,  2152.87372283,   674.13715368])"
      ]
     },
     "metadata": {},
     "output_type": "display_data"
    },
    {
     "name": "stdout",
     "output_type": "stream",
     "text": [
      "D: 19\n",
      "\n",
      "{{ scale_this: >>>>>>>>>>>>>>>>>>>>>>>>>>>>>>>>>>>>>>>>> Scaling X_train and X_test... }}\n",
      "\n"
     ]
    },
    {
     "data": {
      "text/plain": [
       "array([ 2478.78,   198.71,  1031.47,  2457.56,  1801.74,   216.12,\n",
       "        1925.99,  2125.54,  2239.73,   747.33,   810.75,   462.77,\n",
       "        2106.02,   218.82,  1634.05,  1802.26,  1332.56,  2142.12,   462.06])"
      ]
     },
     "metadata": {},
     "output_type": "display_data"
    },
    {
     "data": {
      "text/plain": [
       "array([ 2049.36005446,   412.76110136,  1145.45896774,  2049.36005446,\n",
       "        1545.71013041,   444.625231  ,  1837.23932139,  1774.56657671,\n",
       "        2027.48966356,   917.16677372,   917.16677372,   666.06508889,\n",
       "        1817.45196637,   458.72958902,  1545.71013041,  1605.49168879,\n",
       "        1357.0620223 ,  1796.56096102,   632.47834467])"
      ]
     },
     "metadata": {},
     "output_type": "display_data"
    },
    {
     "name": "stdout",
     "output_type": "stream",
     "text": [
      "【【】】adding new model for datasetIPPD.pickle \n",
      "\n",
      "【【【】】】newScore: 1173546.824938 \n",
      "____________________________________________________________________________________________________\n"
     ]
    }
   ],
   "source": [
    "t_SVRPolyCVModel = wrapper([ SVRPolyCVModel ])"
   ]
  },
  {
   "cell_type": "code",
   "execution_count": 11,
   "metadata": {
    "collapsed": false
   },
   "outputs": [
    {
     "name": "stdout",
     "output_type": "stream",
     "text": [
      "________________________________________________________________________________\n",
      "Model: SVR(C=1.0, cache_siz\n",
      "Train RMSE: 1173546.824938 \n",
      "\n",
      "A...TestA RMSE   : 317.766294\n",
      "A...y_test_A Mean: 115.430000 \n",
      "\n",
      "B...TestB RMSE   : 785.936757\n",
      "B...y_test_B Mean: 2464.612105 \n",
      "\n",
      "C...TestC RMSE   : 143.027711\n",
      "C...y_test_C Mean: 1608.160526 \n",
      "\n",
      "D...TestD RMSE   : 242.965511\n",
      "D...y_test_D Mean: 1378.651579\n",
      "________________________________________________________________________________\n"
     ]
    }
   ],
   "source": [
    "t_print = t_SVRPolyCVModel\n",
    "\n",
    "for key in t_print.keys():\n",
    "    print(80*'_')\n",
    "    \n",
    "    print('Model: %s' % (str(t_print[key]['model'])[:20]))\n",
    "    print('Train RMSE: %f \\n' % (t_print[key]['train_rmse_cv_picking']))\n",
    "    \n",
    "    #print('Test RMSE   : %f' % (t_print[key]['test_rmse_reporting']))\n",
    "    #print('Overall Mean: %f \\n' % (t_print[key]['test_mean_y_comparing']))\n",
    "    \n",
    "    print('A...TestA RMSE   : %f' % (t_print[key]['test_rmse_reportingA']))\n",
    "    print('A...y_test_A Mean: %f \\n' % (t_print[key]['test_mean_y_comparingA']))\n",
    "    \n",
    "    print('B...TestB RMSE   : %f' % (t_print[key]['test_rmse_reportingB']))\n",
    "    print('B...y_test_B Mean: %f \\n' % (t_print[key]['test_mean_y_comparingB']))\n",
    "    \n",
    "    print('C...TestC RMSE   : %f' % (t_print[key]['test_rmse_reportingC']))\n",
    "    print('C...y_test_C Mean: %f \\n' % (t_print[key]['test_mean_y_comparingC']))\n",
    "    \n",
    "    print('D...TestD RMSE   : %f' % (t_print[key]['test_rmse_reportingD']))\n",
    "    print('D...y_test_D Mean: %f' % (t_print[key]['test_mean_y_comparingD']))\n",
    "    \n",
    "    print(80*'_')"
   ]
  },
  {
   "cell_type": "code",
   "execution_count": 12,
   "metadata": {
    "collapsed": false
   },
   "outputs": [
    {
     "name": "stdout",
     "output_type": "stream",
     "text": [
      "4C4_SVRPolyCVModel_tuned_ABCD.pickle\n"
     ]
    }
   ],
   "source": [
    "# write the model\n",
    "import pickle\n",
    "\n",
    "#||||||||||||||||||| \n",
    "t_ = t_SVRPolyCVModel\n",
    "prefix = '4C4_' + 'SVRPolyCVModel'\n",
    "#||||||||||||||||||| \n",
    "\n",
    "for k in t_.keys():\n",
    "    mo   = t_[k]['model']\n",
    "    fname = prefix + '_tuned_ABCD' + '.pickle'\n",
    "       \n",
    "    print(fname)\n",
    "    # write the model to a file\n",
    "    with open(fname, 'wb') as handle:\n",
    "        pickle.dump(mo, handle)"
   ]
  },
  {
   "cell_type": "markdown",
   "metadata": {},
   "source": [
    "# rbf Kernel"
   ]
  },
  {
   "cell_type": "code",
   "execution_count": 13,
   "metadata": {
    "collapsed": false
   },
   "outputs": [
    {
     "name": "stdout",
     "output_type": "stream",
     "text": [
      "\n",
      "\n",
      "{{ scale_this: >>>>>>>>>>>>>>>>>>>>>>>>>>>>>>>>>>>>>>>>> Scaling X_train and X_test... }}\n",
      "\n",
      "Dataset size read: train 258 and test 63 \n",
      "\n",
      "# Tuning hyper-parameters \n",
      "\n",
      "Starting grdsurch.fit(X_train, y_train)\n",
      "\n",
      "Best parameters set found on development set:\n",
      "\n",
      "{'epsilon': 10.0, 'C': 1.0, 'gamma': 0.01, 'coef0': 0.0, 'degree': 3}\n",
      "SVR(C=1.0, cache_size=204800, coef0=0.0, degree=3, epsilon=10.0, gamma=0.01,\n",
      "  kernel='rbf', max_iter=-1, shrinking=False, tol=1e-07, verbose=False)\n",
      "\n",
      "Full Test Set: 63\n"
     ]
    },
    {
     "data": {
      "text/plain": [
       "array([  173.64,    45.97,   141.66,   164.88,    67.96,    98.47,\n",
       "        3309.8 ,  2896.76,  3359.25,  1861.97,  3344.01,  3371.75,\n",
       "        2855.36,  1423.13,  1721.38,  1323.62,  2396.68,  2472.15,\n",
       "        3028.27,  2877.71,  2024.25,  2314.1 ,  1174.9 ,  1723.63,\n",
       "        3348.91,  2683.3 ,  1873.73,  2684.27,  2083.07,   998.65,\n",
       "         976.5 ,  1868.49,  1076.1 ,  1073.56,  3326.93,  2265.29,\n",
       "         644.52,   298.64,  3059.32,  1083.5 ,  1001.19,   322.13,\n",
       "        2543.24,   692.62,  2478.78,   198.71,  1031.47,  2457.56,\n",
       "        1801.74,   216.12,  1925.99,  2125.54,  2239.73,   747.33,\n",
       "         810.75,   462.77,  2106.02,   218.82,  1634.05,  1802.26,\n",
       "        1332.56,  2142.12,   462.06])"
      ]
     },
     "metadata": {},
     "output_type": "display_data"
    },
    {
     "data": {
      "text/plain": [
       "array([ 1612.08221731,  1612.19480083,  1612.37618388,  1611.89264395,\n",
       "        1612.30882118,  1612.48857637,  1616.59668132,  1616.80019217,\n",
       "        1616.80004721,  1616.59705674,  1617.16540815,  1616.80004721,\n",
       "        1617.16554728,  1616.80058062,  1616.99317373,  1616.59721265,\n",
       "        1616.59690272,  1617.16562148,  1616.59675833,  1617.16554728,\n",
       "        1617.16576988,  1616.80034679,  1616.99272512,  1617.16584408,\n",
       "        1616.99272512,  1620.59951829,  1619.63588349,  1620.62166013,\n",
       "        1620.15383103,  1618.53552664,  1618.4751023 ,  1619.62725805,\n",
       "        1618.38635366,  1618.38635366,  1621.13847186,  1620.00899449,\n",
       "        1617.97210569,  1617.44525422,  1621.0911248 ,  1618.4751023 ,\n",
       "        1618.38635366,  1617.44525422,  1620.00899449,  1617.99095591,\n",
       "        1610.44257969,  1610.28686866,  1610.75249189,  1610.44257969,\n",
       "        1610.13626373,  1610.58953465,  1610.71707991,  1610.13574767,\n",
       "        1610.24666077,  1610.78227494,  1610.78227494,  1610.54140576,\n",
       "        1610.43515414,  1610.86931546,  1610.13626373,  1610.71983258,\n",
       "        1610.44874217,  1610.23820546,  1610.23828345])"
      ]
     },
     "metadata": {},
     "output_type": "display_data"
    },
    {
     "name": "stdout",
     "output_type": "stream",
     "text": [
      "A: 6\n",
      "\n",
      "{{ scale_this: >>>>>>>>>>>>>>>>>>>>>>>>>>>>>>>>>>>>>>>>> Scaling X_train and X_test... }}\n",
      "\n"
     ]
    },
    {
     "data": {
      "text/plain": [
       "array([ 173.64,   45.97,  141.66,  164.88,   67.96,   98.47])"
      ]
     },
     "metadata": {},
     "output_type": "display_data"
    },
    {
     "data": {
      "text/plain": [
       "array([ 1612.08221731,  1612.19480083,  1612.37618388,  1611.89264395,\n",
       "        1612.30882118,  1612.48857637])"
      ]
     },
     "metadata": {},
     "output_type": "display_data"
    },
    {
     "name": "stdout",
     "output_type": "stream",
     "text": [
      "B: 19\n",
      "\n",
      "{{ scale_this: >>>>>>>>>>>>>>>>>>>>>>>>>>>>>>>>>>>>>>>>> Scaling X_train and X_test... }}\n",
      "\n"
     ]
    },
    {
     "data": {
      "text/plain": [
       "array([ 3309.8 ,  2896.76,  3359.25,  1861.97,  3344.01,  3371.75,\n",
       "        2855.36,  1423.13,  1721.38,  1323.62,  2396.68,  2472.15,\n",
       "        3028.27,  2877.71,  2024.25,  2314.1 ,  1174.9 ,  1723.63,  3348.91])"
      ]
     },
     "metadata": {},
     "output_type": "display_data"
    },
    {
     "data": {
      "text/plain": [
       "array([ 1616.59668132,  1616.80019217,  1616.80004721,  1616.59705674,\n",
       "        1617.16540815,  1616.80004721,  1617.16554728,  1616.80058062,\n",
       "        1616.99317373,  1616.59721265,  1616.59690272,  1617.16562148,\n",
       "        1616.59675833,  1617.16554728,  1617.16576988,  1616.80034679,\n",
       "        1616.99272512,  1617.16584408,  1616.99272512])"
      ]
     },
     "metadata": {},
     "output_type": "display_data"
    },
    {
     "name": "stdout",
     "output_type": "stream",
     "text": [
      "C: 19\n",
      "\n",
      "{{ scale_this: >>>>>>>>>>>>>>>>>>>>>>>>>>>>>>>>>>>>>>>>> Scaling X_train and X_test... }}\n",
      "\n"
     ]
    },
    {
     "data": {
      "text/plain": [
       "array([ 2683.3 ,  1873.73,  2684.27,  2083.07,   998.65,   976.5 ,\n",
       "        1868.49,  1076.1 ,  1073.56,  3326.93,  2265.29,   644.52,\n",
       "         298.64,  3059.32,  1083.5 ,  1001.19,   322.13,  2543.24,   692.62])"
      ]
     },
     "metadata": {},
     "output_type": "display_data"
    },
    {
     "data": {
      "text/plain": [
       "array([ 1620.59951829,  1619.63588349,  1620.62166013,  1620.15383103,\n",
       "        1618.53552664,  1618.4751023 ,  1619.62725805,  1618.38635366,\n",
       "        1618.38635366,  1621.13847186,  1620.00899449,  1617.97210569,\n",
       "        1617.44525422,  1621.0911248 ,  1618.4751023 ,  1618.38635366,\n",
       "        1617.44525422,  1620.00899449,  1617.99095591])"
      ]
     },
     "metadata": {},
     "output_type": "display_data"
    },
    {
     "name": "stdout",
     "output_type": "stream",
     "text": [
      "D: 19\n",
      "\n",
      "{{ scale_this: >>>>>>>>>>>>>>>>>>>>>>>>>>>>>>>>>>>>>>>>> Scaling X_train and X_test... }}\n",
      "\n"
     ]
    },
    {
     "data": {
      "text/plain": [
       "array([ 2478.78,   198.71,  1031.47,  2457.56,  1801.74,   216.12,\n",
       "        1925.99,  2125.54,  2239.73,   747.33,   810.75,   462.77,\n",
       "        2106.02,   218.82,  1634.05,  1802.26,  1332.56,  2142.12,   462.06])"
      ]
     },
     "metadata": {},
     "output_type": "display_data"
    },
    {
     "data": {
      "text/plain": [
       "array([ 1610.44257969,  1610.28686866,  1610.75249189,  1610.44257969,\n",
       "        1610.13626373,  1610.58953465,  1610.71707991,  1610.13574767,\n",
       "        1610.24666077,  1610.78227494,  1610.78227494,  1610.54140576,\n",
       "        1610.43515414,  1610.86931546,  1610.13626373,  1610.71983258,\n",
       "        1610.44874217,  1610.23820546,  1610.23828345])"
      ]
     },
     "metadata": {},
     "output_type": "display_data"
    },
    {
     "name": "stdout",
     "output_type": "stream",
     "text": [
      "【【】】adding new model for datasetIPPD.pickle \n",
      "\n",
      "【【【】】】newScore: 1083775.362152 \n",
      "____________________________________________________________________________________________________\n"
     ]
    }
   ],
   "source": [
    "t_SVRRbfCVModel = wrapper([ SVRRbfCVModel ])"
   ]
  },
  {
   "cell_type": "code",
   "execution_count": 14,
   "metadata": {
    "collapsed": false
   },
   "outputs": [
    {
     "name": "stdout",
     "output_type": "stream",
     "text": [
      "________________________________________________________________________________\n",
      "Model: SVR(C=1.0, cache_siz\n",
      "Train RMSE: 1083775.362152 \n",
      "\n",
      "A...TestA RMSE   : 1497.569885\n",
      "A...y_test_A Mean: 115.430000 \n",
      "\n",
      "B...TestB RMSE   : 1126.484189\n",
      "B...y_test_B Mean: 2464.612105 \n",
      "\n",
      "C...TestC RMSE   : 921.208515\n",
      "C...y_test_C Mean: 1608.160526 \n",
      "\n",
      "D...TestD RMSE   : 831.750214\n",
      "D...y_test_D Mean: 1378.651579\n",
      "________________________________________________________________________________\n"
     ]
    }
   ],
   "source": [
    "t_print = t_SVRRbfCVModel\n",
    "\n",
    "for key in t_print.keys():\n",
    "    print(80*'_')\n",
    "    \n",
    "    print('Model: %s' % (str(t_print[key]['model'])[:20]))\n",
    "    print('Train RMSE: %f \\n' % (t_print[key]['train_rmse_cv_picking']))\n",
    "    \n",
    "    #print('Test RMSE   : %f' % (t_print[key]['test_rmse_reporting']))\n",
    "    #print('Overall Mean: %f \\n' % (t_print[key]['test_mean_y_comparing']))\n",
    "    \n",
    "    print('A...TestA RMSE   : %f' % (t_print[key]['test_rmse_reportingA']))\n",
    "    print('A...y_test_A Mean: %f \\n' % (t_print[key]['test_mean_y_comparingA']))\n",
    "    \n",
    "    print('B...TestB RMSE   : %f' % (t_print[key]['test_rmse_reportingB']))\n",
    "    print('B...y_test_B Mean: %f \\n' % (t_print[key]['test_mean_y_comparingB']))\n",
    "    \n",
    "    print('C...TestC RMSE   : %f' % (t_print[key]['test_rmse_reportingC']))\n",
    "    print('C...y_test_C Mean: %f \\n' % (t_print[key]['test_mean_y_comparingC']))\n",
    "    \n",
    "    print('D...TestD RMSE   : %f' % (t_print[key]['test_rmse_reportingD']))\n",
    "    print('D...y_test_D Mean: %f' % (t_print[key]['test_mean_y_comparingD']))\n",
    "    \n",
    "    print(80*'_')"
   ]
  },
  {
   "cell_type": "code",
   "execution_count": 15,
   "metadata": {
    "collapsed": false
   },
   "outputs": [
    {
     "name": "stdout",
     "output_type": "stream",
     "text": [
      "4C4_SVRRbfCVModel_tuned_ABCD.pickle\n"
     ]
    }
   ],
   "source": [
    "# write the model\n",
    "import pickle\n",
    "\n",
    "#||||||||||||||||||| \n",
    "t_ = t_SVRRbfCVModel\n",
    "prefix = '4C4_' + 'SVRRbfCVModel'\n",
    "#||||||||||||||||||| \n",
    "\n",
    "for k in t_.keys():\n",
    "    mo   = t_[k]['model']\n",
    "    fname = prefix + '_tuned_ABCD' + '.pickle'\n",
    "       \n",
    "    print(fname)\n",
    "    # write the model to a file\n",
    "    with open(fname, 'wb') as handle:\n",
    "        pickle.dump(mo, handle)"
   ]
  },
  {
   "cell_type": "markdown",
   "metadata": {},
   "source": [
    "# Which features were given most weights by each model ?"
   ]
  },
  {
   "cell_type": "code",
   "execution_count": null,
   "metadata": {
    "collapsed": true
   },
   "outputs": [],
   "source": []
  }
 ],
 "metadata": {
  "kernelspec": {
   "display_name": "Python 3",
   "language": "python",
   "name": "python3"
  },
  "language_info": {
   "codemirror_mode": {
    "name": "ipython",
    "version": 3
   },
   "file_extension": ".py",
   "mimetype": "text/x-python",
   "name": "python",
   "nbconvert_exporter": "python",
   "pygments_lexer": "ipython3",
   "version": "3.4.3"
  }
 },
 "nbformat": 4,
 "nbformat_minor": 2
}
