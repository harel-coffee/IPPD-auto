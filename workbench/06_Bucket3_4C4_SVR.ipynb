{
 "cells": [
  {
   "cell_type": "code",
   "execution_count": 1,
   "metadata": {
    "collapsed": false
   },
   "outputs": [
    {
     "name": "stdout",
     "output_type": "stream",
     "text": [
      "\n"
     ]
    }
   ],
   "source": [
    "# import all the filenames\n",
    "from allfunctions import *"
   ]
  },
  {
   "cell_type": "code",
   "execution_count": 2,
   "metadata": {
    "collapsed": false
   },
   "outputs": [],
   "source": [
    "%load_ext autoreload\n",
    "%autoreload 2"
   ]
  },
  {
   "cell_type": "markdown",
   "metadata": {},
   "source": [
    "7  def SVRSigmoidCVModel(filename):\n",
    "\n",
    "8 def SVRRbfCVModel(filename):"
   ]
  },
  {
   "cell_type": "code",
   "execution_count": 3,
   "metadata": {
    "collapsed": false
   },
   "outputs": [],
   "source": [
    "def wrapper(functionList = [], filenames = [ 'datasetIPPD.pickle' ]):\n",
    "    if __name__ == '__main__':\n",
    "        global model_selection\n",
    "        \n",
    "        global c\n",
    "        initialize_c()\n",
    "                \n",
    "        model_selection = {}\n",
    "        \n",
    "        for f in functionList:\n",
    "            print()\n",
    "            for filename in filenames:\n",
    "                out = f(filename)\n",
    "                newScore = out[filename]['train_rmse_cv_picking']\n",
    "\n",
    "                if f in model_selection:\n",
    "                    #compare scores and select more accurate model\n",
    "                    oldScore = model_selection[f]['train_rmse_cv_picking']\n",
    "                    if(newScore < oldScore):\n",
    "                        print(\"【【【】】】switching models for %s...\" % filename)\n",
    "                        print(\"【【【】】】newScore: %f < oldScore: %f\" % (newScore, oldScore))\n",
    "                        print(\"【【【】】】newModel: %s \\n\" % f)\n",
    "                        print(100*'_')\n",
    "                        model_selection[f] = out[filename]\n",
    "                else:\n",
    "                    #no score to compare\n",
    "                    print(\"【【】】adding new model for %s \\n\" % filename)\n",
    "                    print(\"【【【】】】newScore: %f \" % (newScore))\n",
    "                    print(100*'_')\n",
    "                    model_selection[f] = out[filename]\n",
    "    return model_selection"
   ]
  },
  {
   "cell_type": "markdown",
   "metadata": {},
   "source": [
    "<:>:<:>:<:>:<:>:<:>:<:>:<:>:<:>:<:>:<:>:<:>:<:>:<:>:<:>:<:><:>:<:>:<:>:<:>:<:>:<:>:<:>:<:>:<:>:<:>:<:>:<:>:<:>:<:>:<:>\n",
    "<:>:<:>:<:>:<:>:<:>:<:>:<:>:<:>:<:>:<:>:<:>:<:>:<:>:<:>:<:><:>:<:>:<:>:<:>:<:>:<:>:<:>:<:>:<:>:<:>:<:>:<:>:<:>:<:>:<:>\n",
    "<:>:<:>:<:>:<:>:<:>:<:>:<:>:<:>:<:>:<:>:<:>:<:>:<:>:<:>:<:><:>:<:>:<:>:<:>:<:>:<:>:<:>:<:>:<:>:<:>:<:>:<:>:<:>:<:>:<:>\n",
    "<:>:<:>:<:>:<:>:<:>:<:>:<:>:<:>:<:>:<:>:<:>:<:>:<:>:<:>:<:><:>:<:>:<:>:<:>:<:>:<:>:<:>:<:>:<:>:<:>:<:>:<:>:<:>:<:>:<:>\n"
   ]
  },
  {
   "cell_type": "markdown",
   "metadata": {},
   "source": [
    "# 1 Sigmoid Kernel"
   ]
  },
  {
   "cell_type": "code",
   "execution_count": 4,
   "metadata": {
    "collapsed": false
   },
   "outputs": [
    {
     "name": "stdout",
     "output_type": "stream",
     "text": [
      "\n",
      "Dataset size read: train 258 and test 63 \n",
      "\n",
      "# Tuning hyper-parameters \n",
      "\n",
      "Starting grdsurch.fit(X_train, y_train)\n",
      "\n",
      "Best parameters set found on development set:\n",
      "\n",
      "{'gamma': 1.0000000000000001e-15, 'C': 1.0000000000000001e-05}\n",
      "SVR(C=1.0000000000000001e-05, cache_size=20480, coef0=0.0, degree=3,\n",
      "  epsilon=0.1, gamma=1.0000000000000001e-15, kernel='sigmoid', max_iter=-1,\n",
      "  shrinking=False, tol=1e-07, verbose=False)\n",
      "\n",
      "Full Test Set: 63\n"
     ]
    },
    {
     "data": {
      "text/plain": [
       "array([  173.64,    45.97,   141.66,   164.88,    67.96,    98.47,\n",
       "        3309.8 ,  2896.76,  3359.25,  1861.97,  3344.01,  3371.75,\n",
       "        2855.36,  1423.13,  1721.38,  1323.62,  2396.68,  2472.15,\n",
       "        3028.27,  2877.71,  2024.25,  2314.1 ,  1174.9 ,  1723.63,\n",
       "        3348.91,  2683.3 ,  1873.73,  2684.27,  2083.07,   998.65,\n",
       "         976.5 ,  1868.49,  1076.1 ,  1073.56,  3326.93,  2265.29,\n",
       "         644.52,   298.64,  3059.32,  1083.5 ,  1001.19,   322.13,\n",
       "        2543.24,   692.62,  2478.78,   198.71,  1031.47,  2457.56,\n",
       "        1801.74,   216.12,  1925.99,  2125.54,  2239.73,   747.33,\n",
       "         810.75,   462.77,  2106.02,   218.82,  1634.05,  1802.26,\n",
       "        1332.56,  2142.12,   462.06])"
      ]
     },
     "metadata": {},
     "output_type": "display_data"
    },
    {
     "data": {
      "text/plain": [
       "array([ 1621.04,  1621.04,  1621.04,  1621.04,  1621.04,  1621.04,\n",
       "        1621.04,  1621.04,  1621.04,  1621.04,  1621.04,  1621.04,\n",
       "        1621.04,  1621.04,  1621.04,  1621.04,  1621.04,  1621.04,\n",
       "        1621.04,  1621.04,  1621.04,  1621.04,  1621.04,  1621.04,\n",
       "        1621.04,  1621.04,  1621.04,  1621.04,  1621.04,  1621.04,\n",
       "        1621.04,  1621.04,  1621.04,  1621.04,  1621.04,  1621.04,\n",
       "        1621.04,  1621.04,  1621.04,  1621.04,  1621.04,  1621.04,\n",
       "        1621.04,  1621.04,  1621.04,  1621.04,  1621.04,  1621.04,\n",
       "        1621.04,  1621.04,  1621.04,  1621.04,  1621.04,  1621.04,\n",
       "        1621.04,  1621.04,  1621.04,  1621.04,  1621.04,  1621.04,\n",
       "        1621.04,  1621.04,  1621.04])"
      ]
     },
     "metadata": {},
     "output_type": "display_data"
    },
    {
     "name": "stdout",
     "output_type": "stream",
     "text": [
      "A: 6\n"
     ]
    },
    {
     "data": {
      "text/plain": [
       "array([ 173.64,   45.97,  141.66,  164.88,   67.96,   98.47])"
      ]
     },
     "metadata": {},
     "output_type": "display_data"
    },
    {
     "data": {
      "text/plain": [
       "array([ 1621.04,  1621.04,  1621.04,  1621.04,  1621.04,  1621.04])"
      ]
     },
     "metadata": {},
     "output_type": "display_data"
    },
    {
     "name": "stdout",
     "output_type": "stream",
     "text": [
      "B: 19\n"
     ]
    },
    {
     "data": {
      "text/plain": [
       "array([ 3309.8 ,  2896.76,  3359.25,  1861.97,  3344.01,  3371.75,\n",
       "        2855.36,  1423.13,  1721.38,  1323.62,  2396.68,  2472.15,\n",
       "        3028.27,  2877.71,  2024.25,  2314.1 ,  1174.9 ,  1723.63,  3348.91])"
      ]
     },
     "metadata": {},
     "output_type": "display_data"
    },
    {
     "data": {
      "text/plain": [
       "array([ 1621.04,  1621.04,  1621.04,  1621.04,  1621.04,  1621.04,\n",
       "        1621.04,  1621.04,  1621.04,  1621.04,  1621.04,  1621.04,\n",
       "        1621.04,  1621.04,  1621.04,  1621.04,  1621.04,  1621.04,  1621.04])"
      ]
     },
     "metadata": {},
     "output_type": "display_data"
    },
    {
     "name": "stdout",
     "output_type": "stream",
     "text": [
      "C: 19\n"
     ]
    },
    {
     "data": {
      "text/plain": [
       "array([ 2683.3 ,  1873.73,  2684.27,  2083.07,   998.65,   976.5 ,\n",
       "        1868.49,  1076.1 ,  1073.56,  3326.93,  2265.29,   644.52,\n",
       "         298.64,  3059.32,  1083.5 ,  1001.19,   322.13,  2543.24,   692.62])"
      ]
     },
     "metadata": {},
     "output_type": "display_data"
    },
    {
     "data": {
      "text/plain": [
       "array([ 1621.04,  1621.04,  1621.04,  1621.04,  1621.04,  1621.04,\n",
       "        1621.04,  1621.04,  1621.04,  1621.04,  1621.04,  1621.04,\n",
       "        1621.04,  1621.04,  1621.04,  1621.04,  1621.04,  1621.04,  1621.04])"
      ]
     },
     "metadata": {},
     "output_type": "display_data"
    },
    {
     "name": "stdout",
     "output_type": "stream",
     "text": [
      "D: 19\n"
     ]
    },
    {
     "data": {
      "text/plain": [
       "array([ 2478.78,   198.71,  1031.47,  2457.56,  1801.74,   216.12,\n",
       "        1925.99,  2125.54,  2239.73,   747.33,   810.75,   462.77,\n",
       "        2106.02,   218.82,  1634.05,  1802.26,  1332.56,  2142.12,   462.06])"
      ]
     },
     "metadata": {},
     "output_type": "display_data"
    },
    {
     "data": {
      "text/plain": [
       "array([ 1621.04,  1621.04,  1621.04,  1621.04,  1621.04,  1621.04,\n",
       "        1621.04,  1621.04,  1621.04,  1621.04,  1621.04,  1621.04,\n",
       "        1621.04,  1621.04,  1621.04,  1621.04,  1621.04,  1621.04,  1621.04])"
      ]
     },
     "metadata": {},
     "output_type": "display_data"
    },
    {
     "name": "stdout",
     "output_type": "stream",
     "text": [
      "【【】】adding new model for datasetIPPD.pickle \n",
      "\n",
      "【【【】】】newScore: 1033.960548 \n",
      "____________________________________________________________________________________________________\n"
     ]
    }
   ],
   "source": [
    "t_SVRSigmoidCVModel = wrapper([ SVRSigmoidCVModel ])"
   ]
  },
  {
   "cell_type": "code",
   "execution_count": 5,
   "metadata": {
    "collapsed": false
   },
   "outputs": [
    {
     "name": "stdout",
     "output_type": "stream",
     "text": [
      "________________________________________________________________________________\n",
      "Model: SVR(C=1.000000000000\n",
      "Train RMSE: 1033.960548 \n",
      "\n",
      "A...TestA RMSE   : 1506.378454\n",
      "A...y_test_A Mean: 115.430000 \n",
      "\n",
      "B...TestB RMSE   : 1123.368465\n",
      "B...y_test_B Mean: 2464.612105 \n",
      "\n",
      "C...TestC RMSE   : 922.403983\n",
      "C...y_test_C Mean: 1608.160526 \n",
      "\n",
      "D...TestD RMSE   : 834.669441\n",
      "D...y_test_D Mean: 1378.651579\n",
      "________________________________________________________________________________\n"
     ]
    }
   ],
   "source": [
    "t_print = t_SVRSigmoidCVModel\n",
    "\n",
    "for key in t_print.keys():\n",
    "    print(80*'_')\n",
    "    \n",
    "    print('Model: %s' % (str(t_print[key]['model'])[:20]))\n",
    "    print('Train RMSE: %f \\n' % (t_print[key]['train_rmse_cv_picking']))\n",
    "    \n",
    "    #print('Test RMSE   : %f' % (t_print[key]['test_rmse_reporting']))\n",
    "    #print('Overall Mean: %f \\n' % (t_print[key]['test_mean_y_comparing']))\n",
    "    \n",
    "    print('A...TestA RMSE   : %f' % (t_print[key]['test_rmse_reportingA']))\n",
    "    print('A...y_test_A Mean: %f \\n' % (t_print[key]['test_mean_y_comparingA']))\n",
    "    \n",
    "    print('B...TestB RMSE   : %f' % (t_print[key]['test_rmse_reportingB']))\n",
    "    print('B...y_test_B Mean: %f \\n' % (t_print[key]['test_mean_y_comparingB']))\n",
    "    \n",
    "    print('C...TestC RMSE   : %f' % (t_print[key]['test_rmse_reportingC']))\n",
    "    print('C...y_test_C Mean: %f \\n' % (t_print[key]['test_mean_y_comparingC']))\n",
    "    \n",
    "    print('D...TestD RMSE   : %f' % (t_print[key]['test_rmse_reportingD']))\n",
    "    print('D...y_test_D Mean: %f' % (t_print[key]['test_mean_y_comparingD']))\n",
    "    \n",
    "    print(80*'_')"
   ]
  },
  {
   "cell_type": "code",
   "execution_count": 6,
   "metadata": {
    "collapsed": false
   },
   "outputs": [
    {
     "name": "stdout",
     "output_type": "stream",
     "text": [
      "4C4_SVRSigmoidCVModel_tuned_ABCD.pickle\n"
     ]
    }
   ],
   "source": [
    "# write the model\n",
    "import pickle\n",
    "\n",
    "#||||||||||||||||||| \n",
    "t_ = t_SVRSigmoidCVModel\n",
    "prefix = '4C4_' + 'SVRSigmoidCVModel'\n",
    "#||||||||||||||||||| \n",
    "\n",
    "for k in t_.keys():\n",
    "    mo   = t_[k]['model']\n",
    "    fname = prefix + '_tuned_ABCD' + '.pickle'\n",
    "       \n",
    "    print(fname)\n",
    "    # write the model to a file\n",
    "    with open(fname, 'wb') as handle:\n",
    "        pickle.dump(mo, handle)"
   ]
  },
  {
   "cell_type": "markdown",
   "metadata": {},
   "source": [
    "# 2 Poly Kernel"
   ]
  },
  {
   "cell_type": "code",
   "execution_count": 7,
   "metadata": {
    "collapsed": false
   },
   "outputs": [
    {
     "name": "stdout",
     "output_type": "stream",
     "text": [
      "\n",
      "Dataset size read: train 258 and test 63 \n",
      "\n",
      "# Tuning hyper-parameters... \n",
      "\n",
      "Starting grdsurch.fit(X_train, y_train)\n"
     ]
    },
    {
     "ename": "JoblibValueError",
     "evalue": "JoblibValueError\n___________________________________________________________________________\nMultiprocessing exception:\n...........................................................................\n/usr/lib/python3.4/runpy.py in _run_module_as_main(mod_name='ipykernel.__main__', alter_argv=1)\n    165         sys.exit(msg)\n    166     main_globals = sys.modules[\"__main__\"].__dict__\n    167     if alter_argv:\n    168         sys.argv[0] = mod_spec.origin\n    169     return _run_code(code, main_globals, None,\n--> 170                      \"__main__\", mod_spec)\n        mod_spec = ModuleSpec(name='ipykernel.__main__', loader=<_f...b/python3.4/dist-packages/ipykernel/__main__.py')\n    171 \n    172 def run_module(mod_name, init_globals=None,\n    173                run_name=None, alter_sys=False):\n    174     \"\"\"Execute a module's code without importing it\n\n...........................................................................\n/usr/lib/python3.4/runpy.py in _run_code(code=<code object <module> at 0x7f317bbc24b0, file \"/...3.4/dist-packages/ipykernel/__main__.py\", line 1>, run_globals={'__builtins__': <module 'builtins' (built-in)>, '__cached__': '/usr/local/lib/python3.4/dist-packages/ipykernel/__pycache__/__main__.cpython-34.pyc', '__doc__': None, '__file__': '/usr/local/lib/python3.4/dist-packages/ipykernel/__main__.py', '__loader__': <_frozen_importlib.SourceFileLoader object>, '__name__': '__main__', '__package__': 'ipykernel', '__spec__': ModuleSpec(name='ipykernel.__main__', loader=<_f...b/python3.4/dist-packages/ipykernel/__main__.py'), 'app': <module 'ipykernel.kernelapp' from '/usr/local/lib/python3.4/dist-packages/ipykernel/kernelapp.py'>}, init_globals=None, mod_name='__main__', mod_spec=ModuleSpec(name='ipykernel.__main__', loader=<_f...b/python3.4/dist-packages/ipykernel/__main__.py'), pkg_name='ipykernel', script_name=None)\n     80                        __cached__ = cached,\n     81                        __doc__ = None,\n     82                        __loader__ = loader,\n     83                        __package__ = pkg_name,\n     84                        __spec__ = mod_spec)\n---> 85     exec(code, run_globals)\n        code = <code object <module> at 0x7f317bbc24b0, file \"/...3.4/dist-packages/ipykernel/__main__.py\", line 1>\n        run_globals = {'__builtins__': <module 'builtins' (built-in)>, '__cached__': '/usr/local/lib/python3.4/dist-packages/ipykernel/__pycache__/__main__.cpython-34.pyc', '__doc__': None, '__file__': '/usr/local/lib/python3.4/dist-packages/ipykernel/__main__.py', '__loader__': <_frozen_importlib.SourceFileLoader object>, '__name__': '__main__', '__package__': 'ipykernel', '__spec__': ModuleSpec(name='ipykernel.__main__', loader=<_f...b/python3.4/dist-packages/ipykernel/__main__.py'), 'app': <module 'ipykernel.kernelapp' from '/usr/local/lib/python3.4/dist-packages/ipykernel/kernelapp.py'>}\n     86     return run_globals\n     87 \n     88 def _run_module_code(code, init_globals=None,\n     89                     mod_name=None, mod_spec=None,\n\n...........................................................................\n/usr/local/lib/python3.4/dist-packages/ipykernel/__main__.py in <module>()\n      1 \n      2 \n----> 3 \n      4 if __name__ == '__main__':\n      5     from ipykernel import kernelapp as app\n      6     app.launch_new_instance()\n      7 \n      8 \n      9 \n     10 \n\n...........................................................................\n/usr/local/lib/python3.4/dist-packages/traitlets/config/application.py in launch_instance(cls=<class 'ipykernel.kernelapp.IPKernelApp'>, argv=None, **kwargs={})\n    653 \n    654         If a global instance already exists, this reinitializes and starts it\n    655         \"\"\"\n    656         app = cls.instance(**kwargs)\n    657         app.initialize(argv)\n--> 658         app.start()\n        app.start = <bound method IPKernelApp.start of <ipykernel.kernelapp.IPKernelApp object>>\n    659 \n    660 #-----------------------------------------------------------------------------\n    661 # utility functions, for convenience\n    662 #-----------------------------------------------------------------------------\n\n...........................................................................\n/usr/local/lib/python3.4/dist-packages/ipykernel/kernelapp.py in start(self=<ipykernel.kernelapp.IPKernelApp object>)\n    469             return self.subapp.start()\n    470         if self.poller is not None:\n    471             self.poller.start()\n    472         self.kernel.start()\n    473         try:\n--> 474             ioloop.IOLoop.instance().start()\n    475         except KeyboardInterrupt:\n    476             pass\n    477 \n    478 launch_new_instance = IPKernelApp.launch_instance\n\n...........................................................................\n/usr/local/lib/python3.4/dist-packages/zmq/eventloop/ioloop.py in start(self=<zmq.eventloop.ioloop.ZMQIOLoop object>)\n    172             )\n    173         return loop\n    174     \n    175     def start(self):\n    176         try:\n--> 177             super(ZMQIOLoop, self).start()\n        self.start = <bound method ZMQIOLoop.start of <zmq.eventloop.ioloop.ZMQIOLoop object>>\n    178         except ZMQError as e:\n    179             if e.errno == ETERM:\n    180                 # quietly return on ETERM\n    181                 pass\n\n...........................................................................\n/usr/local/lib/python3.4/dist-packages/tornado/ioloop.py in start(self=<zmq.eventloop.ioloop.ZMQIOLoop object>)\n    882                 self._events.update(event_pairs)\n    883                 while self._events:\n    884                     fd, events = self._events.popitem()\n    885                     try:\n    886                         fd_obj, handler_func = self._handlers[fd]\n--> 887                         handler_func(fd_obj, events)\n        handler_func = <function wrap.<locals>.null_wrapper>\n        fd_obj = <zmq.sugar.socket.Socket object>\n        events = 1\n    888                     except (OSError, IOError) as e:\n    889                         if errno_from_exception(e) == errno.EPIPE:\n    890                             # Happens when the client closes the connection\n    891                             pass\n\n...........................................................................\n/usr/local/lib/python3.4/dist-packages/tornado/stack_context.py in null_wrapper(*args=(<zmq.sugar.socket.Socket object>, 1), **kwargs={})\n    270         # Fast path when there are no active contexts.\n    271         def null_wrapper(*args, **kwargs):\n    272             try:\n    273                 current_state = _state.contexts\n    274                 _state.contexts = cap_contexts[0]\n--> 275                 return fn(*args, **kwargs)\n        args = (<zmq.sugar.socket.Socket object>, 1)\n        kwargs = {}\n    276             finally:\n    277                 _state.contexts = current_state\n    278         null_wrapper._wrapped = True\n    279         return null_wrapper\n\n...........................................................................\n/usr/local/lib/python3.4/dist-packages/zmq/eventloop/zmqstream.py in _handle_events(self=<zmq.eventloop.zmqstream.ZMQStream object>, fd=<zmq.sugar.socket.Socket object>, events=1)\n    435             # dispatch events:\n    436             if events & IOLoop.ERROR:\n    437                 gen_log.error(\"got POLLERR event on ZMQStream, which doesn't make sense\")\n    438                 return\n    439             if events & IOLoop.READ:\n--> 440                 self._handle_recv()\n        self._handle_recv = <bound method ZMQStream._handle_recv of <zmq.eventloop.zmqstream.ZMQStream object>>\n    441                 if not self.socket:\n    442                     return\n    443             if events & IOLoop.WRITE:\n    444                 self._handle_send()\n\n...........................................................................\n/usr/local/lib/python3.4/dist-packages/zmq/eventloop/zmqstream.py in _handle_recv(self=<zmq.eventloop.zmqstream.ZMQStream object>)\n    467                 gen_log.error(\"RECV Error: %s\"%zmq.strerror(e.errno))\n    468         else:\n    469             if self._recv_callback:\n    470                 callback = self._recv_callback\n    471                 # self._recv_callback = None\n--> 472                 self._run_callback(callback, msg)\n        self._run_callback = <bound method ZMQStream._run_callback of <zmq.eventloop.zmqstream.ZMQStream object>>\n        callback = <function wrap.<locals>.null_wrapper>\n        msg = [<zmq.sugar.frame.Frame object>, <zmq.sugar.frame.Frame object>, <zmq.sugar.frame.Frame object>, <zmq.sugar.frame.Frame object>, <zmq.sugar.frame.Frame object>, <zmq.sugar.frame.Frame object>, <zmq.sugar.frame.Frame object>]\n    473                 \n    474         # self.update_state()\n    475         \n    476 \n\n...........................................................................\n/usr/local/lib/python3.4/dist-packages/zmq/eventloop/zmqstream.py in _run_callback(self=<zmq.eventloop.zmqstream.ZMQStream object>, callback=<function wrap.<locals>.null_wrapper>, *args=([<zmq.sugar.frame.Frame object>, <zmq.sugar.frame.Frame object>, <zmq.sugar.frame.Frame object>, <zmq.sugar.frame.Frame object>, <zmq.sugar.frame.Frame object>, <zmq.sugar.frame.Frame object>, <zmq.sugar.frame.Frame object>],), **kwargs={})\n    409         close our socket.\"\"\"\n    410         try:\n    411             # Use a NullContext to ensure that all StackContexts are run\n    412             # inside our blanket exception handler rather than outside.\n    413             with stack_context.NullContext():\n--> 414                 callback(*args, **kwargs)\n        callback = <function wrap.<locals>.null_wrapper>\n        args = ([<zmq.sugar.frame.Frame object>, <zmq.sugar.frame.Frame object>, <zmq.sugar.frame.Frame object>, <zmq.sugar.frame.Frame object>, <zmq.sugar.frame.Frame object>, <zmq.sugar.frame.Frame object>, <zmq.sugar.frame.Frame object>],)\n        kwargs = {}\n    415         except:\n    416             gen_log.error(\"Uncaught exception, closing connection.\",\n    417                           exc_info=True)\n    418             # Close the socket on an uncaught exception from a user callback\n\n...........................................................................\n/usr/local/lib/python3.4/dist-packages/tornado/stack_context.py in null_wrapper(*args=([<zmq.sugar.frame.Frame object>, <zmq.sugar.frame.Frame object>, <zmq.sugar.frame.Frame object>, <zmq.sugar.frame.Frame object>, <zmq.sugar.frame.Frame object>, <zmq.sugar.frame.Frame object>, <zmq.sugar.frame.Frame object>],), **kwargs={})\n    270         # Fast path when there are no active contexts.\n    271         def null_wrapper(*args, **kwargs):\n    272             try:\n    273                 current_state = _state.contexts\n    274                 _state.contexts = cap_contexts[0]\n--> 275                 return fn(*args, **kwargs)\n        args = ([<zmq.sugar.frame.Frame object>, <zmq.sugar.frame.Frame object>, <zmq.sugar.frame.Frame object>, <zmq.sugar.frame.Frame object>, <zmq.sugar.frame.Frame object>, <zmq.sugar.frame.Frame object>, <zmq.sugar.frame.Frame object>],)\n        kwargs = {}\n    276             finally:\n    277                 _state.contexts = current_state\n    278         null_wrapper._wrapped = True\n    279         return null_wrapper\n\n...........................................................................\n/usr/local/lib/python3.4/dist-packages/ipykernel/kernelbase.py in dispatcher(msg=[<zmq.sugar.frame.Frame object>, <zmq.sugar.frame.Frame object>, <zmq.sugar.frame.Frame object>, <zmq.sugar.frame.Frame object>, <zmq.sugar.frame.Frame object>, <zmq.sugar.frame.Frame object>, <zmq.sugar.frame.Frame object>])\n    271         if self.control_stream:\n    272             self.control_stream.on_recv(self.dispatch_control, copy=False)\n    273 \n    274         def make_dispatcher(stream):\n    275             def dispatcher(msg):\n--> 276                 return self.dispatch_shell(stream, msg)\n        msg = [<zmq.sugar.frame.Frame object>, <zmq.sugar.frame.Frame object>, <zmq.sugar.frame.Frame object>, <zmq.sugar.frame.Frame object>, <zmq.sugar.frame.Frame object>, <zmq.sugar.frame.Frame object>, <zmq.sugar.frame.Frame object>]\n    277             return dispatcher\n    278 \n    279         for s in self.shell_streams:\n    280             s.on_recv(make_dispatcher(s), copy=False)\n\n...........................................................................\n/usr/local/lib/python3.4/dist-packages/ipykernel/kernelbase.py in dispatch_shell(self=<ipykernel.ipkernel.IPythonKernel object>, stream=<zmq.eventloop.zmqstream.ZMQStream object>, msg={'buffers': [], 'content': {'allow_stdin': True, 'code': 't_SVRPolyCVModel = wrapper([ SVRPolyCVModel ])', 'silent': False, 'stop_on_error': True, 'store_history': True, 'user_expressions': {}}, 'header': {'date': '2017-04-13T12:51:39.733504', 'msg_id': 'ECF096D0180E4FFC8770F313287442E4', 'msg_type': 'execute_request', 'session': '871CD760EAC7455F9A11248547C9754C', 'username': 'username', 'version': '5.0'}, 'metadata': {}, 'msg_id': 'ECF096D0180E4FFC8770F313287442E4', 'msg_type': 'execute_request', 'parent_header': {}})\n    223             self.log.error(\"UNKNOWN MESSAGE TYPE: %r\", msg_type)\n    224         else:\n    225             self.log.debug(\"%s: %s\", msg_type, msg)\n    226             self.pre_handler_hook()\n    227             try:\n--> 228                 handler(stream, idents, msg)\n        handler = <bound method IPythonKernel.execute_request of <ipykernel.ipkernel.IPythonKernel object>>\n        stream = <zmq.eventloop.zmqstream.ZMQStream object>\n        idents = [b'871CD760EAC7455F9A11248547C9754C']\n        msg = {'buffers': [], 'content': {'allow_stdin': True, 'code': 't_SVRPolyCVModel = wrapper([ SVRPolyCVModel ])', 'silent': False, 'stop_on_error': True, 'store_history': True, 'user_expressions': {}}, 'header': {'date': '2017-04-13T12:51:39.733504', 'msg_id': 'ECF096D0180E4FFC8770F313287442E4', 'msg_type': 'execute_request', 'session': '871CD760EAC7455F9A11248547C9754C', 'username': 'username', 'version': '5.0'}, 'metadata': {}, 'msg_id': 'ECF096D0180E4FFC8770F313287442E4', 'msg_type': 'execute_request', 'parent_header': {}}\n    229             except Exception:\n    230                 self.log.error(\"Exception in message handler:\", exc_info=True)\n    231             finally:\n    232                 self.post_handler_hook()\n\n...........................................................................\n/usr/local/lib/python3.4/dist-packages/ipykernel/kernelbase.py in execute_request(self=<ipykernel.ipkernel.IPythonKernel object>, stream=<zmq.eventloop.zmqstream.ZMQStream object>, ident=[b'871CD760EAC7455F9A11248547C9754C'], parent={'buffers': [], 'content': {'allow_stdin': True, 'code': 't_SVRPolyCVModel = wrapper([ SVRPolyCVModel ])', 'silent': False, 'stop_on_error': True, 'store_history': True, 'user_expressions': {}}, 'header': {'date': '2017-04-13T12:51:39.733504', 'msg_id': 'ECF096D0180E4FFC8770F313287442E4', 'msg_type': 'execute_request', 'session': '871CD760EAC7455F9A11248547C9754C', 'username': 'username', 'version': '5.0'}, 'metadata': {}, 'msg_id': 'ECF096D0180E4FFC8770F313287442E4', 'msg_type': 'execute_request', 'parent_header': {}})\n    385         if not silent:\n    386             self.execution_count += 1\n    387             self._publish_execute_input(code, parent, self.execution_count)\n    388 \n    389         reply_content = self.do_execute(code, silent, store_history,\n--> 390                                         user_expressions, allow_stdin)\n        user_expressions = {}\n        allow_stdin = True\n    391 \n    392         # Flush output before sending the reply.\n    393         sys.stdout.flush()\n    394         sys.stderr.flush()\n\n...........................................................................\n/usr/local/lib/python3.4/dist-packages/ipykernel/ipkernel.py in do_execute(self=<ipykernel.ipkernel.IPythonKernel object>, code='t_SVRPolyCVModel = wrapper([ SVRPolyCVModel ])', silent=False, store_history=True, user_expressions={}, allow_stdin=True)\n    191 \n    192         self._forward_input(allow_stdin)\n    193 \n    194         reply_content = {}\n    195         try:\n--> 196             res = shell.run_cell(code, store_history=store_history, silent=silent)\n        res = undefined\n        shell.run_cell = <bound method ZMQInteractiveShell.run_cell of <ipykernel.zmqshell.ZMQInteractiveShell object>>\n        code = 't_SVRPolyCVModel = wrapper([ SVRPolyCVModel ])'\n        store_history = True\n        silent = False\n    197         finally:\n    198             self._restore_input()\n    199 \n    200         if res.error_before_exec is not None:\n\n...........................................................................\n/usr/local/lib/python3.4/dist-packages/ipykernel/zmqshell.py in run_cell(self=<ipykernel.zmqshell.ZMQInteractiveShell object>, *args=('t_SVRPolyCVModel = wrapper([ SVRPolyCVModel ])',), **kwargs={'silent': False, 'store_history': True})\n    496             )\n    497         self.payload_manager.write_payload(payload)\n    498 \n    499     def run_cell(self, *args, **kwargs):\n    500         self._last_traceback = None\n--> 501         return super(ZMQInteractiveShell, self).run_cell(*args, **kwargs)\n        self.run_cell = <bound method ZMQInteractiveShell.run_cell of <ipykernel.zmqshell.ZMQInteractiveShell object>>\n        args = ('t_SVRPolyCVModel = wrapper([ SVRPolyCVModel ])',)\n        kwargs = {'silent': False, 'store_history': True}\n    502 \n    503     def _showtraceback(self, etype, evalue, stb):\n    504         # try to preserve ordering of tracebacks and print statements\n    505         sys.stdout.flush()\n\n...........................................................................\n/usr/local/lib/python3.4/dist-packages/IPython/core/interactiveshell.py in run_cell(self=<ipykernel.zmqshell.ZMQInteractiveShell object>, raw_cell='t_SVRPolyCVModel = wrapper([ SVRPolyCVModel ])', store_history=True, silent=False, shell_futures=True)\n   2712                 self.displayhook.exec_result = result\n   2713 \n   2714                 # Execute the user code\n   2715                 interactivity = \"none\" if silent else self.ast_node_interactivity\n   2716                 has_raised = self.run_ast_nodes(code_ast.body, cell_name,\n-> 2717                    interactivity=interactivity, compiler=compiler, result=result)\n        interactivity = 'last_expr'\n        compiler = <IPython.core.compilerop.CachingCompiler object>\n   2718                 \n   2719                 self.last_execution_succeeded = not has_raised\n   2720 \n   2721                 # Reset this so later displayed values do not modify the\n\n...........................................................................\n/usr/local/lib/python3.4/dist-packages/IPython/core/interactiveshell.py in run_ast_nodes(self=<ipykernel.zmqshell.ZMQInteractiveShell object>, nodelist=[<_ast.Assign object>], cell_name='<ipython-input-7-42fccdee9ce5>', interactivity='none', compiler=<IPython.core.compilerop.CachingCompiler object>, result=<ExecutionResult object at 7f31482a3b00, executi..._before_exec=None error_in_exec=None result=None>)\n   2816 \n   2817         try:\n   2818             for i, node in enumerate(to_run_exec):\n   2819                 mod = ast.Module([node])\n   2820                 code = compiler(mod, cell_name, \"exec\")\n-> 2821                 if self.run_code(code, result):\n        self.run_code = <bound method ZMQInteractiveShell.run_code of <ipykernel.zmqshell.ZMQInteractiveShell object>>\n        code = <code object <module> at 0x7f3174df19c0, file \"<ipython-input-7-42fccdee9ce5>\", line 1>\n        result = <ExecutionResult object at 7f31482a3b00, executi..._before_exec=None error_in_exec=None result=None>\n   2822                     return True\n   2823 \n   2824             for i, node in enumerate(to_run_interactive):\n   2825                 mod = ast.Interactive([node])\n\n...........................................................................\n/usr/local/lib/python3.4/dist-packages/IPython/core/interactiveshell.py in run_code(self=<ipykernel.zmqshell.ZMQInteractiveShell object>, code_obj=<code object <module> at 0x7f3174df19c0, file \"<ipython-input-7-42fccdee9ce5>\", line 1>, result=<ExecutionResult object at 7f31482a3b00, executi..._before_exec=None error_in_exec=None result=None>)\n   2876         outflag = 1  # happens in more places, so it's easier as default\n   2877         try:\n   2878             try:\n   2879                 self.hooks.pre_run_code_hook()\n   2880                 #rprint('Running code', repr(code_obj)) # dbg\n-> 2881                 exec(code_obj, self.user_global_ns, self.user_ns)\n        code_obj = <code object <module> at 0x7f3174df19c0, file \"<ipython-input-7-42fccdee9ce5>\", line 1>\n        self.user_global_ns = {'ElasticNetCVModel': <function ElasticNetCVModel>, 'GradientBoostingCVModel': <function GradientBoostingCVModel>, 'In': ['', '# import all the filenames\\nfrom allfunctions import *', \"get_ipython().magic('load_ext autoreload')\\nget_ipython().magic('autoreload 2')\", \"def wrapper(functionList = [], filenames = [ 'da...ion[f] = out[filename]\\n    return model_selection\", 't_SVRSigmoidCVModel = wrapper([ SVRSigmoidCVModel ])', \"t_print = t_SVRSigmoidCVModel\\n\\nfor key in t_prin...test_mean_y_comparingD']))\\n    \\n    print(80*'_')\", \"# write the model\\nimport pickle\\n\\n#||||||||||||||... 'wb') as handle:\\n        pickle.dump(mo, handle)\", 't_SVRPolyCVModel = wrapper([ SVRPolyCVModel ])'], 'LassoCVModel': <function LassoCVModel>, 'OMPCVModel': <function OMPCVModel>, 'Out': {}, 'RandomForestCVModel': <function RandomForestCVModel>, 'RidgeCVModel': <function RidgeCVModel>, 'SVRLinearCVModel': <function SVRLinearCVModel>, 'SVRPolyCVModel': <function SVRPolyCVModel>, ...}\n        self.user_ns = {'ElasticNetCVModel': <function ElasticNetCVModel>, 'GradientBoostingCVModel': <function GradientBoostingCVModel>, 'In': ['', '# import all the filenames\\nfrom allfunctions import *', \"get_ipython().magic('load_ext autoreload')\\nget_ipython().magic('autoreload 2')\", \"def wrapper(functionList = [], filenames = [ 'da...ion[f] = out[filename]\\n    return model_selection\", 't_SVRSigmoidCVModel = wrapper([ SVRSigmoidCVModel ])', \"t_print = t_SVRSigmoidCVModel\\n\\nfor key in t_prin...test_mean_y_comparingD']))\\n    \\n    print(80*'_')\", \"# write the model\\nimport pickle\\n\\n#||||||||||||||... 'wb') as handle:\\n        pickle.dump(mo, handle)\", 't_SVRPolyCVModel = wrapper([ SVRPolyCVModel ])'], 'LassoCVModel': <function LassoCVModel>, 'OMPCVModel': <function OMPCVModel>, 'Out': {}, 'RandomForestCVModel': <function RandomForestCVModel>, 'RidgeCVModel': <function RidgeCVModel>, 'SVRLinearCVModel': <function SVRLinearCVModel>, 'SVRPolyCVModel': <function SVRPolyCVModel>, ...}\n   2882             finally:\n   2883                 # Reset our crash handler in place\n   2884                 sys.excepthook = old_excepthook\n   2885         except SystemExit as e:\n\n...........................................................................\n/data/home/a1singh/IPPD/IPPD/workbench/<ipython-input-7-42fccdee9ce5> in <module>()\n----> 1 \n      2 \n      3 \n      4 \n      5 \n      6 t_SVRPolyCVModel = wrapper([ SVRPolyCVModel ])\n      7 \n      8 \n      9 \n     10 \n\n...........................................................................\n/data/home/a1singh/IPPD/IPPD/workbench/<ipython-input-3-266c1878d019> in wrapper(functionList=[<function SVRPolyCVModel>], filenames=['datasetIPPD.pickle'])\n      8         model_selection = {}\n      9         \n     10         for f in functionList:\n     11             print()\n     12             for filename in filenames:\n---> 13                 out = f(filename)\n     14                 newScore = out[filename]['train_rmse_cv_picking']\n     15 \n     16                 if f in model_selection:\n     17                     #compare scores and select more accurate model\n\n...........................................................................\n/data/home/a1singh/IPPD/IPPD/workbench/allfunctions.py in SVRPolyCVModel(filename='datasetIPPD.pickle', scale=False)\n    664                        cv=3, \n    665                        n_jobs=-1, \n    666                        scoring=rmse_scorer)\n    667     print('Starting grdsurch.fit(X_train, y_train)')\n    668     \n--> 669     grdsurch.fit(X_train, y_train)\n        grdsurch.fit = <bound method GridSearchCV.fit of GridSearchCV(c...ction rmse_scorer at 0x7f31793716a8>, verbose=0)>\n        X_train =       ppn    sizeGB     ft1     ft2     ft3   ft...8.0  \n257  13.0  558.0  \n\n[258 rows x 57 columns]\n        y_train = array([   68.75,   204.44,    21.63,   120.19,  ... 464.01,  1037.79,  2453.84,   510.55,  2442.42])\n    670 \n    671     print(\"\\nBest parameters set found on development set:\")\n    672     print()\n    673     print(grdsurch.best_params_)\n\n...........................................................................\n/usr/local/lib/python3.4/dist-packages/sklearn/model_selection/_search.py in fit(self=GridSearchCV(cv=3, error_score='raise',\n       e...nction rmse_scorer at 0x7f31793716a8>, verbose=0), X=      ppn    sizeGB     ft1     ft2     ft3   ft...8.0  \n257  13.0  558.0  \n\n[258 rows x 57 columns], y=array([   68.75,   204.44,    21.63,   120.19,  ... 464.01,  1037.79,  2453.84,   510.55,  2442.42]), groups=None)\n    940 \n    941         groups : array-like, with shape (n_samples,), optional\n    942             Group labels for the samples used while splitting the dataset into\n    943             train/test set.\n    944         \"\"\"\n--> 945         return self._fit(X, y, groups, ParameterGrid(self.param_grid))\n        self._fit = <bound method GridSearchCV._fit of GridSearchCV(...ction rmse_scorer at 0x7f31793716a8>, verbose=0)>\n        X =       ppn    sizeGB     ft1     ft2     ft3   ft...8.0  \n257  13.0  558.0  \n\n[258 rows x 57 columns]\n        y = array([   68.75,   204.44,    21.63,   120.19,  ... 464.01,  1037.79,  2453.84,   510.55,  2442.42])\n        groups = None\n        self.param_grid = [{'C': array([  1.00000000e-05,   1.00000000e+15]), 'degree': [6], 'gamma': array([  1.00000000e-15,   1.00000000e+03])}]\n    946 \n    947 \n    948 class RandomizedSearchCV(BaseSearchCV):\n    949     \"\"\"Randomized search on hyper parameters.\n\n...........................................................................\n/usr/local/lib/python3.4/dist-packages/sklearn/model_selection/_search.py in _fit(self=GridSearchCV(cv=3, error_score='raise',\n       e...nction rmse_scorer at 0x7f31793716a8>, verbose=0), X=      ppn    sizeGB     ft1     ft2     ft3   ft...8.0  \n257  13.0  558.0  \n\n[258 rows x 57 columns], y=array([   68.75,   204.44,    21.63,   120.19,  ... 464.01,  1037.79,  2453.84,   510.55,  2442.42]), groups=None, parameter_iterable=<sklearn.model_selection._search.ParameterGrid object>)\n    559                                   fit_params=self.fit_params,\n    560                                   return_train_score=self.return_train_score,\n    561                                   return_n_test_samples=True,\n    562                                   return_times=True, return_parameters=True,\n    563                                   error_score=self.error_score)\n--> 564           for parameters in parameter_iterable\n        parameters = undefined\n        parameter_iterable = <sklearn.model_selection._search.ParameterGrid object>\n    565           for train, test in cv_iter)\n    566 \n    567         # if one choose to see train score, \"out\" will contain train score info\n    568         if self.return_train_score:\n\n...........................................................................\n/usr/local/lib/python3.4/dist-packages/sklearn/externals/joblib/parallel.py in __call__(self=Parallel(n_jobs=-1), iterable=<generator object <genexpr>>)\n    763             if pre_dispatch == \"all\" or n_jobs == 1:\n    764                 # The iterable was consumed all at once by the above for loop.\n    765                 # No need to wait for async callbacks to trigger to\n    766                 # consumption.\n    767                 self._iterating = False\n--> 768             self.retrieve()\n        self.retrieve = <bound method Parallel.retrieve of Parallel(n_jobs=-1)>\n    769             # Make sure that we get a last message telling us we are done\n    770             elapsed_time = time.time() - self._start_time\n    771             self._print('Done %3i out of %3i | elapsed: %s finished',\n    772                         (len(self._output), len(self._output),\n\n---------------------------------------------------------------------------\nSub-process traceback:\n---------------------------------------------------------------------------\nValueError                                         Thu Apr 13 12:51:39 2017\nPID: 13149                                   Python 3.4.3: /usr/bin/python3\n...........................................................................\n/usr/local/lib/python3.4/dist-packages/sklearn/externals/joblib/parallel.py in __call__(self=<sklearn.externals.joblib.parallel.BatchedCalls object>)\n    126     def __init__(self, iterator_slice):\n    127         self.items = list(iterator_slice)\n    128         self._size = len(self.items)\n    129 \n    130     def __call__(self):\n--> 131         return [func(*args, **kwargs) for func, args, kwargs in self.items]\n        self.items = [(<function _fit_and_score>, (SVR(C=1.0000000000000001e-05, cache_size=20480, ...00.0,\n  shrinking=False, tol=0.01, verbose=False),       ppn    sizeGB     ft1     ft2     ft3   ft...8.0  \n257  13.0  558.0  \n\n[258 rows x 57 columns], array([   68.75,   204.44,    21.63,   120.19,  ... 464.01,  1037.79,  2453.84,   510.55,  2442.42]), <function rmse_scorer>, array([ 86,  87,  88,  89,  90,  91,  92,  93,  ..., 250, 251, 252, 253, 254,\n       255, 256, 257]), array([ 0,  1,  2,  3,  4,  5,  6,  7,  8,  9, 1..., 76, 77, 78, 79, 80, 81, 82, 83, 84,\n       85]), 0, {'C': 1.0000000000000001e-05, 'degree': 6, 'gamma': 1000.0}), {'error_score': 'raise', 'fit_params': {}, 'return_n_test_samples': True, 'return_parameters': True, 'return_times': True, 'return_train_score': True})]\n    132 \n    133     def __len__(self):\n    134         return self._size\n    135 \n\n...........................................................................\n/usr/local/lib/python3.4/dist-packages/sklearn/externals/joblib/parallel.py in <listcomp>(.0=<list_iterator object>)\n    126     def __init__(self, iterator_slice):\n    127         self.items = list(iterator_slice)\n    128         self._size = len(self.items)\n    129 \n    130     def __call__(self):\n--> 131         return [func(*args, **kwargs) for func, args, kwargs in self.items]\n        func = <function _fit_and_score>\n        args = (SVR(C=1.0000000000000001e-05, cache_size=20480, ...00.0,\n  shrinking=False, tol=0.01, verbose=False),       ppn    sizeGB     ft1     ft2     ft3   ft...8.0  \n257  13.0  558.0  \n\n[258 rows x 57 columns], array([   68.75,   204.44,    21.63,   120.19,  ... 464.01,  1037.79,  2453.84,   510.55,  2442.42]), <function rmse_scorer>, array([ 86,  87,  88,  89,  90,  91,  92,  93,  ..., 250, 251, 252, 253, 254,\n       255, 256, 257]), array([ 0,  1,  2,  3,  4,  5,  6,  7,  8,  9, 1..., 76, 77, 78, 79, 80, 81, 82, 83, 84,\n       85]), 0, {'C': 1.0000000000000001e-05, 'degree': 6, 'gamma': 1000.0})\n        kwargs = {'error_score': 'raise', 'fit_params': {}, 'return_n_test_samples': True, 'return_parameters': True, 'return_times': True, 'return_train_score': True}\n    132 \n    133     def __len__(self):\n    134         return self._size\n    135 \n\n...........................................................................\n/usr/local/lib/python3.4/dist-packages/sklearn/model_selection/_validation.py in _fit_and_score(estimator=SVR(C=1.0000000000000001e-05, cache_size=20480, ...00.0,\n  shrinking=False, tol=0.01, verbose=False), X=      ppn    sizeGB     ft1     ft2     ft3   ft...8.0  \n257  13.0  558.0  \n\n[258 rows x 57 columns], y=array([   68.75,   204.44,    21.63,   120.19,  ... 464.01,  1037.79,  2453.84,   510.55,  2442.42]), scorer=<function rmse_scorer>, train=array([ 86,  87,  88,  89,  90,  91,  92,  93,  ..., 250, 251, 252, 253, 254,\n       255, 256, 257]), test=array([ 0,  1,  2,  3,  4,  5,  6,  7,  8,  9, 1..., 76, 77, 78, 79, 80, 81, 82, 83, 84,\n       85]), verbose=0, parameters={'C': 1.0000000000000001e-05, 'degree': 6, 'gamma': 1000.0}, fit_params={}, return_train_score=True, return_parameters=True, return_n_test_samples=True, return_times=True, error_score='raise')\n    255                              \" numeric value. (Hint: if using 'raise', please\"\n    256                              \" make sure that it has been spelled correctly.)\")\n    257 \n    258     else:\n    259         fit_time = time.time() - start_time\n--> 260         test_score = _score(estimator, X_test, y_test, scorer)\n        test_score = undefined\n        estimator = SVR(C=1.0000000000000001e-05, cache_size=20480, ...00.0,\n  shrinking=False, tol=0.01, verbose=False)\n        X_test =      ppn    sizeGB     ft1     ft2     ft3   ft4... \n84  681.0  \n85  681.0  \n\n[86 rows x 57 columns]\n        y_test = array([   68.75,   204.44,    21.63,   120.19,  ...,  2461.26,  2397.91,\n        1583.26,  2376.19])\n        scorer = <function rmse_scorer>\n    261         score_time = time.time() - start_time - fit_time\n    262         if return_train_score:\n    263             train_score = _score(estimator, X_train, y_train, scorer)\n    264 \n\n...........................................................................\n/usr/local/lib/python3.4/dist-packages/sklearn/model_selection/_validation.py in _score(estimator=SVR(C=1.0000000000000001e-05, cache_size=20480, ...00.0,\n  shrinking=False, tol=0.01, verbose=False), X_test=     ppn    sizeGB     ft1     ft2     ft3   ft4... \n84  681.0  \n85  681.0  \n\n[86 rows x 57 columns], y_test=array([   68.75,   204.44,    21.63,   120.19,  ...,  2461.26,  2397.91,\n        1583.26,  2376.19]), scorer=<function rmse_scorer>)\n    283 def _score(estimator, X_test, y_test, scorer):\n    284     \"\"\"Compute the score of an estimator on a given test set.\"\"\"\n    285     if y_test is None:\n    286         score = scorer(estimator, X_test)\n    287     else:\n--> 288         score = scorer(estimator, X_test, y_test)\n        score = undefined\n        scorer = <function rmse_scorer>\n        estimator = SVR(C=1.0000000000000001e-05, cache_size=20480, ...00.0,\n  shrinking=False, tol=0.01, verbose=False)\n        X_test =      ppn    sizeGB     ft1     ft2     ft3   ft4... \n84  681.0  \n85  681.0  \n\n[86 rows x 57 columns]\n        y_test = array([   68.75,   204.44,    21.63,   120.19,  ...,  2461.26,  2397.91,\n        1583.26,  2376.19])\n    289     if hasattr(score, 'item'):\n    290         try:\n    291             # e.g. unwrap memmapped scalars\n    292             score = score.item()\n\n...........................................................................\n/data/home/a1singh/IPPD/IPPD/workbench/allfunctions.py in rmse_scorer(model=SVR(C=1.0000000000000001e-05, cache_size=20480, ...00.0,\n  shrinking=False, tol=0.01, verbose=False), X=     ppn    sizeGB     ft1     ft2     ft3   ft4... \n84  681.0  \n85  681.0  \n\n[86 rows x 57 columns], y=array([   68.75,   204.44,    21.63,   120.19,  ...,  2461.26,  2397.91,\n        1583.26,  2376.19]))\n     24 c = 0\n     25 \n     26 def rmse_scorer(model, X, y):\n     27     global c\n     28     y_predict = model.predict(X)\n---> 29     k = np.sqrt(mean_squared_error(y, y_predict))\n        k = undefined\n        y = array([   68.75,   204.44,    21.63,   120.19,  ...,  2461.26,  2397.91,\n        1583.26,  2376.19])\n        y_predict = array([ nan,  nan,  nan,  nan,  nan,  nan,  nan,...  nan,  nan,  nan,  nan,  nan,  nan,  nan,  nan])\n     30     c = c+1\n     31     return k\n     32 \n     33 \n\n...........................................................................\n/usr/local/lib/python3.4/dist-packages/sklearn/metrics/regression.py in mean_squared_error(y_true=array([   68.75,   204.44,    21.63,   120.19,  ...,  2461.26,  2397.91,\n        1583.26,  2376.19]), y_pred=array([ nan,  nan,  nan,  nan,  nan,  nan,  nan,...  nan,  nan,  nan,  nan,  nan,  nan,  nan,  nan]), sample_weight=None, multioutput='uniform_average')\n    226     ... # doctest: +ELLIPSIS\n    227     0.824...\n    228 \n    229     \"\"\"\n    230     y_type, y_true, y_pred, multioutput = _check_reg_targets(\n--> 231         y_true, y_pred, multioutput)\n        y_true = array([   68.75,   204.44,    21.63,   120.19,  ...,  2461.26,  2397.91,\n        1583.26,  2376.19])\n        y_pred = array([ nan,  nan,  nan,  nan,  nan,  nan,  nan,...  nan,  nan,  nan,  nan,  nan,  nan,  nan,  nan])\n        multioutput = 'uniform_average'\n    232     output_errors = np.average((y_true - y_pred) ** 2, axis=0,\n    233                                weights=sample_weight)\n    234     if isinstance(multioutput, string_types):\n    235         if multioutput == 'raw_values':\n\n...........................................................................\n/usr/local/lib/python3.4/dist-packages/sklearn/metrics/regression.py in _check_reg_targets(y_true=array([   68.75,   204.44,    21.63,   120.19,  ...,  2461.26,  2397.91,\n        1583.26,  2376.19]), y_pred=array([ nan,  nan,  nan,  nan,  nan,  nan,  nan,...  nan,  nan,  nan,  nan,  nan,  nan,  nan,  nan]), multioutput='uniform_average')\n     71         correct keyword.\n     72 \n     73     \"\"\"\n     74     check_consistent_length(y_true, y_pred)\n     75     y_true = check_array(y_true, ensure_2d=False)\n---> 76     y_pred = check_array(y_pred, ensure_2d=False)\n        y_pred = array([ nan,  nan,  nan,  nan,  nan,  nan,  nan,...  nan,  nan,  nan,  nan,  nan,  nan,  nan,  nan])\n     77 \n     78     if y_true.ndim == 1:\n     79         y_true = y_true.reshape((-1, 1))\n     80 \n\n...........................................................................\n/usr/local/lib/python3.4/dist-packages/sklearn/utils/validation.py in check_array(array=array([ nan,  nan,  nan,  nan,  nan,  nan,  nan,...  nan,  nan,  nan,  nan,  nan,  nan,  nan,  nan]), accept_sparse=None, dtype=None, order=None, copy=False, force_all_finite=True, ensure_2d=False, allow_nd=False, ensure_min_samples=1, ensure_min_features=1, warn_on_dtype=False, estimator=None)\n    402             array = array.astype(np.float64)\n    403         if not allow_nd and array.ndim >= 3:\n    404             raise ValueError(\"Found array with dim %d. %s expected <= 2.\"\n    405                              % (array.ndim, estimator_name))\n    406         if force_all_finite:\n--> 407             _assert_all_finite(array)\n        array = array([ nan,  nan,  nan,  nan,  nan,  nan,  nan,...  nan,  nan,  nan,  nan,  nan,  nan,  nan,  nan])\n    408 \n    409     shape_repr = _shape_repr(array.shape)\n    410     if ensure_min_samples > 0:\n    411         n_samples = _num_samples(array)\n\n...........................................................................\n/usr/local/lib/python3.4/dist-packages/sklearn/utils/validation.py in _assert_all_finite(X=array([ nan,  nan,  nan,  nan,  nan,  nan,  nan,...  nan,  nan,  nan,  nan,  nan,  nan,  nan,  nan]))\n     53     # everything is finite; fall back to O(n) space np.isfinite to prevent\n     54     # false positives from overflow in sum method.\n     55     if (X.dtype.char in np.typecodes['AllFloat'] and not np.isfinite(X.sum())\n     56             and not np.isfinite(X).all()):\n     57         raise ValueError(\"Input contains NaN, infinity\"\n---> 58                          \" or a value too large for %r.\" % X.dtype)\n        X.dtype = dtype('float64')\n     59 \n     60 \n     61 def assert_all_finite(X):\n     62     \"\"\"Throw a ValueError if X contains NaN or infinity.\n\nValueError: Input contains NaN, infinity or a value too large for dtype('float64').\n___________________________________________________________________________",
     "output_type": "error",
     "traceback": [
      "\u001b[0;31m---------------------------------------------------------------------------\u001b[0m",
      "\u001b[0;31mRemoteTraceback\u001b[0m                           Traceback (most recent call last)",
      "\u001b[0;31mRemoteTraceback\u001b[0m: \n\"\"\"\nTraceback (most recent call last):\n  File \"/usr/local/lib/python3.4/dist-packages/sklearn/externals/joblib/_parallel_backends.py\", line 344, in __call__\n    return self.func(*args, **kwargs)\n  File \"/usr/local/lib/python3.4/dist-packages/sklearn/externals/joblib/parallel.py\", line 131, in __call__\n    return [func(*args, **kwargs) for func, args, kwargs in self.items]\n  File \"/usr/local/lib/python3.4/dist-packages/sklearn/externals/joblib/parallel.py\", line 131, in <listcomp>\n    return [func(*args, **kwargs) for func, args, kwargs in self.items]\n  File \"/usr/local/lib/python3.4/dist-packages/sklearn/model_selection/_validation.py\", line 260, in _fit_and_score\n    test_score = _score(estimator, X_test, y_test, scorer)\n  File \"/usr/local/lib/python3.4/dist-packages/sklearn/model_selection/_validation.py\", line 288, in _score\n    score = scorer(estimator, X_test, y_test)\n  File \"/data/home/a1singh/IPPD/IPPD/workbench/allfunctions.py\", line 29, in rmse_scorer\n    k = np.sqrt(mean_squared_error(y, y_predict))\n  File \"/usr/local/lib/python3.4/dist-packages/sklearn/metrics/regression.py\", line 231, in mean_squared_error\n    y_true, y_pred, multioutput)\n  File \"/usr/local/lib/python3.4/dist-packages/sklearn/metrics/regression.py\", line 76, in _check_reg_targets\n    y_pred = check_array(y_pred, ensure_2d=False)\n  File \"/usr/local/lib/python3.4/dist-packages/sklearn/utils/validation.py\", line 407, in check_array\n    _assert_all_finite(array)\n  File \"/usr/local/lib/python3.4/dist-packages/sklearn/utils/validation.py\", line 58, in _assert_all_finite\n    \" or a value too large for %r.\" % X.dtype)\nValueError: Input contains NaN, infinity or a value too large for dtype('float64').\n\nDuring handling of the above exception, another exception occurred:\n\nTraceback (most recent call last):\n  File \"/usr/lib/python3.4/multiprocessing/pool.py\", line 119, in worker\n    result = (True, func(*args, **kwds))\n  File \"/usr/local/lib/python3.4/dist-packages/sklearn/externals/joblib/_parallel_backends.py\", line 353, in __call__\n    raise TransportableException(text, e_type)\nsklearn.externals.joblib.my_exceptions.TransportableException: TransportableException\n___________________________________________________________________________\nValueError                                         Thu Apr 13 12:51:39 2017\nPID: 13149                                   Python 3.4.3: /usr/bin/python3\n...........................................................................\n/usr/local/lib/python3.4/dist-packages/sklearn/externals/joblib/parallel.py in __call__(self=<sklearn.externals.joblib.parallel.BatchedCalls object>)\n    126     def __init__(self, iterator_slice):\n    127         self.items = list(iterator_slice)\n    128         self._size = len(self.items)\n    129 \n    130     def __call__(self):\n--> 131         return [func(*args, **kwargs) for func, args, kwargs in self.items]\n        self.items = [(<function _fit_and_score>, (SVR(C=1.0000000000000001e-05, cache_size=20480, ...00.0,\n  shrinking=False, tol=0.01, verbose=False),       ppn    sizeGB     ft1     ft2     ft3   ft...8.0  \n257  13.0  558.0  \n\n[258 rows x 57 columns], array([   68.75,   204.44,    21.63,   120.19,  ... 464.01,  1037.79,  2453.84,   510.55,  2442.42]), <function rmse_scorer>, array([ 86,  87,  88,  89,  90,  91,  92,  93,  ..., 250, 251, 252, 253, 254,\n       255, 256, 257]), array([ 0,  1,  2,  3,  4,  5,  6,  7,  8,  9, 1..., 76, 77, 78, 79, 80, 81, 82, 83, 84,\n       85]), 0, {'C': 1.0000000000000001e-05, 'degree': 6, 'gamma': 1000.0}), {'error_score': 'raise', 'fit_params': {}, 'return_n_test_samples': True, 'return_parameters': True, 'return_times': True, 'return_train_score': True})]\n    132 \n    133     def __len__(self):\n    134         return self._size\n    135 \n\n...........................................................................\n/usr/local/lib/python3.4/dist-packages/sklearn/externals/joblib/parallel.py in <listcomp>(.0=<list_iterator object>)\n    126     def __init__(self, iterator_slice):\n    127         self.items = list(iterator_slice)\n    128         self._size = len(self.items)\n    129 \n    130     def __call__(self):\n--> 131         return [func(*args, **kwargs) for func, args, kwargs in self.items]\n        func = <function _fit_and_score>\n        args = (SVR(C=1.0000000000000001e-05, cache_size=20480, ...00.0,\n  shrinking=False, tol=0.01, verbose=False),       ppn    sizeGB     ft1     ft2     ft3   ft...8.0  \n257  13.0  558.0  \n\n[258 rows x 57 columns], array([   68.75,   204.44,    21.63,   120.19,  ... 464.01,  1037.79,  2453.84,   510.55,  2442.42]), <function rmse_scorer>, array([ 86,  87,  88,  89,  90,  91,  92,  93,  ..., 250, 251, 252, 253, 254,\n       255, 256, 257]), array([ 0,  1,  2,  3,  4,  5,  6,  7,  8,  9, 1..., 76, 77, 78, 79, 80, 81, 82, 83, 84,\n       85]), 0, {'C': 1.0000000000000001e-05, 'degree': 6, 'gamma': 1000.0})\n        kwargs = {'error_score': 'raise', 'fit_params': {}, 'return_n_test_samples': True, 'return_parameters': True, 'return_times': True, 'return_train_score': True}\n    132 \n    133     def __len__(self):\n    134         return self._size\n    135 \n\n...........................................................................\n/usr/local/lib/python3.4/dist-packages/sklearn/model_selection/_validation.py in _fit_and_score(estimator=SVR(C=1.0000000000000001e-05, cache_size=20480, ...00.0,\n  shrinking=False, tol=0.01, verbose=False), X=      ppn    sizeGB     ft1     ft2     ft3   ft...8.0  \n257  13.0  558.0  \n\n[258 rows x 57 columns], y=array([   68.75,   204.44,    21.63,   120.19,  ... 464.01,  1037.79,  2453.84,   510.55,  2442.42]), scorer=<function rmse_scorer>, train=array([ 86,  87,  88,  89,  90,  91,  92,  93,  ..., 250, 251, 252, 253, 254,\n       255, 256, 257]), test=array([ 0,  1,  2,  3,  4,  5,  6,  7,  8,  9, 1..., 76, 77, 78, 79, 80, 81, 82, 83, 84,\n       85]), verbose=0, parameters={'C': 1.0000000000000001e-05, 'degree': 6, 'gamma': 1000.0}, fit_params={}, return_train_score=True, return_parameters=True, return_n_test_samples=True, return_times=True, error_score='raise')\n    255                              \" numeric value. (Hint: if using 'raise', please\"\n    256                              \" make sure that it has been spelled correctly.)\")\n    257 \n    258     else:\n    259         fit_time = time.time() - start_time\n--> 260         test_score = _score(estimator, X_test, y_test, scorer)\n        test_score = undefined\n        estimator = SVR(C=1.0000000000000001e-05, cache_size=20480, ...00.0,\n  shrinking=False, tol=0.01, verbose=False)\n        X_test =      ppn    sizeGB     ft1     ft2     ft3   ft4... \n84  681.0  \n85  681.0  \n\n[86 rows x 57 columns]\n        y_test = array([   68.75,   204.44,    21.63,   120.19,  ...,  2461.26,  2397.91,\n        1583.26,  2376.19])\n        scorer = <function rmse_scorer>\n    261         score_time = time.time() - start_time - fit_time\n    262         if return_train_score:\n    263             train_score = _score(estimator, X_train, y_train, scorer)\n    264 \n\n...........................................................................\n/usr/local/lib/python3.4/dist-packages/sklearn/model_selection/_validation.py in _score(estimator=SVR(C=1.0000000000000001e-05, cache_size=20480, ...00.0,\n  shrinking=False, tol=0.01, verbose=False), X_test=     ppn    sizeGB     ft1     ft2     ft3   ft4... \n84  681.0  \n85  681.0  \n\n[86 rows x 57 columns], y_test=array([   68.75,   204.44,    21.63,   120.19,  ...,  2461.26,  2397.91,\n        1583.26,  2376.19]), scorer=<function rmse_scorer>)\n    283 def _score(estimator, X_test, y_test, scorer):\n    284     \"\"\"Compute the score of an estimator on a given test set.\"\"\"\n    285     if y_test is None:\n    286         score = scorer(estimator, X_test)\n    287     else:\n--> 288         score = scorer(estimator, X_test, y_test)\n        score = undefined\n        scorer = <function rmse_scorer>\n        estimator = SVR(C=1.0000000000000001e-05, cache_size=20480, ...00.0,\n  shrinking=False, tol=0.01, verbose=False)\n        X_test =      ppn    sizeGB     ft1     ft2     ft3   ft4... \n84  681.0  \n85  681.0  \n\n[86 rows x 57 columns]\n        y_test = array([   68.75,   204.44,    21.63,   120.19,  ...,  2461.26,  2397.91,\n        1583.26,  2376.19])\n    289     if hasattr(score, 'item'):\n    290         try:\n    291             # e.g. unwrap memmapped scalars\n    292             score = score.item()\n\n...........................................................................\n/data/home/a1singh/IPPD/IPPD/workbench/allfunctions.py in rmse_scorer(model=SVR(C=1.0000000000000001e-05, cache_size=20480, ...00.0,\n  shrinking=False, tol=0.01, verbose=False), X=     ppn    sizeGB     ft1     ft2     ft3   ft4... \n84  681.0  \n85  681.0  \n\n[86 rows x 57 columns], y=array([   68.75,   204.44,    21.63,   120.19,  ...,  2461.26,  2397.91,\n        1583.26,  2376.19]))\n     24 c = 0\n     25 \n     26 def rmse_scorer(model, X, y):\n     27     global c\n     28     y_predict = model.predict(X)\n---> 29     k = np.sqrt(mean_squared_error(y, y_predict))\n        k = undefined\n        y = array([   68.75,   204.44,    21.63,   120.19,  ...,  2461.26,  2397.91,\n        1583.26,  2376.19])\n        y_predict = array([ nan,  nan,  nan,  nan,  nan,  nan,  nan,...  nan,  nan,  nan,  nan,  nan,  nan,  nan,  nan])\n     30     c = c+1\n     31     return k\n     32 \n     33 \n\n...........................................................................\n/usr/local/lib/python3.4/dist-packages/sklearn/metrics/regression.py in mean_squared_error(y_true=array([   68.75,   204.44,    21.63,   120.19,  ...,  2461.26,  2397.91,\n        1583.26,  2376.19]), y_pred=array([ nan,  nan,  nan,  nan,  nan,  nan,  nan,...  nan,  nan,  nan,  nan,  nan,  nan,  nan,  nan]), sample_weight=None, multioutput='uniform_average')\n    226     ... # doctest: +ELLIPSIS\n    227     0.824...\n    228 \n    229     \"\"\"\n    230     y_type, y_true, y_pred, multioutput = _check_reg_targets(\n--> 231         y_true, y_pred, multioutput)\n        y_true = array([   68.75,   204.44,    21.63,   120.19,  ...,  2461.26,  2397.91,\n        1583.26,  2376.19])\n        y_pred = array([ nan,  nan,  nan,  nan,  nan,  nan,  nan,...  nan,  nan,  nan,  nan,  nan,  nan,  nan,  nan])\n        multioutput = 'uniform_average'\n    232     output_errors = np.average((y_true - y_pred) ** 2, axis=0,\n    233                                weights=sample_weight)\n    234     if isinstance(multioutput, string_types):\n    235         if multioutput == 'raw_values':\n\n...........................................................................\n/usr/local/lib/python3.4/dist-packages/sklearn/metrics/regression.py in _check_reg_targets(y_true=array([   68.75,   204.44,    21.63,   120.19,  ...,  2461.26,  2397.91,\n        1583.26,  2376.19]), y_pred=array([ nan,  nan,  nan,  nan,  nan,  nan,  nan,...  nan,  nan,  nan,  nan,  nan,  nan,  nan,  nan]), multioutput='uniform_average')\n     71         correct keyword.\n     72 \n     73     \"\"\"\n     74     check_consistent_length(y_true, y_pred)\n     75     y_true = check_array(y_true, ensure_2d=False)\n---> 76     y_pred = check_array(y_pred, ensure_2d=False)\n        y_pred = array([ nan,  nan,  nan,  nan,  nan,  nan,  nan,...  nan,  nan,  nan,  nan,  nan,  nan,  nan,  nan])\n     77 \n     78     if y_true.ndim == 1:\n     79         y_true = y_true.reshape((-1, 1))\n     80 \n\n...........................................................................\n/usr/local/lib/python3.4/dist-packages/sklearn/utils/validation.py in check_array(array=array([ nan,  nan,  nan,  nan,  nan,  nan,  nan,...  nan,  nan,  nan,  nan,  nan,  nan,  nan,  nan]), accept_sparse=None, dtype=None, order=None, copy=False, force_all_finite=True, ensure_2d=False, allow_nd=False, ensure_min_samples=1, ensure_min_features=1, warn_on_dtype=False, estimator=None)\n    402             array = array.astype(np.float64)\n    403         if not allow_nd and array.ndim >= 3:\n    404             raise ValueError(\"Found array with dim %d. %s expected <= 2.\"\n    405                              % (array.ndim, estimator_name))\n    406         if force_all_finite:\n--> 407             _assert_all_finite(array)\n        array = array([ nan,  nan,  nan,  nan,  nan,  nan,  nan,...  nan,  nan,  nan,  nan,  nan,  nan,  nan,  nan])\n    408 \n    409     shape_repr = _shape_repr(array.shape)\n    410     if ensure_min_samples > 0:\n    411         n_samples = _num_samples(array)\n\n...........................................................................\n/usr/local/lib/python3.4/dist-packages/sklearn/utils/validation.py in _assert_all_finite(X=array([ nan,  nan,  nan,  nan,  nan,  nan,  nan,...  nan,  nan,  nan,  nan,  nan,  nan,  nan,  nan]))\n     53     # everything is finite; fall back to O(n) space np.isfinite to prevent\n     54     # false positives from overflow in sum method.\n     55     if (X.dtype.char in np.typecodes['AllFloat'] and not np.isfinite(X.sum())\n     56             and not np.isfinite(X).all()):\n     57         raise ValueError(\"Input contains NaN, infinity\"\n---> 58                          \" or a value too large for %r.\" % X.dtype)\n        X.dtype = dtype('float64')\n     59 \n     60 \n     61 def assert_all_finite(X):\n     62     \"\"\"Throw a ValueError if X contains NaN or infinity.\n\nValueError: Input contains NaN, infinity or a value too large for dtype('float64').\n___________________________________________________________________________\n\"\"\"",
      "\nThe above exception was the direct cause of the following exception:\n",
      "\u001b[0;31mTransportableException\u001b[0m                    Traceback (most recent call last)",
      "\u001b[0;32m/usr/local/lib/python3.4/dist-packages/sklearn/externals/joblib/parallel.py\u001b[0m in \u001b[0;36mretrieve\u001b[0;34m(self)\u001b[0m\n\u001b[1;32m    681\u001b[0m                 \u001b[0;32mif\u001b[0m \u001b[0;34m'timeout'\u001b[0m \u001b[0;32min\u001b[0m \u001b[0mgetfullargspec\u001b[0m\u001b[0;34m(\u001b[0m\u001b[0mjob\u001b[0m\u001b[0;34m.\u001b[0m\u001b[0mget\u001b[0m\u001b[0;34m)\u001b[0m\u001b[0;34m.\u001b[0m\u001b[0margs\u001b[0m\u001b[0;34m:\u001b[0m\u001b[0;34m\u001b[0m\u001b[0m\n\u001b[0;32m--> 682\u001b[0;31m                     \u001b[0mself\u001b[0m\u001b[0;34m.\u001b[0m\u001b[0m_output\u001b[0m\u001b[0;34m.\u001b[0m\u001b[0mextend\u001b[0m\u001b[0;34m(\u001b[0m\u001b[0mjob\u001b[0m\u001b[0;34m.\u001b[0m\u001b[0mget\u001b[0m\u001b[0;34m(\u001b[0m\u001b[0mtimeout\u001b[0m\u001b[0;34m=\u001b[0m\u001b[0mself\u001b[0m\u001b[0;34m.\u001b[0m\u001b[0mtimeout\u001b[0m\u001b[0;34m)\u001b[0m\u001b[0;34m)\u001b[0m\u001b[0;34m\u001b[0m\u001b[0m\n\u001b[0m\u001b[1;32m    683\u001b[0m                 \u001b[0;32melse\u001b[0m\u001b[0;34m:\u001b[0m\u001b[0;34m\u001b[0m\u001b[0m\n",
      "\u001b[0;32m/usr/lib/python3.4/multiprocessing/pool.py\u001b[0m in \u001b[0;36mget\u001b[0;34m(self, timeout)\u001b[0m\n\u001b[1;32m    598\u001b[0m         \u001b[0;32melse\u001b[0m\u001b[0;34m:\u001b[0m\u001b[0;34m\u001b[0m\u001b[0m\n\u001b[0;32m--> 599\u001b[0;31m             \u001b[0;32mraise\u001b[0m \u001b[0mself\u001b[0m\u001b[0;34m.\u001b[0m\u001b[0m_value\u001b[0m\u001b[0;34m\u001b[0m\u001b[0m\n\u001b[0m\u001b[1;32m    600\u001b[0m \u001b[0;34m\u001b[0m\u001b[0m\n",
      "\u001b[0;31mTransportableException\u001b[0m: TransportableException\n___________________________________________________________________________\nValueError                                         Thu Apr 13 12:51:39 2017\nPID: 13149                                   Python 3.4.3: /usr/bin/python3\n...........................................................................\n/usr/local/lib/python3.4/dist-packages/sklearn/externals/joblib/parallel.py in __call__(self=<sklearn.externals.joblib.parallel.BatchedCalls object>)\n    126     def __init__(self, iterator_slice):\n    127         self.items = list(iterator_slice)\n    128         self._size = len(self.items)\n    129 \n    130     def __call__(self):\n--> 131         return [func(*args, **kwargs) for func, args, kwargs in self.items]\n        self.items = [(<function _fit_and_score>, (SVR(C=1.0000000000000001e-05, cache_size=20480, ...00.0,\n  shrinking=False, tol=0.01, verbose=False),       ppn    sizeGB     ft1     ft2     ft3   ft...8.0  \n257  13.0  558.0  \n\n[258 rows x 57 columns], array([   68.75,   204.44,    21.63,   120.19,  ... 464.01,  1037.79,  2453.84,   510.55,  2442.42]), <function rmse_scorer>, array([ 86,  87,  88,  89,  90,  91,  92,  93,  ..., 250, 251, 252, 253, 254,\n       255, 256, 257]), array([ 0,  1,  2,  3,  4,  5,  6,  7,  8,  9, 1..., 76, 77, 78, 79, 80, 81, 82, 83, 84,\n       85]), 0, {'C': 1.0000000000000001e-05, 'degree': 6, 'gamma': 1000.0}), {'error_score': 'raise', 'fit_params': {}, 'return_n_test_samples': True, 'return_parameters': True, 'return_times': True, 'return_train_score': True})]\n    132 \n    133     def __len__(self):\n    134         return self._size\n    135 \n\n...........................................................................\n/usr/local/lib/python3.4/dist-packages/sklearn/externals/joblib/parallel.py in <listcomp>(.0=<list_iterator object>)\n    126     def __init__(self, iterator_slice):\n    127         self.items = list(iterator_slice)\n    128         self._size = len(self.items)\n    129 \n    130     def __call__(self):\n--> 131         return [func(*args, **kwargs) for func, args, kwargs in self.items]\n        func = <function _fit_and_score>\n        args = (SVR(C=1.0000000000000001e-05, cache_size=20480, ...00.0,\n  shrinking=False, tol=0.01, verbose=False),       ppn    sizeGB     ft1     ft2     ft3   ft...8.0  \n257  13.0  558.0  \n\n[258 rows x 57 columns], array([   68.75,   204.44,    21.63,   120.19,  ... 464.01,  1037.79,  2453.84,   510.55,  2442.42]), <function rmse_scorer>, array([ 86,  87,  88,  89,  90,  91,  92,  93,  ..., 250, 251, 252, 253, 254,\n       255, 256, 257]), array([ 0,  1,  2,  3,  4,  5,  6,  7,  8,  9, 1..., 76, 77, 78, 79, 80, 81, 82, 83, 84,\n       85]), 0, {'C': 1.0000000000000001e-05, 'degree': 6, 'gamma': 1000.0})\n        kwargs = {'error_score': 'raise', 'fit_params': {}, 'return_n_test_samples': True, 'return_parameters': True, 'return_times': True, 'return_train_score': True}\n    132 \n    133     def __len__(self):\n    134         return self._size\n    135 \n\n...........................................................................\n/usr/local/lib/python3.4/dist-packages/sklearn/model_selection/_validation.py in _fit_and_score(estimator=SVR(C=1.0000000000000001e-05, cache_size=20480, ...00.0,\n  shrinking=False, tol=0.01, verbose=False), X=      ppn    sizeGB     ft1     ft2     ft3   ft...8.0  \n257  13.0  558.0  \n\n[258 rows x 57 columns], y=array([   68.75,   204.44,    21.63,   120.19,  ... 464.01,  1037.79,  2453.84,   510.55,  2442.42]), scorer=<function rmse_scorer>, train=array([ 86,  87,  88,  89,  90,  91,  92,  93,  ..., 250, 251, 252, 253, 254,\n       255, 256, 257]), test=array([ 0,  1,  2,  3,  4,  5,  6,  7,  8,  9, 1..., 76, 77, 78, 79, 80, 81, 82, 83, 84,\n       85]), verbose=0, parameters={'C': 1.0000000000000001e-05, 'degree': 6, 'gamma': 1000.0}, fit_params={}, return_train_score=True, return_parameters=True, return_n_test_samples=True, return_times=True, error_score='raise')\n    255                              \" numeric value. (Hint: if using 'raise', please\"\n    256                              \" make sure that it has been spelled correctly.)\")\n    257 \n    258     else:\n    259         fit_time = time.time() - start_time\n--> 260         test_score = _score(estimator, X_test, y_test, scorer)\n        test_score = undefined\n        estimator = SVR(C=1.0000000000000001e-05, cache_size=20480, ...00.0,\n  shrinking=False, tol=0.01, verbose=False)\n        X_test =      ppn    sizeGB     ft1     ft2     ft3   ft4... \n84  681.0  \n85  681.0  \n\n[86 rows x 57 columns]\n        y_test = array([   68.75,   204.44,    21.63,   120.19,  ...,  2461.26,  2397.91,\n        1583.26,  2376.19])\n        scorer = <function rmse_scorer>\n    261         score_time = time.time() - start_time - fit_time\n    262         if return_train_score:\n    263             train_score = _score(estimator, X_train, y_train, scorer)\n    264 \n\n...........................................................................\n/usr/local/lib/python3.4/dist-packages/sklearn/model_selection/_validation.py in _score(estimator=SVR(C=1.0000000000000001e-05, cache_size=20480, ...00.0,\n  shrinking=False, tol=0.01, verbose=False), X_test=     ppn    sizeGB     ft1     ft2     ft3   ft4... \n84  681.0  \n85  681.0  \n\n[86 rows x 57 columns], y_test=array([   68.75,   204.44,    21.63,   120.19,  ...,  2461.26,  2397.91,\n        1583.26,  2376.19]), scorer=<function rmse_scorer>)\n    283 def _score(estimator, X_test, y_test, scorer):\n    284     \"\"\"Compute the score of an estimator on a given test set.\"\"\"\n    285     if y_test is None:\n    286         score = scorer(estimator, X_test)\n    287     else:\n--> 288         score = scorer(estimator, X_test, y_test)\n        score = undefined\n        scorer = <function rmse_scorer>\n        estimator = SVR(C=1.0000000000000001e-05, cache_size=20480, ...00.0,\n  shrinking=False, tol=0.01, verbose=False)\n        X_test =      ppn    sizeGB     ft1     ft2     ft3   ft4... \n84  681.0  \n85  681.0  \n\n[86 rows x 57 columns]\n        y_test = array([   68.75,   204.44,    21.63,   120.19,  ...,  2461.26,  2397.91,\n        1583.26,  2376.19])\n    289     if hasattr(score, 'item'):\n    290         try:\n    291             # e.g. unwrap memmapped scalars\n    292             score = score.item()\n\n...........................................................................\n/data/home/a1singh/IPPD/IPPD/workbench/allfunctions.py in rmse_scorer(model=SVR(C=1.0000000000000001e-05, cache_size=20480, ...00.0,\n  shrinking=False, tol=0.01, verbose=False), X=     ppn    sizeGB     ft1     ft2     ft3   ft4... \n84  681.0  \n85  681.0  \n\n[86 rows x 57 columns], y=array([   68.75,   204.44,    21.63,   120.19,  ...,  2461.26,  2397.91,\n        1583.26,  2376.19]))\n     24 c = 0\n     25 \n     26 def rmse_scorer(model, X, y):\n     27     global c\n     28     y_predict = model.predict(X)\n---> 29     k = np.sqrt(mean_squared_error(y, y_predict))\n        k = undefined\n        y = array([   68.75,   204.44,    21.63,   120.19,  ...,  2461.26,  2397.91,\n        1583.26,  2376.19])\n        y_predict = array([ nan,  nan,  nan,  nan,  nan,  nan,  nan,...  nan,  nan,  nan,  nan,  nan,  nan,  nan,  nan])\n     30     c = c+1\n     31     return k\n     32 \n     33 \n\n...........................................................................\n/usr/local/lib/python3.4/dist-packages/sklearn/metrics/regression.py in mean_squared_error(y_true=array([   68.75,   204.44,    21.63,   120.19,  ...,  2461.26,  2397.91,\n        1583.26,  2376.19]), y_pred=array([ nan,  nan,  nan,  nan,  nan,  nan,  nan,...  nan,  nan,  nan,  nan,  nan,  nan,  nan,  nan]), sample_weight=None, multioutput='uniform_average')\n    226     ... # doctest: +ELLIPSIS\n    227     0.824...\n    228 \n    229     \"\"\"\n    230     y_type, y_true, y_pred, multioutput = _check_reg_targets(\n--> 231         y_true, y_pred, multioutput)\n        y_true = array([   68.75,   204.44,    21.63,   120.19,  ...,  2461.26,  2397.91,\n        1583.26,  2376.19])\n        y_pred = array([ nan,  nan,  nan,  nan,  nan,  nan,  nan,...  nan,  nan,  nan,  nan,  nan,  nan,  nan,  nan])\n        multioutput = 'uniform_average'\n    232     output_errors = np.average((y_true - y_pred) ** 2, axis=0,\n    233                                weights=sample_weight)\n    234     if isinstance(multioutput, string_types):\n    235         if multioutput == 'raw_values':\n\n...........................................................................\n/usr/local/lib/python3.4/dist-packages/sklearn/metrics/regression.py in _check_reg_targets(y_true=array([   68.75,   204.44,    21.63,   120.19,  ...,  2461.26,  2397.91,\n        1583.26,  2376.19]), y_pred=array([ nan,  nan,  nan,  nan,  nan,  nan,  nan,...  nan,  nan,  nan,  nan,  nan,  nan,  nan,  nan]), multioutput='uniform_average')\n     71         correct keyword.\n     72 \n     73     \"\"\"\n     74     check_consistent_length(y_true, y_pred)\n     75     y_true = check_array(y_true, ensure_2d=False)\n---> 76     y_pred = check_array(y_pred, ensure_2d=False)\n        y_pred = array([ nan,  nan,  nan,  nan,  nan,  nan,  nan,...  nan,  nan,  nan,  nan,  nan,  nan,  nan,  nan])\n     77 \n     78     if y_true.ndim == 1:\n     79         y_true = y_true.reshape((-1, 1))\n     80 \n\n...........................................................................\n/usr/local/lib/python3.4/dist-packages/sklearn/utils/validation.py in check_array(array=array([ nan,  nan,  nan,  nan,  nan,  nan,  nan,...  nan,  nan,  nan,  nan,  nan,  nan,  nan,  nan]), accept_sparse=None, dtype=None, order=None, copy=False, force_all_finite=True, ensure_2d=False, allow_nd=False, ensure_min_samples=1, ensure_min_features=1, warn_on_dtype=False, estimator=None)\n    402             array = array.astype(np.float64)\n    403         if not allow_nd and array.ndim >= 3:\n    404             raise ValueError(\"Found array with dim %d. %s expected <= 2.\"\n    405                              % (array.ndim, estimator_name))\n    406         if force_all_finite:\n--> 407             _assert_all_finite(array)\n        array = array([ nan,  nan,  nan,  nan,  nan,  nan,  nan,...  nan,  nan,  nan,  nan,  nan,  nan,  nan,  nan])\n    408 \n    409     shape_repr = _shape_repr(array.shape)\n    410     if ensure_min_samples > 0:\n    411         n_samples = _num_samples(array)\n\n...........................................................................\n/usr/local/lib/python3.4/dist-packages/sklearn/utils/validation.py in _assert_all_finite(X=array([ nan,  nan,  nan,  nan,  nan,  nan,  nan,...  nan,  nan,  nan,  nan,  nan,  nan,  nan,  nan]))\n     53     # everything is finite; fall back to O(n) space np.isfinite to prevent\n     54     # false positives from overflow in sum method.\n     55     if (X.dtype.char in np.typecodes['AllFloat'] and not np.isfinite(X.sum())\n     56             and not np.isfinite(X).all()):\n     57         raise ValueError(\"Input contains NaN, infinity\"\n---> 58                          \" or a value too large for %r.\" % X.dtype)\n        X.dtype = dtype('float64')\n     59 \n     60 \n     61 def assert_all_finite(X):\n     62     \"\"\"Throw a ValueError if X contains NaN or infinity.\n\nValueError: Input contains NaN, infinity or a value too large for dtype('float64').\n___________________________________________________________________________",
      "\nDuring handling of the above exception, another exception occurred:\n",
      "\u001b[0;31mJoblibValueError\u001b[0m                          Traceback (most recent call last)",
      "\u001b[0;32m<ipython-input-7-42fccdee9ce5>\u001b[0m in \u001b[0;36m<module>\u001b[0;34m()\u001b[0m\n\u001b[0;32m----> 1\u001b[0;31m \u001b[0mt_SVRPolyCVModel\u001b[0m \u001b[0;34m=\u001b[0m \u001b[0mwrapper\u001b[0m\u001b[0;34m(\u001b[0m\u001b[0;34m[\u001b[0m \u001b[0mSVRPolyCVModel\u001b[0m \u001b[0;34m]\u001b[0m\u001b[0;34m)\u001b[0m\u001b[0;34m\u001b[0m\u001b[0m\n\u001b[0m",
      "\u001b[0;32m<ipython-input-3-266c1878d019>\u001b[0m in \u001b[0;36mwrapper\u001b[0;34m(functionList, filenames)\u001b[0m\n\u001b[1;32m     11\u001b[0m             \u001b[0mprint\u001b[0m\u001b[0;34m(\u001b[0m\u001b[0;34m)\u001b[0m\u001b[0;34m\u001b[0m\u001b[0m\n\u001b[1;32m     12\u001b[0m             \u001b[0;32mfor\u001b[0m \u001b[0mfilename\u001b[0m \u001b[0;32min\u001b[0m \u001b[0mfilenames\u001b[0m\u001b[0;34m:\u001b[0m\u001b[0;34m\u001b[0m\u001b[0m\n\u001b[0;32m---> 13\u001b[0;31m                 \u001b[0mout\u001b[0m \u001b[0;34m=\u001b[0m \u001b[0mf\u001b[0m\u001b[0;34m(\u001b[0m\u001b[0mfilename\u001b[0m\u001b[0;34m)\u001b[0m\u001b[0;34m\u001b[0m\u001b[0m\n\u001b[0m\u001b[1;32m     14\u001b[0m                 \u001b[0mnewScore\u001b[0m \u001b[0;34m=\u001b[0m \u001b[0mout\u001b[0m\u001b[0;34m[\u001b[0m\u001b[0mfilename\u001b[0m\u001b[0;34m]\u001b[0m\u001b[0;34m[\u001b[0m\u001b[0;34m'train_rmse_cv_picking'\u001b[0m\u001b[0;34m]\u001b[0m\u001b[0;34m\u001b[0m\u001b[0m\n\u001b[1;32m     15\u001b[0m \u001b[0;34m\u001b[0m\u001b[0m\n",
      "\u001b[0;32m/data/home/a1singh/IPPD/IPPD/workbench/allfunctions.py\u001b[0m in \u001b[0;36mSVRPolyCVModel\u001b[0;34m(filename, scale)\u001b[0m\n\u001b[1;32m    667\u001b[0m     \u001b[0mprint\u001b[0m\u001b[0;34m(\u001b[0m\u001b[0;34m'Starting grdsurch.fit(X_train, y_train)'\u001b[0m\u001b[0;34m)\u001b[0m\u001b[0;34m\u001b[0m\u001b[0m\n\u001b[1;32m    668\u001b[0m \u001b[0;34m\u001b[0m\u001b[0m\n\u001b[0;32m--> 669\u001b[0;31m     \u001b[0mgrdsurch\u001b[0m\u001b[0;34m.\u001b[0m\u001b[0mfit\u001b[0m\u001b[0;34m(\u001b[0m\u001b[0mX_train\u001b[0m\u001b[0;34m,\u001b[0m \u001b[0my_train\u001b[0m\u001b[0;34m)\u001b[0m\u001b[0;34m\u001b[0m\u001b[0m\n\u001b[0m\u001b[1;32m    670\u001b[0m \u001b[0;34m\u001b[0m\u001b[0m\n\u001b[1;32m    671\u001b[0m     \u001b[0mprint\u001b[0m\u001b[0;34m(\u001b[0m\u001b[0;34m\"\\nBest parameters set found on development set:\"\u001b[0m\u001b[0;34m)\u001b[0m\u001b[0;34m\u001b[0m\u001b[0m\n",
      "\u001b[0;32m/usr/local/lib/python3.4/dist-packages/sklearn/model_selection/_search.py\u001b[0m in \u001b[0;36mfit\u001b[0;34m(self, X, y, groups)\u001b[0m\n\u001b[1;32m    943\u001b[0m             \u001b[0mtrain\u001b[0m\u001b[0;34m/\u001b[0m\u001b[0mtest\u001b[0m \u001b[0mset\u001b[0m\u001b[0;34m.\u001b[0m\u001b[0;34m\u001b[0m\u001b[0m\n\u001b[1;32m    944\u001b[0m         \"\"\"\n\u001b[0;32m--> 945\u001b[0;31m         \u001b[0;32mreturn\u001b[0m \u001b[0mself\u001b[0m\u001b[0;34m.\u001b[0m\u001b[0m_fit\u001b[0m\u001b[0;34m(\u001b[0m\u001b[0mX\u001b[0m\u001b[0;34m,\u001b[0m \u001b[0my\u001b[0m\u001b[0;34m,\u001b[0m \u001b[0mgroups\u001b[0m\u001b[0;34m,\u001b[0m \u001b[0mParameterGrid\u001b[0m\u001b[0;34m(\u001b[0m\u001b[0mself\u001b[0m\u001b[0;34m.\u001b[0m\u001b[0mparam_grid\u001b[0m\u001b[0;34m)\u001b[0m\u001b[0;34m)\u001b[0m\u001b[0;34m\u001b[0m\u001b[0m\n\u001b[0m\u001b[1;32m    946\u001b[0m \u001b[0;34m\u001b[0m\u001b[0m\n\u001b[1;32m    947\u001b[0m \u001b[0;34m\u001b[0m\u001b[0m\n",
      "\u001b[0;32m/usr/local/lib/python3.4/dist-packages/sklearn/model_selection/_search.py\u001b[0m in \u001b[0;36m_fit\u001b[0;34m(self, X, y, groups, parameter_iterable)\u001b[0m\n\u001b[1;32m    562\u001b[0m                                   \u001b[0mreturn_times\u001b[0m\u001b[0;34m=\u001b[0m\u001b[0;32mTrue\u001b[0m\u001b[0;34m,\u001b[0m \u001b[0mreturn_parameters\u001b[0m\u001b[0;34m=\u001b[0m\u001b[0;32mTrue\u001b[0m\u001b[0;34m,\u001b[0m\u001b[0;34m\u001b[0m\u001b[0m\n\u001b[1;32m    563\u001b[0m                                   error_score=self.error_score)\n\u001b[0;32m--> 564\u001b[0;31m           \u001b[0;32mfor\u001b[0m \u001b[0mparameters\u001b[0m \u001b[0;32min\u001b[0m \u001b[0mparameter_iterable\u001b[0m\u001b[0;34m\u001b[0m\u001b[0m\n\u001b[0m\u001b[1;32m    565\u001b[0m           for train, test in cv_iter)\n\u001b[1;32m    566\u001b[0m \u001b[0;34m\u001b[0m\u001b[0m\n",
      "\u001b[0;32m/usr/local/lib/python3.4/dist-packages/sklearn/externals/joblib/parallel.py\u001b[0m in \u001b[0;36m__call__\u001b[0;34m(self, iterable)\u001b[0m\n\u001b[1;32m    766\u001b[0m                 \u001b[0;31m# consumption.\u001b[0m\u001b[0;34m\u001b[0m\u001b[0;34m\u001b[0m\u001b[0m\n\u001b[1;32m    767\u001b[0m                 \u001b[0mself\u001b[0m\u001b[0;34m.\u001b[0m\u001b[0m_iterating\u001b[0m \u001b[0;34m=\u001b[0m \u001b[0;32mFalse\u001b[0m\u001b[0;34m\u001b[0m\u001b[0m\n\u001b[0;32m--> 768\u001b[0;31m             \u001b[0mself\u001b[0m\u001b[0;34m.\u001b[0m\u001b[0mretrieve\u001b[0m\u001b[0;34m(\u001b[0m\u001b[0;34m)\u001b[0m\u001b[0;34m\u001b[0m\u001b[0m\n\u001b[0m\u001b[1;32m    769\u001b[0m             \u001b[0;31m# Make sure that we get a last message telling us we are done\u001b[0m\u001b[0;34m\u001b[0m\u001b[0;34m\u001b[0m\u001b[0m\n\u001b[1;32m    770\u001b[0m             \u001b[0melapsed_time\u001b[0m \u001b[0;34m=\u001b[0m \u001b[0mtime\u001b[0m\u001b[0;34m.\u001b[0m\u001b[0mtime\u001b[0m\u001b[0;34m(\u001b[0m\u001b[0;34m)\u001b[0m \u001b[0;34m-\u001b[0m \u001b[0mself\u001b[0m\u001b[0;34m.\u001b[0m\u001b[0m_start_time\u001b[0m\u001b[0;34m\u001b[0m\u001b[0m\n",
      "\u001b[0;32m/usr/local/lib/python3.4/dist-packages/sklearn/externals/joblib/parallel.py\u001b[0m in \u001b[0;36mretrieve\u001b[0;34m(self)\u001b[0m\n\u001b[1;32m    717\u001b[0m                     \u001b[0mensure_ready\u001b[0m \u001b[0;34m=\u001b[0m \u001b[0mself\u001b[0m\u001b[0;34m.\u001b[0m\u001b[0m_managed_backend\u001b[0m\u001b[0;34m\u001b[0m\u001b[0m\n\u001b[1;32m    718\u001b[0m                     \u001b[0mbackend\u001b[0m\u001b[0;34m.\u001b[0m\u001b[0mabort_everything\u001b[0m\u001b[0;34m(\u001b[0m\u001b[0mensure_ready\u001b[0m\u001b[0;34m=\u001b[0m\u001b[0mensure_ready\u001b[0m\u001b[0;34m)\u001b[0m\u001b[0;34m\u001b[0m\u001b[0m\n\u001b[0;32m--> 719\u001b[0;31m                 \u001b[0;32mraise\u001b[0m \u001b[0mexception\u001b[0m\u001b[0;34m\u001b[0m\u001b[0m\n\u001b[0m\u001b[1;32m    720\u001b[0m \u001b[0;34m\u001b[0m\u001b[0m\n\u001b[1;32m    721\u001b[0m     \u001b[0;32mdef\u001b[0m \u001b[0m__call__\u001b[0m\u001b[0;34m(\u001b[0m\u001b[0mself\u001b[0m\u001b[0;34m,\u001b[0m \u001b[0miterable\u001b[0m\u001b[0;34m)\u001b[0m\u001b[0;34m:\u001b[0m\u001b[0;34m\u001b[0m\u001b[0m\n",
      "\u001b[0;31mJoblibValueError\u001b[0m: JoblibValueError\n___________________________________________________________________________\nMultiprocessing exception:\n...........................................................................\n/usr/lib/python3.4/runpy.py in _run_module_as_main(mod_name='ipykernel.__main__', alter_argv=1)\n    165         sys.exit(msg)\n    166     main_globals = sys.modules[\"__main__\"].__dict__\n    167     if alter_argv:\n    168         sys.argv[0] = mod_spec.origin\n    169     return _run_code(code, main_globals, None,\n--> 170                      \"__main__\", mod_spec)\n        mod_spec = ModuleSpec(name='ipykernel.__main__', loader=<_f...b/python3.4/dist-packages/ipykernel/__main__.py')\n    171 \n    172 def run_module(mod_name, init_globals=None,\n    173                run_name=None, alter_sys=False):\n    174     \"\"\"Execute a module's code without importing it\n\n...........................................................................\n/usr/lib/python3.4/runpy.py in _run_code(code=<code object <module> at 0x7f317bbc24b0, file \"/...3.4/dist-packages/ipykernel/__main__.py\", line 1>, run_globals={'__builtins__': <module 'builtins' (built-in)>, '__cached__': '/usr/local/lib/python3.4/dist-packages/ipykernel/__pycache__/__main__.cpython-34.pyc', '__doc__': None, '__file__': '/usr/local/lib/python3.4/dist-packages/ipykernel/__main__.py', '__loader__': <_frozen_importlib.SourceFileLoader object>, '__name__': '__main__', '__package__': 'ipykernel', '__spec__': ModuleSpec(name='ipykernel.__main__', loader=<_f...b/python3.4/dist-packages/ipykernel/__main__.py'), 'app': <module 'ipykernel.kernelapp' from '/usr/local/lib/python3.4/dist-packages/ipykernel/kernelapp.py'>}, init_globals=None, mod_name='__main__', mod_spec=ModuleSpec(name='ipykernel.__main__', loader=<_f...b/python3.4/dist-packages/ipykernel/__main__.py'), pkg_name='ipykernel', script_name=None)\n     80                        __cached__ = cached,\n     81                        __doc__ = None,\n     82                        __loader__ = loader,\n     83                        __package__ = pkg_name,\n     84                        __spec__ = mod_spec)\n---> 85     exec(code, run_globals)\n        code = <code object <module> at 0x7f317bbc24b0, file \"/...3.4/dist-packages/ipykernel/__main__.py\", line 1>\n        run_globals = {'__builtins__': <module 'builtins' (built-in)>, '__cached__': '/usr/local/lib/python3.4/dist-packages/ipykernel/__pycache__/__main__.cpython-34.pyc', '__doc__': None, '__file__': '/usr/local/lib/python3.4/dist-packages/ipykernel/__main__.py', '__loader__': <_frozen_importlib.SourceFileLoader object>, '__name__': '__main__', '__package__': 'ipykernel', '__spec__': ModuleSpec(name='ipykernel.__main__', loader=<_f...b/python3.4/dist-packages/ipykernel/__main__.py'), 'app': <module 'ipykernel.kernelapp' from '/usr/local/lib/python3.4/dist-packages/ipykernel/kernelapp.py'>}\n     86     return run_globals\n     87 \n     88 def _run_module_code(code, init_globals=None,\n     89                     mod_name=None, mod_spec=None,\n\n...........................................................................\n/usr/local/lib/python3.4/dist-packages/ipykernel/__main__.py in <module>()\n      1 \n      2 \n----> 3 \n      4 if __name__ == '__main__':\n      5     from ipykernel import kernelapp as app\n      6     app.launch_new_instance()\n      7 \n      8 \n      9 \n     10 \n\n...........................................................................\n/usr/local/lib/python3.4/dist-packages/traitlets/config/application.py in launch_instance(cls=<class 'ipykernel.kernelapp.IPKernelApp'>, argv=None, **kwargs={})\n    653 \n    654         If a global instance already exists, this reinitializes and starts it\n    655         \"\"\"\n    656         app = cls.instance(**kwargs)\n    657         app.initialize(argv)\n--> 658         app.start()\n        app.start = <bound method IPKernelApp.start of <ipykernel.kernelapp.IPKernelApp object>>\n    659 \n    660 #-----------------------------------------------------------------------------\n    661 # utility functions, for convenience\n    662 #-----------------------------------------------------------------------------\n\n...........................................................................\n/usr/local/lib/python3.4/dist-packages/ipykernel/kernelapp.py in start(self=<ipykernel.kernelapp.IPKernelApp object>)\n    469             return self.subapp.start()\n    470         if self.poller is not None:\n    471             self.poller.start()\n    472         self.kernel.start()\n    473         try:\n--> 474             ioloop.IOLoop.instance().start()\n    475         except KeyboardInterrupt:\n    476             pass\n    477 \n    478 launch_new_instance = IPKernelApp.launch_instance\n\n...........................................................................\n/usr/local/lib/python3.4/dist-packages/zmq/eventloop/ioloop.py in start(self=<zmq.eventloop.ioloop.ZMQIOLoop object>)\n    172             )\n    173         return loop\n    174     \n    175     def start(self):\n    176         try:\n--> 177             super(ZMQIOLoop, self).start()\n        self.start = <bound method ZMQIOLoop.start of <zmq.eventloop.ioloop.ZMQIOLoop object>>\n    178         except ZMQError as e:\n    179             if e.errno == ETERM:\n    180                 # quietly return on ETERM\n    181                 pass\n\n...........................................................................\n/usr/local/lib/python3.4/dist-packages/tornado/ioloop.py in start(self=<zmq.eventloop.ioloop.ZMQIOLoop object>)\n    882                 self._events.update(event_pairs)\n    883                 while self._events:\n    884                     fd, events = self._events.popitem()\n    885                     try:\n    886                         fd_obj, handler_func = self._handlers[fd]\n--> 887                         handler_func(fd_obj, events)\n        handler_func = <function wrap.<locals>.null_wrapper>\n        fd_obj = <zmq.sugar.socket.Socket object>\n        events = 1\n    888                     except (OSError, IOError) as e:\n    889                         if errno_from_exception(e) == errno.EPIPE:\n    890                             # Happens when the client closes the connection\n    891                             pass\n\n...........................................................................\n/usr/local/lib/python3.4/dist-packages/tornado/stack_context.py in null_wrapper(*args=(<zmq.sugar.socket.Socket object>, 1), **kwargs={})\n    270         # Fast path when there are no active contexts.\n    271         def null_wrapper(*args, **kwargs):\n    272             try:\n    273                 current_state = _state.contexts\n    274                 _state.contexts = cap_contexts[0]\n--> 275                 return fn(*args, **kwargs)\n        args = (<zmq.sugar.socket.Socket object>, 1)\n        kwargs = {}\n    276             finally:\n    277                 _state.contexts = current_state\n    278         null_wrapper._wrapped = True\n    279         return null_wrapper\n\n...........................................................................\n/usr/local/lib/python3.4/dist-packages/zmq/eventloop/zmqstream.py in _handle_events(self=<zmq.eventloop.zmqstream.ZMQStream object>, fd=<zmq.sugar.socket.Socket object>, events=1)\n    435             # dispatch events:\n    436             if events & IOLoop.ERROR:\n    437                 gen_log.error(\"got POLLERR event on ZMQStream, which doesn't make sense\")\n    438                 return\n    439             if events & IOLoop.READ:\n--> 440                 self._handle_recv()\n        self._handle_recv = <bound method ZMQStream._handle_recv of <zmq.eventloop.zmqstream.ZMQStream object>>\n    441                 if not self.socket:\n    442                     return\n    443             if events & IOLoop.WRITE:\n    444                 self._handle_send()\n\n...........................................................................\n/usr/local/lib/python3.4/dist-packages/zmq/eventloop/zmqstream.py in _handle_recv(self=<zmq.eventloop.zmqstream.ZMQStream object>)\n    467                 gen_log.error(\"RECV Error: %s\"%zmq.strerror(e.errno))\n    468         else:\n    469             if self._recv_callback:\n    470                 callback = self._recv_callback\n    471                 # self._recv_callback = None\n--> 472                 self._run_callback(callback, msg)\n        self._run_callback = <bound method ZMQStream._run_callback of <zmq.eventloop.zmqstream.ZMQStream object>>\n        callback = <function wrap.<locals>.null_wrapper>\n        msg = [<zmq.sugar.frame.Frame object>, <zmq.sugar.frame.Frame object>, <zmq.sugar.frame.Frame object>, <zmq.sugar.frame.Frame object>, <zmq.sugar.frame.Frame object>, <zmq.sugar.frame.Frame object>, <zmq.sugar.frame.Frame object>]\n    473                 \n    474         # self.update_state()\n    475         \n    476 \n\n...........................................................................\n/usr/local/lib/python3.4/dist-packages/zmq/eventloop/zmqstream.py in _run_callback(self=<zmq.eventloop.zmqstream.ZMQStream object>, callback=<function wrap.<locals>.null_wrapper>, *args=([<zmq.sugar.frame.Frame object>, <zmq.sugar.frame.Frame object>, <zmq.sugar.frame.Frame object>, <zmq.sugar.frame.Frame object>, <zmq.sugar.frame.Frame object>, <zmq.sugar.frame.Frame object>, <zmq.sugar.frame.Frame object>],), **kwargs={})\n    409         close our socket.\"\"\"\n    410         try:\n    411             # Use a NullContext to ensure that all StackContexts are run\n    412             # inside our blanket exception handler rather than outside.\n    413             with stack_context.NullContext():\n--> 414                 callback(*args, **kwargs)\n        callback = <function wrap.<locals>.null_wrapper>\n        args = ([<zmq.sugar.frame.Frame object>, <zmq.sugar.frame.Frame object>, <zmq.sugar.frame.Frame object>, <zmq.sugar.frame.Frame object>, <zmq.sugar.frame.Frame object>, <zmq.sugar.frame.Frame object>, <zmq.sugar.frame.Frame object>],)\n        kwargs = {}\n    415         except:\n    416             gen_log.error(\"Uncaught exception, closing connection.\",\n    417                           exc_info=True)\n    418             # Close the socket on an uncaught exception from a user callback\n\n...........................................................................\n/usr/local/lib/python3.4/dist-packages/tornado/stack_context.py in null_wrapper(*args=([<zmq.sugar.frame.Frame object>, <zmq.sugar.frame.Frame object>, <zmq.sugar.frame.Frame object>, <zmq.sugar.frame.Frame object>, <zmq.sugar.frame.Frame object>, <zmq.sugar.frame.Frame object>, <zmq.sugar.frame.Frame object>],), **kwargs={})\n    270         # Fast path when there are no active contexts.\n    271         def null_wrapper(*args, **kwargs):\n    272             try:\n    273                 current_state = _state.contexts\n    274                 _state.contexts = cap_contexts[0]\n--> 275                 return fn(*args, **kwargs)\n        args = ([<zmq.sugar.frame.Frame object>, <zmq.sugar.frame.Frame object>, <zmq.sugar.frame.Frame object>, <zmq.sugar.frame.Frame object>, <zmq.sugar.frame.Frame object>, <zmq.sugar.frame.Frame object>, <zmq.sugar.frame.Frame object>],)\n        kwargs = {}\n    276             finally:\n    277                 _state.contexts = current_state\n    278         null_wrapper._wrapped = True\n    279         return null_wrapper\n\n...........................................................................\n/usr/local/lib/python3.4/dist-packages/ipykernel/kernelbase.py in dispatcher(msg=[<zmq.sugar.frame.Frame object>, <zmq.sugar.frame.Frame object>, <zmq.sugar.frame.Frame object>, <zmq.sugar.frame.Frame object>, <zmq.sugar.frame.Frame object>, <zmq.sugar.frame.Frame object>, <zmq.sugar.frame.Frame object>])\n    271         if self.control_stream:\n    272             self.control_stream.on_recv(self.dispatch_control, copy=False)\n    273 \n    274         def make_dispatcher(stream):\n    275             def dispatcher(msg):\n--> 276                 return self.dispatch_shell(stream, msg)\n        msg = [<zmq.sugar.frame.Frame object>, <zmq.sugar.frame.Frame object>, <zmq.sugar.frame.Frame object>, <zmq.sugar.frame.Frame object>, <zmq.sugar.frame.Frame object>, <zmq.sugar.frame.Frame object>, <zmq.sugar.frame.Frame object>]\n    277             return dispatcher\n    278 \n    279         for s in self.shell_streams:\n    280             s.on_recv(make_dispatcher(s), copy=False)\n\n...........................................................................\n/usr/local/lib/python3.4/dist-packages/ipykernel/kernelbase.py in dispatch_shell(self=<ipykernel.ipkernel.IPythonKernel object>, stream=<zmq.eventloop.zmqstream.ZMQStream object>, msg={'buffers': [], 'content': {'allow_stdin': True, 'code': 't_SVRPolyCVModel = wrapper([ SVRPolyCVModel ])', 'silent': False, 'stop_on_error': True, 'store_history': True, 'user_expressions': {}}, 'header': {'date': '2017-04-13T12:51:39.733504', 'msg_id': 'ECF096D0180E4FFC8770F313287442E4', 'msg_type': 'execute_request', 'session': '871CD760EAC7455F9A11248547C9754C', 'username': 'username', 'version': '5.0'}, 'metadata': {}, 'msg_id': 'ECF096D0180E4FFC8770F313287442E4', 'msg_type': 'execute_request', 'parent_header': {}})\n    223             self.log.error(\"UNKNOWN MESSAGE TYPE: %r\", msg_type)\n    224         else:\n    225             self.log.debug(\"%s: %s\", msg_type, msg)\n    226             self.pre_handler_hook()\n    227             try:\n--> 228                 handler(stream, idents, msg)\n        handler = <bound method IPythonKernel.execute_request of <ipykernel.ipkernel.IPythonKernel object>>\n        stream = <zmq.eventloop.zmqstream.ZMQStream object>\n        idents = [b'871CD760EAC7455F9A11248547C9754C']\n        msg = {'buffers': [], 'content': {'allow_stdin': True, 'code': 't_SVRPolyCVModel = wrapper([ SVRPolyCVModel ])', 'silent': False, 'stop_on_error': True, 'store_history': True, 'user_expressions': {}}, 'header': {'date': '2017-04-13T12:51:39.733504', 'msg_id': 'ECF096D0180E4FFC8770F313287442E4', 'msg_type': 'execute_request', 'session': '871CD760EAC7455F9A11248547C9754C', 'username': 'username', 'version': '5.0'}, 'metadata': {}, 'msg_id': 'ECF096D0180E4FFC8770F313287442E4', 'msg_type': 'execute_request', 'parent_header': {}}\n    229             except Exception:\n    230                 self.log.error(\"Exception in message handler:\", exc_info=True)\n    231             finally:\n    232                 self.post_handler_hook()\n\n...........................................................................\n/usr/local/lib/python3.4/dist-packages/ipykernel/kernelbase.py in execute_request(self=<ipykernel.ipkernel.IPythonKernel object>, stream=<zmq.eventloop.zmqstream.ZMQStream object>, ident=[b'871CD760EAC7455F9A11248547C9754C'], parent={'buffers': [], 'content': {'allow_stdin': True, 'code': 't_SVRPolyCVModel = wrapper([ SVRPolyCVModel ])', 'silent': False, 'stop_on_error': True, 'store_history': True, 'user_expressions': {}}, 'header': {'date': '2017-04-13T12:51:39.733504', 'msg_id': 'ECF096D0180E4FFC8770F313287442E4', 'msg_type': 'execute_request', 'session': '871CD760EAC7455F9A11248547C9754C', 'username': 'username', 'version': '5.0'}, 'metadata': {}, 'msg_id': 'ECF096D0180E4FFC8770F313287442E4', 'msg_type': 'execute_request', 'parent_header': {}})\n    385         if not silent:\n    386             self.execution_count += 1\n    387             self._publish_execute_input(code, parent, self.execution_count)\n    388 \n    389         reply_content = self.do_execute(code, silent, store_history,\n--> 390                                         user_expressions, allow_stdin)\n        user_expressions = {}\n        allow_stdin = True\n    391 \n    392         # Flush output before sending the reply.\n    393         sys.stdout.flush()\n    394         sys.stderr.flush()\n\n...........................................................................\n/usr/local/lib/python3.4/dist-packages/ipykernel/ipkernel.py in do_execute(self=<ipykernel.ipkernel.IPythonKernel object>, code='t_SVRPolyCVModel = wrapper([ SVRPolyCVModel ])', silent=False, store_history=True, user_expressions={}, allow_stdin=True)\n    191 \n    192         self._forward_input(allow_stdin)\n    193 \n    194         reply_content = {}\n    195         try:\n--> 196             res = shell.run_cell(code, store_history=store_history, silent=silent)\n        res = undefined\n        shell.run_cell = <bound method ZMQInteractiveShell.run_cell of <ipykernel.zmqshell.ZMQInteractiveShell object>>\n        code = 't_SVRPolyCVModel = wrapper([ SVRPolyCVModel ])'\n        store_history = True\n        silent = False\n    197         finally:\n    198             self._restore_input()\n    199 \n    200         if res.error_before_exec is not None:\n\n...........................................................................\n/usr/local/lib/python3.4/dist-packages/ipykernel/zmqshell.py in run_cell(self=<ipykernel.zmqshell.ZMQInteractiveShell object>, *args=('t_SVRPolyCVModel = wrapper([ SVRPolyCVModel ])',), **kwargs={'silent': False, 'store_history': True})\n    496             )\n    497         self.payload_manager.write_payload(payload)\n    498 \n    499     def run_cell(self, *args, **kwargs):\n    500         self._last_traceback = None\n--> 501         return super(ZMQInteractiveShell, self).run_cell(*args, **kwargs)\n        self.run_cell = <bound method ZMQInteractiveShell.run_cell of <ipykernel.zmqshell.ZMQInteractiveShell object>>\n        args = ('t_SVRPolyCVModel = wrapper([ SVRPolyCVModel ])',)\n        kwargs = {'silent': False, 'store_history': True}\n    502 \n    503     def _showtraceback(self, etype, evalue, stb):\n    504         # try to preserve ordering of tracebacks and print statements\n    505         sys.stdout.flush()\n\n...........................................................................\n/usr/local/lib/python3.4/dist-packages/IPython/core/interactiveshell.py in run_cell(self=<ipykernel.zmqshell.ZMQInteractiveShell object>, raw_cell='t_SVRPolyCVModel = wrapper([ SVRPolyCVModel ])', store_history=True, silent=False, shell_futures=True)\n   2712                 self.displayhook.exec_result = result\n   2713 \n   2714                 # Execute the user code\n   2715                 interactivity = \"none\" if silent else self.ast_node_interactivity\n   2716                 has_raised = self.run_ast_nodes(code_ast.body, cell_name,\n-> 2717                    interactivity=interactivity, compiler=compiler, result=result)\n        interactivity = 'last_expr'\n        compiler = <IPython.core.compilerop.CachingCompiler object>\n   2718                 \n   2719                 self.last_execution_succeeded = not has_raised\n   2720 \n   2721                 # Reset this so later displayed values do not modify the\n\n...........................................................................\n/usr/local/lib/python3.4/dist-packages/IPython/core/interactiveshell.py in run_ast_nodes(self=<ipykernel.zmqshell.ZMQInteractiveShell object>, nodelist=[<_ast.Assign object>], cell_name='<ipython-input-7-42fccdee9ce5>', interactivity='none', compiler=<IPython.core.compilerop.CachingCompiler object>, result=<ExecutionResult object at 7f31482a3b00, executi..._before_exec=None error_in_exec=None result=None>)\n   2816 \n   2817         try:\n   2818             for i, node in enumerate(to_run_exec):\n   2819                 mod = ast.Module([node])\n   2820                 code = compiler(mod, cell_name, \"exec\")\n-> 2821                 if self.run_code(code, result):\n        self.run_code = <bound method ZMQInteractiveShell.run_code of <ipykernel.zmqshell.ZMQInteractiveShell object>>\n        code = <code object <module> at 0x7f3174df19c0, file \"<ipython-input-7-42fccdee9ce5>\", line 1>\n        result = <ExecutionResult object at 7f31482a3b00, executi..._before_exec=None error_in_exec=None result=None>\n   2822                     return True\n   2823 \n   2824             for i, node in enumerate(to_run_interactive):\n   2825                 mod = ast.Interactive([node])\n\n...........................................................................\n/usr/local/lib/python3.4/dist-packages/IPython/core/interactiveshell.py in run_code(self=<ipykernel.zmqshell.ZMQInteractiveShell object>, code_obj=<code object <module> at 0x7f3174df19c0, file \"<ipython-input-7-42fccdee9ce5>\", line 1>, result=<ExecutionResult object at 7f31482a3b00, executi..._before_exec=None error_in_exec=None result=None>)\n   2876         outflag = 1  # happens in more places, so it's easier as default\n   2877         try:\n   2878             try:\n   2879                 self.hooks.pre_run_code_hook()\n   2880                 #rprint('Running code', repr(code_obj)) # dbg\n-> 2881                 exec(code_obj, self.user_global_ns, self.user_ns)\n        code_obj = <code object <module> at 0x7f3174df19c0, file \"<ipython-input-7-42fccdee9ce5>\", line 1>\n        self.user_global_ns = {'ElasticNetCVModel': <function ElasticNetCVModel>, 'GradientBoostingCVModel': <function GradientBoostingCVModel>, 'In': ['', '# import all the filenames\\nfrom allfunctions import *', \"get_ipython().magic('load_ext autoreload')\\nget_ipython().magic('autoreload 2')\", \"def wrapper(functionList = [], filenames = [ 'da...ion[f] = out[filename]\\n    return model_selection\", 't_SVRSigmoidCVModel = wrapper([ SVRSigmoidCVModel ])', \"t_print = t_SVRSigmoidCVModel\\n\\nfor key in t_prin...test_mean_y_comparingD']))\\n    \\n    print(80*'_')\", \"# write the model\\nimport pickle\\n\\n#||||||||||||||... 'wb') as handle:\\n        pickle.dump(mo, handle)\", 't_SVRPolyCVModel = wrapper([ SVRPolyCVModel ])'], 'LassoCVModel': <function LassoCVModel>, 'OMPCVModel': <function OMPCVModel>, 'Out': {}, 'RandomForestCVModel': <function RandomForestCVModel>, 'RidgeCVModel': <function RidgeCVModel>, 'SVRLinearCVModel': <function SVRLinearCVModel>, 'SVRPolyCVModel': <function SVRPolyCVModel>, ...}\n        self.user_ns = {'ElasticNetCVModel': <function ElasticNetCVModel>, 'GradientBoostingCVModel': <function GradientBoostingCVModel>, 'In': ['', '# import all the filenames\\nfrom allfunctions import *', \"get_ipython().magic('load_ext autoreload')\\nget_ipython().magic('autoreload 2')\", \"def wrapper(functionList = [], filenames = [ 'da...ion[f] = out[filename]\\n    return model_selection\", 't_SVRSigmoidCVModel = wrapper([ SVRSigmoidCVModel ])', \"t_print = t_SVRSigmoidCVModel\\n\\nfor key in t_prin...test_mean_y_comparingD']))\\n    \\n    print(80*'_')\", \"# write the model\\nimport pickle\\n\\n#||||||||||||||... 'wb') as handle:\\n        pickle.dump(mo, handle)\", 't_SVRPolyCVModel = wrapper([ SVRPolyCVModel ])'], 'LassoCVModel': <function LassoCVModel>, 'OMPCVModel': <function OMPCVModel>, 'Out': {}, 'RandomForestCVModel': <function RandomForestCVModel>, 'RidgeCVModel': <function RidgeCVModel>, 'SVRLinearCVModel': <function SVRLinearCVModel>, 'SVRPolyCVModel': <function SVRPolyCVModel>, ...}\n   2882             finally:\n   2883                 # Reset our crash handler in place\n   2884                 sys.excepthook = old_excepthook\n   2885         except SystemExit as e:\n\n...........................................................................\n/data/home/a1singh/IPPD/IPPD/workbench/<ipython-input-7-42fccdee9ce5> in <module>()\n----> 1 \n      2 \n      3 \n      4 \n      5 \n      6 t_SVRPolyCVModel = wrapper([ SVRPolyCVModel ])\n      7 \n      8 \n      9 \n     10 \n\n...........................................................................\n/data/home/a1singh/IPPD/IPPD/workbench/<ipython-input-3-266c1878d019> in wrapper(functionList=[<function SVRPolyCVModel>], filenames=['datasetIPPD.pickle'])\n      8         model_selection = {}\n      9         \n     10         for f in functionList:\n     11             print()\n     12             for filename in filenames:\n---> 13                 out = f(filename)\n     14                 newScore = out[filename]['train_rmse_cv_picking']\n     15 \n     16                 if f in model_selection:\n     17                     #compare scores and select more accurate model\n\n...........................................................................\n/data/home/a1singh/IPPD/IPPD/workbench/allfunctions.py in SVRPolyCVModel(filename='datasetIPPD.pickle', scale=False)\n    664                        cv=3, \n    665                        n_jobs=-1, \n    666                        scoring=rmse_scorer)\n    667     print('Starting grdsurch.fit(X_train, y_train)')\n    668     \n--> 669     grdsurch.fit(X_train, y_train)\n        grdsurch.fit = <bound method GridSearchCV.fit of GridSearchCV(c...ction rmse_scorer at 0x7f31793716a8>, verbose=0)>\n        X_train =       ppn    sizeGB     ft1     ft2     ft3   ft...8.0  \n257  13.0  558.0  \n\n[258 rows x 57 columns]\n        y_train = array([   68.75,   204.44,    21.63,   120.19,  ... 464.01,  1037.79,  2453.84,   510.55,  2442.42])\n    670 \n    671     print(\"\\nBest parameters set found on development set:\")\n    672     print()\n    673     print(grdsurch.best_params_)\n\n...........................................................................\n/usr/local/lib/python3.4/dist-packages/sklearn/model_selection/_search.py in fit(self=GridSearchCV(cv=3, error_score='raise',\n       e...nction rmse_scorer at 0x7f31793716a8>, verbose=0), X=      ppn    sizeGB     ft1     ft2     ft3   ft...8.0  \n257  13.0  558.0  \n\n[258 rows x 57 columns], y=array([   68.75,   204.44,    21.63,   120.19,  ... 464.01,  1037.79,  2453.84,   510.55,  2442.42]), groups=None)\n    940 \n    941         groups : array-like, with shape (n_samples,), optional\n    942             Group labels for the samples used while splitting the dataset into\n    943             train/test set.\n    944         \"\"\"\n--> 945         return self._fit(X, y, groups, ParameterGrid(self.param_grid))\n        self._fit = <bound method GridSearchCV._fit of GridSearchCV(...ction rmse_scorer at 0x7f31793716a8>, verbose=0)>\n        X =       ppn    sizeGB     ft1     ft2     ft3   ft...8.0  \n257  13.0  558.0  \n\n[258 rows x 57 columns]\n        y = array([   68.75,   204.44,    21.63,   120.19,  ... 464.01,  1037.79,  2453.84,   510.55,  2442.42])\n        groups = None\n        self.param_grid = [{'C': array([  1.00000000e-05,   1.00000000e+15]), 'degree': [6], 'gamma': array([  1.00000000e-15,   1.00000000e+03])}]\n    946 \n    947 \n    948 class RandomizedSearchCV(BaseSearchCV):\n    949     \"\"\"Randomized search on hyper parameters.\n\n...........................................................................\n/usr/local/lib/python3.4/dist-packages/sklearn/model_selection/_search.py in _fit(self=GridSearchCV(cv=3, error_score='raise',\n       e...nction rmse_scorer at 0x7f31793716a8>, verbose=0), X=      ppn    sizeGB     ft1     ft2     ft3   ft...8.0  \n257  13.0  558.0  \n\n[258 rows x 57 columns], y=array([   68.75,   204.44,    21.63,   120.19,  ... 464.01,  1037.79,  2453.84,   510.55,  2442.42]), groups=None, parameter_iterable=<sklearn.model_selection._search.ParameterGrid object>)\n    559                                   fit_params=self.fit_params,\n    560                                   return_train_score=self.return_train_score,\n    561                                   return_n_test_samples=True,\n    562                                   return_times=True, return_parameters=True,\n    563                                   error_score=self.error_score)\n--> 564           for parameters in parameter_iterable\n        parameters = undefined\n        parameter_iterable = <sklearn.model_selection._search.ParameterGrid object>\n    565           for train, test in cv_iter)\n    566 \n    567         # if one choose to see train score, \"out\" will contain train score info\n    568         if self.return_train_score:\n\n...........................................................................\n/usr/local/lib/python3.4/dist-packages/sklearn/externals/joblib/parallel.py in __call__(self=Parallel(n_jobs=-1), iterable=<generator object <genexpr>>)\n    763             if pre_dispatch == \"all\" or n_jobs == 1:\n    764                 # The iterable was consumed all at once by the above for loop.\n    765                 # No need to wait for async callbacks to trigger to\n    766                 # consumption.\n    767                 self._iterating = False\n--> 768             self.retrieve()\n        self.retrieve = <bound method Parallel.retrieve of Parallel(n_jobs=-1)>\n    769             # Make sure that we get a last message telling us we are done\n    770             elapsed_time = time.time() - self._start_time\n    771             self._print('Done %3i out of %3i | elapsed: %s finished',\n    772                         (len(self._output), len(self._output),\n\n---------------------------------------------------------------------------\nSub-process traceback:\n---------------------------------------------------------------------------\nValueError                                         Thu Apr 13 12:51:39 2017\nPID: 13149                                   Python 3.4.3: /usr/bin/python3\n...........................................................................\n/usr/local/lib/python3.4/dist-packages/sklearn/externals/joblib/parallel.py in __call__(self=<sklearn.externals.joblib.parallel.BatchedCalls object>)\n    126     def __init__(self, iterator_slice):\n    127         self.items = list(iterator_slice)\n    128         self._size = len(self.items)\n    129 \n    130     def __call__(self):\n--> 131         return [func(*args, **kwargs) for func, args, kwargs in self.items]\n        self.items = [(<function _fit_and_score>, (SVR(C=1.0000000000000001e-05, cache_size=20480, ...00.0,\n  shrinking=False, tol=0.01, verbose=False),       ppn    sizeGB     ft1     ft2     ft3   ft...8.0  \n257  13.0  558.0  \n\n[258 rows x 57 columns], array([   68.75,   204.44,    21.63,   120.19,  ... 464.01,  1037.79,  2453.84,   510.55,  2442.42]), <function rmse_scorer>, array([ 86,  87,  88,  89,  90,  91,  92,  93,  ..., 250, 251, 252, 253, 254,\n       255, 256, 257]), array([ 0,  1,  2,  3,  4,  5,  6,  7,  8,  9, 1..., 76, 77, 78, 79, 80, 81, 82, 83, 84,\n       85]), 0, {'C': 1.0000000000000001e-05, 'degree': 6, 'gamma': 1000.0}), {'error_score': 'raise', 'fit_params': {}, 'return_n_test_samples': True, 'return_parameters': True, 'return_times': True, 'return_train_score': True})]\n    132 \n    133     def __len__(self):\n    134         return self._size\n    135 \n\n...........................................................................\n/usr/local/lib/python3.4/dist-packages/sklearn/externals/joblib/parallel.py in <listcomp>(.0=<list_iterator object>)\n    126     def __init__(self, iterator_slice):\n    127         self.items = list(iterator_slice)\n    128         self._size = len(self.items)\n    129 \n    130     def __call__(self):\n--> 131         return [func(*args, **kwargs) for func, args, kwargs in self.items]\n        func = <function _fit_and_score>\n        args = (SVR(C=1.0000000000000001e-05, cache_size=20480, ...00.0,\n  shrinking=False, tol=0.01, verbose=False),       ppn    sizeGB     ft1     ft2     ft3   ft...8.0  \n257  13.0  558.0  \n\n[258 rows x 57 columns], array([   68.75,   204.44,    21.63,   120.19,  ... 464.01,  1037.79,  2453.84,   510.55,  2442.42]), <function rmse_scorer>, array([ 86,  87,  88,  89,  90,  91,  92,  93,  ..., 250, 251, 252, 253, 254,\n       255, 256, 257]), array([ 0,  1,  2,  3,  4,  5,  6,  7,  8,  9, 1..., 76, 77, 78, 79, 80, 81, 82, 83, 84,\n       85]), 0, {'C': 1.0000000000000001e-05, 'degree': 6, 'gamma': 1000.0})\n        kwargs = {'error_score': 'raise', 'fit_params': {}, 'return_n_test_samples': True, 'return_parameters': True, 'return_times': True, 'return_train_score': True}\n    132 \n    133     def __len__(self):\n    134         return self._size\n    135 \n\n...........................................................................\n/usr/local/lib/python3.4/dist-packages/sklearn/model_selection/_validation.py in _fit_and_score(estimator=SVR(C=1.0000000000000001e-05, cache_size=20480, ...00.0,\n  shrinking=False, tol=0.01, verbose=False), X=      ppn    sizeGB     ft1     ft2     ft3   ft...8.0  \n257  13.0  558.0  \n\n[258 rows x 57 columns], y=array([   68.75,   204.44,    21.63,   120.19,  ... 464.01,  1037.79,  2453.84,   510.55,  2442.42]), scorer=<function rmse_scorer>, train=array([ 86,  87,  88,  89,  90,  91,  92,  93,  ..., 250, 251, 252, 253, 254,\n       255, 256, 257]), test=array([ 0,  1,  2,  3,  4,  5,  6,  7,  8,  9, 1..., 76, 77, 78, 79, 80, 81, 82, 83, 84,\n       85]), verbose=0, parameters={'C': 1.0000000000000001e-05, 'degree': 6, 'gamma': 1000.0}, fit_params={}, return_train_score=True, return_parameters=True, return_n_test_samples=True, return_times=True, error_score='raise')\n    255                              \" numeric value. (Hint: if using 'raise', please\"\n    256                              \" make sure that it has been spelled correctly.)\")\n    257 \n    258     else:\n    259         fit_time = time.time() - start_time\n--> 260         test_score = _score(estimator, X_test, y_test, scorer)\n        test_score = undefined\n        estimator = SVR(C=1.0000000000000001e-05, cache_size=20480, ...00.0,\n  shrinking=False, tol=0.01, verbose=False)\n        X_test =      ppn    sizeGB     ft1     ft2     ft3   ft4... \n84  681.0  \n85  681.0  \n\n[86 rows x 57 columns]\n        y_test = array([   68.75,   204.44,    21.63,   120.19,  ...,  2461.26,  2397.91,\n        1583.26,  2376.19])\n        scorer = <function rmse_scorer>\n    261         score_time = time.time() - start_time - fit_time\n    262         if return_train_score:\n    263             train_score = _score(estimator, X_train, y_train, scorer)\n    264 \n\n...........................................................................\n/usr/local/lib/python3.4/dist-packages/sklearn/model_selection/_validation.py in _score(estimator=SVR(C=1.0000000000000001e-05, cache_size=20480, ...00.0,\n  shrinking=False, tol=0.01, verbose=False), X_test=     ppn    sizeGB     ft1     ft2     ft3   ft4... \n84  681.0  \n85  681.0  \n\n[86 rows x 57 columns], y_test=array([   68.75,   204.44,    21.63,   120.19,  ...,  2461.26,  2397.91,\n        1583.26,  2376.19]), scorer=<function rmse_scorer>)\n    283 def _score(estimator, X_test, y_test, scorer):\n    284     \"\"\"Compute the score of an estimator on a given test set.\"\"\"\n    285     if y_test is None:\n    286         score = scorer(estimator, X_test)\n    287     else:\n--> 288         score = scorer(estimator, X_test, y_test)\n        score = undefined\n        scorer = <function rmse_scorer>\n        estimator = SVR(C=1.0000000000000001e-05, cache_size=20480, ...00.0,\n  shrinking=False, tol=0.01, verbose=False)\n        X_test =      ppn    sizeGB     ft1     ft2     ft3   ft4... \n84  681.0  \n85  681.0  \n\n[86 rows x 57 columns]\n        y_test = array([   68.75,   204.44,    21.63,   120.19,  ...,  2461.26,  2397.91,\n        1583.26,  2376.19])\n    289     if hasattr(score, 'item'):\n    290         try:\n    291             # e.g. unwrap memmapped scalars\n    292             score = score.item()\n\n...........................................................................\n/data/home/a1singh/IPPD/IPPD/workbench/allfunctions.py in rmse_scorer(model=SVR(C=1.0000000000000001e-05, cache_size=20480, ...00.0,\n  shrinking=False, tol=0.01, verbose=False), X=     ppn    sizeGB     ft1     ft2     ft3   ft4... \n84  681.0  \n85  681.0  \n\n[86 rows x 57 columns], y=array([   68.75,   204.44,    21.63,   120.19,  ...,  2461.26,  2397.91,\n        1583.26,  2376.19]))\n     24 c = 0\n     25 \n     26 def rmse_scorer(model, X, y):\n     27     global c\n     28     y_predict = model.predict(X)\n---> 29     k = np.sqrt(mean_squared_error(y, y_predict))\n        k = undefined\n        y = array([   68.75,   204.44,    21.63,   120.19,  ...,  2461.26,  2397.91,\n        1583.26,  2376.19])\n        y_predict = array([ nan,  nan,  nan,  nan,  nan,  nan,  nan,...  nan,  nan,  nan,  nan,  nan,  nan,  nan,  nan])\n     30     c = c+1\n     31     return k\n     32 \n     33 \n\n...........................................................................\n/usr/local/lib/python3.4/dist-packages/sklearn/metrics/regression.py in mean_squared_error(y_true=array([   68.75,   204.44,    21.63,   120.19,  ...,  2461.26,  2397.91,\n        1583.26,  2376.19]), y_pred=array([ nan,  nan,  nan,  nan,  nan,  nan,  nan,...  nan,  nan,  nan,  nan,  nan,  nan,  nan,  nan]), sample_weight=None, multioutput='uniform_average')\n    226     ... # doctest: +ELLIPSIS\n    227     0.824...\n    228 \n    229     \"\"\"\n    230     y_type, y_true, y_pred, multioutput = _check_reg_targets(\n--> 231         y_true, y_pred, multioutput)\n        y_true = array([   68.75,   204.44,    21.63,   120.19,  ...,  2461.26,  2397.91,\n        1583.26,  2376.19])\n        y_pred = array([ nan,  nan,  nan,  nan,  nan,  nan,  nan,...  nan,  nan,  nan,  nan,  nan,  nan,  nan,  nan])\n        multioutput = 'uniform_average'\n    232     output_errors = np.average((y_true - y_pred) ** 2, axis=0,\n    233                                weights=sample_weight)\n    234     if isinstance(multioutput, string_types):\n    235         if multioutput == 'raw_values':\n\n...........................................................................\n/usr/local/lib/python3.4/dist-packages/sklearn/metrics/regression.py in _check_reg_targets(y_true=array([   68.75,   204.44,    21.63,   120.19,  ...,  2461.26,  2397.91,\n        1583.26,  2376.19]), y_pred=array([ nan,  nan,  nan,  nan,  nan,  nan,  nan,...  nan,  nan,  nan,  nan,  nan,  nan,  nan,  nan]), multioutput='uniform_average')\n     71         correct keyword.\n     72 \n     73     \"\"\"\n     74     check_consistent_length(y_true, y_pred)\n     75     y_true = check_array(y_true, ensure_2d=False)\n---> 76     y_pred = check_array(y_pred, ensure_2d=False)\n        y_pred = array([ nan,  nan,  nan,  nan,  nan,  nan,  nan,...  nan,  nan,  nan,  nan,  nan,  nan,  nan,  nan])\n     77 \n     78     if y_true.ndim == 1:\n     79         y_true = y_true.reshape((-1, 1))\n     80 \n\n...........................................................................\n/usr/local/lib/python3.4/dist-packages/sklearn/utils/validation.py in check_array(array=array([ nan,  nan,  nan,  nan,  nan,  nan,  nan,...  nan,  nan,  nan,  nan,  nan,  nan,  nan,  nan]), accept_sparse=None, dtype=None, order=None, copy=False, force_all_finite=True, ensure_2d=False, allow_nd=False, ensure_min_samples=1, ensure_min_features=1, warn_on_dtype=False, estimator=None)\n    402             array = array.astype(np.float64)\n    403         if not allow_nd and array.ndim >= 3:\n    404             raise ValueError(\"Found array with dim %d. %s expected <= 2.\"\n    405                              % (array.ndim, estimator_name))\n    406         if force_all_finite:\n--> 407             _assert_all_finite(array)\n        array = array([ nan,  nan,  nan,  nan,  nan,  nan,  nan,...  nan,  nan,  nan,  nan,  nan,  nan,  nan,  nan])\n    408 \n    409     shape_repr = _shape_repr(array.shape)\n    410     if ensure_min_samples > 0:\n    411         n_samples = _num_samples(array)\n\n...........................................................................\n/usr/local/lib/python3.4/dist-packages/sklearn/utils/validation.py in _assert_all_finite(X=array([ nan,  nan,  nan,  nan,  nan,  nan,  nan,...  nan,  nan,  nan,  nan,  nan,  nan,  nan,  nan]))\n     53     # everything is finite; fall back to O(n) space np.isfinite to prevent\n     54     # false positives from overflow in sum method.\n     55     if (X.dtype.char in np.typecodes['AllFloat'] and not np.isfinite(X.sum())\n     56             and not np.isfinite(X).all()):\n     57         raise ValueError(\"Input contains NaN, infinity\"\n---> 58                          \" or a value too large for %r.\" % X.dtype)\n        X.dtype = dtype('float64')\n     59 \n     60 \n     61 def assert_all_finite(X):\n     62     \"\"\"Throw a ValueError if X contains NaN or infinity.\n\nValueError: Input contains NaN, infinity or a value too large for dtype('float64').\n___________________________________________________________________________"
     ]
    }
   ],
   "source": [
    "t_SVRPolyCVModel = wrapper([ SVRPolyCVModel ])"
   ]
  },
  {
   "cell_type": "code",
   "execution_count": null,
   "metadata": {
    "collapsed": false
   },
   "outputs": [],
   "source": [
    "t_print = t_SVRPolyCVModel\n",
    "\n",
    "for key in t_print.keys():\n",
    "    print(80*'_')\n",
    "    \n",
    "    print('Model: %s' % (str(t_print[key]['model'])[:20]))\n",
    "    print('Train RMSE: %f \\n' % (t_print[key]['train_rmse_cv_picking']))\n",
    "    \n",
    "    #print('Test RMSE   : %f' % (t_print[key]['test_rmse_reporting']))\n",
    "    #print('Overall Mean: %f \\n' % (t_print[key]['test_mean_y_comparing']))\n",
    "    \n",
    "    print('A...TestA RMSE   : %f' % (t_print[key]['test_rmse_reportingA']))\n",
    "    print('A...y_test_A Mean: %f \\n' % (t_print[key]['test_mean_y_comparingA']))\n",
    "    \n",
    "    print('B...TestB RMSE   : %f' % (t_print[key]['test_rmse_reportingB']))\n",
    "    print('B...y_test_B Mean: %f \\n' % (t_print[key]['test_mean_y_comparingB']))\n",
    "    \n",
    "    print('C...TestC RMSE   : %f' % (t_print[key]['test_rmse_reportingC']))\n",
    "    print('C...y_test_C Mean: %f \\n' % (t_print[key]['test_mean_y_comparingC']))\n",
    "    \n",
    "    print('D...TestD RMSE   : %f' % (t_print[key]['test_rmse_reportingD']))\n",
    "    print('D...y_test_D Mean: %f' % (t_print[key]['test_mean_y_comparingD']))\n",
    "    \n",
    "    print(80*'_')"
   ]
  },
  {
   "cell_type": "code",
   "execution_count": null,
   "metadata": {
    "collapsed": true
   },
   "outputs": [],
   "source": [
    "# write the model\n",
    "import pickle\n",
    "\n",
    "#||||||||||||||||||| \n",
    "t_ = t_SVRPolyCVModel\n",
    "prefix = '4C4_' + 'SVRPolyCVModel'\n",
    "#||||||||||||||||||| \n",
    "\n",
    "for k in t_.keys():\n",
    "    mo   = t_[k]['model']\n",
    "    fname = prefix + '_tuned_ABCD' + '.pickle'\n",
    "       \n",
    "    print(fname)\n",
    "    # write the model to a file\n",
    "    with open(fname, 'wb') as handle:\n",
    "        pickle.dump(mo, handle)"
   ]
  },
  {
   "cell_type": "markdown",
   "metadata": {},
   "source": [
    "# 3 Linear Kernel"
   ]
  },
  {
   "cell_type": "code",
   "execution_count": 8,
   "metadata": {
    "collapsed": false
   },
   "outputs": [
    {
     "name": "stdout",
     "output_type": "stream",
     "text": [
      "\n",
      "Dataset size read: train 258 and test 63 \n",
      "\n",
      "# Tuning hyper-parameters \n",
      "\n",
      "Starting grdsurch.fit(X_train, y_train)\n",
      "\n",
      " Best parameters set found on development set:\n",
      "\n",
      "{'C': 3.1622776601683792e-08}\n",
      "SVR(C=3.1622776601683792e-08, cache_size=20480, coef0=0.0, degree=3,\n",
      "  epsilon=0.1, gamma='auto', kernel='linear', max_iter=-1, shrinking=False,\n",
      "  tol=1e-07, verbose=False)\n",
      "\n",
      "Full Test Set: 63\n"
     ]
    },
    {
     "data": {
      "text/plain": [
       "array([  173.64,    45.97,   141.66,   164.88,    67.96,    98.47,\n",
       "        3309.8 ,  2896.76,  3359.25,  1861.97,  3344.01,  3371.75,\n",
       "        2855.36,  1423.13,  1721.38,  1323.62,  2396.68,  2472.15,\n",
       "        3028.27,  2877.71,  2024.25,  2314.1 ,  1174.9 ,  1723.63,\n",
       "        3348.91,  2683.3 ,  1873.73,  2684.27,  2083.07,   998.65,\n",
       "         976.5 ,  1868.49,  1076.1 ,  1073.56,  3326.93,  2265.29,\n",
       "         644.52,   298.64,  3059.32,  1083.5 ,  1001.19,   322.13,\n",
       "        2543.24,   692.62,  2478.78,   198.71,  1031.47,  2457.56,\n",
       "        1801.74,   216.12,  1925.99,  2125.54,  2239.73,   747.33,\n",
       "         810.75,   462.77,  2106.02,   218.82,  1634.05,  1802.26,\n",
       "        1332.56,  2142.12,   462.06])"
      ]
     },
     "metadata": {},
     "output_type": "display_data"
    },
    {
     "data": {
      "text/plain": [
       "array([ 1557.67243072,  1557.67241406,  1557.67242912,  1557.6724293 ,\n",
       "        1557.67241862,  1557.67242307,  1583.35996685,  1583.35996827,\n",
       "        1583.35996827,  1583.35996683,  1583.35997112,  1583.35996827,\n",
       "        1583.35997111,  1583.35996825,  1583.35996968,  1583.35996683,\n",
       "        1583.35996684,  1583.35997111,  1583.35996685,  1583.35997111,\n",
       "        1583.3599711 ,  1583.35996826,  1583.35996969,  1583.3599711 ,\n",
       "        1583.35996969,  1724.37014765,  1724.37013962,  1724.3701505 ,\n",
       "        1724.37014596,  1724.37013121,  1724.37012836,  1724.37014104,\n",
       "        1724.37012694,  1724.37012694,  1724.37015399,  1724.37014169,\n",
       "        1724.37012495,  1724.37012149,  1724.37015257,  1724.37012836,\n",
       "        1724.37012694,  1724.37012149,  1724.37014169,  1724.37012637,\n",
       "        1552.06439563,  1552.06437154,  1552.06438495,  1552.06439563,\n",
       "        1552.06438674,  1552.06437438,  1552.06439403,  1552.06438976,\n",
       "        1552.06439421,  1552.06438193,  1552.06438193,  1552.06437736,\n",
       "        1552.06439261,  1552.06437581,  1552.06438674,  1552.064391  ,\n",
       "        1552.06438656,  1552.06439118,  1552.06437451])"
      ]
     },
     "metadata": {},
     "output_type": "display_data"
    },
    {
     "name": "stdout",
     "output_type": "stream",
     "text": [
      "A: 6\n"
     ]
    },
    {
     "data": {
      "text/plain": [
       "array([ 173.64,   45.97,  141.66,  164.88,   67.96,   98.47])"
      ]
     },
     "metadata": {},
     "output_type": "display_data"
    },
    {
     "data": {
      "text/plain": [
       "array([ 1557.67243072,  1557.67241406,  1557.67242912,  1557.6724293 ,\n",
       "        1557.67241862,  1557.67242307])"
      ]
     },
     "metadata": {},
     "output_type": "display_data"
    },
    {
     "name": "stdout",
     "output_type": "stream",
     "text": [
      "B: 19\n"
     ]
    },
    {
     "data": {
      "text/plain": [
       "array([ 3309.8 ,  2896.76,  3359.25,  1861.97,  3344.01,  3371.75,\n",
       "        2855.36,  1423.13,  1721.38,  1323.62,  2396.68,  2472.15,\n",
       "        3028.27,  2877.71,  2024.25,  2314.1 ,  1174.9 ,  1723.63,  3348.91])"
      ]
     },
     "metadata": {},
     "output_type": "display_data"
    },
    {
     "data": {
      "text/plain": [
       "array([ 1583.35996685,  1583.35996827,  1583.35996827,  1583.35996683,\n",
       "        1583.35997112,  1583.35996827,  1583.35997111,  1583.35996825,\n",
       "        1583.35996968,  1583.35996683,  1583.35996684,  1583.35997111,\n",
       "        1583.35996685,  1583.35997111,  1583.3599711 ,  1583.35996826,\n",
       "        1583.35996969,  1583.3599711 ,  1583.35996969])"
      ]
     },
     "metadata": {},
     "output_type": "display_data"
    },
    {
     "name": "stdout",
     "output_type": "stream",
     "text": [
      "C: 19\n"
     ]
    },
    {
     "data": {
      "text/plain": [
       "array([ 2683.3 ,  1873.73,  2684.27,  2083.07,   998.65,   976.5 ,\n",
       "        1868.49,  1076.1 ,  1073.56,  3326.93,  2265.29,   644.52,\n",
       "         298.64,  3059.32,  1083.5 ,  1001.19,   322.13,  2543.24,   692.62])"
      ]
     },
     "metadata": {},
     "output_type": "display_data"
    },
    {
     "data": {
      "text/plain": [
       "array([ 1724.37014765,  1724.37013962,  1724.3701505 ,  1724.37014596,\n",
       "        1724.37013121,  1724.37012836,  1724.37014104,  1724.37012694,\n",
       "        1724.37012694,  1724.37015399,  1724.37014169,  1724.37012495,\n",
       "        1724.37012149,  1724.37015257,  1724.37012836,  1724.37012694,\n",
       "        1724.37012149,  1724.37014169,  1724.37012637])"
      ]
     },
     "metadata": {},
     "output_type": "display_data"
    },
    {
     "name": "stdout",
     "output_type": "stream",
     "text": [
      "D: 19\n"
     ]
    },
    {
     "data": {
      "text/plain": [
       "array([ 2478.78,   198.71,  1031.47,  2457.56,  1801.74,   216.12,\n",
       "        1925.99,  2125.54,  2239.73,   747.33,   810.75,   462.77,\n",
       "        2106.02,   218.82,  1634.05,  1802.26,  1332.56,  2142.12,   462.06])"
      ]
     },
     "metadata": {},
     "output_type": "display_data"
    },
    {
     "data": {
      "text/plain": [
       "array([ 1552.06439563,  1552.06437154,  1552.06438495,  1552.06439563,\n",
       "        1552.06438674,  1552.06437438,  1552.06439403,  1552.06438976,\n",
       "        1552.06439421,  1552.06438193,  1552.06438193,  1552.06437736,\n",
       "        1552.06439261,  1552.06437581,  1552.06438674,  1552.064391  ,\n",
       "        1552.06438656,  1552.06439118,  1552.06437451])"
      ]
     },
     "metadata": {},
     "output_type": "display_data"
    },
    {
     "name": "stdout",
     "output_type": "stream",
     "text": [
      "【【】】adding new model for datasetIPPD.pickle \n",
      "\n",
      "【【【】】】newScore: 1042.001891 \n",
      "____________________________________________________________________________________________________\n"
     ]
    }
   ],
   "source": [
    "t_SVRLinearCVModel = wrapper([ SVRLinearCVModel ])"
   ]
  },
  {
   "cell_type": "code",
   "execution_count": 11,
   "metadata": {
    "collapsed": false
   },
   "outputs": [
    {
     "name": "stdout",
     "output_type": "stream",
     "text": [
      "________________________________________________________________________________\n",
      "Model: SVR(C=3.1622776601683792e-08, cache_size=20480, coef0=0.0, degree=3,\n",
      "  epsilon=0.1, gamma='auto', kernel='linear', max_iter=-1, shrinking=False,\n",
      "  tol=1e-07, verbose=False)\n",
      "Train RMSE: 1042.001891 \n",
      "\n",
      "A...TestA RMSE   : 1443.044623\n",
      "A...y_test_A Mean: 115.430000 \n",
      "\n",
      "B...TestB RMSE   : 1151.932350\n",
      "B...y_test_B Mean: 2464.612105 \n",
      "\n",
      "C...TestC RMSE   : 929.606305\n",
      "C...y_test_C Mean: 1608.160526 \n",
      "\n",
      "D...TestD RMSE   : 817.308337\n",
      "D...y_test_D Mean: 1378.651579\n",
      "________________________________________________________________________________\n"
     ]
    }
   ],
   "source": [
    "t_print = t_SVRLinearCVModel\n",
    "\n",
    "for key in t_print.keys():\n",
    "    print(80*'_')\n",
    "    \n",
    "    print('Model: %s' % (str(t_print[key]['model'])[:200]))\n",
    "    print('Train RMSE: %f \\n' % (t_print[key]['train_rmse_cv_picking']))\n",
    "    \n",
    "    #print('Test RMSE   : %f' % (t_print[key]['test_rmse_reporting']))\n",
    "    #print('Overall Mean: %f \\n' % (t_print[key]['test_mean_y_comparing']))\n",
    "    \n",
    "    print('A...TestA RMSE   : %f' % (t_print[key]['test_rmse_reportingA']))\n",
    "    print('A...y_test_A Mean: %f \\n' % (t_print[key]['test_mean_y_comparingA']))\n",
    "    \n",
    "    print('B...TestB RMSE   : %f' % (t_print[key]['test_rmse_reportingB']))\n",
    "    print('B...y_test_B Mean: %f \\n' % (t_print[key]['test_mean_y_comparingB']))\n",
    "    \n",
    "    print('C...TestC RMSE   : %f' % (t_print[key]['test_rmse_reportingC']))\n",
    "    print('C...y_test_C Mean: %f \\n' % (t_print[key]['test_mean_y_comparingC']))\n",
    "    \n",
    "    print('D...TestD RMSE   : %f' % (t_print[key]['test_rmse_reportingD']))\n",
    "    print('D...y_test_D Mean: %f' % (t_print[key]['test_mean_y_comparingD']))\n",
    "    \n",
    "    print(80*'_')"
   ]
  },
  {
   "cell_type": "code",
   "execution_count": 12,
   "metadata": {
    "collapsed": false
   },
   "outputs": [
    {
     "name": "stdout",
     "output_type": "stream",
     "text": [
      "4C4_SVRLinearCVModel_tuned_ABCD.pickle\n"
     ]
    }
   ],
   "source": [
    "# write the model\n",
    "import pickle\n",
    "\n",
    "#||||||||||||||||||| \n",
    "t_ = t_SVRLinearCVModel\n",
    "prefix = '4C4_' + 'SVRLinearCVModel'\n",
    "#||||||||||||||||||| \n",
    "\n",
    "for k in t_.keys():\n",
    "    mo   = t_[k]['model']\n",
    "    fname = prefix + '_tuned_ABCD' + '.pickle'\n",
    "       \n",
    "    print(fname)\n",
    "    # write the model to a file\n",
    "    with open(fname, 'wb') as handle:\n",
    "        pickle.dump(mo, handle)"
   ]
  },
  {
   "cell_type": "markdown",
   "metadata": {},
   "source": [
    "# Which features were given most weights by each model ?"
   ]
  },
  {
   "cell_type": "code",
   "execution_count": null,
   "metadata": {
    "collapsed": true
   },
   "outputs": [],
   "source": []
  }
 ],
 "metadata": {
  "kernelspec": {
   "display_name": "Python 3",
   "language": "python",
   "name": "python3"
  },
  "language_info": {
   "codemirror_mode": {
    "name": "ipython",
    "version": 3
   },
   "file_extension": ".py",
   "mimetype": "text/x-python",
   "name": "python",
   "nbconvert_exporter": "python",
   "pygments_lexer": "ipython3",
   "version": "3.4.3"
  }
 },
 "nbformat": 4,
 "nbformat_minor": 2
}
