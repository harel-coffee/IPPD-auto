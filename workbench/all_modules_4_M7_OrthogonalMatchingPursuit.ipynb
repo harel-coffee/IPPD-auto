{
 "cells": [
  {
   "cell_type": "code",
   "execution_count": 20,
   "metadata": {
    "collapsed": false
   },
   "outputs": [
    {
     "name": "stdout",
     "output_type": "stream",
     "text": [
      "Dataset size read: train 256 and test 65 \n",
      "\n",
      "# Tuning hyper-parameters \n",
      "\n",
      "Starting grdsurch.fit(X_train, y_train)\n"
     ]
    },
    {
     "name": "stderr",
     "output_type": "stream",
     "text": [
      "/data/home/a1singh/anaconda3/lib/python3.6/site-packages/sklearn/linear_model/omp.py:665: RuntimeWarning:  Orthogonal matching pursuit ended prematurely due to linear\n",
      "dependence in the dictionary. The requested precision might not have been met.\n",
      "\n",
      "  return_n_iter=True)\n",
      "/data/home/a1singh/anaconda3/lib/python3.6/site-packages/sklearn/linear_model/omp.py:665: RuntimeWarning:  Orthogonal matching pursuit ended prematurely due to linear\n",
      "dependence in the dictionary. The requested precision might not have been met.\n",
      "\n",
      "  return_n_iter=True)\n",
      "/data/home/a1singh/anaconda3/lib/python3.6/site-packages/sklearn/linear_model/omp.py:665: RuntimeWarning:  Orthogonal matching pursuit ended prematurely due to linear\n",
      "dependence in the dictionary. The requested precision might not have been met.\n",
      "\n",
      "  return_n_iter=True)\n",
      "/data/home/a1singh/anaconda3/lib/python3.6/site-packages/sklearn/linear_model/omp.py:665: RuntimeWarning:  Orthogonal matching pursuit ended prematurely due to linear\n",
      "dependence in the dictionary. The requested precision might not have been met.\n",
      "\n",
      "  return_n_iter=True)\n",
      "/data/home/a1singh/anaconda3/lib/python3.6/site-packages/sklearn/linear_model/omp.py:665: RuntimeWarning:  Orthogonal matching pursuit ended prematurely due to linear\n",
      "dependence in the dictionary. The requested precision might not have been met.\n",
      "\n",
      "  return_n_iter=True)\n",
      "/data/home/a1singh/anaconda3/lib/python3.6/site-packages/sklearn/linear_model/omp.py:665: RuntimeWarning:  Orthogonal matching pursuit ended prematurely due to linear\n",
      "dependence in the dictionary. The requested precision might not have been met.\n",
      "\n",
      "  return_n_iter=True)\n",
      "/data/home/a1singh/anaconda3/lib/python3.6/site-packages/sklearn/linear_model/omp.py:665: RuntimeWarning:  Orthogonal matching pursuit ended prematurely due to linear\n",
      "dependence in the dictionary. The requested precision might not have been met.\n",
      "\n",
      "  return_n_iter=True)\n",
      "/data/home/a1singh/anaconda3/lib/python3.6/site-packages/sklearn/linear_model/omp.py:665: RuntimeWarning:  Orthogonal matching pursuit ended prematurely due to linear\n",
      "dependence in the dictionary. The requested precision might not have been met.\n",
      "\n",
      "  return_n_iter=True)\n",
      "/data/home/a1singh/anaconda3/lib/python3.6/site-packages/sklearn/linear_model/omp.py:665: RuntimeWarning:  Orthogonal matching pursuit ended prematurely due to linear\n",
      "dependence in the dictionary. The requested precision might not have been met.\n",
      "\n",
      "  return_n_iter=True)\n"
     ]
    },
    {
     "name": "stdout",
     "output_type": "stream",
     "text": [
      "\n",
      "Best parameters set found on development set:\n",
      "\n",
      "{'tol': 1e-11}\n",
      "OrthogonalMatchingPursuit(fit_intercept=True, n_nonzero_coefs=None,\n",
      "             normalize=False, precompute='auto', tol=1e-11)\n",
      "\n",
      "CPU times: user 101 ms, sys: 104 ms, total: 205 ms\n",
      "Wall time: 482 ms\n"
     ]
    },
    {
     "name": "stderr",
     "output_type": "stream",
     "text": [
      "/data/home/a1singh/anaconda3/lib/python3.6/site-packages/sklearn/linear_model/omp.py:665: RuntimeWarning:  Orthogonal matching pursuit ended prematurely due to linear\n",
      "dependence in the dictionary. The requested precision might not have been met.\n",
      "\n",
      "  return_n_iter=True)\n"
     ]
    },
    {
     "data": {
      "text/plain": [
       "{'datasetIPPD.pickle': {'model': OrthogonalMatchingPursuit(fit_intercept=True, n_nonzero_coefs=None,\n",
       "               normalize=False, precompute='auto', tol=1e-11),\n",
       "  'test_mean_y_4_comparing': 1532.3461538461536,\n",
       "  'test_rmse_4_reporting': 870.22792511774355,\n",
       "  'train_rmse_cv_4_picking': 1014.1833676330756}}"
      ]
     },
     "execution_count": 20,
     "metadata": {},
     "output_type": "execute_result"
    }
   ],
   "source": [
    "%time OMPCVModel('datasetIPPD.pickle')"
   ]
  },
  {
   "cell_type": "markdown",
   "metadata": {},
   "source": [
    "# Test"
   ]
  },
  {
   "cell_type": "code",
   "execution_count": 1,
   "metadata": {
    "collapsed": true
   },
   "outputs": [],
   "source": [
    "from sklearn.metrics import mean_squared_error \n",
    "import numpy as np\n",
    "def rmse_scorer(model, X, y): \n",
    "    y_predict = model.predict(X)\n",
    "    k = np.sqrt(mean_squared_error(y, y_predict))\n",
    "    return k"
   ]
  },
  {
   "cell_type": "code",
   "execution_count": 19,
   "metadata": {
    "collapsed": true
   },
   "outputs": [],
   "source": [
    "def OMPCVModel(filename):\n",
    "    #open file and get the dictionary\n",
    "    import pickle\n",
    "    from sklearn.linear_model import OrthogonalMatchingPursuit\n",
    "    from sklearn.metrics import mean_squared_error\n",
    "    from sklearn import preprocessing\n",
    "    from sklearn.model_selection import GridSearchCV\n",
    "\n",
    "    with open(filename, 'rb') as handle:\n",
    "        data = pickle.load(handle)\n",
    "\n",
    "    #extract X_train, y_train, X_test, t_test\n",
    "    X_train = data['X_train']\n",
    "    y_train = data['y_train']\n",
    "    X_test = data['X_test']\n",
    "    y_test = data['y_test']\n",
    "    print(\"Dataset size read: train %d and test %d \\n\" %(len(y_train), len(y_test)))\n",
    "    \n",
    "    #Normalize\n",
    "    X_train = preprocessing.normalize(X_train, norm='l1')\n",
    "    X_test  = preprocessing.normalize(X_test,  norm='l1')\n",
    "    \n",
    "    #‘linear’, ‘poly’, ‘rbf’, ‘sigmoid’, ‘precomputed’ \n",
    "    ##############################################################\n",
    "    tuned_parameters = []\n",
    "    tuned_parameters.append({'tol' : [1e-11, 1e-9, 1e-7]\n",
    "                            \n",
    "                            })\n",
    "    \n",
    "    ##############################################################\n",
    "    \n",
    "    print(\"# Tuning hyper-parameters \")\n",
    "    print()\n",
    "\n",
    "    grdsurch = GridSearchCV(OrthogonalMatchingPursuit(n_nonzero_coefs=None, \n",
    "                                                      tol=1e-7, fit_intercept=True, \n",
    "                                                      normalize=False, precompute='auto'), \n",
    "                       tuned_parameters, \n",
    "                       cv=3, \n",
    "                       n_jobs=-1, \n",
    "                       scoring=rmse_scorer)\n",
    "    \n",
    "    print('Starting grdsurch.fit(X_train, y_train)')\n",
    "    \n",
    "    grdsurch.fit(X_train, y_train)\n",
    "\n",
    "    print(\"\\nBest parameters set found on development set:\")\n",
    "    print()\n",
    "    print(grdsurch.best_params_)\n",
    "    \n",
    "    print(grdsurch.best_estimator_)\n",
    "    print()\n",
    "    rmse_cv = grdsurch.best_score_\n",
    "\n",
    "    #Reporting Score on Test Set\n",
    "    model               = grdsurch.best_estimator_\n",
    "    reporting_testscore = rmse_scorer(model, X_test, y_test)\n",
    "    \n",
    "    return {filename: {'train_rmse_cv_4_picking': rmse_cv, \n",
    "                       'test_rmse_4_reporting': reporting_testscore, \n",
    "                       'test_mean_y_4_comparing': y_test.mean(),\n",
    "                       'model': model\n",
    "                      }}"
   ]
  },
  {
   "cell_type": "code",
   "execution_count": null,
   "metadata": {
    "collapsed": true
   },
   "outputs": [],
   "source": []
  },
  {
   "cell_type": "code",
   "execution_count": 13,
   "metadata": {
    "collapsed": false
   },
   "outputs": [
    {
     "name": "stdout",
     "output_type": "stream",
     "text": [
      "Dataset size read: train 256 and test 65 \n",
      "\n",
      "# Tuning hyper-parameters \n",
      "\n",
      "Starting grdsurch.fit(X_train, y_train)\n",
      "\n",
      "Best parameters set found on development set:\n",
      "\n",
      "{'C': 0.2, 'epsilon': 8858.6679041007956, 'kernel': 'linear'}\n",
      "SVR(C=0.2, cache_size=200, coef0=0.0, degree=3, epsilon=8858.6679041007956,\n",
      "  gamma='auto', kernel='linear', max_iter=-1, shrinking=True, tol=0.001,\n",
      "  verbose=False)\n",
      "\n"
     ]
    },
    {
     "data": {
      "text/plain": [
       "{'datasetIPPD.pickle': {'model': SVR(C=0.2, cache_size=200, coef0=0.0, degree=3, epsilon=8858.6679041007956,\n",
       "    gamma='auto', kernel='linear', max_iter=-1, shrinking=True, tol=0.001,\n",
       "    verbose=False),\n",
       "  'test_mean_y_4_comparing': 1532.3461538461536,\n",
       "  'test_rmse_4_reporting': 1059.8422915291908,\n",
       "  'train_rmse_cv_4_picking': 1080.4666523912701}}"
      ]
     },
     "execution_count": 13,
     "metadata": {},
     "output_type": "execute_result"
    }
   ],
   "source": [
    "SVRCVModel('datasetIPPD.pickle')"
   ]
  },
  {
   "cell_type": "code",
   "execution_count": null,
   "metadata": {
    "collapsed": true
   },
   "outputs": [],
   "source": []
  }
 ],
 "metadata": {
  "anaconda-cloud": {},
  "kernelspec": {
   "display_name": "Python 3",
   "language": "python",
   "name": "python3"
  },
  "language_info": {
   "codemirror_mode": {
    "name": "ipython",
    "version": 3
   },
   "file_extension": ".py",
   "mimetype": "text/x-python",
   "name": "python",
   "nbconvert_exporter": "python",
   "pygments_lexer": "ipython3",
   "version": "3.6.0"
  }
 },
 "nbformat": 4,
 "nbformat_minor": 0
}
