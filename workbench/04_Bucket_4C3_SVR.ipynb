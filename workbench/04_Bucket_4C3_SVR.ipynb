{
 "cells": [
  {
   "cell_type": "code",
   "execution_count": 1,
   "metadata": {
    "collapsed": false
   },
   "outputs": [
    {
     "name": "stdout",
     "output_type": "stream",
     "text": [
      "\n"
     ]
    }
   ],
   "source": [
    "# import all the filenames\n",
    "from allfunctions import *"
   ]
  },
  {
   "cell_type": "code",
   "execution_count": 2,
   "metadata": {
    "collapsed": false
   },
   "outputs": [],
   "source": [
    "%load_ext autoreload\n",
    "%autoreload 2"
   ]
  },
  {
   "cell_type": "markdown",
   "metadata": {},
   "source": [
    "7  def SVRSigmoidCVModel(filename):\n",
    " \n",
    "8 def SVRRbfCVModel(filename):"
   ]
  },
  {
   "cell_type": "code",
   "execution_count": 3,
   "metadata": {
    "collapsed": false
   },
   "outputs": [],
   "source": [
    "def wrapper(functionList = []):\n",
    "    if __name__ == '__main__':\n",
    "        global model_selection\n",
    "        global filenames\n",
    "        \n",
    "        filenames = ['ABC.pickle', 'BCD.pickle', 'CDA.pickle', 'DAB.pickle' ]\n",
    "        \n",
    "        model_selection = {}\n",
    "        \n",
    "        for f in functionList:\n",
    "            print()\n",
    "            for filename in filenames:\n",
    "                print('function = %s, filename = %s' % (f,filename))\n",
    "                out = f(filename)\n",
    "                newScore = out[filename]['train_rmse_cv_picking']\n",
    "\n",
    "                if filename in model_selection:\n",
    "                    #compare scores and select more accurate model\n",
    "                    oldScore = model_selection[filename]['train_rmse_cv_picking']\n",
    "                    if(newScore < oldScore):\n",
    "                        print(\"【【【】】】switching models for %s...\" % filename)\n",
    "                        print(\"【【【】】】newScore: %f < oldScore: %f\" % (newScore, oldScore))\n",
    "                        print(\"【【【】】】newModel: %s \\n\" % f)\n",
    "                        print(100*'_')\n",
    "                        model_selection[filename] = out[filename]\n",
    "                else:\n",
    "                    #no score to compare\n",
    "                    print(\"【【】】adding new model for %s \\n\" % filename)\n",
    "                    print(100*'_')\n",
    "                    model_selection[filename] = out[filename]\n",
    "    return model_selection"
   ]
  },
  {
   "cell_type": "markdown",
   "metadata": {},
   "source": [
    "# Sigmoid Kernel"
   ]
  },
  {
   "cell_type": "code",
   "execution_count": null,
   "metadata": {
    "collapsed": false
   },
   "outputs": [],
   "source": [
    "t_SVRSigmoidCVModel = wrapper([ SVRSigmoidCVModel ])"
   ]
  },
  {
   "cell_type": "code",
   "execution_count": null,
   "metadata": {
    "collapsed": false,
    "scrolled": true
   },
   "outputs": [],
   "source": [
    "t_print = t_SVRSigmoidCVModel\n",
    "\n",
    "for key in t_print.keys():\n",
    "    print(80*'_')\n",
    "    print(key)    \n",
    "\n",
    "    print('Model: %s' % (str(t_print[key]['model'])[:20]))\n",
    "    print('Train RMSE: %f \\n' % (t_print[key]['train_rmse_cv_picking']))\n",
    "\n",
    "    #print('Test RMSE   : %f' % (t_print[key]['test_rmse_reporting']))\n",
    "    #print('Overall Mean: %f \\n' % (t_print[key]['test_mean_y_comparing']))\n",
    "\n",
    "    if(not t_print[key]['test_rmse_reportingA']==None):\n",
    "        print('A...TestA RMSE   : %f' % float(t_print[key]['test_rmse_reportingA'] or -1))\n",
    "        print('A...<<y_test_A Mean>>: %f \\n' % float(t_print[key]['test_mean_y_comparingA'] or -1))\n",
    "\n",
    "    if(not t_print[key]['test_rmse_reportingB']==None):\n",
    "        print('B...TestB RMSE   : %f' % float(t_print[key]['test_rmse_reportingB'] or -1))\n",
    "        print('B...<<y_test_B Mean>>: %f \\n' % float(t_print[key]['test_mean_y_comparingB'] or -1))\n",
    "\n",
    "    if(not t_print[key]['test_rmse_reportingC']==None):\n",
    "        print('C...TestC RMSE   : %f' % float(t_print[key]['test_rmse_reportingC'] or -1))\n",
    "        print('C...<<y_test_C Mean>>: %f \\n' % float(t_print[key]['test_mean_y_comparingC'] or -1))\n",
    "\n",
    "    if(not t_print[key]['test_rmse_reportingD']==None):\n",
    "        print('D...TestD RMSE   : %f' % float(t_print[key]['test_rmse_reportingD'] or -1))\n",
    "        print('D...<<y_test_D Mean>>: %f' % float(t_print[key]['test_mean_y_comparingD'] or -1))\n",
    "\n",
    "    print(80*'_')"
   ]
  },
  {
   "cell_type": "code",
   "execution_count": null,
   "metadata": {
    "collapsed": false
   },
   "outputs": [],
   "source": [
    "# write the model\n",
    "import pickle\n",
    "\n",
    "#||||||||||||||||||| \n",
    "t_ = t_SVRSigmoidCVModel\n",
    "prefix = '4C3_' + 'SVRSigmoidCVModel'\n",
    "#||||||||||||||||||| \n",
    "\n",
    "for k in t_.keys():\n",
    "    mo   = t_[k]['model']\n",
    "    fname = prefix + '_tuned_' + str(k[:3]) + '.pickle'\n",
    "    \n",
    "    print()\n",
    "    print(k, str(mo)[:30])\n",
    "    \n",
    "    print(fname)\n",
    "    # write the model to a file\n",
    "    with open(fname, 'wb') as handle:\n",
    "        pickle.dump(mo, handle)"
   ]
  },
  {
   "cell_type": "markdown",
   "metadata": {},
   "source": [
    "# RBF Kernel"
   ]
  },
  {
   "cell_type": "code",
   "execution_count": null,
   "metadata": {
    "collapsed": false
   },
   "outputs": [
    {
     "name": "stdout",
     "output_type": "stream",
     "text": [
      "\n",
      "function = <function SVRRbfCVModel at 0x7f3ae0a95488>, filename = ABC.pickle\n",
      "\n",
      "{{ scale_this: >>>>>>>>>>>>>>>>>>>>>>>>>>>>>>>>>>>>>>>>> Scaling X_train and X_test... }}\n",
      "\n",
      "Dataset size read: train 224 and test 97 \n",
      "\n",
      "# Tuning hyper-parameters \n",
      "\n",
      "Starting grdsurch.fit(X_train, y_train)\n"
     ]
    }
   ],
   "source": [
    "t_SVRRbfCVModel = wrapper([ SVRRbfCVModel ])"
   ]
  },
  {
   "cell_type": "code",
   "execution_count": null,
   "metadata": {
    "collapsed": false,
    "scrolled": true
   },
   "outputs": [],
   "source": [
    "t_print = t_SVRRbfCVModel\n",
    "\n",
    "for key in t_print.keys():\n",
    "    print(80*'_')\n",
    "    print(key)    \n",
    "\n",
    "    print('Model: %s' % (str(t_print[key]['model'])[:20]))\n",
    "    print('Train RMSE: %f \\n' % (t_print[key]['train_rmse_cv_picking']))\n",
    "\n",
    "    #print('Test RMSE   : %f' % (t_print[key]['test_rmse_reporting']))\n",
    "    #print('Overall Mean: %f \\n' % (t_print[key]['test_mean_y_comparing']))\n",
    "\n",
    "    if(not t_print[key]['test_rmse_reportingA']==None):\n",
    "        print('A...TestA RMSE   : %f' % float(t_print[key]['test_rmse_reportingA'] or -1))\n",
    "        print('A...<<y_test_A Mean>>: %f \\n' % float(t_print[key]['test_mean_y_comparingA'] or -1))\n",
    "\n",
    "    if(not t_print[key]['test_rmse_reportingB']==None):\n",
    "        print('B...TestB RMSE   : %f' % float(t_print[key]['test_rmse_reportingB'] or -1))\n",
    "        print('B...<<y_test_B Mean>>: %f \\n' % float(t_print[key]['test_mean_y_comparingB'] or -1))\n",
    "\n",
    "    if(not t_print[key]['test_rmse_reportingC']==None):\n",
    "        print('C...TestC RMSE   : %f' % float(t_print[key]['test_rmse_reportingC'] or -1))\n",
    "        print('C...<<y_test_C Mean>>: %f \\n' % float(t_print[key]['test_mean_y_comparingC'] or -1))\n",
    "\n",
    "    if(not t_print[key]['test_rmse_reportingD']==None):\n",
    "        print('D...TestD RMSE   : %f' % float(t_print[key]['test_rmse_reportingD'] or -1))\n",
    "        print('D...<<y_test_D Mean>>: %f' % float(t_print[key]['test_mean_y_comparingD'] or -1))\n",
    "\n",
    "    print(80*'_')"
   ]
  },
  {
   "cell_type": "code",
   "execution_count": null,
   "metadata": {
    "collapsed": false
   },
   "outputs": [],
   "source": [
    "# write the model\n",
    "import pickle\n",
    "\n",
    "#||||||||||||||||||| \n",
    "t_ = t_SVRRbfCVModel\n",
    "prefix = '4C3_' + 'SVRRbfCVModel'\n",
    "#||||||||||||||||||| \n",
    "\n",
    "for k in t_.keys():\n",
    "    mo   = t_[k]['model']\n",
    "    fname = prefix + '_tuned_' + str(k[:3]) + '.pickle'\n",
    "    \n",
    "    print()\n",
    "    print(k, str(mo)[:30])\n",
    "    \n",
    "    print(fname)\n",
    "    # write the model to a file\n",
    "    with open(fname, 'wb') as handle:\n",
    "        pickle.dump(mo, handle)"
   ]
  },
  {
   "cell_type": "markdown",
   "metadata": {},
   "source": [
    "# Which features were given most weights by each model ?"
   ]
  },
  {
   "cell_type": "code",
   "execution_count": null,
   "metadata": {
    "collapsed": true
   },
   "outputs": [],
   "source": []
  }
 ],
 "metadata": {
  "kernelspec": {
   "display_name": "Python 3",
   "language": "python",
   "name": "python3"
  },
  "language_info": {
   "codemirror_mode": {
    "name": "ipython",
    "version": 3
   },
   "file_extension": ".py",
   "mimetype": "text/x-python",
   "name": "python",
   "nbconvert_exporter": "python",
   "pygments_lexer": "ipython3",
   "version": "3.4.3"
  }
 },
 "nbformat": 4,
 "nbformat_minor": 2
}
