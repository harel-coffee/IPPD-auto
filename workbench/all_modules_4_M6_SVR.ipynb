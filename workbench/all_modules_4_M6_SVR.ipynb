{
 "cells": [
  {
   "cell_type": "markdown",
   "metadata": {},
   "source": [
    "# M6. Epsilon-Support Vector Regression ('rbf' and 'linear')"
   ]
  },
  {
   "cell_type": "markdown",
   "metadata": {},
   "source": [
    "### Grid Search with Cross Validation"
   ]
  },
  {
   "cell_type": "code",
   "execution_count": 1,
   "metadata": {
    "collapsed": true
   },
   "outputs": [],
   "source": [
    "# Read Back \n",
    "import pickle\n",
    "\n",
    "with open('datasetIPPD.pickle', 'rb') as handle:\n",
    "    data = pickle.load(handle)"
   ]
  },
  {
   "cell_type": "code",
   "execution_count": 2,
   "metadata": {
    "collapsed": false
   },
   "outputs": [
    {
     "data": {
      "text/plain": [
       "dict_keys(['X_train', 'y_train', 'X_test', 'y_test'])"
      ]
     },
     "execution_count": 2,
     "metadata": {},
     "output_type": "execute_result"
    }
   ],
   "source": [
    "data.keys()"
   ]
  },
  {
   "cell_type": "code",
   "execution_count": 3,
   "metadata": {
    "collapsed": false
   },
   "outputs": [
    {
     "data": {
      "text/plain": [
       "(256, 65)"
      ]
     },
     "execution_count": 3,
     "metadata": {},
     "output_type": "execute_result"
    }
   ],
   "source": [
    "X_train = data['X_train']\n",
    "y_train = data['y_train']\n",
    "\n",
    "X_test = data['X_test']\n",
    "y_test = data['y_test']\n",
    "\n",
    "len(y_train), len(y_test)"
   ]
  },
  {
   "cell_type": "code",
   "execution_count": 4,
   "metadata": {
    "collapsed": false
   },
   "outputs": [
    {
     "name": "stdout",
     "output_type": "stream",
     "text": [
      "Automatically created module for IPython interactive environment\n"
     ]
    }
   ],
   "source": [
    "from __future__ import print_function\n",
    "\n",
    "from sklearn import datasets\n",
    "from sklearn.model_selection import train_test_split\n",
    "from sklearn.model_selection import GridSearchCV\n",
    "from sklearn.metrics import classification_report\n",
    "from sklearn.svm import SVR\n",
    "\n",
    "print(__doc__)"
   ]
  },
  {
   "cell_type": "code",
   "execution_count": 5,
   "metadata": {
    "collapsed": true
   },
   "outputs": [],
   "source": [
    "def rmse_scorer(model, X, y):\n",
    "    from sklearn.metrics import mean_squared_error    \n",
    "    y_predict = model.predict(X)\n",
    "    return mean_squared_error(y, y_predict)"
   ]
  },
  {
   "cell_type": "code",
   "execution_count": null,
   "metadata": {
    "collapsed": false
   },
   "outputs": [
    {
     "name": "stdout",
     "output_type": "stream",
     "text": [
      "# Tuning hyper-parameters for rmse\n",
      "\n",
      "Starting clf.fit(X_train, y_train)\n"
     ]
    }
   ],
   "source": [
    "# Set the parameters by cross-validation\n",
    "\n",
    "# sklearn.svm.SVR: The free parameters in the model are C and epsilon.\n",
    "\n",
    "tuned_parameters = []\n",
    "tuned_parameters.append({'kernel': ['rbf'], 'gamma': [1e-3, 1e-4,1e-2,1e-1], \n",
    "                         'C': [1.0/4, 1.0/2, 1, 10, 100, 1000], \n",
    "                         'epsilon':[0.1] })\n",
    "\n",
    "tuned_parameters.append( {'kernel': ['linear'], 'C': [1, 10, 100, 1000], \n",
    "                          'epsilon':[0.1] })\n",
    "\n",
    "scores = ['rmse'] #, 'recall']\n",
    "\n",
    "for score in scores:\n",
    "    print(\"# Tuning hyper-parameters for %s\" % score)\n",
    "    print()\n",
    "\n",
    "    clf = GridSearchCV(SVR(C=1, epsilon=0.001), tuned_parameters, cv=5, n_jobs=-1, \n",
    "                      scoring=rmse_scorer)\n",
    "    print('Starting clf.fit(X_train, y_train)')\n",
    "    \n",
    "    clf.fit(X_train, y_train)\n",
    "\n",
    "    print(\"\\nBest parameters set found on development set:\")\n",
    "    print()\n",
    "    print(clf.best_params_)\n",
    "    print()\n",
    "    print(\"Grid scores on development set:\")\n",
    "    print()\n",
    "    \n",
    "    means = clf.cv_results_['mean_test_score']\n",
    "    stds  = clf.cv_results_['std_test_score']"
   ]
  },
  {
   "cell_type": "code",
   "execution_count": null,
   "metadata": {
    "collapsed": false
   },
   "outputs": [],
   "source": [
    "print(clf.best_estimator_)\n",
    "print()\n",
    "print(clf.best_score_)"
   ]
  },
  {
   "cell_type": "code",
   "execution_count": 17,
   "metadata": {
    "collapsed": false,
    "scrolled": false
   },
   "outputs": [
    {
     "name": "stdout",
     "output_type": "stream",
     "text": [
      "Paramters: {'C': 0.25, 'epsilon': 0.1, 'gamma': 0.001, 'kernel': 'rbf'} \t:mean+/-std: -0.074 (+/-0.116)\n",
      "Paramters: {'C': 0.25, 'epsilon': 0.1, 'gamma': 0.0001, 'kernel': 'rbf'} \t:mean+/-std: -0.074 (+/-0.116)\n",
      "Paramters: {'C': 0.25, 'epsilon': 0.1, 'gamma': 0.01, 'kernel': 'rbf'} \t:mean+/-std: -0.074 (+/-0.117)\n",
      "Paramters: {'C': 0.25, 'epsilon': 0.1, 'gamma': 0.1, 'kernel': 'rbf'} \t:mean+/-std: -0.077 (+/-0.118)\n",
      "Paramters: {'C': 0.25, 'epsilon': 0.1, 'gamma': 1, 'kernel': 'rbf'} \t:mean+/-std: -0.080 (+/-0.119)\n",
      "Paramters: {'C': 0.25, 'epsilon': 0.1, 'gamma': 10, 'kernel': 'rbf'} \t:mean+/-std: -0.080 (+/-0.120)\n",
      "Paramters: {'C': 0.25, 'epsilon': 0.01, 'gamma': 0.001, 'kernel': 'rbf'} \t:mean+/-std: -0.074 (+/-0.116)\n",
      "Paramters: {'C': 0.25, 'epsilon': 0.01, 'gamma': 0.0001, 'kernel': 'rbf'} \t:mean+/-std: -0.074 (+/-0.116)\n",
      "Paramters: {'C': 0.25, 'epsilon': 0.01, 'gamma': 0.01, 'kernel': 'rbf'} \t:mean+/-std: -0.074 (+/-0.117)\n",
      "Paramters: {'C': 0.25, 'epsilon': 0.01, 'gamma': 0.1, 'kernel': 'rbf'} \t:mean+/-std: -0.077 (+/-0.118)\n",
      "Paramters: {'C': 0.25, 'epsilon': 0.01, 'gamma': 1, 'kernel': 'rbf'} \t:mean+/-std: -0.080 (+/-0.119)\n",
      "Paramters: {'C': 0.25, 'epsilon': 0.01, 'gamma': 10, 'kernel': 'rbf'} \t:mean+/-std: -0.080 (+/-0.120)\n",
      "Paramters: {'C': 0.25, 'epsilon': 0.001, 'gamma': 0.001, 'kernel': 'rbf'} \t:mean+/-std: -0.074 (+/-0.116)\n",
      "Paramters: {'C': 0.25, 'epsilon': 0.001, 'gamma': 0.0001, 'kernel': 'rbf'} \t:mean+/-std: -0.074 (+/-0.116)\n",
      "Paramters: {'C': 0.25, 'epsilon': 0.001, 'gamma': 0.01, 'kernel': 'rbf'} \t:mean+/-std: -0.074 (+/-0.117)\n",
      "Paramters: {'C': 0.25, 'epsilon': 0.001, 'gamma': 0.1, 'kernel': 'rbf'} \t:mean+/-std: -0.077 (+/-0.118)\n",
      "Paramters: {'C': 0.25, 'epsilon': 0.001, 'gamma': 1, 'kernel': 'rbf'} \t:mean+/-std: -0.080 (+/-0.119)\n",
      "Paramters: {'C': 0.25, 'epsilon': 0.001, 'gamma': 10, 'kernel': 'rbf'} \t:mean+/-std: -0.080 (+/-0.120)\n",
      "Paramters: {'C': 0.5, 'epsilon': 0.1, 'gamma': 0.001, 'kernel': 'rbf'} \t:mean+/-std: -0.065 (+/-0.110)\n",
      "Paramters: {'C': 0.5, 'epsilon': 0.1, 'gamma': 0.0001, 'kernel': 'rbf'} \t:mean+/-std: -0.065 (+/-0.110)\n",
      "Paramters: {'C': 0.5, 'epsilon': 0.1, 'gamma': 0.01, 'kernel': 'rbf'} \t:mean+/-std: -0.066 (+/-0.112)\n",
      "Paramters: {'C': 0.5, 'epsilon': 0.1, 'gamma': 0.1, 'kernel': 'rbf'} \t:mean+/-std: -0.073 (+/-0.116)\n",
      "Paramters: {'C': 0.5, 'epsilon': 0.1, 'gamma': 1, 'kernel': 'rbf'} \t:mean+/-std: -0.078 (+/-0.119)\n",
      "Paramters: {'C': 0.5, 'epsilon': 0.1, 'gamma': 10, 'kernel': 'rbf'} \t:mean+/-std: -0.078 (+/-0.119)\n",
      "Paramters: {'C': 0.5, 'epsilon': 0.01, 'gamma': 0.001, 'kernel': 'rbf'} \t:mean+/-std: -0.065 (+/-0.110)\n",
      "Paramters: {'C': 0.5, 'epsilon': 0.01, 'gamma': 0.0001, 'kernel': 'rbf'} \t:mean+/-std: -0.065 (+/-0.110)\n",
      "Paramters: {'C': 0.5, 'epsilon': 0.01, 'gamma': 0.01, 'kernel': 'rbf'} \t:mean+/-std: -0.066 (+/-0.111)\n",
      "Paramters: {'C': 0.5, 'epsilon': 0.01, 'gamma': 0.1, 'kernel': 'rbf'} \t:mean+/-std: -0.073 (+/-0.116)\n",
      "Paramters: {'C': 0.5, 'epsilon': 0.01, 'gamma': 1, 'kernel': 'rbf'} \t:mean+/-std: -0.078 (+/-0.119)\n",
      "Paramters: {'C': 0.5, 'epsilon': 0.01, 'gamma': 10, 'kernel': 'rbf'} \t:mean+/-std: -0.078 (+/-0.119)\n",
      "Paramters: {'C': 0.5, 'epsilon': 0.001, 'gamma': 0.001, 'kernel': 'rbf'} \t:mean+/-std: -0.065 (+/-0.110)\n",
      "Paramters: {'C': 0.5, 'epsilon': 0.001, 'gamma': 0.0001, 'kernel': 'rbf'} \t:mean+/-std: -0.065 (+/-0.110)\n",
      "Paramters: {'C': 0.5, 'epsilon': 0.001, 'gamma': 0.01, 'kernel': 'rbf'} \t:mean+/-std: -0.066 (+/-0.111)\n",
      "Paramters: {'C': 0.5, 'epsilon': 0.001, 'gamma': 0.1, 'kernel': 'rbf'} \t:mean+/-std: -0.073 (+/-0.116)\n",
      "Paramters: {'C': 0.5, 'epsilon': 0.001, 'gamma': 1, 'kernel': 'rbf'} \t:mean+/-std: -0.078 (+/-0.119)\n",
      "Paramters: {'C': 0.5, 'epsilon': 0.001, 'gamma': 10, 'kernel': 'rbf'} \t:mean+/-std: -0.078 (+/-0.119)\n",
      "Paramters: {'C': 1, 'epsilon': 0.1, 'gamma': 0.001, 'kernel': 'rbf'} \t:mean+/-std: -0.047 (+/-0.100)\n",
      "Paramters: {'C': 1, 'epsilon': 0.1, 'gamma': 0.0001, 'kernel': 'rbf'} \t:mean+/-std: -0.047 (+/-0.100)\n",
      "Paramters: {'C': 1, 'epsilon': 0.1, 'gamma': 0.01, 'kernel': 'rbf'} \t:mean+/-std: -0.049 (+/-0.103)\n",
      "Paramters: {'C': 1, 'epsilon': 0.1, 'gamma': 0.1, 'kernel': 'rbf'} \t:mean+/-std: -0.063 (+/-0.111)\n",
      "Paramters: {'C': 1, 'epsilon': 0.1, 'gamma': 1, 'kernel': 'rbf'} \t:mean+/-std: -0.074 (+/-0.117)\n",
      "Paramters: {'C': 1, 'epsilon': 0.1, 'gamma': 10, 'kernel': 'rbf'} \t:mean+/-std: -0.075 (+/-0.118)\n",
      "Paramters: {'C': 1, 'epsilon': 0.01, 'gamma': 0.001, 'kernel': 'rbf'} \t:mean+/-std: -0.047 (+/-0.100)\n",
      "Paramters: {'C': 1, 'epsilon': 0.01, 'gamma': 0.0001, 'kernel': 'rbf'} \t:mean+/-std: -0.047 (+/-0.100)\n",
      "Paramters: {'C': 1, 'epsilon': 0.01, 'gamma': 0.01, 'kernel': 'rbf'} \t:mean+/-std: -0.049 (+/-0.103)\n",
      "Paramters: {'C': 1, 'epsilon': 0.01, 'gamma': 0.1, 'kernel': 'rbf'} \t:mean+/-std: -0.063 (+/-0.111)\n",
      "Paramters: {'C': 1, 'epsilon': 0.01, 'gamma': 1, 'kernel': 'rbf'} \t:mean+/-std: -0.074 (+/-0.117)\n",
      "Paramters: {'C': 1, 'epsilon': 0.01, 'gamma': 10, 'kernel': 'rbf'} \t:mean+/-std: -0.075 (+/-0.118)\n",
      "Paramters: {'C': 1, 'epsilon': 0.001, 'gamma': 0.001, 'kernel': 'rbf'} \t:mean+/-std: -0.047 (+/-0.100)\n",
      "Paramters: {'C': 1, 'epsilon': 0.001, 'gamma': 0.0001, 'kernel': 'rbf'} \t:mean+/-std: -0.047 (+/-0.100)\n",
      "Paramters: {'C': 1, 'epsilon': 0.001, 'gamma': 0.01, 'kernel': 'rbf'} \t:mean+/-std: -0.049 (+/-0.103)\n",
      "Paramters: {'C': 1, 'epsilon': 0.001, 'gamma': 0.1, 'kernel': 'rbf'} \t:mean+/-std: -0.063 (+/-0.111)\n",
      "Paramters: {'C': 1, 'epsilon': 0.001, 'gamma': 1, 'kernel': 'rbf'} \t:mean+/-std: -0.074 (+/-0.117)\n",
      "Paramters: {'C': 1, 'epsilon': 0.001, 'gamma': 10, 'kernel': 'rbf'} \t:mean+/-std: -0.075 (+/-0.118)\n",
      "Paramters: {'C': 10, 'epsilon': 0.1, 'gamma': 0.001, 'kernel': 'rbf'} \t:mean+/-std: 0.127 (+/-0.121)\n",
      "Paramters: {'C': 10, 'epsilon': 0.1, 'gamma': 0.0001, 'kernel': 'rbf'} \t:mean+/-std: 0.126 (+/-0.120)\n",
      "Paramters: {'C': 10, 'epsilon': 0.1, 'gamma': 0.01, 'kernel': 'rbf'} \t:mean+/-std: 0.135 (+/-0.102)\n",
      "Paramters: {'C': 10, 'epsilon': 0.1, 'gamma': 0.1, 'kernel': 'rbf'} \t:mean+/-std: 0.067 (+/-0.092)\n",
      "Paramters: {'C': 10, 'epsilon': 0.1, 'gamma': 1, 'kernel': 'rbf'} \t:mean+/-std: -0.005 (+/-0.090)\n",
      "Paramters: {'C': 10, 'epsilon': 0.1, 'gamma': 10, 'kernel': 'rbf'} \t:mean+/-std: -0.016 (+/-0.092)\n",
      "Paramters: {'C': 10, 'epsilon': 0.01, 'gamma': 0.001, 'kernel': 'rbf'} \t:mean+/-std: 0.127 (+/-0.121)\n",
      "Paramters: {'C': 10, 'epsilon': 0.01, 'gamma': 0.0001, 'kernel': 'rbf'} \t:mean+/-std: 0.126 (+/-0.120)\n",
      "Paramters: {'C': 10, 'epsilon': 0.01, 'gamma': 0.01, 'kernel': 'rbf'} \t:mean+/-std: 0.135 (+/-0.102)\n",
      "Paramters: {'C': 10, 'epsilon': 0.01, 'gamma': 0.1, 'kernel': 'rbf'} \t:mean+/-std: 0.067 (+/-0.092)\n",
      "Paramters: {'C': 10, 'epsilon': 0.01, 'gamma': 1, 'kernel': 'rbf'} \t:mean+/-std: -0.005 (+/-0.090)\n",
      "Paramters: {'C': 10, 'epsilon': 0.01, 'gamma': 10, 'kernel': 'rbf'} \t:mean+/-std: -0.016 (+/-0.092)\n",
      "Paramters: {'C': 10, 'epsilon': 0.001, 'gamma': 0.001, 'kernel': 'rbf'} \t:mean+/-std: 0.127 (+/-0.121)\n",
      "Paramters: {'C': 10, 'epsilon': 0.001, 'gamma': 0.0001, 'kernel': 'rbf'} \t:mean+/-std: 0.126 (+/-0.120)\n",
      "Paramters: {'C': 10, 'epsilon': 0.001, 'gamma': 0.01, 'kernel': 'rbf'} \t:mean+/-std: 0.135 (+/-0.102)\n",
      "Paramters: {'C': 10, 'epsilon': 0.001, 'gamma': 0.1, 'kernel': 'rbf'} \t:mean+/-std: 0.067 (+/-0.093)\n",
      "Paramters: {'C': 10, 'epsilon': 0.001, 'gamma': 1, 'kernel': 'rbf'} \t:mean+/-std: -0.005 (+/-0.090)\n",
      "Paramters: {'C': 10, 'epsilon': 0.001, 'gamma': 10, 'kernel': 'rbf'} \t:mean+/-std: -0.016 (+/-0.092)\n",
      "Paramters: {'C': 100, 'epsilon': 0.1, 'gamma': 0.001, 'kernel': 'rbf'} \t:mean+/-std: 0.433 (+/-0.264)\n",
      "Paramters: {'C': 100, 'epsilon': 0.1, 'gamma': 0.0001, 'kernel': 'rbf'} \t:mean+/-std: 0.378 (+/-0.294)\n",
      "Paramters: {'C': 100, 'epsilon': 0.1, 'gamma': 0.01, 'kernel': 'rbf'} \t:mean+/-std: 0.689 (+/-0.123)\n",
      "Paramters: {'C': 100, 'epsilon': 0.1, 'gamma': 0.1, 'kernel': 'rbf'} \t:mean+/-std: 0.609 (+/-0.105)\n",
      "Paramters: {'C': 100, 'epsilon': 0.1, 'gamma': 1, 'kernel': 'rbf'} \t:mean+/-std: 0.304 (+/-0.131)\n",
      "Paramters: {'C': 100, 'epsilon': 0.1, 'gamma': 10, 'kernel': 'rbf'} \t:mean+/-std: 0.229 (+/-0.146)\n",
      "Paramters: {'C': 100, 'epsilon': 0.01, 'gamma': 0.001, 'kernel': 'rbf'} \t:mean+/-std: 0.433 (+/-0.264)\n",
      "Paramters: {'C': 100, 'epsilon': 0.01, 'gamma': 0.0001, 'kernel': 'rbf'} \t:mean+/-std: 0.378 (+/-0.294)\n",
      "Paramters: {'C': 100, 'epsilon': 0.01, 'gamma': 0.01, 'kernel': 'rbf'} \t:mean+/-std: 0.689 (+/-0.123)\n",
      "Paramters: {'C': 100, 'epsilon': 0.01, 'gamma': 0.1, 'kernel': 'rbf'} \t:mean+/-std: 0.609 (+/-0.105)\n",
      "Paramters: {'C': 100, 'epsilon': 0.01, 'gamma': 1, 'kernel': 'rbf'} \t:mean+/-std: 0.304 (+/-0.131)\n",
      "Paramters: {'C': 100, 'epsilon': 0.01, 'gamma': 10, 'kernel': 'rbf'} \t:mean+/-std: 0.229 (+/-0.146)\n",
      "Paramters: {'C': 100, 'epsilon': 0.001, 'gamma': 0.001, 'kernel': 'rbf'} \t:mean+/-std: 0.433 (+/-0.264)\n",
      "Paramters: {'C': 100, 'epsilon': 0.001, 'gamma': 0.0001, 'kernel': 'rbf'} \t:mean+/-std: 0.378 (+/-0.294)\n",
      "Paramters: {'C': 100, 'epsilon': 0.001, 'gamma': 0.01, 'kernel': 'rbf'} \t:mean+/-std: 0.689 (+/-0.123)\n",
      "Paramters: {'C': 100, 'epsilon': 0.001, 'gamma': 0.1, 'kernel': 'rbf'} \t:mean+/-std: 0.609 (+/-0.105)\n",
      "Paramters: {'C': 100, 'epsilon': 0.001, 'gamma': 1, 'kernel': 'rbf'} \t:mean+/-std: 0.304 (+/-0.131)\n",
      "Paramters: {'C': 100, 'epsilon': 0.001, 'gamma': 10, 'kernel': 'rbf'} \t:mean+/-std: 0.229 (+/-0.146)\n",
      "Paramters: {'C': 1000, 'epsilon': 0.1, 'gamma': 0.001, 'kernel': 'rbf'} \t:mean+/-std: 0.755 (+/-0.101)\n",
      "Paramters: {'C': 1000, 'epsilon': 0.1, 'gamma': 0.0001, 'kernel': 'rbf'} \t:mean+/-std: 0.441 (+/-0.264)\n",
      "Paramters: {'C': 1000, 'epsilon': 0.1, 'gamma': 0.01, 'kernel': 'rbf'} \t:mean+/-std: 0.812 (+/-0.095)\n",
      "Paramters: {'C': 1000, 'epsilon': 0.1, 'gamma': 0.1, 'kernel': 'rbf'} \t:mean+/-std: 0.797 (+/-0.110)\n",
      "Paramters: {'C': 1000, 'epsilon': 0.1, 'gamma': 1, 'kernel': 'rbf'} \t:mean+/-std: 0.722 (+/-0.104)\n",
      "Paramters: {'C': 1000, 'epsilon': 0.1, 'gamma': 10, 'kernel': 'rbf'} \t:mean+/-std: 0.607 (+/-0.151)\n",
      "Paramters: {'C': 1000, 'epsilon': 0.01, 'gamma': 0.001, 'kernel': 'rbf'} \t:mean+/-std: 0.755 (+/-0.101)\n",
      "Paramters: {'C': 1000, 'epsilon': 0.01, 'gamma': 0.0001, 'kernel': 'rbf'} \t:mean+/-std: 0.441 (+/-0.264)\n",
      "Paramters: {'C': 1000, 'epsilon': 0.01, 'gamma': 0.01, 'kernel': 'rbf'} \t:mean+/-std: 0.812 (+/-0.095)\n",
      "Paramters: {'C': 1000, 'epsilon': 0.01, 'gamma': 0.1, 'kernel': 'rbf'} \t:mean+/-std: 0.797 (+/-0.110)\n",
      "Paramters: {'C': 1000, 'epsilon': 0.01, 'gamma': 1, 'kernel': 'rbf'} \t:mean+/-std: 0.722 (+/-0.104)\n",
      "Paramters: {'C': 1000, 'epsilon': 0.01, 'gamma': 10, 'kernel': 'rbf'} \t:mean+/-std: 0.607 (+/-0.151)\n",
      "Paramters: {'C': 1000, 'epsilon': 0.001, 'gamma': 0.001, 'kernel': 'rbf'} \t:mean+/-std: 0.755 (+/-0.101)\n",
      "Paramters: {'C': 1000, 'epsilon': 0.001, 'gamma': 0.0001, 'kernel': 'rbf'} \t:mean+/-std: 0.441 (+/-0.264)\n",
      "Paramters: {'C': 1000, 'epsilon': 0.001, 'gamma': 0.01, 'kernel': 'rbf'} \t:mean+/-std: 0.812 (+/-0.095)\n",
      "Paramters: {'C': 1000, 'epsilon': 0.001, 'gamma': 0.1, 'kernel': 'rbf'} \t:mean+/-std: 0.797 (+/-0.110)\n",
      "Paramters: {'C': 1000, 'epsilon': 0.001, 'gamma': 1, 'kernel': 'rbf'} \t:mean+/-std: 0.722 (+/-0.104)\n",
      "Paramters: {'C': 1000, 'epsilon': 0.001, 'gamma': 10, 'kernel': 'rbf'} \t:mean+/-std: 0.607 (+/-0.151)\n",
      "Paramters: {'C': 1500, 'epsilon': 0.1, 'gamma': 0.001, 'kernel': 'rbf'} \t:mean+/-std: 0.792 (+/-0.100)\n",
      "Paramters: {'C': 1500, 'epsilon': 0.1, 'gamma': 0.0001, 'kernel': 'rbf'} \t:mean+/-std: 0.470 (+/-0.238)\n",
      "Paramters: {'C': 1500, 'epsilon': 0.1, 'gamma': 0.01, 'kernel': 'rbf'} \t:mean+/-std: 0.811 (+/-0.098)\n",
      "Paramters: {'C': 1500, 'epsilon': 0.1, 'gamma': 0.1, 'kernel': 'rbf'} \t:mean+/-std: 0.793 (+/-0.118)\n",
      "Paramters: {'C': 1500, 'epsilon': 0.1, 'gamma': 1, 'kernel': 'rbf'} \t:mean+/-std: 0.728 (+/-0.119)\n",
      "Paramters: {'C': 1500, 'epsilon': 0.1, 'gamma': 10, 'kernel': 'rbf'} \t:mean+/-std: 0.625 (+/-0.153)\n",
      "Paramters: {'C': 1500, 'epsilon': 0.01, 'gamma': 0.001, 'kernel': 'rbf'} \t:mean+/-std: 0.792 (+/-0.100)\n",
      "Paramters: {'C': 1500, 'epsilon': 0.01, 'gamma': 0.0001, 'kernel': 'rbf'} \t:mean+/-std: 0.470 (+/-0.238)\n",
      "Paramters: {'C': 1500, 'epsilon': 0.01, 'gamma': 0.01, 'kernel': 'rbf'} \t:mean+/-std: 0.811 (+/-0.098)\n",
      "Paramters: {'C': 1500, 'epsilon': 0.01, 'gamma': 0.1, 'kernel': 'rbf'} \t:mean+/-std: 0.793 (+/-0.118)\n",
      "Paramters: {'C': 1500, 'epsilon': 0.01, 'gamma': 1, 'kernel': 'rbf'} \t:mean+/-std: 0.728 (+/-0.119)\n",
      "Paramters: {'C': 1500, 'epsilon': 0.01, 'gamma': 10, 'kernel': 'rbf'} \t:mean+/-std: 0.625 (+/-0.153)\n",
      "Paramters: {'C': 1500, 'epsilon': 0.001, 'gamma': 0.001, 'kernel': 'rbf'} \t:mean+/-std: 0.792 (+/-0.100)\n",
      "Paramters: {'C': 1500, 'epsilon': 0.001, 'gamma': 0.0001, 'kernel': 'rbf'} \t:mean+/-std: 0.470 (+/-0.238)\n",
      "Paramters: {'C': 1500, 'epsilon': 0.001, 'gamma': 0.01, 'kernel': 'rbf'} \t:mean+/-std: 0.811 (+/-0.098)\n",
      "Paramters: {'C': 1500, 'epsilon': 0.001, 'gamma': 0.1, 'kernel': 'rbf'} \t:mean+/-std: 0.793 (+/-0.118)\n",
      "Paramters: {'C': 1500, 'epsilon': 0.001, 'gamma': 1, 'kernel': 'rbf'} \t:mean+/-std: 0.728 (+/-0.119)\n",
      "Paramters: {'C': 1500, 'epsilon': 0.001, 'gamma': 10, 'kernel': 'rbf'} \t:mean+/-std: 0.625 (+/-0.153)\n",
      "Paramters: {'C': 2000, 'epsilon': 0.1, 'gamma': 0.001, 'kernel': 'rbf'} \t:mean+/-std: 0.806 (+/-0.099)\n",
      "Paramters: {'C': 2000, 'epsilon': 0.1, 'gamma': 0.0001, 'kernel': 'rbf'} \t:mean+/-std: 0.498 (+/-0.219)\n",
      "Paramters: {'C': 2000, 'epsilon': 0.1, 'gamma': 0.01, 'kernel': 'rbf'} \t:mean+/-std: 0.809 (+/-0.099)\n",
      "Paramters: {'C': 2000, 'epsilon': 0.1, 'gamma': 0.1, 'kernel': 'rbf'} \t:mean+/-std: 0.794 (+/-0.119)\n",
      "Paramters: {'C': 2000, 'epsilon': 0.1, 'gamma': 1, 'kernel': 'rbf'} \t:mean+/-std: 0.725 (+/-0.133)\n",
      "Paramters: {'C': 2000, 'epsilon': 0.1, 'gamma': 10, 'kernel': 'rbf'} \t:mean+/-std: 0.624 (+/-0.174)\n",
      "Paramters: {'C': 2000, 'epsilon': 0.01, 'gamma': 0.001, 'kernel': 'rbf'} \t:mean+/-std: 0.806 (+/-0.099)\n",
      "Paramters: {'C': 2000, 'epsilon': 0.01, 'gamma': 0.0001, 'kernel': 'rbf'} \t:mean+/-std: 0.498 (+/-0.219)\n",
      "Paramters: {'C': 2000, 'epsilon': 0.01, 'gamma': 0.01, 'kernel': 'rbf'} \t:mean+/-std: 0.809 (+/-0.099)\n",
      "Paramters: {'C': 2000, 'epsilon': 0.01, 'gamma': 0.1, 'kernel': 'rbf'} \t:mean+/-std: 0.794 (+/-0.119)\n",
      "Paramters: {'C': 2000, 'epsilon': 0.01, 'gamma': 1, 'kernel': 'rbf'} \t:mean+/-std: 0.725 (+/-0.133)\n",
      "Paramters: {'C': 2000, 'epsilon': 0.01, 'gamma': 10, 'kernel': 'rbf'} \t:mean+/-std: 0.624 (+/-0.174)\n",
      "Paramters: {'C': 2000, 'epsilon': 0.001, 'gamma': 0.001, 'kernel': 'rbf'} \t:mean+/-std: 0.806 (+/-0.099)\n",
      "Paramters: {'C': 2000, 'epsilon': 0.001, 'gamma': 0.0001, 'kernel': 'rbf'} \t:mean+/-std: 0.498 (+/-0.219)\n",
      "Paramters: {'C': 2000, 'epsilon': 0.001, 'gamma': 0.01, 'kernel': 'rbf'} \t:mean+/-std: 0.809 (+/-0.099)\n",
      "Paramters: {'C': 2000, 'epsilon': 0.001, 'gamma': 0.1, 'kernel': 'rbf'} \t:mean+/-std: 0.794 (+/-0.119)\n",
      "Paramters: {'C': 2000, 'epsilon': 0.001, 'gamma': 1, 'kernel': 'rbf'} \t:mean+/-std: 0.725 (+/-0.133)\n",
      "Paramters: {'C': 2000, 'epsilon': 0.001, 'gamma': 10, 'kernel': 'rbf'} \t:mean+/-std: 0.624 (+/-0.174)\n",
      "Paramters: {'C': 0.25, 'epsilon': 0.1, 'kernel': 'linear'} \t:mean+/-std: 0.460 (+/-0.144)\n",
      "Paramters: {'C': 0.25, 'epsilon': 0.01, 'kernel': 'linear'} \t:mean+/-std: 0.460 (+/-0.144)\n",
      "Paramters: {'C': 0.25, 'epsilon': 0.001, 'kernel': 'linear'} \t:mean+/-std: 0.460 (+/-0.144)\n",
      "Paramters: {'C': 0.5, 'epsilon': 0.1, 'kernel': 'linear'} \t:mean+/-std: -3.115 (+/-1.210)\n",
      "Paramters: {'C': 0.5, 'epsilon': 0.01, 'kernel': 'linear'} \t:mean+/-std: -3.115 (+/-1.210)\n",
      "Paramters: {'C': 0.5, 'epsilon': 0.001, 'kernel': 'linear'} \t:mean+/-std: -3.115 (+/-1.210)\n",
      "Paramters: {'C': 1, 'epsilon': 0.1, 'kernel': 'linear'} \t:mean+/-std: -19.204 (+/-13.986)\n",
      "Paramters: {'C': 1, 'epsilon': 0.01, 'kernel': 'linear'} \t:mean+/-std: -19.204 (+/-13.986)\n",
      "Paramters: {'C': 1, 'epsilon': 0.001, 'kernel': 'linear'} \t:mean+/-std: -19.204 (+/-13.986)\n",
      "Paramters: {'C': 10, 'epsilon': 0.1, 'kernel': 'linear'} \t:mean+/-std: -2594.319 (+/-2165.479)\n",
      "Paramters: {'C': 10, 'epsilon': 0.01, 'kernel': 'linear'} \t:mean+/-std: -2594.318 (+/-2165.480)\n",
      "Paramters: {'C': 10, 'epsilon': 0.001, 'kernel': 'linear'} \t:mean+/-std: -2594.318 (+/-2165.481)\n",
      "Paramters: {'C': 100, 'epsilon': 0.1, 'kernel': 'linear'} \t:mean+/-std: -258764.440 (+/-210520.582)\n",
      "Paramters: {'C': 100, 'epsilon': 0.01, 'kernel': 'linear'} \t:mean+/-std: -258764.446 (+/-210520.591)\n",
      "Paramters: {'C': 100, 'epsilon': 0.001, 'kernel': 'linear'} \t:mean+/-std: -258764.447 (+/-210520.591)\n",
      "Paramters: {'C': 1000, 'epsilon': 0.1, 'kernel': 'linear'} \t:mean+/-std: -25863447.171 (+/-20999908.960)\n",
      "Paramters: {'C': 1000, 'epsilon': 0.01, 'kernel': 'linear'} \t:mean+/-std: -25863447.167 (+/-20999909.120)\n",
      "Paramters: {'C': 1000, 'epsilon': 0.001, 'kernel': 'linear'} \t:mean+/-std: -25863447.156 (+/-20999909.138)\n",
      "Paramters: {'C': 1500, 'epsilon': 0.1, 'kernel': 'linear'} \t:mean+/-std: -58191675.152 (+/-47245460.034)\n",
      "Paramters: {'C': 1500, 'epsilon': 0.01, 'kernel': 'linear'} \t:mean+/-std: -58191675.180 (+/-47245460.285)\n",
      "Paramters: {'C': 1500, 'epsilon': 0.001, 'kernel': 'linear'} \t:mean+/-std: -58191675.196 (+/-47245460.314)\n"
     ]
    }
   ],
   "source": [
    "    \n",
    "    for mean, std, params in zip(means, stds, clf.cv_results_['params']):\n",
    "        print(\"Paramters: %r \\t:mean+/-std: %0.3f (+/-%0.03f)\"\n",
    "              % (params, mean, std * 2))"
   ]
  },
  {
   "cell_type": "code",
   "execution_count": 10,
   "metadata": {
    "collapsed": false
   },
   "outputs": [
    {
     "name": "stdout",
     "output_type": "stream",
     "text": [
      "(used for picking best model) Training Error after CV : 401.118696\n"
     ]
    }
   ],
   "source": [
    "from sklearn.metrics import mean_squared_error\n",
    "import numpy as np\n",
    "\n",
    "y_predict = clf.predict(X_train)\n",
    "rmse_model = np.sqrt(mean_squared_error(y_train, y_predict))\n",
    "print(\"(used for picking best model) Training Error after CV : %f\" % rmse_model)"
   ]
  },
  {
   "cell_type": "code",
   "execution_count": 11,
   "metadata": {
    "collapsed": false
   },
   "outputs": [
    {
     "name": "stdout",
     "output_type": "stream",
     "text": [
      "(for reporting only) Test Error once optimal model is picked by CV : 327.877737\n"
     ]
    }
   ],
   "source": [
    "\n",
    "y_predict = clf.predict(X_test) #Reduce X to the selected features and then predict using the underlying estimator.\n",
    "rmse_model = np.sqrt(mean_squared_error(y_test, y_predict))\n",
    "print(\"(for reporting only) Test Error once optimal model is picked by CV : %f\" % rmse_model)"
   ]
  },
  {
   "cell_type": "code",
   "execution_count": null,
   "metadata": {
    "collapsed": true
   },
   "outputs": [],
   "source": []
  },
  {
   "cell_type": "code",
   "execution_count": null,
   "metadata": {
    "collapsed": true
   },
   "outputs": [],
   "source": []
  }
 ],
 "metadata": {
  "anaconda-cloud": {},
  "kernelspec": {
   "display_name": "Python 3",
   "language": "python",
   "name": "python3"
  },
  "language_info": {
   "codemirror_mode": {
    "name": "ipython",
    "version": 3
   },
   "file_extension": ".py",
   "mimetype": "text/x-python",
   "name": "python",
   "nbconvert_exporter": "python",
   "pygments_lexer": "ipython3",
   "version": "3.6.0"
  }
 },
 "nbformat": 4,
 "nbformat_minor": 0
}
