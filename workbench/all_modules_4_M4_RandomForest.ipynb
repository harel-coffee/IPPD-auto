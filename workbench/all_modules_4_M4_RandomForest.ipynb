{
 "cells": [
  {
   "cell_type": "markdown",
   "metadata": {},
   "source": [
    "# M4. Ensemble Reg. - Averaging - Random Forest  (CV score)"
   ]
  },
  {
   "cell_type": "markdown",
   "metadata": {},
   "source": [
    "#### from sklearn.model_selection import cross_val_score"
   ]
  },
  {
   "cell_type": "code",
   "execution_count": 11,
   "metadata": {
    "collapsed": true
   },
   "outputs": [],
   "source": [
    "# Read Back \n",
    "import pickle\n",
    "import pandas as pd\n",
    "\n",
    "with open('datasetIPPD.pickle', 'rb') as handle:\n",
    "    data = pickle.load(handle)"
   ]
  },
  {
   "cell_type": "code",
   "execution_count": 12,
   "metadata": {
    "collapsed": false
   },
   "outputs": [
    {
     "data": {
      "text/plain": [
       "dict_keys(['X_train', 'y_train', 'X_test', 'y_test'])"
      ]
     },
     "execution_count": 12,
     "metadata": {},
     "output_type": "execute_result"
    }
   ],
   "source": [
    "data.keys()"
   ]
  },
  {
   "cell_type": "code",
   "execution_count": 13,
   "metadata": {
    "collapsed": false
   },
   "outputs": [
    {
     "data": {
      "text/plain": [
       "(256, 65)"
      ]
     },
     "execution_count": 13,
     "metadata": {},
     "output_type": "execute_result"
    }
   ],
   "source": [
    "X_train = data['X_train']\n",
    "y_train = pd.DataFrame(data['y_train'])\n",
    "\n",
    "X_test = data['X_test']\n",
    "y_test = data['y_test']\n",
    "\n",
    "len(y_train), len(y_test)"
   ]
  },
  {
   "cell_type": "code",
   "execution_count": 14,
   "metadata": {
    "collapsed": true
   },
   "outputs": [],
   "source": [
    "def rmse_scorer(model, X, y):\n",
    "    from sklearn.metrics import mean_squared_error    \n",
    "    y_predict = model.predict(X)\n",
    "    return mean_squared_error(y, y_predict)"
   ]
  },
  {
   "cell_type": "code",
   "execution_count": 15,
   "metadata": {
    "collapsed": false
   },
   "outputs": [
    {
     "name": "stdout",
     "output_type": "stream",
     "text": [
      "Automatically created module for IPython interactive environment\n"
     ]
    }
   ],
   "source": [
    "from __future__ import print_function\n",
    "\n",
    "from sklearn import datasets\n",
    "from sklearn.model_selection import train_test_split\n",
    "from sklearn.model_selection import GridSearchCV\n",
    "from sklearn.metrics import classification_report\n",
    "from sklearn.svm import SVR\n",
    "\n",
    "print(__doc__)"
   ]
  },
  {
   "cell_type": "code",
   "execution_count": 6,
   "metadata": {
    "collapsed": false
   },
   "outputs": [
    {
     "name": "stdout",
     "output_type": "stream",
     "text": [
      "# Random Forest with oob_score = True\n",
      "\n",
      "\n",
      "\n",
      "\n"
     ]
    }
   ],
   "source": [
    "scores = ['rmse'] #, 'recall']\n",
    "model = []\n",
    "\n",
    "from sklearn.ensemble.forest import RandomForestRegressor\n",
    "\n",
    "for score in scores:\n",
    "    print(\"# Random Forest with oob_score = True\")\n",
    "    print()\n",
    "\n",
    "    model = RandomForestRegressor(n_estimators=3000, n_jobs=-1, oob_score=True)\n",
    "    \n",
    "    model.fit(X_train, y_train)"
   ]
  },
  {
   "cell_type": "code",
   "execution_count": 24,
   "metadata": {
    "collapsed": false
   },
   "outputs": [
    {
     "name": "stdout",
     "output_type": "stream",
     "text": [
      "5 150 [ 271.31595735  155.98083254  284.17506325] 237.15728438\n",
      "10 160 [ 278.37506203  290.17014356  255.83984578] 274.795017126\n",
      "15 170 [ 291.53752338  232.05557925  267.45211532] 263.681739318\n",
      "20 180 [ 176.81848695  351.48747644  188.17450005] 238.826821145\n",
      "25 190 [ 273.51058121  260.21047478  174.04590627] 235.922320752\n",
      "30 200 [ 276.25910683  205.80526581  293.39167131] 258.485347982\n",
      "35 210 [ 350.98492515  162.9852147   110.30409164] 208.091410497\n"
     ]
    }
   ],
   "source": [
    "##\n",
    "from sklearn.ensemble.forest import RandomForestRegressor\n",
    "import numpy as  np\n",
    "from sklearn import cross_validation\n",
    "from numpy.random import RandomState\n",
    "\n",
    "rmse_val = np.array([  297.59290466,  1367.76369731,   164.79490009,    33.22493526, 389.47117031])\n",
    "\n",
    "i = 0\n",
    "t = 150\n",
    "\n",
    "while (rmse_val.mean() > t):\n",
    "    np.random.seed() #randomly initialize\n",
    "    \n",
    "    model = RandomForestRegressor(n_estimators=100, n_jobs=-1, oob_score=True, random_state=RandomState())    \n",
    "    \n",
    "    #shuffle\n",
    "    permut = np.random.permutation(len(X_train))\n",
    "    \n",
    "    ft_Xt   = X_train.iloc[permut]\n",
    "    ft_Xt2  =ft_Xt.reset_index(drop=True)\n",
    "    X_train = ft_Xt2.copy(deep=True)\n",
    "    \n",
    "    ft_yt   = y_train.iloc[permut]\n",
    "    ft_yt2  =ft_yt.reset_index(drop=True)\n",
    "    y_train = ft_yt2.copy(deep=True)\n",
    "      \n",
    "    scores_cv = cross_validation.cross_val_score(model, X_train, y_train.values.ravel(), cv=3,scoring='neg_mean_squared_error')\n",
    "    \n",
    "    rmse_val = np.sqrt(-scores_cv)\n",
    "    \n",
    "    i=i+1\n",
    "    if (i%5==0):\n",
    "        print(i, t, rmse_val, rmse_val.mean())\n",
    "        t = t + 10\n",
    "\n",
    "##"
   ]
  },
  {
   "cell_type": "code",
   "execution_count": null,
   "metadata": {
    "collapsed": false
   },
   "outputs": [
    {
     "name": "stdout",
     "output_type": "stream",
     "text": [
      "0.936552020191\n",
      "0.936523185133\n",
      "0.93706226497\n",
      "0.936255510876\n",
      "0.936699848556\n",
      "0.936416126487\n",
      "0.936339565389\n",
      "0.936146051519\n",
      "0.936140275858\n",
      "0.936558810576\n",
      "0.936897235131\n",
      "0.936207034051\n",
      "0.935794857568\n",
      "0.937131975873\n",
      "0.936681874013\n",
      "0.936778226014\n",
      "0.936509384811\n",
      "0.936075157354\n",
      "0.93673479884\n",
      "0.935695089397\n",
      "0.936997444956\n",
      "0.936209282602\n",
      "0.936612288004\n",
      "0.936707115732\n",
      "0.937147533274\n",
      "0.937092070764\n",
      "0.936626746903\n",
      "0.937526887585\n",
      "0.937019803445\n",
      "0.936928862808\n",
      "0.936898737975\n",
      "0.936487840292\n",
      "0.935931688193\n",
      "0.935754396666\n",
      "0.936939627206\n"
     ]
    }
   ],
   "source": [
    "oobscore = 1\n",
    "i=0\n",
    "threshold = 0.5\n",
    "while(oobscore > threshold):\n",
    "    \n",
    "    model = RandomForestRegressor(n_estimators=5000, n_jobs=-1, oob_score=True, random_state=RandomState())    \n",
    "    model.fit(X_train, y_train.values.ravel())\n",
    "    oobscore = model.oob_score_\n",
    "    print(oobscore)\n",
    "    \n",
    "    np.random.seed() #randomly initialize\n",
    "    \n",
    "    #shuffle\n",
    "    permut = np.random.permutation(len(X_train))\n",
    "    \n",
    "    ft_Xt   = X_train.iloc[permut]\n",
    "    ft_Xt2  =ft_Xt.reset_index(drop=True)\n",
    "    X_train = ft_Xt2.copy(deep=True)\n",
    "    \n",
    "    ft_yt   = y_train.iloc[permut]\n",
    "    ft_yt2  =ft_yt.reset_index(drop=True)\n",
    "    y_train = ft_yt2.copy(deep=True)\n",
    "    \n",
    "    i=i+1\n",
    "    if (i%100==0):\n",
    "        print(i, oobscore)\n",
    "        #threshold = threshold + 0.05\n",
    "        break"
   ]
  },
  {
   "cell_type": "code",
   "execution_count": 29,
   "metadata": {
    "collapsed": false
   },
   "outputs": [
    {
     "name": "stdout",
     "output_type": "stream",
     "text": [
      "(used for picking best model) Training Error after CV : 175.146466\n"
     ]
    }
   ],
   "source": [
    "from sklearn.metrics import mean_squared_error\n",
    "import numpy as np\n",
    "\n",
    "y_predict = model.predict(X_train)\n",
    "rmse_model = np.sqrt(mean_squared_error(y_train, y_predict))\n",
    "\n",
    "print(\"(used for picking best model) Training Error after CV : %f\" % rmse_model)"
   ]
  },
  {
   "cell_type": "markdown",
   "metadata": {},
   "source": [
    "################################################################################\n",
    "################################################################################\n",
    "############################  R E P O R T I N G #####################################\n",
    "################################################################################\n",
    "################################################################################"
   ]
  },
  {
   "cell_type": "code",
   "execution_count": 30,
   "metadata": {
    "collapsed": false
   },
   "outputs": [
    {
     "name": "stdout",
     "output_type": "stream",
     "text": [
      "(for reporting only) Test Error once optimal model is picked by CV : 114.137254\n"
     ]
    }
   ],
   "source": [
    "# Reporting - once the model is picked\n",
    "\n",
    "y_predict = model.predict(X_test) #Reduce X to the selected features and then predict using the underlying estimator.\n",
    "rmse_model = np.sqrt(mean_squared_error(y_test, y_predict))\n",
    "print(\"(for reporting only) Test Error once optimal model is picked by CV : %f\" % rmse_model)"
   ]
  },
  {
   "cell_type": "code",
   "execution_count": null,
   "metadata": {
    "collapsed": true
   },
   "outputs": [],
   "source": []
  },
  {
   "cell_type": "code",
   "execution_count": null,
   "metadata": {
    "collapsed": true
   },
   "outputs": [],
   "source": []
  }
 ],
 "metadata": {
  "anaconda-cloud": {},
  "kernelspec": {
   "display_name": "Python 3",
   "language": "python",
   "name": "python3"
  },
  "language_info": {
   "codemirror_mode": {
    "name": "ipython",
    "version": 3
   },
   "file_extension": ".py",
   "mimetype": "text/x-python",
   "name": "python",
   "nbconvert_exporter": "python",
   "pygments_lexer": "ipython3",
   "version": "3.6.0"
  }
 },
 "nbformat": 4,
 "nbformat_minor": 0
}
