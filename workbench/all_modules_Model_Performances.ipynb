{
 "cells": [
  {
   "cell_type": "code",
   "execution_count": 87,
   "metadata": {
    "collapsed": true
   },
   "outputs": [],
   "source": [
    "# import all the filenames\n",
    "from allfunctions import *"
   ]
  },
  {
   "cell_type": "code",
   "execution_count": 88,
   "metadata": {
    "collapsed": false
   },
   "outputs": [
    {
     "name": "stdout",
     "output_type": "stream",
     "text": [
      "The autoreload extension is already loaded. To reload it, use:\n",
      "  %reload_ext autoreload\n"
     ]
    }
   ],
   "source": [
    "%load_ext autoreload\n",
    "%autoreload 2"
   ]
  },
  {
   "cell_type": "markdown",
   "metadata": {},
   "source": [
    "1  def LassoCVModel(filename):\n",
    "\n",
    "2  def OMPCVModel(filename):\n",
    "\n",
    "3  def GradientBoostingCVModel(filename):\n",
    "\n",
    "4  def RandomForestCVModel(filename):\n",
    "\n",
    "5  def RidgeCVModel(filename):\n",
    "\n",
    "6  def ElasticNetCVModel(filename):\n",
    "\n",
    "7  def SVRPolyCVModel(filename):\n",
    "\n",
    "8  def SVRSigmoidCVModel(filename):\n",
    "\n",
    "9  def SVRLinearCVModel(filename):\n",
    "\n",
    "10 def SVRRbfCVModel(filename):"
   ]
  },
  {
   "cell_type": "code",
   "execution_count": 89,
   "metadata": {
    "collapsed": false
   },
   "outputs": [
    {
     "data": {
      "text/plain": [
       "', , \\n                 RandomForestCVModel, RidgeCVModel, ElasticNetCVModel, \\n                 SVRPolyCVModel, SVRSigmoidCVModel, SVRLinearCVModel, \\n                 SVRRbfCVModel ] #OMPCVModel\\n'"
      ]
     },
     "execution_count": 89,
     "metadata": {},
     "output_type": "execute_result"
    }
   ],
   "source": [
    "functionList = [OMPCVModel]# [ LassoCVModel, OMPCVModel, GradientBoostingCVModel ] \n",
    "''', , \n",
    "                 RandomForestCVModel, RidgeCVModel, ElasticNetCVModel, \n",
    "                 SVRPolyCVModel, SVRSigmoidCVModel, SVRLinearCVModel, \n",
    "                 SVRRbfCVModel ] #OMPCVModel\n",
    "'''"
   ]
  },
  {
   "cell_type": "code",
   "execution_count": 90,
   "metadata": {
    "collapsed": false
   },
   "outputs": [],
   "source": [
    "def wrapper(functionList = [], filenames = [ 'datasetIPPD.pickle' ]):\n",
    "    if __name__ == '__main__':\n",
    "        global model_selection\n",
    "                \n",
    "        model_selection = {}\n",
    "        \n",
    "        for f in functionList:\n",
    "            print()\n",
    "            for filename in filenames:\n",
    "                out = f(filename)\n",
    "                newScore = out[filename]['train_rmse_cv_4_picking']\n",
    "\n",
    "                if f in model_selection:\n",
    "                    #compare scores and select more accurate model\n",
    "                    oldScore = model_selection[f]['train_rmse_cv_4_picking']\n",
    "                    if(newScore < oldScore):\n",
    "                        print(\"【【【】】】switching models for %s...\" % filename)\n",
    "                        print(\"【【【】】】newScore: %f < oldScore: %f\" % (newScore, oldScore))\n",
    "                        print(\"【【【】】】newModel: %s \\n\" % f)\n",
    "                        print(100*'_')\n",
    "                        model_selection[f] = out[filename]\n",
    "                else:\n",
    "                    #no score to compare\n",
    "                    print(\"【【】】adding new model for %s \\n\" % filename)\n",
    "                    print(\"【【【】】】newScore: %f \" % (newScore))\n",
    "                    print(100*'_')\n",
    "                    model_selection[f] = out[filename]\n",
    "    return model_selection"
   ]
  },
  {
   "cell_type": "markdown",
   "metadata": {},
   "source": [
    "<:>:<:>:<:>:<:>:<:>:<:>:<:>:<:>:<:>:<:>:<:>:<:>:<:>:<:>:<:><:>:<:>:<:>:<:>:<:>:<:>:<:>:<:>:<:>:<:>:<:>:<:>:<:>:<:>:<:>\n",
    "<:>:<:>:<:>:<:>:<:>:<:>:<:>:<:>:<:>:<:>:<:>:<:>:<:>:<:>:<:><:>:<:>:<:>:<:>:<:>:<:>:<:>:<:>:<:>:<:>:<:>:<:>:<:>:<:>:<:>\n",
    "<:>:<:>:<:>:<:>:<:>:<:>:<:>:<:>:<:>:<:>:<:>:<:>:<:>:<:>:<:><:>:<:>:<:>:<:>:<:>:<:>:<:>:<:>:<:>:<:>:<:>:<:>:<:>:<:>:<:>\n",
    "<:>:<:>:<:>:<:>:<:>:<:>:<:>:<:>:<:>:<:>:<:>:<:>:<:>:<:>:<:><:>:<:>:<:>:<:>:<:>:<:>:<:>:<:>:<:>:<:>:<:>:<:>:<:>:<:>:<:>\n"
   ]
  },
  {
   "cell_type": "code",
   "execution_count": 86,
   "metadata": {
    "collapsed": true
   },
   "outputs": [],
   "source": [
    "#\n",
    "#\n",
    "#\n",
    "# START of generating small datasets (X_A,y_A), (X_B,y_B), (X_C,y_C)..."
   ]
  },
  {
   "cell_type": "code",
   "execution_count": 79,
   "metadata": {
    "collapsed": false
   },
   "outputs": [
    {
     "name": "stdout",
     "output_type": "stream",
     "text": [
      "Reading features from ./features/cdhitdup_singlecmd_features.txt\n",
      "Reading features from ./features/frhit_singlecmd_features.txt\n",
      "Reading features from ./features/velvetg_singlecmd_features.txt\n",
      "Reading features from ./features/velveth_singlecmd_features.txt\n",
      "Total matches found : 5 \n",
      "Total matches found : 13 \n",
      "Total matches found : 23 \n",
      "Total matches found : 24 \n"
     ]
    },
    {
     "data": {
      "text/plain": [
       "65"
      ]
     },
     "execution_count": 79,
     "metadata": {},
     "output_type": "execute_result"
    }
   ],
   "source": [
    "import pickle\n",
    "with open('datasetIPPD.pickle', 'rb') as handle:\n",
    "    data = pickle.load(handle)\n",
    "\n",
    "#extract X_test, Y_test\n",
    "X_test = data['X_test']\n",
    "y_test = data['y_test']\n",
    "\n",
    "# In[16]:\n",
    "\n",
    "def featureReader(featuresFile):\n",
    "    #reads featurefiles and projects 3 columns (ppn, sizeGB, Ytime)\n",
    "    #reads profiledFile (the table from profiling) and reads all 55 columns\n",
    "    #generates one dataframe with 58 columns and n rows (=size of profiled data from csv)\n",
    "    import pandas as pd\n",
    "    from IPython.display import display\n",
    "\n",
    "    header='ft1 ft2 ft3 ft4 ft5 ft6 ft7 ft8 ft9 ft10 ft11 ft12 ft13 ft14 ft15 ft16 ft17     ft18 ft24 ft25 ft19 ft39 ft20 ft33 ft21 ft35 ft22 ft23 ft34 ft36 ft37 ft38 ft40 ft41     ft42 ft43 ft44 ft45 ft46 ft48 ft47 ft49 ft51 ft50 ft52 ft53 ft54 ft55 ft26 ft27 ft28 ft29 ft30 ft31 ft32'\n",
    "    \n",
    "    def value(item):\n",
    "        return item[item.find('=')+1:]\n",
    "    \n",
    "    print(\"Reading features from %s\" % featuresFile)\n",
    "    df_features = pd.read_table(featuresFile, header=None, delimiter=',',\n",
    "                       converters={i:value for i in range(55)},\n",
    "                       names=header.split())\n",
    "    df_features = df_features.astype(float)\n",
    "    return df_features\n",
    "\n",
    "\n",
    "# Signature for A\n",
    "from IPython.display import display\n",
    "signatureA = featureReader('./features/cdhitdup_singlecmd_features.txt')\n",
    "\n",
    "# In[105]:\n",
    "\n",
    "# Signature for B\n",
    "signatureB = featureReader('./features/frhit_singlecmd_features.txt')\n",
    "\n",
    "# ## A=cdhitdup, B=frhit, C=velvetG, D=velvetH\n",
    "\n",
    "# In[106]:\n",
    "\n",
    "# Signature for C\n",
    "signatureC = featureReader('./features/velvetg_singlecmd_features.txt')\n",
    "\n",
    "# In[107]:\n",
    "\n",
    "# Signature for D\n",
    "signatureD = featureReader('./features/velveth_singlecmd_features.txt')\n",
    "\n",
    "# ## Extractor for extracting features\n",
    "\n",
    "# In[145]:\n",
    "\n",
    "cols = ['ft1', 'ft2', 'ft3', 'ft4', 'ft5', 'ft6', 'ft7', 'ft8', 'ft9', 'ft10',\n",
    "       'ft11', 'ft12', 'ft13', 'ft14', 'ft15', 'ft16', 'ft17', 'ft18', 'ft24',\n",
    "       'ft25', 'ft19', 'ft39', 'ft20', 'ft33', 'ft21', 'ft35', 'ft22', 'ft23',\n",
    "       'ft34', 'ft36', 'ft37', 'ft38', 'ft40', 'ft41', 'ft42', 'ft43', 'ft44',\n",
    "       'ft45', 'ft46', 'ft48', 'ft47', 'ft49', 'ft51', 'ft50', 'ft52', 'ft53',\n",
    "       'ft54', 'ft55', 'ft26', 'ft27', 'ft28', 'ft29', 'ft30', 'ft31', 'ft32']\n",
    "\n",
    "\n",
    "# In[273]:\n",
    "\n",
    "def extractor(signature, X_test, y_test):\n",
    "    import pandas as pd\n",
    "    import numpy  as np\n",
    "    import copy\n",
    "    \n",
    "    count = 0\n",
    "    xt = pd.DataFrame(columns = X_test.columns)\n",
    "    yt = []\n",
    "    \n",
    "    for i in range(len(X_test)):\n",
    "        if(all(X_test[cols].iloc[[i]].values[0] == signature.iloc[[0]].values[0])):\n",
    "            #print(X_test[cols].iloc[[i]].values[0])\n",
    "            #print(signature.iloc[[0]].values[0])\n",
    "            count = count + 1\n",
    "            # make deep copies\n",
    "            xt = xt.append(copy.deepcopy(X_test.iloc[[i]]), ignore_index=True)\n",
    "            yt.append(copy.deepcopy(y_test[i]))\n",
    "            \n",
    "    print(\"Total matches found : %d \" % count)\n",
    "    \n",
    "    return xt,np.asarray(yt)\n",
    "\n",
    "\n",
    "# In[274]:\n",
    "\n",
    "X_A, y_A = extractor(signatureA, X_test, y_test)\n",
    "X_A.shape, len(y_A)\n",
    "\n",
    "\n",
    "# In[275]:\n",
    "\n",
    "X_B, y_B = extractor(signatureB, X_test, y_test)\n",
    "X_B.shape, len(y_B)\n",
    "\n",
    "\n",
    "# In[276]:\n",
    "\n",
    "X_C, y_C = extractor(signatureC, X_test, y_test)\n",
    "X_C.shape, len(y_C)\n",
    "\n",
    "\n",
    "# In[277]:\n",
    "\n",
    "X_D, y_D = extractor(signatureD, X_test, y_test)\n",
    "X_D.shape, len(y_D)\n",
    "\n",
    "\n",
    "# In[278]:\n",
    "\n",
    "len(X_test)\n"
   ]
  },
  {
   "cell_type": "code",
   "execution_count": 85,
   "metadata": {
    "collapsed": true
   },
   "outputs": [],
   "source": [
    "#\n",
    "#\n",
    "#\n",
    "# END of generating small datasets (X_A,y_A), (X_B,y_B), (X_C,y_C)..."
   ]
  },
  {
   "cell_type": "markdown",
   "metadata": {},
   "source": [
    "<:>:<:>:<:>:<:>:<:>:<:>:<:>:<:>:<:>:<:>:<:>:<:>:<:>:<:>:<:><:>:<:>:<:>:<:>:<:>:<:>:<:>:<:>:<:>:<:>:<:>:<:>:<:>:<:>:<:>\n",
    "<:>:<:>:<:>:<:>:<:>:<:>:<:>:<:>:<:>:<:>:<:>:<:>:<:>:<:>:<:><:>:<:>:<:>:<:>:<:>:<:>:<:>:<:>:<:>:<:>:<:>:<:>:<:>:<:>:<:>\n",
    "<:>:<:>:<:>:<:>:<:>:<:>:<:>:<:>:<:>:<:>:<:>:<:>:<:>:<:>:<:><:>:<:>:<:>:<:>:<:>:<:>:<:>:<:>:<:>:<:>:<:>:<:>:<:>:<:>:<:>\n",
    "<:>:<:>:<:>:<:>:<:>:<:>:<:>:<:>:<:>:<:>:<:>:<:>:<:>:<:>:<:><:>:<:>:<:>:<:>:<:>:<:>:<:>:<:>:<:>:<:>:<:>:<:>:<:>:<:>:<:>\n"
   ]
  },
  {
   "cell_type": "markdown",
   "metadata": {},
   "source": [
    "# 1 LassoCVModel--OK"
   ]
  },
  {
   "cell_type": "code",
   "execution_count": 5,
   "metadata": {
    "collapsed": false
   },
   "outputs": [
    {
     "name": "stdout",
     "output_type": "stream",
     "text": [
      "\n",
      "Dataset size read: train 256 and test 65 \n",
      "\n",
      "# Tuning hyper-parameters \n",
      "\n",
      "Starting grdsurch.fit(X_train, y_train)\n",
      "\n",
      "Best parameters set found on development set:\n",
      "\n",
      "{'alpha': 20.433597178569439, 'precompute': True}\n",
      "Lasso(alpha=20.433597178569439, copy_X=True, fit_intercept=True,\n",
      "   max_iter=10000000.0, normalize=False, positive=False, precompute=True,\n",
      "   random_state=None, selection='random', tol=1e-06, warm_start=False)\n",
      "\n",
      "【【】】adding new model for datasetIPPD.pickle \n",
      "\n",
      "【【【】】】newScore: 1025.086098 \n",
      "____________________________________________________________________________________________________\n"
     ]
    }
   ],
   "source": [
    "t_lasso = wrapper([LassoCVModel])"
   ]
  },
  {
   "cell_type": "code",
   "execution_count": 6,
   "metadata": {
    "collapsed": false
   },
   "outputs": [
    {
     "name": "stdout",
     "output_type": "stream",
     "text": [
      "<function LassoCVModel at 0x7f563e1a1378>\n",
      "Lasso(alpha=20.433597178569439, copy_X=True, fit_intercept=True,\n",
      "   max_iter=10000000.0, normalize=False, positive=False, precompute=True,\n",
      "   random_state=None, selection='random', tol=1e-06, warm_start=False) \n",
      "\n",
      "\n",
      "\n",
      " 1025.08609776 880.826424842 1532.34615385\n",
      "____________________________________________________________________________________________________\n"
     ]
    }
   ],
   "source": [
    "for key in t_lasso.keys():\n",
    "    print(key)\n",
    "    print(t_lasso[key]['model'],'\\n\\n\\n\\n',\n",
    "          t_lasso[key]['train_rmse_cv_4_picking'],\n",
    "          t_lasso[key]['test_rmse_4_reporting'],\n",
    "          t_lasso[key]['test_mean_y_4_comparing']\n",
    "         )\n",
    "    print(100*'_')"
   ]
  },
  {
   "cell_type": "code",
   "execution_count": 15,
   "metadata": {
    "collapsed": false
   },
   "outputs": [],
   "source": [
    "names = ['ppn', 'sizeGB', 'ft1', 'ft2', 'ft3', 'ft4', 'ft5', 'ft6', 'ft7', 'ft8',\n",
    "        'ft9', 'ft10', 'ft11', 'ft12', 'ft13', 'ft14', 'ft15', 'ft16', 'ft17',\n",
    "        'ft18', 'ft24', 'ft25', 'ft19', 'ft39', 'ft20', 'ft33', 'ft21', 'ft35',\n",
    "        'ft22', 'ft23', 'ft34', 'ft36', 'ft37', 'ft38', 'ft40', 'ft41', 'ft42',\n",
    "        'ft43', 'ft44', 'ft45', 'ft46', 'ft48', 'ft47', 'ft49', 'ft51', 'ft50',\n",
    "        'ft52', 'ft53', 'ft54', 'ft55', 'ft26', 'ft27', 'ft28', 'ft29', 'ft30',\n",
    "        'ft31', 'ft32']"
   ]
  },
  {
   "cell_type": "code",
   "execution_count": 16,
   "metadata": {
    "collapsed": false
   },
   "outputs": [
    {
     "name": "stdout",
     "output_type": "stream",
     "text": [
      "[(-0.0, 'sizeGB'), (-0.0, 'ppn'), (-0.0, 'ft9'), (-0.0, 'ft8'), (0.0, 'ft7'), (-0.0, 'ft6'), (-0.0, 'ft55'), (0.0, 'ft54'), (0.0, 'ft53'), (0.0, 'ft52'), (0.0, 'ft51'), (0.0, 'ft50'), (0.0, 'ft5'), (-0.0, 'ft49'), (0.0, 'ft48'), (0.0, 'ft47'), (-0.0, 'ft46'), (0.0, 'ft45'), (-0.0, 'ft44'), (0.0, 'ft43'), (-0.0, 'ft42'), (0.0, 'ft41'), (-0.0, 'ft40'), (0.0, 'ft4'), (0.0, 'ft39'), (0.0, 'ft38'), (0.0, 'ft37'), (-0.0, 'ft36'), (0.0, 'ft35'), (0.0, 'ft34'), (-0.0, 'ft33'), (0.0, 'ft32'), (-0.0, 'ft31'), (0.0, 'ft30'), (-0.0, 'ft3'), (0.0, 'ft29'), (-0.0, 'ft28'), (-0.0, 'ft27'), (0.0, 'ft26'), (0.0, 'ft25'), (0.0, 'ft24'), (0.0, 'ft23'), (0.0, 'ft22'), (0.0, 'ft21'), (-0.0, 'ft20'), (-0.0, 'ft2'), (-0.0, 'ft19'), (0.0, 'ft18'), (0.0, 'ft17'), (0.0, 'ft16'), (0.0, 'ft15'), (0.0, 'ft14'), (0.0, 'ft13'), (0.0, 'ft12'), (0.0, 'ft11'), (-0.0, 'ft10'), (0.0, 'ft1')]\n"
     ]
    }
   ],
   "source": [
    "print(sorted(zip(map(lambda x: x, mo.coef_), \n",
    "                 names), reverse=True))"
   ]
  },
  {
   "cell_type": "markdown",
   "metadata": {
    "collapsed": true
   },
   "source": [
    "#>>>>>>>>>>>\n"
   ]
  },
  {
   "cell_type": "markdown",
   "metadata": {},
   "source": [
    "# Lasso Final\n",
    "\n",
    "Lasso(alpha=20.433597178569439, copy_X=True, fit_intercept=True,\n",
    "   max_iter=10000000.0, normalize=False, positive=False, precompute=True,\n",
    "   random_state=None, selection='random', tol=1e-06, warm_start=False) \n",
    "\n",
    "\n",
    "\n",
    " 1025.08609776 880.826424842 1532.34615385"
   ]
  },
  {
   "cell_type": "code",
   "execution_count": 17,
   "metadata": {
    "collapsed": false,
    "scrolled": true
   },
   "outputs": [
    {
     "name": "stdout",
     "output_type": "stream",
     "text": [
      "\n",
      "Dataset size read: train 256 and test 65 \n",
      "\n",
      "# Tuning hyper-parameters \n",
      "\n",
      "Starting grdsurch.fit(X_train, y_train)\n",
      "\n",
      "Best parameters set found on development set:\n",
      "\n",
      "{'alpha': 20.433597178569439, 'precompute': True}\n",
      "Lasso(alpha=20.433597178569439, copy_X=True, fit_intercept=True,\n",
      "   max_iter=10000000.0, normalize=False, positive=False, precompute=True,\n",
      "   random_state=None, selection='random', tol=1e-06, warm_start=False)\n",
      "\n",
      "【【】】adding new model for datasetIPPD.pickle \n",
      "\n",
      "【【【】】】newScore: 1025.086098 \n",
      "____________________________________________________________________________________________________\n"
     ]
    }
   ],
   "source": [
    "########################### Test Lasso with Scaling ###########################\n",
    "# the L1 and L2 regularizers of linear models) assume that all features are \n",
    "# centered around 0 and have variance in the same order\n",
    "t_lasso = wrapper([LassoCVModel])"
   ]
  },
  {
   "cell_type": "code",
   "execution_count": 18,
   "metadata": {
    "collapsed": false
   },
   "outputs": [
    {
     "name": "stdout",
     "output_type": "stream",
     "text": [
      "<function LassoCVModel at 0x7f563e1a1378>\n",
      "Lasso(alpha=20.433597178569439, copy_X=True, fit_intercept=True,\n",
      "   max_iter=10000000.0, normalize=False, positive=False, precompute=True,\n",
      "   random_state=None, selection='random', tol=1e-06, warm_start=False) \n",
      "\n",
      "\n",
      "\n",
      " 1025.08609776 880.826424842 1532.34615385\n",
      "____________________________________________________________________________________________________\n"
     ]
    }
   ],
   "source": [
    "for key in t_lasso.keys():\n",
    "    print(key)\n",
    "    print(t_lasso[key]['model'],'\\n\\n\\n\\n',\n",
    "          t_lasso[key]['train_rmse_cv_4_picking'],\n",
    "          t_lasso[key]['test_rmse_4_reporting'],\n",
    "          t_lasso[key]['test_mean_y_4_comparing']\n",
    "         )\n",
    "    print(100*'_')"
   ]
  },
  {
   "cell_type": "code",
   "execution_count": 64,
   "metadata": {
    "collapsed": false
   },
   "outputs": [
    {
     "name": "stdout",
     "output_type": "stream",
     "text": [
      "<function LassoCVModel at 0x7f563e1a1378>\n"
     ]
    }
   ],
   "source": [
    "import pickle \n",
    "\n",
    "# get the model\n",
    "for k in t_lasso.keys():\n",
    "    print(k)\n",
    "    mo = t_lasso[k]['model']\n",
    "\n",
    "# write the model to a file\n",
    "with open('4C4_lasso_tuned.pickle', 'wb') as handle:\n",
    "    pickle.dump(mo, handle, protocol=pickle.HIGHEST_PROTOCOL)"
   ]
  },
  {
   "cell_type": "markdown",
   "metadata": {},
   "source": [
    "<:>:<:>:<:>:<:>:<:>:<:>:<:>:<:>:<:>:<:>:<:>:<:>:<:>:<:>:<:><:>:<:>:<:>:<:>:<:>:<:>:<:>:<:>:<:>:<:>:<:>:<:>:<:>:<:>:<:>\n",
    "<:>:<:>:<:>:<:>:<:>:<:>:<:>:<:>:<:>:<:>:<:>:<:>:<:>:<:>:<:><:>:<:>:<:>:<:>:<:>:<:>:<:>:<:>:<:>:<:>:<:>:<:>:<:>:<:>:<:>\n",
    "<:>:<:>:<:>:<:>:<:>:<:>:<:>:<:>:<:>:<:>:<:>:<:>:<:>:<:>:<:><:>:<:>:<:>:<:>:<:>:<:>:<:>:<:>:<:>:<:>:<:>:<:>:<:>:<:>:<:>\n",
    "<:>:<:>:<:>:<:>:<:>:<:>:<:>:<:>:<:>:<:>:<:>:<:>:<:>:<:>:<:><:>:<:>:<:>:<:>:<:>:<:>:<:>:<:>:<:>:<:>:<:>:<:>:<:>:<:>:<:>\n"
   ]
  },
  {
   "cell_type": "markdown",
   "metadata": {},
   "source": [
    "# 2 OMPCVModel --OK"
   ]
  },
  {
   "cell_type": "code",
   "execution_count": 19,
   "metadata": {
    "collapsed": false
   },
   "outputs": [
    {
     "name": "stdout",
     "output_type": "stream",
     "text": [
      "\n",
      "Dataset size read: train 256 and test 65 \n",
      "\n",
      "# Tuning hyper-parameters \n",
      "\n",
      "Starting grdsurch.fit(X_train, y_train)\n"
     ]
    },
    {
     "name": "stderr",
     "output_type": "stream",
     "text": [
      "/data/home/a1singh/anaconda3/lib/python3.6/site-packages/sklearn/linear_model/omp.py:665: RuntimeWarning:  Orthogonal matching pursuit ended prematurely due to linear\n",
      "dependence in the dictionary. The requested precision might not have been met.\n",
      "\n",
      "  return_n_iter=True)\n",
      "/data/home/a1singh/anaconda3/lib/python3.6/site-packages/sklearn/linear_model/omp.py:665: RuntimeWarning:  Orthogonal matching pursuit ended prematurely due to linear\n",
      "dependence in the dictionary. The requested precision might not have been met.\n",
      "\n",
      "  return_n_iter=True)\n",
      "/data/home/a1singh/anaconda3/lib/python3.6/site-packages/sklearn/linear_model/omp.py:665: RuntimeWarning:  Orthogonal matching pursuit ended prematurely due to linear\n",
      "dependence in the dictionary. The requested precision might not have been met.\n",
      "\n",
      "  return_n_iter=True)\n",
      "/data/home/a1singh/anaconda3/lib/python3.6/site-packages/sklearn/linear_model/omp.py:665: RuntimeWarning:  Orthogonal matching pursuit ended prematurely due to linear\n",
      "dependence in the dictionary. The requested precision might not have been met.\n",
      "\n",
      "  return_n_iter=True)\n",
      "/data/home/a1singh/anaconda3/lib/python3.6/site-packages/sklearn/linear_model/omp.py:665: RuntimeWarning:  Orthogonal matching pursuit ended prematurely due to linear\n",
      "dependence in the dictionary. The requested precision might not have been met.\n",
      "\n",
      "  return_n_iter=True)\n",
      "/data/home/a1singh/anaconda3/lib/python3.6/site-packages/sklearn/linear_model/omp.py:665: RuntimeWarning:  Orthogonal matching pursuit ended prematurely due to linear\n",
      "dependence in the dictionary. The requested precision might not have been met.\n",
      "\n",
      "  return_n_iter=True)\n",
      "/data/home/a1singh/anaconda3/lib/python3.6/site-packages/sklearn/linear_model/omp.py:665: RuntimeWarning:  Orthogonal matching pursuit ended prematurely due to linear\n",
      "dependence in the dictionary. The requested precision might not have been met.\n",
      "\n",
      "  return_n_iter=True)\n",
      "/data/home/a1singh/anaconda3/lib/python3.6/site-packages/sklearn/linear_model/omp.py:665: RuntimeWarning:  Orthogonal matching pursuit ended prematurely due to linear\n",
      "dependence in the dictionary. The requested precision might not have been met.\n",
      "\n",
      "  return_n_iter=True)\n",
      "/data/home/a1singh/anaconda3/lib/python3.6/site-packages/sklearn/linear_model/omp.py:665: RuntimeWarning:  Orthogonal matching pursuit ended prematurely due to linear\n",
      "dependence in the dictionary. The requested precision might not have been met.\n",
      "\n",
      "  return_n_iter=True)\n",
      "/data/home/a1singh/anaconda3/lib/python3.6/site-packages/sklearn/linear_model/omp.py:665: RuntimeWarning:  Orthogonal matching pursuit ended prematurely due to linear\n",
      "dependence in the dictionary. The requested precision might not have been met.\n",
      "\n",
      "  return_n_iter=True)\n",
      "/data/home/a1singh/anaconda3/lib/python3.6/site-packages/sklearn/linear_model/omp.py:665: RuntimeWarning:  Orthogonal matching pursuit ended prematurely due to linear\n",
      "dependence in the dictionary. The requested precision might not have been met.\n",
      "\n",
      "  return_n_iter=True)\n",
      "/data/home/a1singh/anaconda3/lib/python3.6/site-packages/sklearn/linear_model/omp.py:665: RuntimeWarning:  Orthogonal matching pursuit ended prematurely due to linear\n",
      "dependence in the dictionary. The requested precision might not have been met.\n",
      "\n",
      "  return_n_iter=True)\n",
      "/data/home/a1singh/anaconda3/lib/python3.6/site-packages/sklearn/linear_model/omp.py:665: RuntimeWarning:  Orthogonal matching pursuit ended prematurely due to linear\n",
      "dependence in the dictionary. The requested precision might not have been met.\n",
      "\n",
      "  return_n_iter=True)\n",
      "/data/home/a1singh/anaconda3/lib/python3.6/site-packages/sklearn/linear_model/omp.py:665: RuntimeWarning:  Orthogonal matching pursuit ended prematurely due to linear\n",
      "dependence in the dictionary. The requested precision might not have been met.\n",
      "\n",
      "  return_n_iter=True)\n",
      "/data/home/a1singh/anaconda3/lib/python3.6/site-packages/sklearn/linear_model/omp.py:665: RuntimeWarning:  Orthogonal matching pursuit ended prematurely due to linear\n",
      "dependence in the dictionary. The requested precision might not have been met.\n",
      "\n",
      "  return_n_iter=True)\n",
      "/data/home/a1singh/anaconda3/lib/python3.6/site-packages/sklearn/linear_model/omp.py:665: RuntimeWarning:  Orthogonal matching pursuit ended prematurely due to linear\n",
      "dependence in the dictionary. The requested precision might not have been met.\n",
      "\n",
      "  return_n_iter=True)\n",
      "/data/home/a1singh/anaconda3/lib/python3.6/site-packages/sklearn/linear_model/omp.py:665: RuntimeWarning:  Orthogonal matching pursuit ended prematurely due to linear\n",
      "dependence in the dictionary. The requested precision might not have been met.\n",
      "\n",
      "  return_n_iter=True)\n",
      "/data/home/a1singh/anaconda3/lib/python3.6/site-packages/sklearn/linear_model/omp.py:665: RuntimeWarning:  Orthogonal matching pursuit ended prematurely due to linear\n",
      "dependence in the dictionary. The requested precision might not have been met.\n",
      "\n",
      "  return_n_iter=True)\n",
      "/data/home/a1singh/anaconda3/lib/python3.6/site-packages/sklearn/linear_model/omp.py:665: RuntimeWarning:  Orthogonal matching pursuit ended prematurely due to linear\n",
      "dependence in the dictionary. The requested precision might not have been met.\n",
      "\n",
      "  return_n_iter=True)\n",
      "/data/home/a1singh/anaconda3/lib/python3.6/site-packages/sklearn/linear_model/omp.py:665: RuntimeWarning:  Orthogonal matching pursuit ended prematurely due to linear\n",
      "dependence in the dictionary. The requested precision might not have been met.\n",
      "\n",
      "  return_n_iter=True)\n",
      "/data/home/a1singh/anaconda3/lib/python3.6/site-packages/sklearn/linear_model/omp.py:665: RuntimeWarning:  Orthogonal matching pursuit ended prematurely due to linear\n",
      "dependence in the dictionary. The requested precision might not have been met.\n",
      "\n",
      "  return_n_iter=True)\n",
      "/data/home/a1singh/anaconda3/lib/python3.6/site-packages/sklearn/linear_model/omp.py:665: RuntimeWarning:  Orthogonal matching pursuit ended prematurely due to linear\n",
      "dependence in the dictionary. The requested precision might not have been met.\n",
      "\n",
      "  return_n_iter=True)\n",
      "/data/home/a1singh/anaconda3/lib/python3.6/site-packages/sklearn/linear_model/omp.py:665: RuntimeWarning:  Orthogonal matching pursuit ended prematurely due to linear\n",
      "dependence in the dictionary. The requested precision might not have been met.\n",
      "\n",
      "  return_n_iter=True)\n",
      "/data/home/a1singh/anaconda3/lib/python3.6/site-packages/sklearn/linear_model/omp.py:665: RuntimeWarning:  Orthogonal matching pursuit ended prematurely due to linear\n",
      "dependence in the dictionary. The requested precision might not have been met.\n",
      "\n",
      "  return_n_iter=True)\n",
      "/data/home/a1singh/anaconda3/lib/python3.6/site-packages/sklearn/linear_model/omp.py:665: RuntimeWarning:  Orthogonal matching pursuit ended prematurely due to linear\n",
      "dependence in the dictionary. The requested precision might not have been met.\n",
      "\n",
      "  return_n_iter=True)\n",
      "/data/home/a1singh/anaconda3/lib/python3.6/site-packages/sklearn/linear_model/omp.py:665: RuntimeWarning:  Orthogonal matching pursuit ended prematurely due to linear\n",
      "dependence in the dictionary. The requested precision might not have been met.\n",
      "\n",
      "  return_n_iter=True)\n",
      "/data/home/a1singh/anaconda3/lib/python3.6/site-packages/sklearn/linear_model/omp.py:665: RuntimeWarning:  Orthogonal matching pursuit ended prematurely due to linear\n",
      "dependence in the dictionary. The requested precision might not have been met.\n",
      "\n",
      "  return_n_iter=True)\n",
      "/data/home/a1singh/anaconda3/lib/python3.6/site-packages/sklearn/linear_model/omp.py:665: RuntimeWarning:  Orthogonal matching pursuit ended prematurely due to linear\n",
      "dependence in the dictionary. The requested precision might not have been met.\n",
      "\n",
      "  return_n_iter=True)\n",
      "/data/home/a1singh/anaconda3/lib/python3.6/site-packages/sklearn/linear_model/omp.py:665: RuntimeWarning:  Orthogonal matching pursuit ended prematurely due to linear\n",
      "dependence in the dictionary. The requested precision might not have been met.\n",
      "\n",
      "  return_n_iter=True)\n",
      "/data/home/a1singh/anaconda3/lib/python3.6/site-packages/sklearn/linear_model/omp.py:665: RuntimeWarning:  Orthogonal matching pursuit ended prematurely due to linear\n",
      "dependence in the dictionary. The requested precision might not have been met.\n",
      "\n",
      "  return_n_iter=True)\n",
      "/data/home/a1singh/anaconda3/lib/python3.6/site-packages/sklearn/linear_model/omp.py:665: RuntimeWarning:  Orthogonal matching pursuit ended prematurely due to linear\n",
      "dependence in the dictionary. The requested precision might not have been met.\n",
      "\n",
      "  return_n_iter=True)\n",
      "/data/home/a1singh/anaconda3/lib/python3.6/site-packages/sklearn/linear_model/omp.py:665: RuntimeWarning:  Orthogonal matching pursuit ended prematurely due to linear\n",
      "dependence in the dictionary. The requested precision might not have been met.\n",
      "\n",
      "  return_n_iter=True)\n",
      "/data/home/a1singh/anaconda3/lib/python3.6/site-packages/sklearn/linear_model/omp.py:665: RuntimeWarning:  Orthogonal matching pursuit ended prematurely due to linear\n",
      "dependence in the dictionary. The requested precision might not have been met.\n",
      "\n",
      "  return_n_iter=True)\n",
      "/data/home/a1singh/anaconda3/lib/python3.6/site-packages/sklearn/linear_model/omp.py:665: RuntimeWarning:  Orthogonal matching pursuit ended prematurely due to linear\n",
      "dependence in the dictionary. The requested precision might not have been met.\n",
      "\n",
      "  return_n_iter=True)\n",
      "/data/home/a1singh/anaconda3/lib/python3.6/site-packages/sklearn/linear_model/omp.py:665: RuntimeWarning:  Orthogonal matching pursuit ended prematurely due to linear\n",
      "dependence in the dictionary. The requested precision might not have been met.\n",
      "\n",
      "  return_n_iter=True)\n",
      "/data/home/a1singh/anaconda3/lib/python3.6/site-packages/sklearn/linear_model/omp.py:665: RuntimeWarning:  Orthogonal matching pursuit ended prematurely due to linear\n",
      "dependence in the dictionary. The requested precision might not have been met.\n",
      "\n",
      "  return_n_iter=True)\n"
     ]
    },
    {
     "name": "stdout",
     "output_type": "stream",
     "text": [
      "\n",
      "Best parameters set found on development set:\n",
      "\n",
      "{'n_nonzero_coefs': 3, 'tol': 1e-20}\n",
      "OrthogonalMatchingPursuit(fit_intercept=True, n_nonzero_coefs=3,\n",
      "             normalize=True, precompute='auto', tol=1e-20)\n",
      "\n",
      "【【】】adding new model for datasetIPPD.pickle \n",
      "\n",
      "【【【】】】newScore: 445.063184 \n",
      "____________________________________________________________________________________________________\n"
     ]
    },
    {
     "name": "stderr",
     "output_type": "stream",
     "text": [
      "/data/home/a1singh/anaconda3/lib/python3.6/site-packages/sklearn/linear_model/omp.py:665: RuntimeWarning:  Orthogonal matching pursuit ended prematurely due to linear\n",
      "dependence in the dictionary. The requested precision might not have been met.\n",
      "\n",
      "  return_n_iter=True)\n"
     ]
    }
   ],
   "source": [
    "t_OMPC = wrapper([OMPCVModel])"
   ]
  },
  {
   "cell_type": "code",
   "execution_count": 20,
   "metadata": {
    "collapsed": false
   },
   "outputs": [
    {
     "name": "stdout",
     "output_type": "stream",
     "text": [
      "<function OMPCVModel at 0x7f563e1a1400>\n",
      "OrthogonalMatchingPursuit(fit_intercept=True, n_nonzero_coefs=3,\n",
      "             normalize=True, precompute='auto', tol=1e-20) \n",
      "\n",
      "\n",
      " 445.063183594 354.963614472 1532.34615385\n",
      "____________________________________________________________________________________________________\n"
     ]
    }
   ],
   "source": [
    "for key in t_OMPC.keys():\n",
    "    print(key)\n",
    "    omp_mo = t_OMPC[key]['model']\n",
    "    print(t_OMPC[key]['model'],'\\n\\n\\n',\n",
    "          t_OMPC[key]['train_rmse_cv_4_picking'],\n",
    "          t_OMPC[key]['test_rmse_4_reporting'],\n",
    "          t_OMPC[key]['test_mean_y_4_comparing']\n",
    "         )\n",
    "\n",
    "    print(100*'_')"
   ]
  },
  {
   "cell_type": "code",
   "execution_count": 65,
   "metadata": {
    "collapsed": false
   },
   "outputs": [
    {
     "name": "stdout",
     "output_type": "stream",
     "text": [
      "<function OMPCVModel at 0x7f563e1a1400>\n"
     ]
    }
   ],
   "source": [
    "# get the model\n",
    "for k in t_OMPC.keys():\n",
    "    print(k)\n",
    "    mo = t_OMPC[k]['model']\n",
    "\n",
    "# write the model to a file\n",
    "with open('4C4_OMPC_tuned.pickle', 'wb') as handle:\n",
    "    pickle.dump(mo, handle, protocol=pickle.HIGHEST_PROTOCOL)"
   ]
  },
  {
   "cell_type": "markdown",
   "metadata": {
    "collapsed": true
   },
   "source": [
    "#>>>>>>>>>>>\n"
   ]
  },
  {
   "cell_type": "markdown",
   "metadata": {},
   "source": [
    "# OMP Final\n",
    "\n",
    "OrthogonalMatchingPursuit(fit_intercept=True, n_nonzero_coefs=3,\n",
    "             normalize=True, precompute='auto', tol=1e-20) \n",
    "\n",
    "\n",
    " 445.063183594 354.963614472 1532.34615385"
   ]
  },
  {
   "cell_type": "code",
   "execution_count": 21,
   "metadata": {
    "collapsed": false
   },
   "outputs": [
    {
     "name": "stdout",
     "output_type": "stream",
     "text": [
      "3\n",
      "\n",
      "[(302.3673068598909, 'sizeGB'), (98.0619727553009, 'ft39'), (3.3961833980045406, 'ppn'), (0.49317894769754, 'ft51'), (0.0, 'ft9'), (0.0, 'ft8'), (0.0, 'ft7'), (0.0, 'ft6'), (0.0, 'ft55'), (0.0, 'ft54'), (0.0, 'ft53'), (0.0, 'ft52'), (0.0, 'ft50'), (0.0, 'ft5'), (0.0, 'ft49'), (0.0, 'ft48'), (0.0, 'ft47'), (0.0, 'ft46'), (0.0, 'ft45'), (0.0, 'ft44'), (0.0, 'ft43'), (0.0, 'ft42'), (0.0, 'ft41'), (0.0, 'ft4'), (0.0, 'ft38'), (0.0, 'ft37'), (0.0, 'ft36'), (0.0, 'ft35'), (0.0, 'ft34'), (0.0, 'ft33'), (0.0, 'ft32'), (0.0, 'ft31'), (0.0, 'ft30'), (0.0, 'ft3'), (0.0, 'ft29'), (0.0, 'ft28'), (0.0, 'ft27'), (0.0, 'ft26'), (0.0, 'ft25'), (0.0, 'ft24'), (0.0, 'ft23'), (0.0, 'ft22'), (0.0, 'ft21'), (0.0, 'ft20'), (0.0, 'ft2'), (0.0, 'ft19'), (0.0, 'ft18'), (0.0, 'ft17'), (0.0, 'ft16'), (0.0, 'ft15'), (0.0, 'ft14'), (0.0, 'ft13'), (0.0, 'ft12'), (0.0, 'ft11'), (0.0, 'ft10'), (0.0, 'ft1'), (-4.4203725761317223, 'ft40')]\n"
     ]
    }
   ],
   "source": [
    "print(omp_mo.n_nonzero_coefs_)\n",
    "print()\n",
    "print(sorted(zip(map(lambda x: x, omp_mo.coef_), \n",
    "                 names), reverse=True))"
   ]
  },
  {
   "cell_type": "markdown",
   "metadata": {
    "collapsed": true
   },
   "source": [
    "#>>>>>>>>>>>\n"
   ]
  },
  {
   "cell_type": "markdown",
   "metadata": {},
   "source": [
    "# Final Model : OMPC\n",
    "\n",
    "function OMPCVModel at 0x7f4f23fe96a8>\n",
    "OrthogonalMatchingPursuit(fit_intercept=True, n_nonzero_coefs=3,\n",
    "             normalize=True, precompute='auto', tol=1e-20) \n",
    "\n",
    "\n",
    " 445.063183594 354.963614472 1532.34615385"
   ]
  },
  {
   "cell_type": "markdown",
   "metadata": {},
   "source": [
    "# 3 GradientBoostingCVModel -- OK"
   ]
  },
  {
   "cell_type": "code",
   "execution_count": 22,
   "metadata": {
    "collapsed": false,
    "scrolled": false
   },
   "outputs": [
    {
     "name": "stdout",
     "output_type": "stream",
     "text": [
      "\n",
      "Dataset size read: train 256 and test 65 \n",
      "\n",
      "# Tuning hyper-parameters \n",
      "\n",
      "Starting grdsurch.fit(X_train, y_train)\n",
      "\n",
      "Best parameters set found on development set:\n",
      "\n",
      "{'learning_rate': 0.005, 'loss': 'ls', 'n_estimators': 6000}\n",
      "GradientBoostingRegressor(alpha=0.9, criterion='friedman_mse', init=None,\n",
      "             learning_rate=0.005, loss='ls', max_depth=None,\n",
      "             max_features=None, max_leaf_nodes=None,\n",
      "             min_impurity_split=1e-07, min_samples_leaf=1,\n",
      "             min_samples_split=2, min_weight_fraction_leaf=0.0,\n",
      "             n_estimators=6000, presort='auto', random_state=None,\n",
      "             subsample=1.0, verbose=0, warm_start=False)\n",
      "\n",
      "【【】】adding new model for datasetIPPD.pickle \n",
      "\n",
      "【【【】】】newScore: 421.478963 \n",
      "____________________________________________________________________________________________________\n"
     ]
    }
   ],
   "source": [
    "t_boosting = wrapper([GradientBoostingCVModel])"
   ]
  },
  {
   "cell_type": "code",
   "execution_count": 84,
   "metadata": {
    "collapsed": false
   },
   "outputs": [
    {
     "name": "stdout",
     "output_type": "stream",
     "text": [
      "<function GradientBoostingCVModel at 0x7f563e1a1488>\n",
      "GradientBoostingRegressor(alpha=0.9, criterion='friedman_mse', init=None,\n",
      "             learning_rate=0.005, loss='ls', max_depth=None,\n",
      "             max_features=None, max_leaf_nodes=None,\n",
      "             min_impurity_split=1e-07, min_samples_leaf=1,\n",
      "             min_samples_split=2, min_weight_fraction_leaf=0.0,\n",
      "             n_estimators=6000, presort='auto', random_state=None,\n",
      "             subsample=1.0, verbose=0, warm_start=False) \n",
      "\n",
      "\n",
      " 421.478963461 342.771761754 1532.34615385\n",
      "____________________________________________________________________________________________________\n"
     ]
    }
   ],
   "source": [
    "for key in t_boosting.keys():\n",
    "    print(key)\n",
    "    print(\n",
    "          t_boosting[key]['model'],'\\n\\n\\n',\n",
    "          t_boosting[key]['train_rmse_cv_4_picking'],\n",
    "          t_boosting[key]['test_rmse_4_reporting'],\n",
    "          t_boosting[key]['test_mean_y_4_comparing']\n",
    "         )\n",
    "    print(100*'_')"
   ]
  },
  {
   "cell_type": "code",
   "execution_count": 83,
   "metadata": {
    "collapsed": false
   },
   "outputs": [
    {
     "name": "stdout",
     "output_type": "stream",
     "text": [
      "A   || model : GradientBo\n",
      "A   || test_rmse_reporting: 99.034277\n",
      "A   || test_mean_y_comparing: 117.836000\n",
      "\n",
      "B   || model : GradientBo\n",
      "B   || test_rmse_reporting: 2091.025469\n",
      "B   || test_mean_y_comparing: 2189.093846\n",
      "\n",
      "C   || model : GradientBo\n",
      "C   || test_rmse_reporting: 1700.962307\n",
      "C   || test_mean_y_comparing: 1703.226087\n",
      "\n",
      "D   || model : GradientBo\n",
      "D   || test_rmse_reporting: 1591.230073\n",
      "D   || test_mean_y_comparing: 1307.537500\n",
      "\n",
      "Full Test Set   || model : GradientBo\n",
      "Full Test Set   || test_rmse_reporting: 1591.230073\n",
      "Full Test Set   || test_mean_y_comparing: 1532.346154\n",
      "\n"
     ]
    }
   ],
   "source": [
    "model = t_boosting[key]['model']\n",
    "\n",
    "#A\n",
    "which = 'A'\n",
    "X = X_A\n",
    "y = y_A\n",
    "######################################################################\n",
    "reporting_testscore = rmse_scorer(model, X, y)\n",
    "\n",
    "print('%s   || model : %s' % (which,str(model)[:10]))\n",
    "print('%s   || test_rmse_reporting: %f' % (which,reporting_testscore))\n",
    "print('%s   || test_mean_y_comparing: %f' % (which, y.mean()))\n",
    "print()\n",
    "\n",
    "#B\n",
    "which = 'B'\n",
    "X = X_B\n",
    "y = y_B\n",
    "######################################################################\n",
    "reporting_testscore = rmse_scorer(model, X, y)\n",
    "\n",
    "print('%s   || model : %s' % (which,str(model)[:10]))\n",
    "print('%s   || test_rmse_reporting: %f' % (which,reporting_testscore))\n",
    "print('%s   || test_mean_y_comparing: %f' % (which, y.mean()))\n",
    "print()\n",
    "\n",
    "#C\n",
    "which = 'C'\n",
    "X = X_C\n",
    "y = y_C\n",
    "######################################################################\n",
    "reporting_testscore = rmse_scorer(model, X, y)\n",
    "\n",
    "print('%s   || model : %s' % (which,str(model)[:10]))\n",
    "print('%s   || test_rmse_reporting: %f' % (which,reporting_testscore))\n",
    "print('%s   || test_mean_y_comparing: %f' % (which, y.mean()))\n",
    "print()\n",
    "\n",
    "#D\n",
    "which = 'D'\n",
    "X = X_D\n",
    "y = y_D\n",
    "######################################################################\n",
    "reporting_testscore = rmse_scorer(model, X_test, y_test)\n",
    "\n",
    "print('%s   || model : %s' % (which,str(model)[:10]))\n",
    "print('%s   || test_rmse_reporting: %f' % (which,reporting_testscore))\n",
    "print('%s   || test_mean_y_comparing: %f' % (which, y.mean()))\n",
    "print()\n",
    "\n",
    "#Full Test Set\n",
    "which = 'Full Test Set'\n",
    "X = X_test\n",
    "y = y_test\n",
    "######################################################################\n",
    "reporting_testscore = rmse_scorer(model, X, y)\n",
    "\n",
    "print('%s   || model : %s' % (which,str(model)[:10]))\n",
    "print('%s   || test_rmse_reporting: %f' % (which,reporting_testscore))\n",
    "print('%s   || test_mean_y_comparing: %f' % (which, y.mean()))\n",
    "print()"
   ]
  },
  {
   "cell_type": "code",
   "execution_count": 73,
   "metadata": {
    "collapsed": false
   },
   "outputs": [
    {
     "name": "stdout",
     "output_type": "stream",
     "text": [
      "<function GradientBoostingCVModel at 0x7f563e1a1488>\n"
     ]
    }
   ],
   "source": [
    "# get the model\n",
    "for k in t_boosting.keys():\n",
    "    print(k)\n",
    "    mo = t_boosting[k]['model']\n",
    "\n",
    "# write the model to a file\n",
    "with open('4C4_boosting_tuned.pickle', 'wb') as handle:\n",
    "    pickle.dump(mo, handle)"
   ]
  },
  {
   "cell_type": "markdown",
   "metadata": {
    "collapsed": true
   },
   "source": [
    "#>>>>>>>>>>>\n"
   ]
  },
  {
   "cell_type": "markdown",
   "metadata": {},
   "source": [
    "# Final Model : Boosting\n",
    "\n",
    "\n",
    "<function GradientBoostingCVModel at 0x7f4f23fe9730>\n",
    "GradientBoostingRegressor(alpha=0.9, criterion='friedman_mse', init=None,\n",
    "             learning_rate=0.005, loss='ls', max_depth=None,\n",
    "             max_features=None, max_leaf_nodes=None,\n",
    "             min_impurity_split=1e-07, min_samples_leaf=1,\n",
    "             min_samples_split=2, min_weight_fraction_leaf=0.0,\n",
    "             n_estimators=6000, presort='auto', random_state=None,\n",
    "             subsample=1.0, verbose=0, warm_start=False) \n",
    "\n",
    "\n",
    " 421.20889837 342.771761754 1532.34615385"
   ]
  },
  {
   "cell_type": "markdown",
   "metadata": {},
   "source": [
    "<:>:<:>:<:>:<:>:<:>:<:>:<:>:<:>:<:>:<:>:<:>:<:>:<:>:<:>:<:><:>:<:>:<:>:<:>:<:>:<:>:<:>:<:>:<:>:<:>:<:>:<:>:<:>:<:>:<:>\n",
    "<:>:<:>:<:>:<:>:<:>:<:>:<:>:<:>:<:>:<:>:<:>:<:>:<:>:<:>:<:><:>:<:>:<:>:<:>:<:>:<:>:<:>:<:>:<:>:<:>:<:>:<:>:<:>:<:>:<:>\n",
    "<:>:<:>:<:>:<:>:<:>:<:>:<:>:<:>:<:>:<:>:<:>:<:>:<:>:<:>:<:><:>:<:>:<:>:<:>:<:>:<:>:<:>:<:>:<:>:<:>:<:>:<:>:<:>:<:>:<:>\n",
    "<:>:<:>:<:>:<:>:<:>:<:>:<:>:<:>:<:>:<:>:<:>:<:>:<:>:<:>:<:><:>:<:>:<:>:<:>:<:>:<:>:<:>:<:>:<:>:<:>:<:>:<:>:<:>:<:>:<:>\n"
   ]
  },
  {
   "cell_type": "markdown",
   "metadata": {},
   "source": [
    "# 4 Random Forest"
   ]
  },
  {
   "cell_type": "code",
   "execution_count": 125,
   "metadata": {
    "collapsed": false,
    "scrolled": false
   },
   "outputs": [
    {
     "name": "stdout",
     "output_type": "stream",
     "text": [
      "\n",
      "Dataset size read: train 160 and test 161 \n",
      "\n",
      "# Tuning hyper-parameters \n",
      "\n",
      "Starting grdsurch.fit(X_train, y_train)\n",
      "\n",
      "Best parameters set found on development set:\n",
      "\n",
      "{'n_estimators': 2000}\n",
      "RandomForestRegressor(bootstrap=True, criterion='mse', max_depth=6,\n",
      "           max_features='auto', max_leaf_nodes=None,\n",
      "           min_impurity_split=1e-07, min_samples_leaf=1,\n",
      "           min_samples_split=2, min_weight_fraction_leaf=0.0,\n",
      "           n_estimators=2000, n_jobs=-1, oob_score=True, random_state=None,\n",
      "           verbose=0, warm_start=False)\n",
      "\n",
      "Full Test Set: 161\n"
     ]
    },
    {
     "data": {
      "text/plain": [
       "array([ 2087.18,  1333.76,   164.88,   216.71,  2543.24,   692.62,\n",
       "          97.83,   813.15,    68.75,   323.21,  2441.62,  1623.2 ,\n",
       "        3450.94,  4234.26,  2684.27,  3344.01,   323.32,  2436.08,\n",
       "        1141.32,   747.33,   121.17,  1616.34,  1627.26,  2659.86,\n",
       "         218.82,   164.02,  2661.74,  1879.75,  2828.23,    21.8 ,\n",
       "        2397.91,   996.42,  2470.53,  1634.05,  1688.66,  1593.28,\n",
       "         998.83,  1628.58,   823.05,  1083.5 ,   639.5 ,  1632.23,\n",
       "        2771.25,  2306.07,   216.12,  2271.12,   203.98,  3192.92,\n",
       "         720.7 ,   801.59,   998.65,  2262.51,  1458.18,  1583.26,\n",
       "         142.07,  1018.55,  1808.07,  3077.01,  2125.54,   503.45,\n",
       "        2681.79,  1740.7 ,  1732.64,  1467.65,  1728.17,  1637.05,\n",
       "        1688.15,  1447.46,  2314.1 ,  2129.21,  2201.04,  1870.14,\n",
       "        3336.48,   166.8 ,   644.52,  2674.81,  1087.87,   462.06,\n",
       "        1895.33,  1036.27,  3444.3 ,  1722.37,  2511.62,  2453.84,\n",
       "        2940.97,  1621.36,  2308.37,  1620.72,   204.44,  1801.74,\n",
       "        1393.36,    21.58,  1001.19,  1857.77,  1139.61,  1323.62,\n",
       "         691.73,  3143.72,  1320.38,  2486.13,   814.27,  2213.16,\n",
       "         120.44,  2106.02,  2451.8 ,  3621.04,  3090.73,  3085.44,\n",
       "          45.94,  1929.21,  1037.18,  1799.43,  2376.19,  2127.71,\n",
       "        1944.16,  2461.26,  1364.75,  2396.68,  1470.8 ,   748.82,\n",
       "        1365.13,   299.12,   297.21,  2142.12,  3040.59,    97.49,\n",
       "          45.82,  1472.6 ,  1471.89,  2877.71,   214.64,  1861.97,\n",
       "        2024.25,   216.58,   504.63,  2270.37,  1146.09,   801.4 ,\n",
       "        3359.25,  2762.97,  2084.72,   746.49,  1080.  ,  2210.97,\n",
       "        1469.66,   503.73,  3049.37,   120.67,  2769.22,  1869.08,\n",
       "         460.82,  2293.62,   697.69,  2184.34,  2746.73,  1134.68,\n",
       "        3309.8 ,  1467.78,    98.42,   321.59,  1423.13])"
      ]
     },
     "metadata": {},
     "output_type": "display_data"
    },
    {
     "data": {
      "text/plain": [
       "array([ 1348.51406618,  1362.87572547,  1348.51406618,  1362.87572547,\n",
       "        1348.51406618,  1348.51406618,  1348.51406618,  1362.87572547,\n",
       "        1348.51406618,  1348.51406618,  1348.51406618,  1351.06388118,\n",
       "        1351.06388118,  1351.06388118,  1348.51406618,  1351.06388118,\n",
       "        1348.51406618,  1362.87572547,  1362.87572547,  1362.87572547,\n",
       "        1348.51406618,  1351.06388118,  1362.87572547,  1348.51406618,\n",
       "        1362.87572547,  1348.51406618,  1351.06388118,  1348.51406618,\n",
       "        1348.51406618,  1348.51406618,  1351.06388118,  1348.51406618,\n",
       "        1362.87572547,  1362.87572547,  1348.51406618,  1351.06388118,\n",
       "        1348.51406618,  1362.87572547,  1362.87572547,  1348.51406618,\n",
       "        1348.51406618,  1351.06388118,  1348.51406618,  1351.06388118,\n",
       "        1362.87572547,  1348.51406618,  1348.51406618,  1351.06388118,\n",
       "        1362.87572547,  1362.87572547,  1348.51406618,  1362.87572547,\n",
       "        1348.51406618,  1351.06388118,  1348.51406618,  1362.87572547,\n",
       "        1362.87572547,  1351.06388118,  1362.87572547,  1362.87572547,\n",
       "        1348.51406618,  1351.06388118,  1351.06388118,  1362.87572547,\n",
       "        1348.51406618,  1362.87572547,  1348.51406618,  1351.06388118,\n",
       "        1351.06388118,  1362.87572547,  1351.06388118,  1348.51406618,\n",
       "        1351.06388118,  1348.51406618,  1348.51406618,  1348.51406618,\n",
       "        1348.51406618,  1362.87572547,  1351.06388118,  1362.87572547,\n",
       "        1351.06388118,  1348.51406618,  1351.06388118,  1362.87572547,\n",
       "        1351.06388118,  1351.06388118,  1351.06388118,  1351.06388118,\n",
       "        1348.51406618,  1362.87572547,  1351.06388118,  1348.51406618,\n",
       "        1348.51406618,  1348.51406618,  1362.87572547,  1351.06388118,\n",
       "        1348.51406618,  1348.51406618,  1351.06388118,  1351.06388118,\n",
       "        1362.87572547,  1351.06388118,  1348.51406618,  1362.87572547,\n",
       "        1348.51406618,  1348.51406618,  1348.51406618,  1348.51406618,\n",
       "        1348.51406618,  1362.87572547,  1362.87572547,  1362.87572547,\n",
       "        1351.06388118,  1362.87572547,  1362.87572547,  1351.06388118,\n",
       "        1348.51406618,  1351.06388118,  1348.51406618,  1362.87572547,\n",
       "        1348.51406618,  1348.51406618,  1348.51406618,  1362.87572547,\n",
       "        1351.06388118,  1348.51406618,  1348.51406618,  1348.51406618,\n",
       "        1362.87572547,  1351.06388118,  1362.87572547,  1351.06388118,\n",
       "        1351.06388118,  1362.87572547,  1362.87572547,  1348.51406618,\n",
       "        1362.87572547,  1362.87572547,  1351.06388118,  1351.06388118,\n",
       "        1348.51406618,  1362.87572547,  1348.51406618,  1351.06388118,\n",
       "        1362.87572547,  1362.87572547,  1351.06388118,  1348.51406618,\n",
       "        1351.06388118,  1348.51406618,  1362.87572547,  1351.06388118,\n",
       "        1348.51406618,  1351.06388118,  1351.06388118,  1362.87572547,\n",
       "        1351.06388118,  1362.87572547,  1348.51406618,  1348.51406618,\n",
       "        1351.06388118])"
      ]
     },
     "metadata": {},
     "output_type": "display_data"
    },
    {
     "name": "stdout",
     "output_type": "stream",
     "text": [
      "A: 17\n"
     ]
    },
    {
     "data": {
      "text/plain": [
       "array([ 164.88,   97.83,   68.75,  121.17,  164.02,   21.8 ,  203.98,\n",
       "        142.07,  166.8 ,  204.44,   21.58,  120.44,   45.94,   97.49,\n",
       "         45.82,  120.67,   98.42])"
      ]
     },
     "metadata": {},
     "output_type": "display_data"
    },
    {
     "data": {
      "text/plain": [
       "array([ 1348.51406618,  1348.51406618,  1348.51406618,  1348.51406618,\n",
       "        1348.51406618,  1348.51406618,  1348.51406618,  1348.51406618,\n",
       "        1348.51406618,  1348.51406618,  1348.51406618,  1348.51406618,\n",
       "        1348.51406618,  1348.51406618,  1348.51406618,  1348.51406618,\n",
       "        1348.51406618])"
      ]
     },
     "metadata": {},
     "output_type": "display_data"
    },
    {
     "name": "stdout",
     "output_type": "stream",
     "text": [
      "B: 48\n"
     ]
    },
    {
     "data": {
      "text/plain": [
       "array([ 1623.2 ,  3450.94,  4234.26,  3344.01,  1616.34,  2661.74,\n",
       "        2397.91,  1593.28,  1632.23,  2306.07,  3192.92,  1583.26,\n",
       "        3077.01,  1740.7 ,  1732.64,  1447.46,  2314.1 ,  2201.04,\n",
       "        3336.48,  1895.33,  3444.3 ,  2511.62,  2940.97,  1621.36,\n",
       "        2308.37,  1620.72,  1393.36,  1323.62,  1320.38,  2486.13,\n",
       "        2213.16,  2376.19,  2461.26,  2396.68,  3040.59,  2877.71,\n",
       "        1861.97,  2024.25,  3359.25,  2762.97,  2210.97,  3049.37,\n",
       "        2769.22,  2293.62,  2184.34,  2746.73,  3309.8 ,  1423.13])"
      ]
     },
     "metadata": {},
     "output_type": "display_data"
    },
    {
     "data": {
      "text/plain": [
       "array([ 1351.06388118,  1351.06388118,  1351.06388118,  1351.06388118,\n",
       "        1351.06388118,  1351.06388118,  1351.06388118,  1351.06388118,\n",
       "        1351.06388118,  1351.06388118,  1351.06388118,  1351.06388118,\n",
       "        1351.06388118,  1351.06388118,  1351.06388118,  1351.06388118,\n",
       "        1351.06388118,  1351.06388118,  1351.06388118,  1351.06388118,\n",
       "        1351.06388118,  1351.06388118,  1351.06388118,  1351.06388118,\n",
       "        1351.06388118,  1351.06388118,  1351.06388118,  1351.06388118,\n",
       "        1351.06388118,  1351.06388118,  1351.06388118,  1351.06388118,\n",
       "        1351.06388118,  1351.06388118,  1351.06388118,  1351.06388118,\n",
       "        1351.06388118,  1351.06388118,  1351.06388118,  1351.06388118,\n",
       "        1351.06388118,  1351.06388118,  1351.06388118,  1351.06388118,\n",
       "        1351.06388118,  1351.06388118,  1351.06388118,  1351.06388118])"
      ]
     },
     "metadata": {},
     "output_type": "display_data"
    },
    {
     "name": "stdout",
     "output_type": "stream",
     "text": [
      "C: 47\n"
     ]
    },
    {
     "data": {
      "text/plain": [
       "array([ 2087.18,  2543.24,   692.62,   323.21,  2441.62,  2684.27,\n",
       "         323.32,  2659.86,  1879.75,  2828.23,   996.42,  1688.66,\n",
       "         998.83,  1083.5 ,   639.5 ,  2771.25,  2271.12,   998.65,\n",
       "        1458.18,  2681.79,  1728.17,  1688.15,  1870.14,   644.52,\n",
       "        2674.81,  1087.87,  1722.37,  1001.19,  1857.77,   691.73,\n",
       "        3143.72,  2451.8 ,  3621.04,  3090.73,  3085.44,  1364.75,\n",
       "        1470.8 ,  1365.13,   299.12,   297.21,  1472.6 ,  2270.37,\n",
       "        2084.72,  1080.  ,  1869.08,   697.69,   321.59])"
      ]
     },
     "metadata": {},
     "output_type": "display_data"
    },
    {
     "data": {
      "text/plain": [
       "array([ 1348.51406618,  1348.51406618,  1348.51406618,  1348.51406618,\n",
       "        1348.51406618,  1348.51406618,  1348.51406618,  1348.51406618,\n",
       "        1348.51406618,  1348.51406618,  1348.51406618,  1348.51406618,\n",
       "        1348.51406618,  1348.51406618,  1348.51406618,  1348.51406618,\n",
       "        1348.51406618,  1348.51406618,  1348.51406618,  1348.51406618,\n",
       "        1348.51406618,  1348.51406618,  1348.51406618,  1348.51406618,\n",
       "        1348.51406618,  1348.51406618,  1348.51406618,  1348.51406618,\n",
       "        1348.51406618,  1348.51406618,  1348.51406618,  1348.51406618,\n",
       "        1348.51406618,  1348.51406618,  1348.51406618,  1348.51406618,\n",
       "        1348.51406618,  1348.51406618,  1348.51406618,  1348.51406618,\n",
       "        1348.51406618,  1348.51406618,  1348.51406618,  1348.51406618,\n",
       "        1348.51406618,  1348.51406618,  1348.51406618])"
      ]
     },
     "metadata": {},
     "output_type": "display_data"
    },
    {
     "name": "stdout",
     "output_type": "stream",
     "text": [
      "D: 49\n"
     ]
    },
    {
     "data": {
      "text/plain": [
       "array([ 1333.76,   216.71,   813.15,  2436.08,  1141.32,   747.33,\n",
       "        1627.26,   218.82,  2470.53,  1634.05,  1628.58,   823.05,\n",
       "         216.12,   720.7 ,   801.59,  2262.51,  1018.55,  1808.07,\n",
       "        2125.54,   503.45,  1467.65,  1637.05,  2129.21,   462.06,\n",
       "        1036.27,  2453.84,  1801.74,  1139.61,   814.27,  2106.02,\n",
       "        1929.21,  1037.18,  1799.43,  2127.71,  1944.16,   748.82,\n",
       "        2142.12,  1471.89,   214.64,   216.58,   504.63,  1146.09,\n",
       "         801.4 ,   746.49,  1469.66,   503.73,   460.82,  1134.68,  1467.78])"
      ]
     },
     "metadata": {},
     "output_type": "display_data"
    },
    {
     "data": {
      "text/plain": [
       "array([ 1362.87572547,  1362.87572547,  1362.87572547,  1362.87572547,\n",
       "        1362.87572547,  1362.87572547,  1362.87572547,  1362.87572547,\n",
       "        1362.87572547,  1362.87572547,  1362.87572547,  1362.87572547,\n",
       "        1362.87572547,  1362.87572547,  1362.87572547,  1362.87572547,\n",
       "        1362.87572547,  1362.87572547,  1362.87572547,  1362.87572547,\n",
       "        1362.87572547,  1362.87572547,  1362.87572547,  1362.87572547,\n",
       "        1362.87572547,  1362.87572547,  1362.87572547,  1362.87572547,\n",
       "        1362.87572547,  1362.87572547,  1362.87572547,  1362.87572547,\n",
       "        1362.87572547,  1362.87572547,  1362.87572547,  1362.87572547,\n",
       "        1362.87572547,  1362.87572547,  1362.87572547,  1362.87572547,\n",
       "        1362.87572547,  1362.87572547,  1362.87572547,  1362.87572547,\n",
       "        1362.87572547,  1362.87572547,  1362.87572547,  1362.87572547,\n",
       "        1362.87572547])"
      ]
     },
     "metadata": {},
     "output_type": "display_data"
    },
    {
     "name": "stdout",
     "output_type": "stream",
     "text": [
      "【【】】adding new model for datasetIPPD.pickle \n",
      "\n",
      "【【【】】】newScore: 458.549898 \n",
      "____________________________________________________________________________________________________\n"
     ]
    }
   ],
   "source": [
    "t_rforest = wrapper([RandomForestCVModel])"
   ]
  },
  {
   "cell_type": "code",
   "execution_count": 123,
   "metadata": {
    "collapsed": false
   },
   "outputs": [
    {
     "name": "stdout",
     "output_type": "stream",
     "text": [
      "________________________________________________________________________________\n",
      "Model: RandomForestRegresso\n",
      "Train RMSE: 444.541537\n",
      "Test RMSE: 423.563518\n",
      "Overall Mean: 1590.588075\n",
      "A...TestA RMSE: 1227.366261\n",
      "y_test_A Mean: 112.123529\n",
      "B...TestB RMSE: 1238.462286\n",
      "y_test_B Mean: 2369.020000\n",
      "C...TestC RMSE: 952.455539\n",
      "y_test_C Mean: 1680.930000\n",
      "D...TestD RMSE: 682.438330\n",
      "y_test_D Mean: 1254.324694\n",
      "________________________________________________________________________________\n"
     ]
    }
   ],
   "source": [
    "for key in t_rforest.keys():\n",
    "    print(80*'_')\n",
    "    \n",
    "    print('Model: %s' % (str(t_rforest[key]['model'])[:20]))\n",
    "    print('Train RMSE: %f' % (t_rforest[key]['train_rmse_cv_4_picking']))\n",
    "    \n",
    "    print('Test RMSE: %f' % (t_rforest[key]['test_rmse_4_reporting']))\n",
    "    print('Overall Mean: %f' % (t_rforest[key]['test_mean_y_4_comparing']))\n",
    "    \n",
    "    print('A...TestA RMSE: %f' % (t_rforest[key]['test_rmse_4_reportingA']))\n",
    "    print('y_test_A Mean: %f' % (t_rforest[key]['test_mean_y_4_comparingA']))\n",
    "    \n",
    "    print('B...TestB RMSE: %f' % (t_rforest[key]['test_rmse_4_reportingB']))\n",
    "    print('y_test_B Mean: %f' % (t_rforest[key]['test_mean_y_4_comparingB']))\n",
    "    \n",
    "    print('C...TestC RMSE: %f' % (t_rforest[key]['test_rmse_4_reportingC']))\n",
    "    print('y_test_C Mean: %f' % (t_rforest[key]['test_mean_y_4_comparingC']))\n",
    "    \n",
    "    print('D...TestD RMSE: %f' % (t_rforest[key]['test_rmse_4_reportingD']))\n",
    "    print('y_test_D Mean: %f' % (t_rforest[key]['test_mean_y_4_comparingD']))\n",
    "    \n",
    "    print(80*'_')"
   ]
  },
  {
   "cell_type": "markdown",
   "metadata": {},
   "source": [
    "80-20 split:\n",
    "\n",
    "Model: RandomForestRegresso\n",
    "Train RMSE: 413.110638\n",
    "Test RMSE: 340.031393\n",
    "Overall Mean: 1532.346154\n",
    "A...TestA RMSE: 834.165178\n",
    "y_test_A Mean: 117.836000\n",
    "B...TestB RMSE: 1400.194903\n",
    "y_test_B Mean: 2189.093846\n",
    "C...TestC RMSE: 1101.252790\n",
    "y_test_C Mean: 1703.226087\n",
    "D...TestD RMSE: 787.724025\n",
    "y_test_D Mean: 1307.537500"
   ]
  },
  {
   "cell_type": "code",
   "execution_count": 67,
   "metadata": {
    "collapsed": false
   },
   "outputs": [
    {
     "name": "stdout",
     "output_type": "stream",
     "text": [
      "<function RandomForestCVModel at 0x7f566422c598>\n"
     ]
    }
   ],
   "source": [
    "# get the model\n",
    "for k in t_rforest.keys():\n",
    "    print(k)\n",
    "    mo = t_rforest[k]['model']\n",
    "\n",
    "# write the model to a file\n",
    "with open('4C4_rforest_tuned.pickle', 'wb') as handle:\n",
    "    pickle.dump(mo, handle, protocol=pickle.HIGHEST_PROTOCOL)"
   ]
  },
  {
   "cell_type": "markdown",
   "metadata": {
    "collapsed": true
   },
   "source": [
    "#>>>>>>>>>>>\n"
   ]
  },
  {
   "cell_type": "markdown",
   "metadata": {},
   "source": [
    "# Final Model: Random Forest\n",
    "\n",
    "RandomForestRegressor(bootstrap=True, criterion='mse', max_depth=None,\n",
    "           max_features='auto', max_leaf_nodes=None,\n",
    "           min_impurity_split=1e-07, min_samples_leaf=1,\n",
    "           min_samples_split=2, min_weight_fraction_leaf=0.0,\n",
    "           n_estimators=4000, n_jobs=-1, oob_score=True, random_state=None,\n",
    "           verbose=0, warm_start=False) \n",
    "\n",
    "\n",
    " 413.344478118 339.417223286 1532.34615385"
   ]
  },
  {
   "cell_type": "markdown",
   "metadata": {},
   "source": [
    "<:>:<:>:<:>:<:>:<:>:<:>:<:>:<:>:<:>:<:>:<:>:<:>:<:>:<:>:<:><:>:<:>:<:>:<:>:<:>:<:>:<:>:<:>:<:>:<:>:<:>:<:>:<:>:<:>:<:>\n",
    "<:>:<:>:<:>:<:>:<:>:<:>:<:>:<:>:<:>:<:>:<:>:<:>:<:>:<:>:<:><:>:<:>:<:>:<:>:<:>:<:>:<:>:<:>:<:>:<:>:<:>:<:>:<:>:<:>:<:>\n",
    "<:>:<:>:<:>:<:>:<:>:<:>:<:>:<:>:<:>:<:>:<:>:<:>:<:>:<:>:<:><:>:<:>:<:>:<:>:<:>:<:>:<:>:<:>:<:>:<:>:<:>:<:>:<:>:<:>:<:>\n",
    "<:>:<:>:<:>:<:>:<:>:<:>:<:>:<:>:<:>:<:>:<:>:<:>:<:>:<:>:<:><:>:<:>:<:>:<:>:<:>:<:>:<:>:<:>:<:>:<:>:<:>:<:>:<:>:<:>:<:>\n"
   ]
  },
  {
   "cell_type": "markdown",
   "metadata": {},
   "source": [
    "RidgeCVModel, ElasticNetCVModel, \n",
    "                 SVRPolyCVModel, SVRSigmoidCVModel, SVRLinearCVModel, \n",
    "                 SVRRbfCVModel ] #OMPCVModel"
   ]
  },
  {
   "cell_type": "markdown",
   "metadata": {},
   "source": [
    "# RidgeModel"
   ]
  },
  {
   "cell_type": "code",
   "execution_count": 26,
   "metadata": {
    "collapsed": false,
    "scrolled": true
   },
   "outputs": [
    {
     "name": "stdout",
     "output_type": "stream",
     "text": [
      "\n",
      "Dataset size read: train 256 and test 65 \n",
      "\n",
      "# Tuning hyper-parameters \n",
      "\n",
      "Starting grdsurch.fit(X_train, y_train)\n",
      "\n",
      "Best parameters set found on development set:\n",
      "\n",
      "{'alpha': 1.0000000000000001e-15}\n",
      "Ridge(alpha=1.0000000000000001e-15, copy_X=True, fit_intercept=True,\n",
      "   max_iter=None, normalize=False, random_state=None, solver='auto',\n",
      "   tol=1e-20)\n",
      "\n",
      "【【】】adding new model for datasetIPPD.pickle \n",
      "\n",
      "【【【】】】newScore: 445.063184 \n",
      "____________________________________________________________________________________________________\n"
     ]
    }
   ],
   "source": [
    "t_ridge = wrapper([RidgeCVModel])"
   ]
  },
  {
   "cell_type": "code",
   "execution_count": 27,
   "metadata": {
    "collapsed": false
   },
   "outputs": [
    {
     "name": "stdout",
     "output_type": "stream",
     "text": [
      "<function RidgeCVModel at 0x7f563e1a1048>\n",
      "Ridge(alpha=1.0000000000000001e-15, copy_X=True, fit_intercept=True,\n",
      "   max_iter=None, normalize=False, random_state=None, solver='auto',\n",
      "   tol=1e-20) \n",
      "\n",
      "\n",
      " 445.063183594 354.963614472 1532.34615385\n",
      "____________________________________________________________________________________________________\n"
     ]
    }
   ],
   "source": [
    "for key in t_ridge.keys():\n",
    "    print(key)\n",
    "    print(\n",
    "          t_ridge[key]['model'],'\\n\\n\\n',\n",
    "          t_ridge[key]['train_rmse_cv_4_picking'],\n",
    "          t_ridge[key]['test_rmse_4_reporting'],\n",
    "          t_ridge[key]['test_mean_y_4_comparing']\n",
    "         )\n",
    "    print(100*'_')"
   ]
  },
  {
   "cell_type": "markdown",
   "metadata": {
    "collapsed": true
   },
   "source": [
    "#>>>>>>>>>>>\n"
   ]
  },
  {
   "cell_type": "markdown",
   "metadata": {},
   "source": [
    "# Ridge - Final Model\n",
    "\n",
    "Ridge(alpha=1e-10, copy_X=True, fit_intercept=True, max_iter=None,\n",
    "   normalize=False, random_state=None, solver='auto', tol=1e-20) \n",
    "\n",
    "\n",
    " 570.369986755 478.511724276 1532.34615385"
   ]
  },
  {
   "cell_type": "code",
   "execution_count": 28,
   "metadata": {
    "collapsed": true
   },
   "outputs": [],
   "source": [
    "########################### Test Ridge with Scaling ###########################\n",
    "# the L1 and L2 regularizers of linear models) assume that all features are \n",
    "# centered around 0 and have variance in the same order"
   ]
  },
  {
   "cell_type": "code",
   "execution_count": 29,
   "metadata": {
    "collapsed": true
   },
   "outputs": [],
   "source": [
    "# Note: Scaling improves Ridge"
   ]
  },
  {
   "cell_type": "code",
   "execution_count": 30,
   "metadata": {
    "collapsed": false,
    "scrolled": true
   },
   "outputs": [
    {
     "name": "stdout",
     "output_type": "stream",
     "text": [
      "\n",
      "Dataset size read: train 256 and test 65 \n",
      "\n",
      "# Tuning hyper-parameters \n",
      "\n",
      "Starting grdsurch.fit(X_train, y_train)\n",
      "\n",
      "Best parameters set found on development set:\n",
      "\n",
      "{'alpha': 1.0000000000000001e-15}\n",
      "Ridge(alpha=1.0000000000000001e-15, copy_X=True, fit_intercept=True,\n",
      "   max_iter=None, normalize=False, random_state=None, solver='auto',\n",
      "   tol=1e-20)\n",
      "\n",
      "【【】】adding new model for datasetIPPD.pickle \n",
      "\n",
      "【【【】】】newScore: 445.063184 \n",
      "____________________________________________________________________________________________________\n"
     ]
    }
   ],
   "source": [
    "t_ridge = wrapper([RidgeCVModel])"
   ]
  },
  {
   "cell_type": "code",
   "execution_count": 31,
   "metadata": {
    "collapsed": false
   },
   "outputs": [
    {
     "name": "stdout",
     "output_type": "stream",
     "text": [
      "<function RidgeCVModel at 0x7f563e1a1048>\n",
      "Ridge(alpha=1.0000000000000001e-15, copy_X=True, fit_intercept=True,\n",
      "   max_iter=None, normalize=False, random_state=None, solver='auto',\n",
      "   tol=1e-20) \n",
      "\n",
      "\n",
      " 445.063183594 354.963614472 1532.34615385\n",
      "____________________________________________________________________________________________________\n"
     ]
    }
   ],
   "source": [
    "for key in t_ridge.keys():\n",
    "    print(key)\n",
    "    print(\n",
    "          t_ridge[key]['model'],'\\n\\n\\n',\n",
    "          t_ridge[key]['train_rmse_cv_4_picking'],\n",
    "          t_ridge[key]['test_rmse_4_reporting'],\n",
    "          t_ridge[key]['test_mean_y_4_comparing']\n",
    "         )\n",
    "    print(100*'_')"
   ]
  },
  {
   "cell_type": "code",
   "execution_count": 68,
   "metadata": {
    "collapsed": false
   },
   "outputs": [
    {
     "name": "stdout",
     "output_type": "stream",
     "text": [
      "<function RidgeCVModel at 0x7f563e1a1048>\n"
     ]
    }
   ],
   "source": [
    "# get the model\n",
    "for k in t_ridge.keys():\n",
    "    print(k)\n",
    "    mo = t_ridge[k]['model']\n",
    "\n",
    "# write the model to a file\n",
    "with open('4C4_ridge_tuned.pickle', 'wb') as handle:\n",
    "    pickle.dump(mo, handle, protocol=pickle.HIGHEST_PROTOCOL)"
   ]
  },
  {
   "cell_type": "markdown",
   "metadata": {},
   "source": [
    "<:>:<:>:<:>:<:>:<:>:<:>:<:>:<:>:<:>:<:>:<:>:<:>:<:>:<:>:<:><:>:<:>:<:>:<:>:<:>:<:>:<:>:<:>:<:>:<:>:<:>:<:>:<:>:<:>:<:>\n",
    "<:>:<:>:<:>:<:>:<:>:<:>:<:>:<:>:<:>:<:>:<:>:<:>:<:>:<:>:<:><:>:<:>:<:>:<:>:<:>:<:>:<:>:<:>:<:>:<:>:<:>:<:>:<:>:<:>:<:>\n",
    "<:>:<:>:<:>:<:>:<:>:<:>:<:>:<:>:<:>:<:>:<:>:<:>:<:>:<:>:<:><:>:<:>:<:>:<:>:<:>:<:>:<:>:<:>:<:>:<:>:<:>:<:>:<:>:<:>:<:>\n",
    "<:>:<:>:<:>:<:>:<:>:<:>:<:>:<:>:<:>:<:>:<:>:<:>:<:>:<:>:<:><:>:<:>:<:>:<:>:<:>:<:>:<:>:<:>:<:>:<:>:<:>:<:>:<:>:<:>:<:>\n"
   ]
  },
  {
   "cell_type": "markdown",
   "metadata": {},
   "source": [
    "# Elastic Net"
   ]
  },
  {
   "cell_type": "code",
   "execution_count": 32,
   "metadata": {
    "collapsed": false,
    "scrolled": true
   },
   "outputs": [
    {
     "name": "stdout",
     "output_type": "stream",
     "text": [
      "\n",
      "Dataset size read: train 256 and test 65 \n",
      "\n",
      "# Tuning hyper-parameters \n",
      "\n",
      "Starting grdsurch.fit(X_train, y_train)\n"
     ]
    },
    {
     "name": "stderr",
     "output_type": "stream",
     "text": [
      "/data/home/a1singh/anaconda3/lib/python3.6/site-packages/sklearn/linear_model/coordinate_descent.py:484: ConvergenceWarning: Objective did not converge. You might want to increase the number of iterations. Fitting data with very small alpha may cause precision problems.\n",
      "  ConvergenceWarning)\n",
      "/data/home/a1singh/anaconda3/lib/python3.6/site-packages/sklearn/linear_model/coordinate_descent.py:484: ConvergenceWarning: Objective did not converge. You might want to increase the number of iterations. Fitting data with very small alpha may cause precision problems.\n",
      "  ConvergenceWarning)\n",
      "/data/home/a1singh/anaconda3/lib/python3.6/site-packages/sklearn/linear_model/coordinate_descent.py:484: ConvergenceWarning: Objective did not converge. You might want to increase the number of iterations. Fitting data with very small alpha may cause precision problems.\n",
      "  ConvergenceWarning)\n",
      "/data/home/a1singh/anaconda3/lib/python3.6/site-packages/sklearn/linear_model/coordinate_descent.py:484: ConvergenceWarning: Objective did not converge. You might want to increase the number of iterations. Fitting data with very small alpha may cause precision problems.\n",
      "  ConvergenceWarning)\n",
      "/data/home/a1singh/anaconda3/lib/python3.6/site-packages/sklearn/linear_model/coordinate_descent.py:484: ConvergenceWarning: Objective did not converge. You might want to increase the number of iterations. Fitting data with very small alpha may cause precision problems.\n",
      "  ConvergenceWarning)\n",
      "/data/home/a1singh/anaconda3/lib/python3.6/site-packages/sklearn/linear_model/coordinate_descent.py:484: ConvergenceWarning: Objective did not converge. You might want to increase the number of iterations. Fitting data with very small alpha may cause precision problems.\n",
      "  ConvergenceWarning)\n",
      "/data/home/a1singh/anaconda3/lib/python3.6/site-packages/sklearn/linear_model/coordinate_descent.py:484: ConvergenceWarning: Objective did not converge. You might want to increase the number of iterations. Fitting data with very small alpha may cause precision problems.\n",
      "  ConvergenceWarning)\n",
      "/data/home/a1singh/anaconda3/lib/python3.6/site-packages/sklearn/linear_model/coordinate_descent.py:484: ConvergenceWarning: Objective did not converge. You might want to increase the number of iterations. Fitting data with very small alpha may cause precision problems.\n",
      "  ConvergenceWarning)\n",
      "/data/home/a1singh/anaconda3/lib/python3.6/site-packages/sklearn/linear_model/coordinate_descent.py:484: ConvergenceWarning: Objective did not converge. You might want to increase the number of iterations. Fitting data with very small alpha may cause precision problems.\n",
      "  ConvergenceWarning)\n"
     ]
    },
    {
     "name": "stdout",
     "output_type": "stream",
     "text": [
      "\n",
      "Best parameters set found on development set:\n",
      "\n",
      "{'l1_ratio': 0.01}\n",
      "ElasticNet(alpha=3.7926901907322537e-14, copy_X=True, fit_intercept=True,\n",
      "      l1_ratio=0.01, max_iter=10000000.0, normalize=False, positive=False,\n",
      "      precompute=False, random_state=None, selection='cyclic', tol=1e-20,\n",
      "      warm_start=False)\n",
      "\n",
      "【【】】adding new model for datasetIPPD.pickle \n",
      "\n",
      "【【【】】】newScore: 445.063184 \n",
      "____________________________________________________________________________________________________\n"
     ]
    },
    {
     "name": "stderr",
     "output_type": "stream",
     "text": [
      "/data/home/a1singh/anaconda3/lib/python3.6/site-packages/sklearn/linear_model/coordinate_descent.py:484: ConvergenceWarning: Objective did not converge. You might want to increase the number of iterations. Fitting data with very small alpha may cause precision problems.\n",
      "  ConvergenceWarning)\n"
     ]
    }
   ],
   "source": [
    "t_elasticNet = wrapper([ElasticNetCVModel])"
   ]
  },
  {
   "cell_type": "code",
   "execution_count": 33,
   "metadata": {
    "collapsed": false
   },
   "outputs": [
    {
     "name": "stdout",
     "output_type": "stream",
     "text": [
      "<function ElasticNetCVModel at 0x7f563e1a10d0>\n",
      "ElasticNet(alpha=3.7926901907322537e-14, copy_X=True, fit_intercept=True,\n",
      "      l1_ratio=0.01, max_iter=10000000.0, normalize=False, positive=False,\n",
      "      precompute=False, random_state=None, selection='cyclic', tol=1e-20,\n",
      "      warm_start=False) \n",
      "\n",
      "\n",
      " 445.063183599 354.963614475 1532.34615385\n",
      "____________________________________________________________________________________________________\n"
     ]
    }
   ],
   "source": [
    "for key in t_elasticNet.keys():\n",
    "    print(key)\n",
    "    elasticNet_mo = t_elasticNet[key]['model']\n",
    "    print(\n",
    "          t_elasticNet[key]['model'],'\\n\\n\\n',\n",
    "          t_elasticNet[key]['train_rmse_cv_4_picking'],\n",
    "          t_elasticNet[key]['test_rmse_4_reporting'],\n",
    "          t_elasticNet[key]['test_mean_y_4_comparing']\n",
    "         )\n",
    "    print(100*'_')"
   ]
  },
  {
   "cell_type": "code",
   "execution_count": 34,
   "metadata": {
    "collapsed": true
   },
   "outputs": [],
   "source": [
    "#>>>>>>>>>>>"
   ]
  },
  {
   "cell_type": "code",
   "execution_count": 35,
   "metadata": {
    "collapsed": false,
    "scrolled": true
   },
   "outputs": [
    {
     "name": "stdout",
     "output_type": "stream",
     "text": [
      "\n",
      "Dataset size read: train 256 and test 65 \n",
      "\n",
      "# Tuning hyper-parameters \n",
      "\n",
      "Starting grdsurch.fit(X_train, y_train)\n"
     ]
    },
    {
     "name": "stderr",
     "output_type": "stream",
     "text": [
      "/data/home/a1singh/anaconda3/lib/python3.6/site-packages/sklearn/linear_model/coordinate_descent.py:484: ConvergenceWarning: Objective did not converge. You might want to increase the number of iterations. Fitting data with very small alpha may cause precision problems.\n",
      "  ConvergenceWarning)\n",
      "/data/home/a1singh/anaconda3/lib/python3.6/site-packages/sklearn/linear_model/coordinate_descent.py:484: ConvergenceWarning: Objective did not converge. You might want to increase the number of iterations. Fitting data with very small alpha may cause precision problems.\n",
      "  ConvergenceWarning)\n",
      "/data/home/a1singh/anaconda3/lib/python3.6/site-packages/sklearn/linear_model/coordinate_descent.py:484: ConvergenceWarning: Objective did not converge. You might want to increase the number of iterations. Fitting data with very small alpha may cause precision problems.\n",
      "  ConvergenceWarning)\n",
      "/data/home/a1singh/anaconda3/lib/python3.6/site-packages/sklearn/linear_model/coordinate_descent.py:484: ConvergenceWarning: Objective did not converge. You might want to increase the number of iterations. Fitting data with very small alpha may cause precision problems.\n",
      "  ConvergenceWarning)\n",
      "/data/home/a1singh/anaconda3/lib/python3.6/site-packages/sklearn/linear_model/coordinate_descent.py:484: ConvergenceWarning: Objective did not converge. You might want to increase the number of iterations. Fitting data with very small alpha may cause precision problems.\n",
      "  ConvergenceWarning)\n",
      "/data/home/a1singh/anaconda3/lib/python3.6/site-packages/sklearn/linear_model/coordinate_descent.py:484: ConvergenceWarning: Objective did not converge. You might want to increase the number of iterations. Fitting data with very small alpha may cause precision problems.\n",
      "  ConvergenceWarning)\n",
      "/data/home/a1singh/anaconda3/lib/python3.6/site-packages/sklearn/linear_model/coordinate_descent.py:484: ConvergenceWarning: Objective did not converge. You might want to increase the number of iterations. Fitting data with very small alpha may cause precision problems.\n",
      "  ConvergenceWarning)\n",
      "/data/home/a1singh/anaconda3/lib/python3.6/site-packages/sklearn/linear_model/coordinate_descent.py:484: ConvergenceWarning: Objective did not converge. You might want to increase the number of iterations. Fitting data with very small alpha may cause precision problems.\n",
      "  ConvergenceWarning)\n",
      "/data/home/a1singh/anaconda3/lib/python3.6/site-packages/sklearn/linear_model/coordinate_descent.py:484: ConvergenceWarning: Objective did not converge. You might want to increase the number of iterations. Fitting data with very small alpha may cause precision problems.\n",
      "  ConvergenceWarning)\n"
     ]
    },
    {
     "name": "stdout",
     "output_type": "stream",
     "text": [
      "\n",
      "Best parameters set found on development set:\n",
      "\n",
      "{'l1_ratio': 0.01}\n",
      "ElasticNet(alpha=3.7926901907322537e-14, copy_X=True, fit_intercept=True,\n",
      "      l1_ratio=0.01, max_iter=10000000.0, normalize=False, positive=False,\n",
      "      precompute=False, random_state=None, selection='cyclic', tol=1e-20,\n",
      "      warm_start=False)\n",
      "\n",
      "【【】】adding new model for datasetIPPD.pickle \n",
      "\n",
      "【【【】】】newScore: 445.063184 \n",
      "____________________________________________________________________________________________________\n"
     ]
    },
    {
     "name": "stderr",
     "output_type": "stream",
     "text": [
      "/data/home/a1singh/anaconda3/lib/python3.6/site-packages/sklearn/linear_model/coordinate_descent.py:484: ConvergenceWarning: Objective did not converge. You might want to increase the number of iterations. Fitting data with very small alpha may cause precision problems.\n",
      "  ConvergenceWarning)\n"
     ]
    }
   ],
   "source": [
    "t_elasticNet = wrapper([ElasticNetCVModel])"
   ]
  },
  {
   "cell_type": "code",
   "execution_count": 36,
   "metadata": {
    "collapsed": false
   },
   "outputs": [
    {
     "name": "stdout",
     "output_type": "stream",
     "text": [
      "<function ElasticNetCVModel at 0x7f563e1a10d0>\n",
      "ElasticNet(alpha=3.7926901907322537e-14, copy_X=True, fit_intercept=True,\n",
      "      l1_ratio=0.01, max_iter=10000000.0, normalize=False, positive=False,\n",
      "      precompute=False, random_state=None, selection='cyclic', tol=1e-20,\n",
      "      warm_start=False) \n",
      "\n",
      "\n",
      " 445.063183599 354.963614475 1532.34615385\n",
      "____________________________________________________________________________________________________\n"
     ]
    }
   ],
   "source": [
    "for key in t_elasticNet.keys():\n",
    "    print(key)\n",
    "    elasticNet_mo = t_elasticNet[key]['model']\n",
    "    print(\n",
    "          t_elasticNet[key]['model'],'\\n\\n\\n',\n",
    "          t_elasticNet[key]['train_rmse_cv_4_picking'],\n",
    "          t_elasticNet[key]['test_rmse_4_reporting'],\n",
    "          t_elasticNet[key]['test_mean_y_4_comparing']\n",
    "         )\n",
    "    print(100*'_')"
   ]
  },
  {
   "cell_type": "code",
   "execution_count": null,
   "metadata": {
    "collapsed": true
   },
   "outputs": [],
   "source": []
  },
  {
   "cell_type": "code",
   "execution_count": 37,
   "metadata": {
    "collapsed": true
   },
   "outputs": [],
   "source": [
    "########################### Test ElasticNet with Scaling ###########################\n",
    "#\n",
    "# the L1 and L2 regularizers of linear models) assume that all features are \n",
    "# centered around 0 and have variance in the same order"
   ]
  },
  {
   "cell_type": "code",
   "execution_count": 38,
   "metadata": {
    "collapsed": false,
    "scrolled": true
   },
   "outputs": [
    {
     "name": "stdout",
     "output_type": "stream",
     "text": [
      "\n",
      "Dataset size read: train 256 and test 65 \n",
      "\n",
      "# Tuning hyper-parameters \n",
      "\n",
      "Starting grdsurch.fit(X_train, y_train)\n"
     ]
    },
    {
     "name": "stderr",
     "output_type": "stream",
     "text": [
      "/data/home/a1singh/anaconda3/lib/python3.6/site-packages/sklearn/linear_model/coordinate_descent.py:484: ConvergenceWarning: Objective did not converge. You might want to increase the number of iterations. Fitting data with very small alpha may cause precision problems.\n",
      "  ConvergenceWarning)\n",
      "/data/home/a1singh/anaconda3/lib/python3.6/site-packages/sklearn/linear_model/coordinate_descent.py:484: ConvergenceWarning: Objective did not converge. You might want to increase the number of iterations. Fitting data with very small alpha may cause precision problems.\n",
      "  ConvergenceWarning)\n",
      "/data/home/a1singh/anaconda3/lib/python3.6/site-packages/sklearn/linear_model/coordinate_descent.py:484: ConvergenceWarning: Objective did not converge. You might want to increase the number of iterations. Fitting data with very small alpha may cause precision problems.\n",
      "  ConvergenceWarning)\n",
      "/data/home/a1singh/anaconda3/lib/python3.6/site-packages/sklearn/linear_model/coordinate_descent.py:484: ConvergenceWarning: Objective did not converge. You might want to increase the number of iterations. Fitting data with very small alpha may cause precision problems.\n",
      "  ConvergenceWarning)\n",
      "/data/home/a1singh/anaconda3/lib/python3.6/site-packages/sklearn/linear_model/coordinate_descent.py:484: ConvergenceWarning: Objective did not converge. You might want to increase the number of iterations. Fitting data with very small alpha may cause precision problems.\n",
      "  ConvergenceWarning)\n",
      "/data/home/a1singh/anaconda3/lib/python3.6/site-packages/sklearn/linear_model/coordinate_descent.py:484: ConvergenceWarning: Objective did not converge. You might want to increase the number of iterations. Fitting data with very small alpha may cause precision problems.\n",
      "  ConvergenceWarning)\n",
      "/data/home/a1singh/anaconda3/lib/python3.6/site-packages/sklearn/linear_model/coordinate_descent.py:484: ConvergenceWarning: Objective did not converge. You might want to increase the number of iterations. Fitting data with very small alpha may cause precision problems.\n",
      "  ConvergenceWarning)\n",
      "/data/home/a1singh/anaconda3/lib/python3.6/site-packages/sklearn/linear_model/coordinate_descent.py:484: ConvergenceWarning: Objective did not converge. You might want to increase the number of iterations. Fitting data with very small alpha may cause precision problems.\n",
      "  ConvergenceWarning)\n",
      "/data/home/a1singh/anaconda3/lib/python3.6/site-packages/sklearn/linear_model/coordinate_descent.py:484: ConvergenceWarning: Objective did not converge. You might want to increase the number of iterations. Fitting data with very small alpha may cause precision problems.\n",
      "  ConvergenceWarning)\n"
     ]
    },
    {
     "name": "stdout",
     "output_type": "stream",
     "text": [
      "\n",
      "Best parameters set found on development set:\n",
      "\n",
      "{'l1_ratio': 0.01}\n",
      "ElasticNet(alpha=3.7926901907322537e-14, copy_X=True, fit_intercept=True,\n",
      "      l1_ratio=0.01, max_iter=10000000.0, normalize=False, positive=False,\n",
      "      precompute=False, random_state=None, selection='cyclic', tol=1e-20,\n",
      "      warm_start=False)\n",
      "\n",
      "【【】】adding new model for datasetIPPD.pickle \n",
      "\n",
      "【【【】】】newScore: 445.063184 \n",
      "____________________________________________________________________________________________________\n"
     ]
    },
    {
     "name": "stderr",
     "output_type": "stream",
     "text": [
      "/data/home/a1singh/anaconda3/lib/python3.6/site-packages/sklearn/linear_model/coordinate_descent.py:484: ConvergenceWarning: Objective did not converge. You might want to increase the number of iterations. Fitting data with very small alpha may cause precision problems.\n",
      "  ConvergenceWarning)\n"
     ]
    }
   ],
   "source": [
    "t_elasticNet = wrapper([ElasticNetCVModel])"
   ]
  },
  {
   "cell_type": "code",
   "execution_count": 39,
   "metadata": {
    "collapsed": false
   },
   "outputs": [
    {
     "name": "stdout",
     "output_type": "stream",
     "text": [
      "<function ElasticNetCVModel at 0x7f563e1a10d0>\n",
      "ElasticNet(alpha=3.7926901907322537e-14, copy_X=True, fit_intercept=True,\n",
      "      l1_ratio=0.01, max_iter=10000000.0, normalize=False, positive=False,\n",
      "      precompute=False, random_state=None, selection='cyclic', tol=1e-20,\n",
      "      warm_start=False) \n",
      "\n",
      "\n",
      " 445.063183599 354.963614475 1532.34615385\n",
      "____________________________________________________________________________________________________\n"
     ]
    }
   ],
   "source": [
    "for key in t_elasticNet.keys():\n",
    "    print(key)\n",
    "    elasticNet_mo = t_elasticNet[key]['model']\n",
    "    print(\n",
    "          t_elasticNet[key]['model'],'\\n\\n\\n',\n",
    "          t_elasticNet[key]['train_rmse_cv_4_picking'],\n",
    "          t_elasticNet[key]['test_rmse_4_reporting'],\n",
    "          t_elasticNet[key]['test_mean_y_4_comparing']\n",
    "         )\n",
    "    print(100*'_')"
   ]
  },
  {
   "cell_type": "code",
   "execution_count": 40,
   "metadata": {
    "collapsed": false,
    "scrolled": true
   },
   "outputs": [
    {
     "name": "stdout",
     "output_type": "stream",
     "text": [
      "\n",
      "Dataset size read: train 256 and test 65 \n",
      "\n",
      "# Tuning hyper-parameters \n",
      "\n",
      "Starting grdsurch.fit(X_train, y_train)\n"
     ]
    },
    {
     "name": "stderr",
     "output_type": "stream",
     "text": [
      "/data/home/a1singh/anaconda3/lib/python3.6/site-packages/sklearn/linear_model/coordinate_descent.py:484: ConvergenceWarning: Objective did not converge. You might want to increase the number of iterations. Fitting data with very small alpha may cause precision problems.\n",
      "  ConvergenceWarning)\n",
      "/data/home/a1singh/anaconda3/lib/python3.6/site-packages/sklearn/linear_model/coordinate_descent.py:484: ConvergenceWarning: Objective did not converge. You might want to increase the number of iterations. Fitting data with very small alpha may cause precision problems.\n",
      "  ConvergenceWarning)\n",
      "/data/home/a1singh/anaconda3/lib/python3.6/site-packages/sklearn/linear_model/coordinate_descent.py:484: ConvergenceWarning: Objective did not converge. You might want to increase the number of iterations. Fitting data with very small alpha may cause precision problems.\n",
      "  ConvergenceWarning)\n",
      "/data/home/a1singh/anaconda3/lib/python3.6/site-packages/sklearn/linear_model/coordinate_descent.py:484: ConvergenceWarning: Objective did not converge. You might want to increase the number of iterations. Fitting data with very small alpha may cause precision problems.\n",
      "  ConvergenceWarning)\n",
      "/data/home/a1singh/anaconda3/lib/python3.6/site-packages/sklearn/linear_model/coordinate_descent.py:484: ConvergenceWarning: Objective did not converge. You might want to increase the number of iterations. Fitting data with very small alpha may cause precision problems.\n",
      "  ConvergenceWarning)\n",
      "/data/home/a1singh/anaconda3/lib/python3.6/site-packages/sklearn/linear_model/coordinate_descent.py:484: ConvergenceWarning: Objective did not converge. You might want to increase the number of iterations. Fitting data with very small alpha may cause precision problems.\n",
      "  ConvergenceWarning)\n",
      "/data/home/a1singh/anaconda3/lib/python3.6/site-packages/sklearn/linear_model/coordinate_descent.py:484: ConvergenceWarning: Objective did not converge. You might want to increase the number of iterations. Fitting data with very small alpha may cause precision problems.\n",
      "  ConvergenceWarning)\n",
      "/data/home/a1singh/anaconda3/lib/python3.6/site-packages/sklearn/linear_model/coordinate_descent.py:484: ConvergenceWarning: Objective did not converge. You might want to increase the number of iterations. Fitting data with very small alpha may cause precision problems.\n",
      "  ConvergenceWarning)\n",
      "/data/home/a1singh/anaconda3/lib/python3.6/site-packages/sklearn/linear_model/coordinate_descent.py:484: ConvergenceWarning: Objective did not converge. You might want to increase the number of iterations. Fitting data with very small alpha may cause precision problems.\n",
      "  ConvergenceWarning)\n"
     ]
    },
    {
     "name": "stdout",
     "output_type": "stream",
     "text": [
      "\n",
      "Best parameters set found on development set:\n",
      "\n",
      "{'l1_ratio': 0.01}\n",
      "ElasticNet(alpha=3.7926901907322537e-14, copy_X=True, fit_intercept=True,\n",
      "      l1_ratio=0.01, max_iter=10000000.0, normalize=False, positive=False,\n",
      "      precompute=False, random_state=None, selection='cyclic', tol=1e-20,\n",
      "      warm_start=False)\n",
      "\n",
      "【【】】adding new model for datasetIPPD.pickle \n",
      "\n",
      "【【【】】】newScore: 445.063184 \n",
      "____________________________________________________________________________________________________\n"
     ]
    },
    {
     "name": "stderr",
     "output_type": "stream",
     "text": [
      "/data/home/a1singh/anaconda3/lib/python3.6/site-packages/sklearn/linear_model/coordinate_descent.py:484: ConvergenceWarning: Objective did not converge. You might want to increase the number of iterations. Fitting data with very small alpha may cause precision problems.\n",
      "  ConvergenceWarning)\n"
     ]
    }
   ],
   "source": [
    "# Let's freeze all optimal parameters - and search for best l1_ratio in [a list] \n",
    "\n",
    "t_elasticNet = wrapper([ElasticNetCVModel])"
   ]
  },
  {
   "cell_type": "code",
   "execution_count": 41,
   "metadata": {
    "collapsed": false
   },
   "outputs": [
    {
     "name": "stdout",
     "output_type": "stream",
     "text": [
      "<function ElasticNetCVModel at 0x7f563e1a10d0>\n",
      "ElasticNet(alpha=3.7926901907322537e-14, copy_X=True, fit_intercept=True,\n",
      "      l1_ratio=0.01, max_iter=10000000.0, normalize=False, positive=False,\n",
      "      precompute=False, random_state=None, selection='cyclic', tol=1e-20,\n",
      "      warm_start=False) \n",
      "\n",
      "\n",
      " 445.063183599 354.963614475 1532.34615385\n",
      "____________________________________________________________________________________________________\n"
     ]
    }
   ],
   "source": [
    "for key in t_elasticNet.keys():\n",
    "    print(key)\n",
    "    elasticNet_mo = t_elasticNet[key]['model']\n",
    "    print(\n",
    "          t_elasticNet[key]['model'],'\\n\\n\\n',\n",
    "          t_elasticNet[key]['train_rmse_cv_4_picking'],\n",
    "          t_elasticNet[key]['test_rmse_4_reporting'],\n",
    "          t_elasticNet[key]['test_mean_y_4_comparing']\n",
    "         )\n",
    "    print(100*'_')"
   ]
  },
  {
   "cell_type": "code",
   "execution_count": 69,
   "metadata": {
    "collapsed": false
   },
   "outputs": [
    {
     "name": "stdout",
     "output_type": "stream",
     "text": [
      "<function ElasticNetCVModel at 0x7f563e1a10d0>\n"
     ]
    }
   ],
   "source": [
    "# get the model\n",
    "for k in t_elasticNet.keys():\n",
    "    print(k)\n",
    "    mo = t_elasticNet[k]['model']\n",
    "\n",
    "# write the model to a file\n",
    "with open('4C4_elasticNet_tuned.pickle', 'wb') as handle:\n",
    "    pickle.dump(mo, handle, protocol=pickle.HIGHEST_PROTOCOL)"
   ]
  },
  {
   "cell_type": "markdown",
   "metadata": {},
   "source": [
    "<:>:<:>:<:>:<:>:<:>:<:>:<:>:<:>:<:>:<:>:<:>:<:>:<:>:<:>:<:><:>:<:>:<:>:<:>:<:>:<:>:<:>:<:>:<:>:<:>:<:>:<:>:<:>:<:>:<:>\n",
    "<:>:<:>:<:>:<:>:<:>:<:>:<:>:<:>:<:>:<:>:<:>:<:>:<:>:<:>:<:><:>:<:>:<:>:<:>:<:>:<:>:<:>:<:>:<:>:<:>:<:>:<:>:<:>:<:>:<:>\n",
    "<:>:<:>:<:>:<:>:<:>:<:>:<:>:<:>:<:>:<:>:<:>:<:>:<:>:<:>:<:><:>:<:>:<:>:<:>:<:>:<:>:<:>:<:>:<:>:<:>:<:>:<:>:<:>:<:>:<:>\n",
    "<:>:<:>:<:>:<:>:<:>:<:>:<:>:<:>:<:>:<:>:<:>:<:>:<:>:<:>:<:><:>:<:>:<:>:<:>:<:>:<:>:<:>:<:>:<:>:<:>:<:>:<:>:<:>:<:>:<:>\n"
   ]
  },
  {
   "cell_type": "markdown",
   "metadata": {},
   "source": [
    "# SVR - a - Poly Kernel"
   ]
  },
  {
   "cell_type": "code",
   "execution_count": 42,
   "metadata": {
    "collapsed": false,
    "scrolled": true
   },
   "outputs": [
    {
     "name": "stdout",
     "output_type": "stream",
     "text": [
      "\n",
      "Dataset size read: train 256 and test 65 \n",
      "\n",
      "# Tuning hyper-parameters... \n",
      "\n",
      "Starting grdsurch.fit(X_train, y_train)\n"
     ]
    },
    {
     "name": "stderr",
     "output_type": "stream",
     "text": [
      "/data/home/a1singh/anaconda3/lib/python3.6/site-packages/sklearn/svm/base.py:220: ConvergenceWarning: Solver terminated early (max_iter=1000000000).  Consider pre-processing your data with StandardScaler or MinMaxScaler.\n",
      "  % self.max_iter, ConvergenceWarning)\n",
      "/data/home/a1singh/anaconda3/lib/python3.6/site-packages/sklearn/svm/base.py:220: ConvergenceWarning: Solver terminated early (max_iter=1000000000).  Consider pre-processing your data with StandardScaler or MinMaxScaler.\n",
      "  % self.max_iter, ConvergenceWarning)\n",
      "/data/home/a1singh/anaconda3/lib/python3.6/site-packages/sklearn/svm/base.py:220: ConvergenceWarning: Solver terminated early (max_iter=1000000000).  Consider pre-processing your data with StandardScaler or MinMaxScaler.\n",
      "  % self.max_iter, ConvergenceWarning)\n",
      "/data/home/a1singh/anaconda3/lib/python3.6/site-packages/sklearn/svm/base.py:220: ConvergenceWarning: Solver terminated early (max_iter=1000000000).  Consider pre-processing your data with StandardScaler or MinMaxScaler.\n",
      "  % self.max_iter, ConvergenceWarning)\n",
      "/data/home/a1singh/anaconda3/lib/python3.6/site-packages/sklearn/svm/base.py:220: ConvergenceWarning: Solver terminated early (max_iter=1000000000).  Consider pre-processing your data with StandardScaler or MinMaxScaler.\n",
      "  % self.max_iter, ConvergenceWarning)\n",
      "/data/home/a1singh/anaconda3/lib/python3.6/site-packages/sklearn/svm/base.py:220: ConvergenceWarning: Solver terminated early (max_iter=1000000000).  Consider pre-processing your data with StandardScaler or MinMaxScaler.\n",
      "  % self.max_iter, ConvergenceWarning)\n"
     ]
    },
    {
     "name": "stdout",
     "output_type": "stream",
     "text": [
      "\n",
      "Best parameters set found on development set:\n",
      "\n",
      "{'C': 1000000000000000.0, 'degree': 6, 'gamma': 1000.0}\n",
      "SVR(C=1000000000000000.0, cache_size=20480, coef0=0.0, degree=6, epsilon=0.1,\n",
      "  gamma=1000.0, kernel='poly', max_iter=1000000000.0, shrinking=False,\n",
      "  tol=0.01, verbose=False)\n",
      "\n",
      "【【】】adding new model for datasetIPPD.pickle \n",
      "\n",
      "【【【】】】newScore: 5050183388850412544.000000 \n",
      "____________________________________________________________________________________________________\n"
     ]
    },
    {
     "name": "stderr",
     "output_type": "stream",
     "text": [
      "/data/home/a1singh/anaconda3/lib/python3.6/site-packages/sklearn/svm/base.py:220: ConvergenceWarning: Solver terminated early (max_iter=1000000000).  Consider pre-processing your data with StandardScaler or MinMaxScaler.\n",
      "  % self.max_iter, ConvergenceWarning)\n"
     ]
    }
   ],
   "source": [
    "t_SVRPolyCVModel = wrapper([SVRPolyCVModel])"
   ]
  },
  {
   "cell_type": "code",
   "execution_count": 43,
   "metadata": {
    "collapsed": false
   },
   "outputs": [
    {
     "name": "stdout",
     "output_type": "stream",
     "text": [
      "<function SVRPolyCVModel at 0x7f563e1a1158>\n",
      "SVR(C=1000000000000000.0, cache_size=20480, coef0=0.0, degree=6, epsilon=0.1,\n",
      "  gamma=1000.0, kernel='poly', max_iter=1000000000.0, shrinking=False,\n",
      "  tol=0.01, verbose=False) \n",
      "\n",
      "\n",
      " 5.05018338885e+18 8.85063255504e+18 1532.34615385\n",
      "____________________________________________________________________________________________________\n"
     ]
    }
   ],
   "source": [
    "t = t_SVRPolyCVModel\n",
    "\n",
    "for key in t.keys():\n",
    "    print(key)\n",
    "    t_mo= t[key]['model']\n",
    "    print(\n",
    "          t[key]['model'],'\\n\\n\\n',\n",
    "          t[key]['train_rmse_cv_4_picking'],\n",
    "          t[key]['test_rmse_4_reporting'],\n",
    "          t[key]['test_mean_y_4_comparing']\n",
    "         )\n",
    "    print(100*'_')"
   ]
  },
  {
   "cell_type": "markdown",
   "metadata": {},
   "source": [
    "# SVR - Poly Kernel - Final Model"
   ]
  },
  {
   "cell_type": "markdown",
   "metadata": {
    "collapsed": true
   },
   "source": [
    "#>>>>>>>>>>>"
   ]
  },
  {
   "cell_type": "code",
   "execution_count": null,
   "metadata": {
    "collapsed": true
   },
   "outputs": [],
   "source": []
  },
  {
   "cell_type": "markdown",
   "metadata": {},
   "source": [
    "# SVR - b - Sigmoid Kernel"
   ]
  },
  {
   "cell_type": "code",
   "execution_count": 44,
   "metadata": {
    "collapsed": false
   },
   "outputs": [
    {
     "name": "stdout",
     "output_type": "stream",
     "text": [
      "\n",
      "Dataset size read: train 256 and test 65 \n",
      "\n",
      "# Tuning hyper-parameters \n",
      "\n",
      "Starting grdsurch.fit(X_train, y_train)\n",
      "\n",
      "Best parameters set found on development set:\n",
      "\n",
      "{'C': 1.0000000000000001e-05, 'gamma': 1.0000000000000001e-15}\n",
      "SVR(C=1.0000000000000001e-05, cache_size=20480, coef0=0.0, degree=3,\n",
      "  epsilon=0.1, gamma=1.0000000000000001e-15, kernel='sigmoid', max_iter=-1,\n",
      "  shrinking=False, tol=1e-07, verbose=False)\n",
      "\n",
      "【【】】adding new model for datasetIPPD.pickle \n",
      "\n",
      "【【【】】】newScore: 1032.957231 \n",
      "____________________________________________________________________________________________________\n"
     ]
    }
   ],
   "source": [
    "t_SVRSigmoidCVModel = wrapper([SVRSigmoidCVModel])"
   ]
  },
  {
   "cell_type": "code",
   "execution_count": 61,
   "metadata": {
    "collapsed": false
   },
   "outputs": [
    {
     "name": "stdout",
     "output_type": "stream",
     "text": [
      "\n"
     ]
    }
   ],
   "source": [
    "print()"
   ]
  },
  {
   "cell_type": "code",
   "execution_count": 62,
   "metadata": {
    "collapsed": false
   },
   "outputs": [
    {
     "name": "stdout",
     "output_type": "stream",
     "text": [
      "<function SVRSigmoidCVModel at 0x7f563e1a11e0>\n",
      "SVR(C=1.0000000000000001e-05, cache_size=20480, coef0=0.0, degree=3,\n",
      "  epsilon=0.1, gamma=1.0000000000000001e-15, kernel='sigmoid', max_iter=-1,\n",
      "  shrinking=False, tol=1e-07, verbose=False) \n",
      "\n",
      "\n",
      " 1032.95723148 882.068031346 1532.34615385\n",
      "____________________________________________________________________________________________________\n"
     ]
    }
   ],
   "source": [
    "t = t_SVRSigmoidCVModel\n",
    "\n",
    "for key in t.keys():\n",
    "    print(key)\n",
    "    t_mo= t[key]['model']\n",
    "    print(\n",
    "          t[key]['model'],'\\n\\n\\n',\n",
    "          t[key]['train_rmse_cv_4_picking'],\n",
    "          t[key]['test_rmse_4_reporting'],\n",
    "          t[key]['test_mean_y_4_comparing']\n",
    "         )\n",
    "    print(100*'_')"
   ]
  },
  {
   "cell_type": "markdown",
   "metadata": {},
   "source": [
    "# SVR - Sigmoid Kernel - Final Model"
   ]
  },
  {
   "cell_type": "markdown",
   "metadata": {
    "collapsed": true
   },
   "source": [
    "#>>>>>>>>>>>\n"
   ]
  },
  {
   "cell_type": "code",
   "execution_count": null,
   "metadata": {
    "collapsed": true
   },
   "outputs": [],
   "source": []
  },
  {
   "cell_type": "markdown",
   "metadata": {},
   "source": [
    "# SVR - c - Linear Kernel"
   ]
  },
  {
   "cell_type": "code",
   "execution_count": 70,
   "metadata": {
    "collapsed": false
   },
   "outputs": [
    {
     "name": "stdout",
     "output_type": "stream",
     "text": [
      "\n",
      "Dataset size read: train 256 and test 65 \n",
      "\n",
      "# Tuning hyper-parameters \n",
      "\n",
      "Starting grdsurch.fit(X_train, y_train)\n"
     ]
    },
    {
     "name": "stderr",
     "output_type": "stream",
     "text": [
      "Process ForkPoolWorker-425:\n",
      "Traceback (most recent call last):\n",
      "Process ForkPoolWorker-432:\n",
      "Process ForkPoolWorker-420:\n",
      "  File \"/data/home/a1singh/anaconda3/lib/python3.6/multiprocessing/process.py\", line 249, in _bootstrap\n",
      "    self.run()\n",
      "Process ForkPoolWorker-411:\n",
      "Process ForkPoolWorker-412:\n",
      "Process ForkPoolWorker-416:\n",
      "  File \"/data/home/a1singh/anaconda3/lib/python3.6/multiprocessing/process.py\", line 93, in run\n",
      "    self._target(*self._args, **self._kwargs)\n",
      "Traceback (most recent call last):\n",
      "Process ForkPoolWorker-429:\n",
      "Process ForkPoolWorker-414:\n",
      "Process ForkPoolWorker-415:\n",
      "Process ForkPoolWorker-428:\n",
      "Traceback (most recent call last):\n",
      "Process ForkPoolWorker-410:\n",
      "Process ForkPoolWorker-431:\n",
      "Process ForkPoolWorker-427:\n",
      "Traceback (most recent call last):\n",
      "Process ForkPoolWorker-417:\n",
      "  File \"/data/home/a1singh/anaconda3/lib/python3.6/multiprocessing/process.py\", line 249, in _bootstrap\n",
      "    self.run()\n",
      "Traceback (most recent call last):\n",
      "Process ForkPoolWorker-413:\n",
      "Process ForkPoolWorker-430:\n",
      "Traceback (most recent call last):\n",
      "  File \"/data/home/a1singh/anaconda3/lib/python3.6/multiprocessing/process.py\", line 93, in run\n",
      "    self._target(*self._args, **self._kwargs)\n",
      "  File \"/data/home/a1singh/anaconda3/lib/python3.6/multiprocessing/process.py\", line 249, in _bootstrap\n",
      "    self.run()\n",
      "  File \"/data/home/a1singh/anaconda3/lib/python3.6/multiprocessing/process.py\", line 93, in run\n",
      "    self._target(*self._args, **self._kwargs)\n",
      "  File \"/data/home/a1singh/anaconda3/lib/python3.6/multiprocessing/process.py\", line 249, in _bootstrap\n",
      "    self.run()\n",
      "  File \"/data/home/a1singh/anaconda3/lib/python3.6/multiprocessing/process.py\", line 249, in _bootstrap\n",
      "    self.run()\n",
      "  File \"/data/home/a1singh/anaconda3/lib/python3.6/multiprocessing/pool.py\", line 108, in worker\n",
      "    task = get()\n",
      "Process ForkPoolWorker-409:\n",
      "  File \"/data/home/a1singh/anaconda3/lib/python3.6/multiprocessing/process.py\", line 93, in run\n",
      "    self._target(*self._args, **self._kwargs)\n",
      "  File \"/data/home/a1singh/anaconda3/lib/python3.6/multiprocessing/pool.py\", line 108, in worker\n",
      "    task = get()\n",
      "Process ForkPoolWorker-424:\n",
      "  File \"/data/home/a1singh/anaconda3/lib/python3.6/multiprocessing/process.py\", line 93, in run\n",
      "    self._target(*self._args, **self._kwargs)\n",
      "Process ForkPoolWorker-418:\n",
      "  File \"/data/home/a1singh/anaconda3/lib/python3.6/site-packages/sklearn/externals/joblib/pool.py\", line 360, in get\n",
      "    racquire()\n",
      "Traceback (most recent call last):\n",
      "Process ForkPoolWorker-426:\n",
      "Traceback (most recent call last):\n",
      "Traceback (most recent call last):\n",
      "Traceback (most recent call last):\n",
      "  File \"/data/home/a1singh/anaconda3/lib/python3.6/multiprocessing/process.py\", line 93, in run\n",
      "    self._target(*self._args, **self._kwargs)\n",
      "  File \"/data/home/a1singh/anaconda3/lib/python3.6/multiprocessing/process.py\", line 249, in _bootstrap\n",
      "    self.run()\n",
      "  File \"/data/home/a1singh/anaconda3/lib/python3.6/multiprocessing/process.py\", line 249, in _bootstrap\n",
      "    self.run()\n",
      "KeyboardInterrupt\n",
      "  File \"/data/home/a1singh/anaconda3/lib/python3.6/multiprocessing/process.py\", line 249, in _bootstrap\n",
      "    self.run()\n",
      "  File \"/data/home/a1singh/anaconda3/lib/python3.6/multiprocessing/process.py\", line 249, in _bootstrap\n",
      "    self.run()\n",
      "  File \"/data/home/a1singh/anaconda3/lib/python3.6/multiprocessing/process.py\", line 93, in run\n",
      "    self._target(*self._args, **self._kwargs)\n",
      "  File \"/data/home/a1singh/anaconda3/lib/python3.6/multiprocessing/process.py\", line 93, in run\n",
      "    self._target(*self._args, **self._kwargs)\n",
      "Traceback (most recent call last):\n",
      "Process ForkPoolWorker-419:\n",
      "Traceback (most recent call last):\n",
      "  File \"/data/home/a1singh/anaconda3/lib/python3.6/multiprocessing/pool.py\", line 108, in worker\n",
      "    task = get()\n",
      "Traceback (most recent call last):\n",
      "  File \"/data/home/a1singh/anaconda3/lib/python3.6/multiprocessing/process.py\", line 249, in _bootstrap\n",
      "    self.run()\n",
      "  File \"/data/home/a1singh/anaconda3/lib/python3.6/multiprocessing/pool.py\", line 108, in worker\n",
      "    task = get()\n",
      "  File \"/data/home/a1singh/anaconda3/lib/python3.6/multiprocessing/pool.py\", line 108, in worker\n",
      "    task = get()\n",
      "Traceback (most recent call last):\n",
      "  File \"/data/home/a1singh/anaconda3/lib/python3.6/multiprocessing/pool.py\", line 108, in worker\n",
      "    task = get()\n",
      "  File \"/data/home/a1singh/anaconda3/lib/python3.6/multiprocessing/process.py\", line 249, in _bootstrap\n",
      "    self.run()\n",
      "  File \"/data/home/a1singh/anaconda3/lib/python3.6/multiprocessing/process.py\", line 249, in _bootstrap\n",
      "    self.run()\n",
      "  File \"/data/home/a1singh/anaconda3/lib/python3.6/site-packages/sklearn/externals/joblib/pool.py\", line 360, in get\n",
      "    racquire()\n",
      "Traceback (most recent call last):\n",
      "Traceback (most recent call last):\n",
      "Traceback (most recent call last):\n",
      "Traceback (most recent call last):\n",
      "Traceback (most recent call last):\n",
      "  File \"/data/home/a1singh/anaconda3/lib/python3.6/multiprocessing/process.py\", line 249, in _bootstrap\n",
      "    self.run()\n",
      "  File \"/data/home/a1singh/anaconda3/lib/python3.6/multiprocessing/process.py\", line 93, in run\n",
      "    self._target(*self._args, **self._kwargs)\n",
      "  File \"/data/home/a1singh/anaconda3/lib/python3.6/multiprocessing/process.py\", line 249, in _bootstrap\n",
      "    self.run()\n",
      "  File \"/data/home/a1singh/anaconda3/lib/python3.6/multiprocessing/process.py\", line 249, in _bootstrap\n",
      "    self.run()\n",
      "  File \"/data/home/a1singh/anaconda3/lib/python3.6/multiprocessing/process.py\", line 93, in run\n",
      "    self._target(*self._args, **self._kwargs)\n",
      "  File \"/data/home/a1singh/anaconda3/lib/python3.6/site-packages/sklearn/externals/joblib/pool.py\", line 360, in get\n",
      "    racquire()\n",
      "Traceback (most recent call last):\n",
      "  File \"/data/home/a1singh/anaconda3/lib/python3.6/site-packages/sklearn/externals/joblib/pool.py\", line 360, in get\n",
      "    racquire()\n",
      "  File \"/data/home/a1singh/anaconda3/lib/python3.6/site-packages/sklearn/externals/joblib/pool.py\", line 360, in get\n",
      "    racquire()\n",
      "Traceback (most recent call last):\n",
      "  File \"/data/home/a1singh/anaconda3/lib/python3.6/multiprocessing/process.py\", line 93, in run\n",
      "    self._target(*self._args, **self._kwargs)\n",
      "  File \"/data/home/a1singh/anaconda3/lib/python3.6/multiprocessing/process.py\", line 93, in run\n",
      "    self._target(*self._args, **self._kwargs)\n",
      "  File \"/data/home/a1singh/anaconda3/lib/python3.6/multiprocessing/pool.py\", line 108, in worker\n",
      "    task = get()\n",
      "  File \"/data/home/a1singh/anaconda3/lib/python3.6/site-packages/sklearn/externals/joblib/pool.py\", line 360, in get\n",
      "    racquire()\n",
      "KeyboardInterrupt\n",
      "  File \"/data/home/a1singh/anaconda3/lib/python3.6/multiprocessing/process.py\", line 93, in run\n",
      "    self._target(*self._args, **self._kwargs)\n",
      "KeyboardInterrupt\n",
      "  File \"/data/home/a1singh/anaconda3/lib/python3.6/multiprocessing/pool.py\", line 108, in worker\n",
      "    task = get()\n",
      "  File \"/data/home/a1singh/anaconda3/lib/python3.6/multiprocessing/pool.py\", line 108, in worker\n",
      "    task = get()\n",
      "  File \"/data/home/a1singh/anaconda3/lib/python3.6/multiprocessing/process.py\", line 249, in _bootstrap\n",
      "    self.run()\n",
      "  File \"/data/home/a1singh/anaconda3/lib/python3.6/multiprocessing/process.py\", line 249, in _bootstrap\n",
      "    self.run()\n",
      "  File \"/data/home/a1singh/anaconda3/lib/python3.6/multiprocessing/process.py\", line 249, in _bootstrap\n",
      "    self.run()\n",
      "  File \"/data/home/a1singh/anaconda3/lib/python3.6/multiprocessing/process.py\", line 93, in run\n",
      "    self._target(*self._args, **self._kwargs)\n",
      "  File \"/data/home/a1singh/anaconda3/lib/python3.6/multiprocessing/process.py\", line 249, in _bootstrap\n",
      "    self.run()\n",
      "  File \"/data/home/a1singh/anaconda3/lib/python3.6/multiprocessing/pool.py\", line 108, in worker\n",
      "    task = get()\n",
      "  File \"/data/home/a1singh/anaconda3/lib/python3.6/multiprocessing/process.py\", line 93, in run\n",
      "    self._target(*self._args, **self._kwargs)\n",
      "  File \"/data/home/a1singh/anaconda3/lib/python3.6/multiprocessing/process.py\", line 93, in run\n",
      "    self._target(*self._args, **self._kwargs)\n",
      "  File \"/data/home/a1singh/anaconda3/lib/python3.6/multiprocessing/pool.py\", line 108, in worker\n",
      "    task = get()\n",
      "  File \"/data/home/a1singh/anaconda3/lib/python3.6/multiprocessing/process.py\", line 93, in run\n",
      "    self._target(*self._args, **self._kwargs)\n",
      "  File \"/data/home/a1singh/anaconda3/lib/python3.6/multiprocessing/process.py\", line 249, in _bootstrap\n",
      "    self.run()\n",
      "  File \"/data/home/a1singh/anaconda3/lib/python3.6/site-packages/sklearn/externals/joblib/pool.py\", line 360, in get\n",
      "    racquire()\n",
      "  File \"/data/home/a1singh/anaconda3/lib/python3.6/multiprocessing/pool.py\", line 108, in worker\n",
      "    task = get()\n",
      "  File \"/data/home/a1singh/anaconda3/lib/python3.6/site-packages/sklearn/externals/joblib/pool.py\", line 360, in get\n",
      "    racquire()\n",
      "  File \"/data/home/a1singh/anaconda3/lib/python3.6/multiprocessing/process.py\", line 249, in _bootstrap\n",
      "    self.run()\n",
      "KeyboardInterrupt\n",
      "KeyboardInterrupt\n",
      "KeyboardInterrupt\n",
      "  File \"/data/home/a1singh/anaconda3/lib/python3.6/multiprocessing/pool.py\", line 108, in worker\n",
      "    task = get()\n",
      "  File \"/data/home/a1singh/anaconda3/lib/python3.6/site-packages/sklearn/externals/joblib/pool.py\", line 360, in get\n",
      "    racquire()\n",
      "  File \"/data/home/a1singh/anaconda3/lib/python3.6/multiprocessing/process.py\", line 93, in run\n",
      "    self._target(*self._args, **self._kwargs)\n",
      "  File \"/data/home/a1singh/anaconda3/lib/python3.6/site-packages/sklearn/externals/joblib/pool.py\", line 360, in get\n",
      "    racquire()\n",
      "  File \"/data/home/a1singh/anaconda3/lib/python3.6/multiprocessing/pool.py\", line 108, in worker\n",
      "    task = get()\n",
      "  File \"/data/home/a1singh/anaconda3/lib/python3.6/site-packages/sklearn/externals/joblib/pool.py\", line 360, in get\n",
      "    racquire()\n",
      "  File \"/data/home/a1singh/anaconda3/lib/python3.6/multiprocessing/pool.py\", line 108, in worker\n",
      "    task = get()\n",
      "  File \"/data/home/a1singh/anaconda3/lib/python3.6/multiprocessing/pool.py\", line 108, in worker\n",
      "    task = get()\n",
      "  File \"/data/home/a1singh/anaconda3/lib/python3.6/multiprocessing/pool.py\", line 108, in worker\n",
      "    task = get()\n",
      "  File \"/data/home/a1singh/anaconda3/lib/python3.6/multiprocessing/process.py\", line 93, in run\n",
      "    self._target(*self._args, **self._kwargs)\n",
      "  File \"/data/home/a1singh/anaconda3/lib/python3.6/site-packages/sklearn/externals/joblib/pool.py\", line 362, in get\n",
      "    return recv()\n",
      "  File \"/data/home/a1singh/anaconda3/lib/python3.6/multiprocessing/process.py\", line 93, in run\n",
      "    self._target(*self._args, **self._kwargs)\n",
      "KeyboardInterrupt\n",
      "  File \"/data/home/a1singh/anaconda3/lib/python3.6/site-packages/sklearn/externals/joblib/pool.py\", line 360, in get\n",
      "    racquire()\n",
      "KeyboardInterrupt\n",
      "  File \"/data/home/a1singh/anaconda3/lib/python3.6/multiprocessing/process.py\", line 93, in run\n",
      "    self._target(*self._args, **self._kwargs)\n",
      "KeyboardInterrupt\n",
      "  File \"/data/home/a1singh/anaconda3/lib/python3.6/multiprocessing/pool.py\", line 108, in worker\n",
      "    task = get()\n",
      "KeyboardInterrupt\n",
      "  File \"/data/home/a1singh/anaconda3/lib/python3.6/site-packages/sklearn/externals/joblib/pool.py\", line 360, in get\n",
      "    racquire()\n",
      "  File \"/data/home/a1singh/anaconda3/lib/python3.6/multiprocessing/pool.py\", line 108, in worker\n",
      "    task = get()\n",
      "KeyboardInterrupt\n",
      "  File \"/data/home/a1singh/anaconda3/lib/python3.6/site-packages/sklearn/externals/joblib/pool.py\", line 360, in get\n",
      "    racquire()\n",
      "  File \"/data/home/a1singh/anaconda3/lib/python3.6/site-packages/sklearn/externals/joblib/pool.py\", line 360, in get\n",
      "    racquire()\n",
      "  File \"/data/home/a1singh/anaconda3/lib/python3.6/multiprocessing/connection.py\", line 250, in recv\n",
      "    buf = self._recv_bytes()\n",
      "  File \"/data/home/a1singh/anaconda3/lib/python3.6/multiprocessing/pool.py\", line 108, in worker\n",
      "    task = get()\n",
      "  File \"/data/home/a1singh/anaconda3/lib/python3.6/site-packages/sklearn/externals/joblib/pool.py\", line 360, in get\n",
      "    racquire()\n",
      "KeyboardInterrupt\n",
      "  File \"/data/home/a1singh/anaconda3/lib/python3.6/multiprocessing/pool.py\", line 108, in worker\n",
      "    task = get()\n",
      "KeyboardInterrupt\n",
      "  File \"/data/home/a1singh/anaconda3/lib/python3.6/multiprocessing/connection.py\", line 407, in _recv_bytes\n",
      "    buf = self._recv(4)\n",
      "  File \"/data/home/a1singh/anaconda3/lib/python3.6/site-packages/sklearn/externals/joblib/pool.py\", line 360, in get\n",
      "    racquire()\n",
      "KeyboardInterrupt\n",
      "KeyboardInterrupt\n",
      "KeyboardInterrupt\n",
      "  File \"/data/home/a1singh/anaconda3/lib/python3.6/site-packages/sklearn/externals/joblib/pool.py\", line 360, in get\n",
      "    racquire()\n",
      "  File \"/data/home/a1singh/anaconda3/lib/python3.6/site-packages/sklearn/externals/joblib/pool.py\", line 360, in get\n",
      "    racquire()\n",
      "  File \"/data/home/a1singh/anaconda3/lib/python3.6/site-packages/sklearn/externals/joblib/pool.py\", line 360, in get\n",
      "    racquire()\n",
      "KeyboardInterrupt\n",
      "KeyboardInterrupt\n",
      "KeyboardInterrupt\n",
      "KeyboardInterrupt\n",
      "  File \"/data/home/a1singh/anaconda3/lib/python3.6/multiprocessing/connection.py\", line 379, in _recv\n",
      "    chunk = read(handle, remaining)\n",
      "KeyboardInterrupt\n"
     ]
    },
    {
     "ename": "TypeError",
     "evalue": "catching classes that do not inherit from BaseException is not allowed",
     "output_type": "error",
     "traceback": [
      "\u001b[0;31m---------------------------------------------------------------------------\u001b[0m",
      "\u001b[0;31mKeyboardInterrupt\u001b[0m                         Traceback (most recent call last)",
      "\u001b[0;32m/data/home/a1singh/anaconda3/lib/python3.6/site-packages/sklearn/externals/joblib/parallel.py\u001b[0m in \u001b[0;36mretrieve\u001b[0;34m(self)\u001b[0m\n\u001b[1;32m    681\u001b[0m                 \u001b[0;32mif\u001b[0m \u001b[0;34m'timeout'\u001b[0m \u001b[0;32min\u001b[0m \u001b[0mgetfullargspec\u001b[0m\u001b[0;34m(\u001b[0m\u001b[0mjob\u001b[0m\u001b[0;34m.\u001b[0m\u001b[0mget\u001b[0m\u001b[0;34m)\u001b[0m\u001b[0;34m.\u001b[0m\u001b[0margs\u001b[0m\u001b[0;34m:\u001b[0m\u001b[0;34m\u001b[0m\u001b[0m\n\u001b[0;32m--> 682\u001b[0;31m                     \u001b[0mself\u001b[0m\u001b[0;34m.\u001b[0m\u001b[0m_output\u001b[0m\u001b[0;34m.\u001b[0m\u001b[0mextend\u001b[0m\u001b[0;34m(\u001b[0m\u001b[0mjob\u001b[0m\u001b[0;34m.\u001b[0m\u001b[0mget\u001b[0m\u001b[0;34m(\u001b[0m\u001b[0mtimeout\u001b[0m\u001b[0;34m=\u001b[0m\u001b[0mself\u001b[0m\u001b[0;34m.\u001b[0m\u001b[0mtimeout\u001b[0m\u001b[0;34m)\u001b[0m\u001b[0;34m)\u001b[0m\u001b[0;34m\u001b[0m\u001b[0m\n\u001b[0m\u001b[1;32m    683\u001b[0m                 \u001b[0;32melse\u001b[0m\u001b[0;34m:\u001b[0m\u001b[0;34m\u001b[0m\u001b[0m\n",
      "\u001b[0;32m/data/home/a1singh/anaconda3/lib/python3.6/multiprocessing/pool.py\u001b[0m in \u001b[0;36mget\u001b[0;34m(self, timeout)\u001b[0m\n\u001b[1;32m    601\u001b[0m     \u001b[0;32mdef\u001b[0m \u001b[0mget\u001b[0m\u001b[0;34m(\u001b[0m\u001b[0mself\u001b[0m\u001b[0;34m,\u001b[0m \u001b[0mtimeout\u001b[0m\u001b[0;34m=\u001b[0m\u001b[0;32mNone\u001b[0m\u001b[0;34m)\u001b[0m\u001b[0;34m:\u001b[0m\u001b[0;34m\u001b[0m\u001b[0m\n\u001b[0;32m--> 602\u001b[0;31m         \u001b[0mself\u001b[0m\u001b[0;34m.\u001b[0m\u001b[0mwait\u001b[0m\u001b[0;34m(\u001b[0m\u001b[0mtimeout\u001b[0m\u001b[0;34m)\u001b[0m\u001b[0;34m\u001b[0m\u001b[0m\n\u001b[0m\u001b[1;32m    603\u001b[0m         \u001b[0;32mif\u001b[0m \u001b[0;32mnot\u001b[0m \u001b[0mself\u001b[0m\u001b[0;34m.\u001b[0m\u001b[0mready\u001b[0m\u001b[0;34m(\u001b[0m\u001b[0;34m)\u001b[0m\u001b[0;34m:\u001b[0m\u001b[0;34m\u001b[0m\u001b[0m\n",
      "\u001b[0;32m/data/home/a1singh/anaconda3/lib/python3.6/multiprocessing/pool.py\u001b[0m in \u001b[0;36mwait\u001b[0;34m(self, timeout)\u001b[0m\n\u001b[1;32m    598\u001b[0m     \u001b[0;32mdef\u001b[0m \u001b[0mwait\u001b[0m\u001b[0;34m(\u001b[0m\u001b[0mself\u001b[0m\u001b[0;34m,\u001b[0m \u001b[0mtimeout\u001b[0m\u001b[0;34m=\u001b[0m\u001b[0;32mNone\u001b[0m\u001b[0;34m)\u001b[0m\u001b[0;34m:\u001b[0m\u001b[0;34m\u001b[0m\u001b[0m\n\u001b[0;32m--> 599\u001b[0;31m         \u001b[0mself\u001b[0m\u001b[0;34m.\u001b[0m\u001b[0m_event\u001b[0m\u001b[0;34m.\u001b[0m\u001b[0mwait\u001b[0m\u001b[0;34m(\u001b[0m\u001b[0mtimeout\u001b[0m\u001b[0;34m)\u001b[0m\u001b[0;34m\u001b[0m\u001b[0m\n\u001b[0m\u001b[1;32m    600\u001b[0m \u001b[0;34m\u001b[0m\u001b[0m\n",
      "\u001b[0;32m/data/home/a1singh/anaconda3/lib/python3.6/threading.py\u001b[0m in \u001b[0;36mwait\u001b[0;34m(self, timeout)\u001b[0m\n\u001b[1;32m    550\u001b[0m             \u001b[0;32mif\u001b[0m \u001b[0;32mnot\u001b[0m \u001b[0msignaled\u001b[0m\u001b[0;34m:\u001b[0m\u001b[0;34m\u001b[0m\u001b[0m\n\u001b[0;32m--> 551\u001b[0;31m                 \u001b[0msignaled\u001b[0m \u001b[0;34m=\u001b[0m \u001b[0mself\u001b[0m\u001b[0;34m.\u001b[0m\u001b[0m_cond\u001b[0m\u001b[0;34m.\u001b[0m\u001b[0mwait\u001b[0m\u001b[0;34m(\u001b[0m\u001b[0mtimeout\u001b[0m\u001b[0;34m)\u001b[0m\u001b[0;34m\u001b[0m\u001b[0m\n\u001b[0m\u001b[1;32m    552\u001b[0m             \u001b[0;32mreturn\u001b[0m \u001b[0msignaled\u001b[0m\u001b[0;34m\u001b[0m\u001b[0m\n",
      "\u001b[0;32m/data/home/a1singh/anaconda3/lib/python3.6/threading.py\u001b[0m in \u001b[0;36mwait\u001b[0;34m(self, timeout)\u001b[0m\n\u001b[1;32m    294\u001b[0m             \u001b[0;32mif\u001b[0m \u001b[0mtimeout\u001b[0m \u001b[0;32mis\u001b[0m \u001b[0;32mNone\u001b[0m\u001b[0;34m:\u001b[0m\u001b[0;34m\u001b[0m\u001b[0m\n\u001b[0;32m--> 295\u001b[0;31m                 \u001b[0mwaiter\u001b[0m\u001b[0;34m.\u001b[0m\u001b[0macquire\u001b[0m\u001b[0;34m(\u001b[0m\u001b[0;34m)\u001b[0m\u001b[0;34m\u001b[0m\u001b[0m\n\u001b[0m\u001b[1;32m    296\u001b[0m                 \u001b[0mgotit\u001b[0m \u001b[0;34m=\u001b[0m \u001b[0;32mTrue\u001b[0m\u001b[0;34m\u001b[0m\u001b[0m\n",
      "\u001b[0;31mKeyboardInterrupt\u001b[0m: ",
      "\nDuring handling of the above exception, another exception occurred:\n",
      "\u001b[0;31mKeyboardInterrupt\u001b[0m                         Traceback (most recent call last)",
      "\u001b[0;32m/data/home/a1singh/anaconda3/lib/python3.6/site-packages/sklearn/externals/joblib/pool.py\u001b[0m in \u001b[0;36mterminate\u001b[0;34m(self)\u001b[0m\n\u001b[1;32m    605\u001b[0m             \u001b[0;32mtry\u001b[0m\u001b[0;34m:\u001b[0m\u001b[0;34m\u001b[0m\u001b[0m\n\u001b[0;32m--> 606\u001b[0;31m                 \u001b[0msuper\u001b[0m\u001b[0;34m(\u001b[0m\u001b[0mMemmapingPool\u001b[0m\u001b[0;34m,\u001b[0m \u001b[0mself\u001b[0m\u001b[0;34m)\u001b[0m\u001b[0;34m.\u001b[0m\u001b[0mterminate\u001b[0m\u001b[0;34m(\u001b[0m\u001b[0;34m)\u001b[0m\u001b[0;34m\u001b[0m\u001b[0m\n\u001b[0m\u001b[1;32m    607\u001b[0m                 \u001b[0;32mbreak\u001b[0m\u001b[0;34m\u001b[0m\u001b[0m\n",
      "\u001b[0;32m/data/home/a1singh/anaconda3/lib/python3.6/multiprocessing/pool.py\u001b[0m in \u001b[0;36mterminate\u001b[0;34m(self)\u001b[0m\n\u001b[1;32m    504\u001b[0m         \u001b[0mself\u001b[0m\u001b[0;34m.\u001b[0m\u001b[0m_worker_handler\u001b[0m\u001b[0;34m.\u001b[0m\u001b[0m_state\u001b[0m \u001b[0;34m=\u001b[0m \u001b[0mTERMINATE\u001b[0m\u001b[0;34m\u001b[0m\u001b[0m\n\u001b[0;32m--> 505\u001b[0;31m         \u001b[0mself\u001b[0m\u001b[0;34m.\u001b[0m\u001b[0m_terminate\u001b[0m\u001b[0;34m(\u001b[0m\u001b[0;34m)\u001b[0m\u001b[0;34m\u001b[0m\u001b[0m\n\u001b[0m\u001b[1;32m    506\u001b[0m \u001b[0;34m\u001b[0m\u001b[0m\n",
      "\u001b[0;32m/data/home/a1singh/anaconda3/lib/python3.6/multiprocessing/util.py\u001b[0m in \u001b[0;36m__call__\u001b[0;34m(self, wr, _finalizer_registry, sub_debug, getpid)\u001b[0m\n\u001b[1;32m    185\u001b[0m                           self._callback, self._args, self._kwargs)\n\u001b[0;32m--> 186\u001b[0;31m                 \u001b[0mres\u001b[0m \u001b[0;34m=\u001b[0m \u001b[0mself\u001b[0m\u001b[0;34m.\u001b[0m\u001b[0m_callback\u001b[0m\u001b[0;34m(\u001b[0m\u001b[0;34m*\u001b[0m\u001b[0mself\u001b[0m\u001b[0;34m.\u001b[0m\u001b[0m_args\u001b[0m\u001b[0;34m,\u001b[0m \u001b[0;34m**\u001b[0m\u001b[0mself\u001b[0m\u001b[0;34m.\u001b[0m\u001b[0m_kwargs\u001b[0m\u001b[0;34m)\u001b[0m\u001b[0;34m\u001b[0m\u001b[0m\n\u001b[0m\u001b[1;32m    187\u001b[0m             \u001b[0mself\u001b[0m\u001b[0;34m.\u001b[0m\u001b[0m_weakref\u001b[0m \u001b[0;34m=\u001b[0m \u001b[0mself\u001b[0m\u001b[0;34m.\u001b[0m\u001b[0m_callback\u001b[0m \u001b[0;34m=\u001b[0m \u001b[0mself\u001b[0m\u001b[0;34m.\u001b[0m\u001b[0m_args\u001b[0m \u001b[0;34m=\u001b[0m\u001b[0;31m \u001b[0m\u001b[0;31m\\\u001b[0m\u001b[0;34m\u001b[0m\u001b[0m\n",
      "\u001b[0;32m/data/home/a1singh/anaconda3/lib/python3.6/multiprocessing/pool.py\u001b[0m in \u001b[0;36m_terminate_pool\u001b[0;34m(cls, taskqueue, inqueue, outqueue, pool, worker_handler, task_handler, result_handler, cache)\u001b[0m\n\u001b[1;32m    534\u001b[0m         \u001b[0mutil\u001b[0m\u001b[0;34m.\u001b[0m\u001b[0mdebug\u001b[0m\u001b[0;34m(\u001b[0m\u001b[0;34m'helping task handler/workers to finish'\u001b[0m\u001b[0;34m)\u001b[0m\u001b[0;34m\u001b[0m\u001b[0m\n\u001b[0;32m--> 535\u001b[0;31m         \u001b[0mcls\u001b[0m\u001b[0;34m.\u001b[0m\u001b[0m_help_stuff_finish\u001b[0m\u001b[0;34m(\u001b[0m\u001b[0minqueue\u001b[0m\u001b[0;34m,\u001b[0m \u001b[0mtask_handler\u001b[0m\u001b[0;34m,\u001b[0m \u001b[0mlen\u001b[0m\u001b[0;34m(\u001b[0m\u001b[0mpool\u001b[0m\u001b[0;34m)\u001b[0m\u001b[0;34m)\u001b[0m\u001b[0;34m\u001b[0m\u001b[0m\n\u001b[0m\u001b[1;32m    536\u001b[0m \u001b[0;34m\u001b[0m\u001b[0m\n",
      "\u001b[0;32m/data/home/a1singh/anaconda3/lib/python3.6/multiprocessing/pool.py\u001b[0m in \u001b[0;36m_help_stuff_finish\u001b[0;34m(inqueue, task_handler, size)\u001b[0m\n\u001b[1;32m    519\u001b[0m         \u001b[0mutil\u001b[0m\u001b[0;34m.\u001b[0m\u001b[0mdebug\u001b[0m\u001b[0;34m(\u001b[0m\u001b[0;34m'removing tasks from inqueue until task handler finished'\u001b[0m\u001b[0;34m)\u001b[0m\u001b[0;34m\u001b[0m\u001b[0m\n\u001b[0;32m--> 520\u001b[0;31m         \u001b[0minqueue\u001b[0m\u001b[0;34m.\u001b[0m\u001b[0m_rlock\u001b[0m\u001b[0;34m.\u001b[0m\u001b[0macquire\u001b[0m\u001b[0;34m(\u001b[0m\u001b[0;34m)\u001b[0m\u001b[0;34m\u001b[0m\u001b[0m\n\u001b[0m\u001b[1;32m    521\u001b[0m         \u001b[0;32mwhile\u001b[0m \u001b[0mtask_handler\u001b[0m\u001b[0;34m.\u001b[0m\u001b[0mis_alive\u001b[0m\u001b[0;34m(\u001b[0m\u001b[0;34m)\u001b[0m \u001b[0;32mand\u001b[0m \u001b[0minqueue\u001b[0m\u001b[0;34m.\u001b[0m\u001b[0m_reader\u001b[0m\u001b[0;34m.\u001b[0m\u001b[0mpoll\u001b[0m\u001b[0;34m(\u001b[0m\u001b[0;34m)\u001b[0m\u001b[0;34m:\u001b[0m\u001b[0;34m\u001b[0m\u001b[0m\n",
      "\u001b[0;31mKeyboardInterrupt\u001b[0m: ",
      "\nDuring handling of the above exception, another exception occurred:\n",
      "\u001b[0;31mTypeError\u001b[0m                                 Traceback (most recent call last)",
      "\u001b[0;32m<ipython-input-70-c95ce46ab033>\u001b[0m in \u001b[0;36m<module>\u001b[0;34m()\u001b[0m\n\u001b[0;32m----> 1\u001b[0;31m \u001b[0mt_SVRLinearCVModel\u001b[0m \u001b[0;34m=\u001b[0m \u001b[0mwrapper\u001b[0m\u001b[0;34m(\u001b[0m\u001b[0;34m[\u001b[0m\u001b[0mSVRLinearCVModel\u001b[0m\u001b[0;34m]\u001b[0m\u001b[0;34m)\u001b[0m\u001b[0;34m\u001b[0m\u001b[0m\n\u001b[0m",
      "\u001b[0;32m<ipython-input-4-2fe7248fa74a>\u001b[0m in \u001b[0;36mwrapper\u001b[0;34m(functionList, filenames)\u001b[0m\n\u001b[1;32m      8\u001b[0m             \u001b[0mprint\u001b[0m\u001b[0;34m(\u001b[0m\u001b[0;34m)\u001b[0m\u001b[0;34m\u001b[0m\u001b[0m\n\u001b[1;32m      9\u001b[0m             \u001b[0;32mfor\u001b[0m \u001b[0mfilename\u001b[0m \u001b[0;32min\u001b[0m \u001b[0mfilenames\u001b[0m\u001b[0;34m:\u001b[0m\u001b[0;34m\u001b[0m\u001b[0m\n\u001b[0;32m---> 10\u001b[0;31m                 \u001b[0mout\u001b[0m \u001b[0;34m=\u001b[0m \u001b[0mf\u001b[0m\u001b[0;34m(\u001b[0m\u001b[0mfilename\u001b[0m\u001b[0;34m)\u001b[0m\u001b[0;34m\u001b[0m\u001b[0m\n\u001b[0m\u001b[1;32m     11\u001b[0m                 \u001b[0mnewScore\u001b[0m \u001b[0;34m=\u001b[0m \u001b[0mout\u001b[0m\u001b[0;34m[\u001b[0m\u001b[0mfilename\u001b[0m\u001b[0;34m]\u001b[0m\u001b[0;34m[\u001b[0m\u001b[0;34m'train_rmse_cv_4_picking'\u001b[0m\u001b[0;34m]\u001b[0m\u001b[0;34m\u001b[0m\u001b[0m\n\u001b[1;32m     12\u001b[0m \u001b[0;34m\u001b[0m\u001b[0m\n",
      "\u001b[0;32m/data/home/a1singh/IPPD/IPPD/workbench/allfunctions.py\u001b[0m in \u001b[0;36mSVRLinearCVModel\u001b[0;34m(filename)\u001b[0m\n\u001b[1;32m    470\u001b[0m     \u001b[0mprint\u001b[0m\u001b[0;34m(\u001b[0m\u001b[0;34m'Starting grdsurch.fit(X_train, y_train)'\u001b[0m\u001b[0;34m)\u001b[0m\u001b[0;34m\u001b[0m\u001b[0m\n\u001b[1;32m    471\u001b[0m \u001b[0;34m\u001b[0m\u001b[0m\n\u001b[0;32m--> 472\u001b[0;31m     \u001b[0mgrdsurch\u001b[0m\u001b[0;34m.\u001b[0m\u001b[0mfit\u001b[0m\u001b[0;34m(\u001b[0m\u001b[0mX_train\u001b[0m\u001b[0;34m,\u001b[0m \u001b[0my_train\u001b[0m\u001b[0;34m)\u001b[0m\u001b[0;34m\u001b[0m\u001b[0m\n\u001b[0m\u001b[1;32m    473\u001b[0m \u001b[0;34m\u001b[0m\u001b[0m\n\u001b[1;32m    474\u001b[0m     \u001b[0mprint\u001b[0m\u001b[0;34m(\u001b[0m\u001b[0;34m\"\\n Best parameters set found on development set:\"\u001b[0m\u001b[0;34m)\u001b[0m\u001b[0;34m\u001b[0m\u001b[0m\n",
      "\u001b[0;32m/data/home/a1singh/anaconda3/lib/python3.6/site-packages/sklearn/model_selection/_search.py\u001b[0m in \u001b[0;36mfit\u001b[0;34m(self, X, y, groups)\u001b[0m\n\u001b[1;32m    943\u001b[0m             \u001b[0mtrain\u001b[0m\u001b[0;34m/\u001b[0m\u001b[0mtest\u001b[0m \u001b[0mset\u001b[0m\u001b[0;34m.\u001b[0m\u001b[0;34m\u001b[0m\u001b[0m\n\u001b[1;32m    944\u001b[0m         \"\"\"\n\u001b[0;32m--> 945\u001b[0;31m         \u001b[0;32mreturn\u001b[0m \u001b[0mself\u001b[0m\u001b[0;34m.\u001b[0m\u001b[0m_fit\u001b[0m\u001b[0;34m(\u001b[0m\u001b[0mX\u001b[0m\u001b[0;34m,\u001b[0m \u001b[0my\u001b[0m\u001b[0;34m,\u001b[0m \u001b[0mgroups\u001b[0m\u001b[0;34m,\u001b[0m \u001b[0mParameterGrid\u001b[0m\u001b[0;34m(\u001b[0m\u001b[0mself\u001b[0m\u001b[0;34m.\u001b[0m\u001b[0mparam_grid\u001b[0m\u001b[0;34m)\u001b[0m\u001b[0;34m)\u001b[0m\u001b[0;34m\u001b[0m\u001b[0m\n\u001b[0m\u001b[1;32m    946\u001b[0m \u001b[0;34m\u001b[0m\u001b[0m\n\u001b[1;32m    947\u001b[0m \u001b[0;34m\u001b[0m\u001b[0m\n",
      "\u001b[0;32m/data/home/a1singh/anaconda3/lib/python3.6/site-packages/sklearn/model_selection/_search.py\u001b[0m in \u001b[0;36m_fit\u001b[0;34m(self, X, y, groups, parameter_iterable)\u001b[0m\n\u001b[1;32m    562\u001b[0m                                   \u001b[0mreturn_times\u001b[0m\u001b[0;34m=\u001b[0m\u001b[0;32mTrue\u001b[0m\u001b[0;34m,\u001b[0m \u001b[0mreturn_parameters\u001b[0m\u001b[0;34m=\u001b[0m\u001b[0;32mTrue\u001b[0m\u001b[0;34m,\u001b[0m\u001b[0;34m\u001b[0m\u001b[0m\n\u001b[1;32m    563\u001b[0m                                   error_score=self.error_score)\n\u001b[0;32m--> 564\u001b[0;31m           \u001b[0;32mfor\u001b[0m \u001b[0mparameters\u001b[0m \u001b[0;32min\u001b[0m \u001b[0mparameter_iterable\u001b[0m\u001b[0;34m\u001b[0m\u001b[0m\n\u001b[0m\u001b[1;32m    565\u001b[0m           for train, test in cv_iter)\n\u001b[1;32m    566\u001b[0m \u001b[0;34m\u001b[0m\u001b[0m\n",
      "\u001b[0;32m/data/home/a1singh/anaconda3/lib/python3.6/site-packages/sklearn/externals/joblib/parallel.py\u001b[0m in \u001b[0;36m__call__\u001b[0;34m(self, iterable)\u001b[0m\n\u001b[1;32m    766\u001b[0m                 \u001b[0;31m# consumption.\u001b[0m\u001b[0;34m\u001b[0m\u001b[0;34m\u001b[0m\u001b[0m\n\u001b[1;32m    767\u001b[0m                 \u001b[0mself\u001b[0m\u001b[0;34m.\u001b[0m\u001b[0m_iterating\u001b[0m \u001b[0;34m=\u001b[0m \u001b[0;32mFalse\u001b[0m\u001b[0;34m\u001b[0m\u001b[0m\n\u001b[0;32m--> 768\u001b[0;31m             \u001b[0mself\u001b[0m\u001b[0;34m.\u001b[0m\u001b[0mretrieve\u001b[0m\u001b[0;34m(\u001b[0m\u001b[0;34m)\u001b[0m\u001b[0;34m\u001b[0m\u001b[0m\n\u001b[0m\u001b[1;32m    769\u001b[0m             \u001b[0;31m# Make sure that we get a last message telling us we are done\u001b[0m\u001b[0;34m\u001b[0m\u001b[0;34m\u001b[0m\u001b[0m\n\u001b[1;32m    770\u001b[0m             \u001b[0melapsed_time\u001b[0m \u001b[0;34m=\u001b[0m \u001b[0mtime\u001b[0m\u001b[0;34m.\u001b[0m\u001b[0mtime\u001b[0m\u001b[0;34m(\u001b[0m\u001b[0;34m)\u001b[0m \u001b[0;34m-\u001b[0m \u001b[0mself\u001b[0m\u001b[0;34m.\u001b[0m\u001b[0m_start_time\u001b[0m\u001b[0;34m\u001b[0m\u001b[0m\n",
      "\u001b[0;32m/data/home/a1singh/anaconda3/lib/python3.6/site-packages/sklearn/externals/joblib/parallel.py\u001b[0m in \u001b[0;36mretrieve\u001b[0;34m(self)\u001b[0m\n\u001b[1;32m    716\u001b[0m                     \u001b[0;31m# scheduling.\u001b[0m\u001b[0;34m\u001b[0m\u001b[0;34m\u001b[0m\u001b[0m\n\u001b[1;32m    717\u001b[0m                     \u001b[0mensure_ready\u001b[0m \u001b[0;34m=\u001b[0m \u001b[0mself\u001b[0m\u001b[0;34m.\u001b[0m\u001b[0m_managed_backend\u001b[0m\u001b[0;34m\u001b[0m\u001b[0m\n\u001b[0;32m--> 718\u001b[0;31m                     \u001b[0mbackend\u001b[0m\u001b[0;34m.\u001b[0m\u001b[0mabort_everything\u001b[0m\u001b[0;34m(\u001b[0m\u001b[0mensure_ready\u001b[0m\u001b[0;34m=\u001b[0m\u001b[0mensure_ready\u001b[0m\u001b[0;34m)\u001b[0m\u001b[0;34m\u001b[0m\u001b[0m\n\u001b[0m\u001b[1;32m    719\u001b[0m                 \u001b[0;32mraise\u001b[0m \u001b[0mexception\u001b[0m\u001b[0;34m\u001b[0m\u001b[0m\n\u001b[1;32m    720\u001b[0m \u001b[0;34m\u001b[0m\u001b[0m\n",
      "\u001b[0;32m/data/home/a1singh/anaconda3/lib/python3.6/site-packages/sklearn/externals/joblib/_parallel_backends.py\u001b[0m in \u001b[0;36mabort_everything\u001b[0;34m(self, ensure_ready)\u001b[0m\n\u001b[1;32m    141\u001b[0m     \u001b[0;32mdef\u001b[0m \u001b[0mabort_everything\u001b[0m\u001b[0;34m(\u001b[0m\u001b[0mself\u001b[0m\u001b[0;34m,\u001b[0m \u001b[0mensure_ready\u001b[0m\u001b[0;34m=\u001b[0m\u001b[0;32mTrue\u001b[0m\u001b[0;34m)\u001b[0m\u001b[0;34m:\u001b[0m\u001b[0;34m\u001b[0m\u001b[0m\n\u001b[1;32m    142\u001b[0m         \u001b[0;34m\"\"\"Shutdown the pool and restart a new one with the same parameters\"\"\"\u001b[0m\u001b[0;34m\u001b[0m\u001b[0m\n\u001b[0;32m--> 143\u001b[0;31m         \u001b[0mself\u001b[0m\u001b[0;34m.\u001b[0m\u001b[0mterminate\u001b[0m\u001b[0;34m(\u001b[0m\u001b[0;34m)\u001b[0m\u001b[0;34m\u001b[0m\u001b[0m\n\u001b[0m\u001b[1;32m    144\u001b[0m         \u001b[0;32mif\u001b[0m \u001b[0mensure_ready\u001b[0m\u001b[0;34m:\u001b[0m\u001b[0;34m\u001b[0m\u001b[0m\n\u001b[1;32m    145\u001b[0m             self.configure(n_jobs=self.parallel.n_jobs, parallel=self.parallel,\n",
      "\u001b[0;32m/data/home/a1singh/anaconda3/lib/python3.6/site-packages/sklearn/externals/joblib/_parallel_backends.py\u001b[0m in \u001b[0;36mterminate\u001b[0;34m(self)\u001b[0m\n\u001b[1;32m    315\u001b[0m     \u001b[0;32mdef\u001b[0m \u001b[0mterminate\u001b[0m\u001b[0;34m(\u001b[0m\u001b[0mself\u001b[0m\u001b[0;34m)\u001b[0m\u001b[0;34m:\u001b[0m\u001b[0;34m\u001b[0m\u001b[0m\n\u001b[1;32m    316\u001b[0m         \u001b[0;34m\"\"\"Shutdown the process or thread pool\"\"\"\u001b[0m\u001b[0;34m\u001b[0m\u001b[0m\n\u001b[0;32m--> 317\u001b[0;31m         \u001b[0msuper\u001b[0m\u001b[0;34m(\u001b[0m\u001b[0mMultiprocessingBackend\u001b[0m\u001b[0;34m,\u001b[0m \u001b[0mself\u001b[0m\u001b[0;34m)\u001b[0m\u001b[0;34m.\u001b[0m\u001b[0mterminate\u001b[0m\u001b[0;34m(\u001b[0m\u001b[0;34m)\u001b[0m\u001b[0;34m\u001b[0m\u001b[0m\n\u001b[0m\u001b[1;32m    318\u001b[0m         \u001b[0;32mif\u001b[0m \u001b[0mself\u001b[0m\u001b[0;34m.\u001b[0m\u001b[0mJOBLIB_SPAWNED_PROCESS\u001b[0m \u001b[0;32min\u001b[0m \u001b[0mos\u001b[0m\u001b[0;34m.\u001b[0m\u001b[0menviron\u001b[0m\u001b[0;34m:\u001b[0m\u001b[0;34m\u001b[0m\u001b[0m\n\u001b[1;32m    319\u001b[0m             \u001b[0;32mdel\u001b[0m \u001b[0mos\u001b[0m\u001b[0;34m.\u001b[0m\u001b[0menviron\u001b[0m\u001b[0;34m[\u001b[0m\u001b[0mself\u001b[0m\u001b[0;34m.\u001b[0m\u001b[0mJOBLIB_SPAWNED_PROCESS\u001b[0m\u001b[0;34m]\u001b[0m\u001b[0;34m\u001b[0m\u001b[0m\n",
      "\u001b[0;32m/data/home/a1singh/anaconda3/lib/python3.6/site-packages/sklearn/externals/joblib/_parallel_backends.py\u001b[0m in \u001b[0;36mterminate\u001b[0;34m(self)\u001b[0m\n\u001b[1;32m    132\u001b[0m         \u001b[0;32mif\u001b[0m \u001b[0mself\u001b[0m\u001b[0;34m.\u001b[0m\u001b[0m_pool\u001b[0m \u001b[0;32mis\u001b[0m \u001b[0;32mnot\u001b[0m \u001b[0;32mNone\u001b[0m\u001b[0;34m:\u001b[0m\u001b[0;34m\u001b[0m\u001b[0m\n\u001b[1;32m    133\u001b[0m             \u001b[0mself\u001b[0m\u001b[0;34m.\u001b[0m\u001b[0m_pool\u001b[0m\u001b[0;34m.\u001b[0m\u001b[0mclose\u001b[0m\u001b[0;34m(\u001b[0m\u001b[0;34m)\u001b[0m\u001b[0;34m\u001b[0m\u001b[0m\n\u001b[0;32m--> 134\u001b[0;31m             \u001b[0mself\u001b[0m\u001b[0;34m.\u001b[0m\u001b[0m_pool\u001b[0m\u001b[0;34m.\u001b[0m\u001b[0mterminate\u001b[0m\u001b[0;34m(\u001b[0m\u001b[0;34m)\u001b[0m  \u001b[0;31m# terminate does a join()\u001b[0m\u001b[0;34m\u001b[0m\u001b[0m\n\u001b[0m\u001b[1;32m    135\u001b[0m             \u001b[0mself\u001b[0m\u001b[0;34m.\u001b[0m\u001b[0m_pool\u001b[0m \u001b[0;34m=\u001b[0m \u001b[0;32mNone\u001b[0m\u001b[0;34m\u001b[0m\u001b[0m\n\u001b[1;32m    136\u001b[0m \u001b[0;34m\u001b[0m\u001b[0m\n",
      "\u001b[0;32m/data/home/a1singh/anaconda3/lib/python3.6/site-packages/sklearn/externals/joblib/pool.py\u001b[0m in \u001b[0;36mterminate\u001b[0;34m(self)\u001b[0m\n\u001b[1;32m    606\u001b[0m                 \u001b[0msuper\u001b[0m\u001b[0;34m(\u001b[0m\u001b[0mMemmapingPool\u001b[0m\u001b[0;34m,\u001b[0m \u001b[0mself\u001b[0m\u001b[0;34m)\u001b[0m\u001b[0;34m.\u001b[0m\u001b[0mterminate\u001b[0m\u001b[0;34m(\u001b[0m\u001b[0;34m)\u001b[0m\u001b[0;34m\u001b[0m\u001b[0m\n\u001b[1;32m    607\u001b[0m                 \u001b[0;32mbreak\u001b[0m\u001b[0;34m\u001b[0m\u001b[0m\n\u001b[0;32m--> 608\u001b[0;31m             \u001b[0;32mexcept\u001b[0m \u001b[0mWindowsError\u001b[0m \u001b[0;32mas\u001b[0m \u001b[0me\u001b[0m\u001b[0;34m:\u001b[0m\u001b[0;34m\u001b[0m\u001b[0m\n\u001b[0m\u001b[1;32m    609\u001b[0m                 \u001b[0;31m# Workaround  occasional \"[Error 5] Access is denied\" issue\u001b[0m\u001b[0;34m\u001b[0m\u001b[0;34m\u001b[0m\u001b[0m\n\u001b[1;32m    610\u001b[0m                 \u001b[0;31m# when trying to terminate a process under windows.\u001b[0m\u001b[0;34m\u001b[0m\u001b[0;34m\u001b[0m\u001b[0m\n",
      "\u001b[0;31mTypeError\u001b[0m: catching classes that do not inherit from BaseException is not allowed"
     ]
    }
   ],
   "source": [
    "t_SVRLinearCVModel = wrapper([SVRLinearCVModel])"
   ]
  },
  {
   "cell_type": "code",
   "execution_count": null,
   "metadata": {
    "collapsed": false
   },
   "outputs": [],
   "source": [
    "t = t_SVRLinearCVModel\n",
    "\n",
    "for key in t.keys():\n",
    "    print(key)\n",
    "    t_mo= t[key]['model']\n",
    "    print(\n",
    "          t[key]['model'],'\\n\\n\\n',\n",
    "          t[key]['train_rmse_cv_4_picking'],\n",
    "          t[key]['test_rmse_4_reporting'],\n",
    "          t[key]['test_mean_y_4_comparing']\n",
    "         )\n",
    "    print(100*'_')"
   ]
  },
  {
   "cell_type": "markdown",
   "metadata": {},
   "source": [
    "# SVR - Linear Kernel - Final Model"
   ]
  },
  {
   "cell_type": "markdown",
   "metadata": {
    "collapsed": true
   },
   "source": [
    "#>>>>>>>>>>>\n"
   ]
  },
  {
   "cell_type": "code",
   "execution_count": null,
   "metadata": {
    "collapsed": true
   },
   "outputs": [],
   "source": []
  },
  {
   "cell_type": "markdown",
   "metadata": {},
   "source": [
    "# SVR - d - rbf Kernel"
   ]
  },
  {
   "cell_type": "code",
   "execution_count": null,
   "metadata": {
    "collapsed": false
   },
   "outputs": [],
   "source": [
    "t_SVRRbfCVModel = wrapper([SVRRbfCVModel])"
   ]
  },
  {
   "cell_type": "code",
   "execution_count": null,
   "metadata": {
    "collapsed": false
   },
   "outputs": [],
   "source": [
    "t = t_SVRRbfCVModel\n",
    "\n",
    "for key in t.keys():\n",
    "    print(key)\n",
    "    t_mo= t[key]['model']\n",
    "    print(\n",
    "          t[key]['model'],'\\n\\n\\n',\n",
    "          t[key]['train_rmse_cv_4_picking'],\n",
    "          t[key]['test_rmse_4_reporting'],\n",
    "          t[key]['test_mean_y_4_comparing']\n",
    "         )\n",
    "    print(100*'_')"
   ]
  },
  {
   "cell_type": "markdown",
   "metadata": {},
   "source": [
    "# SVR - rbf Kernel - Final Model"
   ]
  },
  {
   "cell_type": "markdown",
   "metadata": {
    "collapsed": true
   },
   "source": [
    "#>>>>>>>>>>>\n"
   ]
  },
  {
   "cell_type": "code",
   "execution_count": null,
   "metadata": {
    "collapsed": true
   },
   "outputs": [],
   "source": []
  },
  {
   "cell_type": "markdown",
   "metadata": {},
   "source": [
    "# (4C4) Response when four of four modules are chosen as training dataset\n",
    "\n",
    "'''\n",
    "### LassoCVModel at 0x7f64208e7c80\n",
    "1025.08609776 880.826424842 1532.34615385\n",
    "____________________________________________________________________________________________________\n",
    "### GradientBoostingCVModel at 0x7f63fa3b07b8\n",
    "421.108424701 342.356068455 1532.34615385\n",
    "____________________________________________________________________________________________________\n",
    "### RandomForestCVModel at 0x7f63fa3b0840\n",
    "420.621205322 342.402960902 1532.34615385\n",
    "____________________________________________________________________________________________________\n",
    "### RidgeCVModel at 0x7f63fa3b08c8\n",
    "1025.08583073 880.826144692 1532.34615385\n",
    "____________________________________________________________________________________________________\n",
    "### ElasticNetCVModel at 0x7f63fa3b0950\n",
    "1025.08609776 880.826424842 1532.34615385\n",
    "____________________________________________________________________________________________________\n",
    "### SVRPolyCVModel at 0x7f63fa3b09d8\n",
    "1032.95723148 882.068031346 1532.34615385\n",
    "____________________________________________________________________________________________________\n",
    "### SVRSigmoidCVModel at 0x7f63fa3b0a60\n",
    "1080.46665239 1059.84229153 1532.34615385\n",
    "____________________________________________________________________________________________________\n",
    "### SVRLinearCVModel at 0x7f63fa3b0ae8\n",
    "1080.46665239 1059.84229153 1532.34615385\n",
    "____________________________________________________________________________________________________\n",
    "### SVRRbfCVModel at 0x7f63fa3b0b70\n",
    "1080.46665239 1059.84229153 1532.34615385\n",
    "'''"
   ]
  },
  {
   "cell_type": "code",
   "execution_count": null,
   "metadata": {
    "collapsed": true
   },
   "outputs": [],
   "source": [
    "import pickle\n",
    "\n",
    "with open('model_performance_all_modules.pickle', 'wb') as handle:\n",
    "    pickle.dump(t, handle, protocol=pickle.HIGHEST_PROTOCOL)"
   ]
  },
  {
   "cell_type": "code",
   "execution_count": null,
   "metadata": {
    "collapsed": false
   },
   "outputs": [],
   "source": [
    "for mem in t.keys():\n",
    "    print(100*'_')\n",
    "    print(t[mem])\n",
    "    print(100*'_')"
   ]
  },
  {
   "cell_type": "code",
   "execution_count": null,
   "metadata": {
    "collapsed": false
   },
   "outputs": [],
   "source": [
    "t = wrapper()\n",
    "for mem in t.keys():\n",
    "    print(100*'_')\n",
    "    print(t[mem])\n",
    "    print(100*'_')"
   ]
  },
  {
   "cell_type": "markdown",
   "metadata": {},
   "source": [
    "# Which features were given most weights by each model ?"
   ]
  },
  {
   "cell_type": "code",
   "execution_count": null,
   "metadata": {
    "collapsed": true
   },
   "outputs": [],
   "source": []
  }
 ],
 "metadata": {
  "kernelspec": {
   "display_name": "Python 3",
   "language": "python",
   "name": "python3"
  },
  "language_info": {
   "codemirror_mode": {
    "name": "ipython",
    "version": 3
   },
   "file_extension": ".py",
   "mimetype": "text/x-python",
   "name": "python",
   "nbconvert_exporter": "python",
   "pygments_lexer": "ipython3",
   "version": "3.6.0"
  }
 },
 "nbformat": 4,
 "nbformat_minor": 2
}
