{
 "cells": [
  {
   "cell_type": "code",
   "execution_count": 35,
   "metadata": {
    "collapsed": true
   },
   "outputs": [],
   "source": [
    "# import all the filenames\n",
    "from allfunctions import *"
   ]
  },
  {
   "cell_type": "markdown",
   "metadata": {},
   "source": [
    "1  def LassoCVModel(filename):\n",
    "\n",
    "2  def OMPCVModel(filename):\n",
    "\n",
    "3  def GradientBoostingCVModel(filename):\n",
    "\n",
    "4  def RandomForestCVModel(filename):\n",
    "\n",
    "5  def RidgeCVModel(filename):\n",
    "\n",
    "6  def ElasticNetCVModel(filename):\n",
    "\n",
    "7  def SVRPolyCVModel(filename):\n",
    "\n",
    "8  def SVRSigmoidCVModel(filename):\n",
    "\n",
    "9  def SVRLinearCVModel(filename):\n",
    "\n",
    "10 def SVRRbfCVModel(filename):"
   ]
  },
  {
   "cell_type": "code",
   "execution_count": 36,
   "metadata": {
    "collapsed": false
   },
   "outputs": [
    {
     "data": {
      "text/plain": [
       "', , \\n                 RandomForestCVModel, RidgeCVModel, ElasticNetCVModel, \\n                 SVRPolyCVModel, SVRSigmoidCVModel, SVRLinearCVModel, \\n                 SVRRbfCVModel ] #OMPCVModel\\n'"
      ]
     },
     "execution_count": 36,
     "metadata": {},
     "output_type": "execute_result"
    }
   ],
   "source": [
    "functionList = [OMPCVModel]# [ LassoCVModel, OMPCVModel, GradientBoostingCVModel ] \n",
    "''', , \n",
    "                 RandomForestCVModel, RidgeCVModel, ElasticNetCVModel, \n",
    "                 SVRPolyCVModel, SVRSigmoidCVModel, SVRLinearCVModel, \n",
    "                 SVRRbfCVModel ] #OMPCVModel\n",
    "'''"
   ]
  },
  {
   "cell_type": "code",
   "execution_count": 37,
   "metadata": {
    "collapsed": false
   },
   "outputs": [],
   "source": [
    "def wrapper():\n",
    "    if __name__ == '__main__':\n",
    "        global model_selection\n",
    "        global functionList\n",
    "        global filenames\n",
    "        \n",
    "        filenames = [ 'datasetIPPD.pickle' ]\n",
    "        \n",
    "        model_selection = {}\n",
    "        \n",
    "        for f in functionList:\n",
    "            print()\n",
    "            for filename in filenames:\n",
    "                out = f(filename)\n",
    "                newScore = out[filename]['train_rmse_cv_4_picking']\n",
    "\n",
    "                if f in model_selection:\n",
    "                    #compare scores and select more accurate model\n",
    "                    oldScore = model_selection[f]['train_rmse_cv_4_picking']\n",
    "                    if(newScore < oldScore):\n",
    "                        print(\"【【【】】】switching models for %s...\" % filename)\n",
    "                        print(\"【【【】】】newScore: %f < oldScore: %f\" % (newScore, oldScore))\n",
    "                        print(\"【【【】】】newModel: %s \\n\" % f)\n",
    "                        print(100*'_')\n",
    "                        model_selection[f] = out[filename]\n",
    "                else:\n",
    "                    #no score to compare\n",
    "                    print(\"【【】】adding new model for %s \\n\" % filename)\n",
    "                    print(\"【【【】】】newScore: %f \" % (newScore))\n",
    "                    print(100*'_')\n",
    "                    model_selection[f] = out[filename]\n",
    "    return model_selection"
   ]
  },
  {
   "cell_type": "code",
   "execution_count": 28,
   "metadata": {
    "collapsed": false
   },
   "outputs": [
    {
     "name": "stdout",
     "output_type": "stream",
     "text": [
      "\n",
      "Dataset size read: train 256 and test 65 \n",
      "\n",
      "# Tuning hyper-parameters \n",
      "\n",
      "Starting grdsurch.fit(X_train, y_train)\n"
     ]
    },
    {
     "name": "stderr",
     "output_type": "stream",
     "text": [
      "/data/home/a1singh/anaconda3/lib/python3.6/site-packages/sklearn/linear_model/coordinate_descent.py:484: ConvergenceWarning: Objective did not converge. You might want to increase the number of iterations. Fitting data with very small alpha may cause precision problems.\n",
      "  ConvergenceWarning)\n"
     ]
    },
    {
     "name": "stdout",
     "output_type": "stream",
     "text": [
      "\n",
      "Best parameters set found on development set:\n",
      "\n",
      "{'alpha': 16.102620275609425}\n",
      "Lasso(alpha=16.102620275609425, copy_X=True, fit_intercept=True,\n",
      "   max_iter=10000, normalize=False, positive=False, precompute=False,\n",
      "   random_state=None, selection='random', tol=0.0001, warm_start=False)\n",
      "\n",
      "【【】】adding new model for datasetIPPD.pickle \n",
      "\n",
      "【【【】】】newScore: 1025.086098 \n",
      "____________________________________________________________________________________________________\n",
      "\n",
      "Dataset size read: train 256 and test 65 \n",
      "\n",
      "# Tuning hyper-parameters \n",
      "\n",
      "Starting grdsurch.fit(X_train, y_train)\n"
     ]
    },
    {
     "name": "stderr",
     "output_type": "stream",
     "text": [
      "/data/home/a1singh/anaconda3/lib/python3.6/site-packages/sklearn/linear_model/omp.py:665: RuntimeWarning:  Orthogonal matching pursuit ended prematurely due to linear\n",
      "dependence in the dictionary. The requested precision might not have been met.\n",
      "\n",
      "  return_n_iter=True)\n",
      "/data/home/a1singh/anaconda3/lib/python3.6/site-packages/sklearn/linear_model/omp.py:665: RuntimeWarning:  Orthogonal matching pursuit ended prematurely due to linear\n",
      "dependence in the dictionary. The requested precision might not have been met.\n",
      "\n",
      "  return_n_iter=True)\n",
      "/data/home/a1singh/anaconda3/lib/python3.6/site-packages/sklearn/linear_model/omp.py:665: RuntimeWarning:  Orthogonal matching pursuit ended prematurely due to linear\n",
      "dependence in the dictionary. The requested precision might not have been met.\n",
      "\n",
      "  return_n_iter=True)\n",
      "/data/home/a1singh/anaconda3/lib/python3.6/site-packages/sklearn/linear_model/omp.py:665: RuntimeWarning:  Orthogonal matching pursuit ended prematurely due to linear\n",
      "dependence in the dictionary. The requested precision might not have been met.\n",
      "\n",
      "  return_n_iter=True)\n",
      "/data/home/a1singh/anaconda3/lib/python3.6/site-packages/sklearn/linear_model/omp.py:665: RuntimeWarning:  Orthogonal matching pursuit ended prematurely due to linear\n",
      "dependence in the dictionary. The requested precision might not have been met.\n",
      "\n",
      "  return_n_iter=True)\n",
      "/data/home/a1singh/anaconda3/lib/python3.6/site-packages/sklearn/linear_model/omp.py:665: RuntimeWarning:  Orthogonal matching pursuit ended prematurely due to linear\n",
      "dependence in the dictionary. The requested precision might not have been met.\n",
      "\n",
      "  return_n_iter=True)\n"
     ]
    },
    {
     "name": "stdout",
     "output_type": "stream",
     "text": [
      "\n",
      "Best parameters set found on development set:\n",
      "\n",
      "{'tol': 1e-09}\n",
      "OrthogonalMatchingPursuit(fit_intercept=True, n_nonzero_coefs=None,\n",
      "             normalize=False, precompute='auto', tol=1e-09)\n",
      "\n",
      "【【】】adding new model for datasetIPPD.pickle \n",
      "\n",
      "【【【】】】newScore: 1014.183368 \n",
      "____________________________________________________________________________________________________\n",
      "\n",
      "Dataset size read: train 256 and test 65 \n",
      "\n",
      "# Tuning hyper-parameters \n",
      "\n",
      "Starting grdsurch.fit(X_train, y_train)\n"
     ]
    },
    {
     "name": "stderr",
     "output_type": "stream",
     "text": [
      "/data/home/a1singh/anaconda3/lib/python3.6/site-packages/sklearn/linear_model/omp.py:665: RuntimeWarning:  Orthogonal matching pursuit ended prematurely due to linear\n",
      "dependence in the dictionary. The requested precision might not have been met.\n",
      "\n",
      "  return_n_iter=True)\n"
     ]
    },
    {
     "name": "stdout",
     "output_type": "stream",
     "text": [
      "\n",
      "Best parameters set found on development set:\n",
      "\n",
      "{'learning_rate': 0.001, 'loss': 'ls'}\n",
      "GradientBoostingRegressor(alpha=0.9, criterion='friedman_mse', init=None,\n",
      "             learning_rate=0.001, loss='ls', max_depth=None,\n",
      "             max_features=None, max_leaf_nodes=None,\n",
      "             min_impurity_split=1e-07, min_samples_leaf=1,\n",
      "             min_samples_split=2, min_weight_fraction_leaf=0.0,\n",
      "             n_estimators=6000, presort='auto', random_state=None,\n",
      "             subsample=1.0, verbose=0, warm_start=False)\n",
      "\n",
      "【【】】adding new model for datasetIPPD.pickle \n",
      "\n",
      "【【【】】】newScore: 421.124332 \n",
      "____________________________________________________________________________________________________\n"
     ]
    }
   ],
   "source": [
    "t = wrapper()"
   ]
  },
  {
   "cell_type": "code",
   "execution_count": 6,
   "metadata": {
    "collapsed": false
   },
   "outputs": [
    {
     "name": "stdout",
     "output_type": "stream",
     "text": [
      "<function LassoCVModel at 0x7f64208e7c80>\n",
      "1025.08609776 880.826424842 1532.34615385\n",
      "____________________________________________________________________________________________________\n",
      "<function GradientBoostingCVModel at 0x7f63fa3b07b8>\n",
      "421.108424701 342.356068455 1532.34615385\n",
      "____________________________________________________________________________________________________\n",
      "<function RandomForestCVModel at 0x7f63fa3b0840>\n",
      "420.621205322 342.402960902 1532.34615385\n",
      "____________________________________________________________________________________________________\n",
      "<function RidgeCVModel at 0x7f63fa3b08c8>\n",
      "1025.08583073 880.826144692 1532.34615385\n",
      "____________________________________________________________________________________________________\n",
      "<function ElasticNetCVModel at 0x7f63fa3b0950>\n",
      "1025.08609776 880.826424842 1532.34615385\n",
      "____________________________________________________________________________________________________\n",
      "<function SVRPolyCVModel at 0x7f63fa3b09d8>\n",
      "1032.95723148 882.068031346 1532.34615385\n",
      "____________________________________________________________________________________________________\n",
      "<function SVRSigmoidCVModel at 0x7f63fa3b0a60>\n",
      "1080.46665239 1059.84229153 1532.34615385\n",
      "____________________________________________________________________________________________________\n",
      "<function SVRLinearCVModel at 0x7f63fa3b0ae8>\n",
      "1080.46665239 1059.84229153 1532.34615385\n",
      "____________________________________________________________________________________________________\n",
      "<function SVRRbfCVModel at 0x7f63fa3b0b70>\n",
      "1080.46665239 1059.84229153 1532.34615385\n",
      "____________________________________________________________________________________________________\n"
     ]
    }
   ],
   "source": [
    "for key in t.keys():\n",
    "    print(key)\n",
    "    print(t[key]['train_rmse_cv_4_picking'],\n",
    "          t[key]['test_rmse_4_reporting'],\n",
    "          t[key]['test_mean_y_4_comparing']\n",
    "         )\n",
    "    print(100*'_')"
   ]
  },
  {
   "cell_type": "markdown",
   "metadata": {},
   "source": [
    "# (4C4) Response when four of four modules are chosen as training dataset\n",
    "\n",
    "'''\n",
    "### LassoCVModel at 0x7f64208e7c80\n",
    "1025.08609776 880.826424842 1532.34615385\n",
    "____________________________________________________________________________________________________\n",
    "### GradientBoostingCVModel at 0x7f63fa3b07b8\n",
    "421.108424701 342.356068455 1532.34615385\n",
    "____________________________________________________________________________________________________\n",
    "### RandomForestCVModel at 0x7f63fa3b0840\n",
    "420.621205322 342.402960902 1532.34615385\n",
    "____________________________________________________________________________________________________\n",
    "### RidgeCVModel at 0x7f63fa3b08c8\n",
    "1025.08583073 880.826144692 1532.34615385\n",
    "____________________________________________________________________________________________________\n",
    "### ElasticNetCVModel at 0x7f63fa3b0950\n",
    "1025.08609776 880.826424842 1532.34615385\n",
    "____________________________________________________________________________________________________\n",
    "### SVRPolyCVModel at 0x7f63fa3b09d8\n",
    "1032.95723148 882.068031346 1532.34615385\n",
    "____________________________________________________________________________________________________\n",
    "### SVRSigmoidCVModel at 0x7f63fa3b0a60\n",
    "1080.46665239 1059.84229153 1532.34615385\n",
    "____________________________________________________________________________________________________\n",
    "### SVRLinearCVModel at 0x7f63fa3b0ae8\n",
    "1080.46665239 1059.84229153 1532.34615385\n",
    "____________________________________________________________________________________________________\n",
    "### SVRRbfCVModel at 0x7f63fa3b0b70\n",
    "1080.46665239 1059.84229153 1532.34615385\n",
    "'''"
   ]
  },
  {
   "cell_type": "code",
   "execution_count": 29,
   "metadata": {
    "collapsed": true
   },
   "outputs": [],
   "source": [
    "import pickle\n",
    "\n",
    "with open('model_performance_all_modules.pickle', 'wb') as handle:\n",
    "    pickle.dump(t, handle, protocol=pickle.HIGHEST_PROTOCOL)\n"
   ]
  },
  {
   "cell_type": "code",
   "execution_count": 30,
   "metadata": {
    "collapsed": false
   },
   "outputs": [
    {
     "name": "stdout",
     "output_type": "stream",
     "text": [
      "____________________________________________________________________________________________________\n",
      "{'train_rmse_cv_4_picking': 1025.0860977577854, 'test_rmse_4_reporting': 880.82642484210339, 'test_mean_y_4_comparing': 1532.3461538461536, 'model': Lasso(alpha=16.102620275609425, copy_X=True, fit_intercept=True,\n",
      "   max_iter=10000, normalize=False, positive=False, precompute=False,\n",
      "   random_state=None, selection='random', tol=0.0001, warm_start=False)}\n",
      "____________________________________________________________________________________________________\n",
      "____________________________________________________________________________________________________\n",
      "{'train_rmse_cv_4_picking': 1014.1833676330756, 'test_rmse_4_reporting': 870.22792511774355, 'test_mean_y_4_comparing': 1532.3461538461536, 'model': OrthogonalMatchingPursuit(fit_intercept=True, n_nonzero_coefs=None,\n",
      "             normalize=False, precompute='auto', tol=1e-09)}\n",
      "____________________________________________________________________________________________________\n",
      "____________________________________________________________________________________________________\n",
      "{'train_rmse_cv_4_picking': 421.12433161513667, 'test_rmse_4_reporting': 342.35606841629283, 'test_mean_y_4_comparing': 1532.3461538461536, 'model': GradientBoostingRegressor(alpha=0.9, criterion='friedman_mse', init=None,\n",
      "             learning_rate=0.001, loss='ls', max_depth=None,\n",
      "             max_features=None, max_leaf_nodes=None,\n",
      "             min_impurity_split=1e-07, min_samples_leaf=1,\n",
      "             min_samples_split=2, min_weight_fraction_leaf=0.0,\n",
      "             n_estimators=6000, presort='auto', random_state=None,\n",
      "             subsample=1.0, verbose=0, warm_start=False)}\n",
      "____________________________________________________________________________________________________\n"
     ]
    }
   ],
   "source": [
    "for mem in t.keys():\n",
    "    print(100*'_')\n",
    "    print(t[mem])\n",
    "    print(100*'_')"
   ]
  },
  {
   "cell_type": "code",
   "execution_count": 38,
   "metadata": {
    "collapsed": false
   },
   "outputs": [
    {
     "name": "stdout",
     "output_type": "stream",
     "text": [
      "\n",
      "Dataset size read: train 256 and test 65 \n",
      "\n",
      "# Tuning hyper-parameters \n",
      "\n",
      "Starting grdsurch.fit(X_train, y_train)\n"
     ]
    },
    {
     "name": "stderr",
     "output_type": "stream",
     "text": [
      "/data/home/a1singh/anaconda3/lib/python3.6/site-packages/sklearn/linear_model/omp.py:665: RuntimeWarning:  Orthogonal matching pursuit ended prematurely due to linear\n",
      "dependence in the dictionary. The requested precision might not have been met.\n",
      "\n",
      "  return_n_iter=True)\n",
      "/data/home/a1singh/anaconda3/lib/python3.6/site-packages/sklearn/linear_model/omp.py:665: RuntimeWarning:  Orthogonal matching pursuit ended prematurely due to linear\n",
      "dependence in the dictionary. The requested precision might not have been met.\n",
      "\n",
      "  return_n_iter=True)\n",
      "/data/home/a1singh/anaconda3/lib/python3.6/site-packages/sklearn/linear_model/omp.py:665: RuntimeWarning:  Orthogonal matching pursuit ended prematurely due to linear\n",
      "dependence in the dictionary. The requested precision might not have been met.\n",
      "\n",
      "  return_n_iter=True)\n",
      "/data/home/a1singh/anaconda3/lib/python3.6/site-packages/sklearn/linear_model/omp.py:665: RuntimeWarning:  Orthogonal matching pursuit ended prematurely due to linear\n",
      "dependence in the dictionary. The requested precision might not have been met.\n",
      "\n",
      "  return_n_iter=True)\n",
      "/data/home/a1singh/anaconda3/lib/python3.6/site-packages/sklearn/linear_model/omp.py:665: RuntimeWarning:  Orthogonal matching pursuit ended prematurely due to linear\n",
      "dependence in the dictionary. The requested precision might not have been met.\n",
      "\n",
      "  return_n_iter=True)\n",
      "/data/home/a1singh/anaconda3/lib/python3.6/site-packages/sklearn/linear_model/omp.py:665: RuntimeWarning:  Orthogonal matching pursuit ended prematurely due to linear\n",
      "dependence in the dictionary. The requested precision might not have been met.\n",
      "\n",
      "  return_n_iter=True)\n"
     ]
    },
    {
     "name": "stdout",
     "output_type": "stream",
     "text": [
      "\n",
      "Best parameters set found on development set:\n",
      "\n",
      "{'tol': 1e-09}\n",
      "OrthogonalMatchingPursuit(fit_intercept=True, n_nonzero_coefs=None,\n",
      "             normalize=False, precompute='auto', tol=1e-09)\n",
      "\n",
      "【【】】adding new model for datasetIPPD.pickle \n",
      "\n",
      "【【【】】】newScore: 1014.183368 \n",
      "____________________________________________________________________________________________________\n",
      "____________________________________________________________________________________________________\n",
      "{'train_rmse_cv_4_picking': 1014.1833676330756, 'test_rmse_4_reporting': 870.22792511774355, 'test_mean_y_4_comparing': 1532.3461538461536, 'model': OrthogonalMatchingPursuit(fit_intercept=True, n_nonzero_coefs=None,\n",
      "             normalize=False, precompute='auto', tol=1e-09)}\n",
      "____________________________________________________________________________________________________\n"
     ]
    },
    {
     "name": "stderr",
     "output_type": "stream",
     "text": [
      "/data/home/a1singh/anaconda3/lib/python3.6/site-packages/sklearn/linear_model/omp.py:665: RuntimeWarning:  Orthogonal matching pursuit ended prematurely due to linear\n",
      "dependence in the dictionary. The requested precision might not have been met.\n",
      "\n",
      "  return_n_iter=True)\n"
     ]
    }
   ],
   "source": [
    "t = wrapper()\n",
    "for mem in t.keys():\n",
    "    print(100*'_')\n",
    "    print(t[mem])\n",
    "    print(100*'_')"
   ]
  },
  {
   "cell_type": "code",
   "execution_count": null,
   "metadata": {
    "collapsed": true
   },
   "outputs": [],
   "source": []
  }
 ],
 "metadata": {
  "kernelspec": {
   "display_name": "Python 3",
   "language": "python",
   "name": "python3"
  },
  "language_info": {
   "codemirror_mode": {
    "name": "ipython",
    "version": 3
   },
   "file_extension": ".py",
   "mimetype": "text/x-python",
   "name": "python",
   "nbconvert_exporter": "python",
   "pygments_lexer": "ipython3",
   "version": "3.6.0"
  }
 },
 "nbformat": 4,
 "nbformat_minor": 2
}
