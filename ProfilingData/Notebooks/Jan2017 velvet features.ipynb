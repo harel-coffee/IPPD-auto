{
 "cells": [
  {
   "cell_type": "markdown",
   "metadata": {},
   "source": [
    "## Get static program features of velvetG and velvetH"
   ]
  },
  {
   "cell_type": "code",
   "execution_count": 1,
   "metadata": {
    "collapsed": true
   },
   "outputs": [],
   "source": [
    "header='ft1 ft2 ft3 ft4 ft5 ft6 ft7 ft8 ft9 ft10 ft11 ft12 ft13 ft14 ft15 ft16 ft17 ft18 ft24 ft25 ft19 ft39 ft20 ft33 ft21 ft35 ft22 ft23 ft34 ft36 ft37 ft38 ft40 ft41 ft42 ft43 ft44 ft45 ft46 ft48 ft47 ft49 ft51 ft50 ft52 ft53 ft54 ft55 ft26 ft27 ft28 ft29 ft30 ft31 ft32'"
   ]
  },
  {
   "cell_type": "code",
   "execution_count": 9,
   "metadata": {
    "collapsed": false
   },
   "outputs": [],
   "source": [
    "import pandas as pd\n",
    "\n",
    "def value(item):\n",
    "    return item[item.find('=')+1:]\n",
    "\n",
    "G = pd.read_table('velvetg_features.txt', header=None, delimiter=',',\n",
    "                   converters={i:value for i in range(55)},\n",
    "                   names=header.split())\n",
    "\n",
    "H = pd.read_table('velveth_features.txt', header=None, delimiter=',',\n",
    "                   converters={i:value for i in range(55)},\n",
    "                   names=header.split())\n",
    "\n",
    "G = G.astype(float)\n",
    "H = H.astype(float)"
   ]
  },
  {
   "cell_type": "markdown",
   "metadata": {},
   "source": [
    "## Sum up features of velvetG"
   ]
  },
  {
   "cell_type": "code",
   "execution_count": 13,
   "metadata": {
    "collapsed": false
   },
   "outputs": [
    {
     "data": {
      "text/plain": [
       "(28, 55)"
      ]
     },
     "execution_count": 13,
     "metadata": {},
     "output_type": "execute_result"
    }
   ],
   "source": [
    "G.shape"
   ]
  },
  {
   "cell_type": "code",
   "execution_count": 14,
   "metadata": {
    "collapsed": false
   },
   "outputs": [
    {
     "data": {
      "text/plain": [
       "(1, 55)"
      ]
     },
     "execution_count": 14,
     "metadata": {},
     "output_type": "execute_result"
    }
   ],
   "source": [
    "rowsum = G.sum(axis=0)\n",
    "\n",
    "data = [d for d in rowsum.values]\n",
    "cols = [c for c in rowsum.index]\n",
    "\n",
    "velvetG_ft = pd.DataFrame(columns=cols) #create empty dataframe\n",
    "velvetG_ft.loc[0] = data #add one row\n",
    "velvetG_ft.shape"
   ]
  },
  {
   "cell_type": "code",
   "execution_count": 18,
   "metadata": {
    "collapsed": false
   },
   "outputs": [
    {
     "data": {
      "text/html": [
       "<div>\n",
       "<table border=\"1\" class=\"dataframe\">\n",
       "  <thead>\n",
       "    <tr style=\"text-align: right;\">\n",
       "      <th></th>\n",
       "      <th>ft1</th>\n",
       "      <th>ft2</th>\n",
       "      <th>ft3</th>\n",
       "      <th>ft4</th>\n",
       "      <th>ft5</th>\n",
       "      <th>ft6</th>\n",
       "      <th>ft7</th>\n",
       "      <th>ft8</th>\n",
       "      <th>ft9</th>\n",
       "      <th>ft10</th>\n",
       "      <th>...</th>\n",
       "      <th>ft53</th>\n",
       "      <th>ft54</th>\n",
       "      <th>ft55</th>\n",
       "      <th>ft26</th>\n",
       "      <th>ft27</th>\n",
       "      <th>ft28</th>\n",
       "      <th>ft29</th>\n",
       "      <th>ft30</th>\n",
       "      <th>ft31</th>\n",
       "      <th>ft32</th>\n",
       "    </tr>\n",
       "  </thead>\n",
       "  <tbody>\n",
       "    <tr>\n",
       "      <th>0</th>\n",
       "      <td>9864.0</td>\n",
       "      <td>4079.0</td>\n",
       "      <td>3980.0</td>\n",
       "      <td>78.0</td>\n",
       "      <td>6057.0</td>\n",
       "      <td>2145.0</td>\n",
       "      <td>634.0</td>\n",
       "      <td>3159.0</td>\n",
       "      <td>2420.0</td>\n",
       "      <td>637.0</td>\n",
       "      <td>...</td>\n",
       "      <td>435.0</td>\n",
       "      <td>6079.0</td>\n",
       "      <td>301.0</td>\n",
       "      <td>352.49</td>\n",
       "      <td>783.74</td>\n",
       "      <td>1334.0</td>\n",
       "      <td>1356.0</td>\n",
       "      <td>6146.0</td>\n",
       "      <td>67.0</td>\n",
       "      <td>2623.0</td>\n",
       "    </tr>\n",
       "  </tbody>\n",
       "</table>\n",
       "<p>1 rows × 55 columns</p>\n",
       "</div>"
      ],
      "text/plain": [
       "      ft1     ft2     ft3   ft4     ft5     ft6    ft7     ft8     ft9   ft10  \\\n",
       "0  9864.0  4079.0  3980.0  78.0  6057.0  2145.0  634.0  3159.0  2420.0  637.0   \n",
       "\n",
       "    ...     ft53    ft54   ft55    ft26    ft27    ft28    ft29    ft30  ft31  \\\n",
       "0   ...    435.0  6079.0  301.0  352.49  783.74  1334.0  1356.0  6146.0  67.0   \n",
       "\n",
       "     ft32  \n",
       "0  2623.0  \n",
       "\n",
       "[1 rows x 55 columns]"
      ]
     },
     "execution_count": 18,
     "metadata": {},
     "output_type": "execute_result"
    }
   ],
   "source": [
    "velvetG_ft"
   ]
  },
  {
   "cell_type": "markdown",
   "metadata": {},
   "source": [
    "## Sum up features of velvetH"
   ]
  },
  {
   "cell_type": "code",
   "execution_count": 15,
   "metadata": {
    "collapsed": false
   },
   "outputs": [
    {
     "data": {
      "text/plain": [
       "(10, 55)"
      ]
     },
     "execution_count": 15,
     "metadata": {},
     "output_type": "execute_result"
    }
   ],
   "source": [
    "H.shape"
   ]
  },
  {
   "cell_type": "code",
   "execution_count": 16,
   "metadata": {
    "collapsed": false
   },
   "outputs": [
    {
     "data": {
      "text/plain": [
       "(1, 55)"
      ]
     },
     "execution_count": 16,
     "metadata": {},
     "output_type": "execute_result"
    }
   ],
   "source": [
    "rowsum = H.sum(axis=0)\n",
    "\n",
    "data = [d for d in rowsum.values]\n",
    "cols = [c for c in rowsum.index]\n",
    "\n",
    "velvetH_ft = pd.DataFrame(columns=cols) #create empty dataframe\n",
    "velvetH_ft.loc[0] = data #add one row\n",
    "velvetH_ft.shape"
   ]
  },
  {
   "cell_type": "code",
   "execution_count": 19,
   "metadata": {
    "collapsed": false
   },
   "outputs": [
    {
     "data": {
      "text/html": [
       "<div>\n",
       "<table border=\"1\" class=\"dataframe\">\n",
       "  <thead>\n",
       "    <tr style=\"text-align: right;\">\n",
       "      <th></th>\n",
       "      <th>ft1</th>\n",
       "      <th>ft2</th>\n",
       "      <th>ft3</th>\n",
       "      <th>ft4</th>\n",
       "      <th>ft5</th>\n",
       "      <th>ft6</th>\n",
       "      <th>ft7</th>\n",
       "      <th>ft8</th>\n",
       "      <th>ft9</th>\n",
       "      <th>ft10</th>\n",
       "      <th>...</th>\n",
       "      <th>ft53</th>\n",
       "      <th>ft54</th>\n",
       "      <th>ft55</th>\n",
       "      <th>ft26</th>\n",
       "      <th>ft27</th>\n",
       "      <th>ft28</th>\n",
       "      <th>ft29</th>\n",
       "      <th>ft30</th>\n",
       "      <th>ft31</th>\n",
       "      <th>ft32</th>\n",
       "    </tr>\n",
       "  </thead>\n",
       "  <tbody>\n",
       "    <tr>\n",
       "      <th>0</th>\n",
       "      <td>2113.0</td>\n",
       "      <td>748.0</td>\n",
       "      <td>926.0</td>\n",
       "      <td>9.0</td>\n",
       "      <td>1318.0</td>\n",
       "      <td>463.0</td>\n",
       "      <td>124.0</td>\n",
       "      <td>564.0</td>\n",
       "      <td>595.0</td>\n",
       "      <td>143.0</td>\n",
       "      <td>...</td>\n",
       "      <td>82.0</td>\n",
       "      <td>1232.0</td>\n",
       "      <td>22.0</td>\n",
       "      <td>83.13</td>\n",
       "      <td>170.84</td>\n",
       "      <td>190.0</td>\n",
       "      <td>339.0</td>\n",
       "      <td>1376.0</td>\n",
       "      <td>10.0</td>\n",
       "      <td>519.0</td>\n",
       "    </tr>\n",
       "  </tbody>\n",
       "</table>\n",
       "<p>1 rows × 55 columns</p>\n",
       "</div>"
      ],
      "text/plain": [
       "      ft1    ft2    ft3  ft4     ft5    ft6    ft7    ft8    ft9   ft10  \\\n",
       "0  2113.0  748.0  926.0  9.0  1318.0  463.0  124.0  564.0  595.0  143.0   \n",
       "\n",
       "   ...    ft53    ft54  ft55   ft26    ft27   ft28   ft29    ft30  ft31   ft32  \n",
       "0  ...    82.0  1232.0  22.0  83.13  170.84  190.0  339.0  1376.0  10.0  519.0  \n",
       "\n",
       "[1 rows x 55 columns]"
      ]
     },
     "execution_count": 19,
     "metadata": {},
     "output_type": "execute_result"
    }
   ],
   "source": [
    "velvetH_ft"
   ]
  },
  {
   "cell_type": "code",
   "execution_count": null,
   "metadata": {
    "collapsed": true
   },
   "outputs": [],
   "source": []
  }
 ],
 "metadata": {
  "anaconda-cloud": {},
  "kernelspec": {
   "display_name": "Python [Root]",
   "language": "python",
   "name": "Python [Root]"
  },
  "language_info": {
   "codemirror_mode": {
    "name": "ipython",
    "version": 3
   },
   "file_extension": ".py",
   "mimetype": "text/x-python",
   "name": "python",
   "nbconvert_exporter": "python",
   "pygments_lexer": "ipython3",
   "version": "3.5.1"
  }
 },
 "nbformat": 4,
 "nbformat_minor": 0
}
