{
 "cells": [
  {
   "cell_type": "markdown",
   "metadata": {},
   "source": [
    "## Get static program features of bowtie and cd-hit-dup"
   ]
  },
  {
   "cell_type": "code",
   "execution_count": 1,
   "metadata": {
    "collapsed": true
   },
   "outputs": [],
   "source": [
    "header='ft1 ft2 ft3 ft4 ft5 ft6 ft7 ft8 ft9 ft10 ft11 ft12 ft13 ft14 ft15 ft16 ft17 ft18 ft24 ft25 ft19 ft39 ft20 ft33 ft21 ft35 ft22 ft23 ft34 ft36 ft37 ft38 ft40 ft41 ft42 ft43 ft44 ft45 ft46 ft48 ft47 ft49 ft51 ft50 ft52 ft53 ft54 ft55 ft26 ft27 ft28 ft29 ft30 ft31 ft32'"
   ]
  },
  {
   "cell_type": "code",
   "execution_count": 2,
   "metadata": {
    "collapsed": false
   },
   "outputs": [
    {
     "data": {
      "text/html": [
       "<div>\n",
       "<table border=\"1\" class=\"dataframe\">\n",
       "  <thead>\n",
       "    <tr style=\"text-align: right;\">\n",
       "      <th></th>\n",
       "      <th>ft1</th>\n",
       "      <th>ft2</th>\n",
       "      <th>ft3</th>\n",
       "      <th>ft4</th>\n",
       "      <th>ft5</th>\n",
       "      <th>ft6</th>\n",
       "      <th>ft7</th>\n",
       "      <th>ft8</th>\n",
       "      <th>ft9</th>\n",
       "      <th>ft10</th>\n",
       "      <th>...</th>\n",
       "      <th>ft53</th>\n",
       "      <th>ft54</th>\n",
       "      <th>ft55</th>\n",
       "      <th>ft26</th>\n",
       "      <th>ft27</th>\n",
       "      <th>ft28</th>\n",
       "      <th>ft29</th>\n",
       "      <th>ft30</th>\n",
       "      <th>ft31</th>\n",
       "      <th>ft32</th>\n",
       "    </tr>\n",
       "  </thead>\n",
       "  <tbody>\n",
       "    <tr>\n",
       "      <th>0</th>\n",
       "      <td>4267.0</td>\n",
       "      <td>1648.0</td>\n",
       "      <td>2153.0</td>\n",
       "      <td>15.0</td>\n",
       "      <td>2843.0</td>\n",
       "      <td>847.0</td>\n",
       "      <td>357.0</td>\n",
       "      <td>1291.0</td>\n",
       "      <td>1403.0</td>\n",
       "      <td>245.0</td>\n",
       "      <td>...</td>\n",
       "      <td>219.0</td>\n",
       "      <td>3626.0</td>\n",
       "      <td>18.0</td>\n",
       "      <td>79.11</td>\n",
       "      <td>210.87</td>\n",
       "      <td>595.0</td>\n",
       "      <td>529.0</td>\n",
       "      <td>2923.0</td>\n",
       "      <td>9.0</td>\n",
       "      <td>1115.0</td>\n",
       "    </tr>\n",
       "  </tbody>\n",
       "</table>\n",
       "<p>1 rows × 55 columns</p>\n",
       "</div>"
      ],
      "text/plain": [
       "      ft1     ft2     ft3   ft4     ft5    ft6    ft7     ft8     ft9   ft10  \\\n",
       "0  4267.0  1648.0  2153.0  15.0  2843.0  847.0  357.0  1291.0  1403.0  245.0   \n",
       "\n",
       "    ...     ft53    ft54  ft55   ft26    ft27   ft28   ft29    ft30  ft31  \\\n",
       "0   ...    219.0  3626.0  18.0  79.11  210.87  595.0  529.0  2923.0   9.0   \n",
       "\n",
       "     ft32  \n",
       "0  1115.0  \n",
       "\n",
       "[1 rows x 55 columns]"
      ]
     },
     "execution_count": 2,
     "metadata": {},
     "output_type": "execute_result"
    }
   ],
   "source": [
    "import pandas as pd\n",
    "\n",
    "def value(item):\n",
    "    return item[item.find('=')+1:]\n",
    "\n",
    "df = pd.read_table('cd-hit-dup_features.txt', header=None, delimiter=',',\n",
    "                   converters={i:value for i in range(55)},\n",
    "                   names=header.split())\n",
    "\n",
    "bowtie_ft = pd.read_table('bowtie_features.txt', header=None, delimiter=',',\n",
    "                   converters={i:value for i in range(55)},\n",
    "                   names=header.split())\n",
    "\n",
    "bowtie_ft = bowtie_ft.astype(float)\n",
    "bowtie_ft"
   ]
  },
  {
   "cell_type": "code",
   "execution_count": 3,
   "metadata": {
    "collapsed": false
   },
   "outputs": [],
   "source": [
    "df = df.astype(float)"
   ]
  },
  {
   "cell_type": "code",
   "execution_count": 4,
   "metadata": {
    "collapsed": false
   },
   "outputs": [
    {
     "data": {
      "text/html": [
       "<div>\n",
       "<table border=\"1\" class=\"dataframe\">\n",
       "  <thead>\n",
       "    <tr style=\"text-align: right;\">\n",
       "      <th></th>\n",
       "      <th>ft1</th>\n",
       "      <th>ft2</th>\n",
       "      <th>ft3</th>\n",
       "      <th>ft4</th>\n",
       "      <th>ft5</th>\n",
       "      <th>ft6</th>\n",
       "      <th>ft7</th>\n",
       "      <th>ft8</th>\n",
       "      <th>ft9</th>\n",
       "      <th>ft10</th>\n",
       "      <th>...</th>\n",
       "      <th>ft53</th>\n",
       "      <th>ft54</th>\n",
       "      <th>ft55</th>\n",
       "      <th>ft26</th>\n",
       "      <th>ft27</th>\n",
       "      <th>ft28</th>\n",
       "      <th>ft29</th>\n",
       "      <th>ft30</th>\n",
       "      <th>ft31</th>\n",
       "      <th>ft32</th>\n",
       "    </tr>\n",
       "  </thead>\n",
       "  <tbody>\n",
       "    <tr>\n",
       "      <th>0</th>\n",
       "      <td>341.0</td>\n",
       "      <td>106.0</td>\n",
       "      <td>94.0</td>\n",
       "      <td>0.0</td>\n",
       "      <td>168.0</td>\n",
       "      <td>68.0</td>\n",
       "      <td>11.0</td>\n",
       "      <td>94.0</td>\n",
       "      <td>46.0</td>\n",
       "      <td>9.0</td>\n",
       "      <td>...</td>\n",
       "      <td>1.0</td>\n",
       "      <td>160.0</td>\n",
       "      <td>0.0</td>\n",
       "      <td>19.89</td>\n",
       "      <td>51.20</td>\n",
       "      <td>55.0</td>\n",
       "      <td>20.0</td>\n",
       "      <td>172.0</td>\n",
       "      <td>5.0</td>\n",
       "      <td>70.0</td>\n",
       "    </tr>\n",
       "    <tr>\n",
       "      <th>1</th>\n",
       "      <td>415.0</td>\n",
       "      <td>154.0</td>\n",
       "      <td>164.0</td>\n",
       "      <td>1.0</td>\n",
       "      <td>242.0</td>\n",
       "      <td>75.0</td>\n",
       "      <td>34.0</td>\n",
       "      <td>126.0</td>\n",
       "      <td>107.0</td>\n",
       "      <td>26.0</td>\n",
       "      <td>...</td>\n",
       "      <td>5.0</td>\n",
       "      <td>214.0</td>\n",
       "      <td>0.0</td>\n",
       "      <td>11.95</td>\n",
       "      <td>42.52</td>\n",
       "      <td>84.0</td>\n",
       "      <td>11.0</td>\n",
       "      <td>256.0</td>\n",
       "      <td>14.0</td>\n",
       "      <td>81.0</td>\n",
       "    </tr>\n",
       "    <tr>\n",
       "      <th>2</th>\n",
       "      <td>352.0</td>\n",
       "      <td>142.0</td>\n",
       "      <td>172.0</td>\n",
       "      <td>0.0</td>\n",
       "      <td>213.0</td>\n",
       "      <td>103.0</td>\n",
       "      <td>18.0</td>\n",
       "      <td>97.0</td>\n",
       "      <td>108.0</td>\n",
       "      <td>40.0</td>\n",
       "      <td>...</td>\n",
       "      <td>3.0</td>\n",
       "      <td>267.0</td>\n",
       "      <td>1.0</td>\n",
       "      <td>9.27</td>\n",
       "      <td>19.65</td>\n",
       "      <td>61.0</td>\n",
       "      <td>51.0</td>\n",
       "      <td>222.0</td>\n",
       "      <td>2.0</td>\n",
       "      <td>110.0</td>\n",
       "    </tr>\n",
       "    <tr>\n",
       "      <th>3</th>\n",
       "      <td>1950.0</td>\n",
       "      <td>797.0</td>\n",
       "      <td>945.0</td>\n",
       "      <td>0.0</td>\n",
       "      <td>1218.0</td>\n",
       "      <td>518.0</td>\n",
       "      <td>86.0</td>\n",
       "      <td>588.0</td>\n",
       "      <td>580.0</td>\n",
       "      <td>179.0</td>\n",
       "      <td>...</td>\n",
       "      <td>65.0</td>\n",
       "      <td>1497.0</td>\n",
       "      <td>2.0</td>\n",
       "      <td>42.99</td>\n",
       "      <td>83.77</td>\n",
       "      <td>502.0</td>\n",
       "      <td>143.0</td>\n",
       "      <td>1177.0</td>\n",
       "      <td>7.0</td>\n",
       "      <td>638.0</td>\n",
       "    </tr>\n",
       "  </tbody>\n",
       "</table>\n",
       "<p>4 rows × 55 columns</p>\n",
       "</div>"
      ],
      "text/plain": [
       "      ft1    ft2    ft3  ft4     ft5    ft6   ft7    ft8    ft9   ft10  ...    \\\n",
       "0   341.0  106.0   94.0  0.0   168.0   68.0  11.0   94.0   46.0    9.0  ...     \n",
       "1   415.0  154.0  164.0  1.0   242.0   75.0  34.0  126.0  107.0   26.0  ...     \n",
       "2   352.0  142.0  172.0  0.0   213.0  103.0  18.0   97.0  108.0   40.0  ...     \n",
       "3  1950.0  797.0  945.0  0.0  1218.0  518.0  86.0  588.0  580.0  179.0  ...     \n",
       "\n",
       "   ft53    ft54  ft55   ft26   ft27   ft28   ft29    ft30  ft31   ft32  \n",
       "0   1.0   160.0   0.0  19.89  51.20   55.0   20.0   172.0   5.0   70.0  \n",
       "1   5.0   214.0   0.0  11.95  42.52   84.0   11.0   256.0  14.0   81.0  \n",
       "2   3.0   267.0   1.0   9.27  19.65   61.0   51.0   222.0   2.0  110.0  \n",
       "3  65.0  1497.0   2.0  42.99  83.77  502.0  143.0  1177.0   7.0  638.0  \n",
       "\n",
       "[4 rows x 55 columns]"
      ]
     },
     "execution_count": 4,
     "metadata": {},
     "output_type": "execute_result"
    }
   ],
   "source": [
    "df"
   ]
  },
  {
   "cell_type": "code",
   "execution_count": 5,
   "metadata": {
    "collapsed": false
   },
   "outputs": [],
   "source": [
    "rowsum = df.sum(axis=0)"
   ]
  },
  {
   "cell_type": "code",
   "execution_count": 6,
   "metadata": {
    "collapsed": false
   },
   "outputs": [],
   "source": [
    "data = [d for d in rowsum.values]\n",
    "cols = [c for c in rowsum.index]"
   ]
  },
  {
   "cell_type": "code",
   "execution_count": 7,
   "metadata": {
    "collapsed": false
   },
   "outputs": [],
   "source": [
    "dup_ft = pd.DataFrame(columns=cols) #create empty dataframe"
   ]
  },
  {
   "cell_type": "code",
   "execution_count": 8,
   "metadata": {
    "collapsed": false
   },
   "outputs": [],
   "source": [
    "dup_ft.loc[0] = data #add one row"
   ]
  },
  {
   "cell_type": "code",
   "execution_count": 9,
   "metadata": {
    "collapsed": false
   },
   "outputs": [
    {
     "data": {
      "text/html": [
       "<div>\n",
       "<table border=\"1\" class=\"dataframe\">\n",
       "  <thead>\n",
       "    <tr style=\"text-align: right;\">\n",
       "      <th></th>\n",
       "      <th>ft1</th>\n",
       "      <th>ft2</th>\n",
       "      <th>ft3</th>\n",
       "      <th>ft4</th>\n",
       "      <th>ft5</th>\n",
       "      <th>ft6</th>\n",
       "      <th>ft7</th>\n",
       "      <th>ft8</th>\n",
       "      <th>ft9</th>\n",
       "      <th>ft10</th>\n",
       "      <th>...</th>\n",
       "      <th>ft53</th>\n",
       "      <th>ft54</th>\n",
       "      <th>ft55</th>\n",
       "      <th>ft26</th>\n",
       "      <th>ft27</th>\n",
       "      <th>ft28</th>\n",
       "      <th>ft29</th>\n",
       "      <th>ft30</th>\n",
       "      <th>ft31</th>\n",
       "      <th>ft32</th>\n",
       "    </tr>\n",
       "  </thead>\n",
       "  <tbody>\n",
       "    <tr>\n",
       "      <th>0</th>\n",
       "      <td>3058.0</td>\n",
       "      <td>1199.0</td>\n",
       "      <td>1375.0</td>\n",
       "      <td>1.0</td>\n",
       "      <td>1841.0</td>\n",
       "      <td>764.0</td>\n",
       "      <td>149.0</td>\n",
       "      <td>905.0</td>\n",
       "      <td>841.0</td>\n",
       "      <td>254.0</td>\n",
       "      <td>...</td>\n",
       "      <td>74.0</td>\n",
       "      <td>2138.0</td>\n",
       "      <td>3.0</td>\n",
       "      <td>84.1</td>\n",
       "      <td>197.14</td>\n",
       "      <td>702.0</td>\n",
       "      <td>225.0</td>\n",
       "      <td>1827.0</td>\n",
       "      <td>28.0</td>\n",
       "      <td>899.0</td>\n",
       "    </tr>\n",
       "  </tbody>\n",
       "</table>\n",
       "<p>1 rows × 55 columns</p>\n",
       "</div>"
      ],
      "text/plain": [
       "      ft1     ft2     ft3  ft4     ft5    ft6    ft7    ft8    ft9   ft10  \\\n",
       "0  3058.0  1199.0  1375.0  1.0  1841.0  764.0  149.0  905.0  841.0  254.0   \n",
       "\n",
       "   ...    ft53    ft54  ft55  ft26    ft27   ft28   ft29    ft30  ft31   ft32  \n",
       "0  ...    74.0  2138.0   3.0  84.1  197.14  702.0  225.0  1827.0  28.0  899.0  \n",
       "\n",
       "[1 rows x 55 columns]"
      ]
     },
     "execution_count": 9,
     "metadata": {},
     "output_type": "execute_result"
    }
   ],
   "source": [
    "dup_ft"
   ]
  },
  {
   "cell_type": "markdown",
   "metadata": {},
   "source": [
    "## Bowtie: DF1 = Append to CPU, DataSize\n",
    "## DUP:      DF2 = Append to CPU, DataSize\n",
    "## Add totaltime column to both DF1, DF2\n",
    "## DF1 U DF2\n",
    "## Model Training to predict totaltime (57 features)"
   ]
  },
  {
   "cell_type": "code",
   "execution_count": 10,
   "metadata": {
    "collapsed": false
   },
   "outputs": [
    {
     "data": {
      "text/html": [
       "<div>\n",
       "<table border=\"1\" class=\"dataframe\">\n",
       "  <thead>\n",
       "    <tr style=\"text-align: right;\">\n",
       "      <th></th>\n",
       "      <th>ppn</th>\n",
       "      <th>sizeGB</th>\n",
       "      <th>Y_time</th>\n",
       "    </tr>\n",
       "  </thead>\n",
       "  <tbody>\n",
       "    <tr>\n",
       "      <th>0</th>\n",
       "      <td>11</td>\n",
       "      <td>1.2</td>\n",
       "      <td>45.82</td>\n",
       "    </tr>\n",
       "    <tr>\n",
       "      <th>1</th>\n",
       "      <td>11</td>\n",
       "      <td>1.7</td>\n",
       "      <td>67.97</td>\n",
       "    </tr>\n",
       "  </tbody>\n",
       "</table>\n",
       "</div>"
      ],
      "text/plain": [
       "   ppn  sizeGB  Y_time\n",
       "0   11     1.2   45.82\n",
       "1   11     1.7   67.97"
      ]
     },
     "execution_count": 10,
     "metadata": {},
     "output_type": "execute_result"
    }
   ],
   "source": [
    "# read DUP ppn, size, Ytime from csv\n",
    "dup_ppn_size_time = pd.read_csv('22July_dup_ppn_sizeGB_Ytime.csv')\n",
    "del dup_ppn_size_time['Unnamed: 0']\n",
    "dup_ppn_size_time.head(2)"
   ]
  },
  {
   "cell_type": "code",
   "execution_count": 11,
   "metadata": {
    "collapsed": false
   },
   "outputs": [
    {
     "data": {
      "text/plain": [
       "32"
      ]
     },
     "execution_count": 11,
     "metadata": {},
     "output_type": "execute_result"
    }
   ],
   "source": [
    "rows = dup_ppn_size_time.shape[0]\n",
    "rows"
   ]
  },
  {
   "cell_type": "code",
   "execution_count": 12,
   "metadata": {
    "collapsed": false
   },
   "outputs": [
    {
     "data": {
      "text/plain": [
       "(32, 55)"
      ]
     },
     "execution_count": 12,
     "metadata": {},
     "output_type": "execute_result"
    }
   ],
   "source": [
    "# create dataframe from DUP static program features with same #ROWs\n",
    "frames = [dup_ft for i in range(rows)]\n",
    "DUP_program_ft = pd.concat(frames)\n",
    "DUP_program_ft.reset_index(inplace=True)\n",
    "del DUP_program_ft['index']\n",
    "DUP_program_ft.shape"
   ]
  },
  {
   "cell_type": "code",
   "execution_count": 13,
   "metadata": {
    "collapsed": false
   },
   "outputs": [
    {
     "data": {
      "text/html": [
       "<div>\n",
       "<table border=\"1\" class=\"dataframe\">\n",
       "  <thead>\n",
       "    <tr style=\"text-align: right;\">\n",
       "      <th></th>\n",
       "      <th>ppn</th>\n",
       "      <th>sizeGB</th>\n",
       "      <th>Y_time</th>\n",
       "    </tr>\n",
       "  </thead>\n",
       "  <tbody>\n",
       "    <tr>\n",
       "      <th>0</th>\n",
       "      <td>11</td>\n",
       "      <td>0.56</td>\n",
       "      <td>841.52</td>\n",
       "    </tr>\n",
       "    <tr>\n",
       "      <th>1</th>\n",
       "      <td>11</td>\n",
       "      <td>0.56</td>\n",
       "      <td>828.67</td>\n",
       "    </tr>\n",
       "  </tbody>\n",
       "</table>\n",
       "</div>"
      ],
      "text/plain": [
       "   ppn  sizeGB  Y_time\n",
       "0   11    0.56  841.52\n",
       "1   11    0.56  828.67"
      ]
     },
     "execution_count": 13,
     "metadata": {},
     "output_type": "execute_result"
    }
   ],
   "source": [
    "# read BOWTIE ppn, size, YTime from csv\n",
    "bowtie_ppn_size_time = pd.read_csv('22July_BOWTIE_ppn_sizeGB_Ytime.csv')\n",
    "del bowtie_ppn_size_time['Unnamed: 0']\n",
    "bowtie_ppn_size_time.head(2)"
   ]
  },
  {
   "cell_type": "code",
   "execution_count": 14,
   "metadata": {
    "collapsed": false
   },
   "outputs": [
    {
     "data": {
      "text/plain": [
       "64"
      ]
     },
     "execution_count": 14,
     "metadata": {},
     "output_type": "execute_result"
    }
   ],
   "source": [
    "rows = bowtie_ppn_size_time.shape[0]\n",
    "rows"
   ]
  },
  {
   "cell_type": "code",
   "execution_count": 15,
   "metadata": {
    "collapsed": false
   },
   "outputs": [
    {
     "data": {
      "text/plain": [
       "(64, 55)"
      ]
     },
     "execution_count": 15,
     "metadata": {},
     "output_type": "execute_result"
    }
   ],
   "source": [
    "# create dataframe from BOWTIE static program features with same #ROWS\n",
    "frames = [bowtie_ft for i in range(rows)]\n",
    "BOWTIE_program_ft = pd.concat(frames)\n",
    "BOWTIE_program_ft.reset_index(inplace=True)\n",
    "del BOWTIE_program_ft['index']\n",
    "BOWTIE_program_ft.shape"
   ]
  },
  {
   "cell_type": "code",
   "execution_count": 16,
   "metadata": {
    "collapsed": false
   },
   "outputs": [
    {
     "data": {
      "text/plain": [
       "(32, 58)"
      ]
     },
     "execution_count": 16,
     "metadata": {},
     "output_type": "execute_result"
    }
   ],
   "source": [
    "DUP_ft_concat = pd.concat([dup_ppn_size_time, DUP_program_ft], axis=1, join_axes=[dup_ppn_size_time.index])\n",
    "DUP_ft_concat['y_time']=DUP_ft_concat['Y_time']\n",
    "del DUP_ft_concat['Y_time']\n",
    "DUP_ft_concat.shape"
   ]
  },
  {
   "cell_type": "code",
   "execution_count": 17,
   "metadata": {
    "collapsed": false
   },
   "outputs": [
    {
     "data": {
      "text/plain": [
       "(64, 58)"
      ]
     },
     "execution_count": 17,
     "metadata": {},
     "output_type": "execute_result"
    }
   ],
   "source": [
    "BOWTIE_ft_concat = pd.concat([bowtie_ppn_size_time, BOWTIE_program_ft], axis=1, \n",
    "                            join_axes=[bowtie_ppn_size_time.index])\n",
    "\n",
    "BOWTIE_ft_concat['y_time']=BOWTIE_ft_concat['Y_time']\n",
    "del BOWTIE_ft_concat['Y_time']\n",
    "BOWTIE_ft_concat.shape"
   ]
  },
  {
   "cell_type": "code",
   "execution_count": 18,
   "metadata": {
    "collapsed": false
   },
   "outputs": [
    {
     "data": {
      "text/html": [
       "<div>\n",
       "<table border=\"1\" class=\"dataframe\">\n",
       "  <thead>\n",
       "    <tr style=\"text-align: right;\">\n",
       "      <th></th>\n",
       "      <th>ppn</th>\n",
       "      <th>sizeGB</th>\n",
       "      <th>ft1</th>\n",
       "      <th>ft2</th>\n",
       "      <th>ft3</th>\n",
       "      <th>ft4</th>\n",
       "      <th>ft5</th>\n",
       "      <th>ft6</th>\n",
       "      <th>ft7</th>\n",
       "      <th>ft8</th>\n",
       "      <th>...</th>\n",
       "      <th>ft54</th>\n",
       "      <th>ft55</th>\n",
       "      <th>ft26</th>\n",
       "      <th>ft27</th>\n",
       "      <th>ft28</th>\n",
       "      <th>ft29</th>\n",
       "      <th>ft30</th>\n",
       "      <th>ft31</th>\n",
       "      <th>ft32</th>\n",
       "      <th>y_time</th>\n",
       "    </tr>\n",
       "  </thead>\n",
       "  <tbody>\n",
       "    <tr>\n",
       "      <th>0</th>\n",
       "      <td>11</td>\n",
       "      <td>1.2</td>\n",
       "      <td>3058.0</td>\n",
       "      <td>1199.0</td>\n",
       "      <td>1375.0</td>\n",
       "      <td>1.0</td>\n",
       "      <td>1841.0</td>\n",
       "      <td>764.0</td>\n",
       "      <td>149.0</td>\n",
       "      <td>905.0</td>\n",
       "      <td>...</td>\n",
       "      <td>2138.0</td>\n",
       "      <td>3.0</td>\n",
       "      <td>84.1</td>\n",
       "      <td>197.14</td>\n",
       "      <td>702.0</td>\n",
       "      <td>225.0</td>\n",
       "      <td>1827.0</td>\n",
       "      <td>28.0</td>\n",
       "      <td>899.0</td>\n",
       "      <td>45.82</td>\n",
       "    </tr>\n",
       "    <tr>\n",
       "      <th>1</th>\n",
       "      <td>11</td>\n",
       "      <td>1.7</td>\n",
       "      <td>3058.0</td>\n",
       "      <td>1199.0</td>\n",
       "      <td>1375.0</td>\n",
       "      <td>1.0</td>\n",
       "      <td>1841.0</td>\n",
       "      <td>764.0</td>\n",
       "      <td>149.0</td>\n",
       "      <td>905.0</td>\n",
       "      <td>...</td>\n",
       "      <td>2138.0</td>\n",
       "      <td>3.0</td>\n",
       "      <td>84.1</td>\n",
       "      <td>197.14</td>\n",
       "      <td>702.0</td>\n",
       "      <td>225.0</td>\n",
       "      <td>1827.0</td>\n",
       "      <td>28.0</td>\n",
       "      <td>899.0</td>\n",
       "      <td>67.97</td>\n",
       "    </tr>\n",
       "  </tbody>\n",
       "</table>\n",
       "<p>2 rows × 58 columns</p>\n",
       "</div>"
      ],
      "text/plain": [
       "   ppn  sizeGB     ft1     ft2     ft3  ft4     ft5    ft6    ft7    ft8  \\\n",
       "0   11     1.2  3058.0  1199.0  1375.0  1.0  1841.0  764.0  149.0  905.0   \n",
       "1   11     1.7  3058.0  1199.0  1375.0  1.0  1841.0  764.0  149.0  905.0   \n",
       "\n",
       "    ...      ft54  ft55  ft26    ft27   ft28   ft29    ft30  ft31   ft32  \\\n",
       "0   ...    2138.0   3.0  84.1  197.14  702.0  225.0  1827.0  28.0  899.0   \n",
       "1   ...    2138.0   3.0  84.1  197.14  702.0  225.0  1827.0  28.0  899.0   \n",
       "\n",
       "   y_time  \n",
       "0   45.82  \n",
       "1   67.97  \n",
       "\n",
       "[2 rows x 58 columns]"
      ]
     },
     "execution_count": 18,
     "metadata": {},
     "output_type": "execute_result"
    }
   ],
   "source": [
    "# union DUP_ft_concat, BOWTIE_ft_concat\n",
    "frames = [DUP_ft_concat, BOWTIE_ft_concat]\n",
    "dup_bowtie = pd.concat(frames)\n",
    "dup_bowtie.reset_index(inplace=True)\n",
    "del dup_bowtie['index']\n",
    "dup_bowtie.head(2)"
   ]
  },
  {
   "cell_type": "code",
   "execution_count": 19,
   "metadata": {
    "collapsed": false
   },
   "outputs": [
    {
     "data": {
      "text/plain": [
       "Index(['ppn', 'sizeGB', 'ft1', 'ft2', 'ft3', 'ft4', 'ft5', 'ft6', 'ft7', 'ft8',\n",
       "       'ft9', 'ft10', 'ft11', 'ft12', 'ft13', 'ft14', 'ft15', 'ft16', 'ft17',\n",
       "       'ft18', 'ft24', 'ft25', 'ft19', 'ft39', 'ft20', 'ft33', 'ft21', 'ft35',\n",
       "       'ft22', 'ft23', 'ft34', 'ft36', 'ft37', 'ft38', 'ft40', 'ft41', 'ft42',\n",
       "       'ft43', 'ft44', 'ft45', 'ft46', 'ft48', 'ft47', 'ft49', 'ft51', 'ft50',\n",
       "       'ft52', 'ft53', 'ft54', 'ft55', 'ft26', 'ft27', 'ft28', 'ft29', 'ft30',\n",
       "       'ft31', 'ft32'],\n",
       "      dtype='object')"
      ]
     },
     "execution_count": 19,
     "metadata": {},
     "output_type": "execute_result"
    }
   ],
   "source": [
    "dup_bowtie.columns[0:57]"
   ]
  },
  {
   "cell_type": "code",
   "execution_count": 20,
   "metadata": {
    "collapsed": false
   },
   "outputs": [],
   "source": [
    "ft0 = dup_bowtie.copy(deep=True)"
   ]
  },
  {
   "cell_type": "code",
   "execution_count": 21,
   "metadata": {
    "collapsed": false
   },
   "outputs": [
    {
     "data": {
      "text/plain": [
       "(96, 58)"
      ]
     },
     "execution_count": 21,
     "metadata": {},
     "output_type": "execute_result"
    }
   ],
   "source": [
    "import numpy as np\n",
    "ft1=ft0.iloc[np.random.permutation(len(ft0))]\n",
    "ft=ft1.reset_index(drop=True)\n",
    "ft.shape"
   ]
  },
  {
   "cell_type": "markdown",
   "metadata": {},
   "source": [
    "### ft_all"
   ]
  },
  {
   "cell_type": "code",
   "execution_count": 22,
   "metadata": {
    "collapsed": true
   },
   "outputs": [],
   "source": [
    "ft_all = ft.copy(deep=True) #store a copy - do not change this later"
   ]
  },
  {
   "cell_type": "code",
   "execution_count": 23,
   "metadata": {
    "collapsed": false
   },
   "outputs": [
    {
     "data": {
      "text/plain": [
       "Index(['ppn', 'sizeGB', 'ft1', 'ft2', 'ft3', 'ft4', 'ft5', 'ft6', 'ft7', 'ft8',\n",
       "       'ft9', 'ft10', 'ft11', 'ft12', 'ft13', 'ft14', 'ft15', 'ft16', 'ft17',\n",
       "       'ft18', 'ft24', 'ft25', 'ft19', 'ft39', 'ft20', 'ft33', 'ft21', 'ft35',\n",
       "       'ft22', 'ft23', 'ft34', 'ft36', 'ft37', 'ft38', 'ft40', 'ft41', 'ft42',\n",
       "       'ft43', 'ft44', 'ft45', 'ft46', 'ft48', 'ft47', 'ft49', 'ft51', 'ft50',\n",
       "       'ft52', 'ft53', 'ft54', 'ft55', 'ft26', 'ft27', 'ft28', 'ft29', 'ft30',\n",
       "       'ft31', 'ft32'],\n",
       "      dtype='object')"
      ]
     },
     "execution_count": 23,
     "metadata": {},
     "output_type": "execute_result"
    }
   ],
   "source": [
    "features = ft.columns[0:57]\n",
    "target = ft.columns[57]\n",
    "features"
   ]
  },
  {
   "cell_type": "code",
   "execution_count": 24,
   "metadata": {
    "collapsed": false
   },
   "outputs": [
    {
     "data": {
      "text/plain": [
       "'y_time'"
      ]
     },
     "execution_count": 24,
     "metadata": {},
     "output_type": "execute_result"
    }
   ],
   "source": [
    "target"
   ]
  },
  {
   "cell_type": "code",
   "execution_count": 31,
   "metadata": {
    "collapsed": false
   },
   "outputs": [
    {
     "name": "stdout",
     "output_type": "stream",
     "text": [
      "15 150 [ 810.12038316   95.6302104    81.61226999  397.58895212  447.03812134] 366.397987401\n",
      "30 160 [   54.46909249   307.76398729   281.50043095   249.0628519   1082.2154795 ] 395.002368427\n",
      "45 170 [ 164.83091449  309.3276651   275.99198328  317.75342574  132.89381487] 240.159560696\n",
      "60 180 [ 228.4219548   307.84691136  255.02689114   65.80560127  330.43677383] 237.507626482\n",
      "75 190 [ 215.13791915  280.37359884  129.43599669  348.18326483  128.37720007] 220.301595915\n"
     ]
    }
   ],
   "source": [
    "from sklearn.ensemble.forest import RandomForestRegressor\n",
    "import numpy as  np\n",
    "from sklearn import cross_validation\n",
    "\n",
    "model = RandomForestRegressor(n_estimators=3000, n_jobs=-1, oob_score=True)\n",
    "rmse = np.array([  297.59290466,  1367.76369731,   164.79490009,    33.22493526, 389.47117031])\n",
    "\n",
    "i=0\n",
    "t = 150\n",
    "\n",
    "while (rmse.mean() > t):\n",
    "    scoresMSE = cross_validation.cross_val_score(model, ft_all[features], ft_all[target], cv=5,scoring='mean_squared_error')\n",
    "    rmse = np.sqrt(-scoresMSE)\n",
    "    i=i+1\n",
    "    if (i%15==0):\n",
    "        print(i, t, rmse, rmse.mean())\n",
    "        t = t + 10\n",
    "        \n",
    "        #shuffle\n",
    "        ft1  =ft_all.iloc[np.random.permutation(len(ft_all))]\n",
    "        ft2  =ft1.reset_index(drop=True)\n",
    "        ft_all = ft2.copy(deep=True)"
   ]
  },
  {
   "cell_type": "code",
   "execution_count": 36,
   "metadata": {
    "collapsed": false
   },
   "outputs": [
    {
     "data": {
      "text/plain": [
       "(193.86163685668643, 1389.7422916666667)"
      ]
     },
     "execution_count": 36,
     "metadata": {},
     "output_type": "execute_result"
    }
   ],
   "source": [
    "rmse.mean(), ft_all[target].mean()"
   ]
  },
  {
   "cell_type": "code",
   "execution_count": 37,
   "metadata": {
    "collapsed": false
   },
   "outputs": [
    {
     "data": {
      "text/plain": [
       "array([ 315.50889632,  160.4556462 ,   96.88628657,  360.62298207,\n",
       "         35.83437313])"
      ]
     },
     "execution_count": 37,
     "metadata": {},
     "output_type": "execute_result"
    }
   ],
   "source": [
    "rmse"
   ]
  },
  {
   "cell_type": "code",
   "execution_count": null,
   "metadata": {
    "collapsed": true
   },
   "outputs": [],
   "source": []
  },
  {
   "cell_type": "code",
   "execution_count": 38,
   "metadata": {
    "collapsed": false
   },
   "outputs": [
    {
     "name": "stdout",
     "output_type": "stream",
     "text": [
      "50 150 [ 325.33207748  160.25886202   99.00764685  370.37591484   35.22679165] 198.040258568\n",
      "100 160 [ 801.81354557   99.26344748  280.67636937  409.8515728    94.24411086] 337.169809218\n",
      "150 170 [  169.31288194   330.69467237    74.14084072  1096.24676066    27.61107244] 339.601245625\n",
      "200 180 [ 1061.60601848   234.77644589   180.8074913    251.60246642    22.80487831] 350.319460079\n",
      "250 190 [ 1051.98614453   297.24912943   319.08799148   130.78198478   235.29204788] 406.879459619\n",
      "300 200 [ 1055.18230441   231.62893436   211.28613647   112.11429128   217.09493214] 365.461319732\n",
      "350 210 [ 152.64680223  241.4765278   309.61115097  425.90451172  132.65750554] 252.459299653\n",
      "400 220 [ 170.99272275  256.76410983  303.93104758   84.2064806   347.90211162] 232.759294476\n",
      "450 230 [ 366.35091439  312.58961125  135.82212934  296.53342151  269.96157078] 276.251529454\n",
      "500 240 [ 345.48064336  570.0648403   279.7545394    82.95986906  256.17051602] 306.886081629\n"
     ]
    }
   ],
   "source": [
    "from sklearn.ensemble.forest import RandomForestRegressor\n",
    "import numpy as  np\n",
    "from sklearn import cross_validation\n",
    "\n",
    "model2 = RandomForestRegressor(n_estimators=3000, n_jobs=-1, oob_score=True)\n",
    "rmse2 = np.array([  297.59290466,  1367.76369731,   164.79490009,    33.22493526, 389.47117031])\n",
    "\n",
    "i=0\n",
    "t = 150\n",
    "\n",
    "while (rmse2.mean() > t):\n",
    "    scoresMSE2 = cross_validation.cross_val_score(model2, ft_all[features], ft_all[target], cv=5,scoring='mean_squared_error')\n",
    "    rmse2 = np.sqrt(-scoresMSE2)\n",
    "    i=i+1\n",
    "    if (i%50==0):\n",
    "        print(i, t, rmse2, rmse2.mean())\n",
    "        t = t + 10\n",
    "        \n",
    "        #shuffle\n",
    "        ft1  =ft_all.iloc[np.random.permutation(len(ft_all))]\n",
    "        ft2  =ft1.reset_index(drop=True)\n",
    "        ft_all = ft2.copy(deep=True)"
   ]
  },
  {
   "cell_type": "code",
   "execution_count": 39,
   "metadata": {
    "collapsed": false
   },
   "outputs": [
    {
     "data": {
      "text/plain": [
       "array([ 295.0124828 ,  120.50976346,   93.13358771,  259.61305756,\n",
       "        350.73711393])"
      ]
     },
     "execution_count": 39,
     "metadata": {},
     "output_type": "execute_result"
    }
   ],
   "source": [
    "rmse2"
   ]
  },
  {
   "cell_type": "code",
   "execution_count": 40,
   "metadata": {
    "collapsed": false
   },
   "outputs": [
    {
     "data": {
      "text/plain": [
       "223.80120109331148"
      ]
     },
     "execution_count": 40,
     "metadata": {},
     "output_type": "execute_result"
    }
   ],
   "source": [
    "rmse2.mean()"
   ]
  },
  {
   "cell_type": "code",
   "execution_count": null,
   "metadata": {
    "collapsed": true
   },
   "outputs": [],
   "source": []
  },
  {
   "cell_type": "code",
   "execution_count": 31,
   "metadata": {
    "collapsed": false
   },
   "outputs": [
    {
     "name": "stdout",
     "output_type": "stream",
     "text": [
      "15 150 [  473.88530326    81.76295899    19.59024196  1085.66686014   240.59800096] 380.300673061\n",
      "30 160 [  133.44418997    71.38830606  1084.38285289    75.45528827   600.74013942] 393.082155322\n",
      "45 170 [ 335.03866809   87.79320712  156.15266749  328.17757898  220.10973952] 225.45437224\n",
      "60 180 [ 292.90910666   70.48572501  291.78380781  392.51820657  257.63995896] 261.067361002\n",
      "75 190 [  117.8783393   1084.70348882   104.91099823   145.83886909   116.98385864] 314.063110819\n",
      "90 200 [ 360.77605274  231.73246086  292.51379501  537.64898214   92.78454555] 303.091167257\n"
     ]
    }
   ],
   "source": [
    "from sklearn.ensemble.forest import RandomForestRegressor\n",
    "import numpy as  np\n",
    "from sklearn import cross_validation\n",
    "from numpy.random import RandomState\n",
    "\n",
    "rmse3 = np.array([  297.59290466,  1367.76369731,   164.79490009,    33.22493526, 389.47117031])\n",
    "\n",
    "i = 0\n",
    "t = 150\n",
    "\n",
    "while (rmse3.mean() > t):\n",
    "    np.random.seed() #randomly initialize\n",
    "    \n",
    "    model = RandomForestRegressor(n_estimators=6000, n_jobs=-1, oob_score=True, random_state=RandomState())    \n",
    "    \n",
    "    #shuffle\n",
    "    ft1  =ft_all.iloc[np.random.permutation(len(ft_all))]\n",
    "    ft2  =ft1.reset_index(drop=True)\n",
    "    ft_all = ft2.copy(deep=True)\n",
    "        \n",
    "    scoresMSE3 = cross_validation.cross_val_score(model, ft_all[features], ft_all[target], cv=5,scoring='mean_squared_error')\n",
    "    rmse3 = np.sqrt(-scoresMSE3)\n",
    "    i=i+1\n",
    "    if (i%15==0):\n",
    "        print(i, t, rmse3, rmse3.mean())\n",
    "        t = t + 10"
   ]
  },
  {
   "cell_type": "code",
   "execution_count": 32,
   "metadata": {
    "collapsed": false
   },
   "outputs": [
    {
     "data": {
      "text/plain": [
       "(array([ 343.06205591,   46.80086024,  337.6488976 ,  142.9993495 ,\n",
       "          79.75583334]), 190.0533993186931)"
      ]
     },
     "execution_count": 32,
     "metadata": {},
     "output_type": "execute_result"
    }
   ],
   "source": [
    "rmse3, rmse3.mean()"
   ]
  },
  {
   "cell_type": "code",
   "execution_count": 33,
   "metadata": {
    "collapsed": false
   },
   "outputs": [
    {
     "data": {
      "text/plain": [
       "1389.7422916666667"
      ]
     },
     "execution_count": 33,
     "metadata": {},
     "output_type": "execute_result"
    }
   ],
   "source": [
    "ft_all[target].mean()"
   ]
  },
  {
   "cell_type": "code",
   "execution_count": null,
   "metadata": {
    "collapsed": true
   },
   "outputs": [],
   "source": []
  }
 ],
 "metadata": {
  "anaconda-cloud": {},
  "kernelspec": {
   "display_name": "Python 3",
   "language": "python",
   "name": "python3"
  },
  "language_info": {
   "codemirror_mode": {
    "name": "ipython",
    "version": 3
   },
   "file_extension": ".py",
   "mimetype": "text/x-python",
   "name": "python",
   "nbconvert_exporter": "python",
   "pygments_lexer": "ipython3",
   "version": "3.5.1"
  }
 },
 "nbformat": 4,
 "nbformat_minor": 0
}
