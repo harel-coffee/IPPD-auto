{
 "cells": [
  {
   "cell_type": "markdown",
   "metadata": {},
   "source": [
    "## Get static program features of bowtie and cd-hit-dup"
   ]
  },
  {
   "cell_type": "code",
   "execution_count": 1,
   "metadata": {
    "collapsed": true
   },
   "outputs": [],
   "source": [
    "header='ft1 ft2 ft3 ft4 ft5 ft6 ft7 ft8 ft9 ft10 ft11 ft12 ft13 ft14 ft15 ft16 ft17 ft18 ft24 ft25 ft19 ft39 ft20 ft33 ft21 ft35 ft22 ft23 ft34 ft36 ft37 ft38 ft40 ft41 ft42 ft43 ft44 ft45 ft46 ft48 ft47 ft49 ft51 ft50 ft52 ft53 ft54 ft55 ft26 ft27 ft28 ft29 ft30 ft31 ft32'"
   ]
  },
  {
   "cell_type": "code",
   "execution_count": 11,
   "metadata": {
    "collapsed": false
   },
   "outputs": [
    {
     "data": {
      "text/html": [
       "<div>\n",
       "<table border=\"1\" class=\"dataframe\">\n",
       "  <thead>\n",
       "    <tr style=\"text-align: right;\">\n",
       "      <th></th>\n",
       "      <th>ft1</th>\n",
       "      <th>ft2</th>\n",
       "      <th>ft3</th>\n",
       "      <th>ft4</th>\n",
       "      <th>ft5</th>\n",
       "      <th>ft6</th>\n",
       "      <th>ft7</th>\n",
       "      <th>ft8</th>\n",
       "      <th>ft9</th>\n",
       "      <th>ft10</th>\n",
       "      <th>...</th>\n",
       "      <th>ft53</th>\n",
       "      <th>ft54</th>\n",
       "      <th>ft55</th>\n",
       "      <th>ft26</th>\n",
       "      <th>ft27</th>\n",
       "      <th>ft28</th>\n",
       "      <th>ft29</th>\n",
       "      <th>ft30</th>\n",
       "      <th>ft31</th>\n",
       "      <th>ft32</th>\n",
       "    </tr>\n",
       "  </thead>\n",
       "  <tbody>\n",
       "    <tr>\n",
       "      <th>0</th>\n",
       "      <td>4267.0</td>\n",
       "      <td>1648.0</td>\n",
       "      <td>2153.0</td>\n",
       "      <td>15.0</td>\n",
       "      <td>2843.0</td>\n",
       "      <td>847.0</td>\n",
       "      <td>357.0</td>\n",
       "      <td>1291.0</td>\n",
       "      <td>1403.0</td>\n",
       "      <td>245.0</td>\n",
       "      <td>...</td>\n",
       "      <td>219.0</td>\n",
       "      <td>3626.0</td>\n",
       "      <td>18.0</td>\n",
       "      <td>79.11</td>\n",
       "      <td>210.87</td>\n",
       "      <td>595.0</td>\n",
       "      <td>529.0</td>\n",
       "      <td>2923.0</td>\n",
       "      <td>9.0</td>\n",
       "      <td>1115.0</td>\n",
       "    </tr>\n",
       "  </tbody>\n",
       "</table>\n",
       "<p>1 rows × 55 columns</p>\n",
       "</div>"
      ],
      "text/plain": [
       "      ft1     ft2     ft3   ft4     ft5    ft6    ft7     ft8     ft9   ft10  \\\n",
       "0  4267.0  1648.0  2153.0  15.0  2843.0  847.0  357.0  1291.0  1403.0  245.0   \n",
       "\n",
       "    ...     ft53    ft54  ft55   ft26    ft27   ft28   ft29    ft30  ft31  \\\n",
       "0   ...    219.0  3626.0  18.0  79.11  210.87  595.0  529.0  2923.0   9.0   \n",
       "\n",
       "     ft32  \n",
       "0  1115.0  \n",
       "\n",
       "[1 rows x 55 columns]"
      ]
     },
     "execution_count": 11,
     "metadata": {},
     "output_type": "execute_result"
    }
   ],
   "source": [
    "import pandas as pd\n",
    "\n",
    "def value(item):\n",
    "    return item[item.find('=')+1:]\n",
    "\n",
    "df = pd.read_table('cd-hit-dup_features.txt', header=None, delimiter=',',\n",
    "                   converters={i:value for i in range(55)},\n",
    "                   names=header.split())\n",
    "\n",
    "bowtie_ft = pd.read_table('bowtie_features.txt', header=None, delimiter=',',\n",
    "                   converters={i:value for i in range(55)},\n",
    "                   names=header.split())\n",
    "\n",
    "bowtie_ft = bowtie_ft.astype(float)\n",
    "bowtie_ft"
   ]
  },
  {
   "cell_type": "code",
   "execution_count": 12,
   "metadata": {
    "collapsed": false
   },
   "outputs": [],
   "source": [
    "df = df.astype(float)"
   ]
  },
  {
   "cell_type": "code",
   "execution_count": 13,
   "metadata": {
    "collapsed": false
   },
   "outputs": [
    {
     "data": {
      "text/html": [
       "<div>\n",
       "<table border=\"1\" class=\"dataframe\">\n",
       "  <thead>\n",
       "    <tr style=\"text-align: right;\">\n",
       "      <th></th>\n",
       "      <th>ft1</th>\n",
       "      <th>ft2</th>\n",
       "      <th>ft3</th>\n",
       "      <th>ft4</th>\n",
       "      <th>ft5</th>\n",
       "      <th>ft6</th>\n",
       "      <th>ft7</th>\n",
       "      <th>ft8</th>\n",
       "      <th>ft9</th>\n",
       "      <th>ft10</th>\n",
       "      <th>...</th>\n",
       "      <th>ft53</th>\n",
       "      <th>ft54</th>\n",
       "      <th>ft55</th>\n",
       "      <th>ft26</th>\n",
       "      <th>ft27</th>\n",
       "      <th>ft28</th>\n",
       "      <th>ft29</th>\n",
       "      <th>ft30</th>\n",
       "      <th>ft31</th>\n",
       "      <th>ft32</th>\n",
       "    </tr>\n",
       "  </thead>\n",
       "  <tbody>\n",
       "    <tr>\n",
       "      <th>0</th>\n",
       "      <td>341.0</td>\n",
       "      <td>106.0</td>\n",
       "      <td>94.0</td>\n",
       "      <td>0.0</td>\n",
       "      <td>168.0</td>\n",
       "      <td>68.0</td>\n",
       "      <td>11.0</td>\n",
       "      <td>94.0</td>\n",
       "      <td>46.0</td>\n",
       "      <td>9.0</td>\n",
       "      <td>...</td>\n",
       "      <td>1.0</td>\n",
       "      <td>160.0</td>\n",
       "      <td>0.0</td>\n",
       "      <td>19.89</td>\n",
       "      <td>51.20</td>\n",
       "      <td>55.0</td>\n",
       "      <td>20.0</td>\n",
       "      <td>172.0</td>\n",
       "      <td>5.0</td>\n",
       "      <td>70.0</td>\n",
       "    </tr>\n",
       "    <tr>\n",
       "      <th>1</th>\n",
       "      <td>415.0</td>\n",
       "      <td>154.0</td>\n",
       "      <td>164.0</td>\n",
       "      <td>1.0</td>\n",
       "      <td>242.0</td>\n",
       "      <td>75.0</td>\n",
       "      <td>34.0</td>\n",
       "      <td>126.0</td>\n",
       "      <td>107.0</td>\n",
       "      <td>26.0</td>\n",
       "      <td>...</td>\n",
       "      <td>5.0</td>\n",
       "      <td>214.0</td>\n",
       "      <td>0.0</td>\n",
       "      <td>11.95</td>\n",
       "      <td>42.52</td>\n",
       "      <td>84.0</td>\n",
       "      <td>11.0</td>\n",
       "      <td>256.0</td>\n",
       "      <td>14.0</td>\n",
       "      <td>81.0</td>\n",
       "    </tr>\n",
       "    <tr>\n",
       "      <th>2</th>\n",
       "      <td>352.0</td>\n",
       "      <td>142.0</td>\n",
       "      <td>172.0</td>\n",
       "      <td>0.0</td>\n",
       "      <td>213.0</td>\n",
       "      <td>103.0</td>\n",
       "      <td>18.0</td>\n",
       "      <td>97.0</td>\n",
       "      <td>108.0</td>\n",
       "      <td>40.0</td>\n",
       "      <td>...</td>\n",
       "      <td>3.0</td>\n",
       "      <td>267.0</td>\n",
       "      <td>1.0</td>\n",
       "      <td>9.27</td>\n",
       "      <td>19.65</td>\n",
       "      <td>61.0</td>\n",
       "      <td>51.0</td>\n",
       "      <td>222.0</td>\n",
       "      <td>2.0</td>\n",
       "      <td>110.0</td>\n",
       "    </tr>\n",
       "    <tr>\n",
       "      <th>3</th>\n",
       "      <td>1950.0</td>\n",
       "      <td>797.0</td>\n",
       "      <td>945.0</td>\n",
       "      <td>0.0</td>\n",
       "      <td>1218.0</td>\n",
       "      <td>518.0</td>\n",
       "      <td>86.0</td>\n",
       "      <td>588.0</td>\n",
       "      <td>580.0</td>\n",
       "      <td>179.0</td>\n",
       "      <td>...</td>\n",
       "      <td>65.0</td>\n",
       "      <td>1497.0</td>\n",
       "      <td>2.0</td>\n",
       "      <td>42.99</td>\n",
       "      <td>83.77</td>\n",
       "      <td>502.0</td>\n",
       "      <td>143.0</td>\n",
       "      <td>1177.0</td>\n",
       "      <td>7.0</td>\n",
       "      <td>638.0</td>\n",
       "    </tr>\n",
       "  </tbody>\n",
       "</table>\n",
       "<p>4 rows × 55 columns</p>\n",
       "</div>"
      ],
      "text/plain": [
       "      ft1    ft2    ft3  ft4     ft5    ft6   ft7    ft8    ft9   ft10  ...    \\\n",
       "0   341.0  106.0   94.0  0.0   168.0   68.0  11.0   94.0   46.0    9.0  ...     \n",
       "1   415.0  154.0  164.0  1.0   242.0   75.0  34.0  126.0  107.0   26.0  ...     \n",
       "2   352.0  142.0  172.0  0.0   213.0  103.0  18.0   97.0  108.0   40.0  ...     \n",
       "3  1950.0  797.0  945.0  0.0  1218.0  518.0  86.0  588.0  580.0  179.0  ...     \n",
       "\n",
       "   ft53    ft54  ft55   ft26   ft27   ft28   ft29    ft30  ft31   ft32  \n",
       "0   1.0   160.0   0.0  19.89  51.20   55.0   20.0   172.0   5.0   70.0  \n",
       "1   5.0   214.0   0.0  11.95  42.52   84.0   11.0   256.0  14.0   81.0  \n",
       "2   3.0   267.0   1.0   9.27  19.65   61.0   51.0   222.0   2.0  110.0  \n",
       "3  65.0  1497.0   2.0  42.99  83.77  502.0  143.0  1177.0   7.0  638.0  \n",
       "\n",
       "[4 rows x 55 columns]"
      ]
     },
     "execution_count": 13,
     "metadata": {},
     "output_type": "execute_result"
    }
   ],
   "source": [
    "df"
   ]
  },
  {
   "cell_type": "code",
   "execution_count": 14,
   "metadata": {
    "collapsed": false
   },
   "outputs": [],
   "source": [
    "rowsum = df.sum(axis=0)"
   ]
  },
  {
   "cell_type": "code",
   "execution_count": 15,
   "metadata": {
    "collapsed": false
   },
   "outputs": [],
   "source": [
    "data = [d for d in rowsum.values]\n",
    "cols = [c for c in rowsum.index]"
   ]
  },
  {
   "cell_type": "code",
   "execution_count": 16,
   "metadata": {
    "collapsed": false
   },
   "outputs": [],
   "source": [
    "dup_ft = pd.DataFrame(columns=cols) #create empty dataframe"
   ]
  },
  {
   "cell_type": "code",
   "execution_count": 17,
   "metadata": {
    "collapsed": false
   },
   "outputs": [],
   "source": [
    "dup_ft.loc[0] = data #add one row"
   ]
  },
  {
   "cell_type": "code",
   "execution_count": 18,
   "metadata": {
    "collapsed": false
   },
   "outputs": [
    {
     "data": {
      "text/html": [
       "<div>\n",
       "<table border=\"1\" class=\"dataframe\">\n",
       "  <thead>\n",
       "    <tr style=\"text-align: right;\">\n",
       "      <th></th>\n",
       "      <th>ft1</th>\n",
       "      <th>ft2</th>\n",
       "      <th>ft3</th>\n",
       "      <th>ft4</th>\n",
       "      <th>ft5</th>\n",
       "      <th>ft6</th>\n",
       "      <th>ft7</th>\n",
       "      <th>ft8</th>\n",
       "      <th>ft9</th>\n",
       "      <th>ft10</th>\n",
       "      <th>...</th>\n",
       "      <th>ft53</th>\n",
       "      <th>ft54</th>\n",
       "      <th>ft55</th>\n",
       "      <th>ft26</th>\n",
       "      <th>ft27</th>\n",
       "      <th>ft28</th>\n",
       "      <th>ft29</th>\n",
       "      <th>ft30</th>\n",
       "      <th>ft31</th>\n",
       "      <th>ft32</th>\n",
       "    </tr>\n",
       "  </thead>\n",
       "  <tbody>\n",
       "    <tr>\n",
       "      <th>0</th>\n",
       "      <td>3058.0</td>\n",
       "      <td>1199.0</td>\n",
       "      <td>1375.0</td>\n",
       "      <td>1.0</td>\n",
       "      <td>1841.0</td>\n",
       "      <td>764.0</td>\n",
       "      <td>149.0</td>\n",
       "      <td>905.0</td>\n",
       "      <td>841.0</td>\n",
       "      <td>254.0</td>\n",
       "      <td>...</td>\n",
       "      <td>74.0</td>\n",
       "      <td>2138.0</td>\n",
       "      <td>3.0</td>\n",
       "      <td>84.1</td>\n",
       "      <td>197.14</td>\n",
       "      <td>702.0</td>\n",
       "      <td>225.0</td>\n",
       "      <td>1827.0</td>\n",
       "      <td>28.0</td>\n",
       "      <td>899.0</td>\n",
       "    </tr>\n",
       "  </tbody>\n",
       "</table>\n",
       "<p>1 rows × 55 columns</p>\n",
       "</div>"
      ],
      "text/plain": [
       "      ft1     ft2     ft3  ft4     ft5    ft6    ft7    ft8    ft9   ft10  \\\n",
       "0  3058.0  1199.0  1375.0  1.0  1841.0  764.0  149.0  905.0  841.0  254.0   \n",
       "\n",
       "   ...    ft53    ft54  ft55  ft26    ft27   ft28   ft29    ft30  ft31   ft32  \n",
       "0  ...    74.0  2138.0   3.0  84.1  197.14  702.0  225.0  1827.0  28.0  899.0  \n",
       "\n",
       "[1 rows x 55 columns]"
      ]
     },
     "execution_count": 18,
     "metadata": {},
     "output_type": "execute_result"
    }
   ],
   "source": [
    "dup_ft"
   ]
  },
  {
   "cell_type": "markdown",
   "metadata": {},
   "source": [
    "## Bowtie: DF1 = Append to CPU, DataSize\n",
    "## DUP:      DF2 = Append to CPU, DataSize\n",
    "## Add totaltime column to both DF1, DF2\n",
    "## DF1 U DF2\n",
    "## Model Training to predict totaltime (57 features)"
   ]
  },
  {
   "cell_type": "code",
   "execution_count": 56,
   "metadata": {
    "collapsed": false
   },
   "outputs": [
    {
     "data": {
      "text/html": [
       "<div>\n",
       "<table border=\"1\" class=\"dataframe\">\n",
       "  <thead>\n",
       "    <tr style=\"text-align: right;\">\n",
       "      <th></th>\n",
       "      <th>ppn</th>\n",
       "      <th>sizeGB</th>\n",
       "      <th>Y_time</th>\n",
       "    </tr>\n",
       "  </thead>\n",
       "  <tbody>\n",
       "    <tr>\n",
       "      <th>0</th>\n",
       "      <td>11</td>\n",
       "      <td>1.2</td>\n",
       "      <td>45.82</td>\n",
       "    </tr>\n",
       "    <tr>\n",
       "      <th>1</th>\n",
       "      <td>11</td>\n",
       "      <td>1.7</td>\n",
       "      <td>67.97</td>\n",
       "    </tr>\n",
       "  </tbody>\n",
       "</table>\n",
       "</div>"
      ],
      "text/plain": [
       "   ppn  sizeGB  Y_time\n",
       "0   11     1.2   45.82\n",
       "1   11     1.7   67.97"
      ]
     },
     "execution_count": 56,
     "metadata": {},
     "output_type": "execute_result"
    }
   ],
   "source": [
    "# read DUP ppn, size, Ytime from csv\n",
    "dup_ppn_size_time = pd.read_csv('22July_dup_ppn_sizeGB_Ytime.csv')\n",
    "del dup_ppn_size_time['Unnamed: 0']\n",
    "dup_ppn_size_time.head(2)"
   ]
  },
  {
   "cell_type": "code",
   "execution_count": 57,
   "metadata": {
    "collapsed": false
   },
   "outputs": [
    {
     "data": {
      "text/plain": [
       "32"
      ]
     },
     "execution_count": 57,
     "metadata": {},
     "output_type": "execute_result"
    }
   ],
   "source": [
    "rows = dup_ppn_size_time.shape[0]\n",
    "rows"
   ]
  },
  {
   "cell_type": "code",
   "execution_count": 58,
   "metadata": {
    "collapsed": false
   },
   "outputs": [
    {
     "data": {
      "text/plain": [
       "(32, 55)"
      ]
     },
     "execution_count": 58,
     "metadata": {},
     "output_type": "execute_result"
    }
   ],
   "source": [
    "# create dataframe from DUP static program features with same #ROWs\n",
    "frames = [dup_ft for i in range(rows)]\n",
    "DUP_program_ft = pd.concat(frames)\n",
    "DUP_program_ft.reset_index(inplace=True)\n",
    "del DUP_program_ft['index']\n",
    "DUP_program_ft.shape"
   ]
  },
  {
   "cell_type": "code",
   "execution_count": 59,
   "metadata": {
    "collapsed": false
   },
   "outputs": [
    {
     "data": {
      "text/html": [
       "<div>\n",
       "<table border=\"1\" class=\"dataframe\">\n",
       "  <thead>\n",
       "    <tr style=\"text-align: right;\">\n",
       "      <th></th>\n",
       "      <th>ppn</th>\n",
       "      <th>sizeGB</th>\n",
       "      <th>Y_time</th>\n",
       "    </tr>\n",
       "  </thead>\n",
       "  <tbody>\n",
       "    <tr>\n",
       "      <th>0</th>\n",
       "      <td>11</td>\n",
       "      <td>0.56</td>\n",
       "      <td>841.52</td>\n",
       "    </tr>\n",
       "    <tr>\n",
       "      <th>1</th>\n",
       "      <td>11</td>\n",
       "      <td>0.56</td>\n",
       "      <td>828.67</td>\n",
       "    </tr>\n",
       "  </tbody>\n",
       "</table>\n",
       "</div>"
      ],
      "text/plain": [
       "   ppn  sizeGB  Y_time\n",
       "0   11    0.56  841.52\n",
       "1   11    0.56  828.67"
      ]
     },
     "execution_count": 59,
     "metadata": {},
     "output_type": "execute_result"
    }
   ],
   "source": [
    "# read BOWTIE ppn, size, YTime from csv\n",
    "bowtie_ppn_size_time = pd.read_csv('22July_BOWTIE_ppn_sizeGB_Ytime.csv')\n",
    "del bowtie_ppn_size_time['Unnamed: 0']\n",
    "bowtie_ppn_size_time.head(2)"
   ]
  },
  {
   "cell_type": "code",
   "execution_count": 60,
   "metadata": {
    "collapsed": false
   },
   "outputs": [
    {
     "data": {
      "text/plain": [
       "64"
      ]
     },
     "execution_count": 60,
     "metadata": {},
     "output_type": "execute_result"
    }
   ],
   "source": [
    "rows = bowtie_ppn_size_time.shape[0]\n",
    "rows"
   ]
  },
  {
   "cell_type": "code",
   "execution_count": 66,
   "metadata": {
    "collapsed": false
   },
   "outputs": [
    {
     "data": {
      "text/plain": [
       "(64, 55)"
      ]
     },
     "execution_count": 66,
     "metadata": {},
     "output_type": "execute_result"
    }
   ],
   "source": [
    "# create dataframe from BOWTIE static program features with same #ROWS\n",
    "frames = [bowtie_ft for i in range(rows)]\n",
    "BOWTIE_program_ft = pd.concat(frames)\n",
    "BOWTIE_program_ft.reset_index(inplace=True)\n",
    "del BOWTIE_program_ft['index']\n",
    "BOWTIE_program_ft.shape"
   ]
  },
  {
   "cell_type": "code",
   "execution_count": 78,
   "metadata": {
    "collapsed": false
   },
   "outputs": [
    {
     "data": {
      "text/plain": [
       "(32, 58)"
      ]
     },
     "execution_count": 78,
     "metadata": {},
     "output_type": "execute_result"
    }
   ],
   "source": [
    "DUP_ft_concat = pd.concat([dup_ppn_size_time, DUP_program_ft], axis=1, join_axes=[dup_ppn_size_time.index])\n",
    "DUP_ft_concat['y_time']=DUP_ft_concat['Y_time']\n",
    "del DUP_ft_concat['Y_time']\n",
    "DUP_ft_concat.shape"
   ]
  },
  {
   "cell_type": "code",
   "execution_count": 79,
   "metadata": {
    "collapsed": false
   },
   "outputs": [
    {
     "data": {
      "text/plain": [
       "(64, 58)"
      ]
     },
     "execution_count": 79,
     "metadata": {},
     "output_type": "execute_result"
    }
   ],
   "source": [
    "BOWTIE_ft_concat = pd.concat([bowtie_ppn_size_time, BOWTIE_program_ft], axis=1, \n",
    "                            join_axes=[bowtie_ppn_size_time.index])\n",
    "\n",
    "BOWTIE_ft_concat['y_time']=BOWTIE_ft_concat['Y_time']\n",
    "del BOWTIE_ft_concat['Y_time']\n",
    "BOWTIE_ft_concat.shape"
   ]
  },
  {
   "cell_type": "code",
   "execution_count": 83,
   "metadata": {
    "collapsed": false
   },
   "outputs": [
    {
     "data": {
      "text/html": [
       "<div>\n",
       "<table border=\"1\" class=\"dataframe\">\n",
       "  <thead>\n",
       "    <tr style=\"text-align: right;\">\n",
       "      <th></th>\n",
       "      <th>ppn</th>\n",
       "      <th>sizeGB</th>\n",
       "      <th>ft1</th>\n",
       "      <th>ft2</th>\n",
       "      <th>ft3</th>\n",
       "      <th>ft4</th>\n",
       "      <th>ft5</th>\n",
       "      <th>ft6</th>\n",
       "      <th>ft7</th>\n",
       "      <th>ft8</th>\n",
       "      <th>...</th>\n",
       "      <th>ft54</th>\n",
       "      <th>ft55</th>\n",
       "      <th>ft26</th>\n",
       "      <th>ft27</th>\n",
       "      <th>ft28</th>\n",
       "      <th>ft29</th>\n",
       "      <th>ft30</th>\n",
       "      <th>ft31</th>\n",
       "      <th>ft32</th>\n",
       "      <th>y_time</th>\n",
       "    </tr>\n",
       "  </thead>\n",
       "  <tbody>\n",
       "    <tr>\n",
       "      <th>0</th>\n",
       "      <td>11</td>\n",
       "      <td>1.2</td>\n",
       "      <td>3058.0</td>\n",
       "      <td>1199.0</td>\n",
       "      <td>1375.0</td>\n",
       "      <td>1.0</td>\n",
       "      <td>1841.0</td>\n",
       "      <td>764.0</td>\n",
       "      <td>149.0</td>\n",
       "      <td>905.0</td>\n",
       "      <td>...</td>\n",
       "      <td>2138.0</td>\n",
       "      <td>3.0</td>\n",
       "      <td>84.1</td>\n",
       "      <td>197.14</td>\n",
       "      <td>702.0</td>\n",
       "      <td>225.0</td>\n",
       "      <td>1827.0</td>\n",
       "      <td>28.0</td>\n",
       "      <td>899.0</td>\n",
       "      <td>45.82</td>\n",
       "    </tr>\n",
       "    <tr>\n",
       "      <th>1</th>\n",
       "      <td>11</td>\n",
       "      <td>1.7</td>\n",
       "      <td>3058.0</td>\n",
       "      <td>1199.0</td>\n",
       "      <td>1375.0</td>\n",
       "      <td>1.0</td>\n",
       "      <td>1841.0</td>\n",
       "      <td>764.0</td>\n",
       "      <td>149.0</td>\n",
       "      <td>905.0</td>\n",
       "      <td>...</td>\n",
       "      <td>2138.0</td>\n",
       "      <td>3.0</td>\n",
       "      <td>84.1</td>\n",
       "      <td>197.14</td>\n",
       "      <td>702.0</td>\n",
       "      <td>225.0</td>\n",
       "      <td>1827.0</td>\n",
       "      <td>28.0</td>\n",
       "      <td>899.0</td>\n",
       "      <td>67.97</td>\n",
       "    </tr>\n",
       "  </tbody>\n",
       "</table>\n",
       "<p>2 rows × 58 columns</p>\n",
       "</div>"
      ],
      "text/plain": [
       "   ppn  sizeGB     ft1     ft2     ft3  ft4     ft5    ft6    ft7    ft8  \\\n",
       "0   11     1.2  3058.0  1199.0  1375.0  1.0  1841.0  764.0  149.0  905.0   \n",
       "1   11     1.7  3058.0  1199.0  1375.0  1.0  1841.0  764.0  149.0  905.0   \n",
       "\n",
       "    ...      ft54  ft55  ft26    ft27   ft28   ft29    ft30  ft31   ft32  \\\n",
       "0   ...    2138.0   3.0  84.1  197.14  702.0  225.0  1827.0  28.0  899.0   \n",
       "1   ...    2138.0   3.0  84.1  197.14  702.0  225.0  1827.0  28.0  899.0   \n",
       "\n",
       "   y_time  \n",
       "0   45.82  \n",
       "1   67.97  \n",
       "\n",
       "[2 rows x 58 columns]"
      ]
     },
     "execution_count": 83,
     "metadata": {},
     "output_type": "execute_result"
    }
   ],
   "source": [
    "# union DUP_ft_concat, BOWTIE_ft_concat\n",
    "frames = [DUP_ft_concat, BOWTIE_ft_concat]\n",
    "dup_bowtie = pd.concat(frames)\n",
    "dup_bowtie.reset_index(inplace=True)\n",
    "del dup_bowtie['index']\n",
    "dup_bowtie.head(2)"
   ]
  },
  {
   "cell_type": "code",
   "execution_count": 89,
   "metadata": {
    "collapsed": false
   },
   "outputs": [
    {
     "data": {
      "text/plain": [
       "Index(['ppn', 'sizeGB', 'ft1', 'ft2', 'ft3', 'ft4', 'ft5', 'ft6', 'ft7', 'ft8',\n",
       "       'ft9', 'ft10', 'ft11', 'ft12', 'ft13', 'ft14', 'ft15', 'ft16', 'ft17',\n",
       "       'ft18', 'ft24', 'ft25', 'ft19', 'ft39', 'ft20', 'ft33', 'ft21', 'ft35',\n",
       "       'ft22', 'ft23', 'ft34', 'ft36', 'ft37', 'ft38', 'ft40', 'ft41', 'ft42',\n",
       "       'ft43', 'ft44', 'ft45', 'ft46', 'ft48', 'ft47', 'ft49', 'ft51', 'ft50',\n",
       "       'ft52', 'ft53', 'ft54', 'ft55', 'ft26', 'ft27', 'ft28', 'ft29', 'ft30',\n",
       "       'ft31', 'ft32'],\n",
       "      dtype='object')"
      ]
     },
     "execution_count": 89,
     "metadata": {},
     "output_type": "execute_result"
    }
   ],
   "source": [
    "dup_bowtie.columns[0:57]"
   ]
  },
  {
   "cell_type": "code",
   "execution_count": 113,
   "metadata": {
    "collapsed": false
   },
   "outputs": [],
   "source": [
    "ft0 = dup_bowtie.copy(deep=True)"
   ]
  },
  {
   "cell_type": "code",
   "execution_count": 134,
   "metadata": {
    "collapsed": false
   },
   "outputs": [
    {
     "data": {
      "text/plain": [
       "(96, 58)"
      ]
     },
     "execution_count": 134,
     "metadata": {},
     "output_type": "execute_result"
    }
   ],
   "source": [
    "ft1=ft0.iloc[np.random.permutation(len(ft0))]\n",
    "ft=ft1.reset_index(drop=True)\n",
    "ft.shape"
   ]
  },
  {
   "cell_type": "markdown",
   "metadata": {},
   "source": [
    "### ft_all"
   ]
  },
  {
   "cell_type": "code",
   "execution_count": 136,
   "metadata": {
    "collapsed": true
   },
   "outputs": [],
   "source": [
    "ft_all = ft.copy(deep=True) #store a copy - do not change this later"
   ]
  },
  {
   "cell_type": "code",
   "execution_count": 137,
   "metadata": {
    "collapsed": false
   },
   "outputs": [
    {
     "data": {
      "text/plain": [
       "Index(['ppn', 'sizeGB', 'ft1', 'ft2', 'ft3', 'ft4', 'ft5', 'ft6', 'ft7', 'ft8',\n",
       "       'ft9', 'ft10', 'ft11', 'ft12', 'ft13', 'ft14', 'ft15', 'ft16', 'ft17',\n",
       "       'ft18', 'ft24', 'ft25', 'ft19', 'ft39', 'ft20', 'ft33', 'ft21', 'ft35',\n",
       "       'ft22', 'ft23', 'ft34', 'ft36', 'ft37', 'ft38', 'ft40', 'ft41', 'ft42',\n",
       "       'ft43', 'ft44', 'ft45', 'ft46', 'ft48', 'ft47', 'ft49', 'ft51', 'ft50',\n",
       "       'ft52', 'ft53', 'ft54', 'ft55', 'ft26', 'ft27', 'ft28', 'ft29', 'ft30',\n",
       "       'ft31', 'ft32'],\n",
       "      dtype='object')"
      ]
     },
     "execution_count": 137,
     "metadata": {},
     "output_type": "execute_result"
    }
   ],
   "source": [
    "features = ft.columns[0:57]\n",
    "target = ft.columns[57]\n",
    "features"
   ]
  },
  {
   "cell_type": "code",
   "execution_count": 138,
   "metadata": {
    "collapsed": false
   },
   "outputs": [
    {
     "data": {
      "text/plain": [
       "'y_time'"
      ]
     },
     "execution_count": 138,
     "metadata": {},
     "output_type": "execute_result"
    }
   ],
   "source": [
    "target"
   ]
  },
  {
   "cell_type": "code",
   "execution_count": 139,
   "metadata": {
    "collapsed": false
   },
   "outputs": [
    {
     "data": {
      "text/plain": [
       "0.6041666666666666"
      ]
     },
     "execution_count": 139,
     "metadata": {},
     "output_type": "execute_result"
    }
   ],
   "source": [
    "from sklearn.ensemble.forest import RandomForestRegressor\n",
    "import numpy as  np\n",
    "\n",
    "model = RandomForestRegressor(n_estimators=1500, n_jobs=-1)\n",
    "\n",
    "np.random.seed()\n",
    "ft['is_train']=np.random.uniform(0,1,len(ft)) <= .6\n",
    "train, test = ft[ft['is_train']==True], ft[ft['is_train']==False]\n",
    "del ft['is_train']\n",
    "len(train)*1.0 / (len(test)+len(train))"
   ]
  },
  {
   "cell_type": "code",
   "execution_count": 140,
   "metadata": {
    "collapsed": true
   },
   "outputs": [],
   "source": [
    "X_train = train[features]\n",
    "Y_train = train[target]\n",
    "\n",
    "X_test = test[features]\n",
    "Y_test = test[target].as_matrix()"
   ]
  },
  {
   "cell_type": "code",
   "execution_count": 141,
   "metadata": {
    "collapsed": false
   },
   "outputs": [
    {
     "name": "stdout",
     "output_type": "stream",
     "text": [
      "778.084800082\n"
     ]
    }
   ],
   "source": [
    "model.fit(X_train, Y_train.values)\n",
    "Y_prediction = model.predict(X_test)\n",
    "\n",
    "from sklearn.metrics import mean_squared_error\n",
    "rmse = np.sqrt(mean_squared_error(Y_test, Y_prediction))\n",
    "print(rmse)"
   ]
  },
  {
   "cell_type": "code",
   "execution_count": 142,
   "metadata": {
    "collapsed": false
   },
   "outputs": [
    {
     "data": {
      "text/plain": [
       "array([ 3362.83,   203.98,  2858.61,   435.69,  2942.53,  1697.59,\n",
       "         861.08,  2116.14,  3356.98,    46.36,  2566.79,   855.2 ,\n",
       "        3396.63,   426.53,  2872.17,  1665.97,  3428.28,   164.02,\n",
       "        1301.71,   841.52,  1273.04,  2150.65,  1274.14,   120.67,\n",
       "        6329.84,   203.5 ,   204.44,  2499.76,   142.07,  2537.84,\n",
       "        6267.29,  1773.46,  2473.27,    21.58,    97.83,   427.76,\n",
       "        3373.84,  3391.35])"
      ]
     },
     "execution_count": 142,
     "metadata": {},
     "output_type": "execute_result"
    }
   ],
   "source": [
    "Y_test #Print Y values of test dataset"
   ]
  },
  {
   "cell_type": "code",
   "execution_count": 143,
   "metadata": {
    "collapsed": false
   },
   "outputs": [
    {
     "data": {
      "text/plain": [
       "array([ 3181.35843983,   183.61883333,  2992.75749956,   440.1532519 ,\n",
       "        2958.94299949,  1712.36939048,  1002.01039833,  2142.59211472,\n",
       "        3237.99846089,    45.29972667,  2501.77166783,   925.27203667,\n",
       "        3191.71467594,   436.3055119 ,  2992.75749956,  1676.52188944,\n",
       "        3191.71467594,   179.72670667,  1214.48484194,  1058.34413989,\n",
       "        1171.15230528,  2149.13736206,  1171.15230528,   122.95219333,\n",
       "        2942.72059671,   179.93324   ,   180.50694667,  2498.35199363,\n",
       "         140.57876667,  2501.77166783,  2942.72059671,  1417.652935  ,\n",
       "        2477.7685773 ,    24.83914667,    96.69653333,   450.43184207,\n",
       "        3223.76772083,  3181.35843983])"
      ]
     },
     "execution_count": 143,
     "metadata": {},
     "output_type": "execute_result"
    }
   ],
   "source": [
    "Y_prediction #Print Y predicted values of test dataset"
   ]
  },
  {
   "cell_type": "code",
   "execution_count": 144,
   "metadata": {
    "collapsed": false
   },
   "outputs": [
    {
     "data": {
      "text/plain": [
       "(1389.7422916666662, 2681.7670396685194)"
      ]
     },
     "execution_count": 144,
     "metadata": {},
     "output_type": "execute_result"
    }
   ],
   "source": [
    "ft[target].mean(), ft[target].std() * 2"
   ]
  },
  {
   "cell_type": "markdown",
   "metadata": {},
   "source": [
    "### take out 10% for validation. minimize over train-test, finally validate over the 10%"
   ]
  },
  {
   "cell_type": "code",
   "execution_count": 149,
   "metadata": {
    "collapsed": false
   },
   "outputs": [
    {
     "data": {
      "text/plain": [
       "((86, 58), (10, 58), (96, 58))"
      ]
     },
     "execution_count": 149,
     "metadata": {},
     "output_type": "execute_result"
    }
   ],
   "source": [
    "from sklearn.cross_validation import train_test_split\n",
    "\n",
    "ft_subset, validationSet = train_test_split(ft_all, test_size = 0.1)\n",
    "ft = ft_subset.copy(deep=True)\n",
    "\n",
    "ft.shape, validationSet.shape, ft_all.shape"
   ]
  },
  {
   "cell_type": "code",
   "execution_count": 150,
   "metadata": {
    "collapsed": false
   },
   "outputs": [],
   "source": [
    "while(rmse > 1000):\n",
    "    np.random.seed()\n",
    "    ft['is_train']=np.random.uniform(0,1,len(ft)) <= .8\n",
    "    train, test = ft[ft['is_train']==True], ft[ft['is_train']==False]\n",
    "    del ft['is_train']\n",
    "    len(train)*1.0 / (len(test)+len(train))\n",
    "    features = ft.columns[0:2]\n",
    "    target = ft.columns[2]\n",
    "    X_train = train[features]\n",
    "    Y_train = train[target]\n",
    "    X_test = test[features]\n",
    "    Y_test = test[target].as_matrix()\n",
    "    model.fit(X_train, Y_train.values)\n",
    "    Y_prediction = model.predict(X_test)\n",
    "    rmse_testSet = np.sqrt(mean_squared_error(Y_test, Y_prediction))\n"
   ]
  },
  {
   "cell_type": "code",
   "execution_count": 151,
   "metadata": {
    "collapsed": false
   },
   "outputs": [
    {
     "data": {
      "text/plain": [
       "577.21092546484215"
      ]
     },
     "execution_count": 151,
     "metadata": {},
     "output_type": "execute_result"
    }
   ],
   "source": [
    "rmse_testSet"
   ]
  },
  {
   "cell_type": "code",
   "execution_count": 152,
   "metadata": {
    "collapsed": false
   },
   "outputs": [
    {
     "data": {
      "text/plain": [
       "array([ 3362.83,   203.98,  2858.61,   435.69,  2942.53,  1697.59,\n",
       "         861.08,  2116.14,  3356.98,    46.36,  2566.79,   855.2 ,\n",
       "        3396.63,   426.53,  2872.17,  1665.97,  3428.28,   164.02,\n",
       "        1301.71,   841.52,  1273.04,  2150.65,  1274.14,   120.67,\n",
       "        6329.84,   203.5 ,   204.44,  2499.76,   142.07,  2537.84,\n",
       "        6267.29,  1773.46,  2473.27,    21.58,    97.83,   427.76,\n",
       "        3373.84,  3391.35])"
      ]
     },
     "execution_count": 152,
     "metadata": {},
     "output_type": "execute_result"
    }
   ],
   "source": [
    "Y_test #Print Y values of test dataset"
   ]
  },
  {
   "cell_type": "code",
   "execution_count": 153,
   "metadata": {
    "collapsed": false
   },
   "outputs": [
    {
     "data": {
      "text/plain": [
       "array([ 3181.35843983,   183.61883333,  2992.75749956,   440.1532519 ,\n",
       "        2958.94299949,  1712.36939048,  1002.01039833,  2142.59211472,\n",
       "        3237.99846089,    45.29972667,  2501.77166783,   925.27203667,\n",
       "        3191.71467594,   436.3055119 ,  2992.75749956,  1676.52188944,\n",
       "        3191.71467594,   179.72670667,  1214.48484194,  1058.34413989,\n",
       "        1171.15230528,  2149.13736206,  1171.15230528,   122.95219333,\n",
       "        2942.72059671,   179.93324   ,   180.50694667,  2498.35199363,\n",
       "         140.57876667,  2501.77166783,  2942.72059671,  1417.652935  ,\n",
       "        2477.7685773 ,    24.83914667,    96.69653333,   450.43184207,\n",
       "        3223.76772083,  3181.35843983])"
      ]
     },
     "execution_count": 153,
     "metadata": {},
     "output_type": "execute_result"
    }
   ],
   "source": [
    "Y_prediction #Print Y predicted values of test dataset"
   ]
  },
  {
   "cell_type": "code",
   "execution_count": 154,
   "metadata": {
    "collapsed": true
   },
   "outputs": [],
   "source": [
    "import pickle as cPickle\n",
    "# save the regression model\n",
    "with open('dup_bowtie_rf.pkl', 'wb') as fid:\n",
    "    cPickle.dump(model, fid)"
   ]
  },
  {
   "cell_type": "code",
   "execution_count": 156,
   "metadata": {
    "collapsed": false
   },
   "outputs": [
    {
     "data": {
      "text/plain": [
       "94.572848704301691"
      ]
     },
     "execution_count": 156,
     "metadata": {},
     "output_type": "execute_result"
    }
   ],
   "source": [
    "#check accuracy on validation set\n",
    "X_validation = validationSet[features]\n",
    "Y_validation = validationSet[target].as_matrix()\n",
    "Y_prediction = model.predict(X_validation)\n",
    "rmse_validationSet = np.sqrt(mean_squared_error(Y_validation, Y_prediction))\n",
    "rmse_validationSet"
   ]
  },
  {
   "cell_type": "code",
   "execution_count": 157,
   "metadata": {
    "collapsed": false
   },
   "outputs": [
    {
     "data": {
      "text/plain": [
       "(1227.412, 2845.1174905292673)"
      ]
     },
     "execution_count": 157,
     "metadata": {},
     "output_type": "execute_result"
    }
   ],
   "source": [
    "validationSet[target].mean(), validationSet[target].std() * 2"
   ]
  },
  {
   "cell_type": "code",
   "execution_count": null,
   "metadata": {
    "collapsed": true
   },
   "outputs": [],
   "source": []
  }
 ],
 "metadata": {
  "anaconda-cloud": {},
  "kernelspec": {
   "display_name": "Python [Root]",
   "language": "python",
   "name": "Python [Root]"
  },
  "language_info": {
   "codemirror_mode": {
    "name": "ipython",
    "version": 3
   },
   "file_extension": ".py",
   "mimetype": "text/x-python",
   "name": "python",
   "nbconvert_exporter": "python",
   "pygments_lexer": "ipython3",
   "version": "3.5.1"
  }
 },
 "nbformat": 4,
 "nbformat_minor": 0
}
