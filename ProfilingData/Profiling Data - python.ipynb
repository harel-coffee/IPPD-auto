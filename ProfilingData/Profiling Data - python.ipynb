{
 "cells": [
  {
   "cell_type": "code",
   "execution_count": 1,
   "metadata": {
    "collapsed": true
   },
   "outputs": [],
   "source": [
    "import pandas as pd"
   ]
  },
  {
   "cell_type": "code",
   "execution_count": 2,
   "metadata": {
    "collapsed": false
   },
   "outputs": [
    {
     "name": "stderr",
     "output_type": "stream",
     "text": [
      "/home/comet/anaconda3/lib/python3.5/site-packages/ipykernel/__main__.py:1: ParserWarning: Falling back to the 'python' engine because the 'c' engine does not support regex separators (separators > 1 char and different from '\\s+' are interpreted as regex); you can avoid this warning by specifying engine='python'.\n",
      "  if __name__ == '__main__':\n"
     ]
    }
   ],
   "source": [
    "df = pd.read_csv(\"testing.csv\", sep=', ') #or_bad_lines=False)"
   ]
  },
  {
   "cell_type": "code",
   "execution_count": 3,
   "metadata": {
    "collapsed": false
   },
   "outputs": [
    {
     "data": {
      "text/plain": [
       "334"
      ]
     },
     "execution_count": 3,
     "metadata": {},
     "output_type": "execute_result"
    }
   ],
   "source": [
    "len(df)"
   ]
  },
  {
   "cell_type": "code",
   "execution_count": 4,
   "metadata": {
    "collapsed": false
   },
   "outputs": [],
   "source": [
    "df = pd.read_csv(\"testing.csv\", sep=',', error_bad_lines=False)"
   ]
  },
  {
   "cell_type": "code",
   "execution_count": 5,
   "metadata": {
    "collapsed": false
   },
   "outputs": [
    {
     "data": {
      "text/plain": [
       "334"
      ]
     },
     "execution_count": 5,
     "metadata": {},
     "output_type": "execute_result"
    }
   ],
   "source": [
    "len(df)"
   ]
  },
  {
   "cell_type": "code",
   "execution_count": 8,
   "metadata": {
    "collapsed": false
   },
   "outputs": [
    {
     "data": {
      "text/html": [
       "<div>\n",
       "<table border=\"1\" class=\"dataframe\">\n",
       "  <thead>\n",
       "    <tr style=\"text-align: right;\">\n",
       "      <th></th>\n",
       "      <th>ppn</th>\n",
       "      <th>mem</th>\n",
       "      <th>seqlen</th>\n",
       "      <th>trial</th>\n",
       "      <th>AvgRSS</th>\n",
       "      <th>AvgSharedTxt</th>\n",
       "      <th>AvgStack</th>\n",
       "      <th>AvgTotal</th>\n",
       "      <th>AvgUnsharedData</th>\n",
       "      <th>CommandTimed</th>\n",
       "      <th>...</th>\n",
       "      <th>PageSize</th>\n",
       "      <th>PercentCPU</th>\n",
       "      <th>SignalsDeliv</th>\n",
       "      <th>SocketMsgRecv</th>\n",
       "      <th>SocketMsgSent</th>\n",
       "      <th>Swaps</th>\n",
       "      <th>SystemTime</th>\n",
       "      <th>UserTime</th>\n",
       "      <th>VolCtxtSwitch</th>\n",
       "      <th>WallTime</th>\n",
       "    </tr>\n",
       "  </thead>\n",
       "  <tbody>\n",
       "    <tr>\n",
       "      <th>0</th>\n",
       "      <td>12</td>\n",
       "      <td>10G</td>\n",
       "      <td>10M</td>\n",
       "      <td>1</td>\n",
       "      <td>0</td>\n",
       "      <td>0</td>\n",
       "      <td>0</td>\n",
       "      <td>0</td>\n",
       "      <td>0</td>\n",
       "      <td>./NGS-ann-program/bin/cd-hit-dup -i ./data/no-...</td>\n",
       "      <td>...</td>\n",
       "      <td>4096</td>\n",
       "      <td>99%</td>\n",
       "      <td>0</td>\n",
       "      <td>0</td>\n",
       "      <td>0</td>\n",
       "      <td>0</td>\n",
       "      <td>3.61</td>\n",
       "      <td>42.58</td>\n",
       "      <td>1073</td>\n",
       "      <td>0:46.39</td>\n",
       "    </tr>\n",
       "    <tr>\n",
       "      <th>1</th>\n",
       "      <td>12</td>\n",
       "      <td>10G</td>\n",
       "      <td>15M</td>\n",
       "      <td>1</td>\n",
       "      <td>0</td>\n",
       "      <td>0</td>\n",
       "      <td>0</td>\n",
       "      <td>0</td>\n",
       "      <td>0</td>\n",
       "      <td>./NGS-ann-program/bin/cd-hit-dup -i ./data/no-...</td>\n",
       "      <td>...</td>\n",
       "      <td>4096</td>\n",
       "      <td>99%</td>\n",
       "      <td>0</td>\n",
       "      <td>0</td>\n",
       "      <td>0</td>\n",
       "      <td>0</td>\n",
       "      <td>7.03</td>\n",
       "      <td>63.30</td>\n",
       "      <td>1636</td>\n",
       "      <td>1:10.59</td>\n",
       "    </tr>\n",
       "    <tr>\n",
       "      <th>2</th>\n",
       "      <td>12</td>\n",
       "      <td>10G</td>\n",
       "      <td>20M</td>\n",
       "      <td>1</td>\n",
       "      <td>0</td>\n",
       "      <td>0</td>\n",
       "      <td>0</td>\n",
       "      <td>0</td>\n",
       "      <td>0</td>\n",
       "      <td>./NGS-ann-program/bin/cd-hit-dup -i ./data/no-...</td>\n",
       "      <td>...</td>\n",
       "      <td>4096</td>\n",
       "      <td>99%</td>\n",
       "      <td>0</td>\n",
       "      <td>0</td>\n",
       "      <td>0</td>\n",
       "      <td>0</td>\n",
       "      <td>9.55</td>\n",
       "      <td>37.56</td>\n",
       "      <td>8</td>\n",
       "      <td>0:47.22</td>\n",
       "    </tr>\n",
       "  </tbody>\n",
       "</table>\n",
       "<p>3 rows × 27 columns</p>\n",
       "</div>"
      ],
      "text/plain": [
       "   ppn  mem seqlen  trial  AvgRSS  AvgSharedTxt  AvgStack  AvgTotal  \\\n",
       "0   12  10G    10M      1       0             0         0         0   \n",
       "1   12  10G    15M      1       0             0         0         0   \n",
       "2   12  10G    20M      1       0             0         0         0   \n",
       "\n",
       "   AvgUnsharedData                                       CommandTimed  \\\n",
       "0                0  ./NGS-ann-program/bin/cd-hit-dup -i ./data/no-...   \n",
       "1                0  ./NGS-ann-program/bin/cd-hit-dup -i ./data/no-...   \n",
       "2                0  ./NGS-ann-program/bin/cd-hit-dup -i ./data/no-...   \n",
       "\n",
       "     ...     PageSize  PercentCPU  SignalsDeliv  SocketMsgRecv  SocketMsgSent  \\\n",
       "0    ...         4096         99%             0              0              0   \n",
       "1    ...         4096         99%             0              0              0   \n",
       "2    ...         4096         99%             0              0              0   \n",
       "\n",
       "   Swaps  SystemTime  UserTime VolCtxtSwitch  WallTime  \n",
       "0      0        3.61     42.58          1073   0:46.39  \n",
       "1      0        7.03     63.30          1636   1:10.59  \n",
       "2      0        9.55     37.56             8   0:47.22  \n",
       "\n",
       "[3 rows x 27 columns]"
      ]
     },
     "execution_count": 8,
     "metadata": {},
     "output_type": "execute_result"
    }
   ],
   "source": [
    "df.head(3)"
   ]
  },
  {
   "cell_type": "code",
   "execution_count": null,
   "metadata": {
    "collapsed": true
   },
   "outputs": [],
   "source": []
  }
 ],
 "metadata": {
  "anaconda-cloud": {},
  "kernelspec": {
   "display_name": "Python [Root]",
   "language": "python",
   "name": "Python [Root]"
  },
  "language_info": {
   "codemirror_mode": {
    "name": "ipython",
    "version": 3
   },
   "file_extension": ".py",
   "mimetype": "text/x-python",
   "name": "python",
   "nbconvert_exporter": "python",
   "pygments_lexer": "ipython3",
   "version": "3.5.1"
  }
 },
 "nbformat": 4,
 "nbformat_minor": 0
}
