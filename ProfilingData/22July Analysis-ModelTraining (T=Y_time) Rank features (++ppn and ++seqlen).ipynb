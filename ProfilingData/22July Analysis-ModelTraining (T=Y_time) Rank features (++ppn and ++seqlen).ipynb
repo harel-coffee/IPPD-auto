{
 "cells": [
  {
   "cell_type": "markdown",
   "metadata": {},
   "source": [
    "# DUP"
   ]
  },
  {
   "cell_type": "code",
   "execution_count": 69,
   "metadata": {
    "collapsed": true
   },
   "outputs": [],
   "source": [
    "# FIND WHICH FEATURES ARE MOST IMPORTANT FOR PREDICTING user+system TIME (rank them in order)\n",
    "\n",
    "# (2) then add ppn & dataset size - rank them again\n",
    "\n",
    "import pandas as pd"
   ]
  },
  {
   "cell_type": "code",
   "execution_count": 70,
   "metadata": {
    "collapsed": false
   },
   "outputs": [],
   "source": [
    "df = pd.read_csv(\"testing.csv\", sep=\",\") #data from 22July2016 \n",
    "# copy the 'dup' folder to ~/ProfilingData/.\n",
    "# remove *Output* files \n",
    "# run \"python extract.py dup/\" to generate testing.csv"
   ]
  },
  {
   "cell_type": "code",
   "execution_count": 71,
   "metadata": {
    "collapsed": false
   },
   "outputs": [
    {
     "data": {
      "text/plain": [
       "32"
      ]
     },
     "execution_count": 71,
     "metadata": {},
     "output_type": "execute_result"
    }
   ],
   "source": [
    "len(df)"
   ]
  },
  {
   "cell_type": "code",
   "execution_count": 72,
   "metadata": {
    "collapsed": false
   },
   "outputs": [
    {
     "data": {
      "text/html": [
       "<div>\n",
       "<table border=\"1\" class=\"dataframe\">\n",
       "  <thead>\n",
       "    <tr style=\"text-align: right;\">\n",
       "      <th></th>\n",
       "      <th>ppn</th>\n",
       "      <th>mem</th>\n",
       "      <th>seqlen</th>\n",
       "      <th>trial</th>\n",
       "      <th>AvgRSS</th>\n",
       "      <th>AvgSharedTxt</th>\n",
       "      <th>AvgStack</th>\n",
       "      <th>AvgTotal</th>\n",
       "      <th>AvgUnsharedData</th>\n",
       "      <th>CommandTimed</th>\n",
       "      <th>...</th>\n",
       "      <th>PageSize</th>\n",
       "      <th>PercentCPU</th>\n",
       "      <th>SignalsDeliv</th>\n",
       "      <th>SocketMsgRecv</th>\n",
       "      <th>SocketMsgSent</th>\n",
       "      <th>Swaps</th>\n",
       "      <th>SystemTime</th>\n",
       "      <th>UserTime</th>\n",
       "      <th>VolCtxtSwitch</th>\n",
       "      <th>WallTime</th>\n",
       "    </tr>\n",
       "  </thead>\n",
       "  <tbody>\n",
       "    <tr>\n",
       "      <th>0</th>\n",
       "      <td>11</td>\n",
       "      <td>64G</td>\n",
       "      <td>10M</td>\n",
       "      <td>1</td>\n",
       "      <td>0</td>\n",
       "      <td>0</td>\n",
       "      <td>0</td>\n",
       "      <td>0</td>\n",
       "      <td>0</td>\n",
       "      <td>./NGS-ann-program/BIN/cd-hit-dup -i ./data/no-...</td>\n",
       "      <td>...</td>\n",
       "      <td>4096</td>\n",
       "      <td>99%</td>\n",
       "      <td>0</td>\n",
       "      <td>0</td>\n",
       "      <td>0</td>\n",
       "      <td>0</td>\n",
       "      <td>3.5</td>\n",
       "      <td>42.32</td>\n",
       "      <td>1072</td>\n",
       "      <td>0:45.97</td>\n",
       "    </tr>\n",
       "  </tbody>\n",
       "</table>\n",
       "<p>1 rows × 27 columns</p>\n",
       "</div>"
      ],
      "text/plain": [
       "   ppn  mem seqlen  trial  AvgRSS  AvgSharedTxt  AvgStack  AvgTotal  \\\n",
       "0   11  64G    10M      1       0             0         0         0   \n",
       "\n",
       "   AvgUnsharedData                                       CommandTimed  \\\n",
       "0                0  ./NGS-ann-program/BIN/cd-hit-dup -i ./data/no-...   \n",
       "\n",
       "     ...     PageSize  PercentCPU  SignalsDeliv  SocketMsgRecv  SocketMsgSent  \\\n",
       "0    ...         4096         99%             0              0              0   \n",
       "\n",
       "   Swaps  SystemTime  UserTime VolCtxtSwitch  WallTime  \n",
       "0      0         3.5     42.32          1072   0:45.97  \n",
       "\n",
       "[1 rows x 27 columns]"
      ]
     },
     "execution_count": 72,
     "metadata": {},
     "output_type": "execute_result"
    }
   ],
   "source": [
    "df.head(n=1)"
   ]
  },
  {
   "cell_type": "code",
   "execution_count": 73,
   "metadata": {
    "collapsed": false
   },
   "outputs": [
    {
     "name": "stdout",
     "output_type": "stream",
     "text": [
      "0 0 0 0 0\n"
     ]
    }
   ],
   "source": [
    "#find which columns are completely empty\n",
    "a=len(df[df['AvgRSS'] > 0])\n",
    "b=len(df[df['AvgSharedTxt'] > 0])\n",
    "c=len(df[df['AvgStack'] > 0])\n",
    "d=len(df[df['AvgTotal'] > 0])\n",
    "e=len(df[df['AvgUnsharedData'] > 0])\n",
    "\n",
    "print(a,b,c,d,e)"
   ]
  },
  {
   "cell_type": "code",
   "execution_count": 74,
   "metadata": {
    "collapsed": false
   },
   "outputs": [],
   "source": [
    "header = list(df.columns)"
   ]
  },
  {
   "cell_type": "code",
   "execution_count": 75,
   "metadata": {
    "collapsed": false
   },
   "outputs": [
    {
     "name": "stdout",
     "output_type": "stream",
     "text": [
      "32 ppn\n",
      "......................mem not a scalar\n",
      "......................seqlen not a scalar\n",
      "32 trial\n",
      "0 AvgRSS\n",
      "0 AvgSharedTxt\n",
      "0 AvgStack\n",
      "0 AvgTotal\n",
      "0 AvgUnsharedData\n",
      "......................CommandTimed not a scalar\n",
      "0 ExitStatus\n",
      "32 FileSysIn\n",
      "32 FileSysOut\n",
      "32 InvolCtxtSwitch\n",
      "32 MajorFaults\n",
      "32 MaxRSS\n",
      "32 MinorFaults\n",
      "32 PageSize\n",
      "......................PercentCPU not a scalar\n",
      "0 SignalsDeliv\n",
      "0 SocketMsgRecv\n",
      "0 SocketMsgSent\n",
      "0 Swaps\n",
      "32 SystemTime\n",
      "32 UserTime\n",
      "32 VolCtxtSwitch\n",
      "......................WallTime not a scalar\n"
     ]
    }
   ],
   "source": [
    "i = 1\n",
    "a = 0\n",
    "emptyColumns = []\n",
    "for h in header:\n",
    "    try:\n",
    "        a=len(df[df[h] > 0])\n",
    "        print(a,  h)\n",
    "        if(a==0): #nothing is greater than zero for this column\n",
    "            emptyColumns.append(h)\n",
    "    except:\n",
    "        print('......................'+ h +' not a scalar')\n",
    "    i=i+1"
   ]
  },
  {
   "cell_type": "code",
   "execution_count": 76,
   "metadata": {
    "collapsed": false
   },
   "outputs": [],
   "source": [
    "emptyColumns.append('trial')\n",
    "#emptyColumns.append('PageSize')\n",
    "emptyColumns.append('CommandTimed')\n",
    "emptyColumns.append('WallTime')"
   ]
  },
  {
   "cell_type": "code",
   "execution_count": 77,
   "metadata": {
    "collapsed": false
   },
   "outputs": [],
   "source": [
    "for c in emptyColumns:\n",
    "    del df[c]"
   ]
  },
  {
   "cell_type": "code",
   "execution_count": 78,
   "metadata": {
    "collapsed": false
   },
   "outputs": [
    {
     "data": {
      "text/html": [
       "<div>\n",
       "<table border=\"1\" class=\"dataframe\">\n",
       "  <thead>\n",
       "    <tr style=\"text-align: right;\">\n",
       "      <th></th>\n",
       "      <th>ppn</th>\n",
       "      <th>mem</th>\n",
       "      <th>seqlen</th>\n",
       "      <th>FileSysIn</th>\n",
       "      <th>FileSysOut</th>\n",
       "      <th>InvolCtxtSwitch</th>\n",
       "      <th>MajorFaults</th>\n",
       "      <th>MaxRSS</th>\n",
       "      <th>MinorFaults</th>\n",
       "      <th>PageSize</th>\n",
       "      <th>PercentCPU</th>\n",
       "      <th>SystemTime</th>\n",
       "      <th>UserTime</th>\n",
       "      <th>VolCtxtSwitch</th>\n",
       "    </tr>\n",
       "  </thead>\n",
       "  <tbody>\n",
       "    <tr>\n",
       "      <th>0</th>\n",
       "      <td>11</td>\n",
       "      <td>64G</td>\n",
       "      <td>10M</td>\n",
       "      <td>3234924</td>\n",
       "      <td>2179426</td>\n",
       "      <td>212</td>\n",
       "      <td>3</td>\n",
       "      <td>6544812</td>\n",
       "      <td>1388550</td>\n",
       "      <td>4096</td>\n",
       "      <td>99%</td>\n",
       "      <td>3.50</td>\n",
       "      <td>42.32</td>\n",
       "      <td>1072</td>\n",
       "    </tr>\n",
       "    <tr>\n",
       "      <th>1</th>\n",
       "      <td>11</td>\n",
       "      <td>64G</td>\n",
       "      <td>15M</td>\n",
       "      <td>4915882</td>\n",
       "      <td>3320366</td>\n",
       "      <td>608</td>\n",
       "      <td>3</td>\n",
       "      <td>9621592</td>\n",
       "      <td>2150793</td>\n",
       "      <td>4096</td>\n",
       "      <td>99%</td>\n",
       "      <td>5.43</td>\n",
       "      <td>62.54</td>\n",
       "      <td>1634</td>\n",
       "    </tr>\n",
       "    <tr>\n",
       "      <th>2</th>\n",
       "      <td>11</td>\n",
       "      <td>64G</td>\n",
       "      <td>20M</td>\n",
       "      <td>6599917</td>\n",
       "      <td>4467723</td>\n",
       "      <td>366</td>\n",
       "      <td>3</td>\n",
       "      <td>13416152</td>\n",
       "      <td>2892383</td>\n",
       "      <td>4096</td>\n",
       "      <td>99%</td>\n",
       "      <td>7.44</td>\n",
       "      <td>91.03</td>\n",
       "      <td>2228</td>\n",
       "    </tr>\n",
       "    <tr>\n",
       "      <th>3</th>\n",
       "      <td>11</td>\n",
       "      <td>64G</td>\n",
       "      <td>25M</td>\n",
       "      <td>8250892</td>\n",
       "      <td>5591773</td>\n",
       "      <td>4795</td>\n",
       "      <td>3</td>\n",
       "      <td>16387764</td>\n",
       "      <td>3612806</td>\n",
       "      <td>4096</td>\n",
       "      <td>99%</td>\n",
       "      <td>9.36</td>\n",
       "      <td>111.08</td>\n",
       "      <td>2746</td>\n",
       "    </tr>\n",
       "    <tr>\n",
       "      <th>4</th>\n",
       "      <td>11</td>\n",
       "      <td>64G</td>\n",
       "      <td>30M</td>\n",
       "      <td>9788169</td>\n",
       "      <td>6637009</td>\n",
       "      <td>164</td>\n",
       "      <td>3</td>\n",
       "      <td>19447720</td>\n",
       "      <td>4284645</td>\n",
       "      <td>4096</td>\n",
       "      <td>99%</td>\n",
       "      <td>11.16</td>\n",
       "      <td>130.50</td>\n",
       "      <td>3264</td>\n",
       "    </tr>\n",
       "  </tbody>\n",
       "</table>\n",
       "</div>"
      ],
      "text/plain": [
       "   ppn  mem seqlen  FileSysIn  FileSysOut  InvolCtxtSwitch  MajorFaults  \\\n",
       "0   11  64G    10M    3234924     2179426              212            3   \n",
       "1   11  64G    15M    4915882     3320366              608            3   \n",
       "2   11  64G    20M    6599917     4467723              366            3   \n",
       "3   11  64G    25M    8250892     5591773             4795            3   \n",
       "4   11  64G    30M    9788169     6637009              164            3   \n",
       "\n",
       "     MaxRSS  MinorFaults  PageSize PercentCPU  SystemTime  UserTime  \\\n",
       "0   6544812      1388550      4096        99%        3.50     42.32   \n",
       "1   9621592      2150793      4096        99%        5.43     62.54   \n",
       "2  13416152      2892383      4096        99%        7.44     91.03   \n",
       "3  16387764      3612806      4096        99%        9.36    111.08   \n",
       "4  19447720      4284645      4096        99%       11.16    130.50   \n",
       "\n",
       "   VolCtxtSwitch  \n",
       "0           1072  \n",
       "1           1634  \n",
       "2           2228  \n",
       "3           2746  \n",
       "4           3264  "
      ]
     },
     "execution_count": 78,
     "metadata": {},
     "output_type": "execute_result"
    }
   ],
   "source": [
    "df.head(5)"
   ]
  },
  {
   "cell_type": "code",
   "execution_count": 79,
   "metadata": {
    "collapsed": false
   },
   "outputs": [],
   "source": [
    "ft = df.copy(deep=True)"
   ]
  },
  {
   "cell_type": "code",
   "execution_count": 80,
   "metadata": {
    "collapsed": true
   },
   "outputs": [],
   "source": [
    "whatisthesize = {'5M': .54, '10M': 1.2,'15M': 1.7,'20M': 2.3,'25M': 2.9,'30M': 3.4,'35M': 4.0,'40M': 4.5}"
   ]
  },
  {
   "cell_type": "code",
   "execution_count": 81,
   "metadata": {
    "collapsed": true
   },
   "outputs": [],
   "source": [
    "ft['sizeGB'] = ft['seqlen'].map(whatisthesize)"
   ]
  },
  {
   "cell_type": "code",
   "execution_count": 82,
   "metadata": {
    "collapsed": false
   },
   "outputs": [
    {
     "data": {
      "text/html": [
       "<div>\n",
       "<table border=\"1\" class=\"dataframe\">\n",
       "  <thead>\n",
       "    <tr style=\"text-align: right;\">\n",
       "      <th></th>\n",
       "      <th>ppn</th>\n",
       "      <th>mem</th>\n",
       "      <th>FileSysIn</th>\n",
       "      <th>FileSysOut</th>\n",
       "      <th>InvolCtxtSwitch</th>\n",
       "      <th>MajorFaults</th>\n",
       "      <th>MaxRSS</th>\n",
       "      <th>MinorFaults</th>\n",
       "      <th>PageSize</th>\n",
       "      <th>PercentCPU</th>\n",
       "      <th>SystemTime</th>\n",
       "      <th>UserTime</th>\n",
       "      <th>VolCtxtSwitch</th>\n",
       "      <th>sizeGB</th>\n",
       "    </tr>\n",
       "  </thead>\n",
       "  <tbody>\n",
       "    <tr>\n",
       "      <th>0</th>\n",
       "      <td>11</td>\n",
       "      <td>64G</td>\n",
       "      <td>3234924</td>\n",
       "      <td>2179426</td>\n",
       "      <td>212</td>\n",
       "      <td>3</td>\n",
       "      <td>6544812</td>\n",
       "      <td>1388550</td>\n",
       "      <td>4096</td>\n",
       "      <td>99%</td>\n",
       "      <td>3.50</td>\n",
       "      <td>42.32</td>\n",
       "      <td>1072</td>\n",
       "      <td>1.2</td>\n",
       "    </tr>\n",
       "    <tr>\n",
       "      <th>1</th>\n",
       "      <td>11</td>\n",
       "      <td>64G</td>\n",
       "      <td>4915882</td>\n",
       "      <td>3320366</td>\n",
       "      <td>608</td>\n",
       "      <td>3</td>\n",
       "      <td>9621592</td>\n",
       "      <td>2150793</td>\n",
       "      <td>4096</td>\n",
       "      <td>99%</td>\n",
       "      <td>5.43</td>\n",
       "      <td>62.54</td>\n",
       "      <td>1634</td>\n",
       "      <td>1.7</td>\n",
       "    </tr>\n",
       "  </tbody>\n",
       "</table>\n",
       "</div>"
      ],
      "text/plain": [
       "   ppn  mem  FileSysIn  FileSysOut  InvolCtxtSwitch  MajorFaults   MaxRSS  \\\n",
       "0   11  64G    3234924     2179426              212            3  6544812   \n",
       "1   11  64G    4915882     3320366              608            3  9621592   \n",
       "\n",
       "   MinorFaults  PageSize PercentCPU  SystemTime  UserTime  VolCtxtSwitch  \\\n",
       "0      1388550      4096        99%        3.50     42.32           1072   \n",
       "1      2150793      4096        99%        5.43     62.54           1634   \n",
       "\n",
       "   sizeGB  \n",
       "0     1.2  \n",
       "1     1.7  "
      ]
     },
     "execution_count": 82,
     "metadata": {},
     "output_type": "execute_result"
    }
   ],
   "source": [
    "del ft['seqlen']\n",
    "ft.head(2)"
   ]
  },
  {
   "cell_type": "code",
   "execution_count": 83,
   "metadata": {
    "collapsed": false
   },
   "outputs": [],
   "source": [
    "#convert % to float\n",
    "ft['Percentcpu']=ft['PercentCPU'].str.replace('[%*]', '').astype(float)/100\n",
    "ft['memGB']=ft['mem'].str.replace('[G*]', '').astype(float)\n",
    "ft['Y_Time']=ft['SystemTime']+ft['UserTime']\n",
    "del ft['SystemTime']\n",
    "del ft['UserTime']\n",
    "del ft['mem']\n",
    "del ft['PercentCPU']"
   ]
  },
  {
   "cell_type": "code",
   "execution_count": 84,
   "metadata": {
    "collapsed": false
   },
   "outputs": [
    {
     "data": {
      "text/html": [
       "<div>\n",
       "<table border=\"1\" class=\"dataframe\">\n",
       "  <thead>\n",
       "    <tr style=\"text-align: right;\">\n",
       "      <th></th>\n",
       "      <th>ppn</th>\n",
       "      <th>FileSysIn</th>\n",
       "      <th>FileSysOut</th>\n",
       "      <th>InvolCtxtSwitch</th>\n",
       "      <th>MajorFaults</th>\n",
       "      <th>MaxRSS</th>\n",
       "      <th>MinorFaults</th>\n",
       "      <th>PageSize</th>\n",
       "      <th>VolCtxtSwitch</th>\n",
       "      <th>sizeGB</th>\n",
       "      <th>Percentcpu</th>\n",
       "      <th>memGB</th>\n",
       "      <th>Y_Time</th>\n",
       "    </tr>\n",
       "  </thead>\n",
       "  <tbody>\n",
       "    <tr>\n",
       "      <th>0</th>\n",
       "      <td>11</td>\n",
       "      <td>3234924</td>\n",
       "      <td>2179426</td>\n",
       "      <td>212</td>\n",
       "      <td>3</td>\n",
       "      <td>6544812</td>\n",
       "      <td>1388550</td>\n",
       "      <td>4096</td>\n",
       "      <td>1072</td>\n",
       "      <td>1.2</td>\n",
       "      <td>0.99</td>\n",
       "      <td>64.0</td>\n",
       "      <td>45.82</td>\n",
       "    </tr>\n",
       "    <tr>\n",
       "      <th>1</th>\n",
       "      <td>11</td>\n",
       "      <td>4915882</td>\n",
       "      <td>3320366</td>\n",
       "      <td>608</td>\n",
       "      <td>3</td>\n",
       "      <td>9621592</td>\n",
       "      <td>2150793</td>\n",
       "      <td>4096</td>\n",
       "      <td>1634</td>\n",
       "      <td>1.7</td>\n",
       "      <td>0.99</td>\n",
       "      <td>64.0</td>\n",
       "      <td>67.97</td>\n",
       "    </tr>\n",
       "  </tbody>\n",
       "</table>\n",
       "</div>"
      ],
      "text/plain": [
       "   ppn  FileSysIn  FileSysOut  InvolCtxtSwitch  MajorFaults   MaxRSS  \\\n",
       "0   11    3234924     2179426              212            3  6544812   \n",
       "1   11    4915882     3320366              608            3  9621592   \n",
       "\n",
       "   MinorFaults  PageSize  VolCtxtSwitch  sizeGB  Percentcpu  memGB  Y_Time  \n",
       "0      1388550      4096           1072     1.2        0.99   64.0   45.82  \n",
       "1      2150793      4096           1634     1.7        0.99   64.0   67.97  "
      ]
     },
     "execution_count": 84,
     "metadata": {},
     "output_type": "execute_result"
    }
   ],
   "source": [
    "ft.head(n=2)"
   ]
  },
  {
   "cell_type": "code",
   "execution_count": 85,
   "metadata": {
    "collapsed": true
   },
   "outputs": [],
   "source": [
    "from sklearn.ensemble.forest import RandomForestRegressor\n",
    "import numpy as np"
   ]
  },
  {
   "cell_type": "code",
   "execution_count": 86,
   "metadata": {
    "collapsed": false
   },
   "outputs": [],
   "source": [
    "model = RandomForestRegressor(n_estimators=100, n_jobs=-1)"
   ]
  },
  {
   "cell_type": "code",
   "execution_count": 87,
   "metadata": {
    "collapsed": false
   },
   "outputs": [
    {
     "data": {
      "text/plain": [
       "0.6875"
      ]
     },
     "execution_count": 87,
     "metadata": {},
     "output_type": "execute_result"
    }
   ],
   "source": [
    "np.random.seed()\n",
    "ft['is_train']=np.random.uniform(0,1,len(ft)) <= .70\n",
    "train, test = ft[ft['is_train']==True], ft[ft['is_train']==False]\n",
    "del ft['is_train']\n",
    "len(train)*1.0 / (len(test)+len(train))"
   ]
  },
  {
   "cell_type": "code",
   "execution_count": 88,
   "metadata": {
    "collapsed": false
   },
   "outputs": [
    {
     "data": {
      "text/plain": [
       "Index(['ppn', 'FileSysIn', 'FileSysOut', 'InvolCtxtSwitch', 'MajorFaults',\n",
       "       'MaxRSS', 'MinorFaults', 'PageSize', 'VolCtxtSwitch', 'sizeGB',\n",
       "       'Percentcpu', 'memGB'],\n",
       "      dtype='object')"
      ]
     },
     "execution_count": 88,
     "metadata": {},
     "output_type": "execute_result"
    }
   ],
   "source": [
    "ft.columns[0:12]"
   ]
  },
  {
   "cell_type": "code",
   "execution_count": 89,
   "metadata": {
    "collapsed": false
   },
   "outputs": [
    {
     "data": {
      "text/plain": [
       "'Y_Time'"
      ]
     },
     "execution_count": 89,
     "metadata": {},
     "output_type": "execute_result"
    }
   ],
   "source": [
    "ft.columns[12]"
   ]
  },
  {
   "cell_type": "code",
   "execution_count": 90,
   "metadata": {
    "collapsed": false
   },
   "outputs": [
    {
     "data": {
      "text/plain": [
       "RandomForestRegressor(bootstrap=True, criterion='mse', max_depth=None,\n",
       "           max_features='auto', max_leaf_nodes=None, min_samples_leaf=1,\n",
       "           min_samples_split=2, min_weight_fraction_leaf=0.0,\n",
       "           n_estimators=100, n_jobs=-1, oob_score=False, random_state=None,\n",
       "           verbose=0, warm_start=False)"
      ]
     },
     "execution_count": 90,
     "metadata": {},
     "output_type": "execute_result"
    }
   ],
   "source": [
    "features = ft.columns[0:12]\n",
    "target = ft.columns[12]\n",
    "X = train[features]\n",
    "y = train[target].values\n",
    "model.fit(X, y)"
   ]
  },
  {
   "cell_type": "code",
   "execution_count": 91,
   "metadata": {
    "collapsed": true
   },
   "outputs": [],
   "source": [
    "Y_prediction = model.predict(test[features])\n",
    "Y_test = test[target].as_matrix()"
   ]
  },
  {
   "cell_type": "markdown",
   "metadata": {},
   "source": [
    "#### Test vs Prediction"
   ]
  },
  {
   "cell_type": "code",
   "execution_count": 92,
   "metadata": {
    "collapsed": false
   },
   "outputs": [
    {
     "data": {
      "text/plain": [
       "array([  45.82,   98.47,  164.02,   46.36,  166.8 ,  204.44,  164.88,\n",
       "        203.5 ,   45.94,   67.96])"
      ]
     },
     "execution_count": 92,
     "metadata": {},
     "output_type": "execute_result"
    }
   ],
   "source": [
    "Y_test #Print Y values of test dataset"
   ]
  },
  {
   "cell_type": "code",
   "execution_count": 93,
   "metadata": {
    "collapsed": false
   },
   "outputs": [
    {
     "data": {
      "text/plain": [
       "array([  42.5701,   98.6841,  171.22  ,   46.1446,  168.421 ,  194.3066,\n",
       "        168.8166,  194.3587,   45.3939,   68.5417])"
      ]
     },
     "execution_count": 93,
     "metadata": {},
     "output_type": "execute_result"
    }
   ],
   "source": [
    "Y_prediction #Print Y predicted values of test dataset"
   ]
  },
  {
   "cell_type": "markdown",
   "metadata": {},
   "source": [
    "## Scoring with ppn and  seqlen"
   ]
  },
  {
   "cell_type": "code",
   "execution_count": 94,
   "metadata": {
    "collapsed": false
   },
   "outputs": [
    {
     "data": {
      "text/plain": [
       "0.99328215847052614"
      ]
     },
     "execution_count": 94,
     "metadata": {},
     "output_type": "execute_result"
    }
   ],
   "source": [
    "model.score(test[features], test[target]) #which score is this ?"
   ]
  },
  {
   "cell_type": "code",
   "execution_count": 95,
   "metadata": {
    "collapsed": false
   },
   "outputs": [],
   "source": [
    "from sklearn import cross_validation\n",
    "scores = cross_validation.cross_val_score(model, ft[features], ft[target], cv=10,scoring='mean_squared_error')"
   ]
  },
  {
   "cell_type": "code",
   "execution_count": 96,
   "metadata": {
    "collapsed": false
   },
   "outputs": [
    {
     "data": {
      "text/plain": [
       "array([ -6.79445294, -21.03161801,  -0.47608563,  -3.55351322,\n",
       "        -2.16814097,  -1.02342248,  -2.80087306,  -3.87245434,\n",
       "        -7.94543644, -28.9458331 ])"
      ]
     },
     "execution_count": 96,
     "metadata": {},
     "output_type": "execute_result"
    }
   ],
   "source": [
    "scores"
   ]
  },
  {
   "cell_type": "code",
   "execution_count": 97,
   "metadata": {
    "collapsed": false
   },
   "outputs": [
    {
     "name": "stdout",
     "output_type": "stream",
     "text": [
      "Accuracy: -7.86 (+/- 18.03)\n"
     ]
    }
   ],
   "source": [
    "print(\"Accuracy: %0.2f (+/- %0.2f)\" % (scores.mean(), scores.std() * 2))"
   ]
  },
  {
   "cell_type": "code",
   "execution_count": 98,
   "metadata": {
    "collapsed": false
   },
   "outputs": [
    {
     "data": {
      "text/plain": [
       "(108.51031250000001, 118.18468799728724)"
      ]
     },
     "execution_count": 98,
     "metadata": {},
     "output_type": "execute_result"
    }
   ],
   "source": [
    "ft[target].mean(), ft[target].std() * 2"
   ]
  },
  {
   "cell_type": "code",
   "execution_count": 99,
   "metadata": {
    "collapsed": false
   },
   "outputs": [
    {
     "name": "stdout",
     "output_type": "stream",
     "text": [
      "Accuracy: 0.99335068 (+/- 0.01)\n"
     ]
    }
   ],
   "source": [
    "scores = cross_validation.cross_val_score(model, ft[features], ft[target], cv=10,scoring='r2')\n",
    "print(\"Accuracy: %0.8f (+/- %0.2f)\" % (scores.mean(), scores.std() * 2))"
   ]
  },
  {
   "cell_type": "markdown",
   "metadata": {
    "collapsed": true
   },
   "source": [
    "## Ranking features without ppn and seqlen\n",
    "#### (Feature importances with forests of trees)"
   ]
  },
  {
   "cell_type": "code",
   "execution_count": 100,
   "metadata": {
    "collapsed": false
   },
   "outputs": [
    {
     "data": {
      "text/plain": [
       "array([ 0.00292876,  0.19045848,  0.15778544,  0.03873749,  0.        ,\n",
       "        0.19250161,  0.14768337,  0.        ,  0.1680331 ,  0.10187176,\n",
       "        0.        ,  0.        ])"
      ]
     },
     "execution_count": 100,
     "metadata": {},
     "output_type": "execute_result"
    }
   ],
   "source": [
    "importances = model.feature_importances_\n",
    "importances"
   ]
  },
  {
   "cell_type": "code",
   "execution_count": 101,
   "metadata": {
    "collapsed": false
   },
   "outputs": [
    {
     "name": "stdout",
     "output_type": "stream",
     "text": [
      "Feature ranking:\n",
      "1. feature 5 MaxRSS..................(0.192502)\n",
      "2. feature 1 FileSysIn..................(0.190458)\n",
      "3. feature 8 VolCtxtSwitch..................(0.168033)\n",
      "4. feature 2 FileSysOut..................(0.157785)\n",
      "5. feature 6 MinorFaults..................(0.147683)\n",
      "6. feature 9 sizeGB..................(0.101872)\n",
      "7. feature 3 InvolCtxtSwitch..................(0.038737)\n",
      "8. feature 0 ppn..................(0.002929)\n",
      "9. feature 11 memGB..................(0.000000)\n",
      "10. feature 10 Percentcpu..................(0.000000)\n",
      "11. feature 7 PageSize..................(0.000000)\n",
      "12. feature 4 MajorFaults..................(0.000000)\n"
     ]
    }
   ],
   "source": [
    "std = np.std([tree.feature_importances_ for tree in model.estimators_],axis=0)\n",
    "indices = np.argsort(importances)[::-1]\n",
    "\n",
    "# Print the feature ranking\n",
    "print(\"Feature ranking:\")\n",
    "\n",
    "for f in range(X.shape[1]):\n",
    "    print(\"%d. feature %d %s..................(%f)\" % \n",
    "          (f + 1, indices[f],X.columns.values[indices[f]], importances[indices[f]]))"
   ]
  },
  {
   "cell_type": "code",
   "execution_count": 102,
   "metadata": {
    "collapsed": false
   },
   "outputs": [
    {
     "data": {
      "image/png": "[encoded data removed]",
      "text/plain": [
       "<matplotlib.figure.Figure at 0x7fe59d37e240>"
      ]
     },
     "metadata": {},
     "output_type": "display_data"
    }
   ],
   "source": [
    "# Plot the feature importances of the forest\n",
    "%matplotlib inline\n",
    "import matplotlib.pyplot as plt\n",
    "plt.figure()\n",
    "plt.title(\"Feature importance\")\n",
    "plt.bar(range(X.shape[1]), importances[indices],\n",
    "       color=\"r\")\n",
    "plt.xticks(range(X.shape[1]), indices)\n",
    "plt.xlim([-1, X.shape[1]])\n",
    "plt.show()"
   ]
  },
  {
   "cell_type": "code",
   "execution_count": 103,
   "metadata": {
    "collapsed": false
   },
   "outputs": [
    {
     "data": {
      "text/plain": [
       "Index(['ppn', 'FileSysIn', 'FileSysOut', 'InvolCtxtSwitch', 'MajorFaults',\n",
       "       'MaxRSS', 'MinorFaults', 'PageSize', 'VolCtxtSwitch', 'sizeGB',\n",
       "       'Percentcpu', 'memGB'],\n",
       "      dtype='object')"
      ]
     },
     "execution_count": 103,
     "metadata": {},
     "output_type": "execute_result"
    }
   ],
   "source": [
    "ft.columns[0:12]"
   ]
  },
  {
   "cell_type": "code",
   "execution_count": 104,
   "metadata": {
    "collapsed": true
   },
   "outputs": [],
   "source": [
    "# [0 'ppn', 1 'FileSysIn', 2 'FileSysOut', 3 'InvolCtxtSwitch', 4 'MajorFaults',\n",
    "# 5 'MaxRSS', 6 'MinorFaults', 7 'PageSize', 8 'VolCtxtSwitch', 9'sizeGB', 10 'Percentcpu', 11 'memGB']"
   ]
  },
  {
   "cell_type": "markdown",
   "metadata": {
    "collapsed": true
   },
   "source": [
    "# Recursive feature elimination with cross-validation"
   ]
  },
  {
   "cell_type": "code",
   "execution_count": 112,
   "metadata": {
    "collapsed": false
   },
   "outputs": [
    {
     "name": "stdout",
     "output_type": "stream",
     "text": [
      "Automatically created module for IPython interactive environment\n",
      "Optimal number of features : 2\n"
     ]
    },
    {
     "data": {
      "image/png": "[encoded data removed]",
      "text/plain": [
       "<matplotlib.figure.Figure at 0x7fe59cb159e8>"
      ]
     },
     "metadata": {},
     "output_type": "display_data"
    }
   ],
   "source": [
    "print(__doc__)\n",
    "\n",
    "import matplotlib.pyplot as plt\n",
    "from sklearn.svm import SVC\n",
    "from sklearn.cross_validation import StratifiedKFold\n",
    "from sklearn.feature_selection import RFECV\n",
    "from sklearn.datasets import make_classification\n",
    "\n",
    "rfecv = RFECV(model, step=1, cv=10)\n",
    "rfecv.fit(X, y)\n",
    "\n",
    "print(\"Optimal number of features : %d\" % rfecv.n_features_)\n",
    "\n",
    "# Plot number of features VS. cross-validation scores\n",
    "plt.figure()\n",
    "plt.xlabel(\"Number of features selected\")\n",
    "plt.ylabel(\"Cross validation score\")\n",
    "plt.plot(range(1, len(rfecv.grid_scores_) + 1), rfecv.grid_scores_)\n",
    "plt.show()"
   ]
  },
  {
   "cell_type": "code",
   "execution_count": 113,
   "metadata": {
    "collapsed": false
   },
   "outputs": [],
   "source": [
    "# [0'ppn','FileSysIn','FileSysOut','InvolCtxtSwitch', 'MajorFaults',5'MaxRSS', \n",
    "# 6'MinorFaults', 'PageSize', 'VolCtxtSwitch','sizeGB','Percentcpu','memGB']"
   ]
  },
  {
   "cell_type": "code",
   "execution_count": 114,
   "metadata": {
    "collapsed": false
   },
   "outputs": [
    {
     "name": "stdout",
     "output_type": "stream",
     "text": [
      "1. feature 1 FileSysIn..................(Rank=1.000000)\n",
      "2. feature 2 FileSysOut..................(Rank=1.000000)\n",
      "3. feature 5 MaxRSS..................(Rank=2.000000)\n",
      "4. feature 8 VolCtxtSwitch..................(Rank=3.000000)\n",
      "5. feature 9 sizeGB..................(Rank=4.000000)\n",
      "6. feature 6 MinorFaults..................(Rank=5.000000)\n",
      "7. feature 3 InvolCtxtSwitch..................(Rank=6.000000)\n",
      "8. feature 0 ppn..................(Rank=7.000000)\n",
      "9. feature 11 memGB..................(Rank=8.000000)\n",
      "10. feature 10 Percentcpu..................(Rank=9.000000)\n",
      "11. feature 7 PageSize..................(Rank=10.000000)\n",
      "12. feature 4 MajorFaults..................(Rank=11.000000)\n"
     ]
    }
   ],
   "source": [
    "importance = rfecv.ranking_\n",
    "indice = np.argsort(importance)[::+1] #Returns the indices that would sort an array\n",
    "\n",
    "for f in range(X.shape[1]):\n",
    "    print(\"%d. feature %s %s..................(Rank=%f)\" % \n",
    "          (f+1, indice[f], X.columns.values[indice[f]], importance[indice[f]]))"
   ]
  },
  {
   "cell_type": "code",
   "execution_count": null,
   "metadata": {
    "collapsed": true
   },
   "outputs": [],
   "source": []
  }
 ],
 "metadata": {
  "anaconda-cloud": {},
  "kernelspec": {
   "display_name": "Python [Root]",
   "language": "python",
   "name": "Python [Root]"
  },
  "language_info": {
   "codemirror_mode": {
    "name": "ipython",
    "version": 3
   },
   "file_extension": ".py",
   "mimetype": "text/x-python",
   "name": "python",
   "nbconvert_exporter": "python",
   "pygments_lexer": "ipython3",
   "version": "3.5.1"
  }
 },
 "nbformat": 4,
 "nbformat_minor": 0
}
