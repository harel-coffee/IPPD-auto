{
 "cells": [
  {
   "cell_type": "code",
   "execution_count": 1,
   "metadata": {
    "collapsed": true
   },
   "outputs": [],
   "source": [
    "header='ft1 ft2 ft3 ft4 ft5 ft6 ft7 ft8 ft9 ft10 ft11 ft12 ft13 ft14 ft15 ft16 ft17 ft18 ft24 ft25 ft19 ft39 ft20 ft33 ft21 ft35 ft22 ft23 ft34 ft36 ft37 ft38 ft40 ft41 ft42 ft43 ft44 ft45 ft46 ft48 ft47 ft49 ft51 ft50 ft52 ft53 ft54 ft55 ft26 ft27 ft28 ft29 ft30 ft31 ft32'"
   ]
  },
  {
   "cell_type": "code",
   "execution_count": 3,
   "metadata": {
    "collapsed": true
   },
   "outputs": [],
   "source": [
    "import pandas as pd\n",
    "\n",
    "def value(item):\n",
    "    return item[item.find('=')+1:]"
   ]
  },
  {
   "cell_type": "code",
   "execution_count": 4,
   "metadata": {
    "collapsed": true
   },
   "outputs": [],
   "source": [
    "df_velvetH = pd.read_table('velvetH_singlecmd_features.txt', header=None, delimiter=',',\n",
    "                   converters={i:value for i in range(55)},\n",
    "                   names=header.split())\n",
    "\n",
    "df_velvetH = df_velvetH.astype(float)"
   ]
  },
  {
   "cell_type": "code",
   "execution_count": 5,
   "metadata": {
    "collapsed": true
   },
   "outputs": [],
   "source": [
    "df_velvetG = pd.read_table('velvetG_singlecmd_features.txt', header=None, delimiter=',',\n",
    "                   converters={i:value for i in range(55)},\n",
    "                   names=header.split())\n",
    "\n",
    "df_velvetG = df_velvetG.astype(float)"
   ]
  },
  {
   "cell_type": "code",
   "execution_count": 6,
   "metadata": {
    "collapsed": true
   },
   "outputs": [],
   "source": [
    "df_cdhitdup = pd.read_table('cdhitdup_singlecmd_features.txt', header=None, delimiter=',',\n",
    "                   converters={i:value for i in range(55)},\n",
    "                   names=header.split())\n",
    "\n",
    "df_cdhitdup = df_cdhitdup.astype(float)"
   ]
  },
  {
   "cell_type": "code",
   "execution_count": 7,
   "metadata": {
    "collapsed": true
   },
   "outputs": [],
   "source": [
    "df_frhit = pd.read_table('frhit_singlecmd_features.txt', header=None, delimiter=',',\n",
    "                   converters={i:value for i in range(55)},\n",
    "                   names=header.split())\n",
    "\n",
    "df_frhit = df_frhit.astype(float)"
   ]
  },
  {
   "cell_type": "code",
   "execution_count": 8,
   "metadata": {
    "collapsed": false
   },
   "outputs": [
    {
     "data": {
      "text/html": [
       "<div>\n",
       "<table border=\"1\" class=\"dataframe\">\n",
       "  <thead>\n",
       "    <tr style=\"text-align: right;\">\n",
       "      <th></th>\n",
       "      <th>ft1</th>\n",
       "      <th>ft2</th>\n",
       "      <th>ft3</th>\n",
       "      <th>ft4</th>\n",
       "      <th>ft5</th>\n",
       "      <th>ft6</th>\n",
       "      <th>ft7</th>\n",
       "      <th>ft8</th>\n",
       "      <th>ft9</th>\n",
       "      <th>ft10</th>\n",
       "      <th>...</th>\n",
       "      <th>ft53</th>\n",
       "      <th>ft54</th>\n",
       "      <th>ft55</th>\n",
       "      <th>ft26</th>\n",
       "      <th>ft27</th>\n",
       "      <th>ft28</th>\n",
       "      <th>ft29</th>\n",
       "      <th>ft30</th>\n",
       "      <th>ft31</th>\n",
       "      <th>ft32</th>\n",
       "    </tr>\n",
       "  </thead>\n",
       "  <tbody>\n",
       "    <tr>\n",
       "      <th>0</th>\n",
       "      <td>2301.0</td>\n",
       "      <td>833.0</td>\n",
       "      <td>979.0</td>\n",
       "      <td>14.0</td>\n",
       "      <td>1428.0</td>\n",
       "      <td>503.0</td>\n",
       "      <td>132.0</td>\n",
       "      <td>631.0</td>\n",
       "      <td>628.0</td>\n",
       "      <td>160.0</td>\n",
       "      <td>...</td>\n",
       "      <td>89.0</td>\n",
       "      <td>1295.0</td>\n",
       "      <td>22.0</td>\n",
       "      <td>88.28</td>\n",
       "      <td>195.57</td>\n",
       "      <td>224.0</td>\n",
       "      <td>347.0</td>\n",
       "      <td>1492.0</td>\n",
       "      <td>13.0</td>\n",
       "      <td>558.0</td>\n",
       "    </tr>\n",
       "  </tbody>\n",
       "</table>\n",
       "<p>1 rows × 55 columns</p>\n",
       "</div>"
      ],
      "text/plain": [
       "      ft1    ft2    ft3   ft4     ft5    ft6    ft7    ft8    ft9   ft10  \\\n",
       "0  2301.0  833.0  979.0  14.0  1428.0  503.0  132.0  631.0  628.0  160.0   \n",
       "\n",
       "   ...    ft53    ft54  ft55   ft26    ft27   ft28   ft29    ft30  ft31   ft32  \n",
       "0  ...    89.0  1295.0  22.0  88.28  195.57  224.0  347.0  1492.0  13.0  558.0  \n",
       "\n",
       "[1 rows x 55 columns]"
      ]
     },
     "execution_count": 8,
     "metadata": {},
     "output_type": "execute_result"
    }
   ],
   "source": [
    "df_velvetH"
   ]
  },
  {
   "cell_type": "code",
   "execution_count": 9,
   "metadata": {
    "collapsed": false
   },
   "outputs": [
    {
     "data": {
      "text/html": [
       "<div>\n",
       "<table border=\"1\" class=\"dataframe\">\n",
       "  <thead>\n",
       "    <tr style=\"text-align: right;\">\n",
       "      <th></th>\n",
       "      <th>ft1</th>\n",
       "      <th>ft2</th>\n",
       "      <th>ft3</th>\n",
       "      <th>ft4</th>\n",
       "      <th>ft5</th>\n",
       "      <th>ft6</th>\n",
       "      <th>ft7</th>\n",
       "      <th>ft8</th>\n",
       "      <th>ft9</th>\n",
       "      <th>ft10</th>\n",
       "      <th>...</th>\n",
       "      <th>ft53</th>\n",
       "      <th>ft54</th>\n",
       "      <th>ft55</th>\n",
       "      <th>ft26</th>\n",
       "      <th>ft27</th>\n",
       "      <th>ft28</th>\n",
       "      <th>ft29</th>\n",
       "      <th>ft30</th>\n",
       "      <th>ft31</th>\n",
       "      <th>ft32</th>\n",
       "    </tr>\n",
       "  </thead>\n",
       "  <tbody>\n",
       "    <tr>\n",
       "      <th>0</th>\n",
       "      <td>9837.0</td>\n",
       "      <td>4069.0</td>\n",
       "      <td>3972.0</td>\n",
       "      <td>78.0</td>\n",
       "      <td>6043.0</td>\n",
       "      <td>2139.0</td>\n",
       "      <td>633.0</td>\n",
       "      <td>3149.0</td>\n",
       "      <td>2417.0</td>\n",
       "      <td>637.0</td>\n",
       "      <td>...</td>\n",
       "      <td>429.0</td>\n",
       "      <td>6062.0</td>\n",
       "      <td>298.0</td>\n",
       "      <td>349.07</td>\n",
       "      <td>777.61</td>\n",
       "      <td>1330.0</td>\n",
       "      <td>1353.0</td>\n",
       "      <td>6132.0</td>\n",
       "      <td>67.0</td>\n",
       "      <td>2616.0</td>\n",
       "    </tr>\n",
       "  </tbody>\n",
       "</table>\n",
       "<p>1 rows × 55 columns</p>\n",
       "</div>"
      ],
      "text/plain": [
       "      ft1     ft2     ft3   ft4     ft5     ft6    ft7     ft8     ft9   ft10  \\\n",
       "0  9837.0  4069.0  3972.0  78.0  6043.0  2139.0  633.0  3149.0  2417.0  637.0   \n",
       "\n",
       "    ...     ft53    ft54   ft55    ft26    ft27    ft28    ft29    ft30  ft31  \\\n",
       "0   ...    429.0  6062.0  298.0  349.07  777.61  1330.0  1353.0  6132.0  67.0   \n",
       "\n",
       "     ft32  \n",
       "0  2616.0  \n",
       "\n",
       "[1 rows x 55 columns]"
      ]
     },
     "execution_count": 9,
     "metadata": {},
     "output_type": "execute_result"
    }
   ],
   "source": [
    "df_velvetG"
   ]
  },
  {
   "cell_type": "code",
   "execution_count": 10,
   "metadata": {
    "collapsed": false
   },
   "outputs": [
    {
     "data": {
      "text/html": [
       "<div>\n",
       "<table border=\"1\" class=\"dataframe\">\n",
       "  <thead>\n",
       "    <tr style=\"text-align: right;\">\n",
       "      <th></th>\n",
       "      <th>ft1</th>\n",
       "      <th>ft2</th>\n",
       "      <th>ft3</th>\n",
       "      <th>ft4</th>\n",
       "      <th>ft5</th>\n",
       "      <th>ft6</th>\n",
       "      <th>ft7</th>\n",
       "      <th>ft8</th>\n",
       "      <th>ft9</th>\n",
       "      <th>ft10</th>\n",
       "      <th>...</th>\n",
       "      <th>ft53</th>\n",
       "      <th>ft54</th>\n",
       "      <th>ft55</th>\n",
       "      <th>ft26</th>\n",
       "      <th>ft27</th>\n",
       "      <th>ft28</th>\n",
       "      <th>ft29</th>\n",
       "      <th>ft30</th>\n",
       "      <th>ft31</th>\n",
       "      <th>ft32</th>\n",
       "    </tr>\n",
       "  </thead>\n",
       "  <tbody>\n",
       "    <tr>\n",
       "      <th>0</th>\n",
       "      <td>2984.0</td>\n",
       "      <td>1149.0</td>\n",
       "      <td>1350.0</td>\n",
       "      <td>1.0</td>\n",
       "      <td>1794.0</td>\n",
       "      <td>748.0</td>\n",
       "      <td>140.0</td>\n",
       "      <td>865.0</td>\n",
       "      <td>833.0</td>\n",
       "      <td>244.0</td>\n",
       "      <td>...</td>\n",
       "      <td>74.0</td>\n",
       "      <td>2087.0</td>\n",
       "      <td>3.0</td>\n",
       "      <td>83.41</td>\n",
       "      <td>197.65</td>\n",
       "      <td>669.0</td>\n",
       "      <td>230.0</td>\n",
       "      <td>1783.0</td>\n",
       "      <td>26.0</td>\n",
       "      <td>873.0</td>\n",
       "    </tr>\n",
       "  </tbody>\n",
       "</table>\n",
       "<p>1 rows × 55 columns</p>\n",
       "</div>"
      ],
      "text/plain": [
       "      ft1     ft2     ft3  ft4     ft5    ft6    ft7    ft8    ft9   ft10  \\\n",
       "0  2984.0  1149.0  1350.0  1.0  1794.0  748.0  140.0  865.0  833.0  244.0   \n",
       "\n",
       "   ...    ft53    ft54  ft55   ft26    ft27   ft28   ft29    ft30  ft31   ft32  \n",
       "0  ...    74.0  2087.0   3.0  83.41  197.65  669.0  230.0  1783.0  26.0  873.0  \n",
       "\n",
       "[1 rows x 55 columns]"
      ]
     },
     "execution_count": 10,
     "metadata": {},
     "output_type": "execute_result"
    }
   ],
   "source": [
    "df_cdhitdup"
   ]
  },
  {
   "cell_type": "code",
   "execution_count": 11,
   "metadata": {
    "collapsed": false
   },
   "outputs": [
    {
     "data": {
      "text/html": [
       "<div>\n",
       "<table border=\"1\" class=\"dataframe\">\n",
       "  <thead>\n",
       "    <tr style=\"text-align: right;\">\n",
       "      <th></th>\n",
       "      <th>ft1</th>\n",
       "      <th>ft2</th>\n",
       "      <th>ft3</th>\n",
       "      <th>ft4</th>\n",
       "      <th>ft5</th>\n",
       "      <th>ft6</th>\n",
       "      <th>ft7</th>\n",
       "      <th>ft8</th>\n",
       "      <th>ft9</th>\n",
       "      <th>ft10</th>\n",
       "      <th>...</th>\n",
       "      <th>ft53</th>\n",
       "      <th>ft54</th>\n",
       "      <th>ft55</th>\n",
       "      <th>ft26</th>\n",
       "      <th>ft27</th>\n",
       "      <th>ft28</th>\n",
       "      <th>ft29</th>\n",
       "      <th>ft30</th>\n",
       "      <th>ft31</th>\n",
       "      <th>ft32</th>\n",
       "    </tr>\n",
       "  </thead>\n",
       "  <tbody>\n",
       "    <tr>\n",
       "      <th>0</th>\n",
       "      <td>2286.0</td>\n",
       "      <td>985.0</td>\n",
       "      <td>973.0</td>\n",
       "      <td>24.0</td>\n",
       "      <td>1436.0</td>\n",
       "      <td>577.0</td>\n",
       "      <td>113.0</td>\n",
       "      <td>778.0</td>\n",
       "      <td>543.0</td>\n",
       "      <td>166.0</td>\n",
       "      <td>...</td>\n",
       "      <td>104.0</td>\n",
       "      <td>2007.0</td>\n",
       "      <td>5.0</td>\n",
       "      <td>126.11</td>\n",
       "      <td>152.59</td>\n",
       "      <td>223.0</td>\n",
       "      <td>458.0</td>\n",
       "      <td>1445.0</td>\n",
       "      <td>0.0</td>\n",
       "      <td>681.0</td>\n",
       "    </tr>\n",
       "  </tbody>\n",
       "</table>\n",
       "<p>1 rows × 55 columns</p>\n",
       "</div>"
      ],
      "text/plain": [
       "      ft1    ft2    ft3   ft4     ft5    ft6    ft7    ft8    ft9   ft10  \\\n",
       "0  2286.0  985.0  973.0  24.0  1436.0  577.0  113.0  778.0  543.0  166.0   \n",
       "\n",
       "   ...     ft53    ft54  ft55    ft26    ft27   ft28   ft29    ft30  ft31  \\\n",
       "0  ...    104.0  2007.0   5.0  126.11  152.59  223.0  458.0  1445.0   0.0   \n",
       "\n",
       "    ft32  \n",
       "0  681.0  \n",
       "\n",
       "[1 rows x 55 columns]"
      ]
     },
     "execution_count": 11,
     "metadata": {},
     "output_type": "execute_result"
    }
   ],
   "source": [
    "df_frhit"
   ]
  },
  {
   "cell_type": "code",
   "execution_count": null,
   "metadata": {
    "collapsed": true
   },
   "outputs": [],
   "source": []
  }
 ],
 "metadata": {
  "anaconda-cloud": {},
  "kernelspec": {
   "display_name": "Python [Root]",
   "language": "python",
   "name": "Python [Root]"
  },
  "language_info": {
   "codemirror_mode": {
    "name": "ipython",
    "version": 3
   },
   "file_extension": ".py",
   "mimetype": "text/x-python",
   "name": "python",
   "nbconvert_exporter": "python",
   "pygments_lexer": "ipython3",
   "version": "3.5.1"
  }
 },
 "nbformat": 4,
 "nbformat_minor": 0
}
