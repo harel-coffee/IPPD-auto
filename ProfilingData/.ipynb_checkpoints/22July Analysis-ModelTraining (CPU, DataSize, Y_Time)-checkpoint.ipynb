{
 "cells": [
  {
   "cell_type": "code",
   "execution_count": 1,
   "metadata": {
    "collapsed": true
   },
   "outputs": [],
   "source": [
    "# (CPU, DataSize, Y=Time)\n",
    "import pandas as pd"
   ]
  },
  {
   "cell_type": "code",
   "execution_count": 4,
   "metadata": {
    "collapsed": false
   },
   "outputs": [],
   "source": [
    "df = pd.read_csv(\"testing_22July_dup.csv\", sep=\",\") #data from 22July2016 \n",
    "# copy the 'dup' folder to ~/ProfilingData/.\n",
    "# remove *Output* files \n",
    "# run \"python extract.py dup/\" to generate testing.csv"
   ]
  },
  {
   "cell_type": "code",
   "execution_count": 5,
   "metadata": {
    "collapsed": false
   },
   "outputs": [
    {
     "data": {
      "text/plain": [
       "32"
      ]
     },
     "execution_count": 5,
     "metadata": {},
     "output_type": "execute_result"
    }
   ],
   "source": [
    "len(df)"
   ]
  },
  {
   "cell_type": "code",
   "execution_count": 6,
   "metadata": {
    "collapsed": false
   },
   "outputs": [
    {
     "data": {
      "text/html": [
       "<div>\n",
       "<table border=\"1\" class=\"dataframe\">\n",
       "  <thead>\n",
       "    <tr style=\"text-align: right;\">\n",
       "      <th></th>\n",
       "      <th>ppn</th>\n",
       "      <th>mem</th>\n",
       "      <th>seqlen</th>\n",
       "      <th>trial</th>\n",
       "      <th>AvgRSS</th>\n",
       "      <th>AvgSharedTxt</th>\n",
       "      <th>AvgStack</th>\n",
       "      <th>AvgTotal</th>\n",
       "      <th>AvgUnsharedData</th>\n",
       "      <th>CommandTimed</th>\n",
       "      <th>...</th>\n",
       "      <th>PageSize</th>\n",
       "      <th>PercentCPU</th>\n",
       "      <th>SignalsDeliv</th>\n",
       "      <th>SocketMsgRecv</th>\n",
       "      <th>SocketMsgSent</th>\n",
       "      <th>Swaps</th>\n",
       "      <th>SystemTime</th>\n",
       "      <th>UserTime</th>\n",
       "      <th>VolCtxtSwitch</th>\n",
       "      <th>WallTime</th>\n",
       "    </tr>\n",
       "  </thead>\n",
       "  <tbody>\n",
       "    <tr>\n",
       "      <th>0</th>\n",
       "      <td>11</td>\n",
       "      <td>64G</td>\n",
       "      <td>10M</td>\n",
       "      <td>1</td>\n",
       "      <td>0</td>\n",
       "      <td>0</td>\n",
       "      <td>0</td>\n",
       "      <td>0</td>\n",
       "      <td>0</td>\n",
       "      <td>./NGS-ann-program/BIN/cd-hit-dup -i ./data/no-...</td>\n",
       "      <td>...</td>\n",
       "      <td>4096</td>\n",
       "      <td>99%</td>\n",
       "      <td>0</td>\n",
       "      <td>0</td>\n",
       "      <td>0</td>\n",
       "      <td>0</td>\n",
       "      <td>3.5</td>\n",
       "      <td>42.32</td>\n",
       "      <td>1072</td>\n",
       "      <td>0:45.97</td>\n",
       "    </tr>\n",
       "  </tbody>\n",
       "</table>\n",
       "<p>1 rows × 27 columns</p>\n",
       "</div>"
      ],
      "text/plain": [
       "   ppn  mem seqlen  trial  AvgRSS  AvgSharedTxt  AvgStack  AvgTotal  \\\n",
       "0   11  64G    10M      1       0             0         0         0   \n",
       "\n",
       "   AvgUnsharedData                                       CommandTimed  \\\n",
       "0                0  ./NGS-ann-program/BIN/cd-hit-dup -i ./data/no-...   \n",
       "\n",
       "     ...     PageSize  PercentCPU  SignalsDeliv  SocketMsgRecv  SocketMsgSent  \\\n",
       "0    ...         4096         99%             0              0              0   \n",
       "\n",
       "   Swaps  SystemTime  UserTime VolCtxtSwitch  WallTime  \n",
       "0      0         3.5     42.32          1072   0:45.97  \n",
       "\n",
       "[1 rows x 27 columns]"
      ]
     },
     "execution_count": 6,
     "metadata": {},
     "output_type": "execute_result"
    }
   ],
   "source": [
    "df.head(n=1)"
   ]
  },
  {
   "cell_type": "code",
   "execution_count": 7,
   "metadata": {
    "collapsed": false
   },
   "outputs": [
    {
     "name": "stdout",
     "output_type": "stream",
     "text": [
      "0 0 0 0 0\n"
     ]
    }
   ],
   "source": [
    "#find which columns are completely empty\n",
    "a=len(df[df['AvgRSS'] > 0])\n",
    "b=len(df[df['AvgSharedTxt'] > 0])\n",
    "c=len(df[df['AvgStack'] > 0])\n",
    "d=len(df[df['AvgTotal'] > 0])\n",
    "e=len(df[df['AvgUnsharedData'] > 0])\n",
    "\n",
    "print(a,b,c,d,e)"
   ]
  },
  {
   "cell_type": "code",
   "execution_count": 8,
   "metadata": {
    "collapsed": false
   },
   "outputs": [],
   "source": [
    "header = list(df.columns)"
   ]
  },
  {
   "cell_type": "code",
   "execution_count": 9,
   "metadata": {
    "collapsed": false
   },
   "outputs": [
    {
     "name": "stdout",
     "output_type": "stream",
     "text": [
      "32 ppn\n",
      "......................mem not a scalar\n",
      "......................seqlen not a scalar\n",
      "32 trial\n",
      "0 AvgRSS\n",
      "0 AvgSharedTxt\n",
      "0 AvgStack\n",
      "0 AvgTotal\n",
      "0 AvgUnsharedData\n",
      "......................CommandTimed not a scalar\n",
      "0 ExitStatus\n",
      "32 FileSysIn\n",
      "32 FileSysOut\n",
      "32 InvolCtxtSwitch\n",
      "32 MajorFaults\n",
      "32 MaxRSS\n",
      "32 MinorFaults\n",
      "32 PageSize\n",
      "......................PercentCPU not a scalar\n",
      "0 SignalsDeliv\n",
      "0 SocketMsgRecv\n",
      "0 SocketMsgSent\n",
      "0 Swaps\n",
      "32 SystemTime\n",
      "32 UserTime\n",
      "32 VolCtxtSwitch\n",
      "......................WallTime not a scalar\n"
     ]
    }
   ],
   "source": [
    "i = 1\n",
    "a = 0\n",
    "emptyColumns = []\n",
    "for h in header:\n",
    "    try:\n",
    "        a=len(df[df[h] > 0])\n",
    "        print(a,  h)\n",
    "        if(a==0): #nothing is greater than zero for this column\n",
    "            emptyColumns.append(h)\n",
    "    except:\n",
    "        print('......................'+ h +' not a scalar')\n",
    "    i=i+1"
   ]
  },
  {
   "cell_type": "code",
   "execution_count": 10,
   "metadata": {
    "collapsed": false
   },
   "outputs": [],
   "source": [
    "emptyColumns.append('trial')\n",
    "emptyColumns.append('PageSize')\n",
    "emptyColumns.append('CommandTimed')\n",
    "emptyColumns.append('WallTime')"
   ]
  },
  {
   "cell_type": "code",
   "execution_count": 11,
   "metadata": {
    "collapsed": false
   },
   "outputs": [],
   "source": [
    "for c in emptyColumns:\n",
    "    del df[c]"
   ]
  },
  {
   "cell_type": "code",
   "execution_count": 12,
   "metadata": {
    "collapsed": false
   },
   "outputs": [
    {
     "data": {
      "text/html": [
       "<div>\n",
       "<table border=\"1\" class=\"dataframe\">\n",
       "  <thead>\n",
       "    <tr style=\"text-align: right;\">\n",
       "      <th></th>\n",
       "      <th>ppn</th>\n",
       "      <th>mem</th>\n",
       "      <th>seqlen</th>\n",
       "      <th>FileSysIn</th>\n",
       "      <th>FileSysOut</th>\n",
       "      <th>InvolCtxtSwitch</th>\n",
       "      <th>MajorFaults</th>\n",
       "      <th>MaxRSS</th>\n",
       "      <th>MinorFaults</th>\n",
       "      <th>PercentCPU</th>\n",
       "      <th>SystemTime</th>\n",
       "      <th>UserTime</th>\n",
       "      <th>VolCtxtSwitch</th>\n",
       "    </tr>\n",
       "  </thead>\n",
       "  <tbody>\n",
       "    <tr>\n",
       "      <th>0</th>\n",
       "      <td>11</td>\n",
       "      <td>64G</td>\n",
       "      <td>10M</td>\n",
       "      <td>3234924</td>\n",
       "      <td>2179426</td>\n",
       "      <td>212</td>\n",
       "      <td>3</td>\n",
       "      <td>6544812</td>\n",
       "      <td>1388550</td>\n",
       "      <td>99%</td>\n",
       "      <td>3.5</td>\n",
       "      <td>42.32</td>\n",
       "      <td>1072</td>\n",
       "    </tr>\n",
       "  </tbody>\n",
       "</table>\n",
       "</div>"
      ],
      "text/plain": [
       "   ppn  mem seqlen  FileSysIn  FileSysOut  InvolCtxtSwitch  MajorFaults  \\\n",
       "0   11  64G    10M    3234924     2179426              212            3   \n",
       "\n",
       "    MaxRSS  MinorFaults PercentCPU  SystemTime  UserTime  VolCtxtSwitch  \n",
       "0  6544812      1388550        99%         3.5     42.32           1072  "
      ]
     },
     "execution_count": 12,
     "metadata": {},
     "output_type": "execute_result"
    }
   ],
   "source": [
    "df.head(1)"
   ]
  },
  {
   "cell_type": "code",
   "execution_count": 13,
   "metadata": {
    "collapsed": false
   },
   "outputs": [],
   "source": [
    "ft = df.copy(deep=True)"
   ]
  },
  {
   "cell_type": "code",
   "execution_count": 14,
   "metadata": {
    "collapsed": false
   },
   "outputs": [
    {
     "data": {
      "text/plain": [
       "['FileSysIn',\n",
       " 'VolCtxtSwitch',\n",
       " 'FileSysOut',\n",
       " 'mem',\n",
       " 'InvolCtxtSwitch',\n",
       " 'MinorFaults',\n",
       " 'MaxRSS',\n",
       " 'PercentCPU',\n",
       " 'MajorFaults']"
      ]
     },
     "execution_count": 14,
     "metadata": {},
     "output_type": "execute_result"
    }
   ],
   "source": [
    "delthis = list(set(ft.columns.values) - set(['ppn','seqlen','SystemTime','UserTime']))\n",
    "delthis"
   ]
  },
  {
   "cell_type": "code",
   "execution_count": 15,
   "metadata": {
    "collapsed": false
   },
   "outputs": [],
   "source": [
    "for c in delthis:\n",
    "    del ft[c]"
   ]
  },
  {
   "cell_type": "code",
   "execution_count": 16,
   "metadata": {
    "collapsed": false
   },
   "outputs": [
    {
     "data": {
      "text/plain": [
       "32"
      ]
     },
     "execution_count": 16,
     "metadata": {},
     "output_type": "execute_result"
    }
   ],
   "source": [
    "#DROP the lines which are NULL\n",
    "#df = df[df.CommandTimed.notnull()]\n",
    "len(df)"
   ]
  },
  {
   "cell_type": "code",
   "execution_count": 17,
   "metadata": {
    "collapsed": true
   },
   "outputs": [],
   "source": [
    "whatisthesize = {'5M': .54, '10M': 1.2,'15M': 1.7,'20M': 2.3,'25M': 2.9,'30M': 3.4,'35M': 4.0,'40M': 4.5}"
   ]
  },
  {
   "cell_type": "code",
   "execution_count": 18,
   "metadata": {
    "collapsed": true
   },
   "outputs": [],
   "source": [
    "ft['sizeGB'] = ft['seqlen'].map(whatisthesize)"
   ]
  },
  {
   "cell_type": "code",
   "execution_count": 19,
   "metadata": {
    "collapsed": false
   },
   "outputs": [
    {
     "data": {
      "text/html": [
       "<div>\n",
       "<table border=\"1\" class=\"dataframe\">\n",
       "  <thead>\n",
       "    <tr style=\"text-align: right;\">\n",
       "      <th></th>\n",
       "      <th>ppn</th>\n",
       "      <th>SystemTime</th>\n",
       "      <th>UserTime</th>\n",
       "      <th>sizeGB</th>\n",
       "    </tr>\n",
       "  </thead>\n",
       "  <tbody>\n",
       "    <tr>\n",
       "      <th>0</th>\n",
       "      <td>11</td>\n",
       "      <td>3.50</td>\n",
       "      <td>42.32</td>\n",
       "      <td>1.2</td>\n",
       "    </tr>\n",
       "    <tr>\n",
       "      <th>1</th>\n",
       "      <td>11</td>\n",
       "      <td>5.43</td>\n",
       "      <td>62.54</td>\n",
       "      <td>1.7</td>\n",
       "    </tr>\n",
       "  </tbody>\n",
       "</table>\n",
       "</div>"
      ],
      "text/plain": [
       "   ppn  SystemTime  UserTime  sizeGB\n",
       "0   11        3.50     42.32     1.2\n",
       "1   11        5.43     62.54     1.7"
      ]
     },
     "execution_count": 19,
     "metadata": {},
     "output_type": "execute_result"
    }
   ],
   "source": [
    "del ft['seqlen']\n",
    "ft.head(2)"
   ]
  },
  {
   "cell_type": "code",
   "execution_count": 20,
   "metadata": {
    "collapsed": false
   },
   "outputs": [
    {
     "data": {
      "text/html": [
       "<div>\n",
       "<table border=\"1\" class=\"dataframe\">\n",
       "  <thead>\n",
       "    <tr style=\"text-align: right;\">\n",
       "      <th></th>\n",
       "      <th>ppn</th>\n",
       "      <th>sizeGB</th>\n",
       "      <th>Y_time</th>\n",
       "    </tr>\n",
       "  </thead>\n",
       "  <tbody>\n",
       "    <tr>\n",
       "      <th>0</th>\n",
       "      <td>11</td>\n",
       "      <td>1.2</td>\n",
       "      <td>45.82</td>\n",
       "    </tr>\n",
       "    <tr>\n",
       "      <th>1</th>\n",
       "      <td>11</td>\n",
       "      <td>1.7</td>\n",
       "      <td>67.97</td>\n",
       "    </tr>\n",
       "    <tr>\n",
       "      <th>2</th>\n",
       "      <td>11</td>\n",
       "      <td>2.3</td>\n",
       "      <td>98.47</td>\n",
       "    </tr>\n",
       "    <tr>\n",
       "      <th>3</th>\n",
       "      <td>11</td>\n",
       "      <td>2.9</td>\n",
       "      <td>120.44</td>\n",
       "    </tr>\n",
       "    <tr>\n",
       "      <th>4</th>\n",
       "      <td>11</td>\n",
       "      <td>3.4</td>\n",
       "      <td>141.66</td>\n",
       "    </tr>\n",
       "  </tbody>\n",
       "</table>\n",
       "</div>"
      ],
      "text/plain": [
       "   ppn  sizeGB  Y_time\n",
       "0   11     1.2   45.82\n",
       "1   11     1.7   67.97\n",
       "2   11     2.3   98.47\n",
       "3   11     2.9  120.44\n",
       "4   11     3.4  141.66"
      ]
     },
     "execution_count": 20,
     "metadata": {},
     "output_type": "execute_result"
    }
   ],
   "source": [
    "ft['Y_time']=ft['SystemTime']+ft['UserTime']\n",
    "del ft['SystemTime']\n",
    "del ft['UserTime']\n",
    "ft.head()"
   ]
  },
  {
   "cell_type": "markdown",
   "metadata": {},
   "source": [
    "### Write to CSV"
   ]
  },
  {
   "cell_type": "code",
   "execution_count": 24,
   "metadata": {
    "collapsed": false
   },
   "outputs": [],
   "source": [
    "df.to_csv('22July_dup_ppn_sizeGB_Ttime.csv')"
   ]
  },
  {
   "cell_type": "code",
   "execution_count": 21,
   "metadata": {
    "collapsed": true
   },
   "outputs": [],
   "source": [
    "from sklearn.ensemble.forest import RandomForestRegressor\n",
    "import numpy as  np"
   ]
  },
  {
   "cell_type": "code",
   "execution_count": 65,
   "metadata": {
    "collapsed": true
   },
   "outputs": [],
   "source": [
    "model = RandomForestRegressor(n_estimators=100, n_jobs=-1)"
   ]
  },
  {
   "cell_type": "code",
   "execution_count": 66,
   "metadata": {
    "collapsed": false
   },
   "outputs": [
    {
     "data": {
      "text/plain": [
       "0.65625"
      ]
     },
     "execution_count": 66,
     "metadata": {},
     "output_type": "execute_result"
    }
   ],
   "source": [
    "np.random.seed()\n",
    "ft['is_train']=np.random.uniform(0,1,len(ft)) <= .70\n",
    "train, test = ft[ft['is_train']==True], ft[ft['is_train']==False]\n",
    "del ft['is_train']\n",
    "len(train)*1.0 / (len(test)+len(train))"
   ]
  },
  {
   "cell_type": "code",
   "execution_count": 67,
   "metadata": {
    "collapsed": false
   },
   "outputs": [
    {
     "data": {
      "text/plain": [
       "Index(['ppn', 'sizeGB'], dtype='object')"
      ]
     },
     "execution_count": 67,
     "metadata": {},
     "output_type": "execute_result"
    }
   ],
   "source": [
    "ft.columns[0:2]"
   ]
  },
  {
   "cell_type": "code",
   "execution_count": 68,
   "metadata": {
    "collapsed": false
   },
   "outputs": [
    {
     "data": {
      "text/plain": [
       "RandomForestRegressor(bootstrap=True, criterion='mse', max_depth=None,\n",
       "           max_features='auto', max_leaf_nodes=None, min_samples_leaf=1,\n",
       "           min_samples_split=2, min_weight_fraction_leaf=0.0,\n",
       "           n_estimators=100, n_jobs=-1, oob_score=False, random_state=None,\n",
       "           verbose=0, warm_start=False)"
      ]
     },
     "execution_count": 68,
     "metadata": {},
     "output_type": "execute_result"
    }
   ],
   "source": [
    "features = ft.columns[0:2]\n",
    "target = ft.columns[2]\n",
    "model.fit(train[features], train[target].values)"
   ]
  },
  {
   "cell_type": "code",
   "execution_count": 69,
   "metadata": {
    "collapsed": true
   },
   "outputs": [],
   "source": [
    "Y_prediction = model.predict(test[features])\n",
    "Y_test = test[target].as_matrix()"
   ]
  },
  {
   "cell_type": "code",
   "execution_count": 70,
   "metadata": {
    "collapsed": false
   },
   "outputs": [
    {
     "data": {
      "text/plain": [
       "array([  67.97,  120.44,   21.58,   68.75,   68.63,  164.88,   45.94,\n",
       "         67.96,   97.83,  173.64,  203.98])"
      ]
     },
     "execution_count": 70,
     "metadata": {},
     "output_type": "execute_result"
    }
   ],
   "source": [
    "Y_test #Print Y values of test dataset"
   ]
  },
  {
   "cell_type": "code",
   "execution_count": 71,
   "metadata": {
    "collapsed": false
   },
   "outputs": [
    {
     "data": {
      "text/plain": [
       "array([  49.8345,  121.2901,   24.5776,   48.6074,   49.2086,  172.9031,\n",
       "         43.527 ,   49.1175,  100.082 ,  170.7392,  202.2892])"
      ]
     },
     "execution_count": 71,
     "metadata": {},
     "output_type": "execute_result"
    }
   ],
   "source": [
    "Y_prediction #Print Y predicted values of test dataset"
   ]
  },
  {
   "cell_type": "code",
   "execution_count": 72,
   "metadata": {
    "collapsed": false
   },
   "outputs": [
    {
     "data": {
      "text/plain": [
       "0.95396111804519701"
      ]
     },
     "execution_count": 72,
     "metadata": {},
     "output_type": "execute_result"
    }
   ],
   "source": [
    "model.score(test[features], test[target]) #which score is this ?"
   ]
  },
  {
   "cell_type": "code",
   "execution_count": 73,
   "metadata": {
    "collapsed": false
   },
   "outputs": [],
   "source": [
    "from sklearn import cross_validation\n",
    "scores = cross_validation.cross_val_score(model, ft[features], ft[target], cv=10,scoring='mean_squared_error')"
   ]
  },
  {
   "cell_type": "code",
   "execution_count": 74,
   "metadata": {
    "collapsed": false
   },
   "outputs": [
    {
     "data": {
      "text/plain": [
       "array([ -3.4004424 , -23.54217441,  -0.70157276,  -7.68381703,\n",
       "        -3.75723457,  -2.27178673, -10.69832014,  -3.20302937,\n",
       "        -4.0556477 , -22.32298195])"
      ]
     },
     "execution_count": 74,
     "metadata": {},
     "output_type": "execute_result"
    }
   ],
   "source": [
    "scores"
   ]
  },
  {
   "cell_type": "code",
   "execution_count": 75,
   "metadata": {
    "collapsed": false
   },
   "outputs": [
    {
     "name": "stdout",
     "output_type": "stream",
     "text": [
      "Accuracy: -8.16 (+/- 15.72)\n"
     ]
    }
   ],
   "source": [
    "print(\"Accuracy: %0.2f (+/- %0.2f)\" % (scores.mean(), scores.std() * 2))"
   ]
  },
  {
   "cell_type": "code",
   "execution_count": 76,
   "metadata": {
    "collapsed": false
   },
   "outputs": [
    {
     "data": {
      "text/plain": [
       "(108.51031250000001, 118.18468799728724)"
      ]
     },
     "execution_count": 76,
     "metadata": {},
     "output_type": "execute_result"
    }
   ],
   "source": [
    "ft[target].mean(), ft[target].std() * 2"
   ]
  },
  {
   "cell_type": "code",
   "execution_count": 77,
   "metadata": {
    "collapsed": false
   },
   "outputs": [
    {
     "name": "stdout",
     "output_type": "stream",
     "text": [
      "Accuracy: 0.99 (+/- 0.01)\n"
     ]
    }
   ],
   "source": [
    "scores = cross_validation.cross_val_score(model, ft[features], ft[target], cv=10,scoring='r2')\n",
    "print(\"Accuracy: %0.2f (+/- %0.2f)\" % (scores.mean(), scores.std() * 2))"
   ]
  }
 ],
 "metadata": {
  "anaconda-cloud": {},
  "kernelspec": {
   "display_name": "Python [Root]",
   "language": "python",
   "name": "Python [Root]"
  },
  "language_info": {
   "codemirror_mode": {
    "name": "ipython",
    "version": 3
   },
   "file_extension": ".py",
   "mimetype": "text/x-python",
   "name": "python",
   "nbconvert_exporter": "python",
   "pygments_lexer": "ipython3",
   "version": "3.5.1"
  }
 },
 "nbformat": 4,
 "nbformat_minor": 0
}
